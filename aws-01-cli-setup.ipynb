{
 "cells": [
  {
   "cell_type": "markdown",
   "metadata": {
    "lc_cell_meme": {
     "current": "22998f18-14c9-11ea-8ffe-0242ac110002",
     "execution_end_time": "2020-02-14T09:23:58.244281Z",
     "history": [
      {
       "current": "22998f18-14c9-11ea-8ffe-0242ac110002",
       "next": "22998ffe-14c9-11ea-8ffe-0242ac110002",
       "previous": null
      },
      {
       "current": "22998f18-14c9-11ea-8ffe-0242ac110002",
       "next": "bb0ffbca-4f0b-11ea-af7f-0242ac120004",
       "previous": null
      }
     ],
     "next": "bb0ffe7c-4f0b-11ea-af7f-0242ac120004",
     "previous": null
    },
    "lc_wrapper": {
     "log_history": [
      "/home/user2/notebooks/200130/aws_notebook/.log/20200214/20200214-092358-0238.log"
     ]
    }
   },
   "source": [
    "# 初期設定\n",
    "## AWS CLIのインストール"
   ]
  },
  {
   "cell_type": "code",
   "execution_count": 2,
   "metadata": {
    "deletable": false,
    "editable": false,
    "lc_cell_meme": {
     "current": "bb0ffe7c-4f0b-11ea-af7f-0242ac120004",
     "execution_end_time": "2020-02-14T09:23:48.826830Z",
     "history": [
      {
       "current": "bb0ffe7c-4f0b-11ea-af7f-0242ac120004",
       "next": "bb0fff62-4f0b-11ea-af7f-0242ac120004",
       "previous": "bb0ffbca-4f0b-11ea-af7f-0242ac120004"
      }
     ],
     "next": "bb0fff62-4f0b-11ea-af7f-0242ac120004",
     "previous": "22998f18-14c9-11ea-8ffe-0242ac110002"
    },
    "lc_wrapper": {
     "log_history": [
      "/home/user2/notebooks/200130/aws_notebook/.log/20200214/20200214-092333-0943.log",
      "/home/user2/notebooks/200130/aws_notebook/.log/20200214/20200214-092337-0792.log"
     ]
    },
    "run_through_control": {
     "frozen": true
    }
   },
   "outputs": [
    {
     "name": "stdout",
     "output_type": "stream",
     "text": [
      "Collecting awscli\n",
      "\u001b[?25l  Downloading https://files.pythonhosted.org/packages/4d/83/d14bfe99e8930659da2b8b86eb4d2a47fd723ae1ec451040d123d2dc5754/awscli-1.17.17-py2.py3-none-any.whl (2.9MB)\n",
      "\u001b[K     |████████████████████████████████| 2.9MB 4.9MB/s eta 0:00:01\n",
      "\u001b[?25hRequirement already satisfied, skipping upgrade: PyYAML<5.3,>=3.10 in /opt/conda/lib/python3.7/site-packages (from awscli) (5.1.2)\n",
      "Collecting botocore==1.14.17\n",
      "\u001b[?25l  Downloading https://files.pythonhosted.org/packages/f2/bc/788364aeb7d969a38c9d2295f95f1315a2ef49163f9b71d06de8c5ef0754/botocore-1.14.17-py2.py3-none-any.whl (5.9MB)\n",
      "\u001b[K     |████████████████████████████████| 5.9MB 48.3MB/s eta 0:00:01��█████                   | 2.4MB 48.3MB/s eta 0:00:01ta 0:00:01�████████████████████ | 5.7MB 48.3MB/s eta 0:00:01\n",
      "\u001b[?25hRequirement already satisfied, skipping upgrade: s3transfer<0.4.0,>=0.3.0 in /opt/conda/lib/python3.7/site-packages (from awscli) (0.3.0)\n",
      "Requirement already satisfied, skipping upgrade: rsa<=3.5.0,>=3.1.2 in /home/user2/.local/lib/python3.7/site-packages (from awscli) (3.4.2)\n",
      "Requirement already satisfied, skipping upgrade: colorama<0.4.4,>=0.2.5; python_version != \"3.4\" in /home/user2/.local/lib/python3.7/site-packages (from awscli) (0.4.1)\n",
      "Requirement already satisfied, skipping upgrade: docutils<0.16,>=0.10 in /opt/conda/lib/python3.7/site-packages (from awscli) (0.15.2)\n",
      "Requirement already satisfied, skipping upgrade: urllib3<1.26,>=1.20; python_version != \"3.4\" in /opt/conda/lib/python3.7/site-packages (from botocore==1.14.17->awscli) (1.25.6)\n",
      "Requirement already satisfied, skipping upgrade: python-dateutil<3.0.0,>=2.1 in /opt/conda/lib/python3.7/site-packages (from botocore==1.14.17->awscli) (2.8.1)\n",
      "Requirement already satisfied, skipping upgrade: jmespath<1.0.0,>=0.7.1 in /opt/conda/lib/python3.7/site-packages (from botocore==1.14.17->awscli) (0.9.4)\n",
      "Requirement already satisfied, skipping upgrade: pyasn1>=0.1.3 in /opt/conda/lib/python3.7/site-packages (from rsa<=3.5.0,>=3.1.2->awscli) (0.4.8)\n",
      "Requirement already satisfied, skipping upgrade: six>=1.5 in /opt/conda/lib/python3.7/site-packages (from python-dateutil<3.0.0,>=2.1->botocore==1.14.17->awscli) (1.13.0)\n",
      "Installing collected packages: botocore, awscli\n",
      "  Found existing installation: botocore 1.13.48\n",
      "    Uninstalling botocore-1.13.48:\n",
      "      Successfully uninstalled botocore-1.13.48\n",
      "  Found existing installation: awscli 1.16.312\n",
      "    Uninstalling awscli-1.16.312:\n",
      "      Successfully uninstalled awscli-1.16.312\n",
      "Successfully installed awscli-1.17.17 botocore-1.14.17\n"
     ]
    }
   ],
   "source": [
    "!pip install awscli --upgrade --user"
   ]
  },
  {
   "cell_type": "markdown",
   "metadata": {
    "lc_cell_meme": {
     "current": "bb0fff62-4f0b-11ea-af7f-0242ac120004",
     "next": "22998ffe-14c9-11ea-8ffe-0242ac110002",
     "previous": "bb0ffe7c-4f0b-11ea-af7f-0242ac120004"
    }
   },
   "source": [
    "\n",
    "## 環境設定, 認証情報の設定"
   ]
  },
  {
   "cell_type": "code",
   "execution_count": 1,
   "metadata": {
    "deletable": false,
    "editable": false,
    "lc_cell_meme": {
     "current": "22998ffe-14c9-11ea-8ffe-0242ac110002",
     "execution_end_time": "2020-01-30T09:33:35.466823Z",
     "history": [
      {
       "current": "22998ffe-14c9-11ea-8ffe-0242ac110002",
       "next": "229990bc-14c9-11ea-8ffe-0242ac110002",
       "previous": "22998f18-14c9-11ea-8ffe-0242ac110002"
      }
     ],
     "next": "229990bc-14c9-11ea-8ffe-0242ac110002",
     "previous": "bb0fff62-4f0b-11ea-af7f-0242ac120004"
    },
    "lc_wrapper": {
     "log_history": [
      "/home/jovyan/work/lc4ri/.log/20191202/20191202-060019-0774.log",
      "/home/jovyan/work/lc4ri/.log/20191202/20191202-120105-0532.log",
      "/home/user5/notebooks/seminar-lc4ri/AWS/.log/20191207/20191207-122852-0264.log",
      "/home/user5/notebooks/seminar-lc4ri/AWS/.log/20191211/20191211-095845-0038.log",
      "/home/user5/notebooks/seminar-lc4ri/AWS/.log/20191211/20191211-120522-0397.log",
      "/home/user5/notebooks/seminar-lc4ri/AWS/.log/20191211/20191211-120718-0990.log",
      "/home/user5/notebooks/seminar-lc4ri/AWS/.log/20191218/20191218-115419-0907.log",
      "/home/user5/notebooks/seminar-lc4ri/AWS/.log/20191226/20191226-101138-0090.log",
      "/home/user5/notebooks/seminar-lc4ri/AWS/.log/20200101/20200101-121331-0643.log",
      "/home/user5/notebooks/seminar-lc4ri/AWS/.log/20200101/20200101-131859-0623.log",
      "/home/user5/notebooks/seminar-lc4ri/AWS/.log/20200108/20200108-094442-0864.log",
      "/home/user2/.log/20200115/20200115-093116-0752.log",
      "/home/user2/notebooks/AWS/.log/20200123/20200123-072517-0452.log",
      "/home/user5/notebooks/seminar-lc4ri/AWS/.log/20200123/20200123-095817-0926.log",
      "/home/user2/notebooks/AWS/.log/20200127/20200127-011009-0796.log",
      "/home/user2/notebooks/AWS/.log/20200127/20200127-011017-0646.log",
      "/home/user2/notebooks/AWS/.log/20200127/20200127-063811-0254.log",
      "/home/user2/notebooks/200130/aws_notebook/.log/20200130/20200130-093333-0854.log"
     ]
    },
    "run_through_control": {
     "frozen": true,
     "read_only": false
    }
   },
   "outputs": [
    {
     "name": "stdout",
     "output_type": "stream",
     "text": [
      "aws-cli/1.16.312 Python/3.7.3 Linux/3.10.0-1062.9.1.el7.x86_64 botocore/1.13.48\r\n"
     ]
    }
   ],
   "source": [
    "!aws --version"
   ]
  },
  {
   "cell_type": "markdown",
   "metadata": {
    "lc_cell_meme": {
     "current": "229990bc-14c9-11ea-8ffe-0242ac110002",
     "next": "22999166-14c9-11ea-8ffe-0242ac110002",
     "previous": "22998ffe-14c9-11ea-8ffe-0242ac110002"
    }
   },
   "source": [
    "リージョン設定"
   ]
  },
  {
   "cell_type": "code",
   "execution_count": 2,
   "metadata": {
    "deletable": false,
    "editable": false,
    "lc_cell_meme": {
     "current": "22999166-14c9-11ea-8ffe-0242ac110002",
     "execution_end_time": "2020-01-30T09:33:38.688812Z",
     "next": "2299921a-14c9-11ea-8ffe-0242ac110002",
     "previous": "229990bc-14c9-11ea-8ffe-0242ac110002"
    },
    "lc_wrapper": {
     "log_history": [
      "/home/jovyan/work/lc4ri/.log/20191202/20191202-060049-0085.log",
      "/home/jovyan/work/lc4ri/.log/20191202/20191202-120113-0352.log",
      "/home/user5/notebooks/seminar-lc4ri/AWS/.log/20191207/20191207-124006-0739.log",
      "/home/user5/notebooks/seminar-lc4ri/AWS/.log/20191211/20191211-095851-0219.log",
      "/home/user5/notebooks/seminar-lc4ri/AWS/.log/20191211/20191211-120721-0605.log",
      "/home/user5/notebooks/seminar-lc4ri/AWS/.log/20191218/20191218-115423-0939.log",
      "/home/user5/notebooks/seminar-lc4ri/AWS/.log/20191226/20191226-101141-0476.log",
      "/home/user5/notebooks/seminar-lc4ri/AWS/.log/20200101/20200101-121334-0654.log",
      "/home/user5/notebooks/seminar-lc4ri/AWS/.log/20200101/20200101-131901-0880.log",
      "/home/user5/notebooks/seminar-lc4ri/AWS/.log/20200108/20200108-094445-0178.log",
      "/home/user2/.log/20200115/20200115-093121-0893.log",
      "/home/user2/notebooks/AWS/.log/20200123/20200123-072520-0575.log",
      "/home/user5/notebooks/seminar-lc4ri/AWS/.log/20200123/20200123-095821-0944.log",
      "/home/user2/notebooks/AWS/.log/20200127/20200127-011020-0717.log",
      "/home/user2/notebooks/AWS/.log/20200127/20200127-015859-0374.log",
      "/home/user2/notebooks/AWS/.log/20200127/20200127-020051-0856.log",
      "/home/user2/notebooks/AWS/.log/20200127/20200127-063812-0742.log",
      "/home/user2/notebooks/200130/aws_notebook/.log/20200130/20200130-093335-0475.log"
     ]
    },
    "run_through_control": {
     "frozen": true,
     "read_only": false
    }
   },
   "outputs": [],
   "source": [
    "target_region = 'us-west-2'\n",
    "!aws configure set default.region {target_region}\n",
    "!aws configure set default.output json"
   ]
  },
  {
   "cell_type": "markdown",
   "metadata": {
    "lc_cell_meme": {
     "current": "2299921a-14c9-11ea-8ffe-0242ac110002",
     "history": [
      {
       "current": "2299921a-14c9-11ea-8ffe-0242ac110002",
       "next": null,
       "previous": "22999166-14c9-11ea-8ffe-0242ac110002"
      },
      {
       "current": "2299921a-14c9-11ea-8ffe-0242ac110002",
       "next": "6b0ede60-14c9-11ea-8ffe-0242ac110002",
       "previous": "22999166-14c9-11ea-8ffe-0242ac110002"
      },
      {
       "current": "2299921a-14c9-11ea-8ffe-0242ac110002",
       "next": "883551c6-14ca-11ea-8ffe-0242ac110002",
       "previous": "22999166-14c9-11ea-8ffe-0242ac110002"
      },
      {
       "current": "2299921a-14c9-11ea-8ffe-0242ac110002",
       "next": "0c731dcc-14d7-11ea-8ffe-0242ac110002",
       "previous": "22999166-14c9-11ea-8ffe-0242ac110002"
      },
      {
       "current": "2299921a-14c9-11ea-8ffe-0242ac110002",
       "next": null,
       "previous": "22999166-14c9-11ea-8ffe-0242ac110002"
      }
     ],
     "next": "5bd86dee-1bfe-11ea-8ec1-0242ac120005",
     "previous": "22999166-14c9-11ea-8ffe-0242ac110002"
    }
   },
   "source": [
    "terminalからAccessKeyIdとSecretAccessKeyの設定\n",
    "\n",
    "ws configure の実施例:\n",
    "\n",
    "$ aws configure\n",
    "\n",
    "AWS Access Key ID [None]: (自身のアカウントのアクセスキー)\n",
    "\n",
    "AWS Secret Access Key [None]: (自身のアカウントのシークレットアクセスキー)\n",
    "\n",
    "Default region name [us-west-2]: (Enter)\n",
    "\n",
    "Default output format [json]: (Enter)"
   ]
  },
  {
   "cell_type": "markdown",
   "metadata": {
    "lc_cell_meme": {
     "current": "5bd86dee-1bfe-11ea-8ec1-0242ac120005",
     "history": [
      {
       "current": "5bd86dee-1bfe-11ea-8ec1-0242ac120005",
       "next": "5bd87348-1bfe-11ea-8ec1-0242ac120005",
       "previous": "2299921a-14c9-11ea-8ffe-0242ac110002"
      }
     ],
     "next": "a35451ba-1bfe-11ea-8ec1-0242ac120005",
     "previous": "2299921a-14c9-11ea-8ffe-0242ac110002"
    }
   },
   "source": [
    "## EKSCTLのインストール"
   ]
  },
  {
   "cell_type": "markdown",
   "metadata": {
    "lc_cell_meme": {
     "current": "a35451ba-1bfe-11ea-8ec1-0242ac120005",
     "next": "5bd87348-1bfe-11ea-8ec1-0242ac120005",
     "previous": "5bd86dee-1bfe-11ea-8ec1-0242ac120005"
    }
   },
   "source": [
    "\n",
    "最新リリースをダウンロードして解凍します。"
   ]
  },
  {
   "cell_type": "code",
   "execution_count": 3,
   "metadata": {
    "deletable": false,
    "editable": false,
    "lc_cell_meme": {
     "current": "5bd87348-1bfe-11ea-8ec1-0242ac120005",
     "execution_end_time": "2020-01-30T09:33:41.324696Z",
     "history": [
      {
       "current": "5bd87348-1bfe-11ea-8ec1-0242ac120005",
       "next": null,
       "previous": "5bd86dee-1bfe-11ea-8ec1-0242ac120005"
      }
     ],
     "next": "a35454bc-1bfe-11ea-8ec1-0242ac120005",
     "previous": "a35451ba-1bfe-11ea-8ec1-0242ac120005"
    },
    "lc_wrapper": {
     "log_history": [
      "/home/user5/notebooks/seminar-lc4ri/AWS/.log/20191211/20191211-101031-0808.log",
      "/home/user5/notebooks/seminar-lc4ri/AWS/.log/20191211/20191211-120728-0376.log",
      "/home/user5/notebooks/seminar-lc4ri/AWS/.log/20191218/20191218-115430-0848.log",
      "/home/user5/notebooks/seminar-lc4ri/AWS/.log/20191226/20191226-101147-0686.log",
      "/home/user5/notebooks/seminar-lc4ri/AWS/.log/20200101/20200101-121340-0560.log",
      "/home/user5/notebooks/seminar-lc4ri/AWS/.log/20200101/20200101-131905-0918.log",
      "/home/user5/notebooks/seminar-lc4ri/AWS/.log/20200108/20200108-094452-0369.log",
      "/home/user2/.log/20200115/20200115-093128-0478.log",
      "/home/user2/notebooks/AWS/.log/20200123/20200123-072544-0067.log",
      "/home/user5/notebooks/seminar-lc4ri/AWS/.log/20200123/20200123-095827-0609.log",
      "/home/user2/notebooks/AWS/.log/20200127/20200127-011027-0008.log",
      "/home/user2/notebooks/AWS/.log/20200127/20200127-063815-0711.log",
      "/home/user2/notebooks/200130/aws_notebook/.log/20200130/20200130-093338-0698.log"
     ]
    },
    "run_through_control": {
     "frozen": true,
     "read_only": false
    }
   },
   "outputs": [],
   "source": [
    "!curl --silent --location \"https://github.com/weaveworks/eksctl/releases/download/latest_release/eksctl_$(uname -s)_amd64.tar.gz\" | tar xz -C /tmp"
   ]
  },
  {
   "cell_type": "markdown",
   "metadata": {
    "lc_cell_meme": {
     "current": "a35454bc-1bfe-11ea-8ec1-0242ac120005",
     "next": "a3545606-1bfe-11ea-8ec1-0242ac120005",
     "previous": "5bd87348-1bfe-11ea-8ec1-0242ac120005"
    }
   },
   "source": [
    "抽出したバイナリを /usr/local/bin に移動します。"
   ]
  },
  {
   "cell_type": "code",
   "execution_count": 4,
   "metadata": {
    "deletable": false,
    "editable": false,
    "lc_cell_meme": {
     "current": "a3545606-1bfe-11ea-8ec1-0242ac120005",
     "execution_end_time": "2020-01-30T09:33:42.313699Z",
     "next": "a3545714-1bfe-11ea-8ec1-0242ac120005",
     "previous": "a35454bc-1bfe-11ea-8ec1-0242ac120005"
    },
    "lc_wrapper": {
     "log_history": [
      "/home/user5/notebooks/seminar-lc4ri/AWS/.log/20191211/20191211-101059-0580.log",
      "/home/user5/notebooks/seminar-lc4ri/AWS/.log/20191211/20191211-120733-0351.log",
      "/home/user5/notebooks/seminar-lc4ri/AWS/.log/20191218/20191218-115434-0883.log",
      "/home/user5/notebooks/seminar-lc4ri/AWS/.log/20191226/20191226-101151-0698.log",
      "/home/user5/notebooks/seminar-lc4ri/AWS/.log/20200101/20200101-121344-0812.log",
      "/home/user5/notebooks/seminar-lc4ri/AWS/.log/20200101/20200101-131909-0439.log",
      "/home/user5/notebooks/seminar-lc4ri/AWS/.log/20200108/20200108-094456-0588.log",
      "/home/user2/.log/20200115/20200115-093131-0315.log",
      "/home/user2/notebooks/AWS/.log/20200123/20200123-072546-0880.log",
      "/home/user5/notebooks/seminar-lc4ri/AWS/.log/20200123/20200123-095831-0027.log",
      "/home/user2/notebooks/AWS/.log/20200127/20200127-011029-0681.log",
      "/home/user2/notebooks/AWS/.log/20200127/20200127-063818-0231.log",
      "/home/user2/notebooks/200130/aws_notebook/.log/20200130/20200130-093341-0333.log"
     ]
    },
    "run_through_control": {
     "frozen": true,
     "read_only": false
    }
   },
   "outputs": [],
   "source": [
    "!sudo mv /tmp/eksctl /usr/local/bin"
   ]
  },
  {
   "cell_type": "code",
   "execution_count": 5,
   "metadata": {
    "deletable": false,
    "editable": false,
    "lc_cell_meme": {
     "current": "a3545714-1bfe-11ea-8ec1-0242ac120005",
     "execution_end_time": "2020-01-30T09:33:43.332906Z",
     "next": "a3545818-1bfe-11ea-8ec1-0242ac120005",
     "previous": "a3545606-1bfe-11ea-8ec1-0242ac120005"
    },
    "lc_wrapper": {
     "log_history": [
      "/home/user5/notebooks/seminar-lc4ri/AWS/.log/20191211/20191211-101107-0431.log",
      "/home/user5/notebooks/seminar-lc4ri/AWS/.log/20191211/20191211-120710-0294.log",
      "/home/user5/notebooks/seminar-lc4ri/AWS/.log/20191211/20191211-120735-0172.log",
      "/home/user5/notebooks/seminar-lc4ri/AWS/.log/20191218/20191218-115436-0570.log",
      "/home/user5/notebooks/seminar-lc4ri/AWS/.log/20191226/20191226-101153-0437.log",
      "/home/user5/notebooks/seminar-lc4ri/AWS/.log/20200101/20200101-121347-0039.log",
      "/home/user5/notebooks/seminar-lc4ri/AWS/.log/20200101/20200101-131911-0025.log",
      "/home/user5/notebooks/seminar-lc4ri/AWS/.log/20200108/20200108-094458-0604.log",
      "/home/user2/.log/20200115/20200115-093132-0312.log",
      "/home/user2/notebooks/AWS/.log/20200123/20200123-072547-0852.log",
      "/home/user5/notebooks/seminar-lc4ri/AWS/.log/20200123/20200123-095832-0004.log",
      "/home/user2/notebooks/AWS/.log/20200127/20200127-011030-0649.log",
      "/home/user2/notebooks/AWS/.log/20200127/20200127-063819-0200.log",
      "/home/user2/notebooks/200130/aws_notebook/.log/20200130/20200130-093342-0321.log"
     ]
    },
    "run_through_control": {
     "frozen": true,
     "read_only": false
    }
   },
   "outputs": [
    {
     "name": "stdout",
     "output_type": "stream",
     "text": [
      "\u001b[36m[ℹ]  version.Info{BuiltAt:\"\", GitCommit:\"\", GitTag:\"0.13.0\"}\r\n",
      "\u001b[0m"
     ]
    }
   ],
   "source": [
    "!eksctl version"
   ]
  },
  {
   "cell_type": "markdown",
   "metadata": {
    "lc_cell_meme": {
     "current": "a3545818-1bfe-11ea-8ec1-0242ac120005",
     "next": "a3545912-1bfe-11ea-8ec1-0242ac120005",
     "previous": "a3545714-1bfe-11ea-8ec1-0242ac120005"
    }
   },
   "source": [
    "## kubectlのインストール"
   ]
  },
  {
   "cell_type": "code",
   "execution_count": 6,
   "metadata": {
    "deletable": false,
    "editable": false,
    "lc_cell_meme": {
     "current": "a3545912-1bfe-11ea-8ec1-0242ac120005",
     "execution_end_time": "2020-01-30T09:33:44.874795Z",
     "history": [
      {
       "current": "a3545912-1bfe-11ea-8ec1-0242ac120005",
       "next": null,
       "previous": "a3545818-1bfe-11ea-8ec1-0242ac120005"
      }
     ],
     "next": "eada8eb4-1bfe-11ea-8ec1-0242ac120005",
     "previous": "a3545818-1bfe-11ea-8ec1-0242ac120005"
    },
    "lc_wrapper": {
     "log_history": [
      "/home/user5/notebooks/seminar-lc4ri/AWS/.log/20191211/20191211-101152-0646.log",
      "/home/user5/notebooks/seminar-lc4ri/AWS/.log/20191211/20191211-120737-0207.log",
      "/home/user5/notebooks/seminar-lc4ri/AWS/.log/20191218/20191218-115439-0147.log",
      "/home/user5/notebooks/seminar-lc4ri/AWS/.log/20191226/20191226-101155-0465.log",
      "/home/user5/notebooks/seminar-lc4ri/AWS/.log/20200101/20200101-121403-0423.log",
      "/home/user5/notebooks/seminar-lc4ri/AWS/.log/20200101/20200101-131914-0558.log",
      "/home/user5/notebooks/seminar-lc4ri/AWS/.log/20200108/20200108-094501-0476.log",
      "/home/user2/.log/20200115/20200115-093133-0337.log",
      "/home/user2/.log/20200115/20200115-093138-0975.log",
      "/home/user2/notebooks/AWS/.log/20200123/20200123-072548-0841.log",
      "/home/user5/notebooks/seminar-lc4ri/AWS/.log/20200123/20200123-095834-0930.log",
      "/home/user2/notebooks/AWS/.log/20200127/20200127-011031-0647.log",
      "/home/user2/notebooks/AWS/.log/20200127/20200127-063820-0192.log",
      "/home/user2/notebooks/200130/aws_notebook/.log/20200130/20200130-093343-0341.log"
     ]
    },
    "run_through_control": {
     "frozen": true,
     "read_only": false
    }
   },
   "outputs": [
    {
     "name": "stdout",
     "output_type": "stream",
     "text": [
      "  % Total    % Received % Xferd  Average Speed   Time    Time     Time  Current\n",
      "                                 Dload  Upload   Total   Spent    Left  Speed\n",
      "100 41.0M  100 41.0M    0     0  73.4M      0 --:--:-- --:--:-- --:--:-- 73.4M\n"
     ]
    }
   ],
   "source": [
    "!curl -o kubectl https://amazon-eks.s3-us-west-2.amazonaws.com/1.14.6/2019-08-22/bin/linux/amd64/kubectl"
   ]
  },
  {
   "cell_type": "markdown",
   "metadata": {
    "lc_cell_meme": {
     "current": "eada8eb4-1bfe-11ea-8ec1-0242ac120005",
     "next": "eada9116-1bfe-11ea-8ec1-0242ac120005",
     "previous": "a3545912-1bfe-11ea-8ec1-0242ac120005"
    }
   },
   "source": [
    "バイナリへの実行アクセス権限を適用します。"
   ]
  },
  {
   "cell_type": "code",
   "execution_count": 7,
   "metadata": {
    "deletable": false,
    "editable": false,
    "lc_cell_meme": {
     "current": "eada9116-1bfe-11ea-8ec1-0242ac120005",
     "execution_end_time": "2020-01-30T09:33:45.843231Z",
     "next": "eada924c-1bfe-11ea-8ec1-0242ac120005",
     "previous": "eada8eb4-1bfe-11ea-8ec1-0242ac120005"
    },
    "lc_wrapper": {
     "log_history": [
      "/home/user5/notebooks/seminar-lc4ri/AWS/.log/20191211/20191211-101216-0701.log",
      "/home/user5/notebooks/seminar-lc4ri/AWS/.log/20191211/20191211-120739-0030.log",
      "/home/user5/notebooks/seminar-lc4ri/AWS/.log/20191218/20191218-115442-0072.log",
      "/home/user5/notebooks/seminar-lc4ri/AWS/.log/20191226/20191226-101159-0010.log",
      "/home/user5/notebooks/seminar-lc4ri/AWS/.log/20200101/20200101-121406-0355.log",
      "/home/user5/notebooks/seminar-lc4ri/AWS/.log/20200101/20200101-131916-0831.log",
      "/home/user5/notebooks/seminar-lc4ri/AWS/.log/20200108/20200108-094506-0765.log",
      "/home/user2/notebooks/AWS/.log/20200123/20200123-072550-0372.log",
      "/home/user5/notebooks/seminar-lc4ri/AWS/.log/20200123/20200123-095837-0089.log",
      "/home/user2/notebooks/AWS/.log/20200127/20200127-011033-0634.log",
      "/home/user2/notebooks/AWS/.log/20200127/20200127-063821-0696.log",
      "/home/user2/notebooks/200130/aws_notebook/.log/20200130/20200130-093344-0883.log"
     ]
    },
    "run_through_control": {
     "frozen": true,
     "read_only": false
    }
   },
   "outputs": [],
   "source": [
    "!chmod +x ./kubectl"
   ]
  },
  {
   "cell_type": "markdown",
   "metadata": {
    "lc_cell_meme": {
     "current": "eada924c-1bfe-11ea-8ec1-0242ac120005",
     "next": "eada9350-1bfe-11ea-8ec1-0242ac120005",
     "previous": "eada9116-1bfe-11ea-8ec1-0242ac120005"
    }
   },
   "source": [
    "バイナリを PATH のフォルダにコピーします"
   ]
  },
  {
   "cell_type": "code",
   "execution_count": 8,
   "metadata": {
    "deletable": false,
    "editable": false,
    "lc_cell_meme": {
     "current": "eada9350-1bfe-11ea-8ec1-0242ac120005",
     "execution_end_time": "2020-01-30T09:33:46.914263Z",
     "next": "eada944a-1bfe-11ea-8ec1-0242ac120005",
     "previous": "eada924c-1bfe-11ea-8ec1-0242ac120005"
    },
    "lc_wrapper": {
     "log_history": [
      "/home/user5/notebooks/seminar-lc4ri/AWS/.log/20191211/20191211-101239-0894.log",
      "/home/user5/notebooks/seminar-lc4ri/AWS/.log/20191211/20191211-120741-0262.log",
      "/home/user5/notebooks/seminar-lc4ri/AWS/.log/20191218/20191218-115444-0344.log",
      "/home/user5/notebooks/seminar-lc4ri/AWS/.log/20191226/20191226-101200-0911.log",
      "/home/user5/notebooks/seminar-lc4ri/AWS/.log/20200101/20200101-121408-0415.log",
      "/home/user5/notebooks/seminar-lc4ri/AWS/.log/20200101/20200101-131918-0465.log",
      "/home/user5/notebooks/seminar-lc4ri/AWS/.log/20200108/20200108-094508-0983.log",
      "/home/user2/notebooks/AWS/.log/20200123/20200123-072551-0362.log",
      "/home/user5/notebooks/seminar-lc4ri/AWS/.log/20200123/20200123-095838-0707.log",
      "/home/user2/notebooks/AWS/.log/20200127/20200127-011034-0599.log",
      "/home/user2/notebooks/AWS/.log/20200127/20200127-063822-0657.log",
      "/home/user2/notebooks/200130/aws_notebook/.log/20200130/20200130-093345-0853.log"
     ]
    },
    "run_through_control": {
     "frozen": true,
     "read_only": false
    }
   },
   "outputs": [],
   "source": [
    "!sudo mv ./kubectl /usr/local/bin"
   ]
  },
  {
   "cell_type": "code",
   "execution_count": 9,
   "metadata": {
    "deletable": false,
    "editable": false,
    "lc_cell_meme": {
     "current": "eada944a-1bfe-11ea-8ec1-0242ac120005",
     "execution_end_time": "2020-01-30T09:33:47.967499Z",
     "next": "eada953a-1bfe-11ea-8ec1-0242ac120005",
     "previous": "eada9350-1bfe-11ea-8ec1-0242ac120005"
    },
    "lc_wrapper": {
     "log_history": [
      "/home/user5/notebooks/seminar-lc4ri/AWS/.log/20191211/20191211-101307-0247.log",
      "/home/user5/notebooks/seminar-lc4ri/AWS/.log/20191211/20191211-120743-0131.log",
      "/home/user5/notebooks/seminar-lc4ri/AWS/.log/20191218/20191218-115447-0720.log",
      "/home/user5/notebooks/seminar-lc4ri/AWS/.log/20191226/20191226-101202-0539.log",
      "/home/user5/notebooks/seminar-lc4ri/AWS/.log/20200101/20200101-121410-0012.log",
      "/home/user5/notebooks/seminar-lc4ri/AWS/.log/20200101/20200101-131919-0878.log",
      "/home/user5/notebooks/seminar-lc4ri/AWS/.log/20200108/20200108-094511-0556.log",
      "/home/user2/notebooks/AWS/.log/20200123/20200123-072552-0376.log",
      "/home/user5/notebooks/seminar-lc4ri/AWS/.log/20200123/20200123-095840-0208.log",
      "/home/user2/notebooks/AWS/.log/20200127/20200127-011035-0614.log",
      "/home/user2/notebooks/AWS/.log/20200127/20200127-063823-0665.log",
      "/home/user2/notebooks/200130/aws_notebook/.log/20200130/20200130-093346-0922.log"
     ]
    },
    "run_through_control": {
     "frozen": true,
     "read_only": false
    }
   },
   "outputs": [
    {
     "name": "stdout",
     "output_type": "stream",
     "text": [
      "Client Version: v1.14.7-eks-1861c5\r\n"
     ]
    }
   ],
   "source": [
    "!kubectl version --short --client"
   ]
  },
  {
   "cell_type": "markdown",
   "metadata": {
    "lc_cell_meme": {
     "current": "eada953a-1bfe-11ea-8ec1-0242ac120005",
     "next": "eada9634-1bfe-11ea-8ec1-0242ac120005",
     "previous": "eada944a-1bfe-11ea-8ec1-0242ac120005"
    }
   },
   "source": [
    "aws-iam-authenticator のインストール"
   ]
  },
  {
   "cell_type": "code",
   "execution_count": 10,
   "metadata": {
    "deletable": false,
    "editable": false,
    "lc_cell_meme": {
     "current": "eada9634-1bfe-11ea-8ec1-0242ac120005",
     "execution_end_time": "2020-01-30T09:33:50.287174Z",
     "next": "32629380-1bff-11ea-8ec1-0242ac120005",
     "previous": "eada953a-1bfe-11ea-8ec1-0242ac120005"
    },
    "lc_wrapper": {
     "log_history": [
      "/home/user5/notebooks/seminar-lc4ri/AWS/.log/20191211/20191211-101354-0844.log",
      "/home/user5/notebooks/seminar-lc4ri/AWS/.log/20191211/20191211-120745-0730.log",
      "/home/user5/notebooks/seminar-lc4ri/AWS/.log/20191218/20191218-115450-0577.log",
      "/home/user5/notebooks/seminar-lc4ri/AWS/.log/20191226/20191226-101205-0040.log",
      "/home/user5/notebooks/seminar-lc4ri/AWS/.log/20200101/20200101-121418-0111.log",
      "/home/user5/notebooks/seminar-lc4ri/AWS/.log/20200101/20200101-131921-0353.log",
      "/home/user5/notebooks/seminar-lc4ri/AWS/.log/20200108/20200108-094514-0018.log",
      "/home/user2/notebooks/AWS/.log/20200123/20200123-072553-0409.log",
      "/home/user5/notebooks/seminar-lc4ri/AWS/.log/20200123/20200123-095842-0845.log",
      "/home/user2/notebooks/AWS/.log/20200127/20200127-011110-0556.log",
      "/home/user2/notebooks/AWS/.log/20200127/20200127-063824-0683.log",
      "/home/user2/notebooks/200130/aws_notebook/.log/20200130/20200130-093347-0975.log"
     ]
    },
    "run_through_control": {
     "frozen": true,
     "read_only": false
    }
   },
   "outputs": [
    {
     "name": "stdout",
     "output_type": "stream",
     "text": [
      "  % Total    % Received % Xferd  Average Speed   Time    Time     Time  Current\n",
      "                                 Dload  Upload   Total   Spent    Left  Speed\n",
      "100 17.7M  100 17.7M    0     0  49.9M      0 --:--:-- --:--:-- --:--:-- 49.8M\n"
     ]
    }
   ],
   "source": [
    "!curl -o aws-iam-authenticator https://amazon-eks.s3-us-west-2.amazonaws.com/1.14.6/2019-08-22/bin/linux/amd64/aws-iam-authenticator\n",
    "!chmod +x ./aws-iam-authenticator"
   ]
  },
  {
   "cell_type": "code",
   "execution_count": 11,
   "metadata": {
    "deletable": false,
    "editable": false,
    "lc_cell_meme": {
     "current": "32629380-1bff-11ea-8ec1-0242ac120005",
     "execution_end_time": "2020-01-30T09:33:51.289166Z",
     "history": [
      {
       "current": "32629380-1bff-11ea-8ec1-0242ac120005",
       "next": "32629650-1bff-11ea-8ec1-0242ac120005",
       "previous": "eada9634-1bfe-11ea-8ec1-0242ac120005"
      }
     ],
     "next": "982a7c36-378a-11ea-b7f6-0242ac120004",
     "previous": "eada9634-1bfe-11ea-8ec1-0242ac120005"
    },
    "lc_wrapper": {
     "log_history": [
      "/home/user5/notebooks/seminar-lc4ri/AWS/.log/20191211/20191211-101445-0301.log",
      "/home/user5/notebooks/seminar-lc4ri/AWS/.log/20191211/20191211-120749-0921.log",
      "/home/user5/notebooks/seminar-lc4ri/AWS/.log/20191218/20191218-115454-0031.log",
      "/home/user5/notebooks/seminar-lc4ri/AWS/.log/20191226/20191226-101209-0833.log",
      "/home/user5/notebooks/seminar-lc4ri/AWS/.log/20200101/20200101-121420-0402.log",
      "/home/user5/notebooks/seminar-lc4ri/AWS/.log/20200101/20200101-131924-0671.log",
      "/home/user5/notebooks/seminar-lc4ri/AWS/.log/20200108/20200108-094516-0268.log",
      "/home/user2/notebooks/AWS/.log/20200123/20200123-072555-0634.log",
      "/home/user5/notebooks/seminar-lc4ri/AWS/.log/20200123/20200123-095845-0607.log",
      "/home/user2/notebooks/AWS/.log/20200127/20200127-011112-0847.log",
      "/home/user2/notebooks/AWS/.log/20200127/20200127-063826-0950.log",
      "/home/user2/notebooks/200130/aws_notebook/.log/20200130/20200130-093350-0295.log"
     ]
    },
    "run_through_control": {
     "frozen": true,
     "read_only": false
    }
   },
   "outputs": [],
   "source": [
    "!sudo mv aws-iam-authenticator /usr/local/bin"
   ]
  },
  {
   "cell_type": "code",
   "execution_count": 12,
   "metadata": {
    "deletable": false,
    "editable": false,
    "lc_cell_meme": {
     "current": "982a7c36-378a-11ea-b7f6-0242ac120004",
     "execution_end_time": "2020-01-30T09:33:52.318873Z",
     "history": [
      {
       "current": "982a7c36-378a-11ea-b7f6-0242ac120004",
       "next": null,
       "previous": "32629380-1bff-11ea-8ec1-0242ac120005"
      }
     ],
     "next": "982a7ec0-378a-11ea-b7f6-0242ac120004",
     "previous": "32629380-1bff-11ea-8ec1-0242ac120005"
    },
    "lc_wrapper": {
     "log_history": [
      "/home/user2/notebooks/AWS/.log/20200115/20200115-113034-0473.log",
      "/home/user2/notebooks/AWS/.log/20200123/20200123-072556-0620.log",
      "/home/user5/notebooks/seminar-lc4ri/AWS/.log/20200123/20200123-095848-0103.log",
      "/home/user2/notebooks/AWS/.log/20200127/20200127-011113-0834.log",
      "/home/user2/notebooks/AWS/.log/20200127/20200127-063827-0937.log",
      "/home/user2/notebooks/200130/aws_notebook/.log/20200130/20200130-093351-0297.log"
     ]
    },
    "run_through_control": {
     "frozen": true,
     "read_only": false
    }
   },
   "outputs": [
    {
     "name": "stdout",
     "output_type": "stream",
     "text": [
      "A tool to authenticate to Kubernetes using AWS IAM credentials\r\n",
      "\r\n",
      "Usage:\r\n",
      "  aws-iam-authenticator [command]\r\n",
      "\r\n",
      "Available Commands:\r\n",
      "  help        Help about any command\r\n",
      "  init        Pre-generate certificate, private key, and kubeconfig files for the server.\r\n",
      "  server      Run a webhook validation server suitable that validates tokens using AWS IAM\r\n",
      "  token       Authenticate using AWS IAM and get token for Kubernetes\r\n",
      "  verify      Verify a token for debugging purpose\r\n",
      "  version     Version will output the current build information\r\n",
      "\r\n",
      "Flags:\r\n",
      "  -i, --cluster-id ID       Specify the cluster ID, a unique-per-cluster identifier for your aws-iam-authenticator installation.\r\n",
      "  -c, --config filename     Load configuration from filename\r\n",
      "  -h, --help                help for aws-iam-authenticator\r\n",
      "  -l, --log-format string   Specify log format to use when logging to stderr [text or json] (default \"text\")\r\n",
      "\r\n",
      "Use \"aws-iam-authenticator [command] --help\" for more information about a command.\r\n"
     ]
    }
   ],
   "source": [
    "!aws-iam-authenticator help"
   ]
  },
  {
   "cell_type": "markdown",
   "metadata": {
    "lc_cell_meme": {
     "current": "982a7ec0-378a-11ea-b7f6-0242ac120004",
     "history": [
      {
       "current": "982a7ec0-378a-11ea-b7f6-0242ac120004",
       "next": "982a7fba-378a-11ea-b7f6-0242ac120004",
       "previous": "57c455ae-1c05-11ea-8ec1-0242ac120005"
      },
      {
       "current": "982a7ec0-378a-11ea-b7f6-0242ac120004",
       "next": "0a273a76-3dc7-11ea-bfd5-0242ac120005",
       "previous": "57c455ae-1c05-11ea-8ec1-0242ac120005"
      }
     ],
     "next": "0a273a76-3dc7-11ea-bfd5-0242ac120005",
     "previous": "982a7c36-378a-11ea-b7f6-0242ac120004"
    }
   },
   "source": [
    "既存のEKS環境に接続する場合"
   ]
  },
  {
   "cell_type": "code",
   "execution_count": 13,
   "metadata": {
    "lc_cell_meme": {
     "current": "0a273a76-3dc7-11ea-bfd5-0242ac120005",
     "execution_end_time": "2020-01-27T06:38:28.960262Z",
     "next": "982a7fba-378a-11ea-b7f6-0242ac120004",
     "previous": "982a7ec0-378a-11ea-b7f6-0242ac120004"
    },
    "lc_wrapper": {
     "log_history": [
      "/home/user5/notebooks/seminar-lc4ri/AWS/.log/20200123/20200123-095918-0060.log",
      "/home/user2/notebooks/AWS/.log/20200127/20200127-063828-0954.log"
     ]
    }
   },
   "outputs": [],
   "source": [
    "clusterName = 'aws-eks-200127'"
   ]
  },
  {
   "cell_type": "code",
   "execution_count": 14,
   "metadata": {
    "lc_cell_meme": {
     "current": "982a7fba-378a-11ea-b7f6-0242ac120004",
     "execution_end_time": "2020-01-27T06:38:30.745748Z",
     "history": [
      {
       "current": "982a7fba-378a-11ea-b7f6-0242ac120004",
       "next": "982a8082-378a-11ea-b7f6-0242ac120004",
       "previous": "982a7ec0-378a-11ea-b7f6-0242ac120004"
      },
      {
       "current": "982a7fba-378a-11ea-b7f6-0242ac120004",
       "next": "982a814a-378a-11ea-b7f6-0242ac120004",
       "previous": "982a7ec0-378a-11ea-b7f6-0242ac120004"
      },
      {
       "current": "982a7fba-378a-11ea-b7f6-0242ac120004",
       "next": null,
       "previous": "0a273a76-3dc7-11ea-bfd5-0242ac120005"
      }
     ],
     "next": "3d853548-40a2-11ea-91a9-0242ac120004",
     "previous": "0a273a76-3dc7-11ea-bfd5-0242ac120005"
    },
    "lc_wrapper": {
     "log_history": [
      "/home/user2/notebooks/AWS/.log/20200123/20200123-074118-0214.log",
      "/home/user5/notebooks/seminar-lc4ri/AWS/.log/20200123/20200123-095925-0542.log",
      "/home/user2/notebooks/AWS/.log/20200127/20200127-063828-0967.log"
     ]
    }
   },
   "outputs": [
    {
     "name": "stdout",
     "output_type": "stream",
     "text": [
      "Added new context arn:aws:eks:us-west-2:565991835156:cluster/aws-eks-200127 to /home/user2/.kube/config\r\n"
     ]
    }
   ],
   "source": [
    "!aws eks --region us-west-2 update-kubeconfig --name {clusterName}"
   ]
  },
  {
   "cell_type": "markdown",
   "metadata": {
    "lc_cell_meme": {
     "current": "3d853548-40a2-11ea-91a9-0242ac120004",
     "next": "3d853886-40a2-11ea-91a9-0242ac120004",
     "previous": "982a7fba-378a-11ea-b7f6-0242ac120004"
    }
   },
   "source": [
    "動作確認"
   ]
  },
  {
   "cell_type": "code",
   "execution_count": 15,
   "metadata": {
    "lc_cell_meme": {
     "current": "3d853886-40a2-11ea-91a9-0242ac120004",
     "execution_end_time": "2020-01-27T06:38:32.888983Z",
     "history": [
      {
       "current": "3d853886-40a2-11ea-91a9-0242ac120004",
       "next": null,
       "previous": "3d853548-40a2-11ea-91a9-0242ac120004"
      }
     ],
     "next": "db16c6b4-40cf-11ea-ac6f-0242ac120004",
     "previous": "3d853548-40a2-11ea-91a9-0242ac120004"
    },
    "lc_wrapper": {
     "log_history": [
      "/home/user2/notebooks/AWS/.log/20200127/20200127-063830-0753.log"
     ]
    }
   },
   "outputs": [
    {
     "name": "stdout",
     "output_type": "stream",
     "text": [
      "NAME                               READY   STATUS    RESTARTS   AGE\r\n",
      "efs-provisioner-5d54bbbd75-vbbm2   1/1     Running   0          3h10m\r\n"
     ]
    }
   ],
   "source": [
    "!kubectl get pod"
   ]
  },
  {
   "cell_type": "code",
   "execution_count": null,
   "metadata": {
    "lc_cell_meme": {
     "current": "db16c6b4-40cf-11ea-ac6f-0242ac120004",
     "next": null,
     "previous": "3d853886-40a2-11ea-91a9-0242ac120004"
    }
   },
   "outputs": [],
   "source": []
  }
 ],
 "metadata": {
  "kernelspec": {
   "display_name": "Python 3",
   "language": "python",
   "name": "python3"
  },
  "language_info": {
   "file_extension": ".py",
   "mimetype": "text/x-python",
   "name": "python",
   "nbconvert_exporter": "python",
   "pygments_lexer": "ipython3",
   "version": "3.7.3"
  },
  "lc_notebook_meme": {
   "current": "22998cf2-14c9-11ea-8ffe-0242ac110002",
   "lc_server_signature": {
    "current": {
     "notebook_dir": "/home/user2/notebooks",
     "notebook_path": "/200130/aws_notebook",
     "server_url": "https://operationhub.kgr-lab.com/user/user2/",
     "signature_id": "ae27fcb2-043f-11ea-b29c-0242ac120002"
    },
    "history": [
     {
      "notebook_dir": "/home/jovyan",
      "notebook_path": "/work/lc4ri",
      "server_url": "http://192.168.0.106:8888/",
      "signature_id": "c932e082-14c8-11ea-8ffe-0242ac110002"
     },
     {
      "notebook_dir": "/home/jovyan",
      "notebook_path": "/work/lc4ri",
      "server_url": "http://192.168.0.105:8888/",
      "signature_id": "257243ec-14fb-11ea-8d3b-0242ac110002"
     },
     {
      "notebook_dir": "/home/user5/notebooks",
      "notebook_path": "/seminar-lc4ri/AWS",
      "server_url": "https://operationhub.kgr-lab.com/user/user5/",
      "signature_id": "ae27fcb2-043f-11ea-b29c-0242ac120002"
     },
     {
      "notebook_dir": "/home/user2/notebooks",
      "notebook_path": "/AWS",
      "server_url": "https://operationhub.kgr-lab.com/user/user2/",
      "signature_id": "ae27fcb2-043f-11ea-b29c-0242ac120002"
     },
     {
      "notebook_dir": "/home/user5/notebooks",
      "notebook_path": "/seminar-lc4ri/AWS",
      "server_url": "https://operationhub.kgr-lab.com/user/user5/",
      "signature_id": "ae27fcb2-043f-11ea-b29c-0242ac120002"
     },
     {
      "notebook_dir": "/home/user2/notebooks",
      "notebook_path": "/AWS",
      "server_url": "https://operationhub.kgr-lab.com/user/user2/",
      "signature_id": "ae27fcb2-043f-11ea-b29c-0242ac120002"
     }
    ]
   }
  },
  "toc": {
   "base_numbering": 1,
   "nav_menu": {},
   "number_sections": true,
   "sideBar": true,
   "skip_h1_title": false,
   "title_cell": "Table of Contents",
   "title_sidebar": "Contents",
   "toc_cell": false,
   "toc_position": {
    "height": "calc(100% - 180px)",
    "left": "10px",
    "top": "150px",
    "width": "165px"
   },
   "toc_section_display": true,
   "toc_window_display": true
  }
 },
 "nbformat": 4,
 "nbformat_minor": 2
}
