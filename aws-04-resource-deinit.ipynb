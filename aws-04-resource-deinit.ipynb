{
 "cells": [
  {
   "cell_type": "code",
   "execution_count": 2,
   "metadata": {
    "deletable": false,
    "editable": false,
    "lc_cell_meme": {
     "current": "a2f3a480-435b-11ea-82b4-0242ac120004",
     "execution_end_time": "2020-02-14T10:22:23.176841Z",
     "next": "a3ec1346-3207-11ea-9983-0242ac120004",
     "previous": null
    },
    "lc_wrapper": {
     "log_history": [
      "/home/user2/notebooks/200130/aws_notebook/.log/20200130/20200130-122436-0074.log",
      "/home/user2/notebooks/200130/aws_notebook/.log/20200214/20200214-102223-0160.log"
     ]
    },
    "run_through_control": {
     "frozen": true
    }
   },
   "outputs": [
    {
     "data": {
      "text/plain": [
       "{'vender': 'aws',\n",
       " 'clusterName': 'aws-eks-200214',\n",
       " 'nodeGroupName': 'ng-200214',\n",
       " 'workerRolearn': 'eksctl-aws-eks-200214-nodegroup-n-NodeInstanceRole-L49KCDT5ANC5',\n",
       " 'NodeInstanceRole': 'eksctl-aws-eks-200214-nodegroup-n-NodeInstanceRole-L49KCDT5ANC5',\n",
       " 'FileSystemId': 'fs-83a42529',\n",
       " 'region': 'us-west-2',\n",
       " 'db_address': 'rds-topse.ciph33ijhh38.us-west-2.rds.amazonaws.com',\n",
       " 'vpcID': 'vpc-07b429d6780e6ec5f'}"
      ]
     },
     "execution_count": 2,
     "metadata": {},
     "output_type": "execute_result"
    }
   ],
   "source": [
    "import json\n",
    "\n",
    "f = open('res_info.json', 'r')\n",
    "res_info = json.load(f)\n",
    "f.close()\n",
    "\n",
    "res_info"
   ]
  },
  {
   "cell_type": "markdown",
   "metadata": {
    "lc_cell_meme": {
     "current": "a3ec1346-3207-11ea-9983-0242ac120004",
     "history": [
      {
       "current": "a3ec1346-3207-11ea-9983-0242ac120004",
       "next": "58f6674c-2ca8-11ea-9eae-0242ac120004",
       "previous": "a3ec1256-3207-11ea-9983-0242ac120004"
      },
      {
       "current": "a3ec1346-3207-11ea-9983-0242ac120004",
       "next": "58f6674c-2ca8-11ea-9eae-0242ac120004",
       "previous": "4b437240-27d8-11ea-874f-0242ac120004"
      },
      {
       "current": "a3ec1346-3207-11ea-9983-0242ac120004",
       "next": "58f6674c-2ca8-11ea-9eae-0242ac120004",
       "previous": "d18e609a-3dd0-11ea-bfd5-0242ac120005"
      },
      {
       "current": "a3ec1346-3207-11ea-9983-0242ac120004",
       "next": "58f6674c-2ca8-11ea-9eae-0242ac120004",
       "previous": "7eb90d96-3dd2-11ea-bfd5-0242ac120005"
      },
      {
       "current": "a3ec1346-3207-11ea-9983-0242ac120004",
       "next": "58f6674c-2ca8-11ea-9eae-0242ac120004",
       "previous": "02740ce2-3dd5-11ea-bfd5-0242ac120005"
      }
     ],
     "next": "58f6674c-2ca8-11ea-9eae-0242ac120004",
     "previous": "a2f3a480-435b-11ea-82b4-0242ac120004"
    }
   },
   "source": [
    "# 削除"
   ]
  },
  {
   "cell_type": "markdown",
   "metadata": {
    "lc_cell_meme": {
     "current": "58f6674c-2ca8-11ea-9eae-0242ac120004",
     "history": [
      {
       "current": "58f6674c-2ca8-11ea-9eae-0242ac120004",
       "next": "58f6699a-2ca8-11ea-9eae-0242ac120004",
       "previous": "4b437240-27d8-11ea-874f-0242ac120004"
      },
      {
       "current": "58f6674c-2ca8-11ea-9eae-0242ac120004",
       "next": "a08d712c-2ca8-11ea-9eae-0242ac120004",
       "previous": "4b437240-27d8-11ea-874f-0242ac120004"
      },
      {
       "current": "58f6674c-2ca8-11ea-9eae-0242ac120004",
       "next": "a08d712c-2ca8-11ea-9eae-0242ac120004",
       "previous": "a3ec1346-3207-11ea-9983-0242ac120004"
      }
     ],
     "next": "b7182bd2-3ddb-11ea-bfd5-0242ac120005",
     "previous": "a3ec1346-3207-11ea-9983-0242ac120004"
    }
   },
   "source": [
    "まずはALBIngressControllerIAMPolicyの削除"
   ]
  },
  {
   "cell_type": "code",
   "execution_count": 2,
   "metadata": {
    "deletable": false,
    "editable": false,
    "lc_cell_meme": {
     "current": "b7182bd2-3ddb-11ea-bfd5-0242ac120005",
     "execution_end_time": "2020-01-30T12:25:07.485146Z",
     "next": "b7182e98-3ddb-11ea-bfd5-0242ac120005",
     "previous": "58f6674c-2ca8-11ea-9eae-0242ac120004"
    },
    "lc_wrapper": {
     "log_history": [
      "/home/user5/notebooks/seminar-lc4ri/AWS/.log/20200123/20200123-122545-0423.log",
      "/home/user2/notebooks/200130/aws_notebook/.log/20200130/20200130-122507-0478.log"
     ]
    },
    "run_through_control": {
     "frozen": true,
     "read_only": false
    }
   },
   "outputs": [],
   "source": [
    "ALBPolicyArn = 'arn:aws:iam::565991835156:policy/ALBIngressControllerIAMPolicy'"
   ]
  },
  {
   "cell_type": "code",
   "execution_count": 3,
   "metadata": {
    "deletable": false,
    "editable": false,
    "lc_cell_meme": {
     "current": "b7182e98-3ddb-11ea-bfd5-0242ac120005",
     "execution_end_time": "2020-01-30T12:25:20.404782Z",
     "next": "a08d712c-2ca8-11ea-9eae-0242ac120004",
     "previous": "b7182bd2-3ddb-11ea-bfd5-0242ac120005"
    },
    "lc_wrapper": {
     "log_history": [
      "/home/user5/notebooks/seminar-lc4ri/AWS/.log/20200123/20200123-122639-0628.log",
      "/home/user2/notebooks/200130/aws_notebook/.log/20200130/20200130-122520-0399.log"
     ]
    },
    "run_through_control": {
     "frozen": true,
     "read_only": false
    }
   },
   "outputs": [],
   "source": [
    "workerRolearn = res_info['workerRolearn']"
   ]
  },
  {
   "cell_type": "code",
   "execution_count": 4,
   "metadata": {
    "deletable": false,
    "editable": false,
    "lc_cell_meme": {
     "current": "a08d712c-2ca8-11ea-9eae-0242ac120004",
     "execution_end_time": "2020-01-30T12:25:23.045926Z",
     "history": [
      {
       "current": "a08d712c-2ca8-11ea-9eae-0242ac120004",
       "next": null,
       "previous": "58f66c2e-2ca8-11ea-9eae-0242ac120004"
      },
      {
       "current": "a08d712c-2ca8-11ea-9eae-0242ac120004",
       "next": "e837ec3c-2ca8-11ea-9eae-0242ac120004",
       "previous": "58f66c2e-2ca8-11ea-9eae-0242ac120004"
      },
      {
       "current": "a08d712c-2ca8-11ea-9eae-0242ac120004",
       "next": "e837ec3c-2ca8-11ea-9eae-0242ac120004",
       "previous": "58f6674c-2ca8-11ea-9eae-0242ac120004"
      },
      {
       "current": "a08d712c-2ca8-11ea-9eae-0242ac120004",
       "next": "f9a65ae0-3792-11ea-8b4d-0242ac120004",
       "previous": "58f6674c-2ca8-11ea-9eae-0242ac120004"
      }
     ],
     "next": "e837ec3c-2ca8-11ea-9eae-0242ac120004",
     "previous": "b7182e98-3ddb-11ea-bfd5-0242ac120005"
    },
    "lc_wrapper": {
     "log_history": [
      "/home/user5/notebooks/seminar-lc4ri/AWS/.log/20200101/20200101-151054-0270.log",
      "/home/user5/notebooks/seminar-lc4ri/AWS/.log/20200108/20200108-123838-0347.log",
      "/home/user2/notebooks/AWS/.log/20200115/20200115-122838-0417.log",
      "/home/user5/notebooks/seminar-lc4ri/AWS/.log/20200123/20200123-122222-0703.log",
      "/home/user5/notebooks/seminar-lc4ri/AWS/.log/20200123/20200123-122642-0215.log",
      "/home/user2/notebooks/200130/aws_notebook/.log/20200130/20200130-122521-0073.log"
     ]
    },
    "run_through_control": {
     "frozen": true,
     "read_only": false
    }
   },
   "outputs": [],
   "source": [
    "!aws iam detach-role-policy \\\n",
    "--policy-arn {ALBPolicyArn} \\\n",
    "--role-name {workerRolearn}"
   ]
  },
  {
   "cell_type": "code",
   "execution_count": 5,
   "metadata": {
    "deletable": false,
    "editable": false,
    "lc_cell_meme": {
     "current": "e837ec3c-2ca8-11ea-9eae-0242ac120004",
     "execution_end_time": "2020-01-30T12:25:25.020848Z",
     "history": [
      {
       "current": "e837ec3c-2ca8-11ea-9eae-0242ac120004",
       "next": null,
       "previous": "a08d712c-2ca8-11ea-9eae-0242ac120004"
      },
      {
       "current": "e837ec3c-2ca8-11ea-9eae-0242ac120004",
       "next": "2fc873d2-2ca9-11ea-9eae-0242ac120004",
       "previous": "a08d712c-2ca8-11ea-9eae-0242ac120004"
      },
      {
       "current": "e837ec3c-2ca8-11ea-9eae-0242ac120004",
       "next": "5b3b82f2-3203-11ea-9983-0242ac120004",
       "previous": "a08d712c-2ca8-11ea-9eae-0242ac120004"
      },
      {
       "current": "e837ec3c-2ca8-11ea-9eae-0242ac120004",
       "next": "f9a65d88-3792-11ea-8b4d-0242ac120004",
       "previous": "f9a65ae0-3792-11ea-8b4d-0242ac120004"
      },
      {
       "current": "e837ec3c-2ca8-11ea-9eae-0242ac120004",
       "next": "f9a65d88-3792-11ea-8b4d-0242ac120004",
       "previous": "6d0e782a-3ddb-11ea-bfd5-0242ac120005"
      }
     ],
     "next": "5b3b82f2-3203-11ea-9983-0242ac120004",
     "previous": "a08d712c-2ca8-11ea-9eae-0242ac120004"
    },
    "lc_wrapper": {
     "log_history": [
      "/home/user5/notebooks/seminar-lc4ri/AWS/.log/20200101/20200101-151110-0896.log",
      "/home/user5/notebooks/seminar-lc4ri/AWS/.log/20200101/20200101-151115-0799.log",
      "/home/user5/notebooks/seminar-lc4ri/AWS/.log/20200101/20200101-151127-0669.log",
      "/home/user5/notebooks/seminar-lc4ri/AWS/.log/20200108/20200108-123840-0959.log",
      "/home/user2/notebooks/AWS/.log/20200115/20200115-123016-0606.log",
      "/home/user5/notebooks/seminar-lc4ri/AWS/.log/20200123/20200123-122510-0740.log",
      "/home/user5/notebooks/seminar-lc4ri/AWS/.log/20200123/20200123-122714-0895.log",
      "/home/user2/notebooks/200130/aws_notebook/.log/20200130/20200130-122523-0053.log"
     ]
    },
    "run_through_control": {
     "frozen": true,
     "read_only": false
    }
   },
   "outputs": [],
   "source": [
    "!aws iam delete-policy \\\n",
    "--policy-arn {ALBPolicyArn}"
   ]
  },
  {
   "cell_type": "markdown",
   "metadata": {
    "lc_cell_meme": {
     "current": "5b3b82f2-3203-11ea-9983-0242ac120004",
     "history": [
      {
       "current": "5b3b82f2-3203-11ea-9983-0242ac120004",
       "next": "5b3b8590-3203-11ea-9983-0242ac120004",
       "previous": "e837ec3c-2ca8-11ea-9eae-0242ac120004"
      },
      {
       "current": "5b3b82f2-3203-11ea-9983-0242ac120004",
       "next": "5b3b8590-3203-11ea-9983-0242ac120004",
       "previous": "f9a65d88-3792-11ea-8b4d-0242ac120004"
      }
     ],
     "next": "5b3b8590-3203-11ea-9983-0242ac120004",
     "previous": "e837ec3c-2ca8-11ea-9eae-0242ac120004"
    }
   },
   "source": [
    "kubectlで作成したオブジェクトの削除"
   ]
  },
  {
   "cell_type": "code",
   "execution_count": 6,
   "metadata": {
    "deletable": false,
    "editable": false,
    "lc_cell_meme": {
     "current": "5b3b8590-3203-11ea-9983-0242ac120004",
     "execution_end_time": "2020-01-30T12:25:59.090803Z",
     "history": [
      {
       "current": "5b3b8590-3203-11ea-9983-0242ac120004",
       "next": "2fc873d2-2ca9-11ea-9eae-0242ac120004",
       "previous": "5b3b82f2-3203-11ea-9983-0242ac120004"
      }
     ],
     "next": "fe9d8272-3ddb-11ea-bfd5-0242ac120005",
     "previous": "5b3b82f2-3203-11ea-9983-0242ac120004"
    },
    "lc_wrapper": {
     "log_history": [
      "/home/user5/notebooks/seminar-lc4ri/AWS/.log/20200108/20200108-123847-0371.log",
      "/home/user5/notebooks/seminar-lc4ri/AWS/.log/20200123/20200123-122723-0059.log",
      "/home/user2/notebooks/200130/aws_notebook/.log/20200130/20200130-122550-0561.log"
     ]
    },
    "run_through_control": {
     "frozen": true,
     "read_only": false
    }
   },
   "outputs": [
    {
     "name": "stdout",
     "output_type": "stream",
     "text": [
      "ingress.extensions \"wordpress-ingress\" deleted\n",
      "service \"wordpress\" deleted\n",
      "deployment.apps \"wordpress\" deleted\n",
      "deployment.apps \"alb-ingress-controller\" deleted\n",
      "clusterrole.rbac.authorization.k8s.io \"alb-ingress-controller\" deleted\n",
      "clusterrolebinding.rbac.authorization.k8s.io \"alb-ingress-controller\" deleted\n",
      "serviceaccount \"alb-ingress-controller\" deleted\n",
      "serviceaccount \"efs-provisioner\" deleted\n",
      "deployment.apps \"efs-provisioner\" deleted\n"
     ]
    }
   ],
   "source": [
    "!kubectl delete -f yaml/wordpress-ingress.yaml\n",
    "!kubectl delete -f yaml/wordpress-service.yaml\n",
    "!kubectl delete -f yaml/wordpress-deploy.yaml\n",
    "!kubectl delete -f yaml/alb-ingress-controller.yaml\n",
    "!kubectl delete -f yaml/rbac-role.yaml\n",
    "!kubectl delete -f yaml/deployment.yaml    "
   ]
  },
  {
   "cell_type": "code",
   "execution_count": 9,
   "metadata": {
    "lc_cell_meme": {
     "current": "fe9d8272-3ddb-11ea-bfd5-0242ac120005",
     "execution_end_time": "2020-01-30T12:26:47.089570Z",
     "history": [
      {
       "current": "fe9d8272-3ddb-11ea-bfd5-0242ac120005",
       "next": "2fc873d2-2ca9-11ea-9eae-0242ac120004",
       "previous": "5b3b8590-3203-11ea-9983-0242ac120004"
      }
     ],
     "next": "31f825ac-435c-11ea-82b4-0242ac120004",
     "previous": "5b3b8590-3203-11ea-9983-0242ac120004"
    },
    "lc_wrapper": {
     "log_history": [
      "/home/user5/notebooks/seminar-lc4ri/AWS/.log/20200123/20200123-122915-0281.log",
      "/home/user2/notebooks/200130/aws_notebook/.log/20200130/20200130-122606-0921.log",
      "/home/user2/notebooks/200130/aws_notebook/.log/20200130/20200130-122639-0204.log",
      "/home/user2/notebooks/200130/aws_notebook/.log/20200130/20200130-122645-0821.log"
     ]
    },
    "scrolled": true
   },
   "outputs": [
    {
     "name": "stdout",
     "output_type": "stream",
     "text": [
      "Error from server (NotFound): error when deleting \"yaml/class.yaml\": storageclasses.storage.k8s.io \"aws-efs\" not found\r\n"
     ]
    },
    {
     "ename": "RuntimeError",
     "evalue": "Unexpected exit code: 1",
     "output_type": "error",
     "traceback": [
      "\u001b[0;31m---------------------------------------------------------------------------\u001b[0m",
      "\u001b[0;31mRuntimeError\u001b[0m                              Traceback (most recent call last)",
      "\u001b[0;32m<ipython-input-9-8c512fd72a3c>\u001b[0m in \u001b[0;36m<module>\u001b[0;34m\u001b[0m\n\u001b[0;32m----> 1\u001b[0;31m \u001b[0mget_ipython\u001b[0m\u001b[0;34m(\u001b[0m\u001b[0;34m)\u001b[0m\u001b[0;34m.\u001b[0m\u001b[0msystem\u001b[0m\u001b[0;34m(\u001b[0m\u001b[0;34m'kubectl delete -f yaml/class.yaml'\u001b[0m\u001b[0;34m)\u001b[0m\u001b[0;34m\u001b[0m\u001b[0;34m\u001b[0m\u001b[0m\n\u001b[0m\u001b[1;32m      2\u001b[0m \u001b[0mget_ipython\u001b[0m\u001b[0;34m(\u001b[0m\u001b[0;34m)\u001b[0m\u001b[0;34m.\u001b[0m\u001b[0msystem\u001b[0m\u001b[0;34m(\u001b[0m\u001b[0;34m'kubectl delete -f yaml/configmap.yaml'\u001b[0m\u001b[0;34m)\u001b[0m\u001b[0;34m\u001b[0m\u001b[0;34m\u001b[0m\u001b[0m\n\u001b[1;32m      3\u001b[0m \u001b[0mget_ipython\u001b[0m\u001b[0;34m(\u001b[0m\u001b[0;34m)\u001b[0m\u001b[0;34m.\u001b[0m\u001b[0msystem\u001b[0m\u001b[0;34m(\u001b[0m\u001b[0;34m'kubectl delete -f yaml/rbac.yaml'\u001b[0m\u001b[0;34m)\u001b[0m\u001b[0;34m\u001b[0m\u001b[0;34m\u001b[0m\u001b[0m\n\u001b[1;32m      4\u001b[0m \u001b[0mget_ipython\u001b[0m\u001b[0;34m(\u001b[0m\u001b[0;34m)\u001b[0m\u001b[0;34m.\u001b[0m\u001b[0msystem\u001b[0m\u001b[0;34m(\u001b[0m\u001b[0;34m'kubectl delete -f yaml/deployment.yaml'\u001b[0m\u001b[0;34m)\u001b[0m\u001b[0;34m\u001b[0m\u001b[0;34m\u001b[0m\u001b[0m\n\u001b[1;32m      5\u001b[0m \u001b[0mget_ipython\u001b[0m\u001b[0;34m(\u001b[0m\u001b[0;34m)\u001b[0m\u001b[0;34m.\u001b[0m\u001b[0msystem\u001b[0m\u001b[0;34m(\u001b[0m\u001b[0;34m'kubectl delete -f yaml/claim.yaml'\u001b[0m\u001b[0;34m)\u001b[0m\u001b[0;34m\u001b[0m\u001b[0;34m\u001b[0m\u001b[0m\n",
      "\u001b[0;32m/opt/conda/etc/ipython/startup/10-custom-get_ipython_system.py\u001b[0m in \u001b[0;36m<lambda>\u001b[0;34m(x)\u001b[0m\n\u001b[1;32m      5\u001b[0m \u001b[0;34m\u001b[0m\u001b[0m\n\u001b[1;32m      6\u001b[0m \u001b[0msave_get_ipython_system\u001b[0m \u001b[0;34m=\u001b[0m \u001b[0mget_ipython\u001b[0m\u001b[0;34m(\u001b[0m\u001b[0;34m)\u001b[0m\u001b[0;34m.\u001b[0m\u001b[0msystem\u001b[0m\u001b[0;34m\u001b[0m\u001b[0;34m\u001b[0m\u001b[0m\n\u001b[0;32m----> 7\u001b[0;31m \u001b[0mget_ipython\u001b[0m\u001b[0;34m(\u001b[0m\u001b[0;34m)\u001b[0m\u001b[0;34m.\u001b[0m\u001b[0msystem\u001b[0m \u001b[0;34m=\u001b[0m \u001b[0;32mlambda\u001b[0m \u001b[0mx\u001b[0m\u001b[0;34m:\u001b[0m \u001b[0mget_ipython_system\u001b[0m\u001b[0;34m(\u001b[0m\u001b[0mx\u001b[0m\u001b[0;34m)\u001b[0m\u001b[0;34m\u001b[0m\u001b[0;34m\u001b[0m\u001b[0m\n\u001b[0m\u001b[1;32m      8\u001b[0m \u001b[0;34m\u001b[0m\u001b[0m\n\u001b[1;32m      9\u001b[0m \u001b[0;31m# interactiveshell.py's system_piped() function comment saids:\u001b[0m\u001b[0;34m\u001b[0m\u001b[0;34m\u001b[0m\u001b[0;34m\u001b[0m\u001b[0m\n",
      "\u001b[0;32m/opt/conda/etc/ipython/startup/10-custom-get_ipython_system.py\u001b[0m in \u001b[0;36mget_ipython_system\u001b[0;34m(_cmd)\u001b[0m\n\u001b[1;32m     13\u001b[0m     \u001b[0msave_get_ipython_system\u001b[0m\u001b[0;34m(\u001b[0m\u001b[0m_cmd\u001b[0m\u001b[0;34m)\u001b[0m\u001b[0;34m\u001b[0m\u001b[0;34m\u001b[0m\u001b[0m\n\u001b[1;32m     14\u001b[0m     \u001b[0;32mif\u001b[0m \u001b[0mget_ipython\u001b[0m\u001b[0;34m(\u001b[0m\u001b[0;34m)\u001b[0m\u001b[0;34m.\u001b[0m\u001b[0muser_ns\u001b[0m\u001b[0;34m[\u001b[0m\u001b[0;34m'_exit_code'\u001b[0m\u001b[0;34m]\u001b[0m \u001b[0;34m!=\u001b[0m \u001b[0;36m0\u001b[0m\u001b[0;34m:\u001b[0m\u001b[0;34m\u001b[0m\u001b[0;34m\u001b[0m\u001b[0m\n\u001b[0;32m---> 15\u001b[0;31m         \u001b[0;32mraise\u001b[0m \u001b[0mRuntimeError\u001b[0m\u001b[0;34m(\u001b[0m\u001b[0;34m'Unexpected exit code: %d'\u001b[0m \u001b[0;34m%\u001b[0m \u001b[0mget_ipython\u001b[0m\u001b[0;34m(\u001b[0m\u001b[0;34m)\u001b[0m\u001b[0;34m.\u001b[0m\u001b[0muser_ns\u001b[0m\u001b[0;34m[\u001b[0m\u001b[0;34m'_exit_code'\u001b[0m\u001b[0;34m]\u001b[0m\u001b[0;34m)\u001b[0m\u001b[0;34m\u001b[0m\u001b[0;34m\u001b[0m\u001b[0m\n\u001b[0m",
      "\u001b[0;31mRuntimeError\u001b[0m: Unexpected exit code: 1"
     ]
    }
   ],
   "source": [
    "!kubectl delete -f yaml/class.yaml\n",
    "!kubectl delete -f yaml/configmap.yaml\n",
    "!kubectl delete -f yaml/rbac.yaml\n",
    "!kubectl delete -f yaml/deployment.yaml\n",
    "!kubectl delete -f yaml/claim.yaml"
   ]
  },
  {
   "cell_type": "code",
   "execution_count": 11,
   "metadata": {
    "deletable": false,
    "editable": false,
    "lc_cell_meme": {
     "current": "31f825ac-435c-11ea-82b4-0242ac120004",
     "execution_end_time": "2020-01-30T12:28:32.972569Z",
     "next": "31f828ae-435c-11ea-82b4-0242ac120004",
     "previous": "fe9d8272-3ddb-11ea-bfd5-0242ac120005"
    },
    "lc_wrapper": {
     "log_history": [
      "/home/user2/notebooks/200130/aws_notebook/.log/20200130/20200130-122831-0263.log"
     ]
    },
    "run_through_control": {
     "frozen": true,
     "read_only": false
    },
    "scrolled": true
   },
   "outputs": [
    {
     "name": "stdout",
     "output_type": "stream",
     "text": [
      "{\r\n",
      "    \"MountTargets\": [\r\n",
      "        {\r\n",
      "            \"OwnerId\": \"565991835156\",\r\n",
      "            \"MountTargetId\": \"fsmt-413e7de9\",\r\n",
      "            \"FileSystemId\": \"fs-cc76c766\",\r\n",
      "            \"SubnetId\": \"subnet-0880877de3ef6143a\",\r\n",
      "            \"LifeCycleState\": \"available\",\r\n",
      "            \"IpAddress\": \"10.0.97.63\",\r\n",
      "            \"NetworkInterfaceId\": \"eni-0bb220dc84b6a7897\"\r\n",
      "        },\r\n",
      "        {\r\n",
      "            \"OwnerId\": \"565991835156\",\r\n",
      "            \"MountTargetId\": \"fsmt-423e7dea\",\r\n",
      "            \"FileSystemId\": \"fs-cc76c766\",\r\n",
      "            \"SubnetId\": \"subnet-0606ee1fa3fc64dff\",\r\n",
      "            \"LifeCycleState\": \"available\",\r\n",
      "            \"IpAddress\": \"10.0.89.105\",\r\n",
      "            \"NetworkInterfaceId\": \"eni-0454599c821b9636d\"\r\n",
      "        }\r\n",
      "    ]\r\n",
      "}\r\n"
     ]
    }
   ],
   "source": [
    "!aws efs describe-mount-targets \\\n",
    "--file-system-id {res_info['FileSystemId']}"
   ]
  },
  {
   "cell_type": "code",
   "execution_count": 13,
   "metadata": {
    "deletable": false,
    "editable": false,
    "lc_cell_meme": {
     "current": "31f828ae-435c-11ea-82b4-0242ac120004",
     "execution_end_time": "2020-01-30T12:29:12.327687Z",
     "next": "31f8299e-435c-11ea-82b4-0242ac120004",
     "previous": "31f825ac-435c-11ea-82b4-0242ac120004"
    },
    "lc_wrapper": {
     "log_history": [
      "/home/user2/notebooks/200130/aws_notebook/.log/20200130/20200130-122856-0624.log",
      "/home/user2/notebooks/200130/aws_notebook/.log/20200130/20200130-122906-0378.log"
     ]
    },
    "run_through_control": {
     "frozen": true,
     "read_only": false
    }
   },
   "outputs": [],
   "source": [
    "!aws efs delete-mount-target \\\n",
    "--mount-target-id fsmt-413e7de9"
   ]
  },
  {
   "cell_type": "code",
   "execution_count": 14,
   "metadata": {
    "deletable": false,
    "editable": false,
    "lc_cell_meme": {
     "current": "31f8299e-435c-11ea-82b4-0242ac120004",
     "execution_end_time": "2020-01-30T12:29:21.542509Z",
     "next": "31f82a70-435c-11ea-82b4-0242ac120004",
     "previous": "31f828ae-435c-11ea-82b4-0242ac120004"
    },
    "lc_wrapper": {
     "log_history": [
      "/home/user2/notebooks/200130/aws_notebook/.log/20200130/20200130-122915-0802.log"
     ]
    },
    "run_through_control": {
     "frozen": true,
     "read_only": false
    }
   },
   "outputs": [],
   "source": [
    "!aws efs delete-mount-target \\\n",
    "--mount-target-id fsmt-423e7dea"
   ]
  },
  {
   "cell_type": "code",
   "execution_count": 15,
   "metadata": {
    "deletable": false,
    "editable": false,
    "lc_cell_meme": {
     "current": "31f82a70-435c-11ea-82b4-0242ac120004",
     "execution_end_time": "2020-01-30T12:29:51.805885Z",
     "history": [
      {
       "current": "31f82a70-435c-11ea-82b4-0242ac120004",
       "next": "2fc873d2-2ca9-11ea-9eae-0242ac120004",
       "previous": "31f8299e-435c-11ea-82b4-0242ac120004"
      }
     ],
     "next": "7a1c27ac-435c-11ea-82b4-0242ac120004",
     "previous": "31f8299e-435c-11ea-82b4-0242ac120004"
    },
    "lc_wrapper": {
     "log_history": [
      "/home/user2/notebooks/200130/aws_notebook/.log/20200130/20200130-122950-0124.log"
     ]
    },
    "run_through_control": {
     "frozen": true,
     "read_only": false
    }
   },
   "outputs": [],
   "source": [
    "!aws efs delete-file-system \\\n",
    "--file-system-id {res_info['FileSystemId']}"
   ]
  },
  {
   "cell_type": "code",
   "execution_count": 16,
   "metadata": {
    "deletable": false,
    "editable": false,
    "lc_cell_meme": {
     "current": "7a1c27ac-435c-11ea-82b4-0242ac120004",
     "execution_end_time": "2020-01-30T12:31:01.097094Z",
     "next": "7a1c2a40-435c-11ea-82b4-0242ac120004",
     "previous": "31f82a70-435c-11ea-82b4-0242ac120004"
    },
    "lc_wrapper": {
     "log_history": [
      "/home/user2/notebooks/200130/aws_notebook/.log/20200130/20200130-123059-0131.log"
     ]
    },
    "run_through_control": {
     "frozen": true,
     "read_only": false
    }
   },
   "outputs": [],
   "source": [
    "!aws iam detach-role-policy --role-name {res_info['NodeInstanceRole']}\\\n",
    "--policy-arn arn:aws:iam::aws:policy/AmazonElasticFileSystemFullAccess"
   ]
  },
  {
   "cell_type": "code",
   "execution_count": null,
   "metadata": {
    "lc_cell_meme": {
     "current": "7a1c2a40-435c-11ea-82b4-0242ac120004",
     "next": "7a1c2b3a-435c-11ea-82b4-0242ac120004",
     "previous": "7a1c27ac-435c-11ea-82b4-0242ac120004"
    }
   },
   "outputs": [],
   "source": []
  },
  {
   "cell_type": "code",
   "execution_count": null,
   "metadata": {
    "lc_cell_meme": {
     "current": "7a1c2b3a-435c-11ea-82b4-0242ac120004",
     "next": "7a1c2c16-435c-11ea-82b4-0242ac120004",
     "previous": "7a1c2a40-435c-11ea-82b4-0242ac120004"
    }
   },
   "outputs": [],
   "source": []
  },
  {
   "cell_type": "code",
   "execution_count": null,
   "metadata": {
    "lc_cell_meme": {
     "current": "7a1c2c16-435c-11ea-82b4-0242ac120004",
     "next": "2fc873d2-2ca9-11ea-9eae-0242ac120004",
     "previous": "7a1c2b3a-435c-11ea-82b4-0242ac120004"
    }
   },
   "outputs": [],
   "source": []
  },
  {
   "cell_type": "markdown",
   "metadata": {
    "lc_cell_meme": {
     "current": "2fc873d2-2ca9-11ea-9eae-0242ac120004",
     "history": [
      {
       "current": "2fc873d2-2ca9-11ea-9eae-0242ac120004",
       "next": null,
       "previous": "e837ec3c-2ca8-11ea-9eae-0242ac120004"
      },
      {
       "current": "2fc873d2-2ca9-11ea-9eae-0242ac120004",
       "next": "96a9c2e0-2ca9-11ea-9eae-0242ac120004",
       "previous": "e837ec3c-2ca8-11ea-9eae-0242ac120004"
      },
      {
       "current": "2fc873d2-2ca9-11ea-9eae-0242ac120004",
       "next": "96a9c2e0-2ca9-11ea-9eae-0242ac120004",
       "previous": "5b3b8590-3203-11ea-9983-0242ac120004"
      },
      {
       "current": "2fc873d2-2ca9-11ea-9eae-0242ac120004",
       "next": "96a9c2e0-2ca9-11ea-9eae-0242ac120004",
       "previous": "fe9d8272-3ddb-11ea-bfd5-0242ac120005"
      },
      {
       "current": "2fc873d2-2ca9-11ea-9eae-0242ac120004",
       "next": "96a9c2e0-2ca9-11ea-9eae-0242ac120004",
       "previous": "31f82a70-435c-11ea-82b4-0242ac120004"
      }
     ],
     "next": "96a9c2e0-2ca9-11ea-9eae-0242ac120004",
     "previous": "7a1c2c16-435c-11ea-82b4-0242ac120004"
    }
   },
   "source": [
    "クラスタの削除"
   ]
  },
  {
   "cell_type": "code",
   "execution_count": null,
   "metadata": {
    "lc_cell_meme": {
     "current": "96a9c2e0-2ca9-11ea-9eae-0242ac120004",
     "history": [
      {
       "current": "96a9c2e0-2ca9-11ea-9eae-0242ac120004",
       "next": "96a9c664-2ca9-11ea-9eae-0242ac120004",
       "previous": "2fc873d2-2ca9-11ea-9eae-0242ac120004"
      },
      {
       "current": "96a9c2e0-2ca9-11ea-9eae-0242ac120004",
       "next": "4aa73da4-2d63-11ea-9f70-0242ac120004",
       "previous": "2fc873d2-2ca9-11ea-9eae-0242ac120004"
      }
     ],
     "next": "09158ae4-4f14-11ea-af7f-0242ac120004",
     "previous": "2fc873d2-2ca9-11ea-9eae-0242ac120004"
    },
    "lc_wrapper": {
     "log_history": [
      "/home/user5/notebooks/seminar-lc4ri/AWS/.log/20200108/20200108-123902-0268.log",
      "/home/user5/notebooks/seminar-lc4ri/AWS/.log/20200123/20200123-122941-0175.log",
      "/home/user2/notebooks/200130/aws_notebook/.log/20200130/20200130-122702-0041.log"
     ]
    },
    "scrolled": true
   },
   "outputs": [
    {
     "name": "stdout",
     "output_type": "stream",
     "text": [
      "\u001b[36m[ℹ]  eksctl version 0.13.0\n",
      "\u001b[0m\u001b[36m[ℹ]  using region us-west-2\n",
      "\u001b[0m\u001b[36m[ℹ]  deleting EKS cluster \"aws-eks-200130\"\n",
      "\u001b[0m\u001b[36m[ℹ]  account is not authorized to use Fargate. Ignoring error\n",
      "\u001b[0m\u001b[36m[✔]  kubeconfig has been updated\n",
      "\u001b[0m\u001b[36m[ℹ]  cleaning up LoadBalancer services\n",
      "\u001b[0m\u001b[36m[ℹ]  2 sequential tasks: { delete nodegroup \"ng-200130\", delete cluster control plane \"aws-eks-200130\" }\n",
      "\u001b[0m\u001b[36m[ℹ]  will delete stack \"eksctl-aws-eks-200130-nodegroup-ng-200130\"\n",
      "\u001b[0m\u001b[36m[ℹ]  waiting for stack \"eksctl-aws-eks-200130-nodegroup-ng-200130\" to get deleted\n",
      "\u001b[0m\u001b[36m[ℹ]  will delete stack \"eksctl-aws-eks-200130-cluster\"\n",
      "\u001b[0m\u001b[36m[ℹ]  waiting for stack \"eksctl-aws-eks-200130-cluster\" to get deleted\n",
      "\u001b[0m"
     ]
    }
   ],
   "source": [
    "!eksctl delete cluster \\\n",
    "    --name {res_info['clusterName']} \\\n",
    "    --wait"
   ]
  },
  {
   "cell_type": "markdown",
   "metadata": {
    "lc_cell_meme": {
     "current": "09158ae4-4f14-11ea-af7f-0242ac120004",
     "next": "09158e86-4f14-11ea-af7f-0242ac120004",
     "previous": "96a9c2e0-2ca9-11ea-9eae-0242ac120004"
    }
   },
   "source": [
    "RDS削除前の確認"
   ]
  },
  {
   "cell_type": "code",
   "execution_count": 3,
   "metadata": {
    "deletable": false,
    "editable": false,
    "lc_cell_meme": {
     "current": "09158e86-4f14-11ea-af7f-0242ac120004",
     "execution_end_time": "2020-02-14T10:22:49.384095Z",
     "next": "09158f80-4f14-11ea-af7f-0242ac120004",
     "previous": "09158ae4-4f14-11ea-af7f-0242ac120004"
    },
    "lc_wrapper": {
     "log_history": [
      "/home/user2/notebooks/200130/aws_notebook/.log/20200214/20200214-102216-0513.log",
      "/home/user2/notebooks/200130/aws_notebook/.log/20200214/20200214-102247-0568.log"
     ]
    },
    "run_through_control": {
     "frozen": true
    }
   },
   "outputs": [
    {
     "name": "stdout",
     "output_type": "stream",
     "text": [
      "{\r\n",
      "    \"DBInstances\": [\r\n",
      "        {\r\n",
      "            \"DBInstanceIdentifier\": \"rds-topse\",\r\n",
      "            \"DBInstanceClass\": \"db.t2.micro\",\r\n",
      "            \"Engine\": \"mysql\",\r\n",
      "            \"DBInstanceStatus\": \"available\",\r\n",
      "            \"MasterUsername\": \"root\",\r\n",
      "            \"Endpoint\": {\r\n",
      "                \"Address\": \"rds-topse.ciph33ijhh38.us-west-2.rds.amazonaws.com\",\r\n",
      "                \"Port\": 3306,\r\n",
      "                \"HostedZoneId\": \"Z1PVIF0B656C1W\"\r\n",
      "            },\r\n",
      "            \"AllocatedStorage\": 5,\r\n",
      "            \"InstanceCreateTime\": \"2020-02-14T08:44:07.189Z\",\r\n",
      "            \"PreferredBackupWindow\": \"08:31-09:01\",\r\n",
      "            \"BackupRetentionPeriod\": 1,\r\n",
      "            \"DBSecurityGroups\": [],\r\n",
      "            \"VpcSecurityGroups\": [\r\n",
      "                {\r\n",
      "                    \"VpcSecurityGroupId\": \"sg-08c8ea2cb2dfe07ca\",\r\n",
      "                    \"Status\": \"active\"\r\n",
      "                }\r\n",
      "            ],\r\n",
      "            \"DBParameterGroups\": [\r\n",
      "                {\r\n",
      "                    \"DBParameterGroupName\": \"default.mysql5.7\",\r\n",
      "                    \"ParameterApplyStatus\": \"in-sync\"\r\n",
      "                }\r\n",
      "            ],\r\n",
      "            \"AvailabilityZone\": \"us-west-2b\",\r\n",
      "            \"DBSubnetGroup\": {\r\n",
      "                \"DBSubnetGroupName\": \"mysqlsubnetgroup\",\r\n",
      "                \"DBSubnetGroupDescription\": \"mysql_db_subnet_group\",\r\n",
      "                \"VpcId\": \"vpc-07b429d6780e6ec5f\",\r\n",
      "                \"SubnetGroupStatus\": \"Complete\",\r\n",
      "                \"Subnets\": [\r\n",
      "                    {\r\n",
      "                        \"SubnetIdentifier\": \"subnet-0e30638ce550097db\",\r\n",
      "                        \"SubnetAvailabilityZone\": {\r\n",
      "                            \"Name\": \"us-west-2c\"\r\n",
      "                        },\r\n",
      "                        \"SubnetStatus\": \"Active\"\r\n",
      "                    },\r\n",
      "                    {\r\n",
      "                        \"SubnetIdentifier\": \"subnet-06efb27de221668d7\",\r\n",
      "                        \"SubnetAvailabilityZone\": {\r\n",
      "                            \"Name\": \"us-west-2b\"\r\n",
      "                        },\r\n",
      "                        \"SubnetStatus\": \"Active\"\r\n",
      "                    }\r\n",
      "                ]\r\n",
      "            },\r\n",
      "            \"PreferredMaintenanceWindow\": \"mon:09:40-mon:10:10\",\r\n",
      "            \"PendingModifiedValues\": {},\r\n",
      "            \"LatestRestorableTime\": \"2020-02-14T10:20:00Z\",\r\n",
      "            \"MultiAZ\": true,\r\n",
      "            \"EngineVersion\": \"5.7.22\",\r\n",
      "            \"AutoMinorVersionUpgrade\": true,\r\n",
      "            \"ReadReplicaDBInstanceIdentifiers\": [],\r\n",
      "            \"LicenseModel\": \"general-public-license\",\r\n",
      "            \"OptionGroupMemberships\": [\r\n",
      "                {\r\n",
      "                    \"OptionGroupName\": \"default:mysql-5-7\",\r\n",
      "                    \"Status\": \"in-sync\"\r\n",
      "                }\r\n",
      "            ],\r\n",
      "            \"SecondaryAvailabilityZone\": \"us-west-2c\",\r\n",
      "            \"PubliclyAccessible\": false,\r\n",
      "            \"StorageType\": \"gp2\",\r\n",
      "            \"DbInstancePort\": 0,\r\n",
      "            \"StorageEncrypted\": false,\r\n",
      "            \"DbiResourceId\": \"db-7BEPIGSNLYWFCVA76DA3SVUWXA\",\r\n",
      "            \"CACertificateIdentifier\": \"rds-ca-2019\",\r\n",
      "            \"DomainMemberships\": [],\r\n",
      "            \"CopyTagsToSnapshot\": false,\r\n",
      "            \"MonitoringInterval\": 0,\r\n",
      "            \"DBInstanceArn\": \"arn:aws:rds:us-west-2:565991835156:db:rds-topse\",\r\n",
      "            \"IAMDatabaseAuthenticationEnabled\": false,\r\n",
      "            \"PerformanceInsightsEnabled\": false,\r\n",
      "            \"DeletionProtection\": false,\r\n",
      "            \"AssociatedRoles\": []\r\n",
      "        }\r\n",
      "    ]\r\n",
      "}\r\n"
     ]
    }
   ],
   "source": [
    "!aws rds describe-db-instances \\\n",
    "        --db-instance-identifier \"RDS-topse\""
   ]
  },
  {
   "cell_type": "markdown",
   "metadata": {
    "lc_cell_meme": {
     "current": "09158f80-4f14-11ea-af7f-0242ac120004",
     "next": "4aa73da4-2d63-11ea-9f70-0242ac120004",
     "previous": "09158e86-4f14-11ea-af7f-0242ac120004"
    }
   },
   "source": [
    "RDS削除 "
   ]
  },
  {
   "cell_type": "code",
   "execution_count": null,
   "metadata": {
    "lc_cell_meme": {
     "current": "4aa73da4-2d63-11ea-9f70-0242ac120004",
     "history": [
      {
       "current": "4aa73da4-2d63-11ea-9f70-0242ac120004",
       "next": null,
       "previous": "96a9c664-2ca9-11ea-9eae-0242ac120004"
      },
      {
       "current": "4aa73da4-2d63-11ea-9f70-0242ac120004",
       "next": null,
       "previous": "96a9c2e0-2ca9-11ea-9eae-0242ac120004"
      }
     ],
     "next": null,
     "previous": "09158f80-4f14-11ea-af7f-0242ac120004"
    }
   },
   "outputs": [],
   "source": [
    "!aws rds delete-db-instance --db-instance-identifier \"RDS-topse\" --skip-final-snapshot"
   ]
  }
 ],
 "metadata": {
  "kernelspec": {
   "display_name": "Python 3",
   "language": "python",
   "name": "python3"
  },
  "language_info": {
   "file_extension": ".py",
   "mimetype": "text/x-python",
   "name": "python",
   "nbconvert_exporter": "python",
   "pygments_lexer": "ipython3",
   "version": "3.7.3"
  },
  "lc_notebook_meme": {
   "current": "22998cf2-14c9-11ea-8ffe-0242ac110002",
   "lc_server_signature": {
    "current": {
     "notebook_dir": "/home/user2/notebooks",
     "notebook_path": "/200130/aws_notebook",
     "server_url": "https://operationhub.kgr-lab.com/user/user2/",
     "signature_id": "ae27fcb2-043f-11ea-b29c-0242ac120002"
    },
    "history": [
     {
      "notebook_dir": "/home/jovyan",
      "notebook_path": "/work/lc4ri",
      "server_url": "http://192.168.0.106:8888/",
      "signature_id": "c932e082-14c8-11ea-8ffe-0242ac110002"
     },
     {
      "notebook_dir": "/home/jovyan",
      "notebook_path": "/work/lc4ri",
      "server_url": "http://192.168.0.105:8888/",
      "signature_id": "257243ec-14fb-11ea-8d3b-0242ac110002"
     },
     {
      "notebook_dir": "/home/user5/notebooks",
      "notebook_path": "/seminar-lc4ri/AWS",
      "server_url": "https://operationhub.kgr-lab.com/user/user5/",
      "signature_id": "ae27fcb2-043f-11ea-b29c-0242ac120002"
     },
     {
      "notebook_dir": "/home/user2/notebooks",
      "notebook_path": "/AWS",
      "server_url": "https://operationhub.kgr-lab.com/user/user2/",
      "signature_id": "ae27fcb2-043f-11ea-b29c-0242ac120002"
     },
     {
      "notebook_dir": "/home/user5/notebooks",
      "notebook_path": "/seminar-lc4ri/AWS",
      "server_url": "https://operationhub.kgr-lab.com/user/user5/",
      "signature_id": "ae27fcb2-043f-11ea-b29c-0242ac120002"
     },
     {
      "notebook_dir": "/home/user2/notebooks",
      "notebook_path": "/AWS",
      "server_url": "https://operationhub.kgr-lab.com/user/user2/",
      "signature_id": "ae27fcb2-043f-11ea-b29c-0242ac120002"
     }
    ]
   }
  },
  "toc": {
   "base_numbering": 1,
   "nav_menu": {},
   "number_sections": true,
   "sideBar": true,
   "skip_h1_title": false,
   "title_cell": "Table of Contents",
   "title_sidebar": "Contents",
   "toc_cell": false,
   "toc_position": {
    "height": "calc(100% - 180px)",
    "left": "10px",
    "top": "150px",
    "width": "165px"
   },
   "toc_section_display": true,
   "toc_window_display": true
  }
 },
 "nbformat": 4,
 "nbformat_minor": 2
}
