{
 "cells": [
  {
   "cell_type": "markdown",
   "metadata": {
    "lc_cell_meme": {
     "current": "a3ec1346-3207-11ea-9983-0242ac120004",
     "history": [
      {
       "current": "a3ec1346-3207-11ea-9983-0242ac120004",
       "next": "58f6674c-2ca8-11ea-9eae-0242ac120004",
       "previous": "a3ec1256-3207-11ea-9983-0242ac120004"
      },
      {
       "current": "a3ec1346-3207-11ea-9983-0242ac120004",
       "next": "58f6674c-2ca8-11ea-9eae-0242ac120004",
       "previous": "4b437240-27d8-11ea-874f-0242ac120004"
      },
      {
       "current": "a3ec1346-3207-11ea-9983-0242ac120004",
       "next": "58f6674c-2ca8-11ea-9eae-0242ac120004",
       "previous": "d18e609a-3dd0-11ea-bfd5-0242ac120005"
      },
      {
       "current": "a3ec1346-3207-11ea-9983-0242ac120004",
       "next": "58f6674c-2ca8-11ea-9eae-0242ac120004",
       "previous": "7eb90d96-3dd2-11ea-bfd5-0242ac120005"
      },
      {
       "current": "a3ec1346-3207-11ea-9983-0242ac120004",
       "next": "58f6674c-2ca8-11ea-9eae-0242ac120004",
       "previous": "02740ce2-3dd5-11ea-bfd5-0242ac120005"
      }
     ],
     "next": "58f6674c-2ca8-11ea-9eae-0242ac120004",
     "previous": null
    }
   },
   "source": [
    "# 削除"
   ]
  },
  {
   "cell_type": "markdown",
   "metadata": {
    "lc_cell_meme": {
     "current": "58f6674c-2ca8-11ea-9eae-0242ac120004",
     "history": [
      {
       "current": "58f6674c-2ca8-11ea-9eae-0242ac120004",
       "next": "58f6699a-2ca8-11ea-9eae-0242ac120004",
       "previous": "4b437240-27d8-11ea-874f-0242ac120004"
      },
      {
       "current": "58f6674c-2ca8-11ea-9eae-0242ac120004",
       "next": "a08d712c-2ca8-11ea-9eae-0242ac120004",
       "previous": "4b437240-27d8-11ea-874f-0242ac120004"
      },
      {
       "current": "58f6674c-2ca8-11ea-9eae-0242ac120004",
       "next": "a08d712c-2ca8-11ea-9eae-0242ac120004",
       "previous": "a3ec1346-3207-11ea-9983-0242ac120004"
      }
     ],
     "next": "b7182bd2-3ddb-11ea-bfd5-0242ac120005",
     "previous": "a3ec1346-3207-11ea-9983-0242ac120004"
    }
   },
   "source": [
    "まずはALBIngressControllerIAMPolicyの削除"
   ]
  },
  {
   "cell_type": "code",
   "execution_count": 129,
   "metadata": {
    "lc_cell_meme": {
     "current": "b7182bd2-3ddb-11ea-bfd5-0242ac120005",
     "execution_end_time": "2020-01-23T12:25:45.429533Z",
     "next": "b7182e98-3ddb-11ea-bfd5-0242ac120005",
     "previous": "58f6674c-2ca8-11ea-9eae-0242ac120004"
    },
    "lc_wrapper": {
     "log_history": [
      "/home/user5/notebooks/seminar-lc4ri/AWS/.log/20200123/20200123-122545-0423.log"
     ]
    }
   },
   "outputs": [],
   "source": [
    "ALBPolicyArn = 'arn:aws:iam::565991835156:policy/ALBIngressControllerIAMPolicy'"
   ]
  },
  {
   "cell_type": "code",
   "execution_count": 130,
   "metadata": {
    "lc_cell_meme": {
     "current": "b7182e98-3ddb-11ea-bfd5-0242ac120005",
     "execution_end_time": "2020-01-23T12:26:39.633998Z",
     "next": "a08d712c-2ca8-11ea-9eae-0242ac120004",
     "previous": "b7182bd2-3ddb-11ea-bfd5-0242ac120005"
    },
    "lc_wrapper": {
     "log_history": [
      "/home/user5/notebooks/seminar-lc4ri/AWS/.log/20200123/20200123-122639-0628.log"
     ]
    }
   },
   "outputs": [],
   "source": [
    "workerRolearn = 'eksctl-aws-eks-200123-nodegroup-n-NodeInstanceRole-1S46M9PWOP7U1'"
   ]
  },
  {
   "cell_type": "code",
   "execution_count": 131,
   "metadata": {
    "lc_cell_meme": {
     "current": "a08d712c-2ca8-11ea-9eae-0242ac120004",
     "execution_end_time": "2020-01-23T12:26:44.120603Z",
     "history": [
      {
       "current": "a08d712c-2ca8-11ea-9eae-0242ac120004",
       "next": null,
       "previous": "58f66c2e-2ca8-11ea-9eae-0242ac120004"
      },
      {
       "current": "a08d712c-2ca8-11ea-9eae-0242ac120004",
       "next": "e837ec3c-2ca8-11ea-9eae-0242ac120004",
       "previous": "58f66c2e-2ca8-11ea-9eae-0242ac120004"
      },
      {
       "current": "a08d712c-2ca8-11ea-9eae-0242ac120004",
       "next": "e837ec3c-2ca8-11ea-9eae-0242ac120004",
       "previous": "58f6674c-2ca8-11ea-9eae-0242ac120004"
      },
      {
       "current": "a08d712c-2ca8-11ea-9eae-0242ac120004",
       "next": "f9a65ae0-3792-11ea-8b4d-0242ac120004",
       "previous": "58f6674c-2ca8-11ea-9eae-0242ac120004"
      }
     ],
     "next": "e837ec3c-2ca8-11ea-9eae-0242ac120004",
     "previous": "b7182e98-3ddb-11ea-bfd5-0242ac120005"
    },
    "lc_wrapper": {
     "log_history": [
      "/home/user5/notebooks/seminar-lc4ri/AWS/.log/20200101/20200101-151054-0270.log",
      "/home/user5/notebooks/seminar-lc4ri/AWS/.log/20200108/20200108-123838-0347.log",
      "/home/user2/notebooks/AWS/.log/20200115/20200115-122838-0417.log",
      "/home/user5/notebooks/seminar-lc4ri/AWS/.log/20200123/20200123-122222-0703.log",
      "/home/user5/notebooks/seminar-lc4ri/AWS/.log/20200123/20200123-122642-0215.log"
     ]
    }
   },
   "outputs": [],
   "source": [
    "!aws iam detach-role-policy \\\n",
    "--policy-arn {ALBPolicyArn} \\\n",
    "--role-name {workerRolearn}"
   ]
  },
  {
   "cell_type": "code",
   "execution_count": 132,
   "metadata": {
    "lc_cell_meme": {
     "current": "e837ec3c-2ca8-11ea-9eae-0242ac120004",
     "execution_end_time": "2020-01-23T12:27:16.831333Z",
     "history": [
      {
       "current": "e837ec3c-2ca8-11ea-9eae-0242ac120004",
       "next": null,
       "previous": "a08d712c-2ca8-11ea-9eae-0242ac120004"
      },
      {
       "current": "e837ec3c-2ca8-11ea-9eae-0242ac120004",
       "next": "2fc873d2-2ca9-11ea-9eae-0242ac120004",
       "previous": "a08d712c-2ca8-11ea-9eae-0242ac120004"
      },
      {
       "current": "e837ec3c-2ca8-11ea-9eae-0242ac120004",
       "next": "5b3b82f2-3203-11ea-9983-0242ac120004",
       "previous": "a08d712c-2ca8-11ea-9eae-0242ac120004"
      },
      {
       "current": "e837ec3c-2ca8-11ea-9eae-0242ac120004",
       "next": "f9a65d88-3792-11ea-8b4d-0242ac120004",
       "previous": "f9a65ae0-3792-11ea-8b4d-0242ac120004"
      },
      {
       "current": "e837ec3c-2ca8-11ea-9eae-0242ac120004",
       "next": "f9a65d88-3792-11ea-8b4d-0242ac120004",
       "previous": "6d0e782a-3ddb-11ea-bfd5-0242ac120005"
      }
     ],
     "next": "5b3b82f2-3203-11ea-9983-0242ac120004",
     "previous": "a08d712c-2ca8-11ea-9eae-0242ac120004"
    },
    "lc_wrapper": {
     "log_history": [
      "/home/user5/notebooks/seminar-lc4ri/AWS/.log/20200101/20200101-151110-0896.log",
      "/home/user5/notebooks/seminar-lc4ri/AWS/.log/20200101/20200101-151115-0799.log",
      "/home/user5/notebooks/seminar-lc4ri/AWS/.log/20200101/20200101-151127-0669.log",
      "/home/user5/notebooks/seminar-lc4ri/AWS/.log/20200108/20200108-123840-0959.log",
      "/home/user2/notebooks/AWS/.log/20200115/20200115-123016-0606.log",
      "/home/user5/notebooks/seminar-lc4ri/AWS/.log/20200123/20200123-122510-0740.log",
      "/home/user5/notebooks/seminar-lc4ri/AWS/.log/20200123/20200123-122714-0895.log"
     ]
    }
   },
   "outputs": [],
   "source": [
    "!aws iam delete-policy \\\n",
    "--policy-arn {ALBPolicyArn}"
   ]
  },
  {
   "cell_type": "markdown",
   "metadata": {
    "lc_cell_meme": {
     "current": "5b3b82f2-3203-11ea-9983-0242ac120004",
     "history": [
      {
       "current": "5b3b82f2-3203-11ea-9983-0242ac120004",
       "next": "5b3b8590-3203-11ea-9983-0242ac120004",
       "previous": "e837ec3c-2ca8-11ea-9eae-0242ac120004"
      },
      {
       "current": "5b3b82f2-3203-11ea-9983-0242ac120004",
       "next": "5b3b8590-3203-11ea-9983-0242ac120004",
       "previous": "f9a65d88-3792-11ea-8b4d-0242ac120004"
      }
     ],
     "next": "5b3b8590-3203-11ea-9983-0242ac120004",
     "previous": "e837ec3c-2ca8-11ea-9eae-0242ac120004"
    }
   },
   "source": [
    "kubectlで作成したオブジェクトの削除"
   ]
  },
  {
   "cell_type": "code",
   "execution_count": 133,
   "metadata": {
    "lc_cell_meme": {
     "current": "5b3b8590-3203-11ea-9983-0242ac120004",
     "execution_end_time": "2020-01-23T12:27:34.801761Z",
     "history": [
      {
       "current": "5b3b8590-3203-11ea-9983-0242ac120004",
       "next": "2fc873d2-2ca9-11ea-9eae-0242ac120004",
       "previous": "5b3b82f2-3203-11ea-9983-0242ac120004"
      }
     ],
     "next": "fe9d8272-3ddb-11ea-bfd5-0242ac120005",
     "previous": "5b3b82f2-3203-11ea-9983-0242ac120004"
    },
    "lc_wrapper": {
     "log_history": [
      "/home/user5/notebooks/seminar-lc4ri/AWS/.log/20200108/20200108-123847-0371.log",
      "/home/user5/notebooks/seminar-lc4ri/AWS/.log/20200123/20200123-122723-0059.log"
     ]
    }
   },
   "outputs": [
    {
     "name": "stdout",
     "output_type": "stream",
     "text": [
      "ingress.extensions \"wordpress-ingress\" deleted\n",
      "service \"wordpress\" deleted\n",
      "deployment.apps \"wordpress\" deleted\n",
      "deployment.apps \"alb-ingress-controller\" deleted\n",
      "clusterrole.rbac.authorization.k8s.io \"alb-ingress-controller\" deleted\n",
      "clusterrolebinding.rbac.authorization.k8s.io \"alb-ingress-controller\" deleted\n",
      "serviceaccount \"alb-ingress-controller\" deleted\n",
      "serviceaccount \"efs-provisioner\" deleted\n",
      "deployment.apps \"efs-provisioner\" deleted\n"
     ]
    }
   ],
   "source": [
    "!kubectl delete -f yaml/wordpress-ingress.yaml\n",
    "!kubectl delete -f yaml/wordpress-service.yaml\n",
    "!kubectl delete -f yaml/wordpress-deploy.yaml\n",
    "!kubectl delete -f alb-ingress-controller.yaml\n",
    "!kubectl delete -f https://raw.githubusercontent.com/kubernetes-sigs/aws-alb-ingress-controller/v1.1.4/docs/examples/rbac-role.yaml\n",
    "!kubectl delete -f deployment.yaml    "
   ]
  },
  {
   "cell_type": "code",
   "execution_count": 134,
   "metadata": {
    "lc_cell_meme": {
     "current": "fe9d8272-3ddb-11ea-bfd5-0242ac120005",
     "execution_end_time": "2020-01-23T12:29:22.882259Z",
     "next": "2fc873d2-2ca9-11ea-9eae-0242ac120004",
     "previous": "5b3b8590-3203-11ea-9983-0242ac120004"
    },
    "lc_wrapper": {
     "log_history": [
      "/home/user5/notebooks/seminar-lc4ri/AWS/.log/20200123/20200123-122915-0281.log"
     ]
    }
   },
   "outputs": [
    {
     "name": "stdout",
     "output_type": "stream",
     "text": [
      "storageclass.storage.k8s.io \"aws-efs\" deleted\n",
      "configmap \"efs-provisioner\" deleted\n",
      "clusterrole.rbac.authorization.k8s.io \"efs-provisioner-runner\" deleted\n",
      "clusterrolebinding.rbac.authorization.k8s.io \"run-efs-provisioner\" deleted\n",
      "role.rbac.authorization.k8s.io \"leader-locking-efs-provisioner\" deleted\n",
      "rolebinding.rbac.authorization.k8s.io \"leader-locking-efs-provisioner\" deleted\n",
      "Error from server (NotFound): error when deleting \"deployment.yaml\": serviceaccounts \"efs-provisioner\" not found\n",
      "Error from server (NotFound): error when deleting \"deployment.yaml\": deployments.apps \"efs-provisioner\" not found\n"
     ]
    },
    {
     "ename": "RuntimeError",
     "evalue": "Unexpected exit code: 1",
     "output_type": "error",
     "traceback": [
      "\u001b[0;31m---------------------------------------------------------------------------\u001b[0m",
      "\u001b[0;31mRuntimeError\u001b[0m                              Traceback (most recent call last)",
      "\u001b[0;32m<ipython-input-134-d7889cfe748c>\u001b[0m in \u001b[0;36m<module>\u001b[0;34m\u001b[0m\n\u001b[1;32m      2\u001b[0m \u001b[0mget_ipython\u001b[0m\u001b[0;34m(\u001b[0m\u001b[0;34m)\u001b[0m\u001b[0;34m.\u001b[0m\u001b[0msystem\u001b[0m\u001b[0;34m(\u001b[0m\u001b[0;34m'kubectl delete -f configmap.yaml'\u001b[0m\u001b[0;34m)\u001b[0m\u001b[0;34m\u001b[0m\u001b[0;34m\u001b[0m\u001b[0m\n\u001b[1;32m      3\u001b[0m \u001b[0mget_ipython\u001b[0m\u001b[0;34m(\u001b[0m\u001b[0;34m)\u001b[0m\u001b[0;34m.\u001b[0m\u001b[0msystem\u001b[0m\u001b[0;34m(\u001b[0m\u001b[0;34m'kubectl delete -f rbac.yaml'\u001b[0m\u001b[0;34m)\u001b[0m\u001b[0;34m\u001b[0m\u001b[0;34m\u001b[0m\u001b[0m\n\u001b[0;32m----> 4\u001b[0;31m \u001b[0mget_ipython\u001b[0m\u001b[0;34m(\u001b[0m\u001b[0;34m)\u001b[0m\u001b[0;34m.\u001b[0m\u001b[0msystem\u001b[0m\u001b[0;34m(\u001b[0m\u001b[0;34m'kubectl delete -f deployment.yaml'\u001b[0m\u001b[0;34m)\u001b[0m\u001b[0;34m\u001b[0m\u001b[0;34m\u001b[0m\u001b[0m\n\u001b[0m\u001b[1;32m      5\u001b[0m \u001b[0mget_ipython\u001b[0m\u001b[0;34m(\u001b[0m\u001b[0;34m)\u001b[0m\u001b[0;34m.\u001b[0m\u001b[0msystem\u001b[0m\u001b[0;34m(\u001b[0m\u001b[0;34m'kubectl delete -f claim.yaml'\u001b[0m\u001b[0;34m)\u001b[0m\u001b[0;34m\u001b[0m\u001b[0;34m\u001b[0m\u001b[0m\n",
      "\u001b[0;32m/opt/conda/etc/ipython/startup/10-custom-get_ipython_system.py\u001b[0m in \u001b[0;36m<lambda>\u001b[0;34m(x)\u001b[0m\n\u001b[1;32m      5\u001b[0m \u001b[0;34m\u001b[0m\u001b[0m\n\u001b[1;32m      6\u001b[0m \u001b[0msave_get_ipython_system\u001b[0m \u001b[0;34m=\u001b[0m \u001b[0mget_ipython\u001b[0m\u001b[0;34m(\u001b[0m\u001b[0;34m)\u001b[0m\u001b[0;34m.\u001b[0m\u001b[0msystem\u001b[0m\u001b[0;34m\u001b[0m\u001b[0;34m\u001b[0m\u001b[0m\n\u001b[0;32m----> 7\u001b[0;31m \u001b[0mget_ipython\u001b[0m\u001b[0;34m(\u001b[0m\u001b[0;34m)\u001b[0m\u001b[0;34m.\u001b[0m\u001b[0msystem\u001b[0m \u001b[0;34m=\u001b[0m \u001b[0;32mlambda\u001b[0m \u001b[0mx\u001b[0m\u001b[0;34m:\u001b[0m \u001b[0mget_ipython_system\u001b[0m\u001b[0;34m(\u001b[0m\u001b[0mx\u001b[0m\u001b[0;34m)\u001b[0m\u001b[0;34m\u001b[0m\u001b[0;34m\u001b[0m\u001b[0m\n\u001b[0m\u001b[1;32m      8\u001b[0m \u001b[0;34m\u001b[0m\u001b[0m\n\u001b[1;32m      9\u001b[0m \u001b[0;31m# interactiveshell.py's system_piped() function comment saids:\u001b[0m\u001b[0;34m\u001b[0m\u001b[0;34m\u001b[0m\u001b[0;34m\u001b[0m\u001b[0m\n",
      "\u001b[0;32m/opt/conda/etc/ipython/startup/10-custom-get_ipython_system.py\u001b[0m in \u001b[0;36mget_ipython_system\u001b[0;34m(_cmd)\u001b[0m\n\u001b[1;32m     13\u001b[0m     \u001b[0msave_get_ipython_system\u001b[0m\u001b[0;34m(\u001b[0m\u001b[0m_cmd\u001b[0m\u001b[0;34m)\u001b[0m\u001b[0;34m\u001b[0m\u001b[0;34m\u001b[0m\u001b[0m\n\u001b[1;32m     14\u001b[0m     \u001b[0;32mif\u001b[0m \u001b[0mget_ipython\u001b[0m\u001b[0;34m(\u001b[0m\u001b[0;34m)\u001b[0m\u001b[0;34m.\u001b[0m\u001b[0muser_ns\u001b[0m\u001b[0;34m[\u001b[0m\u001b[0;34m'_exit_code'\u001b[0m\u001b[0;34m]\u001b[0m \u001b[0;34m!=\u001b[0m \u001b[0;36m0\u001b[0m\u001b[0;34m:\u001b[0m\u001b[0;34m\u001b[0m\u001b[0;34m\u001b[0m\u001b[0m\n\u001b[0;32m---> 15\u001b[0;31m         \u001b[0;32mraise\u001b[0m \u001b[0mRuntimeError\u001b[0m\u001b[0;34m(\u001b[0m\u001b[0;34m'Unexpected exit code: %d'\u001b[0m \u001b[0;34m%\u001b[0m \u001b[0mget_ipython\u001b[0m\u001b[0;34m(\u001b[0m\u001b[0;34m)\u001b[0m\u001b[0;34m.\u001b[0m\u001b[0muser_ns\u001b[0m\u001b[0;34m[\u001b[0m\u001b[0;34m'_exit_code'\u001b[0m\u001b[0;34m]\u001b[0m\u001b[0;34m)\u001b[0m\u001b[0;34m\u001b[0m\u001b[0;34m\u001b[0m\u001b[0m\n\u001b[0m",
      "\u001b[0;31mRuntimeError\u001b[0m: Unexpected exit code: 1"
     ]
    }
   ],
   "source": [
    "!kubectl delete -f class.yaml\n",
    "!kubectl delete -f configmap.yaml\n",
    "!kubectl delete -f rbac.yaml\n",
    "!kubectl delete -f deployment.yaml\n",
    "!kubectl delete -f claim.yaml"
   ]
  },
  {
   "cell_type": "markdown",
   "metadata": {
    "lc_cell_meme": {
     "current": "2fc873d2-2ca9-11ea-9eae-0242ac120004",
     "history": [
      {
       "current": "2fc873d2-2ca9-11ea-9eae-0242ac120004",
       "next": null,
       "previous": "e837ec3c-2ca8-11ea-9eae-0242ac120004"
      },
      {
       "current": "2fc873d2-2ca9-11ea-9eae-0242ac120004",
       "next": "96a9c2e0-2ca9-11ea-9eae-0242ac120004",
       "previous": "e837ec3c-2ca8-11ea-9eae-0242ac120004"
      },
      {
       "current": "2fc873d2-2ca9-11ea-9eae-0242ac120004",
       "next": "96a9c2e0-2ca9-11ea-9eae-0242ac120004",
       "previous": "5b3b8590-3203-11ea-9983-0242ac120004"
      }
     ],
     "next": "96a9c2e0-2ca9-11ea-9eae-0242ac120004",
     "previous": "fe9d8272-3ddb-11ea-bfd5-0242ac120005"
    }
   },
   "source": [
    "クラスタの削除"
   ]
  },
  {
   "cell_type": "code",
   "execution_count": 135,
   "metadata": {
    "lc_cell_meme": {
     "current": "96a9c2e0-2ca9-11ea-9eae-0242ac120004",
     "execution_end_time": "2020-01-23T12:32:19.019822Z",
     "history": [
      {
       "current": "96a9c2e0-2ca9-11ea-9eae-0242ac120004",
       "next": "96a9c664-2ca9-11ea-9eae-0242ac120004",
       "previous": "2fc873d2-2ca9-11ea-9eae-0242ac120004"
      }
     ],
     "next": "4aa73da4-2d63-11ea-9f70-0242ac120004",
     "previous": "2fc873d2-2ca9-11ea-9eae-0242ac120004"
    },
    "lc_wrapper": {
     "log_history": [
      "/home/user5/notebooks/seminar-lc4ri/AWS/.log/20200108/20200108-123902-0268.log",
      "/home/user5/notebooks/seminar-lc4ri/AWS/.log/20200123/20200123-122941-0175.log"
     ]
    }
   },
   "outputs": [
    {
     "name": "stdout",
     "output_type": "stream",
     "text": [
      "\u001b[36m[ℹ]  eksctl version 0.13.0\n",
      "\u001b[0m\u001b[36m[ℹ]  using region us-west-2\n",
      "\u001b[0m\u001b[36m[ℹ]  deleting EKS cluster \"aws-eks-200123\"\n",
      "\u001b[0m\u001b[36m[ℹ]  account is not authorized to use Fargate. Ignoring error\n",
      "\u001b[0m\u001b[36m[ℹ]  cleaning up LoadBalancer services\n",
      "\u001b[0m\u001b[36m[ℹ]  2 sequential tasks: { delete nodegroup \"ng-200123\", delete cluster control plane \"aws-eks-200123\" }\n",
      "\u001b[0m\u001b[36m[ℹ]  will delete stack \"eksctl-aws-eks-200123-nodegroup-ng-200123\"\n",
      "\u001b[0m\u001b[36m[ℹ]  waiting for stack \"eksctl-aws-eks-200123-nodegroup-ng-200123\" to get deleted\n",
      "\u001b[0m\u001b[31m[✖]  unexpected status \"DELETE_FAILED\" while waiting for CloudFormation stack \"eksctl-aws-eks-200123-nodegroup-ng-200123\"\n",
      "\u001b[0m\u001b[36m[ℹ]  fetching stack events in attempt to troubleshoot the root cause of the failure\n",
      "\u001b[0m\u001b[31m[✖]  AWS::CloudFormation::Stack/eksctl-aws-eks-200123-nodegroup-ng-200123: DELETE_FAILED – \"The following resource(s) failed to delete: [NodeInstanceRole]. \"\n",
      "\u001b[0m\u001b[31m[✖]  AWS::IAM::Role/NodeInstanceRole: DELETE_FAILED – \"Cannot delete entity, must detach all policies first. (Service: AmazonIdentityManagement; Status Code: 409; Error Code: DeleteConflict; Request ID: 85be4774-d0f3-4997-9624-9dc6f9b1cf93)\"\n",
      "\u001b[0m\u001b[36m[ℹ]  1 error(s) occurred while deleting cluster with nodegroup(s)\n",
      "\u001b[0m\u001b[31m[✖]  waiting for CloudFormation stack \"eksctl-aws-eks-200123-nodegroup-ng-200123\": ResourceNotReady: failed waiting for successful resource state\n",
      "\u001b[0mError: failed to delete cluster with nodegroup(s)\n"
     ]
    },
    {
     "ename": "RuntimeError",
     "evalue": "Unexpected exit code: 1",
     "output_type": "error",
     "traceback": [
      "\u001b[0;31m---------------------------------------------------------------------------\u001b[0m",
      "\u001b[0;31mRuntimeError\u001b[0m                              Traceback (most recent call last)",
      "\u001b[0;32m<ipython-input-135-734c0bc15a2c>\u001b[0m in \u001b[0;36m<module>\u001b[0;34m\u001b[0m\n\u001b[0;32m----> 1\u001b[0;31m \u001b[0mget_ipython\u001b[0m\u001b[0;34m(\u001b[0m\u001b[0;34m)\u001b[0m\u001b[0;34m.\u001b[0m\u001b[0msystem\u001b[0m\u001b[0;34m(\u001b[0m\u001b[0;34m'eksctl delete cluster      --name {clusterName}      --wait'\u001b[0m\u001b[0;34m)\u001b[0m\u001b[0;34m\u001b[0m\u001b[0;34m\u001b[0m\u001b[0m\n\u001b[0m",
      "\u001b[0;32m/opt/conda/etc/ipython/startup/10-custom-get_ipython_system.py\u001b[0m in \u001b[0;36m<lambda>\u001b[0;34m(x)\u001b[0m\n\u001b[1;32m      5\u001b[0m \u001b[0;34m\u001b[0m\u001b[0m\n\u001b[1;32m      6\u001b[0m \u001b[0msave_get_ipython_system\u001b[0m \u001b[0;34m=\u001b[0m \u001b[0mget_ipython\u001b[0m\u001b[0;34m(\u001b[0m\u001b[0;34m)\u001b[0m\u001b[0;34m.\u001b[0m\u001b[0msystem\u001b[0m\u001b[0;34m\u001b[0m\u001b[0;34m\u001b[0m\u001b[0m\n\u001b[0;32m----> 7\u001b[0;31m \u001b[0mget_ipython\u001b[0m\u001b[0;34m(\u001b[0m\u001b[0;34m)\u001b[0m\u001b[0;34m.\u001b[0m\u001b[0msystem\u001b[0m \u001b[0;34m=\u001b[0m \u001b[0;32mlambda\u001b[0m \u001b[0mx\u001b[0m\u001b[0;34m:\u001b[0m \u001b[0mget_ipython_system\u001b[0m\u001b[0;34m(\u001b[0m\u001b[0mx\u001b[0m\u001b[0;34m)\u001b[0m\u001b[0;34m\u001b[0m\u001b[0;34m\u001b[0m\u001b[0m\n\u001b[0m\u001b[1;32m      8\u001b[0m \u001b[0;34m\u001b[0m\u001b[0m\n\u001b[1;32m      9\u001b[0m \u001b[0;31m# interactiveshell.py's system_piped() function comment saids:\u001b[0m\u001b[0;34m\u001b[0m\u001b[0;34m\u001b[0m\u001b[0;34m\u001b[0m\u001b[0m\n",
      "\u001b[0;32m/opt/conda/etc/ipython/startup/10-custom-get_ipython_system.py\u001b[0m in \u001b[0;36mget_ipython_system\u001b[0;34m(_cmd)\u001b[0m\n\u001b[1;32m     13\u001b[0m     \u001b[0msave_get_ipython_system\u001b[0m\u001b[0;34m(\u001b[0m\u001b[0m_cmd\u001b[0m\u001b[0;34m)\u001b[0m\u001b[0;34m\u001b[0m\u001b[0;34m\u001b[0m\u001b[0m\n\u001b[1;32m     14\u001b[0m     \u001b[0;32mif\u001b[0m \u001b[0mget_ipython\u001b[0m\u001b[0;34m(\u001b[0m\u001b[0;34m)\u001b[0m\u001b[0;34m.\u001b[0m\u001b[0muser_ns\u001b[0m\u001b[0;34m[\u001b[0m\u001b[0;34m'_exit_code'\u001b[0m\u001b[0;34m]\u001b[0m \u001b[0;34m!=\u001b[0m \u001b[0;36m0\u001b[0m\u001b[0;34m:\u001b[0m\u001b[0;34m\u001b[0m\u001b[0;34m\u001b[0m\u001b[0m\n\u001b[0;32m---> 15\u001b[0;31m         \u001b[0;32mraise\u001b[0m \u001b[0mRuntimeError\u001b[0m\u001b[0;34m(\u001b[0m\u001b[0;34m'Unexpected exit code: %d'\u001b[0m \u001b[0;34m%\u001b[0m \u001b[0mget_ipython\u001b[0m\u001b[0;34m(\u001b[0m\u001b[0;34m)\u001b[0m\u001b[0;34m.\u001b[0m\u001b[0muser_ns\u001b[0m\u001b[0;34m[\u001b[0m\u001b[0;34m'_exit_code'\u001b[0m\u001b[0;34m]\u001b[0m\u001b[0;34m)\u001b[0m\u001b[0;34m\u001b[0m\u001b[0;34m\u001b[0m\u001b[0m\n\u001b[0m",
      "\u001b[0;31mRuntimeError\u001b[0m: Unexpected exit code: 1"
     ]
    }
   ],
   "source": [
    "!eksctl delete cluster \\\n",
    "    --name {clusterName} \\\n",
    "    --wait"
   ]
  },
  {
   "cell_type": "code",
   "execution_count": null,
   "metadata": {
    "lc_cell_meme": {
     "current": "4aa73da4-2d63-11ea-9f70-0242ac120004",
     "history": [
      {
       "current": "4aa73da4-2d63-11ea-9f70-0242ac120004",
       "next": null,
       "previous": "96a9c664-2ca9-11ea-9eae-0242ac120004"
      }
     ],
     "next": null,
     "previous": "96a9c2e0-2ca9-11ea-9eae-0242ac120004"
    }
   },
   "outputs": [],
   "source": []
  }
 ],
 "metadata": {
  "kernelspec": {
   "display_name": "Python 3",
   "language": "python",
   "name": "python3"
  },
  "language_info": {
   "file_extension": ".py",
   "mimetype": "text/x-python",
   "name": "python",
   "nbconvert_exporter": "python",
   "pygments_lexer": "ipython3",
   "version": "3.7.3"
  },
  "lc_notebook_meme": {
   "current": "22998cf2-14c9-11ea-8ffe-0242ac110002",
   "lc_server_signature": {
    "current": {
     "notebook_dir": "/home/user2/notebooks",
     "notebook_path": "/AWS",
     "server_url": "https://operationhub.kgr-lab.com/user/user2/",
     "signature_id": "ae27fcb2-043f-11ea-b29c-0242ac120002"
    },
    "history": [
     {
      "notebook_dir": "/home/jovyan",
      "notebook_path": "/work/lc4ri",
      "server_url": "http://192.168.0.106:8888/",
      "signature_id": "c932e082-14c8-11ea-8ffe-0242ac110002"
     },
     {
      "notebook_dir": "/home/jovyan",
      "notebook_path": "/work/lc4ri",
      "server_url": "http://192.168.0.105:8888/",
      "signature_id": "257243ec-14fb-11ea-8d3b-0242ac110002"
     },
     {
      "notebook_dir": "/home/user5/notebooks",
      "notebook_path": "/seminar-lc4ri/AWS",
      "server_url": "https://operationhub.kgr-lab.com/user/user5/",
      "signature_id": "ae27fcb2-043f-11ea-b29c-0242ac120002"
     },
     {
      "notebook_dir": "/home/user2/notebooks",
      "notebook_path": "/AWS",
      "server_url": "https://operationhub.kgr-lab.com/user/user2/",
      "signature_id": "ae27fcb2-043f-11ea-b29c-0242ac120002"
     },
     {
      "notebook_dir": "/home/user5/notebooks",
      "notebook_path": "/seminar-lc4ri/AWS",
      "server_url": "https://operationhub.kgr-lab.com/user/user5/",
      "signature_id": "ae27fcb2-043f-11ea-b29c-0242ac120002"
     }
    ]
   }
  },
  "toc": {
   "base_numbering": 1,
   "nav_menu": {},
   "number_sections": true,
   "sideBar": true,
   "skip_h1_title": false,
   "title_cell": "Table of Contents",
   "title_sidebar": "Contents",
   "toc_cell": false,
   "toc_position": {
    "height": "calc(100% - 180px)",
    "left": "10px",
    "top": "150px",
    "width": "165px"
   },
   "toc_section_display": true,
   "toc_window_display": true
  }
 },
 "nbformat": 4,
 "nbformat_minor": 2
}
