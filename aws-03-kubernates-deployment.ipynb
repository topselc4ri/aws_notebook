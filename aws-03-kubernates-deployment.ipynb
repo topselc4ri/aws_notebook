{
 "cells": [
  {
   "cell_type": "markdown",
   "metadata": {
    "lc_cell_meme": {
     "current": "a19e45b8-4f09-11ea-af7f-0242ac120004",
     "execution_end_time": "2020-02-14T09:07:48.608461Z",
     "history": [
      {
       "current": "a19e45b8-4f09-11ea-af7f-0242ac120004",
       "next": "81674584-4355-11ea-82b4-0242ac120004",
       "previous": null
      }
     ],
     "next": "77bbea70-4f1d-11ea-af7f-0242ac120004",
     "previous": null
    },
    "lc_wrapper": {
     "log_history": [
      "/home/user2/notebooks/200130/aws_notebook/.log/20200214/20200214-090748-0597.log"
     ]
    }
   },
   "source": [
    "# Kubernetes操作\n",
    "\n",
    "## Kubernetesリソースの作成\n"
   ]
  },
  {
   "cell_type": "code",
   "execution_count": 217,
   "metadata": {
    "deletable": false,
    "editable": false,
    "lc_cell_meme": {
     "current": "77bbea70-4f1d-11ea-af7f-0242ac120004",
     "execution_end_time": "2020-02-14T11:31:17.947629Z",
     "next": "81674584-4355-11ea-82b4-0242ac120004",
     "previous": "a19e45b8-4f09-11ea-af7f-0242ac120004"
    },
    "lc_wrapper": {
     "log_history": [
      "/home/user2/notebooks/200130/aws_notebook/.log/20200214/20200214-113106-0621.log",
      "/home/user2/notebooks/200130/aws_notebook/.log/20200214/20200214-113116-0958.log"
     ]
    },
    "run_through_control": {
     "frozen": true
    }
   },
   "outputs": [
    {
     "name": "stdout",
     "output_type": "stream",
     "text": [
      "Fri Feb 14 11:31:17 UTC 2020\r\n"
     ]
    }
   ],
   "source": [
    "!date"
   ]
  },
  {
   "cell_type": "code",
   "execution_count": 218,
   "metadata": {
    "deletable": false,
    "editable": false,
    "lc_cell_meme": {
     "current": "81674584-4355-11ea-82b4-0242ac120004",
     "execution_end_time": "2020-02-14T11:31:17.969159Z",
     "history": [
      {
       "current": "81674584-4355-11ea-82b4-0242ac120004",
       "next": "fd8f50d2-4352-11ea-82b4-0242ac120004",
       "previous": null
      },
      {
       "current": "81674584-4355-11ea-82b4-0242ac120004",
       "next": "4514db70-4353-11ea-82b4-0242ac120004",
       "previous": "a19e45b8-4f09-11ea-af7f-0242ac120004"
      },
      {
       "current": "81674584-4355-11ea-82b4-0242ac120004",
       "next": "19b39662-4f0e-11ea-af7f-0242ac120004",
       "previous": "a19e45b8-4f09-11ea-af7f-0242ac120004"
      },
      {
       "current": "81674584-4355-11ea-82b4-0242ac120004",
       "next": "618b12da-4f0e-11ea-af7f-0242ac120004",
       "previous": "a19e45b8-4f09-11ea-af7f-0242ac120004"
      }
     ],
     "next": "618b12da-4f0e-11ea-af7f-0242ac120004",
     "previous": "77bbea70-4f1d-11ea-af7f-0242ac120004"
    },
    "lc_wrapper": {
     "log_history": [
      "/home/user2/notebooks/200130/aws_notebook/.log/20200130/20200130-114211-0043.log",
      "/home/user2/notebooks/200130/aws_notebook/.log/20200130/20200130-114220-0776.log",
      "/home/user2/notebooks/200130/aws_notebook/.log/20200130/20200130-114412-0294.log",
      "/home/user2/notebooks/200130/aws_notebook/.log/20200130/20200130-114504-0933.log",
      "/home/user2/notebooks/200130/aws_notebook/.log/20200130/20200130-114619-0445.log",
      "/home/user2/notebooks/200130/aws_notebook/.log/20200130/20200130-114639-0411.log",
      "/home/user2/notebooks/200130/aws_notebook/.log/20200130/20200130-114723-0377.log",
      "/home/user2/notebooks/200130/aws_notebook/.log/20200130/20200130-121925-0222.log",
      "/home/user2/notebooks/200130/aws_notebook/.log/20200130/20200130-122413-0178.log",
      "/home/user2/notebooks/200130/aws_notebook/.log/20200214/20200214-095541-0075.log",
      "/home/user2/notebooks/200130/aws_notebook/.log/20200214/20200214-112906-0285.log",
      "/home/user2/notebooks/200130/aws_notebook/.log/20200214/20200214-113117-0956.log"
     ]
    },
    "run_through_control": {
     "frozen": true
    },
    "scrolled": false
   },
   "outputs": [
    {
     "data": {
      "text/plain": [
       "{'vender': 'aws',\n",
       " 'clusterName': 'aws-eks-200214',\n",
       " 'nodeGroupName': 'ng-200214',\n",
       " 'workerRolearn': 'eksctl-aws-eks-200214-nodegroup-n-NodeInstanceRole-L49KCDT5ANC5',\n",
       " 'NodeInstanceRole': 'eksctl-aws-eks-200214-nodegroup-n-NodeInstanceRole-L49KCDT5ANC5',\n",
       " 'FileSystemId': 'fs-83a42529',\n",
       " 'region': 'us-west-2',\n",
       " 'db_address': 'rds-topse.ciph33ijhh38.us-west-2.rds.amazonaws.com',\n",
       " 'vpcID': 'vpc-07b429d6780e6ec5f'}"
      ]
     },
     "execution_count": 218,
     "metadata": {},
     "output_type": "execute_result"
    }
   ],
   "source": [
    "import json\n",
    "\n",
    "f = open('res_info.json', 'r')\n",
    "res_info = json.load(f)\n",
    "f.close()\n",
    "\n",
    "res_info"
   ]
  },
  {
   "cell_type": "markdown",
   "metadata": {
    "lc_cell_meme": {
     "current": "618b12da-4f0e-11ea-af7f-0242ac120004",
     "next": "bd9cda9e-4357-11ea-82b4-0242ac120004",
     "previous": "81674584-4355-11ea-82b4-0242ac120004"
    }
   },
   "source": [
    "### Wordpressの準備"
   ]
  },
  {
   "cell_type": "code",
   "execution_count": 219,
   "metadata": {
    "deletable": false,
    "editable": false,
    "lc_cell_meme": {
     "current": "bd9cda9e-4357-11ea-82b4-0242ac120004",
     "execution_end_time": "2020-02-14T11:31:19.013168Z",
     "history": [
      {
       "current": "bd9cda9e-4357-11ea-82b4-0242ac120004",
       "next": "bd9cdb8e-4357-11ea-82b4-0242ac120004",
       "previous": "bd9cd7d8-4357-11ea-82b4-0242ac120004"
      }
     ],
     "next": "bd9cdb8e-4357-11ea-82b4-0242ac120004",
     "previous": "618b12da-4f0e-11ea-af7f-0242ac120004"
    },
    "lc_wrapper": {
     "log_history": [
      "/home/user2/notebooks/200130/aws_notebook/.log/20200130/20200130-121823-0519.log",
      "/home/user2/notebooks/200130/aws_notebook/.log/20200214/20200214-095654-0110.log",
      "/home/user2/notebooks/200130/aws_notebook/.log/20200214/20200214-112908-0385.log",
      "/home/user2/notebooks/200130/aws_notebook/.log/20200214/20200214-113117-0978.log"
     ]
    },
    "run_through_control": {
     "frozen": true
    },
    "scrolled": true
   },
   "outputs": [
    {
     "name": "stdout",
     "output_type": "stream",
     "text": [
      "apiVersion: apps/v1\r\n",
      "\r\n",
      "kind: Deployment\r\n",
      "metadata:\r\n",
      "  name: wordpress\r\n",
      "  labels:\r\n",
      "    app: wordpress\r\n",
      "spec:\r\n",
      "  replicas: 2\r\n",
      "  selector:\r\n",
      "    matchLabels:\r\n",
      "      app: wordpress\r\n",
      "  template:\r\n",
      "    metadata:\r\n",
      "      labels:\r\n",
      "        app: wordpress\r\n",
      "    spec:\r\n",
      "      containers:\r\n",
      "        - image: wordpress:4.8-apache\r\n",
      "          name: wordpress\r\n",
      "          volumeMounts:\r\n",
      "            - name: efs-pvc\r\n",
      "              mountPath: \"/var/www/html/wp-content/uploads\"\r\n",
      "          env:\r\n",
      "          - name: WORDPRESS_DB_HOST\r\n",
      "            value: rds-topse.ciph33ijhh38.us-west-2.rds.amazonaws.com\r\n",
      "          - name: WORDPRESS_DB_PASSWORD\r\n",
      "            value: password\r\n",
      "\r\n",
      "          ports:\r\n",
      "            - containerPort: 80\r\n",
      "              name: wordpress\r\n",
      "          lifecycle:\r\n",
      "            postStart:\r\n",
      "              exec:\r\n",
      "                command: [\"/bin/sh\", \"-c\", \"chown -R www-data:www-data /var/www/html/wp-content/uploads\"]\r\n",
      "      volumes:\r\n",
      "        - name: efs-pvc\r\n",
      "          persistentVolumeClaim:\r\n",
      "            claimName: fileserver-claim"
     ]
    }
   ],
   "source": [
    "!cat yaml/wordpress-deploy.yaml"
   ]
  },
  {
   "cell_type": "code",
   "execution_count": 220,
   "metadata": {
    "deletable": false,
    "editable": false,
    "lc_cell_meme": {
     "current": "bd9cdb8e-4357-11ea-82b4-0242ac120004",
     "execution_end_time": "2020-02-14T11:31:19.034068Z",
     "next": "bd9cdc60-4357-11ea-82b4-0242ac120004",
     "previous": "bd9cda9e-4357-11ea-82b4-0242ac120004"
    },
    "lc_wrapper": {
     "log_history": [
      "/home/user2/notebooks/200130/aws_notebook/.log/20200130/20200130-121826-0503.log",
      "/home/user2/notebooks/200130/aws_notebook/.log/20200130/20200130-121901-0715.log",
      "/home/user2/notebooks/200130/aws_notebook/.log/20200214/20200214-095657-0487.log",
      "/home/user2/notebooks/200130/aws_notebook/.log/20200214/20200214-112918-0148.log",
      "/home/user2/notebooks/200130/aws_notebook/.log/20200214/20200214-113119-0023.log"
     ]
    },
    "run_through_control": {
     "frozen": true
    }
   },
   "outputs": [],
   "source": [
    "import re\n",
    "\n",
    "before_str=r'''- name: WORDPRESS_DB_HOST\n",
    "            value: \\S*'''\n",
    "\n",
    "after_str='''- name: WORDPRESS_DB_HOST\n",
    "            value: {db_address}\n",
    "'''.format(db_address=res_info['db_address']).strip()\n",
    "\n",
    "f = open('yaml/wordpress-deploy.yaml','r')\n",
    "body = f.read()\n",
    "new_body = re.sub(before_str, after_str, body, flags=re.DOTALL)\n",
    "f.close()\n",
    "\n",
    "f = open('yaml/wordpress-deploy.yaml','w')\n",
    "f.write(new_body)\n",
    "f.close()"
   ]
  },
  {
   "cell_type": "code",
   "execution_count": 221,
   "metadata": {
    "deletable": false,
    "editable": false,
    "lc_cell_meme": {
     "current": "bd9cdc60-4357-11ea-82b4-0242ac120004",
     "execution_end_time": "2020-02-14T11:31:20.029341Z",
     "history": [
      {
       "current": "bd9cdc60-4357-11ea-82b4-0242ac120004",
       "next": "bd9cdd1e-4357-11ea-82b4-0242ac120004",
       "previous": "bd9cdb8e-4357-11ea-82b4-0242ac120004"
      },
      {
       "current": "bd9cdc60-4357-11ea-82b4-0242ac120004",
       "next": "a988bc24-27d4-11ea-874f-0242ac120004",
       "previous": "bd9cdb8e-4357-11ea-82b4-0242ac120004"
      },
      {
       "current": "bd9cdc60-4357-11ea-82b4-0242ac120004",
       "next": "8aa70468-4f0d-11ea-af7f-0242ac120004",
       "previous": "bd9cdb8e-4357-11ea-82b4-0242ac120004"
      }
     ],
     "next": "4514db70-4353-11ea-82b4-0242ac120004",
     "previous": "bd9cdb8e-4357-11ea-82b4-0242ac120004"
    },
    "lc_wrapper": {
     "log_history": [
      "/home/user2/notebooks/200130/aws_notebook/.log/20200130/20200130-121906-0723.log",
      "/home/user2/notebooks/200130/aws_notebook/.log/20200130/20200130-121914-0355.log",
      "/home/user2/notebooks/200130/aws_notebook/.log/20200214/20200214-095658-0627.log",
      "/home/user2/notebooks/200130/aws_notebook/.log/20200214/20200214-112919-0550.log",
      "/home/user2/notebooks/200130/aws_notebook/.log/20200214/20200214-113119-0043.log"
     ]
    },
    "run_through_control": {
     "frozen": true
    },
    "scrolled": false
   },
   "outputs": [
    {
     "name": "stdout",
     "output_type": "stream",
     "text": [
      "apiVersion: apps/v1\r\n",
      "\r\n",
      "kind: Deployment\r\n",
      "metadata:\r\n",
      "  name: wordpress\r\n",
      "  labels:\r\n",
      "    app: wordpress\r\n",
      "spec:\r\n",
      "  replicas: 2\r\n",
      "  selector:\r\n",
      "    matchLabels:\r\n",
      "      app: wordpress\r\n",
      "  template:\r\n",
      "    metadata:\r\n",
      "      labels:\r\n",
      "        app: wordpress\r\n",
      "    spec:\r\n",
      "      containers:\r\n",
      "        - image: wordpress:4.8-apache\r\n",
      "          name: wordpress\r\n",
      "          volumeMounts:\r\n",
      "            - name: efs-pvc\r\n",
      "              mountPath: \"/var/www/html/wp-content/uploads\"\r\n",
      "          env:\r\n",
      "          - name: WORDPRESS_DB_HOST\r\n",
      "            value: rds-topse.ciph33ijhh38.us-west-2.rds.amazonaws.com\r\n",
      "          - name: WORDPRESS_DB_PASSWORD\r\n",
      "            value: password\r\n",
      "\r\n",
      "          ports:\r\n",
      "            - containerPort: 80\r\n",
      "              name: wordpress\r\n",
      "          lifecycle:\r\n",
      "            postStart:\r\n",
      "              exec:\r\n",
      "                command: [\"/bin/sh\", \"-c\", \"chown -R www-data:www-data /var/www/html/wp-content/uploads\"]\r\n",
      "      volumes:\r\n",
      "        - name: efs-pvc\r\n",
      "          persistentVolumeClaim:\r\n",
      "            claimName: fileserver-claim"
     ]
    }
   ],
   "source": [
    "!cat yaml/wordpress-deploy.yaml"
   ]
  },
  {
   "cell_type": "markdown",
   "metadata": {
    "lc_cell_meme": {
     "current": "4514db70-4353-11ea-82b4-0242ac120004",
     "history": [
      {
       "current": "4514db70-4353-11ea-82b4-0242ac120004",
       "next": "4514dd96-4353-11ea-82b4-0242ac120004",
       "previous": "6fc4e9e0-3dc8-11ea-bfd5-0242ac120005"
      },
      {
       "current": "4514db70-4353-11ea-82b4-0242ac120004",
       "next": "4514dd96-4353-11ea-82b4-0242ac120004",
       "previous": "fd8f50d2-4352-11ea-82b4-0242ac120004"
      },
      {
       "current": "4514db70-4353-11ea-82b4-0242ac120004",
       "next": "e6eb2ae6-4356-11ea-82b4-0242ac120004",
       "previous": "fd8f50d2-4352-11ea-82b4-0242ac120004"
      },
      {
       "current": "4514db70-4353-11ea-82b4-0242ac120004",
       "next": "e6eb2ae6-4356-11ea-82b4-0242ac120004",
       "previous": "81674584-4355-11ea-82b4-0242ac120004"
      },
      {
       "current": "4514db70-4353-11ea-82b4-0242ac120004",
       "next": "e6eb2ae6-4356-11ea-82b4-0242ac120004",
       "previous": "19b39662-4f0e-11ea-af7f-0242ac120004"
      }
     ],
     "next": "e6eb2ae6-4356-11ea-82b4-0242ac120004",
     "previous": "bd9cdc60-4357-11ea-82b4-0242ac120004"
    }
   },
   "source": [
    "### EFSの準備\n",
    "configmap.yaml ファイルで、file.system.id および aws.region を EFS に適した値に変更します。 \n"
   ]
  },
  {
   "cell_type": "code",
   "execution_count": 222,
   "metadata": {
    "deletable": false,
    "editable": false,
    "lc_cell_meme": {
     "current": "e6eb2ae6-4356-11ea-82b4-0242ac120004",
     "execution_end_time": "2020-02-14T11:31:21.037192Z",
     "next": "4514dd96-4353-11ea-82b4-0242ac120004",
     "previous": "4514db70-4353-11ea-82b4-0242ac120004"
    },
    "lc_wrapper": {
     "log_history": [
      "/home/user2/notebooks/200130/aws_notebook/.log/20200130/20200130-115157-0079.log",
      "/home/user2/notebooks/200130/aws_notebook/.log/20200214/20200214-095705-0836.log",
      "/home/user2/notebooks/200130/aws_notebook/.log/20200214/20200214-112923-0595.log",
      "/home/user2/notebooks/200130/aws_notebook/.log/20200214/20200214-113120-0037.log"
     ]
    },
    "run_through_control": {
     "frozen": true
    }
   },
   "outputs": [
    {
     "name": "stdout",
     "output_type": "stream",
     "text": [
      "apiVersion: v1\r\n",
      "kind: ConfigMap\r\n",
      "metadata:\r\n",
      "  name: efs-provisioner\r\n",
      "data:\r\n",
      "  file.system.id: fs-83a42529\r\n",
      "  aws.region: us-west-2\r\n",
      "  provisioner.name: example.com/aws-efs\r\n",
      "  dns.name: \"\"\r\n"
     ]
    }
   ],
   "source": [
    "!cat yaml/configmap.yaml"
   ]
  },
  {
   "cell_type": "code",
   "execution_count": 223,
   "metadata": {
    "deletable": false,
    "editable": false,
    "lc_cell_meme": {
     "current": "4514dd96-4353-11ea-82b4-0242ac120004",
     "execution_end_time": "2020-02-14T11:31:21.056358Z",
     "history": [
      {
       "current": "4514dd96-4353-11ea-82b4-0242ac120004",
       "next": "5c35449c-3dc8-11ea-bfd5-0242ac120005",
       "previous": "4514db70-4353-11ea-82b4-0242ac120004"
      }
     ],
     "next": "5c35449c-3dc8-11ea-bfd5-0242ac120005",
     "previous": "e6eb2ae6-4356-11ea-82b4-0242ac120004"
    },
    "lc_wrapper": {
     "log_history": [
      "/home/user2/notebooks/200130/aws_notebook/.log/20200130/20200130-115200-0468.log",
      "/home/user2/notebooks/200130/aws_notebook/.log/20200214/20200214-095707-0958.log",
      "/home/user2/notebooks/200130/aws_notebook/.log/20200214/20200214-112930-0252.log",
      "/home/user2/notebooks/200130/aws_notebook/.log/20200214/20200214-113121-0046.log"
     ]
    },
    "run_through_control": {
     "frozen": true
    }
   },
   "outputs": [],
   "source": [
    "import re\n",
    "\n",
    "before_str=r'''file.system.id: \\S*\n",
    "  aws.region: \\S*'''\n",
    "after_str='''file.system.id: {FileSystemId}\n",
    "  aws.region: {region}   \n",
    "'''.format(FileSystemId=res_info['FileSystemId'],region=res_info['region']).strip()\n",
    "\n",
    "f = open('yaml/configmap.yaml','r')\n",
    "body = f.read()\n",
    "new_body = re.sub(before_str, after_str, body, flags=re.DOTALL)\n",
    "f.close()\n",
    "\n",
    "f = open('yaml/configmap.yaml','w')\n",
    "f.write(new_body)\n",
    "f.close()\n"
   ]
  },
  {
   "cell_type": "code",
   "execution_count": 224,
   "metadata": {
    "deletable": false,
    "editable": false,
    "lc_cell_meme": {
     "current": "5c35449c-3dc8-11ea-bfd5-0242ac120005",
     "execution_end_time": "2020-02-14T11:31:22.045833Z",
     "history": [
      {
       "current": "5c35449c-3dc8-11ea-bfd5-0242ac120005",
       "next": "5c354758-3dc8-11ea-bfd5-0242ac120005",
       "previous": "e0d66b64-3dc7-11ea-bfd5-0242ac120005"
      },
      {
       "current": "5c35449c-3dc8-11ea-bfd5-0242ac120005",
       "next": "5c354758-3dc8-11ea-bfd5-0242ac120005",
       "previous": "af269528-40ae-11ea-91a9-0242ac120004"
      },
      {
       "current": "5c35449c-3dc8-11ea-bfd5-0242ac120005",
       "next": "5c354758-3dc8-11ea-bfd5-0242ac120005",
       "previous": "f6af1118-40ae-11ea-91a9-0242ac120004"
      },
      {
       "current": "5c35449c-3dc8-11ea-bfd5-0242ac120005",
       "next": "fd8f537a-4352-11ea-82b4-0242ac120004",
       "previous": "fd8f50d2-4352-11ea-82b4-0242ac120004"
      },
      {
       "current": "5c35449c-3dc8-11ea-bfd5-0242ac120005",
       "next": "6fc4e9e0-3dc8-11ea-bfd5-0242ac120005",
       "previous": "4514dd96-4353-11ea-82b4-0242ac120004"
      }
     ],
     "next": "2e70ef36-4357-11ea-82b4-0242ac120004",
     "previous": "4514dd96-4353-11ea-82b4-0242ac120004"
    },
    "lc_wrapper": {
     "log_history": [
      "/home/user5/notebooks/seminar-lc4ri/AWS/.log/20200123/20200123-100836-0233.log",
      "/home/user2/notebooks/AWS/.log/20200127/20200127-020626-0709.log",
      "/home/user2/notebooks/AWS/.log/20200127/20200127-024437-0596.log",
      "/home/user2/notebooks/AWS/.log/20200127/20200127-024442-0017.log",
      "/home/user2/notebooks/AWS/.log/20200127/20200127-024543-0079.log",
      "/home/user2/notebooks/AWS/.log/20200127/20200127-024605-0528.log",
      "/home/user2/notebooks/AWS/.log/20200127/20200127-024639-0840.log",
      "/home/user2/notebooks/AWS/.log/20200127/20200127-024735-0361.log",
      "/home/user2/notebooks/AWS/.log/20200127/20200127-024758-0601.log",
      "/home/user2/notebooks/AWS/.log/20200127/20200127-025026-0560.log",
      "/home/user2/notebooks/AWS/.log/20200127/20200127-025116-0210.log",
      "/home/user2/notebooks/AWS/.log/20200127/20200127-025137-0415.log",
      "/home/user2/notebooks/AWS/.log/20200127/20200127-025156-0210.log",
      "/home/user2/notebooks/AWS/.log/20200127/20200127-025207-0768.log",
      "/home/user2/notebooks/AWS/.log/20200127/20200127-025254-0835.log",
      "/home/user2/notebooks/AWS/.log/20200127/20200127-025310-0948.log",
      "/home/user2/notebooks/AWS/.log/20200127/20200127-025411-0457.log",
      "/home/user2/notebooks/AWS/.log/20200127/20200127-025456-0234.log",
      "/home/user2/notebooks/AWS/.log/20200127/20200127-025513-0537.log",
      "/home/user2/notebooks/AWS/.log/20200127/20200127-025529-0188.log",
      "/home/user2/notebooks/AWS/.log/20200127/20200127-025549-0786.log",
      "/home/user2/notebooks/AWS/.log/20200127/20200127-025618-0952.log",
      "/home/user2/notebooks/AWS/.log/20200127/20200127-030354-0730.log",
      "/home/user2/notebooks/AWS/.log/20200127/20200127-030456-0055.log",
      "/home/user2/notebooks/AWS/.log/20200127/20200127-030622-0643.log",
      "/home/user2/notebooks/AWS/.log/20200127/20200127-030633-0036.log",
      "/home/user2/notebooks/AWS/.log/20200127/20200127-030647-0074.log",
      "/home/user2/notebooks/AWS/.log/20200127/20200127-030715-0844.log",
      "/home/user2/notebooks/AWS/.log/20200127/20200127-030731-0809.log",
      "/home/user2/notebooks/AWS/.log/20200127/20200127-030758-0336.log",
      "/home/user2/notebooks/AWS/.log/20200127/20200127-030835-0610.log",
      "/home/user2/notebooks/AWS/.log/20200127/20200127-030854-0490.log",
      "/home/user2/notebooks/AWS/.log/20200127/20200127-030909-0401.log",
      "/home/user2/notebooks/AWS/.log/20200127/20200127-030918-0553.log",
      "/home/user2/notebooks/AWS/.log/20200127/20200127-030932-0313.log",
      "/home/user2/notebooks/AWS/.log/20200127/20200127-030940-0346.log",
      "/home/user2/notebooks/AWS/.log/20200127/20200127-031003-0065.log",
      "/home/user2/notebooks/AWS/.log/20200127/20200127-031054-0535.log",
      "/home/user2/notebooks/AWS/.log/20200127/20200127-031138-0273.log",
      "/home/user2/notebooks/AWS/.log/20200127/20200127-031201-0722.log",
      "/home/user2/notebooks/AWS/.log/20200127/20200127-031218-0606.log",
      "/home/user2/notebooks/AWS/.log/20200127/20200127-031231-0112.log",
      "/home/user2/notebooks/AWS/.log/20200127/20200127-031322-0449.log",
      "/home/user2/notebooks/AWS/.log/20200127/20200127-031336-0697.log",
      "/home/user2/notebooks/AWS/.log/20200127/20200127-031343-0152.log",
      "/home/user2/notebooks/AWS/.log/20200127/20200127-031352-0441.log",
      "/home/user2/notebooks/AWS/.log/20200127/20200127-031358-0906.log",
      "/home/user2/notebooks/AWS/.log/20200127/20200127-031435-0082.log",
      "/home/user2/notebooks/AWS/.log/20200127/20200127-031959-0344.log",
      "/home/user2/notebooks/AWS/.log/20200127/20200127-032032-0810.log",
      "/home/user2/notebooks/AWS/.log/20200127/20200127-032059-0720.log",
      "/home/user2/notebooks/AWS/.log/20200127/20200127-032131-0426.log",
      "/home/user2/notebooks/200130/aws_notebook/.log/20200130/20200130-115202-0097.log",
      "/home/user2/notebooks/200130/aws_notebook/.log/20200130/20200130-115206-0272.log",
      "/home/user2/notebooks/200130/aws_notebook/.log/20200214/20200214-095708-0533.log",
      "/home/user2/notebooks/200130/aws_notebook/.log/20200214/20200214-112931-0310.log",
      "/home/user2/notebooks/200130/aws_notebook/.log/20200214/20200214-113121-0064.log"
     ]
    },
    "run_through_control": {
     "frozen": true
    },
    "scrolled": true
   },
   "outputs": [
    {
     "name": "stdout",
     "output_type": "stream",
     "text": [
      "apiVersion: v1\r\n",
      "kind: ConfigMap\r\n",
      "metadata:\r\n",
      "  name: efs-provisioner\r\n",
      "data:\r\n",
      "  file.system.id: fs-83a42529\r\n",
      "  aws.region: us-west-2\r\n",
      "  provisioner.name: example.com/aws-efs\r\n",
      "  dns.name: \"\"\r\n"
     ]
    }
   ],
   "source": [
    "!cat yaml/configmap.yaml"
   ]
  },
  {
   "cell_type": "code",
   "execution_count": 225,
   "metadata": {
    "deletable": false,
    "editable": false,
    "lc_cell_meme": {
     "current": "2e70ef36-4357-11ea-82b4-0242ac120004",
     "execution_end_time": "2020-02-14T11:31:23.040062Z",
     "history": [
      {
       "current": "2e70ef36-4357-11ea-82b4-0242ac120004",
       "next": "6fc4e9e0-3dc8-11ea-bfd5-0242ac120005",
       "previous": "5c35449c-3dc8-11ea-bfd5-0242ac120005"
      }
     ],
     "next": "fd8f537a-4352-11ea-82b4-0242ac120004",
     "previous": "5c35449c-3dc8-11ea-bfd5-0242ac120005"
    },
    "lc_wrapper": {
     "log_history": [
      "/home/user2/notebooks/200130/aws_notebook/.log/20200130/20200130-115231-0863.log",
      "/home/user2/notebooks/200130/aws_notebook/.log/20200214/20200214-095711-0761.log",
      "/home/user2/notebooks/200130/aws_notebook/.log/20200214/20200214-113009-0980.log",
      "/home/user2/notebooks/200130/aws_notebook/.log/20200214/20200214-113122-0056.log"
     ]
    },
    "run_through_control": {
     "frozen": true
    }
   },
   "outputs": [
    {
     "name": "stdout",
     "output_type": "stream",
     "text": [
      "kind: StorageClass\r\n",
      "apiVersion: storage.k8s.io/v1\r\n",
      "metadata:\r\n",
      "  name: aws-efs\r\n",
      "provisioner: example.com/aws-efs\r\n"
     ]
    }
   ],
   "source": [
    "!cat yaml/class.yaml"
   ]
  },
  {
   "cell_type": "markdown",
   "metadata": {
    "lc_cell_meme": {
     "current": "fd8f537a-4352-11ea-82b4-0242ac120004",
     "history": [
      {
       "current": "fd8f537a-4352-11ea-82b4-0242ac120004",
       "next": "fd8f5474-4352-11ea-82b4-0242ac120004",
       "previous": "5c35449c-3dc8-11ea-bfd5-0242ac120005"
      },
      {
       "current": "fd8f537a-4352-11ea-82b4-0242ac120004",
       "next": "fd8f5474-4352-11ea-82b4-0242ac120004",
       "previous": "6fc4e9e0-3dc8-11ea-bfd5-0242ac120005"
      },
      {
       "current": "fd8f537a-4352-11ea-82b4-0242ac120004",
       "next": "d4b876b6-40b4-11ea-91a9-0242ac120004",
       "previous": "6fc4e9e0-3dc8-11ea-bfd5-0242ac120005"
      },
      {
       "current": "fd8f537a-4352-11ea-82b4-0242ac120004",
       "next": "2e70f152-4357-11ea-82b4-0242ac120004",
       "previous": "6fc4e9e0-3dc8-11ea-bfd5-0242ac120005"
      }
     ],
     "next": "2e70f152-4357-11ea-82b4-0242ac120004",
     "previous": "2e70ef36-4357-11ea-82b4-0242ac120004"
    }
   },
   "source": [
    "5.    deployment.yaml ファイルで、ボリューム設定を / の path に変更します。serverのドメインも変更します。"
   ]
  },
  {
   "cell_type": "code",
   "execution_count": 226,
   "metadata": {
    "deletable": false,
    "editable": false,
    "lc_cell_meme": {
     "current": "2e70f152-4357-11ea-82b4-0242ac120004",
     "execution_end_time": "2020-02-14T11:31:24.038791Z",
     "next": "d4b876b6-40b4-11ea-91a9-0242ac120004",
     "previous": "fd8f537a-4352-11ea-82b4-0242ac120004"
    },
    "lc_wrapper": {
     "log_history": [
      "/home/user2/notebooks/200130/aws_notebook/.log/20200130/20200130-115343-0792.log",
      "/home/user2/notebooks/200130/aws_notebook/.log/20200214/20200214-095737-0621.log",
      "/home/user2/notebooks/200130/aws_notebook/.log/20200214/20200214-113015-0029.log",
      "/home/user2/notebooks/200130/aws_notebook/.log/20200214/20200214-113123-0049.log"
     ]
    },
    "run_through_control": {
     "frozen": true
    }
   },
   "outputs": [
    {
     "name": "stdout",
     "output_type": "stream",
     "text": [
      "apiVersion: v1\r\n",
      "kind: ServiceAccount\r\n",
      "metadata:\r\n",
      "  name: efs-provisioner\r\n",
      "---\r\n",
      "kind: Deployment\r\n",
      "apiVersion: apps/v1\r\n",
      "metadata:\r\n",
      "  name: efs-provisioner\r\n",
      "spec:\r\n",
      "  replicas: 1\r\n",
      "  selector:\r\n",
      "    matchLabels:\r\n",
      "      app: efs-provisioner\r\n",
      "  strategy:\r\n",
      "    type: Recreate \r\n",
      "  template:\r\n",
      "    metadata:\r\n",
      "      labels:\r\n",
      "        app: efs-provisioner\r\n",
      "    spec:\r\n",
      "      serviceAccount: efs-provisioner\r\n",
      "      containers:\r\n",
      "        - name: efs-provisioner\r\n",
      "          image: quay.io/external_storage/efs-provisioner:latest\r\n",
      "          env:\r\n",
      "            - name: FILE_SYSTEM_ID\r\n",
      "              valueFrom:\r\n",
      "                configMapKeyRef:\r\n",
      "                  name: efs-provisioner\r\n",
      "                  key: file.system.id\r\n",
      "            - name: AWS_REGION\r\n",
      "              valueFrom:\r\n",
      "                configMapKeyRef:\r\n",
      "                  name: efs-provisioner\r\n",
      "                  key: aws.region\r\n",
      "            - name: DNS_NAME\r\n",
      "              valueFrom:\r\n",
      "                configMapKeyRef:\r\n",
      "                  name: efs-provisioner\r\n",
      "                  key: dns.name\r\n",
      "                  optional: true\r\n",
      "            - name: PROVISIONER_NAME\r\n",
      "              valueFrom:\r\n",
      "                configMapKeyRef:\r\n",
      "                  name: efs-provisioner\r\n",
      "                  key: provisioner.name\r\n",
      "          volumeMounts:\r\n",
      "            - name: pv-volume\r\n",
      "              mountPath: /persistentvolumes\r\n",
      "      volumes:\r\n",
      "        - name: pv-volume\r\n",
      "          nfs:\r\n",
      "            server: fs-83a42529.efs.us-west-2.amazonaws.com\r\n",
      "            path: /\r\n"
     ]
    }
   ],
   "source": [
    "!cat yaml/deployment.yaml"
   ]
  },
  {
   "cell_type": "code",
   "execution_count": 227,
   "metadata": {
    "deletable": false,
    "editable": false,
    "lc_cell_meme": {
     "current": "d4b876b6-40b4-11ea-91a9-0242ac120004",
     "execution_end_time": "2020-02-14T11:31:24.059017Z",
     "history": [
      {
       "current": "d4b876b6-40b4-11ea-91a9-0242ac120004",
       "next": "fef1591e-3dc8-11ea-bfd5-0242ac120005",
       "previous": "fef1581a-3dc8-11ea-bfd5-0242ac120005"
      },
      {
       "current": "d4b876b6-40b4-11ea-91a9-0242ac120004",
       "next": "d5686780-3dc9-11ea-bfd5-0242ac120005",
       "previous": "fd8f537a-4352-11ea-82b4-0242ac120004"
      },
      {
       "current": "d4b876b6-40b4-11ea-91a9-0242ac120004",
       "next": "d5686780-3dc9-11ea-bfd5-0242ac120005",
       "previous": "2e70f152-4357-11ea-82b4-0242ac120004"
      }
     ],
     "next": "75f780f4-4357-11ea-82b4-0242ac120004",
     "previous": "2e70f152-4357-11ea-82b4-0242ac120004"
    },
    "lc_wrapper": {
     "log_history": [
      "/home/user2/notebooks/AWS/.log/20200127/20200127-032535-0089.log",
      "/home/user2/notebooks/AWS/.log/20200127/20200127-032806-0375.log",
      "/home/user2/notebooks/200130/aws_notebook/.log/20200130/20200130-115352-0147.log",
      "/home/user2/notebooks/200130/aws_notebook/.log/20200214/20200214-095740-0809.log",
      "/home/user2/notebooks/200130/aws_notebook/.log/20200214/20200214-113016-0021.log",
      "/home/user2/notebooks/200130/aws_notebook/.log/20200214/20200214-113124-0047.log"
     ]
    },
    "run_through_control": {
     "frozen": true
    }
   },
   "outputs": [],
   "source": [
    "import re\n",
    "\n",
    "before_str=r'''server: \\S*\n",
    "            path: \\S*'''\n",
    "\n",
    "after_str='''server: {FileSystemId}.efs.{region}.amazonaws.com\n",
    "            path: /\n",
    "'''.format(FileSystemId=res_info['FileSystemId'],region=res_info['region']).strip()\n",
    "\n",
    "f = open('yaml/deployment.yaml','r')\n",
    "body = f.read()\n",
    "new_body = re.sub(before_str, after_str, body, flags=re.DOTALL)\n",
    "f.close()\n",
    "\n",
    "f = open('yaml/deployment.yaml','w')\n",
    "f.write(new_body)\n",
    "f.close()"
   ]
  },
  {
   "cell_type": "code",
   "execution_count": 228,
   "metadata": {
    "deletable": false,
    "editable": false,
    "lc_cell_meme": {
     "current": "75f780f4-4357-11ea-82b4-0242ac120004",
     "execution_end_time": "2020-02-14T11:31:25.075823Z",
     "history": [
      {
       "current": "75f780f4-4357-11ea-82b4-0242ac120004",
       "next": "75f7831a-4357-11ea-82b4-0242ac120004",
       "previous": "d4b876b6-40b4-11ea-91a9-0242ac120004"
      },
      {
       "current": "75f780f4-4357-11ea-82b4-0242ac120004",
       "next": "d5686780-3dc9-11ea-bfd5-0242ac120005",
       "previous": "d4b876b6-40b4-11ea-91a9-0242ac120004"
      }
     ],
     "next": "f0489358-4f0e-11ea-af7f-0242ac120004",
     "previous": "d4b876b6-40b4-11ea-91a9-0242ac120004"
    },
    "lc_wrapper": {
     "log_history": [
      "/home/user2/notebooks/200130/aws_notebook/.log/20200130/20200130-115356-0848.log",
      "/home/user2/notebooks/200130/aws_notebook/.log/20200214/20200214-095741-0328.log",
      "/home/user2/notebooks/200130/aws_notebook/.log/20200214/20200214-113016-0043.log",
      "/home/user2/notebooks/200130/aws_notebook/.log/20200214/20200214-113124-0068.log"
     ]
    },
    "run_through_control": {
     "frozen": true
    }
   },
   "outputs": [
    {
     "name": "stdout",
     "output_type": "stream",
     "text": [
      "apiVersion: v1\r\n",
      "kind: ServiceAccount\r\n",
      "metadata:\r\n",
      "  name: efs-provisioner\r\n",
      "---\r\n",
      "kind: Deployment\r\n",
      "apiVersion: apps/v1\r\n",
      "metadata:\r\n",
      "  name: efs-provisioner\r\n",
      "spec:\r\n",
      "  replicas: 1\r\n",
      "  selector:\r\n",
      "    matchLabels:\r\n",
      "      app: efs-provisioner\r\n",
      "  strategy:\r\n",
      "    type: Recreate \r\n",
      "  template:\r\n",
      "    metadata:\r\n",
      "      labels:\r\n",
      "        app: efs-provisioner\r\n",
      "    spec:\r\n",
      "      serviceAccount: efs-provisioner\r\n",
      "      containers:\r\n",
      "        - name: efs-provisioner\r\n",
      "          image: quay.io/external_storage/efs-provisioner:latest\r\n",
      "          env:\r\n",
      "            - name: FILE_SYSTEM_ID\r\n",
      "              valueFrom:\r\n",
      "                configMapKeyRef:\r\n",
      "                  name: efs-provisioner\r\n",
      "                  key: file.system.id\r\n",
      "            - name: AWS_REGION\r\n",
      "              valueFrom:\r\n",
      "                configMapKeyRef:\r\n",
      "                  name: efs-provisioner\r\n",
      "                  key: aws.region\r\n",
      "            - name: DNS_NAME\r\n",
      "              valueFrom:\r\n",
      "                configMapKeyRef:\r\n",
      "                  name: efs-provisioner\r\n",
      "                  key: dns.name\r\n",
      "                  optional: true\r\n",
      "            - name: PROVISIONER_NAME\r\n",
      "              valueFrom:\r\n",
      "                configMapKeyRef:\r\n",
      "                  name: efs-provisioner\r\n",
      "                  key: provisioner.name\r\n",
      "          volumeMounts:\r\n",
      "            - name: pv-volume\r\n",
      "              mountPath: /persistentvolumes\r\n",
      "      volumes:\r\n",
      "        - name: pv-volume\r\n",
      "          nfs:\r\n",
      "            server: fs-83a42529.efs.us-west-2.amazonaws.com\r\n",
      "            path: /\r\n"
     ]
    }
   ],
   "source": [
    "!cat yaml/deployment.yaml"
   ]
  },
  {
   "cell_type": "markdown",
   "metadata": {
    "lc_cell_meme": {
     "current": "f0489358-4f0e-11ea-af7f-0242ac120004",
     "history": [
      {
       "current": "f0489358-4f0e-11ea-af7f-0242ac120004",
       "next": "d5686780-3dc9-11ea-bfd5-0242ac120005",
       "previous": "75f780f4-4357-11ea-82b4-0242ac120004"
      },
      {
       "current": "f0489358-4f0e-11ea-af7f-0242ac120004",
       "next": "7f5a0a40-4f0f-11ea-af7f-0242ac120004",
       "previous": "75f780f4-4357-11ea-82b4-0242ac120004"
      },
      {
       "current": "f0489358-4f0e-11ea-af7f-0242ac120004",
       "next": "7f5a0ca2-4f0f-11ea-af7f-0242ac120004",
       "previous": "75f780f4-4357-11ea-82b4-0242ac120004"
      },
      {
       "current": "f0489358-4f0e-11ea-af7f-0242ac120004",
       "next": "59a3e93a-4f1c-11ea-af7f-0242ac120004",
       "previous": "75f780f4-4357-11ea-82b4-0242ac120004"
      }
     ],
     "next": "7f5a0ca2-4f0f-11ea-af7f-0242ac120004",
     "previous": "75f780f4-4357-11ea-82b4-0242ac120004"
    }
   },
   "source": [
    "### ALBの準備"
   ]
  },
  {
   "cell_type": "code",
   "execution_count": 229,
   "metadata": {
    "deletable": false,
    "editable": false,
    "lc_cell_meme": {
     "current": "7f5a0ca2-4f0f-11ea-af7f-0242ac120004",
     "execution_end_time": "2020-02-14T11:31:26.062107Z",
     "history": [
      {
       "current": "7f5a0ca2-4f0f-11ea-af7f-0242ac120004",
       "next": "7f5a0d92-4f0f-11ea-af7f-0242ac120004",
       "previous": "7f5a0a40-4f0f-11ea-af7f-0242ac120004"
      },
      {
       "current": "7f5a0ca2-4f0f-11ea-af7f-0242ac120004",
       "next": "7f5a0d92-4f0f-11ea-af7f-0242ac120004",
       "previous": "f0489358-4f0e-11ea-af7f-0242ac120004"
      },
      {
       "current": "7f5a0ca2-4f0f-11ea-af7f-0242ac120004",
       "next": "59a3eb88-4f1c-11ea-af7f-0242ac120004",
       "previous": "59a3e93a-4f1c-11ea-af7f-0242ac120004"
      }
     ],
     "next": "59a3eb88-4f1c-11ea-af7f-0242ac120004",
     "previous": "f0489358-4f0e-11ea-af7f-0242ac120004"
    },
    "lc_wrapper": {
     "log_history": [
      "/home/user2/notebooks/200130/aws_notebook/.log/20200214/20200214-094920-0777.log",
      "/home/user2/notebooks/200130/aws_notebook/.log/20200214/20200214-095919-0821.log",
      "/home/user2/notebooks/200130/aws_notebook/.log/20200214/20200214-113021-0329.log",
      "/home/user2/notebooks/200130/aws_notebook/.log/20200214/20200214-113125-0084.log"
     ]
    },
    "run_through_control": {
     "frozen": true
    },
    "scrolled": true
   },
   "outputs": [
    {
     "name": "stdout",
     "output_type": "stream",
     "text": [
      "---\r\n",
      "apiVersion: rbac.authorization.k8s.io/v1\r\n",
      "kind: ClusterRole\r\n",
      "metadata:\r\n",
      "  labels:\r\n",
      "    app.kubernetes.io/name: alb-ingress-controller\r\n",
      "  name: alb-ingress-controller\r\n",
      "rules:\r\n",
      "  - apiGroups:\r\n",
      "      - \"\"\r\n",
      "      - extensions\r\n",
      "    resources:\r\n",
      "      - configmaps\r\n",
      "      - endpoints\r\n",
      "      - events\r\n",
      "      - ingresses\r\n",
      "      - ingresses/status\r\n",
      "      - services\r\n",
      "    verbs:\r\n",
      "      - create\r\n",
      "      - get\r\n",
      "      - list\r\n",
      "      - update\r\n",
      "      - watch\r\n",
      "      - patch\r\n",
      "  - apiGroups:\r\n",
      "      - \"\"\r\n",
      "      - extensions\r\n",
      "    resources:\r\n",
      "      - nodes\r\n",
      "      - pods\r\n",
      "      - secrets\r\n",
      "      - services\r\n",
      "      - namespaces\r\n",
      "    verbs:\r\n",
      "      - get\r\n",
      "      - list\r\n",
      "      - watch\r\n",
      "---\r\n",
      "apiVersion: rbac.authorization.k8s.io/v1\r\n",
      "kind: ClusterRoleBinding\r\n",
      "metadata:\r\n",
      "  labels:\r\n",
      "    app.kubernetes.io/name: alb-ingress-controller\r\n",
      "  name: alb-ingress-controller\r\n",
      "roleRef:\r\n",
      "  apiGroup: rbac.authorization.k8s.io\r\n",
      "  kind: ClusterRole\r\n",
      "  name: alb-ingress-controller\r\n",
      "subjects:\r\n",
      "  - kind: ServiceAccount\r\n",
      "    name: alb-ingress-controller\r\n",
      "    namespace: kube-system\r\n",
      "---\r\n",
      "apiVersion: v1\r\n",
      "kind: ServiceAccount\r\n",
      "metadata:\r\n",
      "  labels:\r\n",
      "    app.kubernetes.io/name: alb-ingress-controller\r\n",
      "  name: alb-ingress-controller\r\n",
      "  namespace: kube-system\r\n",
      "...\r\n"
     ]
    }
   ],
   "source": [
    "!cat yaml/rbac-role.yaml"
   ]
  },
  {
   "cell_type": "code",
   "execution_count": 230,
   "metadata": {
    "deletable": false,
    "editable": false,
    "lc_cell_meme": {
     "current": "59a3eb88-4f1c-11ea-af7f-0242ac120004",
     "execution_end_time": "2020-02-14T11:31:27.138745Z",
     "next": "7f5a0d92-4f0f-11ea-af7f-0242ac120004",
     "previous": "7f5a0ca2-4f0f-11ea-af7f-0242ac120004"
    },
    "lc_wrapper": {
     "log_history": [
      "/home/user2/notebooks/200130/aws_notebook/.log/20200214/20200214-112309-0326.log",
      "/home/user2/notebooks/200130/aws_notebook/.log/20200214/20200214-112406-0589.log",
      "/home/user2/notebooks/200130/aws_notebook/.log/20200214/20200214-112717-0039.log",
      "/home/user2/notebooks/200130/aws_notebook/.log/20200214/20200214-113022-0812.log",
      "/home/user2/notebooks/200130/aws_notebook/.log/20200214/20200214-113126-0070.log"
     ]
    },
    "run_through_control": {
     "frozen": true
    }
   },
   "outputs": [
    {
     "name": "stdout",
     "output_type": "stream",
     "text": [
      "--2020-02-14 11:31:26--  https://raw.githubusercontent.com/kubernetes-sigs/aws-alb-ingress-controller/v1.1.4/docs/examples/alb-ingress-controller.yaml\n",
      "Resolving raw.githubusercontent.com (raw.githubusercontent.com)... 151.101.0.133, 151.101.64.133, 151.101.128.133, ...\n",
      "Connecting to raw.githubusercontent.com (raw.githubusercontent.com)|151.101.0.133|:443... connected.\n",
      "HTTP request sent, awaiting response... 200 OK\n",
      "Length: 3129 (3.1K) [text/plain]\n",
      "Saving to: ‘yaml/alb-ingress-controller.yaml’\n",
      "\n",
      "yaml/alb-ingress-co 100%[===================>]   3.06K  --.-KB/s    in 0s      \n",
      "\n",
      "2020-02-14 11:31:27 (37.8 MB/s) - ‘yaml/alb-ingress-controller.yaml’ saved [3129/3129]\n",
      "\n"
     ]
    }
   ],
   "source": [
    "!wget -O yaml/alb-ingress-controller.yaml https://raw.githubusercontent.com/kubernetes-sigs/aws-alb-ingress-controller/v1.1.4/docs/examples/alb-ingress-controller.yaml"
   ]
  },
  {
   "cell_type": "code",
   "execution_count": 231,
   "metadata": {
    "deletable": false,
    "editable": false,
    "lc_cell_meme": {
     "current": "7f5a0d92-4f0f-11ea-af7f-0242ac120004",
     "execution_end_time": "2020-02-14T11:31:28.144072Z",
     "history": [
      {
       "current": "7f5a0d92-4f0f-11ea-af7f-0242ac120004",
       "next": "7f5a0e64-4f0f-11ea-af7f-0242ac120004",
       "previous": "7f5a0ca2-4f0f-11ea-af7f-0242ac120004"
      }
     ],
     "next": "7f5a0e64-4f0f-11ea-af7f-0242ac120004",
     "previous": "59a3eb88-4f1c-11ea-af7f-0242ac120004"
    },
    "lc_wrapper": {
     "log_history": [
      "/home/user2/notebooks/200130/aws_notebook/.log/20200214/20200214-094930-0040.log",
      "/home/user2/notebooks/200130/aws_notebook/.log/20200214/20200214-095922-0127.log",
      "/home/user2/notebooks/200130/aws_notebook/.log/20200214/20200214-111140-0770.log",
      "/home/user2/notebooks/200130/aws_notebook/.log/20200214/20200214-112415-0262.log",
      "/home/user2/notebooks/200130/aws_notebook/.log/20200214/20200214-112613-0802.log",
      "/home/user2/notebooks/200130/aws_notebook/.log/20200214/20200214-112721-0061.log",
      "/home/user2/notebooks/200130/aws_notebook/.log/20200214/20200214-113023-0861.log",
      "/home/user2/notebooks/200130/aws_notebook/.log/20200214/20200214-113127-0147.log"
     ]
    },
    "pinned_outputs": [],
    "run_through_control": {
     "frozen": true
    },
    "scrolled": false
   },
   "outputs": [
    {
     "name": "stdout",
     "output_type": "stream",
     "text": [
      "# Application Load Balancer (ALB) Ingress Controller Deployment Manifest.\r\n",
      "# This manifest details sensible defaults for deploying an ALB Ingress Controller.\r\n",
      "# GitHub: https://github.com/kubernetes-sigs/aws-alb-ingress-controller\r\n",
      "apiVersion: apps/v1\r\n",
      "kind: Deployment\r\n",
      "metadata:\r\n",
      "  labels:\r\n",
      "    app.kubernetes.io/name: alb-ingress-controller\r\n",
      "  name: alb-ingress-controller\r\n",
      "  # Namespace the ALB Ingress Controller should run in. Does not impact which\r\n",
      "  # namespaces it's able to resolve ingress resource for. For limiting ingress\r\n",
      "  # namespace scope, see --watch-namespace.\r\n",
      "  namespace: kube-system\r\n",
      "spec:\r\n",
      "  selector:\r\n",
      "    matchLabels:\r\n",
      "      app.kubernetes.io/name: alb-ingress-controller\r\n",
      "  template:\r\n",
      "    metadata:\r\n",
      "      labels:\r\n",
      "        app.kubernetes.io/name: alb-ingress-controller\r\n",
      "    spec:\r\n",
      "      containers:\r\n",
      "        - name: alb-ingress-controller\r\n",
      "          args:\r\n",
      "            # Limit the namespace where this ALB Ingress Controller deployment will\r\n",
      "            # resolve ingress resources. If left commented, all namespaces are used.\r\n",
      "            # - --watch-namespace=your-k8s-namespace\r\n",
      "\r\n",
      "            # Setting the ingress-class flag below ensures that only ingress resources with the\r\n",
      "            # annotation kubernetes.io/ingress.class: \"alb\" are respected by the controller. You may\r\n",
      "            # choose any class you'd like for this controller to respect.\r\n",
      "            - --ingress-class=alb\r\n",
      "\r\n",
      "            # REQUIRED\r\n",
      "            # Name of your cluster. Used when naming resources created\r\n",
      "            # by the ALB Ingress Controller, providing distinction between\r\n",
      "            # clusters.\r\n",
      "            # - --cluster-name=devCluster\r\n",
      "\r\n",
      "            # AWS VPC ID this ingress controller will use to create AWS resources.\r\n",
      "            # If unspecified, it will be discovered from ec2metadata.\r\n",
      "            # - --aws-vpc-id=vpc-xxxxxx\r\n",
      "\r\n",
      "            # AWS region this ingress controller will operate in.\r\n",
      "            # If unspecified, it will be discovered from ec2metadata.\r\n",
      "            # List of regions: http://docs.aws.amazon.com/general/latest/gr/rande.html#vpc_region\r\n",
      "            # - --aws-region=us-west-1\r\n",
      "\r\n",
      "            # Enables logging on all outbound requests sent to the AWS API.\r\n",
      "            # If logging is desired, set to true.\r\n",
      "            # - --aws-api-debug\r\n",
      "            # Maximum number of times to retry the aws calls.\r\n",
      "            # defaults to 10.\r\n",
      "            # - --aws-max-retries=10\r\n",
      "          # env:\r\n",
      "            # AWS key id for authenticating with the AWS API.\r\n",
      "            # This is only here for examples. It's recommended you instead use\r\n",
      "            # a project like kube2iam for granting access.\r\n",
      "            #- name: AWS_ACCESS_KEY_ID\r\n",
      "            #  value: KEYVALUE\r\n",
      "\r\n",
      "            # AWS key secret for authenticating with the AWS API.\r\n",
      "            # This is only here for examples. It's recommended you instead use\r\n",
      "            # a project like kube2iam for granting access.\r\n",
      "            #- name: AWS_SECRET_ACCESS_KEY\r\n",
      "            #  value: SECRETVALUE\r\n",
      "          # Repository location of the ALB Ingress Controller.\r\n",
      "          image: docker.io/amazon/aws-alb-ingress-controller:v1.1.4\r\n",
      "      serviceAccountName: alb-ingress-controller\r\n"
     ]
    }
   ],
   "source": [
    "!cat yaml/alb-ingress-controller.yaml"
   ]
  },
  {
   "cell_type": "markdown",
   "metadata": {
    "lc_cell_meme": {
     "current": "7f5a0e64-4f0f-11ea-af7f-0242ac120004",
     "next": "7f5a0f2c-4f0f-11ea-af7f-0242ac120004",
     "previous": "7f5a0d92-4f0f-11ea-af7f-0242ac120004"
    }
   },
   "source": [
    "alb-ingress-controller.yaml\n",
    "\n",
    "\n",
    "-ingress-class=alb 行の後に、クラスター名、VPC ID、および AWS リージョン名を追加し、ファイルを保存して閉じます。\n"
   ]
  },
  {
   "cell_type": "code",
   "execution_count": 232,
   "metadata": {
    "deletable": false,
    "editable": false,
    "lc_cell_meme": {
     "current": "7f5a0f2c-4f0f-11ea-af7f-0242ac120004",
     "execution_end_time": "2020-02-14T11:31:28.166002Z",
     "next": "7f5a0ff4-4f0f-11ea-af7f-0242ac120004",
     "previous": "7f5a0e64-4f0f-11ea-af7f-0242ac120004"
    },
    "lc_wrapper": {
     "log_history": [
      "/home/user2/notebooks/200130/aws_notebook/.log/20200214/20200214-095555-0710.log",
      "/home/user2/notebooks/200130/aws_notebook/.log/20200214/20200214-095927-0693.log",
      "/home/user2/notebooks/200130/aws_notebook/.log/20200214/20200214-111213-0212.log",
      "/home/user2/notebooks/200130/aws_notebook/.log/20200214/20200214-111326-0220.log",
      "/home/user2/notebooks/200130/aws_notebook/.log/20200214/20200214-111525-0473.log",
      "/home/user2/notebooks/200130/aws_notebook/.log/20200214/20200214-112729-0596.log",
      "/home/user2/notebooks/200130/aws_notebook/.log/20200214/20200214-113026-0381.log",
      "/home/user2/notebooks/200130/aws_notebook/.log/20200214/20200214-113128-0153.log"
     ]
    },
    "run_through_control": {
     "frozen": true
    }
   },
   "outputs": [],
   "source": [
    "import re\n",
    "\n",
    "before_str='- --ingress-class=alb'\n",
    "after_str='''\n",
    "            - --ingress-class=alb\n",
    "            - --cluster-name={clusterName}\n",
    "            - --aws-vpc-id={vpcID}\n",
    "            - --aws-region=us-west-2\n",
    "'''.format(clusterName=res_info[\"clusterName\"],vpcID=res_info[\"vpcID\"]).strip()\n",
    "\n",
    "f = open('yaml/alb-ingress-controller.yaml','r')\n",
    "body = f.read()\n",
    "new_body = re.sub(before_str, after_str, body, flags=re.DOTALL)\n",
    "f.close()\n",
    "\n",
    "f = open('yaml/alb-ingress-controller.yaml','w')\n",
    "f.write(new_body)\n",
    "f.close()"
   ]
  },
  {
   "cell_type": "code",
   "execution_count": 233,
   "metadata": {
    "deletable": false,
    "editable": false,
    "lc_cell_meme": {
     "current": "7f5a0ff4-4f0f-11ea-af7f-0242ac120004",
     "execution_end_time": "2020-02-14T11:31:29.159907Z",
     "history": [
      {
       "current": "7f5a0ff4-4f0f-11ea-af7f-0242ac120004",
       "next": "7f5a11a2-4f0f-11ea-af7f-0242ac120004",
       "previous": "7f5a0f2c-4f0f-11ea-af7f-0242ac120004"
      }
     ],
     "next": "d5686780-3dc9-11ea-bfd5-0242ac120005",
     "previous": "7f5a0f2c-4f0f-11ea-af7f-0242ac120004"
    },
    "lc_wrapper": {
     "log_history": [
      "/home/user2/notebooks/200130/aws_notebook/.log/20200214/20200214-095600-0792.log",
      "/home/user2/notebooks/200130/aws_notebook/.log/20200214/20200214-095933-0888.log",
      "/home/user2/notebooks/200130/aws_notebook/.log/20200214/20200214-111218-0618.log",
      "/home/user2/notebooks/200130/aws_notebook/.log/20200214/20200214-111327-0176.log",
      "/home/user2/notebooks/200130/aws_notebook/.log/20200214/20200214-111527-0366.log",
      "/home/user2/notebooks/200130/aws_notebook/.log/20200214/20200214-112732-0378.log",
      "/home/user2/notebooks/200130/aws_notebook/.log/20200214/20200214-112734-0834.log",
      "/home/user2/notebooks/200130/aws_notebook/.log/20200214/20200214-113027-0066.log",
      "/home/user2/notebooks/200130/aws_notebook/.log/20200214/20200214-113128-0174.log"
     ]
    },
    "run_through_control": {
     "frozen": true
    }
   },
   "outputs": [
    {
     "name": "stdout",
     "output_type": "stream",
     "text": [
      "# Application Load Balancer (ALB) Ingress Controller Deployment Manifest.\r\n",
      "# This manifest details sensible defaults for deploying an ALB Ingress Controller.\r\n",
      "# GitHub: https://github.com/kubernetes-sigs/aws-alb-ingress-controller\r\n",
      "apiVersion: apps/v1\r\n",
      "kind: Deployment\r\n",
      "metadata:\r\n",
      "  labels:\r\n",
      "    app.kubernetes.io/name: alb-ingress-controller\r\n",
      "  name: alb-ingress-controller\r\n",
      "  # Namespace the ALB Ingress Controller should run in. Does not impact which\r\n",
      "  # namespaces it's able to resolve ingress resource for. For limiting ingress\r\n",
      "  # namespace scope, see --watch-namespace.\r\n",
      "  namespace: kube-system\r\n",
      "spec:\r\n",
      "  selector:\r\n",
      "    matchLabels:\r\n",
      "      app.kubernetes.io/name: alb-ingress-controller\r\n",
      "  template:\r\n",
      "    metadata:\r\n",
      "      labels:\r\n",
      "        app.kubernetes.io/name: alb-ingress-controller\r\n",
      "    spec:\r\n",
      "      containers:\r\n",
      "        - name: alb-ingress-controller\r\n",
      "          args:\r\n",
      "            # Limit the namespace where this ALB Ingress Controller deployment will\r\n",
      "            # resolve ingress resources. If left commented, all namespaces are used.\r\n",
      "            # - --watch-namespace=your-k8s-namespace\r\n",
      "\r\n",
      "            # Setting the ingress-class flag below ensures that only ingress resources with the\r\n",
      "            # annotation kubernetes.io/ingress.class: \"alb\" are respected by the controller. You may\r\n",
      "            # choose any class you'd like for this controller to respect.\r\n",
      "            - --ingress-class=alb\r\n",
      "            - --cluster-name=aws-eks-200214\r\n",
      "            - --aws-vpc-id=vpc-07b429d6780e6ec5f\r\n",
      "            - --aws-region=us-west-2\r\n",
      "\r\n",
      "            # REQUIRED\r\n",
      "            # Name of your cluster. Used when naming resources created\r\n",
      "            # by the ALB Ingress Controller, providing distinction between\r\n",
      "            # clusters.\r\n",
      "            # - --cluster-name=devCluster\r\n",
      "\r\n",
      "            # AWS VPC ID this ingress controller will use to create AWS resources.\r\n",
      "            # If unspecified, it will be discovered from ec2metadata.\r\n",
      "            # - --aws-vpc-id=vpc-xxxxxx\r\n",
      "\r\n",
      "            # AWS region this ingress controller will operate in.\r\n",
      "            # If unspecified, it will be discovered from ec2metadata.\r\n",
      "            # List of regions: http://docs.aws.amazon.com/general/latest/gr/rande.html#vpc_region\r\n",
      "            # - --aws-region=us-west-1\r\n",
      "\r\n",
      "            # Enables logging on all outbound requests sent to the AWS API.\r\n",
      "            # If logging is desired, set to true.\r\n",
      "            # - --aws-api-debug\r\n",
      "            # Maximum number of times to retry the aws calls.\r\n",
      "            # defaults to 10.\r\n",
      "            # - --aws-max-retries=10\r\n",
      "          # env:\r\n",
      "            # AWS key id for authenticating with the AWS API.\r\n",
      "            # This is only here for examples. It's recommended you instead use\r\n",
      "            # a project like kube2iam for granting access.\r\n",
      "            #- name: AWS_ACCESS_KEY_ID\r\n",
      "            #  value: KEYVALUE\r\n",
      "\r\n",
      "            # AWS key secret for authenticating with the AWS API.\r\n",
      "            # This is only here for examples. It's recommended you instead use\r\n",
      "            # a project like kube2iam for granting access.\r\n",
      "            #- name: AWS_SECRET_ACCESS_KEY\r\n",
      "            #  value: SECRETVALUE\r\n",
      "          # Repository location of the ALB Ingress Controller.\r\n",
      "          image: docker.io/amazon/aws-alb-ingress-controller:v1.1.4\r\n",
      "      serviceAccountName: alb-ingress-controller\r\n"
     ]
    }
   ],
   "source": [
    "!cat yaml/alb-ingress-controller.yaml\n"
   ]
  },
  {
   "cell_type": "markdown",
   "metadata": {
    "lc_cell_meme": {
     "current": "d5686780-3dc9-11ea-bfd5-0242ac120005",
     "history": [
      {
       "current": "d5686780-3dc9-11ea-bfd5-0242ac120005",
       "next": "d5686a14-3dc9-11ea-bfd5-0242ac120005",
       "previous": "fef1591e-3dc8-11ea-bfd5-0242ac120005"
      },
      {
       "current": "d5686780-3dc9-11ea-bfd5-0242ac120005",
       "next": "fd8f5474-4352-11ea-82b4-0242ac120004",
       "previous": "d4b876b6-40b4-11ea-91a9-0242ac120004"
      },
      {
       "current": "d5686780-3dc9-11ea-bfd5-0242ac120005",
       "next": "d5686a14-3dc9-11ea-bfd5-0242ac120005",
       "previous": "d4b876b6-40b4-11ea-91a9-0242ac120004"
      },
      {
       "current": "d5686780-3dc9-11ea-bfd5-0242ac120005",
       "next": "d5686a14-3dc9-11ea-bfd5-0242ac120005",
       "previous": "75f7831a-4357-11ea-82b4-0242ac120004"
      },
      {
       "current": "d5686780-3dc9-11ea-bfd5-0242ac120005",
       "next": "d5686a14-3dc9-11ea-bfd5-0242ac120005",
       "previous": "75f780f4-4357-11ea-82b4-0242ac120004"
      },
      {
       "current": "d5686780-3dc9-11ea-bfd5-0242ac120005",
       "next": "d5686a14-3dc9-11ea-bfd5-0242ac120005",
       "previous": "f0489358-4f0e-11ea-af7f-0242ac120004"
      },
      {
       "current": "d5686780-3dc9-11ea-bfd5-0242ac120005",
       "next": "d5686a14-3dc9-11ea-bfd5-0242ac120005",
       "previous": "7f5a1288-4f0f-11ea-af7f-0242ac120004"
      }
     ],
     "next": "9d8b126a-4f10-11ea-af7f-0242ac120004",
     "previous": "7f5a0ff4-4f0f-11ea-af7f-0242ac120004"
    }
   },
   "source": [
    "##   persistentvolume等のデプロイ"
   ]
  },
  {
   "cell_type": "code",
   "execution_count": 234,
   "metadata": {
    "deletable": false,
    "editable": false,
    "lc_cell_meme": {
     "current": "9d8b126a-4f10-11ea-af7f-0242ac120004",
     "execution_end_time": "2020-02-14T11:31:30.159035Z",
     "next": "d5686a14-3dc9-11ea-bfd5-0242ac120005",
     "previous": "d5686780-3dc9-11ea-bfd5-0242ac120005"
    },
    "lc_wrapper": {
     "log_history": [
      "/home/user2/notebooks/200130/aws_notebook/.log/20200214/20200214-095829-0753.log",
      "/home/user2/notebooks/200130/aws_notebook/.log/20200214/20200214-102554-0687.log",
      "/home/user2/notebooks/200130/aws_notebook/.log/20200214/20200214-105923-0960.log",
      "/home/user2/notebooks/200130/aws_notebook/.log/20200214/20200214-110815-0320.log",
      "/home/user2/notebooks/200130/aws_notebook/.log/20200214/20200214-113129-0168.log"
     ]
    },
    "run_through_control": {
     "frozen": true
    }
   },
   "outputs": [
    {
     "name": "stdout",
     "output_type": "stream",
     "text": [
      "Fri Feb 14 11:31:30 UTC 2020\r\n"
     ]
    }
   ],
   "source": [
    "!date"
   ]
  },
  {
   "cell_type": "code",
   "execution_count": 235,
   "metadata": {
    "deletable": false,
    "editable": false,
    "lc_cell_meme": {
     "current": "d5686a14-3dc9-11ea-bfd5-0242ac120005",
     "execution_end_time": "2020-02-14T11:31:36.235971Z",
     "history": [
      {
       "current": "d5686a14-3dc9-11ea-bfd5-0242ac120005",
       "next": "091b36c0-378a-11ea-b7f6-0242ac120004",
       "previous": "d5686780-3dc9-11ea-bfd5-0242ac120005"
      },
      {
       "current": "d5686a14-3dc9-11ea-bfd5-0242ac120005",
       "next": "955c337e-3dce-11ea-bfd5-0242ac120005",
       "previous": "d5686780-3dc9-11ea-bfd5-0242ac120005"
      },
      {
       "current": "d5686a14-3dc9-11ea-bfd5-0242ac120005",
       "next": "fd8f5474-4352-11ea-82b4-0242ac120004",
       "previous": "d5686780-3dc9-11ea-bfd5-0242ac120005"
      }
     ],
     "next": "fd8f5474-4352-11ea-82b4-0242ac120004",
     "previous": "9d8b126a-4f10-11ea-af7f-0242ac120004"
    },
    "lc_wrapper": {
     "log_history": [
      "/home/user5/notebooks/seminar-lc4ri/AWS/.log/20200123/20200123-101921-0285.log",
      "/home/user2/notebooks/AWS/.log/20200127/20200127-020713-0676.log",
      "/home/user2/notebooks/AWS/.log/20200127/20200127-032825-0197.log",
      "/home/user2/notebooks/200130/aws_notebook/.log/20200130/20200130-115425-0975.log",
      "/home/user2/notebooks/200130/aws_notebook/.log/20200214/20200214-095818-0324.log",
      "/home/user2/notebooks/200130/aws_notebook/.log/20200214/20200214-102555-0678.log",
      "/home/user2/notebooks/200130/aws_notebook/.log/20200214/20200214-104629-0098.log",
      "/home/user2/notebooks/200130/aws_notebook/.log/20200214/20200214-105924-0963.log",
      "/home/user2/notebooks/200130/aws_notebook/.log/20200214/20200214-110816-0326.log",
      "/home/user2/notebooks/200130/aws_notebook/.log/20200214/20200214-113130-0168.log"
     ]
    },
    "run_through_control": {
     "frozen": true
    },
    "scrolled": true
   },
   "outputs": [
    {
     "name": "stdout",
     "output_type": "stream",
     "text": [
      "storageclass.storage.k8s.io/aws-efs created\n",
      "configmap/efs-provisioner created\n",
      "clusterrole.rbac.authorization.k8s.io/efs-provisioner-runner created\n",
      "clusterrolebinding.rbac.authorization.k8s.io/run-efs-provisioner created\n",
      "role.rbac.authorization.k8s.io/leader-locking-efs-provisioner created\n",
      "rolebinding.rbac.authorization.k8s.io/leader-locking-efs-provisioner created\n",
      "serviceaccount/efs-provisioner created\n",
      "deployment.apps/efs-provisioner created\n"
     ]
    }
   ],
   "source": [
    "!kubectl apply -f yaml/class.yaml\n",
    "!kubectl apply -f yaml/configmap.yaml\n",
    "\n",
    "!kubectl apply -f yaml/rbac.yaml\n",
    "!kubectl apply -f yaml/deployment.yaml"
   ]
  },
  {
   "cell_type": "markdown",
   "metadata": {
    "lc_cell_meme": {
     "current": "fd8f5474-4352-11ea-82b4-0242ac120004",
     "history": [
      {
       "current": "fd8f5474-4352-11ea-82b4-0242ac120004",
       "next": "fd8f553c-4352-11ea-82b4-0242ac120004",
       "previous": "fd8f537a-4352-11ea-82b4-0242ac120004"
      },
      {
       "current": "fd8f5474-4352-11ea-82b4-0242ac120004",
       "next": "fd8f553c-4352-11ea-82b4-0242ac120004",
       "previous": "d5686780-3dc9-11ea-bfd5-0242ac120005"
      },
      {
       "current": "fd8f5474-4352-11ea-82b4-0242ac120004",
       "next": "fd8f553c-4352-11ea-82b4-0242ac120004",
       "previous": "d5686a14-3dc9-11ea-bfd5-0242ac120005"
      },
      {
       "current": "fd8f5474-4352-11ea-82b4-0242ac120004",
       "next": "75f7840a-4357-11ea-82b4-0242ac120004",
       "previous": "d5686a14-3dc9-11ea-bfd5-0242ac120005"
      }
     ],
     "next": "fd8f553c-4352-11ea-82b4-0242ac120004",
     "previous": "d5686a14-3dc9-11ea-bfd5-0242ac120005"
    }
   },
   "source": [
    "永続ボリュームクレーム"
   ]
  },
  {
   "cell_type": "code",
   "execution_count": 236,
   "metadata": {
    "deletable": false,
    "editable": false,
    "lc_cell_meme": {
     "current": "fd8f553c-4352-11ea-82b4-0242ac120004",
     "execution_end_time": "2020-02-14T11:31:37.949600Z",
     "history": [
      {
       "current": "fd8f553c-4352-11ea-82b4-0242ac120004",
       "next": "fd8f560e-4352-11ea-82b4-0242ac120004",
       "previous": "fd8f5474-4352-11ea-82b4-0242ac120004"
      },
      {
       "current": "fd8f553c-4352-11ea-82b4-0242ac120004",
       "next": "9c65239e-40ab-11ea-91a9-0242ac120004",
       "previous": "fd8f5474-4352-11ea-82b4-0242ac120004"
      },
      {
       "current": "fd8f553c-4352-11ea-82b4-0242ac120004",
       "next": "9c65239e-40ab-11ea-91a9-0242ac120004",
       "previous": "75f784d2-4357-11ea-82b4-0242ac120004"
      }
     ],
     "next": "9c65239e-40ab-11ea-91a9-0242ac120004",
     "previous": "fd8f5474-4352-11ea-82b4-0242ac120004"
    },
    "lc_wrapper": {
     "log_history": [
      "/home/user2/notebooks/200130/aws_notebook/.log/20200130/20200130-115508-0684.log",
      "/home/user2/notebooks/200130/aws_notebook/.log/20200130/20200130-115805-0472.log",
      "/home/user2/notebooks/200130/aws_notebook/.log/20200130/20200130-115828-0929.log",
      "/home/user2/notebooks/200130/aws_notebook/.log/20200130/20200130-115847-0941.log",
      "/home/user2/notebooks/200130/aws_notebook/.log/20200130/20200130-115905-0696.log",
      "/home/user2/notebooks/200130/aws_notebook/.log/20200130/20200130-115919-0253.log",
      "/home/user2/notebooks/200130/aws_notebook/.log/20200130/20200130-115926-0496.log",
      "/home/user2/notebooks/200130/aws_notebook/.log/20200130/20200130-121044-0792.log",
      "/home/user2/notebooks/200130/aws_notebook/.log/20200130/20200130-121145-0297.log",
      "/home/user2/notebooks/200130/aws_notebook/.log/20200214/20200214-095832-0965.log",
      "/home/user2/notebooks/200130/aws_notebook/.log/20200214/20200214-102601-0941.log",
      "/home/user2/notebooks/200130/aws_notebook/.log/20200214/20200214-104635-0072.log",
      "/home/user2/notebooks/200130/aws_notebook/.log/20200214/20200214-105931-0248.log",
      "/home/user2/notebooks/200130/aws_notebook/.log/20200214/20200214-110822-0797.log",
      "/home/user2/notebooks/200130/aws_notebook/.log/20200214/20200214-113136-0245.log"
     ]
    },
    "run_through_control": {
     "frozen": true
    }
   },
   "outputs": [
    {
     "name": "stdout",
     "output_type": "stream",
     "text": [
      "persistentvolumeclaim/fileserver-claim created\r\n"
     ]
    }
   ],
   "source": [
    "!kubectl apply -f yaml/claim.yaml"
   ]
  },
  {
   "cell_type": "markdown",
   "metadata": {
    "lc_cell_meme": {
     "current": "9c65239e-40ab-11ea-91a9-0242ac120004",
     "history": [
      {
       "current": "9c65239e-40ab-11ea-91a9-0242ac120004",
       "next": "9c652632-40ab-11ea-91a9-0242ac120004",
       "previous": "24664780-3dcf-11ea-bfd5-0242ac120005"
      }
     ],
     "next": "9c652632-40ab-11ea-91a9-0242ac120004",
     "previous": "fd8f553c-4352-11ea-82b4-0242ac120004"
    }
   },
   "source": [
    "出来ていることを確認する"
   ]
  },
  {
   "cell_type": "code",
   "execution_count": 237,
   "metadata": {
    "deletable": false,
    "editable": false,
    "lc_cell_meme": {
     "current": "9c652632-40ab-11ea-91a9-0242ac120004",
     "execution_end_time": "2020-02-14T11:31:39.240565Z",
     "history": [
      {
       "current": "9c652632-40ab-11ea-91a9-0242ac120004",
       "next": "091b36c0-378a-11ea-b7f6-0242ac120004",
       "previous": "9c65239e-40ab-11ea-91a9-0242ac120004"
      },
      {
       "current": "9c652632-40ab-11ea-91a9-0242ac120004",
       "next": "a988bc24-27d4-11ea-874f-0242ac120004",
       "previous": "9c65239e-40ab-11ea-91a9-0242ac120004"
      },
      {
       "current": "9c652632-40ab-11ea-91a9-0242ac120004",
       "next": "e5622000-4354-11ea-82b4-0242ac120004",
       "previous": "9c65239e-40ab-11ea-91a9-0242ac120004"
      },
      {
       "current": "9c652632-40ab-11ea-91a9-0242ac120004",
       "next": "bd9cd7d8-4357-11ea-82b4-0242ac120004",
       "previous": "9c65239e-40ab-11ea-91a9-0242ac120004"
      }
     ],
     "next": "8aa70468-4f0d-11ea-af7f-0242ac120004",
     "previous": "9c65239e-40ab-11ea-91a9-0242ac120004"
    },
    "lc_wrapper": {
     "log_history": [
      "/home/user2/notebooks/AWS/.log/20200127/20200127-021853-0726.log",
      "/home/user2/notebooks/AWS/.log/20200127/20200127-032903-0145.log",
      "/home/user2/notebooks/200130/aws_notebook/.log/20200130/20200130-115511-0938.log",
      "/home/user2/notebooks/200130/aws_notebook/.log/20200130/20200130-115854-0727.log",
      "/home/user2/notebooks/200130/aws_notebook/.log/20200130/20200130-121148-0824.log",
      "/home/user2/notebooks/200130/aws_notebook/.log/20200214/20200214-095835-0760.log",
      "/home/user2/notebooks/200130/aws_notebook/.log/20200214/20200214-102603-0401.log",
      "/home/user2/notebooks/200130/aws_notebook/.log/20200214/20200214-105932-0729.log",
      "/home/user2/notebooks/200130/aws_notebook/.log/20200214/20200214-110824-0216.log",
      "/home/user2/notebooks/200130/aws_notebook/.log/20200214/20200214-113137-0958.log"
     ]
    },
    "run_through_control": {
     "frozen": true
    },
    "scrolled": false
   },
   "outputs": [
    {
     "name": "stdout",
     "output_type": "stream",
     "text": [
      "NAME                               READY   STATUS    RESTARTS   AGE\r\n",
      "efs-provisioner-79fcc97585-bwn6j   1/1     Running   0          3s\r\n"
     ]
    }
   ],
   "source": [
    "!kubectl get pod"
   ]
  },
  {
   "cell_type": "markdown",
   "metadata": {
    "lc_cell_meme": {
     "current": "8aa70468-4f0d-11ea-af7f-0242ac120004",
     "history": [
      {
       "current": "8aa70468-4f0d-11ea-af7f-0242ac120004",
       "next": "a988bc24-27d4-11ea-874f-0242ac120004",
       "previous": "bd9cdc60-4357-11ea-82b4-0242ac120004"
      },
      {
       "current": "8aa70468-4f0d-11ea-af7f-0242ac120004",
       "next": "4b43701a-27d8-11ea-874f-0242ac120004",
       "previous": "bd9cdc60-4357-11ea-82b4-0242ac120004"
      }
     ],
     "next": "4b43701a-27d8-11ea-874f-0242ac120004",
     "previous": "9c652632-40ab-11ea-91a9-0242ac120004"
    }
   },
   "source": [
    "## wordpressのDeplyomentのデプロイ"
   ]
  },
  {
   "cell_type": "code",
   "execution_count": 238,
   "metadata": {
    "deletable": false,
    "editable": false,
    "lc_cell_meme": {
     "current": "4b43701a-27d8-11ea-874f-0242ac120004",
     "execution_end_time": "2020-02-14T11:31:40.711366Z",
     "history": [
      {
       "current": "4b43701a-27d8-11ea-874f-0242ac120004",
       "next": "4b437150-27d8-11ea-874f-0242ac120004",
       "previous": "4b436dea-27d8-11ea-874f-0242ac120004"
      },
      {
       "current": "4b43701a-27d8-11ea-874f-0242ac120004",
       "next": "28211274-2ca4-11ea-9eae-0242ac120004",
       "previous": "4b436dea-27d8-11ea-874f-0242ac120004"
      },
      {
       "current": "4b43701a-27d8-11ea-874f-0242ac120004",
       "next": "28211274-2ca4-11ea-9eae-0242ac120004",
       "previous": "11a075b0-3dcc-11ea-bfd5-0242ac120005"
      }
     ],
     "next": "9e8cfd74-27d6-11ea-874f-0242ac120004",
     "previous": "8aa70468-4f0d-11ea-af7f-0242ac120004"
    },
    "lc_wrapper": {
     "log_history": [
      "/home/user5/notebooks/seminar-lc4ri/AWS/.log/20191226/20191226-120721-0379.log",
      "/home/user5/notebooks/seminar-lc4ri/AWS/.log/20200101/20200101-143658-0969.log",
      "/home/user5/notebooks/seminar-lc4ri/AWS/.log/20200108/20200108-110107-0125.log",
      "/home/user5/notebooks/seminar-lc4ri/AWS/.log/20200123/20200123-103512-0091.log",
      "/home/user5/notebooks/seminar-lc4ri/AWS/.log/20200123/20200123-104247-0709.log",
      "/home/user5/notebooks/seminar-lc4ri/AWS/.log/20200123/20200123-104638-0397.log",
      "/home/user5/notebooks/seminar-lc4ri/AWS/.log/20200123/20200123-105416-0538.log",
      "/home/user5/notebooks/seminar-lc4ri/AWS/.log/20200123/20200123-105430-0406.log",
      "/home/user5/notebooks/seminar-lc4ri/AWS/.log/20200123/20200123-105447-0270.log",
      "/home/user5/notebooks/seminar-lc4ri/AWS/.log/20200123/20200123-105635-0911.log",
      "/home/user5/notebooks/seminar-lc4ri/AWS/.log/20200123/20200123-105643-0572.log",
      "/home/user5/notebooks/seminar-lc4ri/AWS/.log/20200123/20200123-105652-0138.log",
      "/home/user5/notebooks/seminar-lc4ri/AWS/.log/20200123/20200123-110147-0642.log",
      "/home/user5/notebooks/seminar-lc4ri/AWS/.log/20200123/20200123-112327-0980.log",
      "/home/user5/notebooks/seminar-lc4ri/AWS/.log/20200123/20200123-120649-0314.log",
      "/home/user2/notebooks/AWS/.log/20200127/20200127-065659-0396.log",
      "/home/user2/notebooks/200130/aws_notebook/.log/20200130/20200130-115705-0919.log",
      "/home/user2/notebooks/200130/aws_notebook/.log/20200130/20200130-115936-0707.log",
      "/home/user2/notebooks/200130/aws_notebook/.log/20200130/20200130-121156-0551.log",
      "/home/user2/notebooks/200130/aws_notebook/.log/20200214/20200214-100155-0482.log",
      "/home/user2/notebooks/200130/aws_notebook/.log/20200214/20200214-102604-0720.log",
      "/home/user2/notebooks/200130/aws_notebook/.log/20200214/20200214-104638-0202.log",
      "/home/user2/notebooks/200130/aws_notebook/.log/20200214/20200214-105934-0008.log",
      "/home/user2/notebooks/200130/aws_notebook/.log/20200214/20200214-110825-0510.log",
      "/home/user2/notebooks/200130/aws_notebook/.log/20200214/20200214-113139-0249.log"
     ]
    },
    "run_through_control": {
     "frozen": true
    },
    "scrolled": true
   },
   "outputs": [
    {
     "name": "stdout",
     "output_type": "stream",
     "text": [
      "deployment.apps/wordpress created\r\n"
     ]
    }
   ],
   "source": [
    "!kubectl apply -f yaml/wordpress-deploy.yaml"
   ]
  },
  {
   "cell_type": "code",
   "execution_count": 239,
   "metadata": {
    "deletable": false,
    "editable": false,
    "lc_cell_meme": {
     "current": "9e8cfd74-27d6-11ea-874f-0242ac120004",
     "execution_end_time": "2020-02-14T11:31:42.032483Z",
     "history": [
      {
       "current": "9e8cfd74-27d6-11ea-874f-0242ac120004",
       "next": null,
       "previous": "9e8cfc8e-27d6-11ea-874f-0242ac120004"
      },
      {
       "current": "9e8cfd74-27d6-11ea-874f-0242ac120004",
       "next": "bcb1789c-27d7-11ea-874f-0242ac120004",
       "previous": "9e8cfc8e-27d6-11ea-874f-0242ac120004"
      },
      {
       "current": "9e8cfd74-27d6-11ea-874f-0242ac120004",
       "next": "1cecfe02-2ca6-11ea-9eae-0242ac120004",
       "previous": "9e8cfc8e-27d6-11ea-874f-0242ac120004"
      },
      {
       "current": "9e8cfd74-27d6-11ea-874f-0242ac120004",
       "next": "595f673a-3dcc-11ea-bfd5-0242ac120005",
       "previous": "9e8cfb76-27d6-11ea-874f-0242ac120004"
      },
      {
       "current": "9e8cfd74-27d6-11ea-874f-0242ac120004",
       "next": "a0ae263a-3dcc-11ea-bfd5-0242ac120005",
       "previous": "9e8cfb76-27d6-11ea-874f-0242ac120004"
      },
      {
       "current": "9e8cfd74-27d6-11ea-874f-0242ac120004",
       "next": "595f673a-3dcc-11ea-bfd5-0242ac120005",
       "previous": "9e8cfb76-27d6-11ea-874f-0242ac120004"
      },
      {
       "current": "9e8cfd74-27d6-11ea-874f-0242ac120004",
       "next": "595f673a-3dcc-11ea-bfd5-0242ac120005",
       "previous": "4b43701a-27d8-11ea-874f-0242ac120004"
      },
      {
       "current": "9e8cfd74-27d6-11ea-874f-0242ac120004",
       "next": "1cecfe02-2ca6-11ea-9eae-0242ac120004",
       "previous": "4b43701a-27d8-11ea-874f-0242ac120004"
      }
     ],
     "next": "d22d06e8-4f0d-11ea-af7f-0242ac120004",
     "previous": "4b43701a-27d8-11ea-874f-0242ac120004"
    },
    "lc_wrapper": {
     "log_history": [
      "/home/user5/notebooks/seminar-lc4ri/AWS/.log/20191226/20191226-120254-0496.log",
      "/home/user5/notebooks/seminar-lc4ri/AWS/.log/20200101/20200101-144958-0959.log",
      "/home/user5/notebooks/seminar-lc4ri/AWS/.log/20200108/20200108-110212-0368.log",
      "/home/user5/notebooks/seminar-lc4ri/AWS/.log/20200123/20200123-103603-0193.log",
      "/home/user5/notebooks/seminar-lc4ri/AWS/.log/20200123/20200123-103629-0248.log",
      "/home/user5/notebooks/seminar-lc4ri/AWS/.log/20200123/20200123-103642-0770.log",
      "/home/user5/notebooks/seminar-lc4ri/AWS/.log/20200123/20200123-103830-0360.log",
      "/home/user5/notebooks/seminar-lc4ri/AWS/.log/20200123/20200123-103936-0625.log",
      "/home/user5/notebooks/seminar-lc4ri/AWS/.log/20200123/20200123-104312-0107.log",
      "/home/user5/notebooks/seminar-lc4ri/AWS/.log/20200123/20200123-104319-0181.log",
      "/home/user5/notebooks/seminar-lc4ri/AWS/.log/20200123/20200123-104629-0016.log",
      "/home/user5/notebooks/seminar-lc4ri/AWS/.log/20200123/20200123-104645-0214.log",
      "/home/user5/notebooks/seminar-lc4ri/AWS/.log/20200123/20200123-104802-0692.log",
      "/home/user5/notebooks/seminar-lc4ri/AWS/.log/20200123/20200123-104959-0625.log",
      "/home/user5/notebooks/seminar-lc4ri/AWS/.log/20200123/20200123-105438-0143.log",
      "/home/user5/notebooks/seminar-lc4ri/AWS/.log/20200123/20200123-105454-0239.log",
      "/home/user5/notebooks/seminar-lc4ri/AWS/.log/20200123/20200123-105502-0870.log",
      "/home/user5/notebooks/seminar-lc4ri/AWS/.log/20200123/20200123-105658-0300.log",
      "/home/user5/notebooks/seminar-lc4ri/AWS/.log/20200123/20200123-105728-0336.log",
      "/home/user5/notebooks/seminar-lc4ri/AWS/.log/20200123/20200123-110154-0956.log",
      "/home/user5/notebooks/seminar-lc4ri/AWS/.log/20200123/20200123-112335-0465.log",
      "/home/user5/notebooks/seminar-lc4ri/AWS/.log/20200123/20200123-115401-0366.log",
      "/home/user5/notebooks/seminar-lc4ri/AWS/.log/20200123/20200123-120704-0721.log",
      "/home/user2/notebooks/AWS/.log/20200127/20200127-065706-0323.log",
      "/home/user2/notebooks/AWS/.log/20200127/20200127-065711-0539.log",
      "/home/user2/notebooks/AWS/.log/20200127/20200127-065753-0861.log",
      "/home/user2/notebooks/200130/aws_notebook/.log/20200130/20200130-115712-0484.log",
      "/home/user2/notebooks/200130/aws_notebook/.log/20200130/20200130-115723-0669.log",
      "/home/user2/notebooks/200130/aws_notebook/.log/20200130/20200130-115728-0680.log",
      "/home/user2/notebooks/200130/aws_notebook/.log/20200130/20200130-115745-0168.log",
      "/home/user2/notebooks/200130/aws_notebook/.log/20200130/20200130-115940-0801.log",
      "/home/user2/notebooks/200130/aws_notebook/.log/20200130/20200130-121201-0668.log",
      "/home/user2/notebooks/200130/aws_notebook/.log/20200130/20200130-121210-0059.log",
      "/home/user2/notebooks/200130/aws_notebook/.log/20200214/20200214-100157-0581.log",
      "/home/user2/notebooks/200130/aws_notebook/.log/20200214/20200214-100234-0020.log",
      "/home/user2/notebooks/200130/aws_notebook/.log/20200214/20200214-100246-0425.log",
      "/home/user2/notebooks/200130/aws_notebook/.log/20200214/20200214-102606-0139.log",
      "/home/user2/notebooks/200130/aws_notebook/.log/20200214/20200214-105935-0477.log",
      "/home/user2/notebooks/200130/aws_notebook/.log/20200214/20200214-110826-0986.log",
      "/home/user2/notebooks/200130/aws_notebook/.log/20200214/20200214-113140-0720.log"
     ]
    },
    "run_through_control": {
     "frozen": true
    },
    "scrolled": false
   },
   "outputs": [
    {
     "name": "stdout",
     "output_type": "stream",
     "text": [
      "NAME                               READY   STATUS    RESTARTS   AGE\r\n",
      "efs-provisioner-79fcc97585-bwn6j   1/1     Running   0          5s\r\n",
      "wordpress-6b7bdf676c-95tgk         0/1     Pending   0          1s\r\n",
      "wordpress-6b7bdf676c-mh6pj         0/1     Pending   0          1s\r\n"
     ]
    }
   ],
   "source": [
    "!kubectl get pod"
   ]
  },
  {
   "cell_type": "markdown",
   "metadata": {
    "lc_cell_meme": {
     "current": "d22d06e8-4f0d-11ea-af7f-0242ac120004",
     "execution_end_time": "2020-02-14T09:38:14.346602Z",
     "history": [
      {
       "current": "d22d06e8-4f0d-11ea-af7f-0242ac120004",
       "next": "d22d090e-4f0d-11ea-af7f-0242ac120004",
       "previous": "d18e5d8e-3dd0-11ea-bfd5-0242ac120005"
      }
     ],
     "next": "d22d090e-4f0d-11ea-af7f-0242ac120004",
     "previous": "9e8cfd74-27d6-11ea-874f-0242ac120004"
    },
    "lc_wrapper": {
     "log_history": [
      "/home/user2/notebooks/200130/aws_notebook/.log/20200214/20200214-093814-0338.log"
     ]
    }
   },
   "source": [
    "## serviceのデプロイ"
   ]
  },
  {
   "cell_type": "code",
   "execution_count": 240,
   "metadata": {
    "deletable": false,
    "editable": false,
    "lc_cell_meme": {
     "current": "d22d090e-4f0d-11ea-af7f-0242ac120004",
     "execution_end_time": "2020-02-14T11:31:43.436066Z",
     "history": [
      {
       "current": "d22d090e-4f0d-11ea-af7f-0242ac120004",
       "next": null,
       "previous": "d22d06e8-4f0d-11ea-af7f-0242ac120004"
      }
     ],
     "next": "7f5a1382-4f0f-11ea-af7f-0242ac120004",
     "previous": "d22d06e8-4f0d-11ea-af7f-0242ac120004"
    },
    "lc_wrapper": {
     "log_history": [
      "/home/user2/notebooks/200130/aws_notebook/.log/20200214/20200214-100346-0949.log",
      "/home/user2/notebooks/200130/aws_notebook/.log/20200214/20200214-102607-0490.log",
      "/home/user2/notebooks/200130/aws_notebook/.log/20200214/20200214-104641-0879.log",
      "/home/user2/notebooks/200130/aws_notebook/.log/20200214/20200214-105936-0785.log",
      "/home/user2/notebooks/200130/aws_notebook/.log/20200214/20200214-110828-0300.log",
      "/home/user2/notebooks/200130/aws_notebook/.log/20200214/20200214-113142-0041.log"
     ]
    },
    "run_through_control": {
     "frozen": true
    }
   },
   "outputs": [
    {
     "name": "stdout",
     "output_type": "stream",
     "text": [
      "service/wordpress created\r\n"
     ]
    }
   ],
   "source": [
    "!kubectl apply -f yaml/wordpress-service.yaml"
   ]
  },
  {
   "cell_type": "code",
   "execution_count": 241,
   "metadata": {
    "deletable": false,
    "editable": false,
    "lc_cell_meme": {
     "current": "7f5a1382-4f0f-11ea-af7f-0242ac120004",
     "execution_end_time": "2020-02-14T11:31:44.704649Z",
     "history": [
      {
       "current": "7f5a1382-4f0f-11ea-af7f-0242ac120004",
       "next": "7f5a144a-4f0f-11ea-af7f-0242ac120004",
       "previous": "d22d090e-4f0d-11ea-af7f-0242ac120004"
      }
     ],
     "next": "7f5a1508-4f0f-11ea-af7f-0242ac120004",
     "previous": "d22d090e-4f0d-11ea-af7f-0242ac120004"
    },
    "lc_wrapper": {
     "log_history": [
      "/home/user2/notebooks/200130/aws_notebook/.log/20200214/20200214-100348-0466.log",
      "/home/user2/notebooks/200130/aws_notebook/.log/20200214/20200214-102608-0919.log",
      "/home/user2/notebooks/200130/aws_notebook/.log/20200214/20200214-105938-0175.log",
      "/home/user2/notebooks/200130/aws_notebook/.log/20200214/20200214-110829-0792.log",
      "/home/user2/notebooks/200130/aws_notebook/.log/20200214/20200214-113143-0444.log"
     ]
    },
    "run_through_control": {
     "frozen": true
    }
   },
   "outputs": [
    {
     "name": "stdout",
     "output_type": "stream",
     "text": [
      "NAME         TYPE        CLUSTER-IP      EXTERNAL-IP   PORT(S)        AGE\r\n",
      "kubernetes   ClusterIP   172.20.0.1      <none>        443/TCP        179m\r\n",
      "wordpress    NodePort    172.20.113.41   <none>        80:32002/TCP   1s\r\n"
     ]
    }
   ],
   "source": [
    "!kubectl get service"
   ]
  },
  {
   "cell_type": "markdown",
   "metadata": {
    "lc_cell_meme": {
     "current": "7f5a1508-4f0f-11ea-af7f-0242ac120004",
     "history": [
      {
       "current": "7f5a1508-4f0f-11ea-af7f-0242ac120004",
       "next": "7f5a15bc-4f0f-11ea-af7f-0242ac120004",
       "previous": "7f5a144a-4f0f-11ea-af7f-0242ac120004"
      },
      {
       "current": "7f5a1508-4f0f-11ea-af7f-0242ac120004",
       "next": "e5461140-4f10-11ea-af7f-0242ac120004",
       "previous": "7f5a144a-4f0f-11ea-af7f-0242ac120004"
      },
      {
       "current": "7f5a1508-4f0f-11ea-af7f-0242ac120004",
       "next": "7f5a15bc-4f0f-11ea-af7f-0242ac120004",
       "previous": "7f5a144a-4f0f-11ea-af7f-0242ac120004"
      }
     ],
     "next": "7f5a15bc-4f0f-11ea-af7f-0242ac120004",
     "previous": "7f5a1382-4f0f-11ea-af7f-0242ac120004"
    }
   },
   "source": [
    "## ingressのデプロイ"
   ]
  },
  {
   "cell_type": "code",
   "execution_count": 242,
   "metadata": {
    "deletable": false,
    "editable": false,
    "lc_cell_meme": {
     "current": "7f5a15bc-4f0f-11ea-af7f-0242ac120004",
     "execution_end_time": "2020-02-14T11:31:48.975695Z",
     "history": [
      {
       "current": "7f5a15bc-4f0f-11ea-af7f-0242ac120004",
       "next": null,
       "previous": "7f5a1508-4f0f-11ea-af7f-0242ac120004"
      },
      {
       "current": "7f5a15bc-4f0f-11ea-af7f-0242ac120004",
       "next": "e5461348-4f10-11ea-af7f-0242ac120004",
       "previous": "e5461140-4f10-11ea-af7f-0242ac120004"
      },
      {
       "current": "7f5a15bc-4f0f-11ea-af7f-0242ac120004",
       "next": "e5461348-4f10-11ea-af7f-0242ac120004",
       "previous": "7f5a1508-4f0f-11ea-af7f-0242ac120004"
      }
     ],
     "next": "c31dee20-4f16-11ea-af7f-0242ac120004",
     "previous": "7f5a1508-4f0f-11ea-af7f-0242ac120004"
    },
    "lc_wrapper": {
     "log_history": [
      "/home/user2/notebooks/200130/aws_notebook/.log/20200214/20200214-100136-0757.log",
      "/home/user2/notebooks/200130/aws_notebook/.log/20200214/20200214-102610-0196.log",
      "/home/user2/notebooks/200130/aws_notebook/.log/20200214/20200214-104433-0276.log",
      "/home/user2/notebooks/200130/aws_notebook/.log/20200214/20200214-105939-0482.log",
      "/home/user2/notebooks/200130/aws_notebook/.log/20200214/20200214-110831-0095.log",
      "/home/user2/notebooks/200130/aws_notebook/.log/20200214/20200214-113144-0712.log"
     ]
    },
    "run_through_control": {
     "frozen": true
    }
   },
   "outputs": [
    {
     "name": "stdout",
     "output_type": "stream",
     "text": [
      "clusterrole.rbac.authorization.k8s.io/alb-ingress-controller created\n",
      "clusterrolebinding.rbac.authorization.k8s.io/alb-ingress-controller created\n",
      "serviceaccount/alb-ingress-controller created\n",
      "deployment.apps/alb-ingress-controller created\n",
      "ingress.extensions/wordpress-ingress created\n"
     ]
    }
   ],
   "source": [
    "!kubectl apply -f yaml/rbac-role.yaml\n",
    "!kubectl apply -f yaml/alb-ingress-controller.yaml\n",
    "!kubectl apply -f yaml/wordpress-ingress.yaml"
   ]
  },
  {
   "cell_type": "code",
   "execution_count": 243,
   "metadata": {
    "deletable": false,
    "editable": false,
    "lc_cell_meme": {
     "current": "c31dee20-4f16-11ea-af7f-0242ac120004",
     "execution_end_time": "2020-02-14T11:31:50.227524Z",
     "history": [
      {
       "current": "c31dee20-4f16-11ea-af7f-0242ac120004",
       "next": "e5461514-4f10-11ea-af7f-0242ac120004",
       "previous": "e5461348-4f10-11ea-af7f-0242ac120004"
      },
      {
       "current": "c31dee20-4f16-11ea-af7f-0242ac120004",
       "next": "520e151a-4f17-11ea-af7f-0242ac120004",
       "previous": "7f5a15bc-4f0f-11ea-af7f-0242ac120004"
      }
     ],
     "next": "e11c3886-4f17-11ea-af7f-0242ac120004",
     "previous": "7f5a15bc-4f0f-11ea-af7f-0242ac120004"
    },
    "lc_wrapper": {
     "log_history": [
      "/home/user2/notebooks/200130/aws_notebook/.log/20200214/20200214-104106-0947.log",
      "/home/user2/notebooks/200130/aws_notebook/.log/20200214/20200214-104114-0256.log",
      "/home/user2/notebooks/200130/aws_notebook/.log/20200214/20200214-104119-0197.log",
      "/home/user2/notebooks/200130/aws_notebook/.log/20200214/20200214-104130-0181.log",
      "/home/user2/notebooks/200130/aws_notebook/.log/20200214/20200214-104133-0184.log",
      "/home/user2/notebooks/200130/aws_notebook/.log/20200214/20200214-104141-0096.log",
      "/home/user2/notebooks/200130/aws_notebook/.log/20200214/20200214-104144-0651.log",
      "/home/user2/notebooks/200130/aws_notebook/.log/20200214/20200214-104148-0922.log",
      "/home/user2/notebooks/200130/aws_notebook/.log/20200214/20200214-104337-0101.log",
      "/home/user2/notebooks/200130/aws_notebook/.log/20200214/20200214-104428-0932.log",
      "/home/user2/notebooks/200130/aws_notebook/.log/20200214/20200214-104439-0736.log",
      "/home/user2/notebooks/200130/aws_notebook/.log/20200214/20200214-104459-0837.log",
      "/home/user2/notebooks/200130/aws_notebook/.log/20200214/20200214-104507-0901.log",
      "/home/user2/notebooks/200130/aws_notebook/.log/20200214/20200214-104603-0383.log",
      "/home/user2/notebooks/200130/aws_notebook/.log/20200214/20200214-104645-0361.log",
      "/home/user2/notebooks/200130/aws_notebook/.log/20200214/20200214-105040-0525.log",
      "/home/user2/notebooks/200130/aws_notebook/.log/20200214/20200214-105943-0908.log",
      "/home/user2/notebooks/200130/aws_notebook/.log/20200214/20200214-110835-0628.log",
      "/home/user2/notebooks/200130/aws_notebook/.log/20200214/20200214-113148-0986.log"
     ]
    },
    "run_through_control": {
     "frozen": true
    },
    "scrolled": false
   },
   "outputs": [
    {
     "name": "stdout",
     "output_type": "stream",
     "text": [
      "NAME                HOSTS   ADDRESS   PORTS   AGE\r\n",
      "wordpress-ingress   *                 80      2s\r\n"
     ]
    }
   ],
   "source": [
    "!kubectl get ingress"
   ]
  },
  {
   "cell_type": "code",
   "execution_count": 244,
   "metadata": {
    "deletable": false,
    "editable": false,
    "lc_cell_meme": {
     "current": "e11c3886-4f17-11ea-af7f-0242ac120004",
     "execution_end_time": "2020-02-14T11:31:51.964520Z",
     "history": [
      {
       "current": "e11c3886-4f17-11ea-af7f-0242ac120004",
       "next": "bbfb92aa-4f11-11ea-af7f-0242ac120004",
       "previous": "c31dee20-4f16-11ea-af7f-0242ac120004"
      }
     ],
     "next": "64ebc294-4f18-11ea-af7f-0242ac120004",
     "previous": "c31dee20-4f16-11ea-af7f-0242ac120004"
    },
    "lc_wrapper": {
     "log_history": [
      "/home/user2/notebooks/200130/aws_notebook/.log/20200214/20200214-105046-0418.log",
      "/home/user2/notebooks/200130/aws_notebook/.log/20200214/20200214-105945-0166.log",
      "/home/user2/notebooks/200130/aws_notebook/.log/20200214/20200214-110030-0629.log",
      "/home/user2/notebooks/200130/aws_notebook/.log/20200214/20200214-110801-0495.log",
      "/home/user2/notebooks/200130/aws_notebook/.log/20200214/20200214-110836-0930.log",
      "/home/user2/notebooks/200130/aws_notebook/.log/20200214/20200214-113150-0236.log"
     ]
    },
    "run_through_control": {
     "frozen": true
    },
    "scrolled": false
   },
   "outputs": [
    {
     "name": "stdout",
     "output_type": "stream",
     "text": [
      "{\r\n",
      "    \"LoadBalancers\": []\r\n",
      "}\r\n"
     ]
    }
   ],
   "source": [
    "!aws elbv2 describe-load-balancers"
   ]
  },
  {
   "cell_type": "markdown",
   "metadata": {
    "lc_cell_meme": {
     "current": "64ebc294-4f18-11ea-af7f-0242ac120004",
     "execution_end_time": "2020-02-14T10:53:40.949793Z",
     "next": "64ebc492-4f18-11ea-af7f-0242ac120004",
     "previous": "e11c3886-4f17-11ea-af7f-0242ac120004"
    },
    "lc_wrapper": {
     "log_history": [
      "/home/user2/notebooks/200130/aws_notebook/.log/20200214/20200214-105340-0941.log"
     ]
    }
   },
   "source": [
    "ステータスがActiveになるまで待ち、アドレスの取得\n"
   ]
  },
  {
   "cell_type": "code",
   "execution_count": 245,
   "metadata": {
    "deletable": false,
    "editable": false,
    "lc_cell_meme": {
     "current": "64ebc492-4f18-11ea-af7f-0242ac120004",
     "execution_end_time": "2020-02-14T11:34:13.094059Z",
     "history": [
      {
       "current": "64ebc492-4f18-11ea-af7f-0242ac120004",
       "next": "bbfb92aa-4f11-11ea-af7f-0242ac120004",
       "previous": "64ebc294-4f18-11ea-af7f-0242ac120004"
      }
     ],
     "next": "06fe2c66-4f1e-11ea-af7f-0242ac120004",
     "previous": "64ebc294-4f18-11ea-af7f-0242ac120004"
    },
    "lc_wrapper": {
     "log_history": [
      "/home/user2/notebooks/200130/aws_notebook/.log/20200214/20200214-105647-0701.log",
      "/home/user2/notebooks/200130/aws_notebook/.log/20200214/20200214-105701-0619.log",
      "/home/user2/notebooks/200130/aws_notebook/.log/20200214/20200214-105713-0635.log",
      "/home/user2/notebooks/200130/aws_notebook/.log/20200214/20200214-105946-0874.log",
      "/home/user2/notebooks/200130/aws_notebook/.log/20200214/20200214-110007-0182.log",
      "/home/user2/notebooks/200130/aws_notebook/.log/20200214/20200214-110037-0927.log",
      "/home/user2/notebooks/200130/aws_notebook/.log/20200214/20200214-110048-0752.log",
      "/home/user2/notebooks/200130/aws_notebook/.log/20200214/20200214-110748-0481.log",
      "/home/user2/notebooks/200130/aws_notebook/.log/20200214/20200214-110838-0682.log",
      "/home/user2/notebooks/200130/aws_notebook/.log/20200214/20200214-111032-0823.log",
      "/home/user2/notebooks/200130/aws_notebook/.log/20200214/20200214-111055-0007.log",
      "/home/user2/notebooks/200130/aws_notebook/.log/20200214/20200214-113151-0973.log"
     ]
    },
    "run_through_control": {
     "frozen": true
    }
   },
   "outputs": [
    {
     "name": "stdout",
     "output_type": "stream",
     "text": [
      "waiting...\n",
      "waiting...\n",
      "provisioning\n",
      "waiting...\n",
      "provisioning\n",
      "waiting...\n",
      "provisioning\n",
      "waiting...\n",
      "provisioning\n",
      "waiting...\n",
      "provisioning\n",
      "waiting...\n",
      "provisioning\n",
      "waiting...\n",
      "provisioning\n",
      "waiting...\n",
      "provisioning\n",
      "waiting...\n",
      "provisioning\n",
      "waiting...\n",
      "provisioning\n",
      "waiting...\n",
      "provisioning\n",
      "waiting...\n",
      "a4c1c68a-default-wordpress-9484-2035555615.us-west-2.elb.amazonaws.com\n"
     ]
    }
   ],
   "source": [
    "import json\n",
    "\n",
    "while True:\n",
    "    row = !aws elbv2 describe-load-balancers\n",
    "\n",
    "    while row[0].find('{') == -1:\n",
    "        del row[0]\n",
    "    row[0] = \"{\"\n",
    "    balancers =json.loads(''.join(row))\n",
    "    \n",
    "    if len(balancers[\"LoadBalancers\"]) >= 1 :\n",
    "        if balancers[\"LoadBalancers\"][0][\"State\"][\"Code\"] == \"active\":\n",
    "            address = balancers[\"LoadBalancers\"][0][\"DNSName\"]\n",
    "            print(address)\n",
    "            break;\n",
    "        print(balancers[\"LoadBalancers\"][0][\"State\"][\"Code\"])\n",
    "    \n",
    "    print(\"waiting...\")\n",
    "    time.sleep(5)\n"
   ]
  },
  {
   "cell_type": "markdown",
   "metadata": {
    "lc_cell_meme": {
     "current": "06fe2c66-4f1e-11ea-af7f-0242ac120004",
     "next": "bbfb92aa-4f11-11ea-af7f-0242ac120004",
     "previous": "64ebc492-4f18-11ea-af7f-0242ac120004"
    }
   },
   "source": [
    "httpアクセスを確認"
   ]
  },
  {
   "cell_type": "code",
   "execution_count": 246,
   "metadata": {
    "deletable": false,
    "editable": false,
    "lc_cell_meme": {
     "current": "bbfb92aa-4f11-11ea-af7f-0242ac120004",
     "execution_end_time": "2020-02-14T11:34:14.085020Z",
     "history": [
      {
       "current": "bbfb92aa-4f11-11ea-af7f-0242ac120004",
       "next": "74205902-4f11-11ea-af7f-0242ac120004",
       "previous": "e5461514-4f10-11ea-af7f-0242ac120004"
      },
      {
       "current": "bbfb92aa-4f11-11ea-af7f-0242ac120004",
       "next": "4b07aa38-4f12-11ea-af7f-0242ac120004",
       "previous": "e5461514-4f10-11ea-af7f-0242ac120004"
      },
      {
       "current": "bbfb92aa-4f11-11ea-af7f-0242ac120004",
       "next": "4b07aa38-4f12-11ea-af7f-0242ac120004",
       "previous": "e11c3886-4f17-11ea-af7f-0242ac120004"
      },
      {
       "current": "bbfb92aa-4f11-11ea-af7f-0242ac120004",
       "next": "4b07aa38-4f12-11ea-af7f-0242ac120004",
       "previous": "64ebc492-4f18-11ea-af7f-0242ac120004"
      }
     ],
     "next": "4b07aa38-4f12-11ea-af7f-0242ac120004",
     "previous": "06fe2c66-4f1e-11ea-af7f-0242ac120004"
    },
    "lc_wrapper": {
     "log_history": [
      "/home/user2/notebooks/200130/aws_notebook/.log/20200214/20200214-100817-0717.log",
      "/home/user2/notebooks/200130/aws_notebook/.log/20200214/20200214-100835-0893.log",
      "/home/user2/notebooks/200130/aws_notebook/.log/20200214/20200214-100857-0680.log",
      "/home/user2/notebooks/200130/aws_notebook/.log/20200214/20200214-102615-0927.log",
      "/home/user2/notebooks/200130/aws_notebook/.log/20200214/20200214-102647-0974.log",
      "/home/user2/notebooks/200130/aws_notebook/.log/20200214/20200214-102652-0866.log",
      "/home/user2/notebooks/200130/aws_notebook/.log/20200214/20200214-103031-0516.log",
      "/home/user2/notebooks/200130/aws_notebook/.log/20200214/20200214-103049-0001.log",
      "/home/user2/notebooks/200130/aws_notebook/.log/20200214/20200214-103051-0817.log",
      "/home/user2/notebooks/200130/aws_notebook/.log/20200214/20200214-103101-0728.log",
      "/home/user2/notebooks/200130/aws_notebook/.log/20200214/20200214-103107-0646.log",
      "/home/user2/notebooks/200130/aws_notebook/.log/20200214/20200214-103143-0927.log",
      "/home/user2/notebooks/200130/aws_notebook/.log/20200214/20200214-103313-0462.log",
      "/home/user2/notebooks/200130/aws_notebook/.log/20200214/20200214-105717-0767.log",
      "/home/user2/notebooks/200130/aws_notebook/.log/20200214/20200214-105721-0717.log",
      "/home/user2/notebooks/200130/aws_notebook/.log/20200214/20200214-110226-0473.log",
      "/home/user2/notebooks/200130/aws_notebook/.log/20200214/20200214-111110-0473.log",
      "/home/user2/notebooks/200130/aws_notebook/.log/20200214/20200214-113413-0104.log"
     ]
    },
    "run_through_control": {
     "frozen": true
    },
    "scrolled": true
   },
   "outputs": [
    {
     "name": "stdout",
     "output_type": "stream",
     "text": [
      "200 ok\n"
     ]
    }
   ],
   "source": [
    "import requests\n",
    "import time\n",
    "\n",
    "while True:\n",
    "    \n",
    "    try:\n",
    "        r = requests.get('http://'+ address)\n",
    "    except ConnectionError:\n",
    "        print(\"not establish\")\n",
    "\n",
    "    if r.status_code == 200 :\n",
    "        print(\"200 ok\")\n",
    "        break\n",
    "        \n",
    "    print(\"waiting...\")\n",
    "    time.sleep(10)\n"
   ]
  },
  {
   "cell_type": "code",
   "execution_count": 247,
   "metadata": {
    "deletable": false,
    "editable": false,
    "lc_cell_meme": {
     "current": "4b07aa38-4f12-11ea-af7f-0242ac120004",
     "execution_end_time": "2020-02-14T11:34:15.079537Z",
     "next": "74205902-4f11-11ea-af7f-0242ac120004",
     "previous": "bbfb92aa-4f11-11ea-af7f-0242ac120004"
    },
    "lc_wrapper": {
     "log_history": [
      "/home/user2/notebooks/200130/aws_notebook/.log/20200214/20200214-110227-0625.log",
      "/home/user2/notebooks/200130/aws_notebook/.log/20200214/20200214-111111-0359.log",
      "/home/user2/notebooks/200130/aws_notebook/.log/20200214/20200214-113414-0094.log"
     ]
    },
    "run_through_control": {
     "frozen": true
    }
   },
   "outputs": [
    {
     "name": "stdout",
     "output_type": "stream",
     "text": [
      "Fri Feb 14 11:34:14 UTC 2020\r\n"
     ]
    }
   ],
   "source": [
    "!date"
   ]
  },
  {
   "cell_type": "markdown",
   "metadata": {
    "lc_cell_meme": {
     "current": "74205902-4f11-11ea-af7f-0242ac120004",
     "execution_end_time": "2020-02-14T10:06:13.138201Z",
     "history": [
      {
       "current": "74205902-4f11-11ea-af7f-0242ac120004",
       "next": null,
       "previous": "e5461514-4f10-11ea-af7f-0242ac120004"
      },
      {
       "current": "74205902-4f11-11ea-af7f-0242ac120004",
       "next": "bbfb95d4-4f11-11ea-af7f-0242ac120004",
       "previous": "bbfb92aa-4f11-11ea-af7f-0242ac120004"
      }
     ],
     "next": "bbfb95d4-4f11-11ea-af7f-0242ac120004",
     "previous": "4b07aa38-4f12-11ea-af7f-0242ac120004"
    },
    "lc_wrapper": {
     "log_history": [
      "/home/user2/notebooks/200130/aws_notebook/.log/20200214/20200214-100613-0130.log"
     ]
    }
   },
   "source": [
    "### クラスタ削除"
   ]
  },
  {
   "cell_type": "code",
   "execution_count": 248,
   "metadata": {
    "deletable": false,
    "editable": false,
    "lc_cell_meme": {
     "current": "bbfb95d4-4f11-11ea-af7f-0242ac120004",
     "execution_end_time": "2020-02-14T11:34:28.514944Z",
     "history": [
      {
       "current": "bbfb95d4-4f11-11ea-af7f-0242ac120004",
       "next": null,
       "previous": "74205902-4f11-11ea-af7f-0242ac120004"
      },
      {
       "current": "bbfb95d4-4f11-11ea-af7f-0242ac120004",
       "next": "921e8bb2-4f12-11ea-af7f-0242ac120004",
       "previous": "74205902-4f11-11ea-af7f-0242ac120004"
      },
      {
       "current": "bbfb95d4-4f11-11ea-af7f-0242ac120004",
       "next": "b037ef7a-4f13-11ea-af7f-0242ac120004",
       "previous": "74205902-4f11-11ea-af7f-0242ac120004"
      },
      {
       "current": "bbfb95d4-4f11-11ea-af7f-0242ac120004",
       "next": "921e8bb2-4f12-11ea-af7f-0242ac120004",
       "previous": "74205902-4f11-11ea-af7f-0242ac120004"
      },
      {
       "current": "bbfb95d4-4f11-11ea-af7f-0242ac120004",
       "next": "b037ef7a-4f13-11ea-af7f-0242ac120004",
       "previous": "74205902-4f11-11ea-af7f-0242ac120004"
      }
     ],
     "next": "921e8bb2-4f12-11ea-af7f-0242ac120004",
     "previous": "74205902-4f11-11ea-af7f-0242ac120004"
    },
    "lc_wrapper": {
     "log_history": [
      "/home/user2/notebooks/200130/aws_notebook/.log/20200214/20200214-101228-0158.log",
      "/home/user2/notebooks/200130/aws_notebook/.log/20200214/20200214-102020-0129.log",
      "/home/user2/notebooks/200130/aws_notebook/.log/20200214/20200214-103147-0744.log",
      "/home/user2/notebooks/200130/aws_notebook/.log/20200214/20200214-103334-0815.log",
      "/home/user2/notebooks/200130/aws_notebook/.log/20200214/20200214-105742-0401.log",
      "/home/user2/notebooks/200130/aws_notebook/.log/20200214/20200214-105847-0425.log",
      "/home/user2/notebooks/200130/aws_notebook/.log/20200214/20200214-110544-0090.log",
      "/home/user2/notebooks/200130/aws_notebook/.log/20200214/20200214-112829-0178.log",
      "/home/user2/notebooks/200130/aws_notebook/.log/20200214/20200214-113415-0087.log"
     ]
    },
    "run_through_control": {
     "frozen": true
    },
    "scrolled": true
   },
   "outputs": [
    {
     "name": "stdout",
     "output_type": "stream",
     "text": [
      "deployment.apps \"wordpress\" deleted\n",
      "service \"wordpress\" deleted\n",
      "ingress.extensions \"wordpress-ingress\" deleted\n",
      "storageclass.storage.k8s.io \"aws-efs\" deleted\n",
      "configmap \"efs-provisioner\" deleted\n",
      "clusterrole.rbac.authorization.k8s.io \"efs-provisioner-runner\" deleted\n",
      "clusterrolebinding.rbac.authorization.k8s.io \"run-efs-provisioner\" deleted\n",
      "role.rbac.authorization.k8s.io \"leader-locking-efs-provisioner\" deleted\n",
      "rolebinding.rbac.authorization.k8s.io \"leader-locking-efs-provisioner\" deleted\n",
      "serviceaccount \"efs-provisioner\" deleted\n",
      "deployment.apps \"efs-provisioner\" deleted\n",
      "persistentvolumeclaim \"fileserver-claim\" deleted\n",
      "clusterrole.rbac.authorization.k8s.io \"alb-ingress-controller\" deleted\n",
      "clusterrolebinding.rbac.authorization.k8s.io \"alb-ingress-controller\" deleted\n",
      "serviceaccount \"alb-ingress-controller\" deleted\n",
      "deployment.apps \"alb-ingress-controller\" deleted\n"
     ]
    }
   ],
   "source": [
    "# wp\n",
    "!kubectl delete -f yaml/wordpress-deploy.yaml\n",
    "!kubectl delete -f yaml/wordpress-service.yaml\n",
    "!kubectl delete -f yaml/wordpress-ingress.yaml\n",
    "\n",
    "# volume\n",
    "!kubectl delete -f yaml/class.yaml\n",
    "!kubectl delete -f yaml/configmap.yaml\n",
    "!kubectl delete -f yaml/rbac.yaml\n",
    "!kubectl delete -f yaml/deployment.yaml\n",
    "!kubectl delete -f yaml/claim.yaml\n",
    "\n",
    "# ingress\n",
    "!kubectl delete -f yaml/rbac-role.yaml\n",
    "!kubectl delete -f yaml/alb-ingress-controller.yaml"
   ]
  },
  {
   "cell_type": "code",
   "execution_count": 249,
   "metadata": {
    "deletable": false,
    "editable": false,
    "lc_cell_meme": {
     "current": "921e8bb2-4f12-11ea-af7f-0242ac120004",
     "execution_end_time": "2020-02-14T11:34:32.372583Z",
     "history": [
      {
       "current": "921e8bb2-4f12-11ea-af7f-0242ac120004",
       "next": "921e8dd8-4f12-11ea-af7f-0242ac120004",
       "previous": "bbfb95d4-4f11-11ea-af7f-0242ac120004"
      },
      {
       "current": "921e8bb2-4f12-11ea-af7f-0242ac120004",
       "next": "921e8dd8-4f12-11ea-af7f-0242ac120004",
       "previous": "b037ef7a-4f13-11ea-af7f-0242ac120004"
      },
      {
       "current": "921e8bb2-4f12-11ea-af7f-0242ac120004",
       "next": "921e8dd8-4f12-11ea-af7f-0242ac120004",
       "previous": "bbfb95d4-4f11-11ea-af7f-0242ac120004"
      },
      {
       "current": "921e8bb2-4f12-11ea-af7f-0242ac120004",
       "next": "921e8dd8-4f12-11ea-af7f-0242ac120004",
       "previous": "b037ef7a-4f13-11ea-af7f-0242ac120004"
      }
     ],
     "next": "921e8dd8-4f12-11ea-af7f-0242ac120004",
     "previous": "bbfb95d4-4f11-11ea-af7f-0242ac120004"
    },
    "lc_wrapper": {
     "log_history": [
      "/home/user2/notebooks/200130/aws_notebook/.log/20200214/20200214-102005-0426.log",
      "/home/user2/notebooks/200130/aws_notebook/.log/20200214/20200214-102037-0808.log",
      "/home/user2/notebooks/200130/aws_notebook/.log/20200214/20200214-102057-0421.log",
      "/home/user2/notebooks/200130/aws_notebook/.log/20200214/20200214-102403-0934.log",
      "/home/user2/notebooks/200130/aws_notebook/.log/20200214/20200214-103321-0197.log",
      "/home/user2/notebooks/200130/aws_notebook/.log/20200214/20200214-103348-0108.log",
      "/home/user2/notebooks/200130/aws_notebook/.log/20200214/20200214-104614-0863.log",
      "/home/user2/notebooks/200130/aws_notebook/.log/20200214/20200214-105853-0637.log",
      "/home/user2/notebooks/200130/aws_notebook/.log/20200214/20200214-112824-0497.log",
      "/home/user2/notebooks/200130/aws_notebook/.log/20200214/20200214-112847-0245.log",
      "/home/user2/notebooks/200130/aws_notebook/.log/20200214/20200214-113428-0524.log"
     ]
    },
    "run_through_control": {
     "frozen": true
    }
   },
   "outputs": [
    {
     "name": "stdout",
     "output_type": "stream",
     "text": [
      "NAME                               READY   STATUS        RESTARTS   AGE\n",
      "efs-provisioner-79fcc97585-bwn6j   0/1     Terminating   0          2m53s\n",
      "No resources found.\n",
      "NAME         TYPE        CLUSTER-IP   EXTERNAL-IP   PORT(S)   AGE\n",
      "kubernetes   ClusterIP   172.20.0.1   <none>        443/TCP   3h2m\n"
     ]
    }
   ],
   "source": [
    "!kubectl get pod\n",
    "!kubectl get ingress\n",
    "!kubectl get service"
   ]
  },
  {
   "cell_type": "code",
   "execution_count": null,
   "metadata": {
    "lc_cell_meme": {
     "current": "921e8dd8-4f12-11ea-af7f-0242ac120004",
     "history": [
      {
       "current": "921e8dd8-4f12-11ea-af7f-0242ac120004",
       "next": null,
       "previous": "921e8bb2-4f12-11ea-af7f-0242ac120004"
      }
     ],
     "next": "64d7571c-4f1a-11ea-af7f-0242ac120004",
     "previous": "921e8bb2-4f12-11ea-af7f-0242ac120004"
    }
   },
   "outputs": [],
   "source": []
  },
  {
   "cell_type": "code",
   "execution_count": null,
   "metadata": {
    "lc_cell_meme": {
     "current": "64d7571c-4f1a-11ea-af7f-0242ac120004",
     "next": "64d75924-4f1a-11ea-af7f-0242ac120004",
     "previous": "921e8dd8-4f12-11ea-af7f-0242ac120004"
    }
   },
   "outputs": [],
   "source": []
  },
  {
   "cell_type": "code",
   "execution_count": null,
   "metadata": {
    "lc_cell_meme": {
     "current": "64d75924-4f1a-11ea-af7f-0242ac120004",
     "next": null,
     "previous": "64d7571c-4f1a-11ea-af7f-0242ac120004"
    }
   },
   "outputs": [],
   "source": []
  }
 ],
 "metadata": {
  "kernelspec": {
   "display_name": "Python 3",
   "language": "python",
   "name": "python3"
  },
  "language_info": {
   "file_extension": ".py",
   "mimetype": "text/x-python",
   "name": "python",
   "nbconvert_exporter": "python",
   "pygments_lexer": "ipython3",
   "version": "3.7.3"
  },
  "lc_notebook_meme": {
   "current": "22998cf2-14c9-11ea-8ffe-0242ac110002",
   "lc_server_signature": {
    "current": {
     "notebook_dir": "/home/user2/notebooks",
     "notebook_path": "/200130/aws_notebook",
     "server_url": "https://operationhub.kgr-lab.com/user/user2/",
     "signature_id": "ae27fcb2-043f-11ea-b29c-0242ac120002"
    },
    "history": [
     {
      "notebook_dir": "/home/jovyan",
      "notebook_path": "/work/lc4ri",
      "server_url": "http://192.168.0.106:8888/",
      "signature_id": "c932e082-14c8-11ea-8ffe-0242ac110002"
     },
     {
      "notebook_dir": "/home/jovyan",
      "notebook_path": "/work/lc4ri",
      "server_url": "http://192.168.0.105:8888/",
      "signature_id": "257243ec-14fb-11ea-8d3b-0242ac110002"
     },
     {
      "notebook_dir": "/home/user5/notebooks",
      "notebook_path": "/seminar-lc4ri/AWS",
      "server_url": "https://operationhub.kgr-lab.com/user/user5/",
      "signature_id": "ae27fcb2-043f-11ea-b29c-0242ac120002"
     },
     {
      "notebook_dir": "/home/user2/notebooks",
      "notebook_path": "/AWS",
      "server_url": "https://operationhub.kgr-lab.com/user/user2/",
      "signature_id": "ae27fcb2-043f-11ea-b29c-0242ac120002"
     },
     {
      "notebook_dir": "/home/user5/notebooks",
      "notebook_path": "/seminar-lc4ri/AWS",
      "server_url": "https://operationhub.kgr-lab.com/user/user5/",
      "signature_id": "ae27fcb2-043f-11ea-b29c-0242ac120002"
     },
     {
      "notebook_dir": "/home/user2/notebooks",
      "notebook_path": "/AWS",
      "server_url": "https://operationhub.kgr-lab.com/user/user2/",
      "signature_id": "ae27fcb2-043f-11ea-b29c-0242ac120002"
     }
    ]
   }
  },
  "toc": {
   "base_numbering": 1,
   "nav_menu": {},
   "number_sections": true,
   "sideBar": true,
   "skip_h1_title": false,
   "title_cell": "Table of Contents",
   "title_sidebar": "Contents",
   "toc_cell": false,
   "toc_position": {
    "height": "calc(100% - 180px)",
    "left": "10px",
    "top": "150px",
    "width": "194.42px"
   },
   "toc_section_display": true,
   "toc_window_display": true
  }
 },
 "nbformat": 4,
 "nbformat_minor": 2
}
