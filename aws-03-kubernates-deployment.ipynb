{
 "cells": [
  {
   "cell_type": "markdown",
   "metadata": {
    "lc_cell_meme": {
     "current": "a988bc24-27d4-11ea-874f-0242ac120004",
     "history": [
      {
       "current": "a988bc24-27d4-11ea-874f-0242ac120004",
       "next": "801a68dc-27d5-11ea-874f-0242ac120004",
       "previous": "a988b9f4-27d4-11ea-874f-0242ac120004"
      },
      {
       "current": "a988bc24-27d4-11ea-874f-0242ac120004",
       "next": "c7dd904a-27d5-11ea-874f-0242ac120004",
       "previous": "b5186582-27d2-11ea-874f-0242ac120004"
      },
      {
       "current": "a988bc24-27d4-11ea-874f-0242ac120004",
       "next": "0f25ba9a-27d6-11ea-874f-0242ac120004",
       "previous": "b5186582-27d2-11ea-874f-0242ac120004"
      },
      {
       "current": "a988bc24-27d4-11ea-874f-0242ac120004",
       "next": "0f25bf2c-27d6-11ea-874f-0242ac120004",
       "previous": "b5186582-27d2-11ea-874f-0242ac120004"
      },
      {
       "current": "a988bc24-27d4-11ea-874f-0242ac120004",
       "next": "0f25bf2c-27d6-11ea-874f-0242ac120004",
       "previous": "1fa11378-3786-11ea-b7f6-0242ac120004"
      },
      {
       "current": "a988bc24-27d4-11ea-874f-0242ac120004",
       "next": "0f25bf2c-27d6-11ea-874f-0242ac120004",
       "previous": "679445d8-3786-11ea-b7f6-0242ac120004"
      },
      {
       "current": "a988bc24-27d4-11ea-874f-0242ac120004",
       "next": "0f25bf2c-27d6-11ea-874f-0242ac120004",
       "previous": "091b394a-378a-11ea-b7f6-0242ac120004"
      },
      {
       "current": "a988bc24-27d4-11ea-874f-0242ac120004",
       "next": "0f25bf2c-27d6-11ea-874f-0242ac120004",
       "previous": "27399916-378b-11ea-b7f6-0242ac120004"
      },
      {
       "current": "a988bc24-27d4-11ea-874f-0242ac120004",
       "next": "0f25bf2c-27d6-11ea-874f-0242ac120004",
       "previous": "93e5824a-3791-11ea-8b4d-0242ac120004"
      }
     ],
     "next": "0f25bf2c-27d6-11ea-874f-0242ac120004",
     "previous": null
    }
   },
   "source": [
    "# wordpressのデプロイ\n",
    "\n",
    "次はwordpressをデプロイ"
   ]
  },
  {
   "cell_type": "code",
   "execution_count": 27,
   "metadata": {
    "lc_cell_meme": {
     "current": "0f25bf2c-27d6-11ea-874f-0242ac120004",
     "execution_end_time": "2020-01-23T10:34:06.366356Z",
     "history": [
      {
       "current": "0f25bf2c-27d6-11ea-874f-0242ac120004",
       "next": "0f25c030-27d6-11ea-874f-0242ac120004",
       "previous": "0f25bdc4-27d6-11ea-874f-0242ac120004"
      },
      {
       "current": "0f25bf2c-27d6-11ea-874f-0242ac120004",
       "next": "bcb1789c-27d7-11ea-874f-0242ac120004",
       "previous": "0f25bdc4-27d6-11ea-874f-0242ac120004"
      },
      {
       "current": "0f25bf2c-27d6-11ea-874f-0242ac120004",
       "next": "bcb1789c-27d7-11ea-874f-0242ac120004",
       "previous": "a988bc24-27d4-11ea-874f-0242ac120004"
      }
     ],
     "next": "4b436dea-27d8-11ea-874f-0242ac120004",
     "previous": "a988bc24-27d4-11ea-874f-0242ac120004"
    },
    "lc_wrapper": {
     "log_history": [
      "/home/user5/notebooks/seminar-lc4ri/AWS/.log/20191226/20191226-115123-0584.log",
      "/home/user5/notebooks/seminar-lc4ri/AWS/.log/20200101/20200101-143526-0366.log",
      "/home/user5/notebooks/seminar-lc4ri/AWS/.log/20200108/20200108-110149-0662.log",
      "/home/user2/notebooks/AWS/.log/20200123/20200123-074356-0927.log",
      "/home/user5/notebooks/seminar-lc4ri/AWS/.log/20200123/20200123-103405-0390.log"
     ]
    }
   },
   "outputs": [
    {
     "name": "stdout",
     "output_type": "stream",
     "text": [
      "apiVersion: v1\r\n",
      "kind: Service\r\n",
      "metadata:\r\n",
      "  labels:\r\n",
      "    app: wordpress\r\n",
      "  name: wordpress\r\n",
      "spec:\r\n",
      "  type: LoadBalancer\r\n",
      "  ports:\r\n",
      "    - port: 80\r\n",
      "      targetPort: 80\r\n",
      "      protocol: TCP\r\n",
      "  selector:\r\n",
      "    app: wordpress\r\n"
     ]
    }
   ],
   "source": [
    "!cat yaml/wordpress-service.yaml"
   ]
  },
  {
   "cell_type": "code",
   "execution_count": 89,
   "metadata": {
    "lc_cell_meme": {
     "current": "4b436dea-27d8-11ea-874f-0242ac120004",
     "execution_end_time": "2020-01-23T11:23:16.175189Z",
     "history": [
      {
       "current": "4b436dea-27d8-11ea-874f-0242ac120004",
       "next": "4b43701a-27d8-11ea-874f-0242ac120004",
       "previous": "bcb1789c-27d7-11ea-874f-0242ac120004"
      }
     ],
     "next": "11a075b0-3dcc-11ea-bfd5-0242ac120005",
     "previous": "0f25bf2c-27d6-11ea-874f-0242ac120004"
    },
    "lc_wrapper": {
     "log_history": [
      "/home/user5/notebooks/seminar-lc4ri/AWS/.log/20191226/20191226-120705-0254.log",
      "/home/user5/notebooks/seminar-lc4ri/AWS/.log/20200101/20200101-143655-0261.log",
      "/home/user5/notebooks/seminar-lc4ri/AWS/.log/20200108/20200108-110103-0471.log",
      "/home/user5/notebooks/seminar-lc4ri/AWS/.log/20200123/20200123-103432-0467.log",
      "/home/user5/notebooks/seminar-lc4ri/AWS/.log/20200123/20200123-103442-0085.log",
      "/home/user5/notebooks/seminar-lc4ri/AWS/.log/20200123/20200123-104238-0338.log",
      "/home/user5/notebooks/seminar-lc4ri/AWS/.log/20200123/20200123-105404-0663.log",
      "/home/user5/notebooks/seminar-lc4ri/AWS/.log/20200123/20200123-110137-0852.log",
      "/home/user5/notebooks/seminar-lc4ri/AWS/.log/20200123/20200123-112315-0204.log"
     ]
    },
    "pinned_outputs": [
     {
      "execution_count": 96,
      "outputs": [
       {
        "name": "stdout",
        "output_type": "stream",
        "text": "apiVersion: apps/v1\r\n\r\nkind: Deployment\r\nmetadata:\r\n  name: wordpress\r\n  labels:\r\n    app: wordpress\r\nspec:\r\n  replicas: 1\r\n  selector:\r\n    matchLabels:\r\n      app: wordpress\r\n  template:\r\n    metadata:\r\n      labels:\r\n        app: wordpress\r\n    spec:\r\n      containers:\r\n        - image: wordpress:4.8-apache\r\n          name: wordpress\r\n#          env:\r\n#          - name: WORDPRESS_DB_HOST\r\n#            value: mysql:3306\r\n#          - name: WORDPRESS_DB_PASSWORD\r\n#            valueFrom:\r\n#              secretKeyRef:\r\n#                name: mysql\r\n#                key: password\r\n          ports:\r\n            - containerPort: 80\r\n              name: wordpress\r\n"
       }
      ]
     },
     {
      "execution_count": 75,
      "outputs": [
       {
        "name": "stdout",
        "output_type": "stream",
        "text": "apiVersion: apps/v1\r\n\r\nkind: Deployment\r\nmetadata:\r\n  name: wordpress\r\n  labels:\r\n    app: wordpress\r\nspec:\r\n  replicas: 2\r\n  selector:\r\n    matchLabels:\r\n      app: wordpress\r\n  template:\r\n    metadata:\r\n      labels:\r\n        app: wordpress\r\n    spec:\r\n      containers:\r\n        - image: wordpress:4.8-apache\r\n          name: wordpress\r\n          volumeMounts:\r\n            - name: efs-pvc\r\n              mountPath: \"/var/www/html/wp-content/uploads\"\r\n          env:\r\n          - name: WORDPRESS_DB_HOST\r\n            value: rds-topse.ciph33ijhh38.us-west-2.rds.amazonaws.com:3306\r\n          - name: WORDPRESS_DB_PASSWORD\r\n            value: password\r\n\r\n          ports:\r\n            - containerPort: 80\r\n              name: wordpress\r\n      volumes:\r\n        - name: efs-pvc\r\n          persistentVolumeClaim:\r\n            claimName: efs\r\n"
       }
      ]
     }
    ]
   },
   "outputs": [
    {
     "name": "stdout",
     "output_type": "stream",
     "text": [
      "apiVersion: apps/v1\r\n",
      "\r\n",
      "kind: Deployment\r\n",
      "metadata:\r\n",
      "  name: wordpress\r\n",
      "  labels:\r\n",
      "    app: wordpress\r\n",
      "spec:\r\n",
      "  replicas: 2\r\n",
      "  selector:\r\n",
      "    matchLabels:\r\n",
      "      app: wordpress\r\n",
      "  template:\r\n",
      "    metadata:\r\n",
      "      labels:\r\n",
      "        app: wordpress\r\n",
      "    spec:\r\n",
      "      containers:\r\n",
      "        - image: wordpress:4.8-apache\r\n",
      "          name: wordpress\r\n",
      "          volumeMounts:\r\n",
      "            - name: efs-pvc\r\n",
      "              mountPath: \"/var/www/html/wp-content/uploads\"\r\n",
      "          env:\r\n",
      "          - name: WORDPRESS_DB_HOST\r\n",
      "            value: rds-topse.ciph33ijhh38.us-west-2.rds.amazonaws.com:3306\r\n",
      "          - name: WORDPRESS_DB_PASSWORD\r\n",
      "            value: password\r\n",
      "\r\n",
      "          ports:\r\n",
      "            - containerPort: 80\r\n",
      "              name: wordpress\r\n",
      "          lifecycle:\r\n",
      "            postStart:\r\n",
      "              exec:\r\n",
      "                command: [\"/bin/sh\", \"-c\", \"chown -R www-data:www-data /var/www/html/wp-content/uploads\"]\r\n",
      "      volumes:\r\n",
      "        - name: efs-pvc\r\n",
      "          persistentVolumeClaim:\r\n",
      "            claimName: efs\r\n"
     ]
    }
   ],
   "source": [
    "!cat yaml/wordpress-deploy.yaml"
   ]
  },
  {
   "cell_type": "code",
   "execution_count": 110,
   "metadata": {
    "lc_cell_meme": {
     "current": "11a075b0-3dcc-11ea-bfd5-0242ac120005",
     "execution_end_time": "2020-01-23T11:45:51.787178Z",
     "next": "4b43701a-27d8-11ea-874f-0242ac120004",
     "previous": "4b436dea-27d8-11ea-874f-0242ac120004"
    },
    "lc_wrapper": {
     "log_history": [
      "/home/user5/notebooks/seminar-lc4ri/AWS/.log/20200123/20200123-103503-0011.log",
      "/home/user5/notebooks/seminar-lc4ri/AWS/.log/20200123/20200123-114550-0815.log"
     ]
    }
   },
   "outputs": [
    {
     "name": "stdout",
     "output_type": "stream",
     "text": [
      "apiVersion: extensions/v1beta1\r\n",
      "kind: Ingress\r\n",
      "metadata:\r\n",
      "  name: wordpress-ingress\r\n",
      "  annotations:\r\n",
      "    kubernetes.io/ingress.class: alb\r\n",
      "    alb.ingress.kubernetes.io/scheme: internet-facing\r\n",
      "    alb.ingress.kubernetes.io/target-group-attributes: stickiness.enabled=true,stickiness.lb_cookie.duration_seconds=6000\r\n",
      "spec:\r\n",
      "  rules:\r\n",
      "  - http:\r\n",
      "      paths:\r\n",
      "      - backend:\r\n",
      "          serviceName: wordpress\r\n",
      "          servicePort: 80\r\n"
     ]
    }
   ],
   "source": [
    "!cat yaml/wordpress-ingress.yaml"
   ]
  },
  {
   "cell_type": "code",
   "execution_count": 123,
   "metadata": {
    "lc_cell_meme": {
     "current": "4b43701a-27d8-11ea-874f-0242ac120004",
     "execution_end_time": "2020-01-23T12:06:51.446554Z",
     "history": [
      {
       "current": "4b43701a-27d8-11ea-874f-0242ac120004",
       "next": "4b437150-27d8-11ea-874f-0242ac120004",
       "previous": "4b436dea-27d8-11ea-874f-0242ac120004"
      },
      {
       "current": "4b43701a-27d8-11ea-874f-0242ac120004",
       "next": "28211274-2ca4-11ea-9eae-0242ac120004",
       "previous": "4b436dea-27d8-11ea-874f-0242ac120004"
      }
     ],
     "next": "28211274-2ca4-11ea-9eae-0242ac120004",
     "previous": "11a075b0-3dcc-11ea-bfd5-0242ac120005"
    },
    "lc_wrapper": {
     "log_history": [
      "/home/user5/notebooks/seminar-lc4ri/AWS/.log/20191226/20191226-120721-0379.log",
      "/home/user5/notebooks/seminar-lc4ri/AWS/.log/20200101/20200101-143658-0969.log",
      "/home/user5/notebooks/seminar-lc4ri/AWS/.log/20200108/20200108-110107-0125.log",
      "/home/user5/notebooks/seminar-lc4ri/AWS/.log/20200123/20200123-103512-0091.log",
      "/home/user5/notebooks/seminar-lc4ri/AWS/.log/20200123/20200123-104247-0709.log",
      "/home/user5/notebooks/seminar-lc4ri/AWS/.log/20200123/20200123-104638-0397.log",
      "/home/user5/notebooks/seminar-lc4ri/AWS/.log/20200123/20200123-105416-0538.log",
      "/home/user5/notebooks/seminar-lc4ri/AWS/.log/20200123/20200123-105430-0406.log",
      "/home/user5/notebooks/seminar-lc4ri/AWS/.log/20200123/20200123-105447-0270.log",
      "/home/user5/notebooks/seminar-lc4ri/AWS/.log/20200123/20200123-105635-0911.log",
      "/home/user5/notebooks/seminar-lc4ri/AWS/.log/20200123/20200123-105643-0572.log",
      "/home/user5/notebooks/seminar-lc4ri/AWS/.log/20200123/20200123-105652-0138.log",
      "/home/user5/notebooks/seminar-lc4ri/AWS/.log/20200123/20200123-110147-0642.log",
      "/home/user5/notebooks/seminar-lc4ri/AWS/.log/20200123/20200123-112327-0980.log",
      "/home/user5/notebooks/seminar-lc4ri/AWS/.log/20200123/20200123-120649-0314.log"
     ]
    },
    "scrolled": true
   },
   "outputs": [
    {
     "name": "stdout",
     "output_type": "stream",
     "text": [
      "deployment.apps/wordpress created\r\n"
     ]
    }
   ],
   "source": [
    "!kubectl apply -f yaml/wordpress-deploy.yaml"
   ]
  },
  {
   "cell_type": "code",
   "execution_count": 32,
   "metadata": {
    "lc_cell_meme": {
     "current": "28211274-2ca4-11ea-9eae-0242ac120004",
     "execution_end_time": "2020-01-23T10:35:23.396699Z",
     "history": [
      {
       "current": "28211274-2ca4-11ea-9eae-0242ac120004",
       "next": "5725f26a-27d6-11ea-874f-0242ac120004",
       "previous": "4b43701a-27d8-11ea-874f-0242ac120004"
      }
     ],
     "next": "9e8cfb76-27d6-11ea-874f-0242ac120004",
     "previous": "4b43701a-27d8-11ea-874f-0242ac120004"
    },
    "lc_wrapper": {
     "log_history": [
      "/home/user5/notebooks/seminar-lc4ri/AWS/.log/20200101/20200101-143713-0223.log",
      "/home/user5/notebooks/seminar-lc4ri/AWS/.log/20200108/20200108-110154-0569.log",
      "/home/user5/notebooks/seminar-lc4ri/AWS/.log/20200123/20200123-103521-0514.log"
     ]
    }
   },
   "outputs": [
    {
     "name": "stdout",
     "output_type": "stream",
     "text": [
      "service/wordpress created\r\n"
     ]
    }
   ],
   "source": [
    "!kubectl apply -f yaml/wordpress-service.yaml"
   ]
  },
  {
   "cell_type": "code",
   "execution_count": 115,
   "metadata": {
    "lc_cell_meme": {
     "current": "9e8cfb76-27d6-11ea-874f-0242ac120004",
     "execution_end_time": "2020-01-23T11:48:41.982112Z",
     "history": [
      {
       "current": "9e8cfb76-27d6-11ea-874f-0242ac120004",
       "next": "9e8cfc8e-27d6-11ea-874f-0242ac120004",
       "previous": "9e8cf950-27d6-11ea-874f-0242ac120004"
      }
     ],
     "next": "9e8cfd74-27d6-11ea-874f-0242ac120004",
     "previous": "28211274-2ca4-11ea-9eae-0242ac120004"
    },
    "lc_wrapper": {
     "log_history": [
      "/home/user5/notebooks/seminar-lc4ri/AWS/.log/20191226/20191226-115454-0700.log",
      "/home/user5/notebooks/seminar-lc4ri/AWS/.log/20200101/20200101-144947-0651.log",
      "/home/user5/notebooks/seminar-lc4ri/AWS/.log/20200108/20200108-110204-0188.log",
      "/home/user5/notebooks/seminar-lc4ri/AWS/.log/20200123/20200123-103549-0746.log",
      "/home/user5/notebooks/seminar-lc4ri/AWS/.log/20200123/20200123-114600-0961.log",
      "/home/user5/notebooks/seminar-lc4ri/AWS/.log/20200123/20200123-114827-0495.log",
      "/home/user5/notebooks/seminar-lc4ri/AWS/.log/20200123/20200123-114839-0838.log"
     ]
    }
   },
   "outputs": [
    {
     "name": "stdout",
     "output_type": "stream",
     "text": [
      "ingress.extensions/wordpress-ingress created\r\n"
     ]
    }
   ],
   "source": [
    "!kubectl apply -f yaml/wordpress-ingress.yaml"
   ]
  },
  {
   "cell_type": "code",
   "execution_count": 124,
   "metadata": {
    "lc_cell_meme": {
     "current": "9e8cfd74-27d6-11ea-874f-0242ac120004",
     "execution_end_time": "2020-01-23T12:07:06.488587Z",
     "history": [
      {
       "current": "9e8cfd74-27d6-11ea-874f-0242ac120004",
       "next": null,
       "previous": "9e8cfc8e-27d6-11ea-874f-0242ac120004"
      },
      {
       "current": "9e8cfd74-27d6-11ea-874f-0242ac120004",
       "next": "bcb1789c-27d7-11ea-874f-0242ac120004",
       "previous": "9e8cfc8e-27d6-11ea-874f-0242ac120004"
      },
      {
       "current": "9e8cfd74-27d6-11ea-874f-0242ac120004",
       "next": "1cecfe02-2ca6-11ea-9eae-0242ac120004",
       "previous": "9e8cfc8e-27d6-11ea-874f-0242ac120004"
      },
      {
       "current": "9e8cfd74-27d6-11ea-874f-0242ac120004",
       "next": "595f673a-3dcc-11ea-bfd5-0242ac120005",
       "previous": "9e8cfb76-27d6-11ea-874f-0242ac120004"
      },
      {
       "current": "9e8cfd74-27d6-11ea-874f-0242ac120004",
       "next": "a0ae263a-3dcc-11ea-bfd5-0242ac120005",
       "previous": "9e8cfb76-27d6-11ea-874f-0242ac120004"
      }
     ],
     "next": "595f673a-3dcc-11ea-bfd5-0242ac120005",
     "previous": "9e8cfb76-27d6-11ea-874f-0242ac120004"
    },
    "lc_wrapper": {
     "log_history": [
      "/home/user5/notebooks/seminar-lc4ri/AWS/.log/20191226/20191226-120254-0496.log",
      "/home/user5/notebooks/seminar-lc4ri/AWS/.log/20200101/20200101-144958-0959.log",
      "/home/user5/notebooks/seminar-lc4ri/AWS/.log/20200108/20200108-110212-0368.log",
      "/home/user5/notebooks/seminar-lc4ri/AWS/.log/20200123/20200123-103603-0193.log",
      "/home/user5/notebooks/seminar-lc4ri/AWS/.log/20200123/20200123-103629-0248.log",
      "/home/user5/notebooks/seminar-lc4ri/AWS/.log/20200123/20200123-103642-0770.log",
      "/home/user5/notebooks/seminar-lc4ri/AWS/.log/20200123/20200123-103830-0360.log",
      "/home/user5/notebooks/seminar-lc4ri/AWS/.log/20200123/20200123-103936-0625.log",
      "/home/user5/notebooks/seminar-lc4ri/AWS/.log/20200123/20200123-104312-0107.log",
      "/home/user5/notebooks/seminar-lc4ri/AWS/.log/20200123/20200123-104319-0181.log",
      "/home/user5/notebooks/seminar-lc4ri/AWS/.log/20200123/20200123-104629-0016.log",
      "/home/user5/notebooks/seminar-lc4ri/AWS/.log/20200123/20200123-104645-0214.log",
      "/home/user5/notebooks/seminar-lc4ri/AWS/.log/20200123/20200123-104802-0692.log",
      "/home/user5/notebooks/seminar-lc4ri/AWS/.log/20200123/20200123-104959-0625.log",
      "/home/user5/notebooks/seminar-lc4ri/AWS/.log/20200123/20200123-105438-0143.log",
      "/home/user5/notebooks/seminar-lc4ri/AWS/.log/20200123/20200123-105454-0239.log",
      "/home/user5/notebooks/seminar-lc4ri/AWS/.log/20200123/20200123-105502-0870.log",
      "/home/user5/notebooks/seminar-lc4ri/AWS/.log/20200123/20200123-105658-0300.log",
      "/home/user5/notebooks/seminar-lc4ri/AWS/.log/20200123/20200123-105728-0336.log",
      "/home/user5/notebooks/seminar-lc4ri/AWS/.log/20200123/20200123-110154-0956.log",
      "/home/user5/notebooks/seminar-lc4ri/AWS/.log/20200123/20200123-112335-0465.log",
      "/home/user5/notebooks/seminar-lc4ri/AWS/.log/20200123/20200123-115401-0366.log",
      "/home/user5/notebooks/seminar-lc4ri/AWS/.log/20200123/20200123-120704-0721.log"
     ]
    },
    "scrolled": false
   },
   "outputs": [
    {
     "name": "stdout",
     "output_type": "stream",
     "text": [
      "NAME                               READY   STATUS    RESTARTS   AGE\r\n",
      "efs-provisioner-79db86f4c4-hnnc9   1/1     Running   0          107m\r\n",
      "wordpress-75b8c95b57-gqjcf         1/1     Running   0          15s\r\n",
      "wordpress-75b8c95b57-pw589         1/1     Running   0          15s\r\n"
     ]
    }
   ],
   "source": [
    "!kubectl get pod"
   ]
  },
  {
   "cell_type": "code",
   "execution_count": 118,
   "metadata": {
    "lc_cell_meme": {
     "current": "595f673a-3dcc-11ea-bfd5-0242ac120005",
     "execution_end_time": "2020-01-23T11:54:10.610073Z",
     "history": [
      {
       "current": "595f673a-3dcc-11ea-bfd5-0242ac120005",
       "next": "1cecfe02-2ca6-11ea-9eae-0242ac120004",
       "previous": "9e8cfd74-27d6-11ea-874f-0242ac120004"
      },
      {
       "current": "595f673a-3dcc-11ea-bfd5-0242ac120005",
       "next": "1cecfe02-2ca6-11ea-9eae-0242ac120004",
       "previous": "a0ae2838-3dcc-11ea-bfd5-0242ac120005"
      },
      {
       "current": "595f673a-3dcc-11ea-bfd5-0242ac120005",
       "next": "1cecfe02-2ca6-11ea-9eae-0242ac120004",
       "previous": "e82ff8d0-3dcc-11ea-bfd5-0242ac120005"
      }
     ],
     "next": "1cecfe02-2ca6-11ea-9eae-0242ac120004",
     "previous": "9e8cfd74-27d6-11ea-874f-0242ac120004"
    },
    "lc_wrapper": {
     "log_history": [
      "/home/user5/notebooks/seminar-lc4ri/AWS/.log/20200123/20200123-103617-0459.log",
      "/home/user5/notebooks/seminar-lc4ri/AWS/.log/20200123/20200123-105710-0572.log",
      "/home/user5/notebooks/seminar-lc4ri/AWS/.log/20200123/20200123-115408-0827.log"
     ]
    }
   },
   "outputs": [
    {
     "name": "stdout",
     "output_type": "stream",
     "text": [
      "NAME         TYPE           CLUSTER-IP      EXTERNAL-IP                                                               PORT(S)        AGE\r\n",
      "kubernetes   ClusterIP      172.20.0.1      <none>                                                                    443/TCP        4h18m\r\n",
      "wordpress    LoadBalancer   172.20.217.50   a0f9cf6c83dcc11ea807d0a1341f0a26-1697632697.us-west-2.elb.amazonaws.com   80:31971/TCP   78m\r\n"
     ]
    }
   ],
   "source": [
    "!kubectl get service"
   ]
  },
  {
   "cell_type": "code",
   "execution_count": 119,
   "metadata": {
    "lc_cell_meme": {
     "current": "1cecfe02-2ca6-11ea-9eae-0242ac120004",
     "execution_end_time": "2020-01-23T11:54:24.732762Z",
     "history": [
      {
       "current": "1cecfe02-2ca6-11ea-9eae-0242ac120004",
       "next": "4b437240-27d8-11ea-874f-0242ac120004",
       "previous": "9e8cfd74-27d6-11ea-874f-0242ac120004"
      }
     ],
     "next": "4b437240-27d8-11ea-874f-0242ac120004",
     "previous": "595f673a-3dcc-11ea-bfd5-0242ac120005"
    },
    "lc_wrapper": {
     "log_history": [
      "/home/user5/notebooks/seminar-lc4ri/AWS/.log/20200101/20200101-145037-0335.log",
      "/home/user5/notebooks/seminar-lc4ri/AWS/.log/20200108/20200108-110219-0406.log",
      "/home/user5/notebooks/seminar-lc4ri/AWS/.log/20200123/20200123-105715-0200.log",
      "/home/user5/notebooks/seminar-lc4ri/AWS/.log/20200123/20200123-114608-0200.log",
      "/home/user5/notebooks/seminar-lc4ri/AWS/.log/20200123/20200123-114748-0482.log",
      "/home/user5/notebooks/seminar-lc4ri/AWS/.log/20200123/20200123-114846-0690.log",
      "/home/user5/notebooks/seminar-lc4ri/AWS/.log/20200123/20200123-115422-0950.log"
     ]
    }
   },
   "outputs": [
    {
     "name": "stdout",
     "output_type": "stream",
     "text": [
      "NAME                HOSTS   ADDRESS                                                                  PORTS   AGE\r\n",
      "wordpress-ingress   *       13cebeb3-default-wordpress-9484-1187941809.us-west-2.elb.amazonaws.com   80      5m43s\r\n"
     ]
    }
   ],
   "source": [
    "!kubectl get ingress"
   ]
  },
  {
   "attachments": {
    "image.png": {
     "image/png": "[encoded data removed]"
    }
   },
   "cell_type": "markdown",
   "metadata": {
    "lc_cell_meme": {
     "current": "4b437240-27d8-11ea-874f-0242ac120004",
     "history": [
      {
       "current": "4b437240-27d8-11ea-874f-0242ac120004",
       "next": null,
       "previous": "4b437150-27d8-11ea-874f-0242ac120004"
      },
      {
       "current": "4b437240-27d8-11ea-874f-0242ac120004",
       "next": "da6cf0ea-27d8-11ea-874f-0242ac120004",
       "previous": "4b437150-27d8-11ea-874f-0242ac120004"
      },
      {
       "current": "4b437240-27d8-11ea-874f-0242ac120004",
       "next": "69d889ec-27d9-11ea-874f-0242ac120004",
       "previous": "4b437150-27d8-11ea-874f-0242ac120004"
      },
      {
       "current": "4b437240-27d8-11ea-874f-0242ac120004",
       "next": null,
       "previous": "1cecfe02-2ca6-11ea-9eae-0242ac120004"
      },
      {
       "current": "4b437240-27d8-11ea-874f-0242ac120004",
       "next": "58f6674c-2ca8-11ea-9eae-0242ac120004",
       "previous": "1cecfe02-2ca6-11ea-9eae-0242ac120004"
      },
      {
       "current": "4b437240-27d8-11ea-874f-0242ac120004",
       "next": "a3ec104e-3207-11ea-9983-0242ac120004",
       "previous": "1cecfe02-2ca6-11ea-9eae-0242ac120004"
      },
      {
       "current": "4b437240-27d8-11ea-874f-0242ac120004",
       "next": "a3ec1346-3207-11ea-9983-0242ac120004",
       "previous": "1cecfe02-2ca6-11ea-9eae-0242ac120004"
      }
     ],
     "next": "d18e5d8e-3dd0-11ea-bfd5-0242ac120005",
     "previous": "1cecfe02-2ca6-11ea-9eae-0242ac120004"
    }
   },
   "source": [
    "アクセスはできた\n",
    "![image.png](attachment:image.png)"
   ]
  },
  {
   "cell_type": "markdown",
   "metadata": {
    "lc_cell_meme": {
     "current": "d18e5d8e-3dd0-11ea-bfd5-0242ac120005",
     "execution_end_time": "2020-01-23T11:07:59.658616Z",
     "next": "d18e5fb4-3dd0-11ea-bfd5-0242ac120005",
     "previous": "4b437240-27d8-11ea-874f-0242ac120004"
    },
    "lc_wrapper": {
     "log_history": [
      "/home/user5/notebooks/seminar-lc4ri/AWS/.log/20200123/20200123-110759-0650.log"
     ]
    }
   },
   "source": [
    "ファイルを配置できることを確認。"
   ]
  },
  {
   "cell_type": "code",
   "execution_count": 92,
   "metadata": {
    "lc_cell_meme": {
     "current": "d18e5fb4-3dd0-11ea-bfd5-0242ac120005",
     "execution_end_time": "2020-01-23T11:23:51.102243Z",
     "next": "d18e609a-3dd0-11ea-bfd5-0242ac120005",
     "previous": "d18e5d8e-3dd0-11ea-bfd5-0242ac120005"
    },
    "lc_wrapper": {
     "log_history": [
      "/home/user5/notebooks/seminar-lc4ri/AWS/.log/20200123/20200123-110821-0962.log",
      "/home/user5/notebooks/seminar-lc4ri/AWS/.log/20200123/20200123-112349-0323.log"
     ]
    }
   },
   "outputs": [
    {
     "name": "stdout",
     "output_type": "stream",
     "text": [
      "NAME                               READY   STATUS    RESTARTS   AGE\r\n",
      "efs-provisioner-79db86f4c4-hnnc9   1/1     Running   0          64m\r\n",
      "wordpress-75b8c95b57-494fq         1/1     Running   0          19s\r\n",
      "wordpress-75b8c95b57-g6zrn         1/1     Running   0          20s\r\n"
     ]
    }
   ],
   "source": [
    "!kubectl get pod"
   ]
  },
  {
   "cell_type": "code",
   "execution_count": 103,
   "metadata": {
    "lc_cell_meme": {
     "current": "d18e609a-3dd0-11ea-bfd5-0242ac120005",
     "execution_end_time": "2020-01-23T11:29:08.025523Z",
     "history": [
      {
       "current": "d18e609a-3dd0-11ea-bfd5-0242ac120005",
       "next": "a3ec1346-3207-11ea-9983-0242ac120004",
       "previous": "d18e5fb4-3dd0-11ea-bfd5-0242ac120005"
      },
      {
       "current": "d18e609a-3dd0-11ea-bfd5-0242ac120005",
       "next": "7eb90828-3dd2-11ea-bfd5-0242ac120005",
       "previous": "d18e5fb4-3dd0-11ea-bfd5-0242ac120005"
      }
     ],
     "next": "e4595fc4-3dd3-11ea-bfd5-0242ac120005",
     "previous": "d18e5fb4-3dd0-11ea-bfd5-0242ac120005"
    },
    "lc_wrapper": {
     "log_history": [
      "/home/user5/notebooks/seminar-lc4ri/AWS/.log/20200123/20200123-110913-0037.log",
      "/home/user5/notebooks/seminar-lc4ri/AWS/.log/20200123/20200123-110940-0916.log",
      "/home/user5/notebooks/seminar-lc4ri/AWS/.log/20200123/20200123-111006-0523.log",
      "/home/user5/notebooks/seminar-lc4ri/AWS/.log/20200123/20200123-111020-0133.log",
      "/home/user5/notebooks/seminar-lc4ri/AWS/.log/20200123/20200123-111029-0255.log",
      "/home/user5/notebooks/seminar-lc4ri/AWS/.log/20200123/20200123-111920-0353.log",
      "/home/user5/notebooks/seminar-lc4ri/AWS/.log/20200123/20200123-112015-0029.log",
      "/home/user5/notebooks/seminar-lc4ri/AWS/.log/20200123/20200123-112401-0208.log",
      "/home/user5/notebooks/seminar-lc4ri/AWS/.log/20200123/20200123-112418-0923.log",
      "/home/user5/notebooks/seminar-lc4ri/AWS/.log/20200123/20200123-112453-0168.log",
      "/home/user5/notebooks/seminar-lc4ri/AWS/.log/20200123/20200123-112513-0385.log",
      "/home/user5/notebooks/seminar-lc4ri/AWS/.log/20200123/20200123-112526-0788.log",
      "/home/user5/notebooks/seminar-lc4ri/AWS/.log/20200123/20200123-112547-0167.log",
      "/home/user5/notebooks/seminar-lc4ri/AWS/.log/20200123/20200123-112607-0204.log",
      "/home/user5/notebooks/seminar-lc4ri/AWS/.log/20200123/20200123-112611-0171.log",
      "/home/user5/notebooks/seminar-lc4ri/AWS/.log/20200123/20200123-112615-0891.log",
      "/home/user5/notebooks/seminar-lc4ri/AWS/.log/20200123/20200123-112720-0738.log",
      "/home/user5/notebooks/seminar-lc4ri/AWS/.log/20200123/20200123-112905-0782.log"
     ]
    }
   },
   "outputs": [
    {
     "name": "stdout",
     "output_type": "stream",
     "text": [
      "uid=0(root) gid=0(root) groups=0(root),2000\r\n"
     ]
    }
   ],
   "source": [
    "!kubectl exec -it wordpress-75b8c95b57-494fq id"
   ]
  },
  {
   "cell_type": "code",
   "execution_count": 104,
   "metadata": {
    "lc_cell_meme": {
     "current": "e4595fc4-3dd3-11ea-bfd5-0242ac120005",
     "execution_end_time": "2020-01-23T11:31:11.886728Z",
     "next": "e4596190-3dd3-11ea-bfd5-0242ac120005",
     "previous": "d18e609a-3dd0-11ea-bfd5-0242ac120005"
    },
    "lc_wrapper": {
     "log_history": [
      "/home/user5/notebooks/seminar-lc4ri/AWS/.log/20200123/20200123-113109-0890.log"
     ]
    }
   },
   "outputs": [],
   "source": [
    "!kubectl exec -it wordpress-75b8c95b57-494fq touch /var/www/html/wp-content/uploads/test.txt"
   ]
  },
  {
   "cell_type": "code",
   "execution_count": 105,
   "metadata": {
    "lc_cell_meme": {
     "current": "e4596190-3dd3-11ea-bfd5-0242ac120005",
     "execution_end_time": "2020-01-23T11:31:27.706737Z",
     "history": [
      {
       "current": "e4596190-3dd3-11ea-bfd5-0242ac120005",
       "next": "7eb90828-3dd2-11ea-bfd5-0242ac120005",
       "previous": "e4595fc4-3dd3-11ea-bfd5-0242ac120005"
      }
     ],
     "next": "2bfdebba-3dd4-11ea-bfd5-0242ac120005",
     "previous": "e4595fc4-3dd3-11ea-bfd5-0242ac120005"
    },
    "lc_wrapper": {
     "log_history": [
      "/home/user5/notebooks/seminar-lc4ri/AWS/.log/20200123/20200123-113125-0712.log"
     ]
    }
   },
   "outputs": [],
   "source": [
    "!kubectl exec -it wordpress-75b8c95b57-494fq touch /var/www/html/wp-content/uploads/test2.txt"
   ]
  },
  {
   "cell_type": "code",
   "execution_count": 107,
   "metadata": {
    "lc_cell_meme": {
     "current": "2bfdebba-3dd4-11ea-bfd5-0242ac120005",
     "execution_end_time": "2020-01-23T11:32:12.551753Z",
     "next": "7eb90828-3dd2-11ea-bfd5-0242ac120005",
     "previous": "e4596190-3dd3-11ea-bfd5-0242ac120005"
    },
    "lc_wrapper": {
     "log_history": [
      "/home/user5/notebooks/seminar-lc4ri/AWS/.log/20200123/20200123-113151-0097.log",
      "/home/user5/notebooks/seminar-lc4ri/AWS/.log/20200123/20200123-113211-0584.log"
     ]
    }
   },
   "outputs": [
    {
     "name": "stdout",
     "output_type": "stream",
     "text": [
      "/bin/sh: 1: cannot create /var/www/html/wp-content/uploads/test3.txt: Directory nonexistent\r\n"
     ]
    },
    {
     "ename": "RuntimeError",
     "evalue": "Unexpected exit code: 2",
     "output_type": "error",
     "traceback": [
      "\u001b[0;31m---------------------------------------------------------------------------\u001b[0m",
      "\u001b[0;31mRuntimeError\u001b[0m                              Traceback (most recent call last)",
      "\u001b[0;32m<ipython-input-107-341c1012bed8>\u001b[0m in \u001b[0;36m<module>\u001b[0;34m\u001b[0m\n\u001b[0;32m----> 1\u001b[0;31m \u001b[0mget_ipython\u001b[0m\u001b[0;34m(\u001b[0m\u001b[0;34m)\u001b[0m\u001b[0;34m.\u001b[0m\u001b[0msystem\u001b[0m\u001b[0;34m(\u001b[0m\u001b[0;34m'kubectl exec -it wordpress-75b8c95b57-494fq -- echo \"test\" >> /var/www/html/wp-content/uploads/test3.txt'\u001b[0m\u001b[0;34m)\u001b[0m\u001b[0;34m\u001b[0m\u001b[0;34m\u001b[0m\u001b[0m\n\u001b[0m",
      "\u001b[0;32m/opt/conda/etc/ipython/startup/10-custom-get_ipython_system.py\u001b[0m in \u001b[0;36m<lambda>\u001b[0;34m(x)\u001b[0m\n\u001b[1;32m      5\u001b[0m \u001b[0;34m\u001b[0m\u001b[0m\n\u001b[1;32m      6\u001b[0m \u001b[0msave_get_ipython_system\u001b[0m \u001b[0;34m=\u001b[0m \u001b[0mget_ipython\u001b[0m\u001b[0;34m(\u001b[0m\u001b[0;34m)\u001b[0m\u001b[0;34m.\u001b[0m\u001b[0msystem\u001b[0m\u001b[0;34m\u001b[0m\u001b[0;34m\u001b[0m\u001b[0m\n\u001b[0;32m----> 7\u001b[0;31m \u001b[0mget_ipython\u001b[0m\u001b[0;34m(\u001b[0m\u001b[0;34m)\u001b[0m\u001b[0;34m.\u001b[0m\u001b[0msystem\u001b[0m \u001b[0;34m=\u001b[0m \u001b[0;32mlambda\u001b[0m \u001b[0mx\u001b[0m\u001b[0;34m:\u001b[0m \u001b[0mget_ipython_system\u001b[0m\u001b[0;34m(\u001b[0m\u001b[0mx\u001b[0m\u001b[0;34m)\u001b[0m\u001b[0;34m\u001b[0m\u001b[0;34m\u001b[0m\u001b[0m\n\u001b[0m\u001b[1;32m      8\u001b[0m \u001b[0;34m\u001b[0m\u001b[0m\n\u001b[1;32m      9\u001b[0m \u001b[0;31m# interactiveshell.py's system_piped() function comment saids:\u001b[0m\u001b[0;34m\u001b[0m\u001b[0;34m\u001b[0m\u001b[0;34m\u001b[0m\u001b[0m\n",
      "\u001b[0;32m/opt/conda/etc/ipython/startup/10-custom-get_ipython_system.py\u001b[0m in \u001b[0;36mget_ipython_system\u001b[0;34m(_cmd)\u001b[0m\n\u001b[1;32m     13\u001b[0m     \u001b[0msave_get_ipython_system\u001b[0m\u001b[0;34m(\u001b[0m\u001b[0m_cmd\u001b[0m\u001b[0;34m)\u001b[0m\u001b[0;34m\u001b[0m\u001b[0;34m\u001b[0m\u001b[0m\n\u001b[1;32m     14\u001b[0m     \u001b[0;32mif\u001b[0m \u001b[0mget_ipython\u001b[0m\u001b[0;34m(\u001b[0m\u001b[0;34m)\u001b[0m\u001b[0;34m.\u001b[0m\u001b[0muser_ns\u001b[0m\u001b[0;34m[\u001b[0m\u001b[0;34m'_exit_code'\u001b[0m\u001b[0;34m]\u001b[0m \u001b[0;34m!=\u001b[0m \u001b[0;36m0\u001b[0m\u001b[0;34m:\u001b[0m\u001b[0;34m\u001b[0m\u001b[0;34m\u001b[0m\u001b[0m\n\u001b[0;32m---> 15\u001b[0;31m         \u001b[0;32mraise\u001b[0m \u001b[0mRuntimeError\u001b[0m\u001b[0;34m(\u001b[0m\u001b[0;34m'Unexpected exit code: %d'\u001b[0m \u001b[0;34m%\u001b[0m \u001b[0mget_ipython\u001b[0m\u001b[0;34m(\u001b[0m\u001b[0;34m)\u001b[0m\u001b[0;34m.\u001b[0m\u001b[0muser_ns\u001b[0m\u001b[0;34m[\u001b[0m\u001b[0;34m'_exit_code'\u001b[0m\u001b[0;34m]\u001b[0m\u001b[0;34m)\u001b[0m\u001b[0;34m\u001b[0m\u001b[0;34m\u001b[0m\u001b[0m\n\u001b[0m",
      "\u001b[0;31mRuntimeError\u001b[0m: Unexpected exit code: 2"
     ]
    }
   ],
   "source": [
    "!kubectl exec -it wordpress-75b8c95b57-494fq echo \"test\" >> /var/www/html/wp-content/uploads/test3.txt"
   ]
  },
  {
   "cell_type": "code",
   "execution_count": 87,
   "metadata": {
    "lc_cell_meme": {
     "current": "7eb90828-3dd2-11ea-bfd5-0242ac120005",
     "execution_end_time": "2020-01-23T11:20:39.650101Z",
     "history": [
      {
       "current": "7eb90828-3dd2-11ea-bfd5-0242ac120005",
       "next": "7eb90d96-3dd2-11ea-bfd5-0242ac120005",
       "previous": "d18e609a-3dd0-11ea-bfd5-0242ac120005"
      },
      {
       "current": "7eb90828-3dd2-11ea-bfd5-0242ac120005",
       "next": "7eb90d96-3dd2-11ea-bfd5-0242ac120005",
       "previous": "e4596190-3dd3-11ea-bfd5-0242ac120005"
      }
     ],
     "next": "7eb90d96-3dd2-11ea-bfd5-0242ac120005",
     "previous": "2bfdebba-3dd4-11ea-bfd5-0242ac120005"
    },
    "lc_wrapper": {
     "log_history": [
      "/home/user5/notebooks/seminar-lc4ri/AWS/.log/20200123/20200123-112037-0379.log"
     ]
    }
   },
   "outputs": [
    {
     "name": "stdout",
     "output_type": "stream",
     "text": [
      "Name:          efs\r\n",
      "Namespace:     default\r\n",
      "StorageClass:  aws-efs\r\n",
      "Status:        Bound\r\n",
      "Volume:        pvc-fdb54b2e-3dce-11ea-8fb1-06ca8af009de\r\n",
      "Labels:        <none>\r\n",
      "Annotations:   kubectl.kubernetes.io/last-applied-configuration:\r\n",
      "                 {\"apiVersion\":\"v1\",\"kind\":\"PersistentVolumeClaim\",\"metadata\":{\"annotations\":{\"volume.beta.kubernetes.io/storage-class\":\"aws-efs\"},\"name\":\"...\r\n",
      "               pv.kubernetes.io/bind-completed: yes\r\n",
      "               pv.kubernetes.io/bound-by-controller: yes\r\n",
      "               volume.beta.kubernetes.io/storage-class: aws-efs\r\n",
      "               volume.beta.kubernetes.io/storage-provisioner: example.com/aws-efs\r\n",
      "Finalizers:    [kubernetes.io/pvc-protection]\r\n",
      "Capacity:      1Mi\r\n",
      "Access Modes:  RWX\r\n",
      "VolumeMode:    Filesystem\r\n",
      "Events:\r\n",
      "  Type       Reason                 Age   From                                                                                       Message\r\n",
      "  ----       ------                 ----  ----                                                                                       -------\r\n",
      "  Normal     ExternalProvisioning   24m   persistentvolume-controller                                                                waiting for a volume to be created, either by external provisioner \"example.com/aws-efs\" or manually created by system administrator\r\n",
      "  Normal     Provisioning           24m   example.com/aws-efs_efs-provisioner-79db86f4c4-hnnc9_5e0420b3-3e50-4640-94e9-4ae81a0ea6ad  External provisioner is provisioning volume for claim \"default/efs\"\r\n",
      "  Normal     ProvisioningSucceeded  24m   example.com/aws-efs_efs-provisioner-79db86f4c4-hnnc9_5e0420b3-3e50-4640-94e9-4ae81a0ea6ad  Successfully provisioned volume pvc-fdb54b2e-3dce-11ea-8fb1-06ca8af009de\r\n",
      "Mounted By:  wordpress-7c97d9c456-sr6z4\r\n",
      "             wordpress-7c97d9c456-tdjpf\r\n"
     ]
    }
   ],
   "source": [
    "!kubectl describe pvc "
   ]
  },
  {
   "cell_type": "code",
   "execution_count": 88,
   "metadata": {
    "lc_cell_meme": {
     "current": "7eb90d96-3dd2-11ea-bfd5-0242ac120005",
     "execution_end_time": "2020-01-23T11:21:40.348428Z",
     "history": [
      {
       "current": "7eb90d96-3dd2-11ea-bfd5-0242ac120005",
       "next": "a3ec1346-3207-11ea-9983-0242ac120004",
       "previous": "7eb90828-3dd2-11ea-bfd5-0242ac120005"
      }
     ],
     "next": "02740ce2-3dd5-11ea-bfd5-0242ac120005",
     "previous": "7eb90828-3dd2-11ea-bfd5-0242ac120005"
    },
    "lc_wrapper": {
     "log_history": [
      "/home/user5/notebooks/seminar-lc4ri/AWS/.log/20200123/20200123-112138-0531.log"
     ]
    }
   },
   "outputs": [
    {
     "name": "stdout",
     "output_type": "stream",
     "text": [
      "Name:               wordpress-7c97d9c456-sr6z4\r\n",
      "Namespace:          default\r\n",
      "Priority:           0\r\n",
      "PriorityClassName:  <none>\r\n",
      "Node:               ip-10-0-31-122.us-west-2.compute.internal/10.0.31.122\r\n",
      "Start Time:         Thu, 23 Jan 2020 11:01:51 +0000\r\n",
      "Labels:             app=wordpress\r\n",
      "                    pod-template-hash=7c97d9c456\r\n",
      "Annotations:        kubernetes.io/psp: eks.privileged\r\n",
      "Status:             Running\r\n",
      "IP:                 10.0.18.109\r\n",
      "Controlled By:      ReplicaSet/wordpress-7c97d9c456\r\n",
      "Containers:\r\n",
      "  wordpress:\r\n",
      "    Container ID:   docker://a086a896e7b78b0d660f3bdda90ee5f36ae659cfb765e640c600967b6a8a0d1e\r\n",
      "    Image:          wordpress:4.8-apache\r\n",
      "    Image ID:       docker-pullable://wordpress@sha256:6216f64ab88fc51d311e38c7f69ca3f9aaba621492b4f1fa93ddf63093768845\r\n",
      "    Port:           80/TCP\r\n",
      "    Host Port:      0/TCP\r\n",
      "    State:          Running\r\n",
      "      Started:      Thu, 23 Jan 2020 11:01:52 +0000\r\n",
      "    Ready:          True\r\n",
      "    Restart Count:  0\r\n",
      "    Environment:\r\n",
      "      WORDPRESS_DB_HOST:      rds-topse.ciph33ijhh38.us-west-2.rds.amazonaws.com:3306\r\n",
      "      WORDPRESS_DB_PASSWORD:  password\r\n",
      "    Mounts:\r\n",
      "      /var/run/secrets/kubernetes.io/serviceaccount from default-token-gw7kc (ro)\r\n",
      "      /var/www/html/wp-content/uploads from efs-pvc (rw)\r\n",
      "Conditions:\r\n",
      "  Type              Status\r\n",
      "  Initialized       True \r\n",
      "  Ready             True \r\n",
      "  ContainersReady   True \r\n",
      "  PodScheduled      True \r\n",
      "Volumes:\r\n",
      "  efs-pvc:\r\n",
      "    Type:       PersistentVolumeClaim (a reference to a PersistentVolumeClaim in the same namespace)\r\n",
      "    ClaimName:  efs\r\n",
      "    ReadOnly:   false\r\n",
      "  default-token-gw7kc:\r\n",
      "    Type:        Secret (a volume populated by a Secret)\r\n",
      "    SecretName:  default-token-gw7kc\r\n",
      "    Optional:    false\r\n",
      "QoS Class:       BestEffort\r\n",
      "Node-Selectors:  <none>\r\n",
      "Tolerations:     node.kubernetes.io/not-ready:NoExecute for 300s\r\n",
      "                 node.kubernetes.io/unreachable:NoExecute for 300s\r\n",
      "Events:\r\n",
      "  Type    Reason     Age   From                                                Message\r\n",
      "  ----    ------     ----  ----                                                -------\r\n",
      "  Normal  Scheduled  19m   default-scheduler                                   Successfully assigned default/wordpress-7c97d9c456-sr6z4 to ip-10-0-31-122.us-west-2.compute.internal\r\n",
      "  Normal  Pulled     19m   kubelet, ip-10-0-31-122.us-west-2.compute.internal  Container image \"wordpress:4.8-apache\" already present on machine\r\n",
      "  Normal  Created    19m   kubelet, ip-10-0-31-122.us-west-2.compute.internal  Created container wordpress\r\n",
      "  Normal  Started    19m   kubelet, ip-10-0-31-122.us-west-2.compute.internal  Started container wordpress\r\n"
     ]
    }
   ],
   "source": [
    "!kubectl describe pod wordpress-7c97d9c456-sr6z4"
   ]
  },
  {
   "cell_type": "code",
   "execution_count": 109,
   "metadata": {
    "lc_cell_meme": {
     "current": "02740ce2-3dd5-11ea-bfd5-0242ac120005",
     "execution_end_time": "2020-01-23T11:39:01.790591Z",
     "history": [
      {
       "current": "02740ce2-3dd5-11ea-bfd5-0242ac120005",
       "next": "a3ec1346-3207-11ea-9983-0242ac120004",
       "previous": "7eb90d96-3dd2-11ea-bfd5-0242ac120005"
      }
     ],
     "next": "cdbc2eb4-3dd7-11ea-bfd5-0242ac120005",
     "previous": "7eb90d96-3dd2-11ea-bfd5-0242ac120005"
    },
    "lc_wrapper": {
     "log_history": [
      "/home/user5/notebooks/seminar-lc4ri/AWS/.log/20200123/20200123-113838-0890.log",
      "/home/user5/notebooks/seminar-lc4ri/AWS/.log/20200123/20200123-113859-0938.log"
     ]
    }
   },
   "outputs": [
    {
     "name": "stdout",
     "output_type": "stream",
     "text": [
      "WordPress not found in /var/www/html - copying now...\r\n",
      "WARNING: /var/www/html is not empty - press Ctrl+C now if this is an error!\r\n",
      "+ ls -A\r\n",
      "wp-content\r\n",
      "+ sleep 10\r\n",
      "Complete! WordPress has been successfully copied to /var/www/html\r\n",
      "AH00558: apache2: Could not reliably determine the server's fully qualified domain name, using 10.0.23.39. Set the 'ServerName' directive globally to suppress this message\r\n",
      "AH00558: apache2: Could not reliably determine the server's fully qualified domain name, using 10.0.23.39. Set the 'ServerName' directive globally to suppress this message\r\n",
      "[Thu Jan 23 11:23:44.202089 2020] [mpm_prefork:notice] [pid 1] AH00163: Apache/2.4.10 (Debian) PHP/5.6.32 configured -- resuming normal operations\r\n",
      "[Thu Jan 23 11:23:44.202132 2020] [core:notice] [pid 1] AH00094: Command line: 'apache2 -D FOREGROUND'\r\n",
      "10.0.56.173 - - [23/Jan/2020:11:23:55 +0000] \"GET / HTTP/1.1\" 301 238 \"-\" \"ELB-HealthChecker/2.0\"\r\n",
      "10.0.31.122 - - [23/Jan/2020:11:23:55 +0000] \"GET / HTTP/1.1\" 301 238 \"-\" \"ELB-HealthChecker/2.0\"\r\n",
      "10.0.56.173 - - [23/Jan/2020:11:24:10 +0000] \"GET / HTTP/1.1\" 301 238 \"-\" \"ELB-HealthChecker/2.0\"\r\n",
      "10.0.31.122 - - [23/Jan/2020:11:24:10 +0000] \"GET / HTTP/1.1\" 301 238 \"-\" \"ELB-HealthChecker/2.0\"\r\n",
      "10.0.56.173 - - [23/Jan/2020:11:24:12 +0000] \"GET / HTTP/1.1\" 301 238 \"-\" \"ELB-HealthChecker/2.0\"\r\n",
      "10.0.56.173 - - [23/Jan/2020:11:24:25 +0000] \"GET / HTTP/1.1\" 301 238 \"-\" \"ELB-HealthChecker/2.0\"\r\n",
      "10.0.31.122 - - [23/Jan/2020:11:24:25 +0000] \"GET / HTTP/1.1\" 301 238 \"-\" \"ELB-HealthChecker/2.0\"\r\n",
      "10.0.56.173 - - [23/Jan/2020:11:24:27 +0000] \"GET / HTTP/1.1\" 301 238 \"-\" \"ELB-HealthChecker/2.0\"\r\n",
      "10.0.31.122 - - [23/Jan/2020:11:24:40 +0000] \"GET / HTTP/1.1\" 301 238 \"-\" \"ELB-HealthChecker/2.0\"\r\n",
      "10.0.31.122 - - [23/Jan/2020:11:24:42 +0000] \"GET / HTTP/1.1\" 301 238 \"-\" \"ELB-HealthChecker/2.0\"\r\n",
      "10.0.56.173 - - [23/Jan/2020:11:24:55 +0000] \"GET / HTTP/1.1\" 301 238 \"-\" \"ELB-HealthChecker/2.0\"\r\n",
      "10.0.31.122 - - [23/Jan/2020:11:24:55 +0000] \"GET / HTTP/1.1\" 301 238 \"-\" \"ELB-HealthChecker/2.0\"\r\n",
      "10.0.31.122 - - [23/Jan/2020:11:24:57 +0000] \"GET / HTTP/1.1\" 301 238 \"-\" \"ELB-HealthChecker/2.0\"\r\n",
      "10.0.31.122 - - [23/Jan/2020:11:25:10 +0000] \"GET / HTTP/1.1\" 301 238 \"-\" \"ELB-HealthChecker/2.0\"\r\n",
      "10.0.56.173 - - [23/Jan/2020:11:25:10 +0000] \"GET / HTTP/1.1\" 301 238 \"-\" \"ELB-HealthChecker/2.0\"\r\n",
      "10.0.31.122 - - [23/Jan/2020:11:25:12 +0000] \"GET / HTTP/1.1\" 301 238 \"-\" \"ELB-HealthChecker/2.0\"\r\n",
      "10.0.31.122 - - [23/Jan/2020:11:25:25 +0000] \"GET / HTTP/1.1\" 301 238 \"-\" \"ELB-HealthChecker/2.0\"\r\n",
      "10.0.56.173 - - [23/Jan/2020:11:25:25 +0000] \"GET / HTTP/1.1\" 301 238 \"-\" \"ELB-HealthChecker/2.0\"\r\n",
      "10.0.31.122 - - [23/Jan/2020:11:25:27 +0000] \"GET / HTTP/1.1\" 301 238 \"-\" \"ELB-HealthChecker/2.0\"\r\n",
      "10.0.56.173 - - [23/Jan/2020:11:25:40 +0000] \"GET / HTTP/1.1\" 301 238 \"-\" \"ELB-HealthChecker/2.0\"\r\n",
      "10.0.31.122 - - [23/Jan/2020:11:25:40 +0000] \"GET / HTTP/1.1\" 301 238 \"-\" \"ELB-HealthChecker/2.0\"\r\n",
      "10.0.31.122 - - [23/Jan/2020:11:25:42 +0000] \"GET / HTTP/1.1\" 301 238 \"-\" \"ELB-HealthChecker/2.0\"\r\n",
      "10.0.56.173 - - [23/Jan/2020:11:25:55 +0000] \"GET / HTTP/1.1\" 301 238 \"-\" \"ELB-HealthChecker/2.0\"\r\n",
      "10.0.31.122 - - [23/Jan/2020:11:25:57 +0000] \"GET / HTTP/1.1\" 301 238 \"-\" \"ELB-HealthChecker/2.0\"\r\n",
      "10.0.56.173 - - [23/Jan/2020:11:26:10 +0000] \"GET / HTTP/1.1\" 301 238 \"-\" \"ELB-HealthChecker/2.0\"\r\n",
      "10.0.31.122 - - [23/Jan/2020:11:26:13 +0000] \"GET / HTTP/1.1\" 301 238 \"-\" \"ELB-HealthChecker/2.0\"\r\n",
      "10.0.31.122 - - [23/Jan/2020:11:26:25 +0000] \"GET / HTTP/1.1\" 301 238 \"-\" \"ELB-HealthChecker/2.0\"\r\n",
      "10.0.31.122 - - [23/Jan/2020:11:26:28 +0000] \"GET / HTTP/1.1\" 301 238 \"-\" \"ELB-HealthChecker/2.0\"\r\n",
      "10.0.31.122 - - [23/Jan/2020:11:26:40 +0000] \"GET / HTTP/1.1\" 301 238 \"-\" \"ELB-HealthChecker/2.0\"\r\n",
      "10.0.56.173 - - [23/Jan/2020:11:26:40 +0000] \"GET / HTTP/1.1\" 301 238 \"-\" \"ELB-HealthChecker/2.0\"\r\n",
      "10.0.31.122 - - [23/Jan/2020:11:26:55 +0000] \"GET / HTTP/1.1\" 301 238 \"-\" \"ELB-HealthChecker/2.0\"\r\n",
      "10.0.56.173 - - [23/Jan/2020:11:26:55 +0000] \"GET / HTTP/1.1\" 301 238 \"-\" \"ELB-HealthChecker/2.0\"\r\n",
      "10.0.31.122 - - [23/Jan/2020:11:26:58 +0000] \"GET / HTTP/1.1\" 301 238 \"-\" \"ELB-HealthChecker/2.0\"\r\n",
      "10.0.56.173 - - [23/Jan/2020:11:26:58 +0000] \"GET / HTTP/1.1\" 301 238 \"-\" \"ELB-HealthChecker/2.0\"\r\n",
      "10.0.56.173 - - [23/Jan/2020:11:27:10 +0000] \"GET / HTTP/1.1\" 301 238 \"-\" \"ELB-HealthChecker/2.0\"\r\n",
      "10.0.56.173 - - [23/Jan/2020:11:27:13 +0000] \"GET / HTTP/1.1\" 301 238 \"-\" \"ELB-HealthChecker/2.0\"\r\n",
      "10.0.56.173 - - [23/Jan/2020:11:27:25 +0000] \"GET / HTTP/1.1\" 301 238 \"-\" \"ELB-HealthChecker/2.0\"\r\n",
      "10.0.31.122 - - [23/Jan/2020:11:27:28 +0000] \"GET / HTTP/1.1\" 301 238 \"-\" \"ELB-HealthChecker/2.0\"\r\n",
      "10.0.56.173 - - [23/Jan/2020:11:27:40 +0000] \"GET / HTTP/1.1\" 301 238 \"-\" \"ELB-HealthChecker/2.0\"\r\n",
      "10.0.31.122 - - [23/Jan/2020:11:27:40 +0000] \"GET / HTTP/1.1\" 301 238 \"-\" \"ELB-HealthChecker/2.0\"\r\n",
      "10.0.56.173 - - [23/Jan/2020:11:27:55 +0000] \"GET / HTTP/1.1\" 301 238 \"-\" \"ELB-HealthChecker/2.0\"\r\n",
      "10.0.31.122 - - [23/Jan/2020:11:27:55 +0000] \"GET / HTTP/1.1\" 301 238 \"-\" \"ELB-HealthChecker/2.0\"\r\n",
      "10.0.56.173 - - [23/Jan/2020:11:27:58 +0000] \"GET / HTTP/1.1\" 301 238 \"-\" \"ELB-HealthChecker/2.0\"\r\n",
      "10.0.56.173 - - [23/Jan/2020:11:28:25 +0000] \"GET / HTTP/1.1\" 301 238 \"-\" \"ELB-HealthChecker/2.0\"\r\n",
      "10.0.31.122 - - [23/Jan/2020:11:28:28 +0000] \"GET / HTTP/1.1\" 301 238 \"-\" \"ELB-HealthChecker/2.0\"\r\n",
      "10.0.31.122 - - [23/Jan/2020:11:28:43 +0000] \"GET / HTTP/1.1\" 301 238 \"-\" \"ELB-HealthChecker/2.0\"\r\n",
      "10.0.56.173 - - [23/Jan/2020:11:28:58 +0000] \"GET / HTTP/1.1\" 301 238 \"-\" \"ELB-HealthChecker/2.0\"\r\n",
      "10.0.31.122 - - [23/Jan/2020:11:29:11 +0000] \"GET / HTTP/1.1\" 301 238 \"-\" \"ELB-HealthChecker/2.0\"\r\n",
      "10.0.31.122 - - [23/Jan/2020:11:29:13 +0000] \"GET / HTTP/1.1\" 301 238 \"-\" \"ELB-HealthChecker/2.0\"\r\n",
      "10.0.56.173 - - [23/Jan/2020:11:29:26 +0000] \"GET / HTTP/1.1\" 301 238 \"-\" \"ELB-HealthChecker/2.0\"\r\n",
      "10.0.31.122 - - [23/Jan/2020:11:29:28 +0000] \"GET / HTTP/1.1\" 301 238 \"-\" \"ELB-HealthChecker/2.0\"\r\n",
      "10.0.56.173 - - [23/Jan/2020:11:29:28 +0000] \"GET / HTTP/1.1\" 301 238 \"-\" \"ELB-HealthChecker/2.0\"\r\n",
      "10.0.56.173 - - [23/Jan/2020:11:29:41 +0000] \"GET / HTTP/1.1\" 301 238 \"-\" \"ELB-HealthChecker/2.0\"\r\n",
      "10.0.56.173 - - [23/Jan/2020:11:29:56 +0000] \"GET / HTTP/1.1\" 301 238 \"-\" \"ELB-HealthChecker/2.0\"\r\n",
      "10.0.31.122 - - [23/Jan/2020:11:29:56 +0000] \"GET / HTTP/1.1\" 301 238 \"-\" \"ELB-HealthChecker/2.0\"\r\n",
      "10.0.56.173 - - [23/Jan/2020:11:29:58 +0000] \"GET / HTTP/1.1\" 301 238 \"-\" \"ELB-HealthChecker/2.0\"\r\n",
      "10.0.56.173 - - [23/Jan/2020:11:30:26 +0000] \"GET / HTTP/1.1\" 301 238 \"-\" \"ELB-HealthChecker/2.0\"\r\n",
      "10.0.31.122 - - [23/Jan/2020:11:30:26 +0000] \"GET / HTTP/1.1\" 301 238 \"-\" \"ELB-HealthChecker/2.0\"\r\n",
      "10.0.31.122 - - [23/Jan/2020:11:30:28 +0000] \"GET / HTTP/1.1\" 301 238 \"-\" \"ELB-HealthChecker/2.0\"\r\n",
      "10.0.31.122 - - [23/Jan/2020:11:30:41 +0000] \"GET / HTTP/1.1\" 301 238 \"-\" \"ELB-HealthChecker/2.0\"\r\n",
      "10.0.56.173 - - [23/Jan/2020:11:30:41 +0000] \"GET / HTTP/1.1\" 301 238 \"-\" \"ELB-HealthChecker/2.0\"\r\n",
      "10.0.56.173 - - [23/Jan/2020:11:30:43 +0000] \"GET / HTTP/1.1\" 301 238 \"-\" \"ELB-HealthChecker/2.0\"\r\n",
      "10.0.31.122 - - [23/Jan/2020:11:30:58 +0000] \"GET / HTTP/1.1\" 301 238 \"-\" \"ELB-HealthChecker/2.0\"\r\n",
      "10.0.31.122 - - [23/Jan/2020:11:31:11 +0000] \"GET / HTTP/1.1\" 301 238 \"-\" \"ELB-HealthChecker/2.0\"\r\n",
      "10.0.31.122 - - [23/Jan/2020:11:31:13 +0000] \"GET / HTTP/1.1\" 301 238 \"-\" \"ELB-HealthChecker/2.0\"\r\n",
      "10.0.56.173 - - [23/Jan/2020:11:31:13 +0000] \"GET / HTTP/1.1\" 301 238 \"-\" \"ELB-HealthChecker/2.0\"\r\n",
      "10.0.56.173 - - [23/Jan/2020:11:31:26 +0000] \"GET / HTTP/1.1\" 301 238 \"-\" \"ELB-HealthChecker/2.0\"\r\n",
      "10.0.56.173 - - [23/Jan/2020:11:31:41 +0000] \"GET / HTTP/1.1\" 301 238 \"-\" \"ELB-HealthChecker/2.0\"\r\n",
      "10.0.31.122 - - [23/Jan/2020:11:31:43 +0000] \"GET / HTTP/1.1\" 301 238 \"-\" \"ELB-HealthChecker/2.0\"\r\n",
      "10.0.56.173 - - [23/Jan/2020:11:31:43 +0000] \"GET / HTTP/1.1\" 301 238 \"-\" \"ELB-HealthChecker/2.0\"\r\n",
      "10.0.31.122 - - [23/Jan/2020:11:31:58 +0000] \"GET / HTTP/1.1\" 301 238 \"-\" \"ELB-HealthChecker/2.0\"\r\n",
      "10.0.31.122 - - [23/Jan/2020:11:32:13 +0000] \"GET / HTTP/1.1\" 301 238 \"-\" \"ELB-HealthChecker/2.0\"\r\n",
      "10.0.31.122 - - [23/Jan/2020:11:32:28 +0000] \"GET / HTTP/1.1\" 301 238 \"-\" \"ELB-HealthChecker/2.0\"\r\n",
      "10.0.56.173 - - [23/Jan/2020:11:32:28 +0000] \"GET / HTTP/1.1\" 301 238 \"-\" \"ELB-HealthChecker/2.0\"\r\n",
      "10.0.56.173 - - [23/Jan/2020:11:32:41 +0000] \"GET / HTTP/1.1\" 301 238 \"-\" \"ELB-HealthChecker/2.0\"\r\n",
      "10.0.56.173 - - [23/Jan/2020:11:32:43 +0000] \"GET / HTTP/1.1\" 301 238 \"-\" \"ELB-HealthChecker/2.0\"\r\n",
      "10.0.31.122 - - [23/Jan/2020:11:32:56 +0000] \"GET / HTTP/1.1\" 301 238 \"-\" \"ELB-HealthChecker/2.0\"\r\n",
      "10.0.56.173 - - [23/Jan/2020:11:33:11 +0000] \"GET / HTTP/1.1\" 301 238 \"-\" \"ELB-HealthChecker/2.0\"\r\n",
      "10.0.31.122 - - [23/Jan/2020:11:33:13 +0000] \"GET / HTTP/1.1\" 301 238 \"-\" \"ELB-HealthChecker/2.0\"\r\n",
      "10.0.56.173 - - [23/Jan/2020:11:33:13 +0000] \"GET / HTTP/1.1\" 301 238 \"-\" \"ELB-HealthChecker/2.0\"\r\n",
      "10.0.31.122 - - [23/Jan/2020:11:33:26 +0000] \"GET / HTTP/1.1\" 301 238 \"-\" \"ELB-HealthChecker/2.0\"\r\n",
      "10.0.56.173 - - [23/Jan/2020:11:33:38 +0000] \"GET /wp-includes/js/wp-emoji-release.min.js?ver=4.8.3 HTTP/1.1\" 200 4619 \"http://13cebeb3-default-wordpress-9484-1478914130.us-west-2.elb.amazonaws.com/\" \"Mozilla/5.0 (Windows NT 10.0; Win64; x64) AppleWebKit/537.36 (KHTML, like Gecko) Chrome/78.0.3904.97 Safari/537.36\"\r\n",
      "10.0.56.173 - - [23/Jan/2020:11:33:39 +0000] \"GET /favicon.ico HTTP/1.1\" 200 173 \"http://13cebeb3-default-wordpress-9484-1478914130.us-west-2.elb.amazonaws.com/\" \"Mozilla/5.0 (Windows NT 10.0; Win64; x64) AppleWebKit/537.36 (KHTML, like Gecko) Chrome/78.0.3904.97 Safari/537.36\"\r\n",
      "10.0.31.122 - - [23/Jan/2020:11:33:41 +0000] \"GET / HTTP/1.1\" 301 238 \"-\" \"ELB-HealthChecker/2.0\"\r\n",
      "10.0.56.173 - - [23/Jan/2020:11:33:43 +0000] \"GET /wp-login.php HTTP/1.1\" 200 1594 \"http://13cebeb3-default-wordpress-9484-1478914130.us-west-2.elb.amazonaws.com/\" \"Mozilla/5.0 (Windows NT 10.0; Win64; x64) AppleWebKit/537.36 (KHTML, like Gecko) Chrome/78.0.3904.97 Safari/537.36\"\r\n",
      "10.0.56.173 - - [23/Jan/2020:11:33:43 +0000] \"GET /favicon.ico HTTP/1.1\" 200 173 \"http://13cebeb3-default-wordpress-9484-1478914130.us-west-2.elb.amazonaws.com/wp-login.php\" \"Mozilla/5.0 (Windows NT 10.0; Win64; x64) AppleWebKit/537.36 (KHTML, like Gecko) Chrome/78.0.3904.97 Safari/537.36\"\r\n",
      "10.0.31.122 - - [23/Jan/2020:11:33:58 +0000] \"GET / HTTP/1.1\" 301 238 \"-\" \"ELB-HealthChecker/2.0\"\r\n",
      "10.0.56.173 - - [23/Jan/2020:11:33:58 +0000] \"GET / HTTP/1.1\" 301 238 \"-\" \"ELB-HealthChecker/2.0\"\r\n",
      "10.0.56.173 - - [23/Jan/2020:11:34:01 +0000] \"GET /wp-admin/index.php HTTP/1.1\" 302 499 \"http://13cebeb3-default-wordpress-9484-1478914130.us-west-2.elb.amazonaws.com/wp-admin/\" \"Mozilla/5.0 (Windows NT 10.0; Win64; x64) AppleWebKit/537.36 (KHTML, like Gecko) Chrome/78.0.3904.97 Safari/537.36\"\r\n",
      "10.0.56.173 - - [23/Jan/2020:11:34:01 +0000] \"GET /wp-login.php?redirect_to=http%3A%2F%2F13cebeb3-default-wordpress-9484-1478914130.us-west-2.elb.amazonaws.com%2Fwp-admin%2Findex.php&reauth=1 HTTP/1.1\" 200 3633 \"http://13cebeb3-default-wordpress-9484-1478914130.us-west-2.elb.amazonaws.com/wp-admin/\" \"Mozilla/5.0 (Windows NT 10.0; Win64; x64) AppleWebKit/537.36 (KHTML, like Gecko) Chrome/78.0.3904.97 Safari/537.36\"\r\n",
      "10.0.56.173 - - [23/Jan/2020:11:34:02 +0000] \"GET /favicon.ico HTTP/1.1\" 200 173 \"http://13cebeb3-default-wordpress-9484-1478914130.us-west-2.elb.amazonaws.com/wp-login.php?redirect_to=http%3A%2F%2F13cebeb3-default-wordpress-9484-1478914130.us-west-2.elb.amazonaws.com%2Fwp-admin%2Findex.php&reauth=1\" \"Mozilla/5.0 (Windows NT 10.0; Win64; x64) AppleWebKit/537.36 (KHTML, like Gecko) Chrome/78.0.3904.97 Safari/537.36\"\r\n",
      "10.0.31.122 - - [23/Jan/2020:11:34:11 +0000] \"GET / HTTP/1.1\" 301 238 \"-\" \"ELB-HealthChecker/2.0\"\r\n",
      "10.0.31.122 - - [23/Jan/2020:11:34:13 +0000] \"GET / HTTP/1.1\" 301 238 \"-\" \"ELB-HealthChecker/2.0\"\r\n",
      "10.0.56.173 - - [23/Jan/2020:11:34:13 +0000] \"GET / HTTP/1.1\" 301 238 \"-\" \"ELB-HealthChecker/2.0\"\r\n",
      "10.0.56.173 - - [23/Jan/2020:11:34:15 +0000] \"POST /wp-login.php HTTP/1.1\" 302 1293 \"http://13cebeb3-default-wordpress-9484-1478914130.us-west-2.elb.amazonaws.com/wp-login.php\" \"Mozilla/5.0 (Windows NT 10.0; Win64; x64) AppleWebKit/537.36 (KHTML, like Gecko) Chrome/78.0.3904.97 Safari/537.36\"\r\n",
      "10.0.56.173 - - [23/Jan/2020:11:34:15 +0000] \"GET /wp-admin/index.php HTTP/1.1\" 200 15875 \"http://13cebeb3-default-wordpress-9484-1478914130.us-west-2.elb.amazonaws.com/wp-login.php\" \"Mozilla/5.0 (Windows NT 10.0; Win64; x64) AppleWebKit/537.36 (KHTML, like Gecko) Chrome/78.0.3904.97 Safari/537.36\"\r\n",
      "10.0.56.173 - - [23/Jan/2020:11:34:16 +0000] \"GET /favicon.ico HTTP/1.1\" 200 173 \"http://13cebeb3-default-wordpress-9484-1478914130.us-west-2.elb.amazonaws.com/wp-admin/index.php\" \"Mozilla/5.0 (Windows NT 10.0; Win64; x64) AppleWebKit/537.36 (KHTML, like Gecko) Chrome/78.0.3904.97 Safari/537.36\"\r\n",
      "10.0.31.122 - - [23/Jan/2020:11:34:26 +0000] \"GET / HTTP/1.1\" 301 238 \"-\" \"ELB-HealthChecker/2.0\"\r\n",
      "10.0.56.173 - - [23/Jan/2020:11:34:26 +0000] \"GET /wp-admin/edit.php?post_type=page HTTP/1.1\" 200 10456 \"http://13cebeb3-default-wordpress-9484-1478914130.us-west-2.elb.amazonaws.com/wp-admin/index.php\" \"Mozilla/5.0 (Windows NT 10.0; Win64; x64) AppleWebKit/537.36 (KHTML, like Gecko) Chrome/78.0.3904.97 Safari/537.36\"\r\n",
      "10.0.56.173 - - [23/Jan/2020:11:34:27 +0000] \"GET /wp-admin/load-scripts.php?c=1&load%5B%5D=hoverIntent,common,admin-bar,jquery-ui-core,jquery-ui-widget,jquery-ui-position,jquery-ui-menu,wp-a11y,jquery-ui-autocomplete,ta&load%5B%5D=gs-suggest,inline-edit-post,heartbeat,svg-painter,wp-auth-check&ver=4.8.3 HTTP/1.1\" 200 27302 \"http://13cebeb3-default-wordpress-9484-1478914130.us-west-2.elb.amazonaws.com/wp-admin/edit.php?post_type=page\" \"Mozilla/5.0 (Windows NT 10.0; Win64; x64) AppleWebKit/537.36 (KHTML, like Gecko) Chrome/78.0.3904.97 Safari/537.36\"\r\n",
      "10.0.56.173 - - [23/Jan/2020:11:34:27 +0000] \"POST /wp-admin/admin-ajax.php HTTP/1.1\" 200 554 \"http://13cebeb3-default-wordpress-9484-1478914130.us-west-2.elb.amazonaws.com/wp-admin/edit.php?post_type=page\" \"Mozilla/5.0 (Windows NT 10.0; Win64; x64) AppleWebKit/537.36 (KHTML, like Gecko) Chrome/78.0.3904.97 Safari/537.36\"\r\n",
      "10.0.56.173 - - [23/Jan/2020:11:34:28 +0000] \"GET / HTTP/1.1\" 301 238 \"-\" \"ELB-HealthChecker/2.0\"\r\n",
      "10.0.56.173 - - [23/Jan/2020:11:34:32 +0000] \"GET /wp-admin/post-new.php?post_type=page HTTP/1.1\" 200 26211 \"http://13cebeb3-default-wordpress-9484-1478914130.us-west-2.elb.amazonaws.com/wp-admin/edit.php?post_type=page\" \"Mozilla/5.0 (Windows NT 10.0; Win64; x64) AppleWebKit/537.36 (KHTML, like Gecko) Chrome/78.0.3904.97 Safari/537.36\"\r\n",
      "10.0.56.173 - - [23/Jan/2020:11:34:32 +0000] \"GET /wp-admin/load-scripts.php?c=1&load%5B%5D=hoverIntent,common,admin-bar,heartbeat,autosave,suggest,wp-ajax-response,jquery-color,wp-lists,jquery-ui-core,jquery-ui-widget,j&load%5B%5D=query-ui-mouse,jquery-ui-sortable,postbox,jquery-ui-position,jquery-ui-menu,wp-a11y,jquery-ui-autocomplete,tags-suggest,tags-box&load%5B%5D=,underscore,word-count,post,editor-expand,thickbox,shortcode,backbone,wp-util,wp-backbone,media-models,wp-plupload,mediaelement,&load%5B%5D=wp-mediaelement,media-views,media-editor,media-audiovideo,mce-view,imgareaselect,image-edit,svg-painter,wp-auth-check,editor,qui&load%5B%5D=cktags,wplink,media-upload,wp-embed&ver=4.8.3 HTTP/1.1\" 200 165799 \"http://13cebeb3-default-wordpress-9484-1478914130.us-west-2.elb.amazonaws.com/wp-admin/post-new.php?post_type=page\" \"Mozilla/5.0 (Windows NT 10.0; Win64; x64) AppleWebKit/537.36 (KHTML, like Gecko) Chrome/78.0.3904.97 Safari/537.36\"\r\n",
      "10.0.56.173 - - [23/Jan/2020:11:34:32 +0000] \"GET /wp-includes/js/mediaelement/wp-mediaelement.min.css?ver=4.8.3 HTTP/1.1\" 200 1415 \"http://13cebeb3-default-wordpress-9484-1478914130.us-west-2.elb.amazonaws.com/wp-admin/post-new.php?post_type=page\" \"Mozilla/5.0 (Windows NT 10.0; Win64; x64) AppleWebKit/537.36 (KHTML, like Gecko) Chrome/78.0.3904.97 Safari/537.36\"\r\n",
      "10.0.56.173 - - [23/Jan/2020:11:34:32 +0000] \"GET /wp-admin/load-styles.php?c=1&dir=ltr&load%5B%5D=dashicons,admin-bar,buttons,media-views,common,forms,admin-menu,dashboard,list-tables,edit,revisions,media,themes,about,nav-menu&load%5B%5D=s,wp-pointer,widgets,site-icon,l10n,wp-auth-check&ver=4.8.3 HTTP/1.1\" 200 103068 \"http://13cebeb3-default-wordpress-9484-1478914130.us-west-2.elb.amazonaws.com/wp-admin/post-new.php?post_type=page\" \"Mozilla/5.0 (Windows NT 10.0; Win64; x64) AppleWebKit/537.36 (KHTML, like Gecko) Chrome/78.0.3904.97 Safari/537.36\"\r\n",
      "10.0.56.173 - - [23/Jan/2020:11:34:33 +0000] \"GET /wp-includes/css/dashicons.min.css?ver=4.8.3&wp-mce-4603-20170530 HTTP/1.1\" 200 28895 \"http://13cebeb3-default-wordpress-9484-1478914130.us-west-2.elb.amazonaws.com/wp-admin/post-new.php?post_type=page\" \"Mozilla/5.0 (Windows NT 10.0; Win64; x64) AppleWebKit/537.36 (KHTML, like Gecko) Chrome/78.0.3904.97 Safari/537.36\"\r\n",
      "10.0.56.173 - - [23/Jan/2020:11:34:33 +0000] \"GET /wp-includes/js/tinymce/skins/wordpress/wp-content.css?ver=4.8.3&wp-mce-4603-20170530 HTTP/1.1\" 200 2996 \"http://13cebeb3-default-wordpress-9484-1478914130.us-west-2.elb.amazonaws.com/wp-admin/post-new.php?post_type=page\" \"Mozilla/5.0 (Windows NT 10.0; Win64; x64) AppleWebKit/537.36 (KHTML, like Gecko) Chrome/78.0.3904.97 Safari/537.36\"\r\n",
      "10.0.56.173 - - [23/Jan/2020:11:34:41 +0000] \"GET / HTTP/1.1\" 301 238 \"-\" \"ELB-HealthChecker/2.0\"\r\n",
      "10.0.31.122 - - [23/Jan/2020:11:34:43 +0000] \"GET / HTTP/1.1\" 301 238 \"-\" \"ELB-HealthChecker/2.0\"\r\n",
      "10.0.56.173 - - [23/Jan/2020:11:34:43 +0000] \"GET / HTTP/1.1\" 301 238 \"-\" \"ELB-HealthChecker/2.0\"\r\n",
      "10.0.56.173 - - [23/Jan/2020:11:34:44 +0000] \"POST /wp-admin/admin-ajax.php HTTP/1.1\" 200 625 \"http://13cebeb3-default-wordpress-9484-1478914130.us-west-2.elb.amazonaws.com/wp-admin/post-new.php?post_type=page\" \"Mozilla/5.0 (Windows NT 10.0; Win64; x64) AppleWebKit/537.36 (KHTML, like Gecko) Chrome/78.0.3904.97 Safari/537.36\"\r\n",
      "10.0.56.173 - - [23/Jan/2020:11:34:44 +0000] \"GET /index.php HTTP/1.1\" 301 276 \"-\" \"-\"\r\n",
      "10.0.56.173 - - [23/Jan/2020:11:34:44 +0000] \"POST /wp-admin/admin-ajax.php HTTP/1.1\" 200 865 \"http://13cebeb3-default-wordpress-9484-1478914130.us-west-2.elb.amazonaws.com/wp-admin/post-new.php?post_type=page\" \"Mozilla/5.0 (Windows NT 10.0; Win64; x64) AppleWebKit/537.36 (KHTML, like Gecko) Chrome/78.0.3904.97 Safari/537.36\"\r\n",
      "10.0.56.173 - - [23/Jan/2020:11:34:47 +0000] \"POST /wp-admin/admin-ajax.php HTTP/1.1\" 200 533 \"http://13cebeb3-default-wordpress-9484-1478914130.us-west-2.elb.amazonaws.com/wp-admin/post-new.php?post_type=page\" \"Mozilla/5.0 (Windows NT 10.0; Win64; x64) AppleWebKit/537.36 (KHTML, like Gecko) Chrome/78.0.3904.97 Safari/537.36\"\r\n",
      "10.0.56.173 - - [23/Jan/2020:11:34:50 +0000] \"POST /wp-admin/async-upload.php HTTP/1.1\" 200 994 \"http://13cebeb3-default-wordpress-9484-1478914130.us-west-2.elb.amazonaws.com/wp-admin/post-new.php?post_type=page\" \"Mozilla/5.0 (Windows NT 10.0; Win64; x64) AppleWebKit/537.36 (KHTML, like Gecko) Chrome/78.0.3904.97 Safari/537.36\"\r\n",
      "10.0.56.173 - - [23/Jan/2020:11:34:51 +0000] \"GET /wp-content/uploads/2020/01/eto_nezumi_daruma-150x150.png HTTP/1.1\" 200 22116 \"http://13cebeb3-default-wordpress-9484-1478914130.us-west-2.elb.amazonaws.com/wp-admin/post-new.php?post_type=page\" \"Mozilla/5.0 (Windows NT 10.0; Win64; x64) AppleWebKit/537.36 (KHTML, like Gecko) Chrome/78.0.3904.97 Safari/537.36\"\r\n",
      "10.0.56.173 - - [23/Jan/2020:11:34:58 +0000] \"GET / HTTP/1.1\" 301 238 \"-\" \"ELB-HealthChecker/2.0\"\r\n",
      "10.0.31.122 - - [23/Jan/2020:11:35:11 +0000] \"GET / HTTP/1.1\" 301 238 \"-\" \"ELB-HealthChecker/2.0\"\r\n",
      "10.0.56.173 - - [23/Jan/2020:11:35:11 +0000] \"GET / HTTP/1.1\" 301 238 \"-\" \"ELB-HealthChecker/2.0\"\r\n",
      "10.0.31.122 - - [23/Jan/2020:11:35:13 +0000] \"GET / HTTP/1.1\" 301 238 \"-\" \"ELB-HealthChecker/2.0\"\r\n",
      "10.0.31.122 - - [23/Jan/2020:11:35:26 +0000] \"GET / HTTP/1.1\" 301 238 \"-\" \"ELB-HealthChecker/2.0\"\r\n",
      "10.0.31.122 - - [23/Jan/2020:11:35:28 +0000] \"GET / HTTP/1.1\" 301 238 \"-\" \"ELB-HealthChecker/2.0\"\r\n",
      "10.0.56.173 - - [23/Jan/2020:11:35:28 +0000] \"GET / HTTP/1.1\" 301 238 \"-\" \"ELB-HealthChecker/2.0\"\r\n",
      "10.0.56.173 - - [23/Jan/2020:11:35:56 +0000] \"GET / HTTP/1.1\" 301 238 \"-\" \"ELB-HealthChecker/2.0\"\r\n",
      "10.0.31.122 - - [23/Jan/2020:11:35:56 +0000] \"GET / HTTP/1.1\" 301 238 \"-\" \"ELB-HealthChecker/2.0\"\r\n",
      "10.0.56.173 - - [23/Jan/2020:11:35:58 +0000] \"GET / HTTP/1.1\" 301 238 \"-\" \"ELB-HealthChecker/2.0\"\r\n",
      "10.0.31.122 - - [23/Jan/2020:11:35:58 +0000] \"GET / HTTP/1.1\" 301 238 \"-\" \"ELB-HealthChecker/2.0\"\r\n",
      "10.0.56.173 - - [23/Jan/2020:11:36:11 +0000] \"GET / HTTP/1.1\" 301 238 \"-\" \"ELB-HealthChecker/2.0\"\r\n",
      "10.0.31.122 - - [23/Jan/2020:11:36:13 +0000] \"GET / HTTP/1.1\" 301 238 \"-\" \"ELB-HealthChecker/2.0\"\r\n",
      "10.0.31.122 - - [23/Jan/2020:11:36:26 +0000] \"GET / HTTP/1.1\" 301 238 \"-\" \"ELB-HealthChecker/2.0\"\r\n",
      "10.0.56.173 - - [23/Jan/2020:11:36:32 +0000] \"POST /wp-admin/admin-ajax.php HTTP/1.1\" 200 523 \"http://13cebeb3-default-wordpress-9484-1478914130.us-west-2.elb.amazonaws.com/wp-admin/post-new.php?post_type=page\" \"Mozilla/5.0 (Windows NT 10.0; Win64; x64) AppleWebKit/537.36 (KHTML, like Gecko) Chrome/78.0.3904.97 Safari/537.36\"\r\n",
      "10.0.31.122 - - [23/Jan/2020:11:36:41 +0000] \"GET / HTTP/1.1\" 301 238 \"-\" \"ELB-HealthChecker/2.0\"\r\n",
      "10.0.56.173 - - [23/Jan/2020:11:36:48 +0000] \"POST /wp-admin/admin-ajax.php HTTP/1.1\" 200 625 \"http://13cebeb3-default-wordpress-9484-1478914130.us-west-2.elb.amazonaws.com/wp-admin/post-new.php?post_type=page\" \"Mozilla/5.0 (Windows NT 10.0; Win64; x64) AppleWebKit/537.36 (KHTML, like Gecko) Chrome/78.0.3904.97 Safari/537.36\"\r\n",
      "10.0.31.122 - - [23/Jan/2020:11:36:56 +0000] \"GET / HTTP/1.1\" 301 238 \"-\" \"ELB-HealthChecker/2.0\"\r\n",
      "10.0.56.173 - - [23/Jan/2020:11:36:56 +0000] \"GET / HTTP/1.1\" 301 238 \"-\" \"ELB-HealthChecker/2.0\"\r\n",
      "10.0.56.173 - - [23/Jan/2020:11:36:58 +0000] \"GET / HTTP/1.1\" 301 238 \"-\" \"ELB-HealthChecker/2.0\"\r\n",
      "10.0.56.173 - - [23/Jan/2020:11:37:11 +0000] \"GET / HTTP/1.1\" 301 238 \"-\" \"ELB-HealthChecker/2.0\"\r\n",
      "10.0.56.173 - - [23/Jan/2020:11:37:14 +0000] \"POST /wp-admin/async-upload.php HTTP/1.1\" 200 997 \"http://13cebeb3-default-wordpress-9484-1478914130.us-west-2.elb.amazonaws.com/wp-admin/post-new.php?post_type=page\" \"Mozilla/5.0 (Windows NT 10.0; Win64; x64) AppleWebKit/537.36 (KHTML, like Gecko) Chrome/78.0.3904.97 Safari/537.36\"\r\n",
      "10.0.56.173 - - [23/Jan/2020:11:37:14 +0000] \"GET /wp-content/uploads/2020/01/eto_nezumi_daruma-1-150x150.png HTTP/1.1\" 200 22116 \"http://13cebeb3-default-wordpress-9484-1478914130.us-west-2.elb.amazonaws.com/wp-admin/post-new.php?post_type=page\" \"Mozilla/5.0 (Windows NT 10.0; Win64; x64) AppleWebKit/537.36 (KHTML, like Gecko) Chrome/78.0.3904.97 Safari/537.36\"\r\n",
      "10.0.31.122 - - [23/Jan/2020:11:37:28 +0000] \"GET / HTTP/1.1\" 301 238 \"-\" \"ELB-HealthChecker/2.0\"\r\n",
      "10.0.56.173 - - [23/Jan/2020:11:37:38 +0000] \"POST /wp-admin/admin-ajax.php HTTP/1.1\" 200 1027 \"http://13cebeb3-default-wordpress-9484-1478914130.us-west-2.elb.amazonaws.com/wp-admin/post-new.php?post_type=page\" \"Mozilla/5.0 (Windows NT 10.0; Win64; x64) AppleWebKit/537.36 (KHTML, like Gecko) Chrome/78.0.3904.97 Safari/537.36\"\r\n",
      "10.0.56.173 - - [23/Jan/2020:11:37:41 +0000] \"GET / HTTP/1.1\" 301 238 \"-\" \"ELB-HealthChecker/2.0\"\r\n",
      "10.0.56.173 - - [23/Jan/2020:11:37:48 +0000] \"POST /wp-admin/admin-ajax.php HTTP/1.1\" 200 554 \"http://13cebeb3-default-wordpress-9484-1478914130.us-west-2.elb.amazonaws.com/wp-admin/post-new.php?post_type=page\" \"Mozilla/5.0 (Windows NT 10.0; Win64; x64) AppleWebKit/537.36 (KHTML, like Gecko) Chrome/78.0.3904.97 Safari/537.36\"\r\n",
      "10.0.56.173 - - [23/Jan/2020:11:37:49 +0000] \"POST /wp-admin/post.php HTTP/1.1\" 302 541 \"http://13cebeb3-default-wordpress-9484-1478914130.us-west-2.elb.amazonaws.com/wp-admin/post-new.php?post_type=page\" \"Mozilla/5.0 (Windows NT 10.0; Win64; x64) AppleWebKit/537.36 (KHTML, like Gecko) Chrome/78.0.3904.97 Safari/537.36\"\r\n",
      "10.0.56.173 - - [23/Jan/2020:11:37:50 +0000] \"GET /wp-admin/post.php?post=5&action=edit&message=10 HTTP/1.1\" 200 26694 \"http://13cebeb3-default-wordpress-9484-1478914130.us-west-2.elb.amazonaws.com/wp-admin/post-new.php?post_type=page\" \"Mozilla/5.0 (Windows NT 10.0; Win64; x64) AppleWebKit/537.36 (KHTML, like Gecko) Chrome/78.0.3904.97 Safari/537.36\"\r\n",
      "10.0.56.173 - - [23/Jan/2020:11:37:50 +0000] \"GET /wp-admin/load-scripts.php?c=1&load%5B%5D=hoverIntent,common,admin-bar,heartbeat,autosave,wp-ajax-response,jquery-color,wp-lists,quicktags,jquery-query,admin-comments,sug&load%5B%5D=gest,jquery-ui-core,jquery-ui-widget,jquery-ui-mouse,jquery-ui-sortable,postbox,jquery-ui-position,jquery-ui-menu,wp-a11y,jquery&load%5B%5D=-ui-autocomplete,tags-suggest,tags-box,underscore,word-count,post,editor-expand,thickbox,shortcode,backbone,wp-util,wp-backbone,&load%5B%5D=media-models,wp-plupload,mediaelement,wp-mediaelement,media-views,media-editor,media-audiovideo,mce-view,imgareaselect,image-edi&load%5B%5D=t,svg-painter,wp-auth-check,editor,wplink,media-upload,wp-embed&ver=4.8.3 HTTP/1.1\" 200 172733 \"http://13cebeb3-default-wordpress-9484-1478914130.us-west-2.elb.amazonaws.com/wp-admin/post.php?post=5&action=edit&message=10\" \"Mozilla/5.0 (Windows NT 10.0; Win64; x64) AppleWebKit/537.36 (KHTML, like Gecko) Chrome/78.0.3904.97 Safari/537.36\"\r\n",
      "10.0.56.173 - - [23/Jan/2020:11:37:51 +0000] \"GET /wp-admin/admin-ajax.php?action=oembed-cache&post=5 HTTP/1.1\" 200 352 \"http://13cebeb3-default-wordpress-9484-1478914130.us-west-2.elb.amazonaws.com/wp-admin/post.php?post=5&action=edit\" \"Mozilla/5.0 (Windows NT 10.0; Win64; x64) AppleWebKit/537.36 (KHTML, like Gecko) Chrome/78.0.3904.97 Safari/537.36\"\r\n",
      "10.0.56.173 - - [23/Jan/2020:11:37:51 +0000] \"GET /favicon.ico HTTP/1.1\" 200 173 \"http://13cebeb3-default-wordpress-9484-1478914130.us-west-2.elb.amazonaws.com/wp-admin/post.php?post=5&action=edit\" \"Mozilla/5.0 (Windows NT 10.0; Win64; x64) AppleWebKit/537.36 (KHTML, like Gecko) Chrome/78.0.3904.97 Safari/537.36\"\r\n",
      "10.0.56.173 - - [23/Jan/2020:11:37:53 +0000] \"POST /wp-admin/post.php HTTP/1.1\" 302 411 \"http://13cebeb3-default-wordpress-9484-1478914130.us-west-2.elb.amazonaws.com/wp-admin/post.php?post=5&action=edit\" \"Mozilla/5.0 (Windows NT 10.0; Win64; x64) AppleWebKit/537.36 (KHTML, like Gecko) Chrome/78.0.3904.97 Safari/537.36\"\r\n",
      "10.0.56.173 - - [23/Jan/2020:11:37:53 +0000] \"GET /?page_id=5&preview=true HTTP/1.1\" 200 19074 \"http://13cebeb3-default-wordpress-9484-1478914130.us-west-2.elb.amazonaws.com/wp-admin/post.php?post=5&action=edit\" \"Mozilla/5.0 (Windows NT 10.0; Win64; x64) AppleWebKit/537.36 (KHTML, like Gecko) Chrome/78.0.3904.97 Safari/537.36\"\r\n",
      "10.0.56.173 - - [23/Jan/2020:11:37:53 +0000] \"GET /wp-includes/js/admin-bar.min.js?ver=4.8.3 HTTP/1.1\" 200 2766 \"http://13cebeb3-default-wordpress-9484-1478914130.us-west-2.elb.amazonaws.com/?page_id=5&preview=true\" \"Mozilla/5.0 (Windows NT 10.0; Win64; x64) AppleWebKit/537.36 (KHTML, like Gecko) Chrome/78.0.3904.97 Safari/537.36\"\r\n",
      "10.0.56.173 - - [23/Jan/2020:11:37:53 +0000] \"GET /wp-includes/css/admin-bar.min.css?ver=4.8.3 HTTP/1.1\" 200 4159 \"http://13cebeb3-default-wordpress-9484-1478914130.us-west-2.elb.amazonaws.com/?page_id=5&preview=true\" \"Mozilla/5.0 (Windows NT 10.0; Win64; x64) AppleWebKit/537.36 (KHTML, like Gecko) Chrome/78.0.3904.97 Safari/537.36\"\r\n",
      "10.0.56.173 - - [23/Jan/2020:11:37:53 +0000] \"GET /favicon.ico HTTP/1.1\" 200 173 \"http://13cebeb3-default-wordpress-9484-1478914130.us-west-2.elb.amazonaws.com/?page_id=5&preview=true\" \"Mozilla/5.0 (Windows NT 10.0; Win64; x64) AppleWebKit/537.36 (KHTML, like Gecko) Chrome/78.0.3904.97 Safari/537.36\"\r\n",
      "10.0.31.122 - - [23/Jan/2020:11:37:56 +0000] \"GET / HTTP/1.1\" 301 238 \"-\" \"ELB-HealthChecker/2.0\"\r\n",
      "10.0.56.173 - - [23/Jan/2020:11:37:56 +0000] \"GET / HTTP/1.1\" 301 238 \"-\" \"ELB-HealthChecker/2.0\"\r\n",
      "10.0.56.173 - - [23/Jan/2020:11:37:58 +0000] \"GET / HTTP/1.1\" 301 238 \"-\" \"ELB-HealthChecker/2.0\"\r\n",
      "10.0.56.173 - - [23/Jan/2020:11:38:28 +0000] \"GET / HTTP/1.1\" 301 238 \"-\" \"ELB-HealthChecker/2.0\"\r\n",
      "10.0.56.173 - - [23/Jan/2020:11:38:41 +0000] \"GET / HTTP/1.1\" 301 238 \"-\" \"ELB-HealthChecker/2.0\"\r\n",
      "10.0.56.173 - - [23/Jan/2020:11:38:43 +0000] \"GET / HTTP/1.1\" 301 238 \"-\" \"ELB-HealthChecker/2.0\"\r\n",
      "10.0.56.173 - - [23/Jan/2020:11:38:51 +0000] \"POST /wp-admin/admin-ajax.php HTTP/1.1\" 200 554 \"http://13cebeb3-default-wordpress-9484-1478914130.us-west-2.elb.amazonaws.com/wp-admin/post.php?post=5&action=edit\" \"Mozilla/5.0 (Windows NT 10.0; Win64; x64) AppleWebKit/537.36 (KHTML, like Gecko) Chrome/78.0.3904.97 Safari/537.36\"\r\n",
      "10.0.56.173 - - [23/Jan/2020:11:38:56 +0000] \"GET / HTTP/1.1\" 301 238 \"-\" \"ELB-HealthChecker/2.0\"\r\n"
     ]
    }
   ],
   "source": [
    "!kubectl logs wordpress-75b8c95b57-494fq"
   ]
  },
  {
   "cell_type": "code",
   "execution_count": 120,
   "metadata": {
    "lc_cell_meme": {
     "current": "cdbc2eb4-3dd7-11ea-bfd5-0242ac120005",
     "execution_end_time": "2020-01-23T11:59:05.026749Z",
     "next": "cdbc32f6-3dd7-11ea-bfd5-0242ac120005",
     "previous": "02740ce2-3dd5-11ea-bfd5-0242ac120005"
    },
    "lc_wrapper": {
     "log_history": [
      "/home/user5/notebooks/seminar-lc4ri/AWS/.log/20200123/20200123-115902-0788.log"
     ]
    }
   },
   "outputs": [
    {
     "name": "stdout",
     "output_type": "stream",
     "text": [
      "NAME                               READY   STATUS    RESTARTS   AGE\r\n",
      "efs-provisioner-79db86f4c4-hnnc9   1/1     Running   0          99m\r\n",
      "wordpress-75b8c95b57-494fq         1/1     Running   0          35m\r\n",
      "wordpress-75b8c95b57-g6zrn         1/1     Running   0          35m\r\n"
     ]
    }
   ],
   "source": [
    "!kubectl get pod"
   ]
  },
  {
   "cell_type": "code",
   "execution_count": 121,
   "metadata": {
    "lc_cell_meme": {
     "current": "cdbc32f6-3dd7-11ea-bfd5-0242ac120005",
     "execution_end_time": "2020-01-23T11:59:22.579994Z",
     "next": "a3ec1346-3207-11ea-9983-0242ac120004",
     "previous": "cdbc2eb4-3dd7-11ea-bfd5-0242ac120005"
    },
    "lc_wrapper": {
     "log_history": [
      "/home/user5/notebooks/seminar-lc4ri/AWS/.log/20200123/20200123-115920-0720.log"
     ]
    }
   },
   "outputs": [
    {
     "name": "stdout",
     "output_type": "stream",
     "text": [
      "WordPress not found in /var/www/html - copying now...\r\n",
      "WARNING: /var/www/html is not empty - press Ctrl+C now if this is an error!\r\n",
      "+ ls -A\r\n",
      "wp-content\r\n",
      "+ sleep 10\r\n",
      "Complete! WordPress has been successfully copied to /var/www/html\r\n",
      "AH00558: apache2: Could not reliably determine the server's fully qualified domain name, using 10.0.23.39. Set the 'ServerName' directive globally to suppress this message\r\n",
      "AH00558: apache2: Could not reliably determine the server's fully qualified domain name, using 10.0.23.39. Set the 'ServerName' directive globally to suppress this message\r\n",
      "[Thu Jan 23 11:23:44.202089 2020] [mpm_prefork:notice] [pid 1] AH00163: Apache/2.4.10 (Debian) PHP/5.6.32 configured -- resuming normal operations\r\n",
      "[Thu Jan 23 11:23:44.202132 2020] [core:notice] [pid 1] AH00094: Command line: 'apache2 -D FOREGROUND'\r\n",
      "10.0.56.173 - - [23/Jan/2020:11:23:55 +0000] \"GET / HTTP/1.1\" 301 238 \"-\" \"ELB-HealthChecker/2.0\"\r\n",
      "10.0.31.122 - - [23/Jan/2020:11:23:55 +0000] \"GET / HTTP/1.1\" 301 238 \"-\" \"ELB-HealthChecker/2.0\"\r\n",
      "10.0.56.173 - - [23/Jan/2020:11:24:10 +0000] \"GET / HTTP/1.1\" 301 238 \"-\" \"ELB-HealthChecker/2.0\"\r\n",
      "10.0.31.122 - - [23/Jan/2020:11:24:10 +0000] \"GET / HTTP/1.1\" 301 238 \"-\" \"ELB-HealthChecker/2.0\"\r\n",
      "10.0.56.173 - - [23/Jan/2020:11:24:12 +0000] \"GET / HTTP/1.1\" 301 238 \"-\" \"ELB-HealthChecker/2.0\"\r\n",
      "10.0.56.173 - - [23/Jan/2020:11:24:25 +0000] \"GET / HTTP/1.1\" 301 238 \"-\" \"ELB-HealthChecker/2.0\"\r\n",
      "10.0.31.122 - - [23/Jan/2020:11:24:25 +0000] \"GET / HTTP/1.1\" 301 238 \"-\" \"ELB-HealthChecker/2.0\"\r\n",
      "10.0.56.173 - - [23/Jan/2020:11:24:27 +0000] \"GET / HTTP/1.1\" 301 238 \"-\" \"ELB-HealthChecker/2.0\"\r\n",
      "10.0.31.122 - - [23/Jan/2020:11:24:40 +0000] \"GET / HTTP/1.1\" 301 238 \"-\" \"ELB-HealthChecker/2.0\"\r\n",
      "10.0.31.122 - - [23/Jan/2020:11:24:42 +0000] \"GET / HTTP/1.1\" 301 238 \"-\" \"ELB-HealthChecker/2.0\"\r\n",
      "10.0.56.173 - - [23/Jan/2020:11:24:55 +0000] \"GET / HTTP/1.1\" 301 238 \"-\" \"ELB-HealthChecker/2.0\"\r\n",
      "10.0.31.122 - - [23/Jan/2020:11:24:55 +0000] \"GET / HTTP/1.1\" 301 238 \"-\" \"ELB-HealthChecker/2.0\"\r\n",
      "10.0.31.122 - - [23/Jan/2020:11:24:57 +0000] \"GET / HTTP/1.1\" 301 238 \"-\" \"ELB-HealthChecker/2.0\"\r\n",
      "10.0.31.122 - - [23/Jan/2020:11:25:10 +0000] \"GET / HTTP/1.1\" 301 238 \"-\" \"ELB-HealthChecker/2.0\"\r\n",
      "10.0.56.173 - - [23/Jan/2020:11:25:10 +0000] \"GET / HTTP/1.1\" 301 238 \"-\" \"ELB-HealthChecker/2.0\"\r\n",
      "10.0.31.122 - - [23/Jan/2020:11:25:12 +0000] \"GET / HTTP/1.1\" 301 238 \"-\" \"ELB-HealthChecker/2.0\"\r\n",
      "10.0.31.122 - - [23/Jan/2020:11:25:25 +0000] \"GET / HTTP/1.1\" 301 238 \"-\" \"ELB-HealthChecker/2.0\"\r\n",
      "10.0.56.173 - - [23/Jan/2020:11:25:25 +0000] \"GET / HTTP/1.1\" 301 238 \"-\" \"ELB-HealthChecker/2.0\"\r\n",
      "10.0.31.122 - - [23/Jan/2020:11:25:27 +0000] \"GET / HTTP/1.1\" 301 238 \"-\" \"ELB-HealthChecker/2.0\"\r\n",
      "10.0.56.173 - - [23/Jan/2020:11:25:40 +0000] \"GET / HTTP/1.1\" 301 238 \"-\" \"ELB-HealthChecker/2.0\"\r\n",
      "10.0.31.122 - - [23/Jan/2020:11:25:40 +0000] \"GET / HTTP/1.1\" 301 238 \"-\" \"ELB-HealthChecker/2.0\"\r\n",
      "10.0.31.122 - - [23/Jan/2020:11:25:42 +0000] \"GET / HTTP/1.1\" 301 238 \"-\" \"ELB-HealthChecker/2.0\"\r\n",
      "10.0.56.173 - - [23/Jan/2020:11:25:55 +0000] \"GET / HTTP/1.1\" 301 238 \"-\" \"ELB-HealthChecker/2.0\"\r\n",
      "10.0.31.122 - - [23/Jan/2020:11:25:57 +0000] \"GET / HTTP/1.1\" 301 238 \"-\" \"ELB-HealthChecker/2.0\"\r\n",
      "10.0.56.173 - - [23/Jan/2020:11:26:10 +0000] \"GET / HTTP/1.1\" 301 238 \"-\" \"ELB-HealthChecker/2.0\"\r\n",
      "10.0.31.122 - - [23/Jan/2020:11:26:13 +0000] \"GET / HTTP/1.1\" 301 238 \"-\" \"ELB-HealthChecker/2.0\"\r\n",
      "10.0.31.122 - - [23/Jan/2020:11:26:25 +0000] \"GET / HTTP/1.1\" 301 238 \"-\" \"ELB-HealthChecker/2.0\"\r\n",
      "10.0.31.122 - - [23/Jan/2020:11:26:28 +0000] \"GET / HTTP/1.1\" 301 238 \"-\" \"ELB-HealthChecker/2.0\"\r\n",
      "10.0.31.122 - - [23/Jan/2020:11:26:40 +0000] \"GET / HTTP/1.1\" 301 238 \"-\" \"ELB-HealthChecker/2.0\"\r\n",
      "10.0.56.173 - - [23/Jan/2020:11:26:40 +0000] \"GET / HTTP/1.1\" 301 238 \"-\" \"ELB-HealthChecker/2.0\"\r\n",
      "10.0.31.122 - - [23/Jan/2020:11:26:55 +0000] \"GET / HTTP/1.1\" 301 238 \"-\" \"ELB-HealthChecker/2.0\"\r\n",
      "10.0.56.173 - - [23/Jan/2020:11:26:55 +0000] \"GET / HTTP/1.1\" 301 238 \"-\" \"ELB-HealthChecker/2.0\"\r\n",
      "10.0.31.122 - - [23/Jan/2020:11:26:58 +0000] \"GET / HTTP/1.1\" 301 238 \"-\" \"ELB-HealthChecker/2.0\"\r\n",
      "10.0.56.173 - - [23/Jan/2020:11:26:58 +0000] \"GET / HTTP/1.1\" 301 238 \"-\" \"ELB-HealthChecker/2.0\"\r\n",
      "10.0.56.173 - - [23/Jan/2020:11:27:10 +0000] \"GET / HTTP/1.1\" 301 238 \"-\" \"ELB-HealthChecker/2.0\"\r\n",
      "10.0.56.173 - - [23/Jan/2020:11:27:13 +0000] \"GET / HTTP/1.1\" 301 238 \"-\" \"ELB-HealthChecker/2.0\"\r\n",
      "10.0.56.173 - - [23/Jan/2020:11:27:25 +0000] \"GET / HTTP/1.1\" 301 238 \"-\" \"ELB-HealthChecker/2.0\"\r\n",
      "10.0.31.122 - - [23/Jan/2020:11:27:28 +0000] \"GET / HTTP/1.1\" 301 238 \"-\" \"ELB-HealthChecker/2.0\"\r\n",
      "10.0.56.173 - - [23/Jan/2020:11:27:40 +0000] \"GET / HTTP/1.1\" 301 238 \"-\" \"ELB-HealthChecker/2.0\"\r\n",
      "10.0.31.122 - - [23/Jan/2020:11:27:40 +0000] \"GET / HTTP/1.1\" 301 238 \"-\" \"ELB-HealthChecker/2.0\"\r\n",
      "10.0.56.173 - - [23/Jan/2020:11:27:55 +0000] \"GET / HTTP/1.1\" 301 238 \"-\" \"ELB-HealthChecker/2.0\"\r\n",
      "10.0.31.122 - - [23/Jan/2020:11:27:55 +0000] \"GET / HTTP/1.1\" 301 238 \"-\" \"ELB-HealthChecker/2.0\"\r\n",
      "10.0.56.173 - - [23/Jan/2020:11:27:58 +0000] \"GET / HTTP/1.1\" 301 238 \"-\" \"ELB-HealthChecker/2.0\"\r\n",
      "10.0.56.173 - - [23/Jan/2020:11:28:25 +0000] \"GET / HTTP/1.1\" 301 238 \"-\" \"ELB-HealthChecker/2.0\"\r\n",
      "10.0.31.122 - - [23/Jan/2020:11:28:28 +0000] \"GET / HTTP/1.1\" 301 238 \"-\" \"ELB-HealthChecker/2.0\"\r\n",
      "10.0.31.122 - - [23/Jan/2020:11:28:43 +0000] \"GET / HTTP/1.1\" 301 238 \"-\" \"ELB-HealthChecker/2.0\"\r\n",
      "10.0.56.173 - - [23/Jan/2020:11:28:58 +0000] \"GET / HTTP/1.1\" 301 238 \"-\" \"ELB-HealthChecker/2.0\"\r\n",
      "10.0.31.122 - - [23/Jan/2020:11:29:11 +0000] \"GET / HTTP/1.1\" 301 238 \"-\" \"ELB-HealthChecker/2.0\"\r\n",
      "10.0.31.122 - - [23/Jan/2020:11:29:13 +0000] \"GET / HTTP/1.1\" 301 238 \"-\" \"ELB-HealthChecker/2.0\"\r\n",
      "10.0.56.173 - - [23/Jan/2020:11:29:26 +0000] \"GET / HTTP/1.1\" 301 238 \"-\" \"ELB-HealthChecker/2.0\"\r\n",
      "10.0.31.122 - - [23/Jan/2020:11:29:28 +0000] \"GET / HTTP/1.1\" 301 238 \"-\" \"ELB-HealthChecker/2.0\"\r\n",
      "10.0.56.173 - - [23/Jan/2020:11:29:28 +0000] \"GET / HTTP/1.1\" 301 238 \"-\" \"ELB-HealthChecker/2.0\"\r\n",
      "10.0.56.173 - - [23/Jan/2020:11:29:41 +0000] \"GET / HTTP/1.1\" 301 238 \"-\" \"ELB-HealthChecker/2.0\"\r\n",
      "10.0.56.173 - - [23/Jan/2020:11:29:56 +0000] \"GET / HTTP/1.1\" 301 238 \"-\" \"ELB-HealthChecker/2.0\"\r\n",
      "10.0.31.122 - - [23/Jan/2020:11:29:56 +0000] \"GET / HTTP/1.1\" 301 238 \"-\" \"ELB-HealthChecker/2.0\"\r\n",
      "10.0.56.173 - - [23/Jan/2020:11:29:58 +0000] \"GET / HTTP/1.1\" 301 238 \"-\" \"ELB-HealthChecker/2.0\"\r\n",
      "10.0.56.173 - - [23/Jan/2020:11:30:26 +0000] \"GET / HTTP/1.1\" 301 238 \"-\" \"ELB-HealthChecker/2.0\"\r\n",
      "10.0.31.122 - - [23/Jan/2020:11:30:26 +0000] \"GET / HTTP/1.1\" 301 238 \"-\" \"ELB-HealthChecker/2.0\"\r\n",
      "10.0.31.122 - - [23/Jan/2020:11:30:28 +0000] \"GET / HTTP/1.1\" 301 238 \"-\" \"ELB-HealthChecker/2.0\"\r\n",
      "10.0.31.122 - - [23/Jan/2020:11:30:41 +0000] \"GET / HTTP/1.1\" 301 238 \"-\" \"ELB-HealthChecker/2.0\"\r\n",
      "10.0.56.173 - - [23/Jan/2020:11:30:41 +0000] \"GET / HTTP/1.1\" 301 238 \"-\" \"ELB-HealthChecker/2.0\"\r\n",
      "10.0.56.173 - - [23/Jan/2020:11:30:43 +0000] \"GET / HTTP/1.1\" 301 238 \"-\" \"ELB-HealthChecker/2.0\"\r\n",
      "10.0.31.122 - - [23/Jan/2020:11:30:58 +0000] \"GET / HTTP/1.1\" 301 238 \"-\" \"ELB-HealthChecker/2.0\"\r\n",
      "10.0.31.122 - - [23/Jan/2020:11:31:11 +0000] \"GET / HTTP/1.1\" 301 238 \"-\" \"ELB-HealthChecker/2.0\"\r\n",
      "10.0.31.122 - - [23/Jan/2020:11:31:13 +0000] \"GET / HTTP/1.1\" 301 238 \"-\" \"ELB-HealthChecker/2.0\"\r\n",
      "10.0.56.173 - - [23/Jan/2020:11:31:13 +0000] \"GET / HTTP/1.1\" 301 238 \"-\" \"ELB-HealthChecker/2.0\"\r\n",
      "10.0.56.173 - - [23/Jan/2020:11:31:26 +0000] \"GET / HTTP/1.1\" 301 238 \"-\" \"ELB-HealthChecker/2.0\"\r\n",
      "10.0.56.173 - - [23/Jan/2020:11:31:41 +0000] \"GET / HTTP/1.1\" 301 238 \"-\" \"ELB-HealthChecker/2.0\"\r\n",
      "10.0.31.122 - - [23/Jan/2020:11:31:43 +0000] \"GET / HTTP/1.1\" 301 238 \"-\" \"ELB-HealthChecker/2.0\"\r\n",
      "10.0.56.173 - - [23/Jan/2020:11:31:43 +0000] \"GET / HTTP/1.1\" 301 238 \"-\" \"ELB-HealthChecker/2.0\"\r\n",
      "10.0.31.122 - - [23/Jan/2020:11:31:58 +0000] \"GET / HTTP/1.1\" 301 238 \"-\" \"ELB-HealthChecker/2.0\"\r\n",
      "10.0.31.122 - - [23/Jan/2020:11:32:13 +0000] \"GET / HTTP/1.1\" 301 238 \"-\" \"ELB-HealthChecker/2.0\"\r\n",
      "10.0.31.122 - - [23/Jan/2020:11:32:28 +0000] \"GET / HTTP/1.1\" 301 238 \"-\" \"ELB-HealthChecker/2.0\"\r\n",
      "10.0.56.173 - - [23/Jan/2020:11:32:28 +0000] \"GET / HTTP/1.1\" 301 238 \"-\" \"ELB-HealthChecker/2.0\"\r\n",
      "10.0.56.173 - - [23/Jan/2020:11:32:41 +0000] \"GET / HTTP/1.1\" 301 238 \"-\" \"ELB-HealthChecker/2.0\"\r\n",
      "10.0.56.173 - - [23/Jan/2020:11:32:43 +0000] \"GET / HTTP/1.1\" 301 238 \"-\" \"ELB-HealthChecker/2.0\"\r\n",
      "10.0.31.122 - - [23/Jan/2020:11:32:56 +0000] \"GET / HTTP/1.1\" 301 238 \"-\" \"ELB-HealthChecker/2.0\"\r\n",
      "10.0.56.173 - - [23/Jan/2020:11:33:11 +0000] \"GET / HTTP/1.1\" 301 238 \"-\" \"ELB-HealthChecker/2.0\"\r\n",
      "10.0.31.122 - - [23/Jan/2020:11:33:13 +0000] \"GET / HTTP/1.1\" 301 238 \"-\" \"ELB-HealthChecker/2.0\"\r\n",
      "10.0.56.173 - - [23/Jan/2020:11:33:13 +0000] \"GET / HTTP/1.1\" 301 238 \"-\" \"ELB-HealthChecker/2.0\"\r\n",
      "10.0.31.122 - - [23/Jan/2020:11:33:26 +0000] \"GET / HTTP/1.1\" 301 238 \"-\" \"ELB-HealthChecker/2.0\"\r\n",
      "10.0.56.173 - - [23/Jan/2020:11:33:38 +0000] \"GET /wp-includes/js/wp-emoji-release.min.js?ver=4.8.3 HTTP/1.1\" 200 4619 \"http://13cebeb3-default-wordpress-9484-1478914130.us-west-2.elb.amazonaws.com/\" \"Mozilla/5.0 (Windows NT 10.0; Win64; x64) AppleWebKit/537.36 (KHTML, like Gecko) Chrome/78.0.3904.97 Safari/537.36\"\r\n",
      "10.0.56.173 - - [23/Jan/2020:11:33:39 +0000] \"GET /favicon.ico HTTP/1.1\" 200 173 \"http://13cebeb3-default-wordpress-9484-1478914130.us-west-2.elb.amazonaws.com/\" \"Mozilla/5.0 (Windows NT 10.0; Win64; x64) AppleWebKit/537.36 (KHTML, like Gecko) Chrome/78.0.3904.97 Safari/537.36\"\r\n",
      "10.0.31.122 - - [23/Jan/2020:11:33:41 +0000] \"GET / HTTP/1.1\" 301 238 \"-\" \"ELB-HealthChecker/2.0\"\r\n",
      "10.0.56.173 - - [23/Jan/2020:11:33:43 +0000] \"GET /wp-login.php HTTP/1.1\" 200 1594 \"http://13cebeb3-default-wordpress-9484-1478914130.us-west-2.elb.amazonaws.com/\" \"Mozilla/5.0 (Windows NT 10.0; Win64; x64) AppleWebKit/537.36 (KHTML, like Gecko) Chrome/78.0.3904.97 Safari/537.36\"\r\n",
      "10.0.56.173 - - [23/Jan/2020:11:33:43 +0000] \"GET /favicon.ico HTTP/1.1\" 200 173 \"http://13cebeb3-default-wordpress-9484-1478914130.us-west-2.elb.amazonaws.com/wp-login.php\" \"Mozilla/5.0 (Windows NT 10.0; Win64; x64) AppleWebKit/537.36 (KHTML, like Gecko) Chrome/78.0.3904.97 Safari/537.36\"\r\n",
      "10.0.31.122 - - [23/Jan/2020:11:33:58 +0000] \"GET / HTTP/1.1\" 301 238 \"-\" \"ELB-HealthChecker/2.0\"\r\n",
      "10.0.56.173 - - [23/Jan/2020:11:33:58 +0000] \"GET / HTTP/1.1\" 301 238 \"-\" \"ELB-HealthChecker/2.0\"\r\n",
      "10.0.56.173 - - [23/Jan/2020:11:34:01 +0000] \"GET /wp-admin/index.php HTTP/1.1\" 302 499 \"http://13cebeb3-default-wordpress-9484-1478914130.us-west-2.elb.amazonaws.com/wp-admin/\" \"Mozilla/5.0 (Windows NT 10.0; Win64; x64) AppleWebKit/537.36 (KHTML, like Gecko) Chrome/78.0.3904.97 Safari/537.36\"\r\n",
      "10.0.56.173 - - [23/Jan/2020:11:34:01 +0000] \"GET /wp-login.php?redirect_to=http%3A%2F%2F13cebeb3-default-wordpress-9484-1478914130.us-west-2.elb.amazonaws.com%2Fwp-admin%2Findex.php&reauth=1 HTTP/1.1\" 200 3633 \"http://13cebeb3-default-wordpress-9484-1478914130.us-west-2.elb.amazonaws.com/wp-admin/\" \"Mozilla/5.0 (Windows NT 10.0; Win64; x64) AppleWebKit/537.36 (KHTML, like Gecko) Chrome/78.0.3904.97 Safari/537.36\"\r\n",
      "10.0.56.173 - - [23/Jan/2020:11:34:02 +0000] \"GET /favicon.ico HTTP/1.1\" 200 173 \"http://13cebeb3-default-wordpress-9484-1478914130.us-west-2.elb.amazonaws.com/wp-login.php?redirect_to=http%3A%2F%2F13cebeb3-default-wordpress-9484-1478914130.us-west-2.elb.amazonaws.com%2Fwp-admin%2Findex.php&reauth=1\" \"Mozilla/5.0 (Windows NT 10.0; Win64; x64) AppleWebKit/537.36 (KHTML, like Gecko) Chrome/78.0.3904.97 Safari/537.36\"\r\n",
      "10.0.31.122 - - [23/Jan/2020:11:34:11 +0000] \"GET / HTTP/1.1\" 301 238 \"-\" \"ELB-HealthChecker/2.0\"\r\n",
      "10.0.31.122 - - [23/Jan/2020:11:34:13 +0000] \"GET / HTTP/1.1\" 301 238 \"-\" \"ELB-HealthChecker/2.0\"\r\n",
      "10.0.56.173 - - [23/Jan/2020:11:34:13 +0000] \"GET / HTTP/1.1\" 301 238 \"-\" \"ELB-HealthChecker/2.0\"\r\n",
      "10.0.56.173 - - [23/Jan/2020:11:34:15 +0000] \"POST /wp-login.php HTTP/1.1\" 302 1293 \"http://13cebeb3-default-wordpress-9484-1478914130.us-west-2.elb.amazonaws.com/wp-login.php\" \"Mozilla/5.0 (Windows NT 10.0; Win64; x64) AppleWebKit/537.36 (KHTML, like Gecko) Chrome/78.0.3904.97 Safari/537.36\"\r\n",
      "10.0.56.173 - - [23/Jan/2020:11:34:15 +0000] \"GET /wp-admin/index.php HTTP/1.1\" 200 15875 \"http://13cebeb3-default-wordpress-9484-1478914130.us-west-2.elb.amazonaws.com/wp-login.php\" \"Mozilla/5.0 (Windows NT 10.0; Win64; x64) AppleWebKit/537.36 (KHTML, like Gecko) Chrome/78.0.3904.97 Safari/537.36\"\r\n",
      "10.0.56.173 - - [23/Jan/2020:11:34:16 +0000] \"GET /favicon.ico HTTP/1.1\" 200 173 \"http://13cebeb3-default-wordpress-9484-1478914130.us-west-2.elb.amazonaws.com/wp-admin/index.php\" \"Mozilla/5.0 (Windows NT 10.0; Win64; x64) AppleWebKit/537.36 (KHTML, like Gecko) Chrome/78.0.3904.97 Safari/537.36\"\r\n",
      "10.0.31.122 - - [23/Jan/2020:11:34:26 +0000] \"GET / HTTP/1.1\" 301 238 \"-\" \"ELB-HealthChecker/2.0\"\r\n",
      "10.0.56.173 - - [23/Jan/2020:11:34:26 +0000] \"GET /wp-admin/edit.php?post_type=page HTTP/1.1\" 200 10456 \"http://13cebeb3-default-wordpress-9484-1478914130.us-west-2.elb.amazonaws.com/wp-admin/index.php\" \"Mozilla/5.0 (Windows NT 10.0; Win64; x64) AppleWebKit/537.36 (KHTML, like Gecko) Chrome/78.0.3904.97 Safari/537.36\"\r\n",
      "10.0.56.173 - - [23/Jan/2020:11:34:27 +0000] \"GET /wp-admin/load-scripts.php?c=1&load%5B%5D=hoverIntent,common,admin-bar,jquery-ui-core,jquery-ui-widget,jquery-ui-position,jquery-ui-menu,wp-a11y,jquery-ui-autocomplete,ta&load%5B%5D=gs-suggest,inline-edit-post,heartbeat,svg-painter,wp-auth-check&ver=4.8.3 HTTP/1.1\" 200 27302 \"http://13cebeb3-default-wordpress-9484-1478914130.us-west-2.elb.amazonaws.com/wp-admin/edit.php?post_type=page\" \"Mozilla/5.0 (Windows NT 10.0; Win64; x64) AppleWebKit/537.36 (KHTML, like Gecko) Chrome/78.0.3904.97 Safari/537.36\"\r\n",
      "10.0.56.173 - - [23/Jan/2020:11:34:27 +0000] \"POST /wp-admin/admin-ajax.php HTTP/1.1\" 200 554 \"http://13cebeb3-default-wordpress-9484-1478914130.us-west-2.elb.amazonaws.com/wp-admin/edit.php?post_type=page\" \"Mozilla/5.0 (Windows NT 10.0; Win64; x64) AppleWebKit/537.36 (KHTML, like Gecko) Chrome/78.0.3904.97 Safari/537.36\"\r\n",
      "10.0.56.173 - - [23/Jan/2020:11:34:28 +0000] \"GET / HTTP/1.1\" 301 238 \"-\" \"ELB-HealthChecker/2.0\"\r\n",
      "10.0.56.173 - - [23/Jan/2020:11:34:32 +0000] \"GET /wp-admin/post-new.php?post_type=page HTTP/1.1\" 200 26211 \"http://13cebeb3-default-wordpress-9484-1478914130.us-west-2.elb.amazonaws.com/wp-admin/edit.php?post_type=page\" \"Mozilla/5.0 (Windows NT 10.0; Win64; x64) AppleWebKit/537.36 (KHTML, like Gecko) Chrome/78.0.3904.97 Safari/537.36\"\r\n",
      "10.0.56.173 - - [23/Jan/2020:11:34:32 +0000] \"GET /wp-admin/load-scripts.php?c=1&load%5B%5D=hoverIntent,common,admin-bar,heartbeat,autosave,suggest,wp-ajax-response,jquery-color,wp-lists,jquery-ui-core,jquery-ui-widget,j&load%5B%5D=query-ui-mouse,jquery-ui-sortable,postbox,jquery-ui-position,jquery-ui-menu,wp-a11y,jquery-ui-autocomplete,tags-suggest,tags-box&load%5B%5D=,underscore,word-count,post,editor-expand,thickbox,shortcode,backbone,wp-util,wp-backbone,media-models,wp-plupload,mediaelement,&load%5B%5D=wp-mediaelement,media-views,media-editor,media-audiovideo,mce-view,imgareaselect,image-edit,svg-painter,wp-auth-check,editor,qui&load%5B%5D=cktags,wplink,media-upload,wp-embed&ver=4.8.3 HTTP/1.1\" 200 165799 \"http://13cebeb3-default-wordpress-9484-1478914130.us-west-2.elb.amazonaws.com/wp-admin/post-new.php?post_type=page\" \"Mozilla/5.0 (Windows NT 10.0; Win64; x64) AppleWebKit/537.36 (KHTML, like Gecko) Chrome/78.0.3904.97 Safari/537.36\"\r\n",
      "10.0.56.173 - - [23/Jan/2020:11:34:32 +0000] \"GET /wp-includes/js/mediaelement/wp-mediaelement.min.css?ver=4.8.3 HTTP/1.1\" 200 1415 \"http://13cebeb3-default-wordpress-9484-1478914130.us-west-2.elb.amazonaws.com/wp-admin/post-new.php?post_type=page\" \"Mozilla/5.0 (Windows NT 10.0; Win64; x64) AppleWebKit/537.36 (KHTML, like Gecko) Chrome/78.0.3904.97 Safari/537.36\"\r\n",
      "10.0.56.173 - - [23/Jan/2020:11:34:32 +0000] \"GET /wp-admin/load-styles.php?c=1&dir=ltr&load%5B%5D=dashicons,admin-bar,buttons,media-views,common,forms,admin-menu,dashboard,list-tables,edit,revisions,media,themes,about,nav-menu&load%5B%5D=s,wp-pointer,widgets,site-icon,l10n,wp-auth-check&ver=4.8.3 HTTP/1.1\" 200 103068 \"http://13cebeb3-default-wordpress-9484-1478914130.us-west-2.elb.amazonaws.com/wp-admin/post-new.php?post_type=page\" \"Mozilla/5.0 (Windows NT 10.0; Win64; x64) AppleWebKit/537.36 (KHTML, like Gecko) Chrome/78.0.3904.97 Safari/537.36\"\r\n",
      "10.0.56.173 - - [23/Jan/2020:11:34:33 +0000] \"GET /wp-includes/css/dashicons.min.css?ver=4.8.3&wp-mce-4603-20170530 HTTP/1.1\" 200 28895 \"http://13cebeb3-default-wordpress-9484-1478914130.us-west-2.elb.amazonaws.com/wp-admin/post-new.php?post_type=page\" \"Mozilla/5.0 (Windows NT 10.0; Win64; x64) AppleWebKit/537.36 (KHTML, like Gecko) Chrome/78.0.3904.97 Safari/537.36\"\r\n",
      "10.0.56.173 - - [23/Jan/2020:11:34:33 +0000] \"GET /wp-includes/js/tinymce/skins/wordpress/wp-content.css?ver=4.8.3&wp-mce-4603-20170530 HTTP/1.1\" 200 2996 \"http://13cebeb3-default-wordpress-9484-1478914130.us-west-2.elb.amazonaws.com/wp-admin/post-new.php?post_type=page\" \"Mozilla/5.0 (Windows NT 10.0; Win64; x64) AppleWebKit/537.36 (KHTML, like Gecko) Chrome/78.0.3904.97 Safari/537.36\"\r\n",
      "10.0.56.173 - - [23/Jan/2020:11:34:41 +0000] \"GET / HTTP/1.1\" 301 238 \"-\" \"ELB-HealthChecker/2.0\"\r\n",
      "10.0.31.122 - - [23/Jan/2020:11:34:43 +0000] \"GET / HTTP/1.1\" 301 238 \"-\" \"ELB-HealthChecker/2.0\"\r\n",
      "10.0.56.173 - - [23/Jan/2020:11:34:43 +0000] \"GET / HTTP/1.1\" 301 238 \"-\" \"ELB-HealthChecker/2.0\"\r\n",
      "10.0.56.173 - - [23/Jan/2020:11:34:44 +0000] \"POST /wp-admin/admin-ajax.php HTTP/1.1\" 200 625 \"http://13cebeb3-default-wordpress-9484-1478914130.us-west-2.elb.amazonaws.com/wp-admin/post-new.php?post_type=page\" \"Mozilla/5.0 (Windows NT 10.0; Win64; x64) AppleWebKit/537.36 (KHTML, like Gecko) Chrome/78.0.3904.97 Safari/537.36\"\r\n",
      "10.0.56.173 - - [23/Jan/2020:11:34:44 +0000] \"GET /index.php HTTP/1.1\" 301 276 \"-\" \"-\"\r\n",
      "10.0.56.173 - - [23/Jan/2020:11:34:44 +0000] \"POST /wp-admin/admin-ajax.php HTTP/1.1\" 200 865 \"http://13cebeb3-default-wordpress-9484-1478914130.us-west-2.elb.amazonaws.com/wp-admin/post-new.php?post_type=page\" \"Mozilla/5.0 (Windows NT 10.0; Win64; x64) AppleWebKit/537.36 (KHTML, like Gecko) Chrome/78.0.3904.97 Safari/537.36\"\r\n",
      "10.0.56.173 - - [23/Jan/2020:11:34:47 +0000] \"POST /wp-admin/admin-ajax.php HTTP/1.1\" 200 533 \"http://13cebeb3-default-wordpress-9484-1478914130.us-west-2.elb.amazonaws.com/wp-admin/post-new.php?post_type=page\" \"Mozilla/5.0 (Windows NT 10.0; Win64; x64) AppleWebKit/537.36 (KHTML, like Gecko) Chrome/78.0.3904.97 Safari/537.36\"\r\n",
      "10.0.56.173 - - [23/Jan/2020:11:34:50 +0000] \"POST /wp-admin/async-upload.php HTTP/1.1\" 200 994 \"http://13cebeb3-default-wordpress-9484-1478914130.us-west-2.elb.amazonaws.com/wp-admin/post-new.php?post_type=page\" \"Mozilla/5.0 (Windows NT 10.0; Win64; x64) AppleWebKit/537.36 (KHTML, like Gecko) Chrome/78.0.3904.97 Safari/537.36\"\r\n",
      "10.0.56.173 - - [23/Jan/2020:11:34:51 +0000] \"GET /wp-content/uploads/2020/01/eto_nezumi_daruma-150x150.png HTTP/1.1\" 200 22116 \"http://13cebeb3-default-wordpress-9484-1478914130.us-west-2.elb.amazonaws.com/wp-admin/post-new.php?post_type=page\" \"Mozilla/5.0 (Windows NT 10.0; Win64; x64) AppleWebKit/537.36 (KHTML, like Gecko) Chrome/78.0.3904.97 Safari/537.36\"\r\n",
      "10.0.56.173 - - [23/Jan/2020:11:34:58 +0000] \"GET / HTTP/1.1\" 301 238 \"-\" \"ELB-HealthChecker/2.0\"\r\n",
      "10.0.31.122 - - [23/Jan/2020:11:35:11 +0000] \"GET / HTTP/1.1\" 301 238 \"-\" \"ELB-HealthChecker/2.0\"\r\n",
      "10.0.56.173 - - [23/Jan/2020:11:35:11 +0000] \"GET / HTTP/1.1\" 301 238 \"-\" \"ELB-HealthChecker/2.0\"\r\n",
      "10.0.31.122 - - [23/Jan/2020:11:35:13 +0000] \"GET / HTTP/1.1\" 301 238 \"-\" \"ELB-HealthChecker/2.0\"\r\n",
      "10.0.31.122 - - [23/Jan/2020:11:35:26 +0000] \"GET / HTTP/1.1\" 301 238 \"-\" \"ELB-HealthChecker/2.0\"\r\n",
      "10.0.31.122 - - [23/Jan/2020:11:35:28 +0000] \"GET / HTTP/1.1\" 301 238 \"-\" \"ELB-HealthChecker/2.0\"\r\n",
      "10.0.56.173 - - [23/Jan/2020:11:35:28 +0000] \"GET / HTTP/1.1\" 301 238 \"-\" \"ELB-HealthChecker/2.0\"\r\n",
      "10.0.56.173 - - [23/Jan/2020:11:35:56 +0000] \"GET / HTTP/1.1\" 301 238 \"-\" \"ELB-HealthChecker/2.0\"\r\n",
      "10.0.31.122 - - [23/Jan/2020:11:35:56 +0000] \"GET / HTTP/1.1\" 301 238 \"-\" \"ELB-HealthChecker/2.0\"\r\n",
      "10.0.56.173 - - [23/Jan/2020:11:35:58 +0000] \"GET / HTTP/1.1\" 301 238 \"-\" \"ELB-HealthChecker/2.0\"\r\n",
      "10.0.31.122 - - [23/Jan/2020:11:35:58 +0000] \"GET / HTTP/1.1\" 301 238 \"-\" \"ELB-HealthChecker/2.0\"\r\n",
      "10.0.56.173 - - [23/Jan/2020:11:36:11 +0000] \"GET / HTTP/1.1\" 301 238 \"-\" \"ELB-HealthChecker/2.0\"\r\n",
      "10.0.31.122 - - [23/Jan/2020:11:36:13 +0000] \"GET / HTTP/1.1\" 301 238 \"-\" \"ELB-HealthChecker/2.0\"\r\n",
      "10.0.31.122 - - [23/Jan/2020:11:36:26 +0000] \"GET / HTTP/1.1\" 301 238 \"-\" \"ELB-HealthChecker/2.0\"\r\n",
      "10.0.56.173 - - [23/Jan/2020:11:36:32 +0000] \"POST /wp-admin/admin-ajax.php HTTP/1.1\" 200 523 \"http://13cebeb3-default-wordpress-9484-1478914130.us-west-2.elb.amazonaws.com/wp-admin/post-new.php?post_type=page\" \"Mozilla/5.0 (Windows NT 10.0; Win64; x64) AppleWebKit/537.36 (KHTML, like Gecko) Chrome/78.0.3904.97 Safari/537.36\"\r\n",
      "10.0.31.122 - - [23/Jan/2020:11:36:41 +0000] \"GET / HTTP/1.1\" 301 238 \"-\" \"ELB-HealthChecker/2.0\"\r\n",
      "10.0.56.173 - - [23/Jan/2020:11:36:48 +0000] \"POST /wp-admin/admin-ajax.php HTTP/1.1\" 200 625 \"http://13cebeb3-default-wordpress-9484-1478914130.us-west-2.elb.amazonaws.com/wp-admin/post-new.php?post_type=page\" \"Mozilla/5.0 (Windows NT 10.0; Win64; x64) AppleWebKit/537.36 (KHTML, like Gecko) Chrome/78.0.3904.97 Safari/537.36\"\r\n",
      "10.0.31.122 - - [23/Jan/2020:11:36:56 +0000] \"GET / HTTP/1.1\" 301 238 \"-\" \"ELB-HealthChecker/2.0\"\r\n",
      "10.0.56.173 - - [23/Jan/2020:11:36:56 +0000] \"GET / HTTP/1.1\" 301 238 \"-\" \"ELB-HealthChecker/2.0\"\r\n",
      "10.0.56.173 - - [23/Jan/2020:11:36:58 +0000] \"GET / HTTP/1.1\" 301 238 \"-\" \"ELB-HealthChecker/2.0\"\r\n",
      "10.0.56.173 - - [23/Jan/2020:11:37:11 +0000] \"GET / HTTP/1.1\" 301 238 \"-\" \"ELB-HealthChecker/2.0\"\r\n",
      "10.0.56.173 - - [23/Jan/2020:11:37:14 +0000] \"POST /wp-admin/async-upload.php HTTP/1.1\" 200 997 \"http://13cebeb3-default-wordpress-9484-1478914130.us-west-2.elb.amazonaws.com/wp-admin/post-new.php?post_type=page\" \"Mozilla/5.0 (Windows NT 10.0; Win64; x64) AppleWebKit/537.36 (KHTML, like Gecko) Chrome/78.0.3904.97 Safari/537.36\"\r\n",
      "10.0.56.173 - - [23/Jan/2020:11:37:14 +0000] \"GET /wp-content/uploads/2020/01/eto_nezumi_daruma-1-150x150.png HTTP/1.1\" 200 22116 \"http://13cebeb3-default-wordpress-9484-1478914130.us-west-2.elb.amazonaws.com/wp-admin/post-new.php?post_type=page\" \"Mozilla/5.0 (Windows NT 10.0; Win64; x64) AppleWebKit/537.36 (KHTML, like Gecko) Chrome/78.0.3904.97 Safari/537.36\"\r\n",
      "10.0.31.122 - - [23/Jan/2020:11:37:28 +0000] \"GET / HTTP/1.1\" 301 238 \"-\" \"ELB-HealthChecker/2.0\"\r\n",
      "10.0.56.173 - - [23/Jan/2020:11:37:38 +0000] \"POST /wp-admin/admin-ajax.php HTTP/1.1\" 200 1027 \"http://13cebeb3-default-wordpress-9484-1478914130.us-west-2.elb.amazonaws.com/wp-admin/post-new.php?post_type=page\" \"Mozilla/5.0 (Windows NT 10.0; Win64; x64) AppleWebKit/537.36 (KHTML, like Gecko) Chrome/78.0.3904.97 Safari/537.36\"\r\n",
      "10.0.56.173 - - [23/Jan/2020:11:37:41 +0000] \"GET / HTTP/1.1\" 301 238 \"-\" \"ELB-HealthChecker/2.0\"\r\n",
      "10.0.56.173 - - [23/Jan/2020:11:37:48 +0000] \"POST /wp-admin/admin-ajax.php HTTP/1.1\" 200 554 \"http://13cebeb3-default-wordpress-9484-1478914130.us-west-2.elb.amazonaws.com/wp-admin/post-new.php?post_type=page\" \"Mozilla/5.0 (Windows NT 10.0; Win64; x64) AppleWebKit/537.36 (KHTML, like Gecko) Chrome/78.0.3904.97 Safari/537.36\"\r\n",
      "10.0.56.173 - - [23/Jan/2020:11:37:49 +0000] \"POST /wp-admin/post.php HTTP/1.1\" 302 541 \"http://13cebeb3-default-wordpress-9484-1478914130.us-west-2.elb.amazonaws.com/wp-admin/post-new.php?post_type=page\" \"Mozilla/5.0 (Windows NT 10.0; Win64; x64) AppleWebKit/537.36 (KHTML, like Gecko) Chrome/78.0.3904.97 Safari/537.36\"\r\n",
      "10.0.56.173 - - [23/Jan/2020:11:37:50 +0000] \"GET /wp-admin/post.php?post=5&action=edit&message=10 HTTP/1.1\" 200 26694 \"http://13cebeb3-default-wordpress-9484-1478914130.us-west-2.elb.amazonaws.com/wp-admin/post-new.php?post_type=page\" \"Mozilla/5.0 (Windows NT 10.0; Win64; x64) AppleWebKit/537.36 (KHTML, like Gecko) Chrome/78.0.3904.97 Safari/537.36\"\r\n",
      "10.0.56.173 - - [23/Jan/2020:11:37:50 +0000] \"GET /wp-admin/load-scripts.php?c=1&load%5B%5D=hoverIntent,common,admin-bar,heartbeat,autosave,wp-ajax-response,jquery-color,wp-lists,quicktags,jquery-query,admin-comments,sug&load%5B%5D=gest,jquery-ui-core,jquery-ui-widget,jquery-ui-mouse,jquery-ui-sortable,postbox,jquery-ui-position,jquery-ui-menu,wp-a11y,jquery&load%5B%5D=-ui-autocomplete,tags-suggest,tags-box,underscore,word-count,post,editor-expand,thickbox,shortcode,backbone,wp-util,wp-backbone,&load%5B%5D=media-models,wp-plupload,mediaelement,wp-mediaelement,media-views,media-editor,media-audiovideo,mce-view,imgareaselect,image-edi&load%5B%5D=t,svg-painter,wp-auth-check,editor,wplink,media-upload,wp-embed&ver=4.8.3 HTTP/1.1\" 200 172733 \"http://13cebeb3-default-wordpress-9484-1478914130.us-west-2.elb.amazonaws.com/wp-admin/post.php?post=5&action=edit&message=10\" \"Mozilla/5.0 (Windows NT 10.0; Win64; x64) AppleWebKit/537.36 (KHTML, like Gecko) Chrome/78.0.3904.97 Safari/537.36\"\r\n",
      "10.0.56.173 - - [23/Jan/2020:11:37:51 +0000] \"GET /wp-admin/admin-ajax.php?action=oembed-cache&post=5 HTTP/1.1\" 200 352 \"http://13cebeb3-default-wordpress-9484-1478914130.us-west-2.elb.amazonaws.com/wp-admin/post.php?post=5&action=edit\" \"Mozilla/5.0 (Windows NT 10.0; Win64; x64) AppleWebKit/537.36 (KHTML, like Gecko) Chrome/78.0.3904.97 Safari/537.36\"\r\n",
      "10.0.56.173 - - [23/Jan/2020:11:37:51 +0000] \"GET /favicon.ico HTTP/1.1\" 200 173 \"http://13cebeb3-default-wordpress-9484-1478914130.us-west-2.elb.amazonaws.com/wp-admin/post.php?post=5&action=edit\" \"Mozilla/5.0 (Windows NT 10.0; Win64; x64) AppleWebKit/537.36 (KHTML, like Gecko) Chrome/78.0.3904.97 Safari/537.36\"\r\n",
      "10.0.56.173 - - [23/Jan/2020:11:37:53 +0000] \"POST /wp-admin/post.php HTTP/1.1\" 302 411 \"http://13cebeb3-default-wordpress-9484-1478914130.us-west-2.elb.amazonaws.com/wp-admin/post.php?post=5&action=edit\" \"Mozilla/5.0 (Windows NT 10.0; Win64; x64) AppleWebKit/537.36 (KHTML, like Gecko) Chrome/78.0.3904.97 Safari/537.36\"\r\n",
      "10.0.56.173 - - [23/Jan/2020:11:37:53 +0000] \"GET /?page_id=5&preview=true HTTP/1.1\" 200 19074 \"http://13cebeb3-default-wordpress-9484-1478914130.us-west-2.elb.amazonaws.com/wp-admin/post.php?post=5&action=edit\" \"Mozilla/5.0 (Windows NT 10.0; Win64; x64) AppleWebKit/537.36 (KHTML, like Gecko) Chrome/78.0.3904.97 Safari/537.36\"\r\n",
      "10.0.56.173 - - [23/Jan/2020:11:37:53 +0000] \"GET /wp-includes/js/admin-bar.min.js?ver=4.8.3 HTTP/1.1\" 200 2766 \"http://13cebeb3-default-wordpress-9484-1478914130.us-west-2.elb.amazonaws.com/?page_id=5&preview=true\" \"Mozilla/5.0 (Windows NT 10.0; Win64; x64) AppleWebKit/537.36 (KHTML, like Gecko) Chrome/78.0.3904.97 Safari/537.36\"\r\n",
      "10.0.56.173 - - [23/Jan/2020:11:37:53 +0000] \"GET /wp-includes/css/admin-bar.min.css?ver=4.8.3 HTTP/1.1\" 200 4159 \"http://13cebeb3-default-wordpress-9484-1478914130.us-west-2.elb.amazonaws.com/?page_id=5&preview=true\" \"Mozilla/5.0 (Windows NT 10.0; Win64; x64) AppleWebKit/537.36 (KHTML, like Gecko) Chrome/78.0.3904.97 Safari/537.36\"\r\n",
      "10.0.56.173 - - [23/Jan/2020:11:37:53 +0000] \"GET /favicon.ico HTTP/1.1\" 200 173 \"http://13cebeb3-default-wordpress-9484-1478914130.us-west-2.elb.amazonaws.com/?page_id=5&preview=true\" \"Mozilla/5.0 (Windows NT 10.0; Win64; x64) AppleWebKit/537.36 (KHTML, like Gecko) Chrome/78.0.3904.97 Safari/537.36\"\r\n",
      "10.0.31.122 - - [23/Jan/2020:11:37:56 +0000] \"GET / HTTP/1.1\" 301 238 \"-\" \"ELB-HealthChecker/2.0\"\r\n",
      "10.0.56.173 - - [23/Jan/2020:11:37:56 +0000] \"GET / HTTP/1.1\" 301 238 \"-\" \"ELB-HealthChecker/2.0\"\r\n",
      "10.0.56.173 - - [23/Jan/2020:11:37:58 +0000] \"GET / HTTP/1.1\" 301 238 \"-\" \"ELB-HealthChecker/2.0\"\r\n",
      "10.0.56.173 - - [23/Jan/2020:11:38:28 +0000] \"GET / HTTP/1.1\" 301 238 \"-\" \"ELB-HealthChecker/2.0\"\r\n",
      "10.0.56.173 - - [23/Jan/2020:11:38:41 +0000] \"GET / HTTP/1.1\" 301 238 \"-\" \"ELB-HealthChecker/2.0\"\r\n",
      "10.0.56.173 - - [23/Jan/2020:11:38:43 +0000] \"GET / HTTP/1.1\" 301 238 \"-\" \"ELB-HealthChecker/2.0\"\r\n",
      "10.0.56.173 - - [23/Jan/2020:11:38:51 +0000] \"POST /wp-admin/admin-ajax.php HTTP/1.1\" 200 554 \"http://13cebeb3-default-wordpress-9484-1478914130.us-west-2.elb.amazonaws.com/wp-admin/post.php?post=5&action=edit\" \"Mozilla/5.0 (Windows NT 10.0; Win64; x64) AppleWebKit/537.36 (KHTML, like Gecko) Chrome/78.0.3904.97 Safari/537.36\"\r\n",
      "10.0.56.173 - - [23/Jan/2020:11:38:56 +0000] \"GET / HTTP/1.1\" 301 238 \"-\" \"ELB-HealthChecker/2.0\"\r\n",
      "10.0.56.173 - - [23/Jan/2020:11:39:11 +0000] \"GET / HTTP/1.1\" 301 238 \"-\" \"ELB-HealthChecker/2.0\"\r\n"
     ]
    },
    {
     "name": "stdout",
     "output_type": "stream",
     "text": [
      "10.0.31.122 - - [23/Jan/2020:11:39:11 +0000] \"GET / HTTP/1.1\" 301 238 \"-\" \"ELB-HealthChecker/2.0\"\r\n",
      "10.0.31.122 - - [23/Jan/2020:11:39:13 +0000] \"GET / HTTP/1.1\" 301 238 \"-\" \"ELB-HealthChecker/2.0\"\r\n",
      "10.0.56.173 - - [23/Jan/2020:11:39:13 +0000] \"GET / HTTP/1.1\" 301 238 \"-\" \"ELB-HealthChecker/2.0\"\r\n",
      "10.0.31.122 - - [23/Jan/2020:11:39:26 +0000] \"GET / HTTP/1.1\" 301 238 \"-\" \"ELB-HealthChecker/2.0\"\r\n",
      "10.0.56.173 - - [23/Jan/2020:11:39:41 +0000] \"GET / HTTP/1.1\" 301 238 \"-\" \"ELB-HealthChecker/2.0\"\r\n",
      "10.0.56.173 - - [23/Jan/2020:11:39:43 +0000] \"GET / HTTP/1.1\" 301 238 \"-\" \"ELB-HealthChecker/2.0\"\r\n",
      "10.0.31.122 - - [23/Jan/2020:11:39:56 +0000] \"GET / HTTP/1.1\" 301 238 \"-\" \"ELB-HealthChecker/2.0\"\r\n",
      "10.0.56.173 - - [23/Jan/2020:11:40:11 +0000] \"GET / HTTP/1.1\" 301 238 \"-\" \"ELB-HealthChecker/2.0\"\r\n",
      "10.0.31.122 - - [23/Jan/2020:11:40:13 +0000] \"GET / HTTP/1.1\" 301 238 \"-\" \"ELB-HealthChecker/2.0\"\r\n",
      "10.0.31.122 - - [23/Jan/2020:11:40:19 +0000] \"GET / HTTP/1.1\" 200 53846 \"-\" \"Mozilla/5.0 (Macintosh; Intel Mac OS X 10_11_6) AppleWebKit/601.7.7 (KHTML, like Gecko) Version/9.1.2 Safari/601.7.7\"\r\n",
      "10.0.56.173 - - [23/Jan/2020:11:40:26 +0000] \"GET / HTTP/1.1\" 301 238 \"-\" \"ELB-HealthChecker/2.0\"\r\n",
      "10.0.56.173 - - [23/Jan/2020:11:40:28 +0000] \"GET / HTTP/1.1\" 301 238 \"-\" \"ELB-HealthChecker/2.0\"\r\n",
      "10.0.31.122 - - [23/Jan/2020:11:40:41 +0000] \"GET / HTTP/1.1\" 301 238 \"-\" \"ELB-HealthChecker/2.0\"\r\n",
      "10.0.56.173 - - [23/Jan/2020:11:40:41 +0000] \"GET / HTTP/1.1\" 301 238 \"-\" \"ELB-HealthChecker/2.0\"\r\n",
      "10.0.56.173 - - [23/Jan/2020:11:40:51 +0000] \"POST /wp-admin/admin-ajax.php HTTP/1.1\" 200 554 \"http://13cebeb3-default-wordpress-9484-1478914130.us-west-2.elb.amazonaws.com/wp-admin/post.php?post=5&action=edit\" \"Mozilla/5.0 (Windows NT 10.0; Win64; x64) AppleWebKit/537.36 (KHTML, like Gecko) Chrome/78.0.3904.97 Safari/537.36\"\r\n",
      "10.0.31.122 - - [23/Jan/2020:11:40:58 +0000] \"GET / HTTP/1.1\" 301 238 \"-\" \"ELB-HealthChecker/2.0\"\r\n",
      "10.0.31.122 - - [23/Jan/2020:11:41:11 +0000] \"GET / HTTP/1.1\" 301 238 \"-\" \"ELB-HealthChecker/2.0\"\r\n",
      "10.0.56.173 - - [23/Jan/2020:11:41:11 +0000] \"GET / HTTP/1.1\" 301 238 \"-\" \"ELB-HealthChecker/2.0\"\r\n",
      "10.0.31.122 - - [23/Jan/2020:11:41:13 +0000] \"GET / HTTP/1.1\" 301 238 \"-\" \"ELB-HealthChecker/2.0\"\r\n",
      "10.0.31.122 - - [23/Jan/2020:11:41:26 +0000] \"GET / HTTP/1.1\" 301 238 \"-\" \"ELB-HealthChecker/2.0\"\r\n",
      "10.0.56.173 - - [23/Jan/2020:11:41:26 +0000] \"GET / HTTP/1.1\" 301 238 \"-\" \"ELB-HealthChecker/2.0\"\r\n",
      "10.0.31.122 - - [23/Jan/2020:11:41:28 +0000] \"GET / HTTP/1.1\" 301 238 \"-\" \"ELB-HealthChecker/2.0\"\r\n",
      "10.0.56.173 - - [23/Jan/2020:11:41:39 +0000] \"POST /wp-admin/admin-ajax.php HTTP/1.1\" 200 500 \"http://13cebeb3-default-wordpress-9484-1478914130.us-west-2.elb.amazonaws.com/wp-admin/post.php?post=5&action=edit\" \"Mozilla/5.0 (Windows NT 10.0; Win64; x64) AppleWebKit/537.36 (KHTML, like Gecko) Chrome/78.0.3904.97 Safari/537.36\"\r\n",
      "10.0.56.173 - - [23/Jan/2020:11:41:41 +0000] \"GET / HTTP/1.1\" 301 238 \"-\" \"ELB-HealthChecker/2.0\"\r\n",
      "10.0.31.122 - - [23/Jan/2020:11:41:43 +0000] \"GET / HTTP/1.1\" 301 238 \"-\" \"ELB-HealthChecker/2.0\"\r\n",
      "10.0.31.122 - - [23/Jan/2020:11:41:56 +0000] \"GET / HTTP/1.1\" 301 238 \"-\" \"ELB-HealthChecker/2.0\"\r\n",
      "10.0.31.122 - - [23/Jan/2020:11:41:58 +0000] \"GET / HTTP/1.1\" 301 238 \"-\" \"ELB-HealthChecker/2.0\"\r\n",
      "10.0.56.173 - - [23/Jan/2020:11:41:58 +0000] \"GET / HTTP/1.1\" 301 238 \"-\" \"ELB-HealthChecker/2.0\"\r\n",
      "10.0.56.173 - - [23/Jan/2020:11:42:00 +0000] \"GET / HTTP/1.1\" 200 19785 \"-\" \"Mozilla/5.0 (Windows NT 10.0; Win64; x64) AppleWebKit/537.36 (KHTML, like Gecko) Chrome/78.0.3904.97 Safari/537.36\"\r\n",
      "10.0.56.173 - - [23/Jan/2020:11:42:00 +0000] \"GET /favicon.ico HTTP/1.1\" 200 173 \"http://13cebeb3-default-wordpress-9484-1478914130.us-west-2.elb.amazonaws.com/\" \"Mozilla/5.0 (Windows NT 10.0; Win64; x64) AppleWebKit/537.36 (KHTML, like Gecko) Chrome/78.0.3904.97 Safari/537.36\"\r\n",
      "10.0.56.173 - - [23/Jan/2020:11:42:08 +0000] \"GET /wp-admin/ HTTP/1.1\" 200 15865 \"http://13cebeb3-default-wordpress-9484-1478914130.us-west-2.elb.amazonaws.com/\" \"Mozilla/5.0 (Windows NT 10.0; Win64; x64) AppleWebKit/537.36 (KHTML, like Gecko) Chrome/78.0.3904.97 Safari/537.36\"\r\n",
      "10.0.56.173 - - [23/Jan/2020:11:42:09 +0000] \"GET /favicon.ico HTTP/1.1\" 200 173 \"http://13cebeb3-default-wordpress-9484-1478914130.us-west-2.elb.amazonaws.com/wp-admin/\" \"Mozilla/5.0 (Windows NT 10.0; Win64; x64) AppleWebKit/537.36 (KHTML, like Gecko) Chrome/78.0.3904.97 Safari/537.36\"\r\n",
      "10.0.56.173 - - [23/Jan/2020:11:42:12 +0000] \"GET /wp-admin/edit.php?post_type=page HTTP/1.1\" 200 10710 \"http://13cebeb3-default-wordpress-9484-1478914130.us-west-2.elb.amazonaws.com/wp-admin/\" \"Mozilla/5.0 (Windows NT 10.0; Win64; x64) AppleWebKit/537.36 (KHTML, like Gecko) Chrome/78.0.3904.97 Safari/537.36\"\r\n",
      "10.0.56.173 - - [23/Jan/2020:11:42:12 +0000] \"POST /wp-admin/admin-ajax.php HTTP/1.1\" 200 554 \"http://13cebeb3-default-wordpress-9484-1478914130.us-west-2.elb.amazonaws.com/wp-admin/edit.php?post_type=page\" \"Mozilla/5.0 (Windows NT 10.0; Win64; x64) AppleWebKit/537.36 (KHTML, like Gecko) Chrome/78.0.3904.97 Safari/537.36\"\r\n",
      "10.0.56.173 - - [23/Jan/2020:11:42:13 +0000] \"GET / HTTP/1.1\" 301 238 \"-\" \"ELB-HealthChecker/2.0\"\r\n",
      "10.0.31.122 - - [23/Jan/2020:11:42:26 +0000] \"GET / HTTP/1.1\" 301 238 \"-\" \"ELB-HealthChecker/2.0\"\r\n",
      "10.0.56.173 - - [23/Jan/2020:11:42:26 +0000] \"GET / HTTP/1.1\" 301 238 \"-\" \"ELB-HealthChecker/2.0\"\r\n",
      "10.0.31.122 - - [23/Jan/2020:11:42:28 +0000] \"GET / HTTP/1.1\" 301 238 \"-\" \"ELB-HealthChecker/2.0\"\r\n",
      "10.0.56.173 - - [23/Jan/2020:11:42:40 +0000] \"POST /wp-admin/admin-ajax.php HTTP/1.1\" 200 500 \"http://13cebeb3-default-wordpress-9484-1478914130.us-west-2.elb.amazonaws.com/wp-admin/post.php?post=5&action=edit\" \"Mozilla/5.0 (Windows NT 10.0; Win64; x64) AppleWebKit/537.36 (KHTML, like Gecko) Chrome/78.0.3904.97 Safari/537.36\"\r\n",
      "10.0.56.173 - - [23/Jan/2020:11:42:41 +0000] \"POST /wp-admin/admin-ajax.php HTTP/1.1\" 200 500 \"http://13cebeb3-default-wordpress-9484-1478914130.us-west-2.elb.amazonaws.com/wp-admin/post.php?post=5&action=edit\" \"Mozilla/5.0 (Windows NT 10.0; Win64; x64) AppleWebKit/537.36 (KHTML, like Gecko) Chrome/78.0.3904.97 Safari/537.36\"\r\n",
      "10.0.31.122 - - [23/Jan/2020:11:42:41 +0000] \"GET / HTTP/1.1\" 301 238 \"-\" \"ELB-HealthChecker/2.0\"\r\n",
      "10.0.56.173 - - [23/Jan/2020:11:42:42 +0000] \"POST /wp-admin/admin-ajax.php HTTP/1.1\" 200 500 \"http://13cebeb3-default-wordpress-9484-1478914130.us-west-2.elb.amazonaws.com/wp-admin/post.php?post=5&action=edit\" \"Mozilla/5.0 (Windows NT 10.0; Win64; x64) AppleWebKit/537.36 (KHTML, like Gecko) Chrome/78.0.3904.97 Safari/537.36\"\r\n",
      "10.0.56.173 - - [23/Jan/2020:11:42:42 +0000] \"POST /wp-admin/admin-ajax.php HTTP/1.1\" 200 500 \"http://13cebeb3-default-wordpress-9484-1478914130.us-west-2.elb.amazonaws.com/wp-admin/post.php?post=5&action=edit\" \"Mozilla/5.0 (Windows NT 10.0; Win64; x64) AppleWebKit/537.36 (KHTML, like Gecko) Chrome/78.0.3904.97 Safari/537.36\"\r\n",
      "10.0.31.122 - - [23/Jan/2020:11:42:43 +0000] \"GET / HTTP/1.1\" 301 238 \"-\" \"ELB-HealthChecker/2.0\"\r\n",
      "10.0.56.173 - - [23/Jan/2020:11:42:50 +0000] \"POST /wp-admin/admin-ajax.php HTTP/1.1\" 200 500 \"http://13cebeb3-default-wordpress-9484-1478914130.us-west-2.elb.amazonaws.com/wp-admin/post.php?post=5&action=edit\" \"Mozilla/5.0 (Windows NT 10.0; Win64; x64) AppleWebKit/537.36 (KHTML, like Gecko) Chrome/78.0.3904.97 Safari/537.36\"\r\n",
      "10.0.31.122 - - [23/Jan/2020:11:42:56 +0000] \"GET / HTTP/1.1\" 301 238 \"-\" \"ELB-HealthChecker/2.0\"\r\n",
      "10.0.56.173 - - [23/Jan/2020:11:42:56 +0000] \"GET / HTTP/1.1\" 301 238 \"-\" \"ELB-HealthChecker/2.0\"\r\n",
      "10.0.56.173 - - [23/Jan/2020:11:43:11 +0000] \"GET / HTTP/1.1\" 301 238 \"-\" \"ELB-HealthChecker/2.0\"\r\n",
      "10.0.31.122 - - [23/Jan/2020:11:43:11 +0000] \"GET / HTTP/1.1\" 301 238 \"-\" \"ELB-HealthChecker/2.0\"\r\n",
      "10.0.31.122 - - [23/Jan/2020:11:43:13 +0000] \"GET / HTTP/1.1\" 301 238 \"-\" \"ELB-HealthChecker/2.0\"\r\n",
      "10.0.56.173 - - [23/Jan/2020:11:43:13 +0000] \"GET / HTTP/1.1\" 301 238 \"-\" \"ELB-HealthChecker/2.0\"\r\n",
      "10.0.56.173 - - [23/Jan/2020:11:43:17 +0000] \"POST /wp-admin/admin-ajax.php HTTP/1.1\" 200 500 \"http://13cebeb3-default-wordpress-9484-1478914130.us-west-2.elb.amazonaws.com/wp-admin/post.php?post=5&action=edit\" \"Mozilla/5.0 (Windows NT 10.0; Win64; x64) AppleWebKit/537.36 (KHTML, like Gecko) Chrome/78.0.3904.97 Safari/537.36\"\r\n",
      "10.0.56.173 - - [23/Jan/2020:11:43:21 +0000] \"POST /wp-admin/admin-ajax.php HTTP/1.1\" 200 500 \"http://13cebeb3-default-wordpress-9484-1478914130.us-west-2.elb.amazonaws.com/wp-admin/post.php?post=5&action=edit\" \"Mozilla/5.0 (Windows NT 10.0; Win64; x64) AppleWebKit/537.36 (KHTML, like Gecko) Chrome/78.0.3904.97 Safari/537.36\"\r\n",
      "10.0.56.173 - - [23/Jan/2020:11:43:24 +0000] \"POST /wp-admin/admin-ajax.php HTTP/1.1\" 200 555 \"http://13cebeb3-default-wordpress-9484-1478914130.us-west-2.elb.amazonaws.com/wp-admin/post.php?post=5&action=edit\" \"Mozilla/5.0 (Windows NT 10.0; Win64; x64) AppleWebKit/537.36 (KHTML, like Gecko) Chrome/78.0.3904.97 Safari/537.36\"\r\n",
      "10.0.56.173 - - [23/Jan/2020:11:43:24 +0000] \"GET /wp-login.php?interim-login=1 HTTP/1.1\" 200 1720 \"http://13cebeb3-default-wordpress-9484-1478914130.us-west-2.elb.amazonaws.com/wp-admin/post.php?post=5&action=edit\" \"Mozilla/5.0 (Windows NT 10.0; Win64; x64) AppleWebKit/537.36 (KHTML, like Gecko) Chrome/78.0.3904.97 Safari/537.36\"\r\n",
      "10.0.56.173 - - [23/Jan/2020:11:43:28 +0000] \"GET / HTTP/1.1\" 301 238 \"-\" \"ELB-HealthChecker/2.0\"\r\n",
      "10.0.31.122 - - [23/Jan/2020:11:43:41 +0000] \"GET / HTTP/1.1\" 301 238 \"-\" \"ELB-HealthChecker/2.0\"\r\n",
      "10.0.56.173 - - [23/Jan/2020:11:43:56 +0000] \"GET / HTTP/1.1\" 301 238 \"-\" \"ELB-HealthChecker/2.0\"\r\n",
      "10.0.31.122 - - [23/Jan/2020:11:43:58 +0000] \"GET / HTTP/1.1\" 301 238 \"-\" \"ELB-HealthChecker/2.0\"\r\n",
      "10.0.56.173 - - [23/Jan/2020:11:44:11 +0000] \"GET / HTTP/1.1\" 301 238 \"-\" \"ELB-HealthChecker/2.0\"\r\n",
      "10.0.56.173 - - [23/Jan/2020:11:44:14 +0000] \"GET / HTTP/1.1\" 301 238 \"-\" \"ELB-HealthChecker/2.0\"\r\n",
      "10.0.31.122 - - [23/Jan/2020:11:44:13 +0000] \"GET / HTTP/1.1\" 301 238 \"-\" \"ELB-HealthChecker/2.0\"\r\n",
      "10.0.31.122 - - [23/Jan/2020:11:44:26 +0000] \"GET / HTTP/1.1\" 301 238 \"-\" \"ELB-HealthChecker/2.0\"\r\n",
      "10.0.56.173 - - [23/Jan/2020:11:44:41 +0000] \"GET / HTTP/1.1\" 301 238 \"-\" \"ELB-HealthChecker/2.0\"\r\n",
      "10.0.31.122 - - [23/Jan/2020:11:44:41 +0000] \"GET / HTTP/1.1\" 301 238 \"-\" \"ELB-HealthChecker/2.0\"\r\n",
      "10.0.31.122 - - [23/Jan/2020:11:44:59 +0000] \"GET / HTTP/1.1\" 301 238 \"-\" \"ELB-HealthChecker/2.0\"\r\n",
      "10.0.31.122 - - [23/Jan/2020:11:45:11 +0000] \"GET / HTTP/1.1\" 301 238 \"-\" \"ELB-HealthChecker/2.0\"\r\n",
      "10.0.31.122 - - [23/Jan/2020:11:45:14 +0000] \"GET / HTTP/1.1\" 301 238 \"-\" \"ELB-HealthChecker/2.0\"\r\n",
      "10.0.56.173 - - [23/Jan/2020:11:45:14 +0000] \"GET / HTTP/1.1\" 301 238 \"-\" \"ELB-HealthChecker/2.0\"\r\n",
      "10.0.31.122 - - [23/Jan/2020:11:45:29 +0000] \"GET / HTTP/1.1\" 301 238 \"-\" \"ELB-HealthChecker/2.0\"\r\n",
      "10.0.31.122 - - [23/Jan/2020:11:45:41 +0000] \"GET / HTTP/1.1\" 301 238 \"-\" \"ELB-HealthChecker/2.0\"\r\n",
      "10.0.56.173 - - [23/Jan/2020:11:45:44 +0000] \"GET / HTTP/1.1\" 301 238 \"-\" \"ELB-HealthChecker/2.0\"\r\n",
      "10.0.31.122 - - [23/Jan/2020:11:45:44 +0000] \"GET / HTTP/1.1\" 301 238 \"-\" \"ELB-HealthChecker/2.0\"\r\n",
      "10.0.56.173 - - [23/Jan/2020:11:45:56 +0000] \"GET / HTTP/1.1\" 301 238 \"-\" \"ELB-HealthChecker/2.0\"\r\n",
      "10.0.31.122 - - [23/Jan/2020:11:45:59 +0000] \"GET / HTTP/1.1\" 301 238 \"-\" \"ELB-HealthChecker/2.0\"\r\n",
      "10.0.56.173 - - [23/Jan/2020:11:46:11 +0000] \"GET / HTTP/1.1\" 301 238 \"-\" \"ELB-HealthChecker/2.0\"\r\n",
      "10.0.31.122 - - [23/Jan/2020:11:46:14 +0000] \"GET / HTTP/1.1\" 301 238 \"-\" \"ELB-HealthChecker/2.0\"\r\n",
      "10.0.31.122 - - [23/Jan/2020:11:46:26 +0000] \"GET / HTTP/1.1\" 301 238 \"-\" \"ELB-HealthChecker/2.0\"\r\n",
      "10.0.31.122 - - [23/Jan/2020:11:46:29 +0000] \"GET / HTTP/1.1\" 301 238 \"-\" \"ELB-HealthChecker/2.0\"\r\n",
      "10.0.56.173 - - [23/Jan/2020:11:46:29 +0000] \"GET / HTTP/1.1\" 301 238 \"-\" \"ELB-HealthChecker/2.0\"\r\n",
      "10.0.31.122 - - [23/Jan/2020:11:46:41 +0000] \"GET / HTTP/1.1\" 301 238 \"-\" \"ELB-HealthChecker/2.0\"\r\n",
      "10.0.31.122 - - [23/Jan/2020:11:46:44 +0000] \"GET / HTTP/1.1\" 301 238 \"-\" \"ELB-HealthChecker/2.0\"\r\n",
      "10.0.31.122 - - [23/Jan/2020:11:46:56 +0000] \"GET / HTTP/1.1\" 301 238 \"-\" \"ELB-HealthChecker/2.0\"\r\n",
      "10.0.56.173 - - [23/Jan/2020:11:46:56 +0000] \"GET / HTTP/1.1\" 301 238 \"-\" \"ELB-HealthChecker/2.0\"\r\n",
      "10.0.31.122 - - [23/Jan/2020:11:46:59 +0000] \"GET / HTTP/1.1\" 301 238 \"-\" \"ELB-HealthChecker/2.0\"\r\n",
      "10.0.56.173 - - [23/Jan/2020:11:47:11 +0000] \"GET / HTTP/1.1\" 301 238 \"-\" \"ELB-HealthChecker/2.0\"\r\n",
      "10.0.31.122 - - [23/Jan/2020:11:47:11 +0000] \"GET / HTTP/1.1\" 301 238 \"-\" \"ELB-HealthChecker/2.0\"\r\n",
      "10.0.56.173 - - [23/Jan/2020:11:47:16 +0000] \"POST /wp-admin/post.php HTTP/1.1\" 302 498 \"http://13cebeb3-default-wordpress-9484-1478914130.us-west-2.elb.amazonaws.com/wp-admin/post.php?post=5&action=edit\" \"Mozilla/5.0 (Windows NT 10.0; Win64; x64) AppleWebKit/537.36 (KHTML, like Gecko) Chrome/78.0.3904.97 Safari/537.36\"\r\n",
      "10.0.56.173 - - [23/Jan/2020:11:47:16 +0000] \"GET /wp-login.php?redirect_to=http%3A%2F%2F13cebeb3-default-wordpress-9484-1478914130.us-west-2.elb.amazonaws.com%2Fwp-admin%2Fpost.php&reauth=1 HTTP/1.1\" 200 3632 \"http://13cebeb3-default-wordpress-9484-1478914130.us-west-2.elb.amazonaws.com/wp-admin/post.php?post=5&action=edit\" \"Mozilla/5.0 (Windows NT 10.0; Win64; x64) AppleWebKit/537.36 (KHTML, like Gecko) Chrome/78.0.3904.97 Safari/537.36\"\r\n",
      "10.0.56.173 - - [23/Jan/2020:11:47:16 +0000] \"GET /favicon.ico HTTP/1.1\" 200 173 \"http://13cebeb3-default-wordpress-9484-1478914130.us-west-2.elb.amazonaws.com/wp-login.php?redirect_to=http%3A%2F%2F13cebeb3-default-wordpress-9484-1478914130.us-west-2.elb.amazonaws.com%2Fwp-admin%2Fpost.php&reauth=1\" \"Mozilla/5.0 (Windows NT 10.0; Win64; x64) AppleWebKit/537.36 (KHTML, like Gecko) Chrome/78.0.3904.97 Safari/537.36\"\r\n",
      "10.0.56.173 - - [23/Jan/2020:11:47:23 +0000] \"POST /wp-login.php HTTP/1.1\" 200 1984 \"http://13cebeb3-default-wordpress-9484-1478914130.us-west-2.elb.amazonaws.com/wp-login.php?redirect_to=http%3A%2F%2F13cebeb3-default-wordpress-9484-1478914130.us-west-2.elb.amazonaws.com%2Fwp-admin%2Fpost.php&reauth=1\" \"Mozilla/5.0 (Windows NT 10.0; Win64; x64) AppleWebKit/537.36 (KHTML, like Gecko) Chrome/78.0.3904.97 Safari/537.36\"\r\n",
      "10.0.56.173 - - [23/Jan/2020:11:47:23 +0000] \"GET /favicon.ico HTTP/1.1\" 200 173 \"http://13cebeb3-default-wordpress-9484-1478914130.us-west-2.elb.amazonaws.com/wp-login.php\" \"Mozilla/5.0 (Windows NT 10.0; Win64; x64) AppleWebKit/537.36 (KHTML, like Gecko) Chrome/78.0.3904.97 Safari/537.36\"\r\n",
      "10.0.56.173 - - [23/Jan/2020:11:47:26 +0000] \"GET / HTTP/1.1\" 301 238 \"-\" \"ELB-HealthChecker/2.0\"\r\n",
      "10.0.31.122 - - [23/Jan/2020:11:47:26 +0000] \"GET / HTTP/1.1\" 301 238 \"-\" \"ELB-HealthChecker/2.0\"\r\n",
      "10.0.31.122 - - [23/Jan/2020:11:47:29 +0000] \"GET / HTTP/1.1\" 301 238 \"-\" \"ELB-HealthChecker/2.0\"\r\n",
      "10.0.56.173 - - [23/Jan/2020:11:47:34 +0000] \"POST /wp-login.php HTTP/1.1\" 302 1124 \"http://13cebeb3-default-wordpress-9484-1478914130.us-west-2.elb.amazonaws.com/wp-login.php\" \"Mozilla/5.0 (Windows NT 10.0; Win64; x64) AppleWebKit/537.36 (KHTML, like Gecko) Chrome/78.0.3904.97 Safari/537.36\"\r\n",
      "10.0.56.173 - - [23/Jan/2020:11:47:34 +0000] \"GET /wp-admin/post.php HTTP/1.1\" 302 405 \"http://13cebeb3-default-wordpress-9484-1478914130.us-west-2.elb.amazonaws.com/wp-login.php\" \"Mozilla/5.0 (Windows NT 10.0; Win64; x64) AppleWebKit/537.36 (KHTML, like Gecko) Chrome/78.0.3904.97 Safari/537.36\"\r\n",
      "10.0.56.173 - - [23/Jan/2020:11:47:34 +0000] \"GET /wp-admin/edit.php HTTP/1.1\" 200 11870 \"http://13cebeb3-default-wordpress-9484-1478914130.us-west-2.elb.amazonaws.com/wp-login.php\" \"Mozilla/5.0 (Windows NT 10.0; Win64; x64) AppleWebKit/537.36 (KHTML, like Gecko) Chrome/78.0.3904.97 Safari/537.36\"\r\n",
      "10.0.56.173 - - [23/Jan/2020:11:47:34 +0000] \"GET /favicon.ico HTTP/1.1\" 200 173 \"http://13cebeb3-default-wordpress-9484-1478914130.us-west-2.elb.amazonaws.com/wp-admin/edit.php\" \"Mozilla/5.0 (Windows NT 10.0; Win64; x64) AppleWebKit/537.36 (KHTML, like Gecko) Chrome/78.0.3904.97 Safari/537.36\"\r\n",
      "10.0.56.173 - - [23/Jan/2020:11:47:34 +0000] \"POST /wp-admin/admin-ajax.php HTTP/1.1\" 200 554 \"http://13cebeb3-default-wordpress-9484-1478914130.us-west-2.elb.amazonaws.com/wp-admin/edit.php\" \"Mozilla/5.0 (Windows NT 10.0; Win64; x64) AppleWebKit/537.36 (KHTML, like Gecko) Chrome/78.0.3904.97 Safari/537.36\"\r\n",
      "10.0.56.173 - - [23/Jan/2020:11:47:37 +0000] \"GET /wp-admin/post.php?post=4&action=edit HTTP/1.1\" 200 28734 \"http://13cebeb3-default-wordpress-9484-1478914130.us-west-2.elb.amazonaws.com/wp-admin/edit.php\" \"Mozilla/5.0 (Windows NT 10.0; Win64; x64) AppleWebKit/537.36 (KHTML, like Gecko) Chrome/78.0.3904.97 Safari/537.36\"\r\n",
      "10.0.56.173 - - [23/Jan/2020:11:47:37 +0000] \"GET /favicon.ico HTTP/1.1\" 200 173 \"http://13cebeb3-default-wordpress-9484-1478914130.us-west-2.elb.amazonaws.com/wp-admin/post.php?post=4&action=edit\" \"Mozilla/5.0 (Windows NT 10.0; Win64; x64) AppleWebKit/537.36 (KHTML, like Gecko) Chrome/78.0.3904.97 Safari/537.36\"\r\n",
      "10.0.31.122 - - [23/Jan/2020:11:47:41 +0000] \"GET / HTTP/1.1\" 301 238 \"-\" \"ELB-HealthChecker/2.0\"\r\n",
      "10.0.56.173 - - [23/Jan/2020:11:47:41 +0000] \"GET / HTTP/1.1\" 301 238 \"-\" \"ELB-HealthChecker/2.0\"\r\n",
      "10.0.31.122 - - [23/Jan/2020:11:47:44 +0000] \"GET / HTTP/1.1\" 301 238 \"-\" \"ELB-HealthChecker/2.0\"\r\n",
      "10.0.56.173 - - [23/Jan/2020:11:47:56 +0000] \"GET / HTTP/1.1\" 301 238 \"-\" \"ELB-HealthChecker/2.0\"\r\n",
      "10.0.31.122 - - [23/Jan/2020:11:47:56 +0000] \"GET / HTTP/1.1\" 301 238 \"-\" \"ELB-HealthChecker/2.0\"\r\n",
      "10.0.31.122 - - [23/Jan/2020:11:47:59 +0000] \"GET / HTTP/1.1\" 301 238 \"-\" \"ELB-HealthChecker/2.0\"\r\n",
      "10.0.56.173 - - [23/Jan/2020:11:48:11 +0000] \"GET / HTTP/1.1\" 301 238 \"-\" \"ELB-HealthChecker/2.0\"\r\n",
      "10.0.31.122 - - [23/Jan/2020:11:48:14 +0000] \"GET / HTTP/1.1\" 301 238 \"-\" \"ELB-HealthChecker/2.0\"\r\n",
      "10.0.31.122 - - [23/Jan/2020:11:48:26 +0000] \"GET / HTTP/1.1\" 301 238 \"-\" \"ELB-HealthChecker/2.0\"\r\n",
      "10.0.56.173 - - [23/Jan/2020:11:48:26 +0000] \"GET / HTTP/1.1\" 301 238 \"-\" \"ELB-HealthChecker/2.0\"\r\n",
      "10.0.31.122 - - [23/Jan/2020:11:48:29 +0000] \"GET / HTTP/1.1\" 301 238 \"-\" \"ELB-HealthChecker/2.0\"\r\n",
      "10.0.56.173 - - [23/Jan/2020:11:50:50 +0000] \"GET / HTTP/1.1\" 301 238 \"-\" \"ELB-HealthChecker/2.0\"\r\n",
      "10.0.56.173 - - [23/Jan/2020:11:51:03 +0000] \"GET / HTTP/1.1\" 301 238 \"-\" \"ELB-HealthChecker/2.0\"\r\n",
      "10.0.31.122 - - [23/Jan/2020:11:51:18 +0000] \"GET / HTTP/1.1\" 301 238 \"-\" \"ELB-HealthChecker/2.0\"\r\n",
      "10.0.31.122 - - [23/Jan/2020:11:51:20 +0000] \"GET / HTTP/1.1\" 301 238 \"-\" \"ELB-HealthChecker/2.0\"\r\n",
      "10.0.56.173 - - [23/Jan/2020:11:51:30 +0000] \"GET / HTTP/1.1\" 200 18059 \"-\" \"Mozilla/5.0 (Windows NT 10.0; Win64; x64) AppleWebKit/537.36 (KHTML, like Gecko) Chrome/78.0.3904.97 Safari/537.36\"\r\n",
      "10.0.56.173 - - [23/Jan/2020:11:51:31 +0000] \"GET /favicon.ico HTTP/1.1\" 200 173 \"http://13cebeb3-default-wordpress-9484-1187941809.us-west-2.elb.amazonaws.com/\" \"Mozilla/5.0 (Windows NT 10.0; Win64; x64) AppleWebKit/537.36 (KHTML, like Gecko) Chrome/78.0.3904.97 Safari/537.36\"\r\n",
      "10.0.31.122 - - [23/Jan/2020:11:51:33 +0000] \"GET / HTTP/1.1\" 301 238 \"-\" \"ELB-HealthChecker/2.0\"\r\n",
      "10.0.31.122 - - [23/Jan/2020:11:51:35 +0000] \"GET / HTTP/1.1\" 301 238 \"-\" \"ELB-HealthChecker/2.0\"\r\n",
      "10.0.31.122 - - [23/Jan/2020:11:51:50 +0000] \"GET / HTTP/1.1\" 301 238 \"-\" \"ELB-HealthChecker/2.0\"\r\n",
      "10.0.31.122 - - [23/Jan/2020:11:52:03 +0000] \"GET / HTTP/1.1\" 301 238 \"-\" \"ELB-HealthChecker/2.0\"\r\n",
      "10.0.56.173 - - [23/Jan/2020:11:52:05 +0000] \"GET / HTTP/1.1\" 301 238 \"-\" \"ELB-HealthChecker/2.0\"\r\n",
      "10.0.56.173 - - [23/Jan/2020:11:52:13 +0000] \"GET / HTTP/1.1\" 200 18059 \"-\" \"Mozilla/5.0 (Windows NT 10.0; Win64; x64) AppleWebKit/537.36 (KHTML, like Gecko) Chrome/78.0.3904.97 Safari/537.36\"\r\n",
      "10.0.56.173 - - [23/Jan/2020:11:52:14 +0000] \"GET /favicon.ico HTTP/1.1\" 200 173 \"http://13cebeb3-default-wordpress-9484-1187941809.us-west-2.elb.amazonaws.com/\" \"Mozilla/5.0 (Windows NT 10.0; Win64; x64) AppleWebKit/537.36 (KHTML, like Gecko) Chrome/78.0.3904.97 Safari/537.36\"\r\n",
      "10.0.31.122 - - [23/Jan/2020:11:52:18 +0000] \"GET / HTTP/1.1\" 301 238 \"-\" \"ELB-HealthChecker/2.0\"\r\n",
      "10.0.56.173 - - [23/Jan/2020:11:52:33 +0000] \"GET / HTTP/1.1\" 301 238 \"-\" \"ELB-HealthChecker/2.0\"\r\n",
      "10.0.56.173 - - [23/Jan/2020:11:52:35 +0000] \"GET / HTTP/1.1\" 301 238 \"-\" \"ELB-HealthChecker/2.0\"\r\n",
      "10.0.31.122 - - [23/Jan/2020:11:52:48 +0000] \"GET / HTTP/1.1\" 301 238 \"-\" \"ELB-HealthChecker/2.0\"\r\n",
      "10.0.56.173 - - [23/Jan/2020:11:52:48 +0000] \"GET / HTTP/1.1\" 301 238 \"-\" \"ELB-HealthChecker/2.0\"\r\n",
      "10.0.56.173 - - [23/Jan/2020:11:53:05 +0000] \"GET / HTTP/1.1\" 301 238 \"-\" \"ELB-HealthChecker/2.0\"\r\n",
      "10.0.31.122 - - [23/Jan/2020:11:53:05 +0000] \"GET / HTTP/1.1\" 301 238 \"-\" \"ELB-HealthChecker/2.0\"\r\n",
      "10.0.56.173 - - [23/Jan/2020:11:53:18 +0000] \"GET / HTTP/1.1\" 301 238 \"-\" \"ELB-HealthChecker/2.0\"\r\n",
      "10.0.56.173 - - [23/Jan/2020:11:53:21 +0000] \"GET /favicon.ico HTTP/1.1\" 200 173 \"http://13cebeb3-default-wordpress-9484-1187941809.us-west-2.elb.amazonaws.com/\" \"Mozilla/5.0 (Windows NT 10.0; Win64; x64) AppleWebKit/537.36 (KHTML, like Gecko) Chrome/78.0.3904.97 Safari/537.36\"\r\n",
      "10.0.56.173 - - [23/Jan/2020:11:53:33 +0000] \"GET / HTTP/1.1\" 301 238 \"-\" \"ELB-HealthChecker/2.0\"\r\n",
      "10.0.56.173 - - [23/Jan/2020:11:53:50 +0000] \"GET / HTTP/1.1\" 301 238 \"-\" \"ELB-HealthChecker/2.0\"\r\n",
      "10.0.31.122 - - [23/Jan/2020:11:54:03 +0000] \"GET / HTTP/1.1\" 301 238 \"-\" \"ELB-HealthChecker/2.0\"\r\n",
      "10.0.56.173 - - [23/Jan/2020:11:54:05 +0000] \"GET / HTTP/1.1\" 301 238 \"-\" \"ELB-HealthChecker/2.0\"\r\n",
      "10.0.31.122 - - [23/Jan/2020:11:54:05 +0000] \"GET / HTTP/1.1\" 301 238 \"-\" \"ELB-HealthChecker/2.0\"\r\n",
      "10.0.56.173 - - [23/Jan/2020:11:54:33 +0000] \"GET / HTTP/1.1\" 301 238 \"-\" \"ELB-HealthChecker/2.0\"\r\n",
      "10.0.56.173 - - [23/Jan/2020:11:54:35 +0000] \"GET / HTTP/1.1\" 301 238 \"-\" \"ELB-HealthChecker/2.0\"\r\n",
      "10.0.56.173 - - [23/Jan/2020:11:54:38 +0000] \"GET / HTTP/1.1\" 200 18061 \"-\" \"Mozilla/5.0 (Windows NT 10.0; Win64; x64) AppleWebKit/537.36 (KHTML, like Gecko) Chrome/78.0.3904.97 Safari/537.36\"\r\n",
      "10.0.56.173 - - [23/Jan/2020:11:54:39 +0000] \"GET /favicon.ico HTTP/1.1\" 200 173 \"http://13cebeb3-default-wordpress-9484-1187941809.us-west-2.elb.amazonaws.com/\" \"Mozilla/5.0 (Windows NT 10.0; Win64; x64) AppleWebKit/537.36 (KHTML, like Gecko) Chrome/78.0.3904.97 Safari/537.36\"\r\n",
      "10.0.31.122 - - [23/Jan/2020:11:54:48 +0000] \"GET / HTTP/1.1\" 301 238 \"-\" \"ELB-HealthChecker/2.0\"\r\n",
      "10.0.56.173 - - [23/Jan/2020:11:54:50 +0000] \"GET / HTTP/1.1\" 301 238 \"-\" \"ELB-HealthChecker/2.0\"\r\n",
      "10.0.31.122 - - [23/Jan/2020:11:54:50 +0000] \"GET / HTTP/1.1\" 301 238 \"-\" \"ELB-HealthChecker/2.0\"\r\n",
      "10.0.31.122 - - [23/Jan/2020:11:55:03 +0000] \"GET / HTTP/1.1\" 301 238 \"-\" \"ELB-HealthChecker/2.0\"\r\n",
      "10.0.56.173 - - [23/Jan/2020:11:55:04 +0000] \"GET / HTTP/1.1\" 200 18060 \"-\" \"Mozilla/5.0 (Windows NT 10.0; Win64; x64) AppleWebKit/537.36 (KHTML, like Gecko) Chrome/78.0.3904.97 Safari/537.36\"\r\n",
      "10.0.56.173 - - [23/Jan/2020:11:55:05 +0000] \"GET /favicon.ico HTTP/1.1\" 200 173 \"http://13cebeb3-default-wordpress-9484-1187941809.us-west-2.elb.amazonaws.com/\" \"Mozilla/5.0 (Windows NT 10.0; Win64; x64) AppleWebKit/537.36 (KHTML, like Gecko) Chrome/78.0.3904.97 Safari/537.36\"\r\n",
      "10.0.56.173 - - [23/Jan/2020:11:55:05 +0000] \"GET / HTTP/1.1\" 301 238 \"-\" \"ELB-HealthChecker/2.0\"\r\n",
      "10.0.31.122 - - [23/Jan/2020:11:55:05 +0000] \"GET / HTTP/1.1\" 301 238 \"-\" \"ELB-HealthChecker/2.0\"\r\n",
      "10.0.31.122 - - [23/Jan/2020:11:55:18 +0000] \"GET / HTTP/1.1\" 301 238 \"-\" \"ELB-HealthChecker/2.0\"\r\n",
      "10.0.56.173 - - [23/Jan/2020:11:55:18 +0000] \"GET / HTTP/1.1\" 301 238 \"-\" \"ELB-HealthChecker/2.0\"\r\n",
      "10.0.56.173 - - [23/Jan/2020:11:55:35 +0000] \"GET / HTTP/1.1\" 301 238 \"-\" \"ELB-HealthChecker/2.0\"\r\n",
      "10.0.31.122 - - [23/Jan/2020:11:55:48 +0000] \"GET / HTTP/1.1\" 301 238 \"-\" \"ELB-HealthChecker/2.0\"\r\n",
      "10.0.56.173 - - [23/Jan/2020:11:55:48 +0000] \"GET / HTTP/1.1\" 301 238 \"-\" \"ELB-HealthChecker/2.0\"\r\n",
      "10.0.31.122 - - [23/Jan/2020:11:55:50 +0000] \"GET / HTTP/1.1\" 301 238 \"-\" \"ELB-HealthChecker/2.0\"\r\n",
      "10.0.31.122 - - [23/Jan/2020:11:56:03 +0000] \"GET / HTTP/1.1\" 301 238 \"-\" \"ELB-HealthChecker/2.0\"\r\n",
      "10.0.56.173 - - [23/Jan/2020:11:56:18 +0000] \"GET / HTTP/1.1\" 301 238 \"-\" \"ELB-HealthChecker/2.0\"\r\n",
      "10.0.56.173 - - [23/Jan/2020:11:56:20 +0000] \"GET / HTTP/1.1\" 301 238 \"-\" \"ELB-HealthChecker/2.0\"\r\n",
      "10.0.56.173 - - [23/Jan/2020:11:56:35 +0000] \"GET / HTTP/1.1\" 301 238 \"-\" \"ELB-HealthChecker/2.0\"\r\n",
      "10.0.31.122 - - [23/Jan/2020:11:56:35 +0000] \"GET / HTTP/1.1\" 301 238 \"-\" \"ELB-HealthChecker/2.0\"\r\n",
      "10.0.31.122 - - [23/Jan/2020:11:56:50 +0000] \"GET / HTTP/1.1\" 301 238 \"-\" \"ELB-HealthChecker/2.0\"\r\n",
      "10.0.31.122 - - [23/Jan/2020:11:56:54 +0000] \"-\" 408 0 \"-\" \"-\"\r\n",
      "10.0.56.173 - - [23/Jan/2020:11:57:02 +0000] \"GET /favicon.ico HTTP/1.1\" 200 173 \"-\" \"Mozilla/5.0 (Windows NT 10.0; Win64; x64) AppleWebKit/537.36 (KHTML, like Gecko) Chrome/64.0.3282.140 Safari/537.36 Edge/17.17134\"\r\n",
      "10.0.56.173 - - [23/Jan/2020:11:57:04 +0000] \"GET / HTTP/1.1\" 301 238 \"-\" \"ELB-HealthChecker/2.0\"\r\n",
      "10.0.31.122 - - [23/Jan/2020:11:57:04 +0000] \"GET / HTTP/1.1\" 301 238 \"-\" \"ELB-HealthChecker/2.0\"\r\n",
      "10.0.31.122 - - [23/Jan/2020:11:57:05 +0000] \"GET / HTTP/1.1\" 301 238 \"-\" \"ELB-HealthChecker/2.0\"\r\n",
      "10.0.56.173 - - [23/Jan/2020:11:57:06 +0000] \"GET /favicon.ico HTTP/1.1\" 200 173 \"-\" \"Mozilla/5.0 (Windows NT 10.0; Win64; x64) AppleWebKit/537.36 (KHTML, like Gecko) Chrome/64.0.3282.140 Safari/537.36 Edge/17.17134\"\r\n",
      "10.0.56.173 - - [23/Jan/2020:11:57:15 +0000] \"GET / HTTP/1.1\" 200 18061 \"-\" \"Mozilla/5.0 (Windows NT 10.0; Win64; x64) AppleWebKit/537.36 (KHTML, like Gecko) Chrome/78.0.3904.97 Safari/537.36\"\r\n",
      "10.0.56.173 - - [23/Jan/2020:11:57:16 +0000] \"GET /favicon.ico HTTP/1.1\" 200 173 \"http://13cebeb3-default-wordpress-9484-1187941809.us-west-2.elb.amazonaws.com/\" \"Mozilla/5.0 (Windows NT 10.0; Win64; x64) AppleWebKit/537.36 (KHTML, like Gecko) Chrome/78.0.3904.97 Safari/537.36\"\r\n",
      "10.0.31.122 - - [23/Jan/2020:11:57:34 +0000] \"GET / HTTP/1.1\" 301 238 \"-\" \"ELB-HealthChecker/2.0\"\r\n",
      "10.0.31.122 - - [23/Jan/2020:11:57:49 +0000] \"GET / HTTP/1.1\" 301 238 \"-\" \"ELB-HealthChecker/2.0\"\r\n",
      "10.0.56.173 - - [23/Jan/2020:11:57:49 +0000] \"GET / HTTP/1.1\" 301 238 \"-\" \"ELB-HealthChecker/2.0\"\r\n",
      "10.0.56.173 - - [23/Jan/2020:11:58:04 +0000] \"GET / HTTP/1.1\" 301 238 \"-\" \"ELB-HealthChecker/2.0\"\r\n",
      "10.0.31.122 - - [23/Jan/2020:11:58:19 +0000] \"GET / HTTP/1.1\" 301 238 \"-\" \"ELB-HealthChecker/2.0\"\r\n",
      "10.0.31.122 - - [23/Jan/2020:11:58:20 +0000] \"GET / HTTP/1.1\" 301 238 \"-\" \"ELB-HealthChecker/2.0\"\r\n",
      "10.0.56.173 - - [23/Jan/2020:11:58:32 +0000] \"GET / HTTP/1.1\" 200 18060 \"-\" \"Mozilla/5.0 (Windows NT 10.0; Win64; x64) AppleWebKit/537.36 (KHTML, like Gecko) Chrome/78.0.3904.97 Safari/537.36\"\r\n",
      "10.0.56.173 - - [23/Jan/2020:11:58:33 +0000] \"GET /favicon.ico HTTP/1.1\" 200 173 \"http://13cebeb3-default-wordpress-9484-1187941809.us-west-2.elb.amazonaws.com/\" \"Mozilla/5.0 (Windows NT 10.0; Win64; x64) AppleWebKit/537.36 (KHTML, like Gecko) Chrome/78.0.3904.97 Safari/537.36\"\r\n",
      "10.0.31.122 - - [23/Jan/2020:11:58:34 +0000] \"GET / HTTP/1.1\" 301 238 \"-\" \"ELB-HealthChecker/2.0\"\r\n",
      "10.0.31.122 - - [23/Jan/2020:11:58:49 +0000] \"GET / HTTP/1.1\" 301 238 \"-\" \"ELB-HealthChecker/2.0\"\r\n",
      "10.0.31.122 - - [23/Jan/2020:11:59:05 +0000] \"GET / HTTP/1.1\" 301 238 \"-\" \"ELB-HealthChecker/2.0\"\r\n",
      "10.0.56.173 - - [23/Jan/2020:11:59:05 +0000] \"GET / HTTP/1.1\" 301 238 \"-\" \"ELB-HealthChecker/2.0\"\r\n",
      "10.0.56.173 - - [23/Jan/2020:11:59:19 +0000] \"GET / HTTP/1.1\" 301 238 \"-\" \"ELB-HealthChecker/2.0\"\r\n",
      "10.0.56.173 - - [23/Jan/2020:11:59:20 +0000] \"GET / HTTP/1.1\" 301 238 \"-\" \"ELB-HealthChecker/2.0\"\r\n",
      "10.0.31.122 - - [23/Jan/2020:11:59:20 +0000] \"GET / HTTP/1.1\" 301 238 \"-\" \"ELB-HealthChecker/2.0\"\r\n"
     ]
    }
   ],
   "source": [
    "!kubectl logs wordpress-75b8c95b57-494fq"
   ]
  },
  {
   "cell_type": "markdown",
   "metadata": {
    "lc_cell_meme": {
     "current": "a3ec1346-3207-11ea-9983-0242ac120004",
     "history": [
      {
       "current": "a3ec1346-3207-11ea-9983-0242ac120004",
       "next": "58f6674c-2ca8-11ea-9eae-0242ac120004",
       "previous": "a3ec1256-3207-11ea-9983-0242ac120004"
      },
      {
       "current": "a3ec1346-3207-11ea-9983-0242ac120004",
       "next": "58f6674c-2ca8-11ea-9eae-0242ac120004",
       "previous": "4b437240-27d8-11ea-874f-0242ac120004"
      },
      {
       "current": "a3ec1346-3207-11ea-9983-0242ac120004",
       "next": "58f6674c-2ca8-11ea-9eae-0242ac120004",
       "previous": "d18e609a-3dd0-11ea-bfd5-0242ac120005"
      },
      {
       "current": "a3ec1346-3207-11ea-9983-0242ac120004",
       "next": "58f6674c-2ca8-11ea-9eae-0242ac120004",
       "previous": "7eb90d96-3dd2-11ea-bfd5-0242ac120005"
      },
      {
       "current": "a3ec1346-3207-11ea-9983-0242ac120004",
       "next": "58f6674c-2ca8-11ea-9eae-0242ac120004",
       "previous": "02740ce2-3dd5-11ea-bfd5-0242ac120005"
      }
     ],
     "next": "58f6674c-2ca8-11ea-9eae-0242ac120004",
     "previous": "cdbc32f6-3dd7-11ea-bfd5-0242ac120005"
    }
   },
   "source": [
    "いろいろ削除"
   ]
  },
  {
   "cell_type": "markdown",
   "metadata": {
    "lc_cell_meme": {
     "current": "58f6674c-2ca8-11ea-9eae-0242ac120004",
     "history": [
      {
       "current": "58f6674c-2ca8-11ea-9eae-0242ac120004",
       "next": "58f6699a-2ca8-11ea-9eae-0242ac120004",
       "previous": "4b437240-27d8-11ea-874f-0242ac120004"
      },
      {
       "current": "58f6674c-2ca8-11ea-9eae-0242ac120004",
       "next": "a08d712c-2ca8-11ea-9eae-0242ac120004",
       "previous": "4b437240-27d8-11ea-874f-0242ac120004"
      },
      {
       "current": "58f6674c-2ca8-11ea-9eae-0242ac120004",
       "next": "a08d712c-2ca8-11ea-9eae-0242ac120004",
       "previous": "a3ec1346-3207-11ea-9983-0242ac120004"
      }
     ],
     "next": "b7182bd2-3ddb-11ea-bfd5-0242ac120005",
     "previous": "a3ec1346-3207-11ea-9983-0242ac120004"
    }
   },
   "source": [
    "まずはALBIngressControllerIAMPolicyの削除"
   ]
  },
  {
   "cell_type": "code",
   "execution_count": 129,
   "metadata": {
    "lc_cell_meme": {
     "current": "b7182bd2-3ddb-11ea-bfd5-0242ac120005",
     "execution_end_time": "2020-01-23T12:25:45.429533Z",
     "next": "b7182e98-3ddb-11ea-bfd5-0242ac120005",
     "previous": "58f6674c-2ca8-11ea-9eae-0242ac120004"
    },
    "lc_wrapper": {
     "log_history": [
      "/home/user5/notebooks/seminar-lc4ri/AWS/.log/20200123/20200123-122545-0423.log"
     ]
    }
   },
   "outputs": [],
   "source": [
    "ALBPolicyArn = 'arn:aws:iam::565991835156:policy/ALBIngressControllerIAMPolicy'"
   ]
  },
  {
   "cell_type": "code",
   "execution_count": 130,
   "metadata": {
    "lc_cell_meme": {
     "current": "b7182e98-3ddb-11ea-bfd5-0242ac120005",
     "execution_end_time": "2020-01-23T12:26:39.633998Z",
     "next": "a08d712c-2ca8-11ea-9eae-0242ac120004",
     "previous": "b7182bd2-3ddb-11ea-bfd5-0242ac120005"
    },
    "lc_wrapper": {
     "log_history": [
      "/home/user5/notebooks/seminar-lc4ri/AWS/.log/20200123/20200123-122639-0628.log"
     ]
    }
   },
   "outputs": [],
   "source": [
    "workerRolearn = 'eksctl-aws-eks-200123-nodegroup-n-NodeInstanceRole-1S46M9PWOP7U1'"
   ]
  },
  {
   "cell_type": "code",
   "execution_count": 131,
   "metadata": {
    "lc_cell_meme": {
     "current": "a08d712c-2ca8-11ea-9eae-0242ac120004",
     "execution_end_time": "2020-01-23T12:26:44.120603Z",
     "history": [
      {
       "current": "a08d712c-2ca8-11ea-9eae-0242ac120004",
       "next": null,
       "previous": "58f66c2e-2ca8-11ea-9eae-0242ac120004"
      },
      {
       "current": "a08d712c-2ca8-11ea-9eae-0242ac120004",
       "next": "e837ec3c-2ca8-11ea-9eae-0242ac120004",
       "previous": "58f66c2e-2ca8-11ea-9eae-0242ac120004"
      },
      {
       "current": "a08d712c-2ca8-11ea-9eae-0242ac120004",
       "next": "e837ec3c-2ca8-11ea-9eae-0242ac120004",
       "previous": "58f6674c-2ca8-11ea-9eae-0242ac120004"
      },
      {
       "current": "a08d712c-2ca8-11ea-9eae-0242ac120004",
       "next": "f9a65ae0-3792-11ea-8b4d-0242ac120004",
       "previous": "58f6674c-2ca8-11ea-9eae-0242ac120004"
      }
     ],
     "next": "e837ec3c-2ca8-11ea-9eae-0242ac120004",
     "previous": "b7182e98-3ddb-11ea-bfd5-0242ac120005"
    },
    "lc_wrapper": {
     "log_history": [
      "/home/user5/notebooks/seminar-lc4ri/AWS/.log/20200101/20200101-151054-0270.log",
      "/home/user5/notebooks/seminar-lc4ri/AWS/.log/20200108/20200108-123838-0347.log",
      "/home/user2/notebooks/AWS/.log/20200115/20200115-122838-0417.log",
      "/home/user5/notebooks/seminar-lc4ri/AWS/.log/20200123/20200123-122222-0703.log",
      "/home/user5/notebooks/seminar-lc4ri/AWS/.log/20200123/20200123-122642-0215.log"
     ]
    }
   },
   "outputs": [],
   "source": [
    "!aws iam detach-role-policy \\\n",
    "--policy-arn {ALBPolicyArn} \\\n",
    "--role-name {workerRolearn}"
   ]
  },
  {
   "cell_type": "code",
   "execution_count": 132,
   "metadata": {
    "lc_cell_meme": {
     "current": "e837ec3c-2ca8-11ea-9eae-0242ac120004",
     "execution_end_time": "2020-01-23T12:27:16.831333Z",
     "history": [
      {
       "current": "e837ec3c-2ca8-11ea-9eae-0242ac120004",
       "next": null,
       "previous": "a08d712c-2ca8-11ea-9eae-0242ac120004"
      },
      {
       "current": "e837ec3c-2ca8-11ea-9eae-0242ac120004",
       "next": "2fc873d2-2ca9-11ea-9eae-0242ac120004",
       "previous": "a08d712c-2ca8-11ea-9eae-0242ac120004"
      },
      {
       "current": "e837ec3c-2ca8-11ea-9eae-0242ac120004",
       "next": "5b3b82f2-3203-11ea-9983-0242ac120004",
       "previous": "a08d712c-2ca8-11ea-9eae-0242ac120004"
      },
      {
       "current": "e837ec3c-2ca8-11ea-9eae-0242ac120004",
       "next": "f9a65d88-3792-11ea-8b4d-0242ac120004",
       "previous": "f9a65ae0-3792-11ea-8b4d-0242ac120004"
      },
      {
       "current": "e837ec3c-2ca8-11ea-9eae-0242ac120004",
       "next": "f9a65d88-3792-11ea-8b4d-0242ac120004",
       "previous": "6d0e782a-3ddb-11ea-bfd5-0242ac120005"
      }
     ],
     "next": "5b3b82f2-3203-11ea-9983-0242ac120004",
     "previous": "a08d712c-2ca8-11ea-9eae-0242ac120004"
    },
    "lc_wrapper": {
     "log_history": [
      "/home/user5/notebooks/seminar-lc4ri/AWS/.log/20200101/20200101-151110-0896.log",
      "/home/user5/notebooks/seminar-lc4ri/AWS/.log/20200101/20200101-151115-0799.log",
      "/home/user5/notebooks/seminar-lc4ri/AWS/.log/20200101/20200101-151127-0669.log",
      "/home/user5/notebooks/seminar-lc4ri/AWS/.log/20200108/20200108-123840-0959.log",
      "/home/user2/notebooks/AWS/.log/20200115/20200115-123016-0606.log",
      "/home/user5/notebooks/seminar-lc4ri/AWS/.log/20200123/20200123-122510-0740.log",
      "/home/user5/notebooks/seminar-lc4ri/AWS/.log/20200123/20200123-122714-0895.log"
     ]
    }
   },
   "outputs": [],
   "source": [
    "!aws iam delete-policy \\\n",
    "--policy-arn {ALBPolicyArn}"
   ]
  },
  {
   "cell_type": "markdown",
   "metadata": {
    "lc_cell_meme": {
     "current": "5b3b82f2-3203-11ea-9983-0242ac120004",
     "history": [
      {
       "current": "5b3b82f2-3203-11ea-9983-0242ac120004",
       "next": "5b3b8590-3203-11ea-9983-0242ac120004",
       "previous": "e837ec3c-2ca8-11ea-9eae-0242ac120004"
      },
      {
       "current": "5b3b82f2-3203-11ea-9983-0242ac120004",
       "next": "5b3b8590-3203-11ea-9983-0242ac120004",
       "previous": "f9a65d88-3792-11ea-8b4d-0242ac120004"
      }
     ],
     "next": "5b3b8590-3203-11ea-9983-0242ac120004",
     "previous": "e837ec3c-2ca8-11ea-9eae-0242ac120004"
    }
   },
   "source": [
    "kubectlで作成したオブジェクトの削除"
   ]
  },
  {
   "cell_type": "code",
   "execution_count": 133,
   "metadata": {
    "lc_cell_meme": {
     "current": "5b3b8590-3203-11ea-9983-0242ac120004",
     "execution_end_time": "2020-01-23T12:27:34.801761Z",
     "history": [
      {
       "current": "5b3b8590-3203-11ea-9983-0242ac120004",
       "next": "2fc873d2-2ca9-11ea-9eae-0242ac120004",
       "previous": "5b3b82f2-3203-11ea-9983-0242ac120004"
      }
     ],
     "next": "fe9d8272-3ddb-11ea-bfd5-0242ac120005",
     "previous": "5b3b82f2-3203-11ea-9983-0242ac120004"
    },
    "lc_wrapper": {
     "log_history": [
      "/home/user5/notebooks/seminar-lc4ri/AWS/.log/20200108/20200108-123847-0371.log",
      "/home/user5/notebooks/seminar-lc4ri/AWS/.log/20200123/20200123-122723-0059.log"
     ]
    }
   },
   "outputs": [
    {
     "name": "stdout",
     "output_type": "stream",
     "text": [
      "ingress.extensions \"wordpress-ingress\" deleted\n",
      "service \"wordpress\" deleted\n",
      "deployment.apps \"wordpress\" deleted\n",
      "deployment.apps \"alb-ingress-controller\" deleted\n",
      "clusterrole.rbac.authorization.k8s.io \"alb-ingress-controller\" deleted\n",
      "clusterrolebinding.rbac.authorization.k8s.io \"alb-ingress-controller\" deleted\n",
      "serviceaccount \"alb-ingress-controller\" deleted\n",
      "serviceaccount \"efs-provisioner\" deleted\n",
      "deployment.apps \"efs-provisioner\" deleted\n"
     ]
    }
   ],
   "source": [
    "!kubectl delete -f yaml/wordpress-ingress.yaml\n",
    "!kubectl delete -f yaml/wordpress-service.yaml\n",
    "!kubectl delete -f yaml/wordpress-deploy.yaml\n",
    "!kubectl delete -f alb-ingress-controller.yaml\n",
    "!kubectl delete -f https://raw.githubusercontent.com/kubernetes-sigs/aws-alb-ingress-controller/v1.1.4/docs/examples/rbac-role.yaml\n",
    "!kubectl delete -f deployment.yaml    "
   ]
  },
  {
   "cell_type": "code",
   "execution_count": 134,
   "metadata": {
    "lc_cell_meme": {
     "current": "fe9d8272-3ddb-11ea-bfd5-0242ac120005",
     "execution_end_time": "2020-01-23T12:29:22.882259Z",
     "next": "2fc873d2-2ca9-11ea-9eae-0242ac120004",
     "previous": "5b3b8590-3203-11ea-9983-0242ac120004"
    },
    "lc_wrapper": {
     "log_history": [
      "/home/user5/notebooks/seminar-lc4ri/AWS/.log/20200123/20200123-122915-0281.log"
     ]
    }
   },
   "outputs": [
    {
     "name": "stdout",
     "output_type": "stream",
     "text": [
      "storageclass.storage.k8s.io \"aws-efs\" deleted\n",
      "configmap \"efs-provisioner\" deleted\n",
      "clusterrole.rbac.authorization.k8s.io \"efs-provisioner-runner\" deleted\n",
      "clusterrolebinding.rbac.authorization.k8s.io \"run-efs-provisioner\" deleted\n",
      "role.rbac.authorization.k8s.io \"leader-locking-efs-provisioner\" deleted\n",
      "rolebinding.rbac.authorization.k8s.io \"leader-locking-efs-provisioner\" deleted\n",
      "Error from server (NotFound): error when deleting \"deployment.yaml\": serviceaccounts \"efs-provisioner\" not found\n",
      "Error from server (NotFound): error when deleting \"deployment.yaml\": deployments.apps \"efs-provisioner\" not found\n"
     ]
    },
    {
     "ename": "RuntimeError",
     "evalue": "Unexpected exit code: 1",
     "output_type": "error",
     "traceback": [
      "\u001b[0;31m---------------------------------------------------------------------------\u001b[0m",
      "\u001b[0;31mRuntimeError\u001b[0m                              Traceback (most recent call last)",
      "\u001b[0;32m<ipython-input-134-d7889cfe748c>\u001b[0m in \u001b[0;36m<module>\u001b[0;34m\u001b[0m\n\u001b[1;32m      2\u001b[0m \u001b[0mget_ipython\u001b[0m\u001b[0;34m(\u001b[0m\u001b[0;34m)\u001b[0m\u001b[0;34m.\u001b[0m\u001b[0msystem\u001b[0m\u001b[0;34m(\u001b[0m\u001b[0;34m'kubectl delete -f configmap.yaml'\u001b[0m\u001b[0;34m)\u001b[0m\u001b[0;34m\u001b[0m\u001b[0;34m\u001b[0m\u001b[0m\n\u001b[1;32m      3\u001b[0m \u001b[0mget_ipython\u001b[0m\u001b[0;34m(\u001b[0m\u001b[0;34m)\u001b[0m\u001b[0;34m.\u001b[0m\u001b[0msystem\u001b[0m\u001b[0;34m(\u001b[0m\u001b[0;34m'kubectl delete -f rbac.yaml'\u001b[0m\u001b[0;34m)\u001b[0m\u001b[0;34m\u001b[0m\u001b[0;34m\u001b[0m\u001b[0m\n\u001b[0;32m----> 4\u001b[0;31m \u001b[0mget_ipython\u001b[0m\u001b[0;34m(\u001b[0m\u001b[0;34m)\u001b[0m\u001b[0;34m.\u001b[0m\u001b[0msystem\u001b[0m\u001b[0;34m(\u001b[0m\u001b[0;34m'kubectl delete -f deployment.yaml'\u001b[0m\u001b[0;34m)\u001b[0m\u001b[0;34m\u001b[0m\u001b[0;34m\u001b[0m\u001b[0m\n\u001b[0m\u001b[1;32m      5\u001b[0m \u001b[0mget_ipython\u001b[0m\u001b[0;34m(\u001b[0m\u001b[0;34m)\u001b[0m\u001b[0;34m.\u001b[0m\u001b[0msystem\u001b[0m\u001b[0;34m(\u001b[0m\u001b[0;34m'kubectl delete -f claim.yaml'\u001b[0m\u001b[0;34m)\u001b[0m\u001b[0;34m\u001b[0m\u001b[0;34m\u001b[0m\u001b[0m\n",
      "\u001b[0;32m/opt/conda/etc/ipython/startup/10-custom-get_ipython_system.py\u001b[0m in \u001b[0;36m<lambda>\u001b[0;34m(x)\u001b[0m\n\u001b[1;32m      5\u001b[0m \u001b[0;34m\u001b[0m\u001b[0m\n\u001b[1;32m      6\u001b[0m \u001b[0msave_get_ipython_system\u001b[0m \u001b[0;34m=\u001b[0m \u001b[0mget_ipython\u001b[0m\u001b[0;34m(\u001b[0m\u001b[0;34m)\u001b[0m\u001b[0;34m.\u001b[0m\u001b[0msystem\u001b[0m\u001b[0;34m\u001b[0m\u001b[0;34m\u001b[0m\u001b[0m\n\u001b[0;32m----> 7\u001b[0;31m \u001b[0mget_ipython\u001b[0m\u001b[0;34m(\u001b[0m\u001b[0;34m)\u001b[0m\u001b[0;34m.\u001b[0m\u001b[0msystem\u001b[0m \u001b[0;34m=\u001b[0m \u001b[0;32mlambda\u001b[0m \u001b[0mx\u001b[0m\u001b[0;34m:\u001b[0m \u001b[0mget_ipython_system\u001b[0m\u001b[0;34m(\u001b[0m\u001b[0mx\u001b[0m\u001b[0;34m)\u001b[0m\u001b[0;34m\u001b[0m\u001b[0;34m\u001b[0m\u001b[0m\n\u001b[0m\u001b[1;32m      8\u001b[0m \u001b[0;34m\u001b[0m\u001b[0m\n\u001b[1;32m      9\u001b[0m \u001b[0;31m# interactiveshell.py's system_piped() function comment saids:\u001b[0m\u001b[0;34m\u001b[0m\u001b[0;34m\u001b[0m\u001b[0;34m\u001b[0m\u001b[0m\n",
      "\u001b[0;32m/opt/conda/etc/ipython/startup/10-custom-get_ipython_system.py\u001b[0m in \u001b[0;36mget_ipython_system\u001b[0;34m(_cmd)\u001b[0m\n\u001b[1;32m     13\u001b[0m     \u001b[0msave_get_ipython_system\u001b[0m\u001b[0;34m(\u001b[0m\u001b[0m_cmd\u001b[0m\u001b[0;34m)\u001b[0m\u001b[0;34m\u001b[0m\u001b[0;34m\u001b[0m\u001b[0m\n\u001b[1;32m     14\u001b[0m     \u001b[0;32mif\u001b[0m \u001b[0mget_ipython\u001b[0m\u001b[0;34m(\u001b[0m\u001b[0;34m)\u001b[0m\u001b[0;34m.\u001b[0m\u001b[0muser_ns\u001b[0m\u001b[0;34m[\u001b[0m\u001b[0;34m'_exit_code'\u001b[0m\u001b[0;34m]\u001b[0m \u001b[0;34m!=\u001b[0m \u001b[0;36m0\u001b[0m\u001b[0;34m:\u001b[0m\u001b[0;34m\u001b[0m\u001b[0;34m\u001b[0m\u001b[0m\n\u001b[0;32m---> 15\u001b[0;31m         \u001b[0;32mraise\u001b[0m \u001b[0mRuntimeError\u001b[0m\u001b[0;34m(\u001b[0m\u001b[0;34m'Unexpected exit code: %d'\u001b[0m \u001b[0;34m%\u001b[0m \u001b[0mget_ipython\u001b[0m\u001b[0;34m(\u001b[0m\u001b[0;34m)\u001b[0m\u001b[0;34m.\u001b[0m\u001b[0muser_ns\u001b[0m\u001b[0;34m[\u001b[0m\u001b[0;34m'_exit_code'\u001b[0m\u001b[0;34m]\u001b[0m\u001b[0;34m)\u001b[0m\u001b[0;34m\u001b[0m\u001b[0;34m\u001b[0m\u001b[0m\n\u001b[0m",
      "\u001b[0;31mRuntimeError\u001b[0m: Unexpected exit code: 1"
     ]
    }
   ],
   "source": [
    "!kubectl delete -f class.yaml\n",
    "!kubectl delete -f configmap.yaml\n",
    "!kubectl delete -f rbac.yaml\n",
    "!kubectl delete -f deployment.yaml\n",
    "!kubectl delete -f claim.yaml"
   ]
  },
  {
   "cell_type": "markdown",
   "metadata": {
    "lc_cell_meme": {
     "current": "2fc873d2-2ca9-11ea-9eae-0242ac120004",
     "history": [
      {
       "current": "2fc873d2-2ca9-11ea-9eae-0242ac120004",
       "next": null,
       "previous": "e837ec3c-2ca8-11ea-9eae-0242ac120004"
      },
      {
       "current": "2fc873d2-2ca9-11ea-9eae-0242ac120004",
       "next": "96a9c2e0-2ca9-11ea-9eae-0242ac120004",
       "previous": "e837ec3c-2ca8-11ea-9eae-0242ac120004"
      },
      {
       "current": "2fc873d2-2ca9-11ea-9eae-0242ac120004",
       "next": "96a9c2e0-2ca9-11ea-9eae-0242ac120004",
       "previous": "5b3b8590-3203-11ea-9983-0242ac120004"
      }
     ],
     "next": "96a9c2e0-2ca9-11ea-9eae-0242ac120004",
     "previous": "fe9d8272-3ddb-11ea-bfd5-0242ac120005"
    }
   },
   "source": [
    "クラスタの削除"
   ]
  },
  {
   "cell_type": "code",
   "execution_count": 135,
   "metadata": {
    "lc_cell_meme": {
     "current": "96a9c2e0-2ca9-11ea-9eae-0242ac120004",
     "execution_end_time": "2020-01-23T12:32:19.019822Z",
     "history": [
      {
       "current": "96a9c2e0-2ca9-11ea-9eae-0242ac120004",
       "next": "96a9c664-2ca9-11ea-9eae-0242ac120004",
       "previous": "2fc873d2-2ca9-11ea-9eae-0242ac120004"
      }
     ],
     "next": "4aa73da4-2d63-11ea-9f70-0242ac120004",
     "previous": "2fc873d2-2ca9-11ea-9eae-0242ac120004"
    },
    "lc_wrapper": {
     "log_history": [
      "/home/user5/notebooks/seminar-lc4ri/AWS/.log/20200108/20200108-123902-0268.log",
      "/home/user5/notebooks/seminar-lc4ri/AWS/.log/20200123/20200123-122941-0175.log"
     ]
    }
   },
   "outputs": [
    {
     "name": "stdout",
     "output_type": "stream",
     "text": [
      "\u001b[36m[ℹ]  eksctl version 0.13.0\n",
      "\u001b[0m\u001b[36m[ℹ]  using region us-west-2\n",
      "\u001b[0m\u001b[36m[ℹ]  deleting EKS cluster \"aws-eks-200123\"\n",
      "\u001b[0m\u001b[36m[ℹ]  account is not authorized to use Fargate. Ignoring error\n",
      "\u001b[0m\u001b[36m[ℹ]  cleaning up LoadBalancer services\n",
      "\u001b[0m\u001b[36m[ℹ]  2 sequential tasks: { delete nodegroup \"ng-200123\", delete cluster control plane \"aws-eks-200123\" }\n",
      "\u001b[0m\u001b[36m[ℹ]  will delete stack \"eksctl-aws-eks-200123-nodegroup-ng-200123\"\n",
      "\u001b[0m\u001b[36m[ℹ]  waiting for stack \"eksctl-aws-eks-200123-nodegroup-ng-200123\" to get deleted\n",
      "\u001b[0m\u001b[31m[✖]  unexpected status \"DELETE_FAILED\" while waiting for CloudFormation stack \"eksctl-aws-eks-200123-nodegroup-ng-200123\"\n",
      "\u001b[0m\u001b[36m[ℹ]  fetching stack events in attempt to troubleshoot the root cause of the failure\n",
      "\u001b[0m\u001b[31m[✖]  AWS::CloudFormation::Stack/eksctl-aws-eks-200123-nodegroup-ng-200123: DELETE_FAILED – \"The following resource(s) failed to delete: [NodeInstanceRole]. \"\n",
      "\u001b[0m\u001b[31m[✖]  AWS::IAM::Role/NodeInstanceRole: DELETE_FAILED – \"Cannot delete entity, must detach all policies first. (Service: AmazonIdentityManagement; Status Code: 409; Error Code: DeleteConflict; Request ID: 85be4774-d0f3-4997-9624-9dc6f9b1cf93)\"\n",
      "\u001b[0m\u001b[36m[ℹ]  1 error(s) occurred while deleting cluster with nodegroup(s)\n",
      "\u001b[0m\u001b[31m[✖]  waiting for CloudFormation stack \"eksctl-aws-eks-200123-nodegroup-ng-200123\": ResourceNotReady: failed waiting for successful resource state\n",
      "\u001b[0mError: failed to delete cluster with nodegroup(s)\n"
     ]
    },
    {
     "ename": "RuntimeError",
     "evalue": "Unexpected exit code: 1",
     "output_type": "error",
     "traceback": [
      "\u001b[0;31m---------------------------------------------------------------------------\u001b[0m",
      "\u001b[0;31mRuntimeError\u001b[0m                              Traceback (most recent call last)",
      "\u001b[0;32m<ipython-input-135-734c0bc15a2c>\u001b[0m in \u001b[0;36m<module>\u001b[0;34m\u001b[0m\n\u001b[0;32m----> 1\u001b[0;31m \u001b[0mget_ipython\u001b[0m\u001b[0;34m(\u001b[0m\u001b[0;34m)\u001b[0m\u001b[0;34m.\u001b[0m\u001b[0msystem\u001b[0m\u001b[0;34m(\u001b[0m\u001b[0;34m'eksctl delete cluster      --name {clusterName}      --wait'\u001b[0m\u001b[0;34m)\u001b[0m\u001b[0;34m\u001b[0m\u001b[0;34m\u001b[0m\u001b[0m\n\u001b[0m",
      "\u001b[0;32m/opt/conda/etc/ipython/startup/10-custom-get_ipython_system.py\u001b[0m in \u001b[0;36m<lambda>\u001b[0;34m(x)\u001b[0m\n\u001b[1;32m      5\u001b[0m \u001b[0;34m\u001b[0m\u001b[0m\n\u001b[1;32m      6\u001b[0m \u001b[0msave_get_ipython_system\u001b[0m \u001b[0;34m=\u001b[0m \u001b[0mget_ipython\u001b[0m\u001b[0;34m(\u001b[0m\u001b[0;34m)\u001b[0m\u001b[0;34m.\u001b[0m\u001b[0msystem\u001b[0m\u001b[0;34m\u001b[0m\u001b[0;34m\u001b[0m\u001b[0m\n\u001b[0;32m----> 7\u001b[0;31m \u001b[0mget_ipython\u001b[0m\u001b[0;34m(\u001b[0m\u001b[0;34m)\u001b[0m\u001b[0;34m.\u001b[0m\u001b[0msystem\u001b[0m \u001b[0;34m=\u001b[0m \u001b[0;32mlambda\u001b[0m \u001b[0mx\u001b[0m\u001b[0;34m:\u001b[0m \u001b[0mget_ipython_system\u001b[0m\u001b[0;34m(\u001b[0m\u001b[0mx\u001b[0m\u001b[0;34m)\u001b[0m\u001b[0;34m\u001b[0m\u001b[0;34m\u001b[0m\u001b[0m\n\u001b[0m\u001b[1;32m      8\u001b[0m \u001b[0;34m\u001b[0m\u001b[0m\n\u001b[1;32m      9\u001b[0m \u001b[0;31m# interactiveshell.py's system_piped() function comment saids:\u001b[0m\u001b[0;34m\u001b[0m\u001b[0;34m\u001b[0m\u001b[0;34m\u001b[0m\u001b[0m\n",
      "\u001b[0;32m/opt/conda/etc/ipython/startup/10-custom-get_ipython_system.py\u001b[0m in \u001b[0;36mget_ipython_system\u001b[0;34m(_cmd)\u001b[0m\n\u001b[1;32m     13\u001b[0m     \u001b[0msave_get_ipython_system\u001b[0m\u001b[0;34m(\u001b[0m\u001b[0m_cmd\u001b[0m\u001b[0;34m)\u001b[0m\u001b[0;34m\u001b[0m\u001b[0;34m\u001b[0m\u001b[0m\n\u001b[1;32m     14\u001b[0m     \u001b[0;32mif\u001b[0m \u001b[0mget_ipython\u001b[0m\u001b[0;34m(\u001b[0m\u001b[0;34m)\u001b[0m\u001b[0;34m.\u001b[0m\u001b[0muser_ns\u001b[0m\u001b[0;34m[\u001b[0m\u001b[0;34m'_exit_code'\u001b[0m\u001b[0;34m]\u001b[0m \u001b[0;34m!=\u001b[0m \u001b[0;36m0\u001b[0m\u001b[0;34m:\u001b[0m\u001b[0;34m\u001b[0m\u001b[0;34m\u001b[0m\u001b[0m\n\u001b[0;32m---> 15\u001b[0;31m         \u001b[0;32mraise\u001b[0m \u001b[0mRuntimeError\u001b[0m\u001b[0;34m(\u001b[0m\u001b[0;34m'Unexpected exit code: %d'\u001b[0m \u001b[0;34m%\u001b[0m \u001b[0mget_ipython\u001b[0m\u001b[0;34m(\u001b[0m\u001b[0;34m)\u001b[0m\u001b[0;34m.\u001b[0m\u001b[0muser_ns\u001b[0m\u001b[0;34m[\u001b[0m\u001b[0;34m'_exit_code'\u001b[0m\u001b[0;34m]\u001b[0m\u001b[0;34m)\u001b[0m\u001b[0;34m\u001b[0m\u001b[0;34m\u001b[0m\u001b[0m\n\u001b[0m",
      "\u001b[0;31mRuntimeError\u001b[0m: Unexpected exit code: 1"
     ]
    }
   ],
   "source": [
    "!eksctl delete cluster \\\n",
    "    --name {clusterName} \\\n",
    "    --wait"
   ]
  },
  {
   "cell_type": "code",
   "execution_count": null,
   "metadata": {
    "lc_cell_meme": {
     "current": "4aa73da4-2d63-11ea-9f70-0242ac120004",
     "history": [
      {
       "current": "4aa73da4-2d63-11ea-9f70-0242ac120004",
       "next": null,
       "previous": "96a9c664-2ca9-11ea-9eae-0242ac120004"
      }
     ],
     "next": null,
     "previous": "96a9c2e0-2ca9-11ea-9eae-0242ac120004"
    }
   },
   "outputs": [],
   "source": []
  }
 ],
 "metadata": {
  "kernelspec": {
   "display_name": "Python 3",
   "language": "python",
   "name": "python3"
  },
  "language_info": {
   "file_extension": ".py",
   "mimetype": "text/x-python",
   "name": "python",
   "nbconvert_exporter": "python",
   "pygments_lexer": "ipython3",
   "version": "3.7.3"
  },
  "lc_notebook_meme": {
   "current": "22998cf2-14c9-11ea-8ffe-0242ac110002",
   "lc_server_signature": {
    "current": {
     "notebook_dir": "/home/user2/notebooks",
     "notebook_path": "/AWS",
     "server_url": "https://operationhub.kgr-lab.com/user/user2/",
     "signature_id": "ae27fcb2-043f-11ea-b29c-0242ac120002"
    },
    "history": [
     {
      "notebook_dir": "/home/jovyan",
      "notebook_path": "/work/lc4ri",
      "server_url": "http://192.168.0.106:8888/",
      "signature_id": "c932e082-14c8-11ea-8ffe-0242ac110002"
     },
     {
      "notebook_dir": "/home/jovyan",
      "notebook_path": "/work/lc4ri",
      "server_url": "http://192.168.0.105:8888/",
      "signature_id": "257243ec-14fb-11ea-8d3b-0242ac110002"
     },
     {
      "notebook_dir": "/home/user5/notebooks",
      "notebook_path": "/seminar-lc4ri/AWS",
      "server_url": "https://operationhub.kgr-lab.com/user/user5/",
      "signature_id": "ae27fcb2-043f-11ea-b29c-0242ac120002"
     },
     {
      "notebook_dir": "/home/user2/notebooks",
      "notebook_path": "/AWS",
      "server_url": "https://operationhub.kgr-lab.com/user/user2/",
      "signature_id": "ae27fcb2-043f-11ea-b29c-0242ac120002"
     },
     {
      "notebook_dir": "/home/user5/notebooks",
      "notebook_path": "/seminar-lc4ri/AWS",
      "server_url": "https://operationhub.kgr-lab.com/user/user5/",
      "signature_id": "ae27fcb2-043f-11ea-b29c-0242ac120002"
     }
    ]
   }
  },
  "toc": {
   "base_numbering": 1,
   "nav_menu": {},
   "number_sections": true,
   "sideBar": true,
   "skip_h1_title": false,
   "title_cell": "Table of Contents",
   "title_sidebar": "Contents",
   "toc_cell": false,
   "toc_position": {
    "height": "calc(100% - 180px)",
    "left": "10px",
    "top": "150px",
    "width": "165px"
   },
   "toc_section_display": true,
   "toc_window_display": true
  }
 },
 "nbformat": 4,
 "nbformat_minor": 2
}
