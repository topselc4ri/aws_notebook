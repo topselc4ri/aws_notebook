{
 "cells": [
  {
   "cell_type": "markdown",
   "metadata": {
    "lc_cell_meme": {
     "current": "aa92fe20-4f13-11ea-af7f-0242ac120004",
     "next": "563877aa-4352-11ea-82b4-0242ac120004",
     "previous": null
    }
   },
   "source": [
    "# リソース構築"
   ]
  },
  {
   "cell_type": "markdown",
   "metadata": {
    "lc_cell_meme": {
     "current": "563877aa-4352-11ea-82b4-0242ac120004",
     "history": [
      {
       "current": "563877aa-4352-11ea-82b4-0242ac120004",
       "next": "56387a16-4352-11ea-82b4-0242ac120004",
       "previous": null
      }
     ],
     "next": "56387a16-4352-11ea-82b4-0242ac120004",
     "previous": "aa92fe20-4f13-11ea-af7f-0242ac120004"
    }
   },
   "source": [
    "●●●リソースの情報の保存用変数●●●"
   ]
  },
  {
   "cell_type": "code",
   "execution_count": 6,
   "metadata": {
    "deletable": false,
    "editable": false,
    "lc_cell_meme": {
     "current": "56387a16-4352-11ea-82b4-0242ac120004",
     "execution_end_time": "2020-02-14T09:04:44.335633Z",
     "history": [
      {
       "current": "56387a16-4352-11ea-82b4-0242ac120004",
       "next": "57c455ae-1c05-11ea-8ec1-0242ac120005",
       "previous": "563877aa-4352-11ea-82b4-0242ac120004"
      }
     ],
     "next": "630bf160-4f13-11ea-af7f-0242ac120004",
     "previous": "563877aa-4352-11ea-82b4-0242ac120004"
    },
    "lc_wrapper": {
     "log_history": [
      "/home/user2/notebooks/200130/aws_notebook/.log/20200130/20200130-111922-0946.log",
      "/home/user2/notebooks/200130/aws_notebook/.log/20200214/20200214-090444-0328.log"
     ]
    },
    "run_through_control": {
     "frozen": true,
     "read_only": false
    }
   },
   "outputs": [],
   "source": [
    "res_info = {'vender': 'aws'}\n"
   ]
  },
  {
   "cell_type": "markdown",
   "metadata": {
    "lc_cell_meme": {
     "current": "630bf160-4f13-11ea-af7f-0242ac120004",
     "next": "a02bb2ea-31fb-11ea-9983-0242ac120004",
     "previous": "56387a16-4352-11ea-82b4-0242ac120004"
    }
   },
   "source": [
    "## EKSクラスタの構築(kubernetesクラスタ)"
   ]
  },
  {
   "cell_type": "code",
   "execution_count": 4,
   "metadata": {
    "lc_cell_meme": {
     "current": "a02bb2ea-31fb-11ea-9983-0242ac120004",
     "execution_end_time": "2020-02-14T09:04:32.838702Z",
     "history": [
      {
       "current": "a02bb2ea-31fb-11ea-9983-0242ac120004",
       "next": "0088d20c-2c94-11ea-85b7-0242ac120004",
       "previous": "57c455ae-1c05-11ea-8ec1-0242ac120005"
      },
      {
       "current": "a02bb2ea-31fb-11ea-9983-0242ac120004",
       "next": "e7af7b4c-31fb-11ea-9983-0242ac120004",
       "previous": "57c455ae-1c05-11ea-8ec1-0242ac120005"
      },
      {
       "current": "a02bb2ea-31fb-11ea-9983-0242ac120004",
       "next": "e7af7b4c-31fb-11ea-9983-0242ac120004",
       "previous": "982a814a-378a-11ea-b7f6-0242ac120004"
      },
      {
       "current": "a02bb2ea-31fb-11ea-9983-0242ac120004",
       "next": "e7af7b4c-31fb-11ea-9983-0242ac120004",
       "previous": "57c455ae-1c05-11ea-8ec1-0242ac120005"
      }
     ],
     "next": "e7af7b4c-31fb-11ea-9983-0242ac120004",
     "previous": "630bf160-4f13-11ea-af7f-0242ac120004"
    },
    "lc_wrapper": {
     "log_history": [
      "/home/user5/notebooks/seminar-lc4ri/AWS/.log/20200108/20200108-094706-0916.log",
      "/home/user2/.log/20200115/20200115-093218-0885.log",
      "/home/user2/.log/20200115/20200115-093302-0465.log",
      "/home/user2/.log/20200115/20200115-093316-0447.log",
      "/home/user2/.log/20200115/20200115-093325-0451.log",
      "/home/user2/notebooks/AWS/.log/20200115/20200115-095657-0532.log",
      "/home/user2/notebooks/AWS/.log/20200115/20200115-120116-0041.log",
      "/home/user2/notebooks/AWS/.log/20200115/20200115-120828-0058.log",
      "/home/user2/notebooks/AWS/.log/20200123/20200123-072557-0663.log",
      "/home/user2/notebooks/AWS/.log/20200127/20200127-013123-0944.log",
      "/home/user2/notebooks/200130/aws_notebook/.log/20200130/20200130-093410-0265.log",
      "/home/user2/notebooks/200130/aws_notebook/.log/20200130/20200130-113452-0705.log",
      "/home/user2/notebooks/200130/aws_notebook/.log/20200214/20200214-090432-0832.log"
     ]
    }
   },
   "outputs": [],
   "source": [
    "clusterName = 'aws-eks-200214'\n",
    "nodeGroupName = 'ng-200214'"
   ]
  },
  {
   "cell_type": "code",
   "execution_count": 7,
   "metadata": {
    "lc_cell_meme": {
     "current": "e7af7b4c-31fb-11ea-9983-0242ac120004",
     "execution_end_time": "2020-02-14T09:04:45.459051Z",
     "next": "0088d20c-2c94-11ea-85b7-0242ac120004",
     "previous": "a02bb2ea-31fb-11ea-9983-0242ac120004"
    },
    "lc_wrapper": {
     "log_history": [
      "/home/user5/notebooks/seminar-lc4ri/AWS/.log/20200108/20200108-094745-0641.log",
      "/home/user2/.log/20200115/20200115-093219-0823.log",
      "/home/user2/.log/20200115/20200115-093303-0307.log",
      "/home/user2/.log/20200115/20200115-093325-0976.log",
      "/home/user2/notebooks/AWS/.log/20200115/20200115-095657-0906.log",
      "/home/user2/notebooks/AWS/.log/20200115/20200115-120829-0289.log",
      "/home/user2/notebooks/AWS/.log/20200123/20200123-072557-0690.log",
      "/home/user2/notebooks/AWS/.log/20200123/20200123-072604-0987.log",
      "/home/user2/notebooks/AWS/.log/20200127/20200127-013128-0303.log",
      "/home/user2/notebooks/200130/aws_notebook/.log/20200130/20200130-093410-0659.log",
      "/home/user2/notebooks/200130/aws_notebook/.log/20200130/20200130-113451-0082.log",
      "/home/user2/notebooks/200130/aws_notebook/.log/20200130/20200130-113458-0409.log",
      "/home/user2/notebooks/200130/aws_notebook/.log/20200214/20200214-090437-0651.log",
      "/home/user2/notebooks/200130/aws_notebook/.log/20200214/20200214-090445-0453.log"
     ]
    }
   },
   "outputs": [],
   "source": [
    "res_info['clusterName']=clusterName\n",
    "res_info['nodeGroupName']=nodeGroupName"
   ]
  },
  {
   "cell_type": "code",
   "execution_count": 4,
   "metadata": {
    "lc_cell_meme": {
     "current": "0088d20c-2c94-11ea-85b7-0242ac120004",
     "execution_end_time": "2020-01-30T10:36:14.732176Z",
     "history": [
      {
       "current": "0088d20c-2c94-11ea-85b7-0242ac120004",
       "next": "521295b4-1c12-11ea-bd1f-0242ac120005",
       "previous": "ee2a8748-2c90-11ea-85b7-0242ac120004"
      },
      {
       "current": "0088d20c-2c94-11ea-85b7-0242ac120004",
       "next": "521295b4-1c12-11ea-bd1f-0242ac120005",
       "previous": "57c455ae-1c05-11ea-8ec1-0242ac120005"
      },
      {
       "current": "0088d20c-2c94-11ea-85b7-0242ac120004",
       "next": "521295b4-1c12-11ea-bd1f-0242ac120005",
       "previous": "a02bb2ea-31fb-11ea-9983-0242ac120004"
      },
      {
       "current": "0088d20c-2c94-11ea-85b7-0242ac120004",
       "next": "521295b4-1c12-11ea-bd1f-0242ac120005",
       "previous": "e7af7b4c-31fb-11ea-9983-0242ac120004"
      },
      {
       "current": "0088d20c-2c94-11ea-85b7-0242ac120004",
       "next": "efbc6aae-21a0-11ea-9f90-0242ac12000a",
       "previous": "e7af7b4c-31fb-11ea-9983-0242ac120004"
      }
     ],
     "next": "8998b418-40a8-11ea-91a9-0242ac120004",
     "previous": "e7af7b4c-31fb-11ea-9983-0242ac120004"
    },
    "lc_wrapper": {
     "log_history": [
      "/home/user5/notebooks/seminar-lc4ri/AWS/.log/20200101/20200101-124020-0330.log",
      "/home/user5/notebooks/seminar-lc4ri/AWS/.log/20200101/20200101-124251-0390.log",
      "/home/user5/notebooks/seminar-lc4ri/AWS/.log/20200108/20200108-094802-0383.log",
      "/home/user2/.log/20200115/20200115-093220-0512.log",
      "/home/user2/.log/20200115/20200115-093303-0881.log",
      "/home/user2/notebooks/AWS/.log/20200123/20200123-072605-0984.log",
      "/home/user2/notebooks/AWS/.log/20200127/20200127-013229-0163.log",
      "/home/user2/notebooks/200130/aws_notebook/.log/20200130/20200130-093411-0162.log",
      "/home/user2/notebooks/200130/aws_notebook/.log/20200130/20200130-102320-0373.log"
     ]
    },
    "pinned_outputs": [
     {
      "execution_count": 17,
      "outputs": [
       {
        "name": "stdout",
        "output_type": "stream",
        "text": "\u001b[36m[ℹ]  eksctl version 0.11.1\n\u001b[0m\u001b[36m[ℹ]  using region us-west-2\n\u001b[0m\u001b[36m[ℹ]  setting availability zones to [us-west-2a us-west-2b us-west-2c]\n\u001b[0m\u001b[36m[ℹ]  subnets for us-west-2a - public:10.0.0.0/19 private:10.0.96.0/19\n\u001b[0m\u001b[36m[ℹ]  subnets for us-west-2b - public:10.0.32.0/19 private:10.0.128.0/19\n\u001b[0m\u001b[36m[ℹ]  subnets for us-west-2c - public:10.0.64.0/19 private:10.0.160.0/19\n\u001b[0m\u001b[36m[ℹ]  nodegroup \"ng-0101-2\" will use \"ami-05d586e6f773f6abf\" [AmazonLinux2/1.14]\n\u001b[0m\u001b[36m[ℹ]  using Kubernetes version 1.14\n\u001b[0m\u001b[36m[ℹ]  creating EKS cluster \"user5-eks-0101-2\" in \"us-west-2\" region with un-managed nodes\n\u001b[0m\u001b[36m[ℹ]  will create 2 separate CloudFormation stacks for cluster itself and the initial nodegroup\n\u001b[0m\u001b[36m[ℹ]  if you encounter any issues, check CloudFormation console or try 'eksctl utils describe-stacks --region=us-west-2 --cluster=user5-eks-0101-2'\n\u001b[0m\u001b[36m[ℹ]  CloudWatch logging will not be enabled for cluster \"user5-eks-0101-2\" in \"us-west-2\"\n\u001b[0m\u001b[36m[ℹ]  you can enable it with 'eksctl utils update-cluster-logging --region=us-west-2 --cluster=user5-eks-0101-2'\n\u001b[0m\u001b[36m[ℹ]  Kubernetes API endpoint access will use default of {publicAccess=true, privateAccess=false} for cluster \"user5-eks-0101-2\" in \"us-west-2\"\n\u001b[0m\u001b[36m[ℹ]  2 sequential tasks: { create cluster control plane \"user5-eks-0101-2\", create nodegroup \"ng-0101-2\" }\n\u001b[0m\u001b[36m[ℹ]  building cluster stack \"eksctl-user5-eks-0101-2-cluster\"\n\u001b[0m\u001b[36m[ℹ]  deploying stack \"eksctl-user5-eks-0101-2-cluster\"\n\u001b[0m\u001b[36m[ℹ]  building nodegroup stack \"eksctl-user5-eks-0101-2-nodegroup-ng-0101-2\"\n\u001b[0m\u001b[36m[ℹ]  --nodes-min=2 was set automatically for nodegroup ng-0101-2\n\u001b[0m\u001b[36m[ℹ]  --nodes-max=2 was set automatically for nodegroup ng-0101-2\n\u001b[0m\u001b[36m[ℹ]  deploying stack \"eksctl-user5-eks-0101-2-nodegroup-ng-0101-2\"\n\u001b[0m\u001b[36m[✔]  all EKS cluster resources for \"user5-eks-0101-2\" have been created\n\u001b[0m\u001b[36m[✔]  saved kubeconfig as \"/home/user5/.kube/config\"\n\u001b[0m\u001b[36m[ℹ]  adding identity \"arn:aws:iam::565991835156:role/eksctl-user5-eks-0101-2-nodegroup-NodeInstanceRole-EJQOMBFLTXZO\" to auth ConfigMap\n\u001b[0m\u001b[36m[ℹ]  nodegroup \"ng-0101-2\" has 0 node(s)\n\u001b[0m\u001b[36m[ℹ]  waiting for at least 2 node(s) to become ready in \"ng-0101-2\"\n\u001b[0m\u001b[36m[ℹ]  nodegroup \"ng-0101-2\" has 2 node(s)\n\u001b[0m\u001b[36m[ℹ]  node \"ip-10-0-47-146.us-west-2.compute.internal\" is ready\n\u001b[0m\u001b[36m[ℹ]  node \"ip-10-0-90-246.us-west-2.compute.internal\" is ready\n\u001b[0m\u001b[36m[ℹ]  kubectl command should work with \"/home/user5/.kube/config\", try 'kubectl get nodes'\n\u001b[0m\u001b[36m[✔]  EKS cluster \"user5-eks-0101-2\" in \"us-west-2\" region is ready\n\u001b[0m"
       }
      ]
     }
    ],
    "scrolled": false
   },
   "outputs": [
    {
     "name": "stdout",
     "output_type": "stream",
     "text": [
      "\u001b[36m[ℹ]  eksctl version 0.13.0\n",
      "\u001b[0m\u001b[36m[ℹ]  using region us-west-2\n",
      "\u001b[0m\u001b[36m[ℹ]  subnets for us-west-2b - public:10.0.0.0/19 private:10.0.64.0/19\n",
      "\u001b[0m\u001b[36m[ℹ]  subnets for us-west-2c - public:10.0.32.0/19 private:10.0.96.0/19\n",
      "\u001b[0m\u001b[36m[ℹ]  using Kubernetes version 1.14\n",
      "\u001b[0m\u001b[36m[ℹ]  creating EKS cluster \"aws-eks-200130\" in \"us-west-2\" region with managed nodes\n",
      "\u001b[0m\u001b[36m[ℹ]  will create 2 separate CloudFormation stacks for cluster itself and the initial managed nodegroup\n",
      "\u001b[0m\u001b[36m[ℹ]  if you encounter any issues, check CloudFormation console or try 'eksctl utils describe-stacks --region=us-west-2 --cluster=aws-eks-200130'\n",
      "\u001b[0m\u001b[36m[ℹ]  CloudWatch logging will not be enabled for cluster \"aws-eks-200130\" in \"us-west-2\"\n",
      "\u001b[0m\u001b[36m[ℹ]  you can enable it with 'eksctl utils update-cluster-logging --region=us-west-2 --cluster=aws-eks-200130'\n",
      "\u001b[0m\u001b[36m[ℹ]  Kubernetes API endpoint access will use default of {publicAccess=true, privateAccess=false} for cluster \"aws-eks-200130\" in \"us-west-2\"\n",
      "\u001b[0m\u001b[36m[ℹ]  2 sequential tasks: { create cluster control plane \"aws-eks-200130\", create managed nodegroup \"ng-200130\" }\n",
      "\u001b[0m\u001b[36m[ℹ]  building cluster stack \"eksctl-aws-eks-200130-cluster\"\n",
      "\u001b[0m\u001b[36m[ℹ]  deploying stack \"eksctl-aws-eks-200130-cluster\"\n",
      "\u001b[0m\u001b[36m[ℹ]  building managed nodegroup stack \"eksctl-aws-eks-200130-nodegroup-ng-200130\"\n",
      "\u001b[0m\u001b[36m[ℹ]  deploying stack \"eksctl-aws-eks-200130-nodegroup-ng-200130\"\n",
      "\u001b[0m\u001b[36m[✔]  all EKS cluster resources for \"aws-eks-200130\" have been created\n",
      "\u001b[0m\u001b[36m[✔]  saved kubeconfig as \"/home/user2/.kube/config\"\n",
      "\u001b[0m\u001b[36m[ℹ]  nodegroup \"ng-200130\" has 2 node(s)\n",
      "\u001b[0m\u001b[36m[ℹ]  node \"ip-10-0-27-63.us-west-2.compute.internal\" is ready\n",
      "\u001b[0m\u001b[36m[ℹ]  node \"ip-10-0-36-9.us-west-2.compute.internal\" is ready\n",
      "\u001b[0m\u001b[36m[ℹ]  waiting for at least 2 node(s) to become ready in \"ng-200130\"\n",
      "\u001b[0m\u001b[36m[ℹ]  nodegroup \"ng-200130\" has 2 node(s)\n",
      "\u001b[0m\u001b[36m[ℹ]  node \"ip-10-0-27-63.us-west-2.compute.internal\" is ready\n",
      "\u001b[0m\u001b[36m[ℹ]  node \"ip-10-0-36-9.us-west-2.compute.internal\" is ready\n",
      "\u001b[0m\u001b[36m[ℹ]  kubectl command should work with \"/home/user2/.kube/config\", try 'kubectl get nodes'\n",
      "\u001b[0m\u001b[36m[✔]  EKS cluster \"aws-eks-200130\" in \"us-west-2\" region is ready\n",
      "\u001b[0m"
     ]
    }
   ],
   "source": [
    "!eksctl create cluster \\\n",
    "    --vpc-cidr 10.0.0.0/16 \\\n",
    "    --vpc-nat-mode HighlyAvailable \\\n",
    "    --name {clusterName} \\\n",
    "    --version 1.14 \\\n",
    "    --nodegroup-name {nodeGroupName} \\\n",
    "    --node-type t3.small \\\n",
    "    --nodes 2 \\\n",
    "    --zones=us-west-2b,us-west-2c \\\n",
    "    --managed"
   ]
  },
  {
   "cell_type": "markdown",
   "metadata": {
    "lc_cell_meme": {
     "current": "8998b418-40a8-11ea-91a9-0242ac120004",
     "next": "8998b6de-40a8-11ea-91a9-0242ac120004",
     "previous": "0088d20c-2c94-11ea-85b7-0242ac120004"
    }
   },
   "source": [
    "クラスターができていることを確認する"
   ]
  },
  {
   "cell_type": "code",
   "execution_count": 5,
   "metadata": {
    "deletable": false,
    "editable": false,
    "lc_cell_meme": {
     "current": "8998b6de-40a8-11ea-91a9-0242ac120004",
     "execution_end_time": "2020-01-30T10:50:04.694451Z",
     "history": [
      {
       "current": "8998b6de-40a8-11ea-91a9-0242ac120004",
       "next": "efbc6aae-21a0-11ea-9f90-0242ac12000a",
       "previous": "8998b418-40a8-11ea-91a9-0242ac120004"
      }
     ],
     "next": "1fa11378-3786-11ea-b7f6-0242ac120004",
     "previous": "8998b418-40a8-11ea-91a9-0242ac120004"
    },
    "lc_wrapper": {
     "log_history": [
      "/home/user2/notebooks/AWS/.log/20200127/20200127-015732-0785.log",
      "/home/user2/notebooks/AWS/.log/20200127/20200127-015815-0161.log",
      "/home/user2/notebooks/200130/aws_notebook/.log/20200130/20200130-105003-0203.log"
     ]
    },
    "run_through_control": {
     "frozen": true,
     "read_only": false
    },
    "scrolled": false
   },
   "outputs": [
    {
     "name": "stdout",
     "output_type": "stream",
     "text": [
      "NAME         TYPE        CLUSTER-IP   EXTERNAL-IP   PORT(S)   AGE\r\n",
      "kubernetes   ClusterIP   172.20.0.1   <none>        443/TCP   18m\r\n"
     ]
    }
   ],
   "source": [
    "!kubectl get svc"
   ]
  },
  {
   "cell_type": "markdown",
   "metadata": {
    "lc_cell_meme": {
     "current": "1fa11378-3786-11ea-b7f6-0242ac120004",
     "history": [
      {
       "current": "1fa11378-3786-11ea-b7f6-0242ac120004",
       "next": "a988bc24-27d4-11ea-874f-0242ac120004",
       "previous": "b5186582-27d2-11ea-874f-0242ac120004"
      },
      {
       "current": "1fa11378-3786-11ea-b7f6-0242ac120004",
       "next": "f5ad855c-3130-11ea-aa2a-0242ac120004",
       "previous": "b5186582-27d2-11ea-874f-0242ac120004"
      }
     ],
     "next": "f5ad855c-3130-11ea-aa2a-0242ac120004",
     "previous": "8998b6de-40a8-11ea-91a9-0242ac120004"
    }
   },
   "source": [
    "## EFSの構築(NFS)"
   ]
  },
  {
   "cell_type": "markdown",
   "metadata": {
    "lc_cell_meme": {
     "current": "f5ad855c-3130-11ea-aa2a-0242ac120004",
     "history": [
      {
       "current": "f5ad855c-3130-11ea-aa2a-0242ac120004",
       "next": "f5ad896c-3130-11ea-aa2a-0242ac120004",
       "previous": "b7f14b5a-2180-11ea-852f-0242ac120005"
      }
     ],
     "next": "f5ad896c-3130-11ea-aa2a-0242ac120004",
     "previous": "1fa11378-3786-11ea-b7f6-0242ac120004"
    }
   },
   "source": [
    "■IAMロールの一覧取得\n",
    "\n",
    "■NodeInstanceRoleのロール名をコピー（eksctl-aws-eks-0108-nodegroup-ng-NodeInstanceRole-XGXVUO8O861C）"
   ]
  },
  {
   "cell_type": "code",
   "execution_count": 11,
   "metadata": {
    "deletable": false,
    "editable": false,
    "lc_cell_meme": {
     "current": "f5ad896c-3130-11ea-aa2a-0242ac120004",
     "execution_end_time": "2020-02-14T09:05:25.922279Z",
     "history": [
      {
       "current": "f5ad896c-3130-11ea-aa2a-0242ac120004",
       "next": "553914f0-2182-11ea-852f-0242ac120005",
       "previous": "f5ad855c-3130-11ea-aa2a-0242ac120004"
      },
      {
       "current": "f5ad896c-3130-11ea-aa2a-0242ac120004",
       "next": "31fa8b48-3133-11ea-aa2a-0242ac120004",
       "previous": "f5ad855c-3130-11ea-aa2a-0242ac120004"
      },
      {
       "current": "f5ad896c-3130-11ea-aa2a-0242ac120004",
       "next": "67943b7e-3786-11ea-b7f6-0242ac120004",
       "previous": "f5ad855c-3130-11ea-aa2a-0242ac120004"
      }
     ],
     "next": "cd3a9440-3787-11ea-b7f6-0242ac120004",
     "previous": "f5ad855c-3130-11ea-aa2a-0242ac120004"
    },
    "lc_wrapper": {
     "log_history": [
      "/home/user6/notebooks/.log/20200107/20200107-093449-0605.log",
      "/home/user6/notebooks/.log/20200107/20200107-093715-0401.log",
      "/home/user6/notebooks/.log/20200107/20200107-094407-0625.log",
      "/home/user6/notebooks/.log/20200108/20200108-111409-0819.log",
      "/home/user2/notebooks/AWS/.log/20200115/20200115-110017-0359.log",
      "/home/user2/notebooks/AWS/.log/20200115/20200115-110429-0774.log",
      "/home/user2/notebooks/AWS/.log/20200115/20200115-110449-0832.log",
      "/home/user2/notebooks/AWS/.log/20200115/20200115-110550-0414.log",
      "/home/user2/notebooks/AWS/.log/20200115/20200115-110605-0155.log",
      "/home/user2/notebooks/AWS/.log/20200115/20200115-110618-0417.log",
      "/home/user2/notebooks/AWS/.log/20200115/20200115-110630-0255.log",
      "/home/user2/notebooks/AWS/.log/20200115/20200115-110641-0953.log",
      "/home/user2/notebooks/AWS/.log/20200115/20200115-110648-0774.log",
      "/home/user2/notebooks/AWS/.log/20200115/20200115-110742-0670.log",
      "/home/user2/notebooks/AWS/.log/20200115/20200115-110800-0870.log",
      "/home/user2/notebooks/AWS/.log/20200115/20200115-110807-0213.log",
      "/home/user2/notebooks/AWS/.log/20200115/20200115-110812-0537.log",
      "/home/user2/notebooks/AWS/.log/20200115/20200115-110821-0575.log",
      "/home/user2/notebooks/AWS/.log/20200115/20200115-110825-0321.log",
      "/home/user2/notebooks/AWS/.log/20200115/20200115-110830-0542.log",
      "/home/user2/notebooks/AWS/.log/20200115/20200115-110843-0548.log",
      "/home/user2/notebooks/AWS/.log/20200115/20200115-110847-0856.log",
      "/home/user2/notebooks/AWS/.log/20200115/20200115-110906-0434.log",
      "/home/user2/notebooks/AWS/.log/20200115/20200115-110932-0637.log",
      "/home/user2/notebooks/AWS/.log/20200115/20200115-110941-0354.log",
      "/home/user2/notebooks/AWS/.log/20200115/20200115-111025-0295.log",
      "/home/user2/notebooks/AWS/.log/20200123/20200123-074223-0619.log",
      "/home/user2/notebooks/AWS/.log/20200127/20200127-020519-0278.log",
      "/home/user2/notebooks/200130/aws_notebook/.log/20200130/20200130-111249-0759.log",
      "/home/user2/notebooks/200130/aws_notebook/.log/20200130/20200130-114813-0981.log",
      "/home/user2/notebooks/200130/aws_notebook/.log/20200214/20200214-090524-0883.log"
     ]
    },
    "pinned_outputs": [
     {
      "execution_count": 3,
      "outputs": [
       {
        "name": "stdout",
        "output_type": "stream",
        "text": "{\r\n    \"Roles\": [\r\n        {\r\n            \"Path\": \"/aws-service-role/eks-nodegroup.amazonaws.com/\",\r\n            \"RoleName\": \"AWSServiceRoleForAmazonEKSNodegroup\",\r\n            \"RoleId\": \"AROAYHR56AYKAPYKGC4GW\",\r\n            \"Arn\": \"arn:aws:iam::565991835156:role/aws-service-role/eks-nodegroup.amazonaws.com/AWSServiceRoleForAmazonEKSNodegroup\",\r\n            \"CreateDate\": \"2019-12-11T10:36:56Z\",\r\n            \"AssumeRolePolicyDocument\": {\r\n                \"Version\": \"2012-10-17\",\r\n                \"Statement\": [\r\n                    {\r\n                        \"Effect\": \"Allow\",\r\n                        \"Principal\": {\r\n                            \"Service\": \"eks-nodegroup.amazonaws.com\"\r\n                        },\r\n                        \"Action\": \"sts:AssumeRole\"\r\n                    }\r\n                ]\r\n            },\r\n            \"Description\": \"This policy allows Amazon EKS to create and manage Nodegroups\"\r\n        },\r\n        {\r\n            \"Path\": \"/aws-service-role/elasticfilesystem.amazonaws.com/\",\r\n            \"RoleName\": \"AWSServiceRoleForAmazonElasticFileSystem\",\r\n            \"RoleId\": \"AROAYHR56AYKOYDRGHYX2\",\r\n            \"Arn\": \"arn:aws:iam::565991835156:role/aws-service-role/elasticfilesystem.amazonaws.com/AWSServiceRoleForAmazonElasticFileSystem\",\r\n            \"CreateDate\": \"2019-12-26T10:39:04Z\",\r\n            \"AssumeRolePolicyDocument\": {\r\n                \"Version\": \"2012-10-17\",\r\n                \"Statement\": [\r\n                    {\r\n                        \"Effect\": \"Allow\",\r\n                        \"Principal\": {\r\n                            \"Service\": \"elasticfilesystem.amazonaws.com\"\r\n                        },\r\n                        \"Action\": \"sts:AssumeRole\"\r\n                    }\r\n                ]\r\n            }\r\n        },\r\n        {\r\n            \"Path\": \"/aws-service-role/autoscaling.amazonaws.com/\",\r\n            \"RoleName\": \"AWSServiceRoleForAutoScaling\",\r\n            \"RoleId\": \"AROAYHR56AYKMOPU5KLFZ\",\r\n            \"Arn\": \"arn:aws:iam::565991835156:role/aws-service-role/autoscaling.amazonaws.com/AWSServiceRoleForAutoScaling\",\r\n            \"CreateDate\": \"2019-12-11T04:55:49Z\",\r\n            \"AssumeRolePolicyDocument\": {\r\n                \"Version\": \"2012-10-17\",\r\n                \"Statement\": [\r\n                    {\r\n                        \"Effect\": \"Allow\",\r\n                        \"Principal\": {\r\n                            \"Service\": \"autoscaling.amazonaws.com\"\r\n                        },\r\n                        \"Action\": \"sts:AssumeRole\"\r\n                    }\r\n                ]\r\n            },\r\n            \"Description\": \"Default Service-Linked Role enables access to AWS Services and Resources used or managed by Auto Scaling\"\r\n        },\r\n        {\r\n            \"Path\": \"/aws-service-role/spot.amazonaws.com/\",\r\n            \"RoleName\": \"AWSServiceRoleForEC2Spot\",\r\n            \"RoleId\": \"AROAYHR56AYKJSMXXV2AR\",\r\n            \"Arn\": \"arn:aws:iam::565991835156:role/aws-service-role/spot.amazonaws.com/AWSServiceRoleForEC2Spot\",\r\n            \"CreateDate\": \"2019-12-11T11:44:23Z\",\r\n            \"AssumeRolePolicyDocument\": {\r\n                \"Version\": \"2012-10-17\",\r\n                \"Statement\": [\r\n                    {\r\n                        \"Effect\": \"Allow\",\r\n                        \"Principal\": {\r\n                            \"Service\": \"spot.amazonaws.com\"\r\n                        },\r\n                        \"Action\": \"sts:AssumeRole\"\r\n                    }\r\n                ]\r\n            },\r\n            \"Description\": \"Default EC2 Spot Service Linked Role\"\r\n        },\r\n        {\r\n            \"Path\": \"/aws-service-role/elasticloadbalancing.amazonaws.com/\",\r\n            \"RoleName\": \"AWSServiceRoleForElasticLoadBalancing\",\r\n            \"RoleId\": \"AROAYHR56AYKBQOQHCPPC\",\r\n            \"Arn\": \"arn:aws:iam::565991835156:role/aws-service-role/elasticloadbalancing.amazonaws.com/AWSServiceRoleForElasticLoadBalancing\",\r\n            \"CreateDate\": \"2019-12-18T08:33:36Z\",\r\n            \"AssumeRolePolicyDocument\": {\r\n                \"Version\": \"2012-10-17\",\r\n                \"Statement\": [\r\n                    {\r\n                        \"Effect\": \"Allow\",\r\n                        \"Principal\": {\r\n                            \"Service\": \"elasticloadbalancing.amazonaws.com\"\r\n                        },\r\n                        \"Action\": \"sts:AssumeRole\"\r\n                    }\r\n                ]\r\n            },\r\n            \"Description\": \"Allows ELB to call AWS services on your behalf.\"\r\n        },\r\n        {\r\n            \"Path\": \"/aws-service-role/rds.amazonaws.com/\",\r\n            \"RoleName\": \"AWSServiceRoleForRDS\",\r\n            \"RoleId\": \"AROAYHR56AYKNOZ2I4SOT\",\r\n            \"Arn\": \"arn:aws:iam::565991835156:role/aws-service-role/rds.amazonaws.com/AWSServiceRoleForRDS\",\r\n            \"CreateDate\": \"2019-12-26T01:51:34Z\",\r\n            \"AssumeRolePolicyDocument\": {\r\n                \"Version\": \"2012-10-17\",\r\n                \"Statement\": [\r\n                    {\r\n                        \"Effect\": \"Allow\",\r\n                        \"Principal\": {\r\n                            \"Service\": \"rds.amazonaws.com\"\r\n                        },\r\n                        \"Action\": \"sts:AssumeRole\"\r\n                    }\r\n                ]\r\n            },\r\n            \"Description\": \"Allows Amazon RDS to manage AWS resources on your behalf\"\r\n        },\r\n        {\r\n            \"Path\": \"/aws-service-role/support.amazonaws.com/\",\r\n            \"RoleName\": \"AWSServiceRoleForSupport\",\r\n            \"RoleId\": \"AROAYHR56AYKNH6HXHFAL\",\r\n            \"Arn\": \"arn:aws:iam::565991835156:role/aws-service-role/support.amazonaws.com/AWSServiceRoleForSupport\",\r\n            \"CreateDate\": \"2019-12-04T06:19:48Z\",\r\n            \"AssumeRolePolicyDocument\": {\r\n                \"Version\": \"2012-10-17\",\r\n                \"Statement\": [\r\n                    {\r\n                        \"Effect\": \"Allow\",\r\n                        \"Principal\": {\r\n                            \"Service\": \"support.amazonaws.com\"\r\n                        },\r\n                        \"Action\": \"sts:AssumeRole\"\r\n                    }\r\n                ]\r\n            },\r\n            \"Description\": \"Enables resource access for AWS to provide billing, administrative and support services\"\r\n        },\r\n        {\r\n            \"Path\": \"/aws-service-role/trustedadvisor.amazonaws.com/\",\r\n            \"RoleName\": \"AWSServiceRoleForTrustedAdvisor\",\r\n            \"RoleId\": \"AROAYHR56AYKBQTPSCQ6V\",\r\n            \"Arn\": \"arn:aws:iam::565991835156:role/aws-service-role/trustedadvisor.amazonaws.com/AWSServiceRoleForTrustedAdvisor\",\r\n            \"CreateDate\": \"2019-12-04T06:19:48Z\",\r\n            \"AssumeRolePolicyDocument\": {\r\n                \"Version\": \"2012-10-17\",\r\n                \"Statement\": [\r\n                    {\r\n                        \"Effect\": \"Allow\",\r\n                        \"Principal\": {\r\n                            \"Service\": \"trustedadvisor.amazonaws.com\"\r\n                        },\r\n                        \"Action\": \"sts:AssumeRole\"\r\n                    }\r\n                ]\r\n            },\r\n            \"Description\": \"Access for the AWS Trusted Advisor Service to help reduce cost, increase performance, and improve security of your AWS environment.\"\r\n        },\r\n        {\r\n            \"Path\": \"/\",\r\n            \"RoleName\": \"eksctl-eks-okamura-cluster-FargatePodExecutionRole-1MZBJV4RAJ9CD\",\r\n            \"RoleId\": \"AROAYHR56AYKHVH4XHTI5\",\r\n            \"Arn\": \"arn:aws:iam::565991835156:role/eksctl-eks-okamura-cluster-FargatePodExecutionRole-1MZBJV4RAJ9CD\",\r\n            \"CreateDate\": \"2020-01-07T09:30:39Z\",\r\n            \"AssumeRolePolicyDocument\": {\r\n                \"Version\": \"2012-10-17\",\r\n                \"Statement\": [\r\n                    {\r\n                        \"Effect\": \"Allow\",\r\n                        \"Principal\": {\r\n                            \"Service\": [\r\n                                \"eks-fargate-pods.amazonaws.com\",\r\n                                \"eks.amazonaws.com\"\r\n                            ]\r\n                        },\r\n                        \"Action\": \"sts:AssumeRole\"\r\n                    }\r\n                ]\r\n            },\r\n            \"Description\": \"\"\r\n        },\r\n        {\r\n            \"Path\": \"/\",\r\n            \"RoleName\": \"eksctl-eks-okamura-cluster-ServiceRole-1BVNUJH7YJA1\",\r\n            \"RoleId\": \"AROAYHR56AYKIJQPQUTIL\",\r\n            \"Arn\": \"arn:aws:iam::565991835156:role/eksctl-eks-okamura-cluster-ServiceRole-1BVNUJH7YJA1\",\r\n            \"CreateDate\": \"2020-01-07T09:30:39Z\",\r\n            \"AssumeRolePolicyDocument\": {\r\n                \"Version\": \"2012-10-17\",\r\n                \"Statement\": [\r\n                    {\r\n                        \"Effect\": \"Allow\",\r\n                        \"Principal\": {\r\n                            \"Service\": [\r\n                                \"eks-fargate-pods.amazonaws.com\",\r\n                                \"eks.amazonaws.com\"\r\n                            ]\r\n                        },\r\n                        \"Action\": \"sts:AssumeRole\"\r\n                    }\r\n                ]\r\n            },\r\n            \"Description\": \"\"\r\n        },\r\n        {\r\n            \"Path\": \"/\",\r\n            \"RoleName\": \"eksctl-eks-okamura-nodegroup-oka-NodeInstanceRole-16FTR7XHV6VUQ\",\r\n            \"RoleId\": \"AROAYHR56AYKFLUGQLLLE\",\r\n            \"Arn\": \"arn:aws:iam::565991835156:role/eksctl-eks-okamura-nodegroup-oka-NodeInstanceRole-16FTR7XHV6VUQ\",\r\n            \"CreateDate\": \"2020-01-07T09:41:22Z\",\r\n            \"AssumeRolePolicyDocument\": {\r\n                \"Version\": \"2012-10-17\",\r\n                \"Statement\": [\r\n                    {\r\n                        \"Effect\": \"Allow\",\r\n                        \"Principal\": {\r\n                            \"Service\": \"ec2.amazonaws.com\"\r\n                        },\r\n                        \"Action\": \"sts:AssumeRole\"\r\n                    }\r\n                ]\r\n            },\r\n            \"Description\": \"\"\r\n        },\r\n        {\r\n            \"Path\": \"/\",\r\n            \"RoleName\": \"rds-monitoring-role\",\r\n            \"RoleId\": \"AROAYHR56AYKOFJ6RJNHV\",\r\n            \"Arn\": \"arn:aws:iam::565991835156:role/rds-monitoring-role\",\r\n            \"CreateDate\": \"2019-12-26T04:53:28Z\",\r\n            \"AssumeRolePolicyDocument\": {\r\n                \"Version\": \"2012-10-17\",\r\n                \"Statement\": [\r\n                    {\r\n                        \"Sid\": \"\",\r\n                        \"Effect\": \"Allow\",\r\n                        \"Principal\": {\r\n                            \"Service\": \"monitoring.rds.amazonaws.com\"\r\n                        },\r\n                        \"Action\": \"sts:AssumeRole\"\r\n                    }\r\n                ]\r\n            }\r\n        }\r\n    ]\r\n}\r\n"
       }
      ]
     }
    ],
    "run_through_control": {
     "frozen": true,
     "read_only": false
    },
    "scrolled": true
   },
   "outputs": [
    {
     "name": "stdout",
     "output_type": "stream",
     "text": [
      "eksctl-aws-eks-200214-nodegroup-n-NodeInstanceRole-L49KCDT5ANC5\n"
     ]
    }
   ],
   "source": [
    "row = !aws iam list-roles | grep '{clusterName}-nodegroup-n-NodeInstanceRole-'\n",
    "\n",
    "\n",
    "import re\n",
    "\n",
    "m = re.search(r'\"RoleName\": \"(.*)\",', row[0])\n",
    "NodeInstanceRole = m.group(1)\n",
    "print(NodeInstanceRole)\n",
    "\n",
    "res_info['NodeInstanceRole']=NodeInstanceRole"
   ]
  },
  {
   "cell_type": "markdown",
   "metadata": {
    "lc_cell_meme": {
     "current": "cd3a9440-3787-11ea-b7f6-0242ac120004",
     "next": "67943b7e-3786-11ea-b7f6-0242ac120004",
     "previous": "f5ad896c-3130-11ea-aa2a-0242ac120004"
    }
   },
   "source": [
    "■ロールにEFSのポリシーをアタッチ"
   ]
  },
  {
   "cell_type": "code",
   "execution_count": 29,
   "metadata": {
    "lc_cell_meme": {
     "current": "67943b7e-3786-11ea-b7f6-0242ac120004",
     "execution_end_time": "2020-01-30T11:12:53.258771Z",
     "history": [
      {
       "current": "67943b7e-3786-11ea-b7f6-0242ac120004",
       "next": "67943fd4-3786-11ea-b7f6-0242ac120004",
       "previous": "f5ad896c-3130-11ea-aa2a-0242ac120004"
      },
      {
       "current": "67943b7e-3786-11ea-b7f6-0242ac120004",
       "next": "67943fd4-3786-11ea-b7f6-0242ac120004",
       "previous": "cd3a9440-3787-11ea-b7f6-0242ac120004"
      }
     ],
     "next": "553917ca-2182-11ea-852f-0242ac120005",
     "previous": "cd3a9440-3787-11ea-b7f6-0242ac120004"
    },
    "lc_wrapper": {
     "log_history": [
      "/home/user2/notebooks/AWS/.log/20200115/20200115-111109-0470.log",
      "/home/user2/notebooks/AWS/.log/20200115/20200115-111129-0682.log",
      "/home/user2/notebooks/AWS/.log/20200123/20200123-074227-0944.log",
      "/home/user2/notebooks/AWS/.log/20200127/20200127-020520-0318.log",
      "/home/user2/notebooks/200130/aws_notebook/.log/20200130/20200130-111251-0402.log"
     ]
    }
   },
   "outputs": [],
   "source": [
    "!aws iam attach-role-policy --role-name \\\n",
    "{NodeInstanceRole} \\\n",
    "--policy-arn arn:aws:iam::aws:policy/AmazonElasticFileSystemFullAccess"
   ]
  },
  {
   "cell_type": "markdown",
   "metadata": {
    "lc_cell_meme": {
     "current": "553917ca-2182-11ea-852f-0242ac120005",
     "history": [
      {
       "current": "553917ca-2182-11ea-852f-0242ac120005",
       "next": "553918f6-2182-11ea-852f-0242ac120005",
       "previous": "b7f14cd6-2180-11ea-852f-0242ac120005"
      }
     ],
     "next": "553918f6-2182-11ea-852f-0242ac120005",
     "previous": "67943b7e-3786-11ea-b7f6-0242ac120004"
    }
   },
   "source": [
    "■!awsを入れて、再実行→成功 (プレビュー版ではなく、正式版になっている)"
   ]
  },
  {
   "cell_type": "code",
   "execution_count": 30,
   "metadata": {
    "lc_cell_meme": {
     "current": "553918f6-2182-11ea-852f-0242ac120005",
     "execution_end_time": "2020-01-30T11:12:57.126060Z",
     "next": "553919e6-2182-11ea-852f-0242ac120005",
     "previous": "553917ca-2182-11ea-852f-0242ac120005"
    },
    "lc_wrapper": {
     "log_history": [
      "/home/user6/notebooks/users/user6/.log/20191218/20191218-102949-0402.log",
      "/home/user6/notebooks/.log/20191226/20191226-102816-0529.log",
      "/home/user6/notebooks/.log/20200107/20200107-095653-0174.log",
      "/home/user6/notebooks/.log/20200107/20200107-095937-0484.log",
      "/home/user6/notebooks/.log/20200108/20200108-111605-0594.log",
      "/home/user2/notebooks/AWS/.log/20200115/20200115-111233-0321.log",
      "/home/user2/notebooks/AWS/.log/20200123/20200123-074231-0388.log",
      "/home/user2/notebooks/AWS/.log/20200127/20200127-020522-0197.log",
      "/home/user2/notebooks/200130/aws_notebook/.log/20200130/20200130-111255-0387.log"
     ]
    },
    "pinned_outputs": [
     {
      "execution_count": 3,
      "outputs": [
       {
        "name": "stdout",
        "output_type": "stream",
        "text": "{\r\n    \"OwnerId\": \"565991835156\",\r\n    \"CreationToken\": \"EFS-sample\",\r\n    \"FileSystemId\": \"fs-279c528d\",\r\n    \"CreationTime\": 1576664990.0,\r\n    \"LifeCycleState\": \"creating\",\r\n    \"NumberOfMountTargets\": 0,\r\n    \"SizeInBytes\": {\r\n        \"Value\": 0\r\n    },\r\n    \"PerformanceMode\": \"generalPurpose\",\r\n    \"Encrypted\": false\r\n}\r\n"
       }
      ]
     }
    ]
   },
   "outputs": [
    {
     "name": "stdout",
     "output_type": "stream",
     "text": [
      "{\r\n",
      "    \"OwnerId\": \"565991835156\",\r\n",
      "    \"CreationToken\": \"EFS-topse\",\r\n",
      "    \"FileSystemId\": \"fs-cc76c766\",\r\n",
      "    \"CreationTime\": 1580382776.0,\r\n",
      "    \"LifeCycleState\": \"creating\",\r\n",
      "    \"NumberOfMountTargets\": 0,\r\n",
      "    \"SizeInBytes\": {\r\n",
      "        \"Value\": 0,\r\n",
      "        \"ValueInIA\": 0,\r\n",
      "        \"ValueInStandard\": 0\r\n",
      "    },\r\n",
      "    \"PerformanceMode\": \"generalPurpose\",\r\n",
      "    \"Encrypted\": false,\r\n",
      "    \"ThroughputMode\": \"bursting\",\r\n",
      "    \"Tags\": []\r\n",
      "}\r\n"
     ]
    }
   ],
   "source": [
    "!aws efs create-file-system \\\n",
    "--creation-token \"EFS-topse\" \\\n",
    "--performance-mode \"generalPurpose\""
   ]
  },
  {
   "cell_type": "markdown",
   "metadata": {
    "lc_cell_meme": {
     "current": "553919e6-2182-11ea-852f-0242ac120005",
     "next": "55391ad6-2182-11ea-852f-0242ac120005",
     "previous": "553918f6-2182-11ea-852f-0242ac120005"
    }
   },
   "source": [
    "■EFSの作成確認とFileSystemIdの取り出し"
   ]
  },
  {
   "cell_type": "code",
   "execution_count": 12,
   "metadata": {
    "deletable": false,
    "editable": false,
    "lc_cell_meme": {
     "current": "55391ad6-2182-11ea-852f-0242ac120005",
     "execution_end_time": "2020-02-14T09:05:30.765555Z",
     "history": [
      {
       "current": "55391ad6-2182-11ea-852f-0242ac120005",
       "next": "55391bb2-2182-11ea-852f-0242ac120005",
       "previous": "553919e6-2182-11ea-852f-0242ac120005"
      },
      {
       "current": "55391ad6-2182-11ea-852f-0242ac120005",
       "next": "67943fd4-3786-11ea-b7f6-0242ac120004",
       "previous": "553919e6-2182-11ea-852f-0242ac120005"
      }
     ],
     "next": "55391bb2-2182-11ea-852f-0242ac120005",
     "previous": "553919e6-2182-11ea-852f-0242ac120005"
    },
    "lc_wrapper": {
     "log_history": [
      "/home/user6/notebooks/users/user6/.log/20191218/20191218-102845-0164.log",
      "/home/user6/notebooks/users/user6/.log/20191218/20191218-103131-0640.log",
      "/home/user6/notebooks/.log/20191226/20191226-102835-0831.log",
      "/home/user6/notebooks/.log/20200107/20200107-095945-0115.log",
      "/home/user6/notebooks/.log/20200108/20200108-111613-0388.log",
      "/home/user2/notebooks/AWS/.log/20200115/20200115-111256-0812.log",
      "/home/user2/notebooks/AWS/.log/20200115/20200115-111413-0399.log",
      "/home/user2/notebooks/AWS/.log/20200115/20200115-111442-0924.log",
      "/home/user2/notebooks/AWS/.log/20200115/20200115-111449-0230.log",
      "/home/user2/notebooks/AWS/.log/20200123/20200123-074237-0215.log",
      "/home/user2/notebooks/AWS/.log/20200127/20200127-020523-0854.log",
      "/home/user2/notebooks/200130/aws_notebook/.log/20200130/20200130-111258-0029.log",
      "/home/user2/notebooks/200130/aws_notebook/.log/20200130/20200130-112035-0246.log",
      "/home/user2/notebooks/200130/aws_notebook/.log/20200214/20200214-090529-0941.log"
     ]
    },
    "run_through_control": {
     "frozen": true,
     "read_only": false
    },
    "scrolled": true
   },
   "outputs": [
    {
     "name": "stdout",
     "output_type": "stream",
     "text": [
      "['            \"FileSystemId\": \"fs-83a42529\",']\n",
      "fs-83a42529\n",
      "{'vender': 'aws', 'clusterName': 'aws-eks-200214', 'nodeGroupName': 'ng-200214', 'workerRolearn': 'eksctl-aws-eks-200214-nodegroup-n-NodeInstanceRole-L49KCDT5ANC5', 'NodeInstanceRole': 'eksctl-aws-eks-200214-nodegroup-n-NodeInstanceRole-L49KCDT5ANC5', 'FileSystemId': 'fs-83a42529'}\n"
     ]
    }
   ],
   "source": [
    "row = !aws efs describe-file-systems --creation-token \"EFS-topse\" | grep FileSystemId\n",
    "print(row)\n",
    "\n",
    "import re\n",
    "m = re.search(r'\"FileSystemId\": \"(.*)\",', row[0])\n",
    "FileSystemId = m.group(1)\n",
    "print(FileSystemId)\n",
    "\n",
    "#リソース情報に追加\n",
    "res_info['FileSystemId'] = FileSystemId\n",
    "\n",
    "print(res_info)"
   ]
  },
  {
   "cell_type": "markdown",
   "metadata": {
    "lc_cell_meme": {
     "current": "55391bb2-2182-11ea-852f-0242ac120005",
     "next": "55391c98-2182-11ea-852f-0242ac120005",
     "previous": "55391ad6-2182-11ea-852f-0242ac120005"
    }
   },
   "source": [
    "■Nameタグ付け"
   ]
  },
  {
   "cell_type": "code",
   "execution_count": 32,
   "metadata": {
    "lc_cell_meme": {
     "current": "55391c98-2182-11ea-852f-0242ac120005",
     "execution_end_time": "2020-01-30T11:13:03.254398Z",
     "next": "55391d7e-2182-11ea-852f-0242ac120005",
     "previous": "55391bb2-2182-11ea-852f-0242ac120005"
    },
    "lc_wrapper": {
     "log_history": [
      "/home/user6/notebooks/users/user6/.log/20191218/20191218-103311-0914.log",
      "/home/user6/notebooks/.log/20191226/20191226-102900-0665.log",
      "/home/user6/notebooks/.log/20200107/20200107-100036-0780.log",
      "/home/user6/notebooks/.log/20200108/20200108-111916-0185.log",
      "/home/user2/notebooks/AWS/.log/20200115/20200115-111619-0756.log",
      "/home/user2/notebooks/AWS/.log/20200123/20200123-074238-0975.log",
      "/home/user2/notebooks/AWS/.log/20200127/20200127-020526-0400.log",
      "/home/user2/notebooks/200130/aws_notebook/.log/20200130/20200130-111301-0553.log"
     ]
    }
   },
   "outputs": [],
   "source": [
    "!aws efs create-tags --file-system-id {FileSystemId} --tags \"Key=Name,Value={clusterName}\""
   ]
  },
  {
   "cell_type": "markdown",
   "metadata": {
    "lc_cell_meme": {
     "current": "55391d7e-2182-11ea-852f-0242ac120005",
     "next": "55391e5a-2182-11ea-852f-0242ac120005",
     "previous": "55391c98-2182-11ea-852f-0242ac120005"
    }
   },
   "source": [
    "■Nameタグ付け確認"
   ]
  },
  {
   "cell_type": "code",
   "execution_count": 33,
   "metadata": {
    "lc_cell_meme": {
     "current": "55391e5a-2182-11ea-852f-0242ac120005",
     "execution_end_time": "2020-01-30T11:13:05.206278Z",
     "history": [
      {
       "current": "55391e5a-2182-11ea-852f-0242ac120005",
       "next": "55391f40-2182-11ea-852f-0242ac120005",
       "previous": "55391d7e-2182-11ea-852f-0242ac120005"
      },
      {
       "current": "55391e5a-2182-11ea-852f-0242ac120005",
       "next": "ded9bfa4-3134-11ea-aa2a-0242ac120004",
       "previous": "55391d7e-2182-11ea-852f-0242ac120005"
      },
      {
       "current": "55391e5a-2182-11ea-852f-0242ac120005",
       "next": "67943fd4-3786-11ea-b7f6-0242ac120004",
       "previous": "55391d7e-2182-11ea-852f-0242ac120005"
      },
      {
       "current": "55391e5a-2182-11ea-852f-0242ac120005",
       "next": "ded9bfa4-3134-11ea-aa2a-0242ac120004",
       "previous": "55391d7e-2182-11ea-852f-0242ac120005"
      },
      {
       "current": "55391e5a-2182-11ea-852f-0242ac120005",
       "next": "3269837a-3789-11ea-b7f6-0242ac120004",
       "previous": "55391d7e-2182-11ea-852f-0242ac120005"
      }
     ],
     "next": "ded9bfa4-3134-11ea-aa2a-0242ac120004",
     "previous": "55391d7e-2182-11ea-852f-0242ac120005"
    },
    "lc_wrapper": {
     "log_history": [
      "/home/user6/notebooks/users/user6/.log/20191218/20191218-103403-0257.log",
      "/home/user6/notebooks/.log/20191226/20191226-102907-0126.log",
      "/home/user6/notebooks/.log/20200107/20200107-100046-0378.log",
      "/home/user6/notebooks/.log/20200108/20200108-111945-0866.log",
      "/home/user2/notebooks/AWS/.log/20200115/20200115-111627-0200.log",
      "/home/user2/notebooks/AWS/.log/20200123/20200123-074240-0713.log",
      "/home/user2/notebooks/AWS/.log/20200127/20200127-020528-0077.log",
      "/home/user2/notebooks/200130/aws_notebook/.log/20200130/20200130-111303-0510.log"
     ]
    },
    "scrolled": true
   },
   "outputs": [
    {
     "name": "stdout",
     "output_type": "stream",
     "text": [
      "{\r\n",
      "    \"Tags\": [\r\n",
      "        {\r\n",
      "            \"Key\": \"Name\",\r\n",
      "            \"Value\": \"aws-eks-200130\"\r\n",
      "        }\r\n",
      "    ]\r\n",
      "}\r\n"
     ]
    }
   ],
   "source": [
    "!aws efs describe-tags --file-system-id {FileSystemId}"
   ]
  },
  {
   "cell_type": "markdown",
   "metadata": {
    "lc_cell_meme": {
     "current": "ded9bfa4-3134-11ea-aa2a-0242ac120004",
     "history": [
      {
       "current": "ded9bfa4-3134-11ea-aa2a-0242ac120004",
       "next": "ded9c288-3134-11ea-aa2a-0242ac120004",
       "previous": "55391e5a-2182-11ea-852f-0242ac120005"
      }
     ],
     "next": "3269837a-3789-11ea-b7f6-0242ac120004",
     "previous": "55391e5a-2182-11ea-852f-0242ac120005"
    }
   },
   "source": [
    "■eksのセキュリティグループとサブネットIDの確認"
   ]
  },
  {
   "cell_type": "markdown",
   "metadata": {
    "lc_cell_meme": {
     "current": "3269837a-3789-11ea-b7f6-0242ac120004",
     "history": [
      {
       "current": "3269837a-3789-11ea-b7f6-0242ac120004",
       "next": "cceef504-2183-11ea-852f-0242ac120005",
       "previous": "55391e5a-2182-11ea-852f-0242ac120005"
      },
      {
       "current": "3269837a-3789-11ea-b7f6-0242ac120004",
       "next": "7a128942-3789-11ea-b7f6-0242ac120004",
       "previous": "55391e5a-2182-11ea-852f-0242ac120005"
      }
     ],
     "next": "7a128942-3789-11ea-b7f6-0242ac120004",
     "previous": "ded9bfa4-3134-11ea-aa2a-0242ac120004"
    }
   },
   "source": [
    "クラスターセキュリティーグループのIDの取得"
   ]
  },
  {
   "cell_type": "code",
   "execution_count": 34,
   "metadata": {
    "lc_cell_meme": {
     "current": "7a128942-3789-11ea-b7f6-0242ac120004",
     "execution_end_time": "2020-01-30T11:13:16.538270Z",
     "next": "cceef504-2183-11ea-852f-0242ac120005",
     "previous": "3269837a-3789-11ea-b7f6-0242ac120004"
    },
    "lc_wrapper": {
     "log_history": [
      "/home/user2/notebooks/AWS/.log/20200115/20200115-112159-0719.log",
      "/home/user2/notebooks/AWS/.log/20200115/20200115-112215-0695.log",
      "/home/user2/notebooks/AWS/.log/20200115/20200115-112256-0586.log",
      "/home/user2/notebooks/AWS/.log/20200115/20200115-112302-0530.log",
      "/home/user2/notebooks/AWS/.log/20200115/20200115-112332-0797.log",
      "/home/user2/notebooks/AWS/.log/20200115/20200115-112418-0159.log",
      "/home/user2/notebooks/AWS/.log/20200123/20200123-074244-0775.log",
      "/home/user2/notebooks/AWS/.log/20200127/20200127-020529-0665.log",
      "/home/user2/notebooks/200130/aws_notebook/.log/20200130/20200130-111315-0730.log"
     ]
    }
   },
   "outputs": [
    {
     "name": "stdout",
     "output_type": "stream",
     "text": [
      "'sg-0dc32db2a557106b7'\n"
     ]
    }
   ],
   "source": [
    "row = !aws eks describe-cluster --name {clusterName}\n",
    "\n",
    "import json\n",
    "\n",
    "while row[0].find('{') == -1:\n",
    "    del row[0]\n",
    "row[0] = \"{\"\n",
    "\n",
    "clusterSecurityGroupId =json.loads(''.join(row))['cluster']['resourcesVpcConfig']['clusterSecurityGroupId']\n",
    "pprint.pprint(clusterSecurityGroupId)\n"
   ]
  },
  {
   "cell_type": "markdown",
   "metadata": {
    "lc_cell_meme": {
     "current": "cceef504-2183-11ea-852f-0242ac120005",
     "history": [
      {
       "current": "cceef504-2183-11ea-852f-0242ac120005",
       "next": "cceef676-2183-11ea-852f-0242ac120005",
       "previous": "cceef22a-2183-11ea-852f-0242ac120005"
      },
      {
       "current": "cceef504-2183-11ea-852f-0242ac120005",
       "next": "cceef676-2183-11ea-852f-0242ac120005",
       "previous": "269493b4-3135-11ea-aa2a-0242ac120004"
      },
      {
       "current": "cceef504-2183-11ea-852f-0242ac120005",
       "next": "cceef676-2183-11ea-852f-0242ac120005",
       "previous": "ded9c288-3134-11ea-aa2a-0242ac120004"
      },
      {
       "current": "cceef504-2183-11ea-852f-0242ac120005",
       "next": "cceef676-2183-11ea-852f-0242ac120005",
       "previous": "3269837a-3789-11ea-b7f6-0242ac120004"
      }
     ],
     "next": "cceef676-2183-11ea-852f-0242ac120005",
     "previous": "7a128942-3789-11ea-b7f6-0242ac120004"
    }
   },
   "source": [
    "■マウントターゲット作成\n",
    "\n",
    "プライベートのサブネットを指定する"
   ]
  },
  {
   "cell_type": "code",
   "execution_count": 35,
   "metadata": {
    "lc_cell_meme": {
     "current": "cceef676-2183-11ea-852f-0242ac120005",
     "execution_end_time": "2020-01-30T11:13:25.201960Z",
     "history": [
      {
       "current": "cceef676-2183-11ea-852f-0242ac120005",
       "next": "cceef7a2-2183-11ea-852f-0242ac120005",
       "previous": "cceef504-2183-11ea-852f-0242ac120005"
      }
     ],
     "next": "96d58d3c-320b-11ea-a2e8-0242ac120007",
     "previous": "cceef504-2183-11ea-852f-0242ac120005"
    },
    "lc_wrapper": {
     "log_history": [
      "/home/user6/notebooks/users/user6/.log/20191218/20191218-104201-0909.log",
      "/home/user6/notebooks/.log/20191226/20191226-103903-0090.log",
      "/home/user6/notebooks/.log/20200107/20200107-101307-0610.log",
      "/home/user6/notebooks/.log/20200108/20200108-113840-0228.log",
      "/home/user2/notebooks/AWS/.log/20200115/20200115-112434-0425.log",
      "/home/user2/notebooks/AWS/.log/20200123/20200123-074247-0116.log",
      "/home/user2/notebooks/AWS/.log/20200127/20200127-020531-0966.log",
      "/home/user2/notebooks/200130/aws_notebook/.log/20200130/20200130-111323-0072.log"
     ]
    },
    "pinned_outputs": []
   },
   "outputs": [
    {
     "name": "stdout",
     "output_type": "stream",
     "text": [
      "{\r\n",
      "    \"OwnerId\": \"565991835156\",\r\n",
      "    \"MountTargetId\": \"fsmt-413e7de9\",\r\n",
      "    \"FileSystemId\": \"fs-cc76c766\",\r\n",
      "    \"SubnetId\": \"subnet-0880877de3ef6143a\",\r\n",
      "    \"LifeCycleState\": \"creating\",\r\n",
      "    \"IpAddress\": \"10.0.97.63\",\r\n",
      "    \"NetworkInterfaceId\": \"eni-0bb220dc84b6a7897\"\r\n",
      "}\r\n"
     ]
    }
   ],
   "source": [
    "!aws efs create-mount-target \\\n",
    "--file-system-id {FileSystemId} \\\n",
    "--subnet-id {privateSubnets['Subnets'][0]['SubnetId']} \\\n",
    "--security-group {clusterSecurityGroupId}"
   ]
  },
  {
   "cell_type": "code",
   "execution_count": 36,
   "metadata": {
    "lc_cell_meme": {
     "current": "96d58d3c-320b-11ea-a2e8-0242ac120007",
     "execution_end_time": "2020-01-30T11:13:27.408955Z",
     "history": [
      {
       "current": "96d58d3c-320b-11ea-a2e8-0242ac120007",
       "next": "cceef7a2-2183-11ea-852f-0242ac120005",
       "previous": "cceef676-2183-11ea-852f-0242ac120005"
      },
      {
       "current": "96d58d3c-320b-11ea-a2e8-0242ac120007",
       "next": "67943fd4-3786-11ea-b7f6-0242ac120004",
       "previous": "cceef676-2183-11ea-852f-0242ac120005"
      }
     ],
     "next": "cceef7a2-2183-11ea-852f-0242ac120005",
     "previous": "cceef676-2183-11ea-852f-0242ac120005"
    },
    "lc_wrapper": {
     "log_history": [
      "/home/user6/notebooks/.log/20200108/20200108-113903-0877.log",
      "/home/user2/notebooks/AWS/.log/20200115/20200115-112446-0797.log",
      "/home/user2/notebooks/AWS/.log/20200123/20200123-074249-0918.log",
      "/home/user2/notebooks/AWS/.log/20200127/20200127-020537-0935.log",
      "/home/user2/notebooks/200130/aws_notebook/.log/20200130/20200130-111325-0210.log"
     ]
    }
   },
   "outputs": [
    {
     "name": "stdout",
     "output_type": "stream",
     "text": [
      "{\r\n",
      "    \"OwnerId\": \"565991835156\",\r\n",
      "    \"MountTargetId\": \"fsmt-423e7dea\",\r\n",
      "    \"FileSystemId\": \"fs-cc76c766\",\r\n",
      "    \"SubnetId\": \"subnet-0606ee1fa3fc64dff\",\r\n",
      "    \"LifeCycleState\": \"creating\",\r\n",
      "    \"IpAddress\": \"10.0.89.105\",\r\n",
      "    \"NetworkInterfaceId\": \"eni-0454599c821b9636d\"\r\n",
      "}\r\n"
     ]
    }
   ],
   "source": [
    "!aws efs create-mount-target \\\n",
    "--file-system-id {FileSystemId} \\\n",
    "--subnet-id {privateSubnets['Subnets'][1]['SubnetId']} \\\n",
    "--security-group {clusterSecurityGroupId}"
   ]
  },
  {
   "cell_type": "markdown",
   "metadata": {
    "lc_cell_meme": {
     "current": "cceef7a2-2183-11ea-852f-0242ac120005",
     "history": [
      {
       "current": "cceef7a2-2183-11ea-852f-0242ac120005",
       "next": "cceef8c4-2183-11ea-852f-0242ac120005",
       "previous": "cceef676-2183-11ea-852f-0242ac120005"
      }
     ],
     "next": "cceef8c4-2183-11ea-852f-0242ac120005",
     "previous": "96d58d3c-320b-11ea-a2e8-0242ac120007"
    }
   },
   "source": [
    "■マウントターゲット作成確認"
   ]
  },
  {
   "cell_type": "code",
   "execution_count": 37,
   "metadata": {
    "lc_cell_meme": {
     "current": "cceef8c4-2183-11ea-852f-0242ac120005",
     "execution_end_time": "2020-01-30T11:13:31.304800Z",
     "history": [
      {
       "current": "cceef8c4-2183-11ea-852f-0242ac120005",
       "next": "cceef9f0-2183-11ea-852f-0242ac120005",
       "previous": "cceef7a2-2183-11ea-852f-0242ac120005"
      },
      {
       "current": "cceef8c4-2183-11ea-852f-0242ac120005",
       "next": "334b308e-2188-11ea-852f-0242ac120005",
       "previous": "cceef7a2-2183-11ea-852f-0242ac120005"
      },
      {
       "current": "cceef8c4-2183-11ea-852f-0242ac120005",
       "next": "d3cf5f04-3136-11ea-aa2a-0242ac120004",
       "previous": "cceef7a2-2183-11ea-852f-0242ac120005"
      }
     ],
     "next": "67943fd4-3786-11ea-b7f6-0242ac120004",
     "previous": "cceef7a2-2183-11ea-852f-0242ac120005"
    },
    "lc_wrapper": {
     "log_history": [
      "/home/user6/notebooks/users/user6/.log/20191218/20191218-104340-0836.log",
      "/home/user6/notebooks/.log/20191226/20191226-104002-0392.log",
      "/home/user6/notebooks/.log/20200107/20200107-101336-0865.log",
      "/home/user6/notebooks/.log/20200108/20200108-113923-0829.log",
      "/home/user6/notebooks/.log/20200108/20200108-113941-0087.log",
      "/home/user6/notebooks/.log/20200108/20200108-114002-0126.log",
      "/home/user6/notebooks/.log/20200108/20200108-114011-0228.log",
      "/home/user2/notebooks/AWS/.log/20200115/20200115-112519-0944.log",
      "/home/user2/notebooks/AWS/.log/20200123/20200123-074253-0548.log",
      "/home/user2/notebooks/AWS/.log/20200127/20200127-020545-0070.log",
      "/home/user2/notebooks/200130/aws_notebook/.log/20200130/20200130-111329-0589.log"
     ]
    },
    "pinned_outputs": [],
    "scrolled": false
   },
   "outputs": [
    {
     "name": "stdout",
     "output_type": "stream",
     "text": [
      "{\r\n",
      "    \"MountTargets\": [\r\n",
      "        {\r\n",
      "            \"OwnerId\": \"565991835156\",\r\n",
      "            \"MountTargetId\": \"fsmt-413e7de9\",\r\n",
      "            \"FileSystemId\": \"fs-cc76c766\",\r\n",
      "            \"SubnetId\": \"subnet-0880877de3ef6143a\",\r\n",
      "            \"LifeCycleState\": \"creating\",\r\n",
      "            \"IpAddress\": \"10.0.97.63\",\r\n",
      "            \"NetworkInterfaceId\": \"eni-0bb220dc84b6a7897\"\r\n",
      "        },\r\n",
      "        {\r\n",
      "            \"OwnerId\": \"565991835156\",\r\n",
      "            \"MountTargetId\": \"fsmt-423e7dea\",\r\n",
      "            \"FileSystemId\": \"fs-cc76c766\",\r\n",
      "            \"SubnetId\": \"subnet-0606ee1fa3fc64dff\",\r\n",
      "            \"LifeCycleState\": \"creating\",\r\n",
      "            \"IpAddress\": \"10.0.89.105\",\r\n",
      "            \"NetworkInterfaceId\": \"eni-0454599c821b9636d\"\r\n",
      "        }\r\n",
      "    ]\r\n",
      "}\r\n"
     ]
    }
   ],
   "source": [
    "!aws efs describe-mount-targets \\\n",
    "--file-system-id {FileSystemId}"
   ]
  },
  {
   "cell_type": "markdown",
   "metadata": {
    "lc_cell_meme": {
     "current": "67943fd4-3786-11ea-b7f6-0242ac120004",
     "execution_end_time": "2020-01-15T11:47:20.816489Z",
     "history": [
      {
       "current": "67943fd4-3786-11ea-b7f6-0242ac120004",
       "next": "679441b4-3786-11ea-b7f6-0242ac120004",
       "previous": "67943b7e-3786-11ea-b7f6-0242ac120004"
      },
      {
       "current": "67943fd4-3786-11ea-b7f6-0242ac120004",
       "next": "679441b4-3786-11ea-b7f6-0242ac120004",
       "previous": "55391ad6-2182-11ea-852f-0242ac120005"
      },
      {
       "current": "67943fd4-3786-11ea-b7f6-0242ac120004",
       "next": "679441b4-3786-11ea-b7f6-0242ac120004",
       "previous": "55391e5a-2182-11ea-852f-0242ac120005"
      },
      {
       "current": "67943fd4-3786-11ea-b7f6-0242ac120004",
       "next": "679441b4-3786-11ea-b7f6-0242ac120004",
       "previous": "ded9c288-3134-11ea-aa2a-0242ac120004"
      },
      {
       "current": "67943fd4-3786-11ea-b7f6-0242ac120004",
       "next": "679441b4-3786-11ea-b7f6-0242ac120004",
       "previous": "96d58d3c-320b-11ea-a2e8-0242ac120007"
      }
     ],
     "next": "679441b4-3786-11ea-b7f6-0242ac120004",
     "previous": "cceef8c4-2183-11ea-852f-0242ac120005"
    },
    "lc_wrapper": {
     "log_history": [
      "/home/user2/notebooks/AWS/.log/20200115/20200115-114037-0684.log",
      "/home/user2/notebooks/AWS/.log/20200115/20200115-114718-0925.log"
     ]
    }
   },
   "source": [
    "セキュリティグループの取り出し"
   ]
  },
  {
   "cell_type": "code",
   "execution_count": 38,
   "metadata": {
    "lc_cell_meme": {
     "current": "679441b4-3786-11ea-b7f6-0242ac120004",
     "execution_end_time": "2020-01-30T11:13:32.549575Z",
     "next": "6794429a-3786-11ea-b7f6-0242ac120004",
     "previous": "67943fd4-3786-11ea-b7f6-0242ac120004"
    },
    "lc_wrapper": {
     "log_history": [
      "/home/user2/notebooks/AWS/.log/20200115/20200115-113939-0493.log",
      "/home/user2/notebooks/AWS/.log/20200115/20200115-114015-0352.log",
      "/home/user2/notebooks/AWS/.log/20200115/20200115-114422-0443.log",
      "/home/user2/notebooks/AWS/.log/20200115/20200115-114434-0458.log",
      "/home/user2/notebooks/AWS/.log/20200115/20200115-114442-0655.log",
      "/home/user2/notebooks/AWS/.log/20200115/20200115-114535-0035.log",
      "/home/user2/notebooks/AWS/.log/20200115/20200115-114638-0361.log",
      "/home/user2/notebooks/AWS/.log/20200115/20200115-114655-0851.log",
      "/home/user2/notebooks/AWS/.log/20200115/20200115-114702-0229.log",
      "/home/user2/notebooks/AWS/.log/20200115/20200115-114821-0591.log",
      "/home/user2/notebooks/AWS/.log/20200115/20200115-114833-0406.log",
      "/home/user2/notebooks/AWS/.log/20200115/20200115-114906-0152.log",
      "/home/user2/notebooks/AWS/.log/20200115/20200115-114938-0741.log",
      "/home/user2/notebooks/AWS/.log/20200115/20200115-114955-0119.log",
      "/home/user2/notebooks/AWS/.log/20200115/20200115-115005-0086.log",
      "/home/user2/notebooks/AWS/.log/20200115/20200115-115036-0999.log",
      "/home/user2/notebooks/AWS/.log/20200115/20200115-115047-0162.log",
      "/home/user2/notebooks/AWS/.log/20200115/20200115-115110-0259.log",
      "/home/user2/notebooks/AWS/.log/20200115/20200115-121637-0843.log",
      "/home/user2/notebooks/AWS/.log/20200123/20200123-074257-0560.log",
      "/home/user2/notebooks/AWS/.log/20200127/20200127-020547-0680.log",
      "/home/user2/notebooks/200130/aws_notebook/.log/20200130/20200130-111331-0689.log"
     ]
    }
   },
   "outputs": [
    {
     "name": "stdout",
     "output_type": "stream",
     "text": [
      "sg-04ed0c1531875e1dd\n",
      "sg-074190909e2319be3\n"
     ]
    }
   ],
   "source": [
    "row = !aws ec2 describe-security-groups\n",
    "import json\n",
    "\n",
    "while row[0].find('{') == -1:\n",
    "    del row[0]\n",
    "row[0] = \"{\"\n",
    "SecurityGrrowoups =json.loads(''.join(row))\n",
    "\n",
    "ControlPlaneSecurityGroup = \"\"\n",
    "ClusterSharedNodeSecurityGroup = \"\"\n",
    "\n",
    "for sg in SecurityGrrowoups['SecurityGroups']:\n",
    "    \n",
    "    if  \"ControlPlaneSecurityGroup\" in sg[\"GroupName\"]:\n",
    "        ControlPlaneSecurityGroup = sg[\"GroupId\"]\n",
    "    \n",
    "    if \"ClusterSharedNodeSecurityGroup\" in sg[\"GroupName\"]:\n",
    "        ClusterSharedNodeSecurityGroup = sg[\"GroupId\"]\n",
    "\n",
    "print(ControlPlaneSecurityGroup)\n",
    "print(ClusterSharedNodeSecurityGroup)"
   ]
  },
  {
   "cell_type": "markdown",
   "metadata": {
    "lc_cell_meme": {
     "current": "6794429a-3786-11ea-b7f6-0242ac120004",
     "history": [
      {
       "current": "6794429a-3786-11ea-b7f6-0242ac120004",
       "next": "6794436c-3786-11ea-b7f6-0242ac120004",
       "previous": "679441b4-3786-11ea-b7f6-0242ac120004"
      }
     ],
     "next": "67944448-3786-11ea-b7f6-0242ac120004",
     "previous": "679441b4-3786-11ea-b7f6-0242ac120004"
    }
   },
   "source": [
    "セキュリティグループ間のNFSインバウンドルールの追加"
   ]
  },
  {
   "cell_type": "code",
   "execution_count": 39,
   "metadata": {
    "lc_cell_meme": {
     "current": "67944448-3786-11ea-b7f6-0242ac120004",
     "execution_end_time": "2020-01-30T11:13:36.173987Z",
     "history": [
      {
       "current": "67944448-3786-11ea-b7f6-0242ac120004",
       "next": "67944510-3786-11ea-b7f6-0242ac120004",
       "previous": "6794436c-3786-11ea-b7f6-0242ac120004"
      }
     ],
     "next": "67944510-3786-11ea-b7f6-0242ac120004",
     "previous": "6794429a-3786-11ea-b7f6-0242ac120004"
    },
    "lc_wrapper": {
     "log_history": [
      "/home/user6/.log/20200115/20200115-120911-0486.log",
      "/home/user2/notebooks/AWS/.log/20200123/20200123-074259-0750.log",
      "/home/user2/notebooks/AWS/.log/20200127/20200127-020551-0175.log",
      "/home/user2/notebooks/200130/aws_notebook/.log/20200130/20200130-111334-0290.log"
     ]
    }
   },
   "outputs": [],
   "source": [
    "!aws ec2 authorize-security-group-ingress --group-id {ControlPlaneSecurityGroup} \\\n",
    "--protocol tcp --port 2049 --source-group {ClusterSharedNodeSecurityGroup}"
   ]
  },
  {
   "cell_type": "code",
   "execution_count": 40,
   "metadata": {
    "lc_cell_meme": {
     "current": "67944510-3786-11ea-b7f6-0242ac120004",
     "execution_end_time": "2020-01-30T11:13:38.024697Z",
     "history": [
      {
       "current": "67944510-3786-11ea-b7f6-0242ac120004",
       "next": "679445d8-3786-11ea-b7f6-0242ac120004",
       "previous": "67944448-3786-11ea-b7f6-0242ac120004"
      },
      {
       "current": "67944510-3786-11ea-b7f6-0242ac120004",
       "next": "091b344a-378a-11ea-b7f6-0242ac120004",
       "previous": "67944448-3786-11ea-b7f6-0242ac120004"
      },
      {
       "current": "67944510-3786-11ea-b7f6-0242ac120004",
       "next": "091b36c0-378a-11ea-b7f6-0242ac120004",
       "previous": "67944448-3786-11ea-b7f6-0242ac120004"
      }
     ],
     "next": "992f51fe-3dc7-11ea-bfd5-0242ac120005",
     "previous": "67944448-3786-11ea-b7f6-0242ac120004"
    },
    "lc_wrapper": {
     "log_history": [
      "/home/user6/.log/20200115/20200115-121032-0356.log",
      "/home/user2/notebooks/AWS/.log/20200123/20200123-074302-0121.log",
      "/home/user2/notebooks/AWS/.log/20200127/20200127-020552-0995.log",
      "/home/user2/notebooks/200130/aws_notebook/.log/20200130/20200130-111336-0182.log"
     ]
    }
   },
   "outputs": [],
   "source": [
    "!aws ec2 authorize-security-group-ingress --group-id {ClusterSharedNodeSecurityGroup} \\\n",
    "--protocol tcp --port 2049 --source-group {ControlPlaneSecurityGroup}"
   ]
  },
  {
   "cell_type": "markdown",
   "metadata": {
    "lc_cell_meme": {
     "current": "992f51fe-3dc7-11ea-bfd5-0242ac120005",
     "history": [
      {
       "current": "992f51fe-3dc7-11ea-bfd5-0242ac120005",
       "next": "992f546a-3dc7-11ea-bfd5-0242ac120005",
       "previous": "67944510-3786-11ea-b7f6-0242ac120004"
      },
      {
       "current": "992f51fe-3dc7-11ea-bfd5-0242ac120005",
       "next": "e0d66790-3dc7-11ea-bfd5-0242ac120005",
       "previous": "67944510-3786-11ea-b7f6-0242ac120004"
      },
      {
       "current": "992f51fe-3dc7-11ea-bfd5-0242ac120005",
       "next": "e0d669ac-3dc7-11ea-bfd5-0242ac120005",
       "previous": "67944510-3786-11ea-b7f6-0242ac120004"
      }
     ],
     "next": "5c4fc570-40b0-11ea-91a9-0242ac120004",
     "previous": "67944510-3786-11ea-b7f6-0242ac120004"
    }
   },
   "source": [
    "efs-provisioner を使用して、Kubernetes の永続ボリュームとして EFS ストレージをマウントすることにより、Amazon EFS を Amazon EKS ポッドで使用できるようにする。\n",
    "https://aws.amazon.com/jp/premiumsupport/knowledge-center/eks-pods-efs/"
   ]
  },
  {
   "cell_type": "code",
   "execution_count": 13,
   "metadata": {
    "deletable": false,
    "editable": false,
    "lc_cell_meme": {
     "current": "5c4fc570-40b0-11ea-91a9-0242ac120004",
     "execution_end_time": "2020-02-14T09:05:35.581873Z",
     "history": [
      {
       "current": "5c4fc570-40b0-11ea-91a9-0242ac120004",
       "next": "f6af1118-40ae-11ea-91a9-0242ac120004",
       "previous": "e0d66b64-3dc7-11ea-bfd5-0242ac120005"
      },
      {
       "current": "5c4fc570-40b0-11ea-91a9-0242ac120004",
       "next": "5c354758-3dc8-11ea-bfd5-0242ac120005",
       "previous": "e0d66b64-3dc7-11ea-bfd5-0242ac120005"
      },
      {
       "current": "5c4fc570-40b0-11ea-91a9-0242ac120004",
       "next": "b74c3458-3dc8-11ea-bfd5-0242ac120005",
       "previous": "e0d66b64-3dc7-11ea-bfd5-0242ac120005"
      },
      {
       "current": "5c4fc570-40b0-11ea-91a9-0242ac120004",
       "next": "fef1581a-3dc8-11ea-bfd5-0242ac120005",
       "previous": "992f51fe-3dc7-11ea-bfd5-0242ac120005"
      }
     ],
     "next": "091b36c0-378a-11ea-b7f6-0242ac120004",
     "previous": "992f51fe-3dc7-11ea-bfd5-0242ac120005"
    },
    "lc_wrapper": {
     "log_history": [
      "/home/user2/notebooks/AWS/.log/20200127/20200127-025250-0981.log",
      "/home/user2/notebooks/AWS/.log/20200127/20200127-025308-0792.log",
      "/home/user2/notebooks/AWS/.log/20200127/20200127-025526-0551.log",
      "/home/user2/notebooks/AWS/.log/20200127/20200127-031335-0442.log",
      "/home/user2/notebooks/AWS/.log/20200127/20200127-031342-0460.log",
      "/home/user2/notebooks/AWS/.log/20200127/20200127-031358-0107.log",
      "/home/user2/notebooks/AWS/.log/20200127/20200127-031435-0053.log",
      "/home/user2/notebooks/200130/aws_notebook/.log/20200130/20200130-112117-0043.log",
      "/home/user2/notebooks/200130/aws_notebook/.log/20200214/20200214-090535-0574.log"
     ]
    },
    "run_through_control": {
     "frozen": true,
     "read_only": false
    }
   },
   "outputs": [
    {
     "name": "stdout",
     "output_type": "stream",
     "text": [
      "{'vender': 'aws', 'clusterName': 'aws-eks-200214', 'nodeGroupName': 'ng-200214', 'workerRolearn': 'eksctl-aws-eks-200214-nodegroup-n-NodeInstanceRole-L49KCDT5ANC5', 'NodeInstanceRole': 'eksctl-aws-eks-200214-nodegroup-n-NodeInstanceRole-L49KCDT5ANC5', 'FileSystemId': 'fs-83a42529', 'region': 'us-west-2'}\n"
     ]
    }
   ],
   "source": [
    "region=\"us-west-2\"\n",
    "\n",
    "#リソース情報に追加\n",
    "res_info['region'] = \"us-west-2\"\n",
    "\n",
    "print(res_info)"
   ]
  },
  {
   "cell_type": "markdown",
   "metadata": {
    "lc_cell_meme": {
     "current": "091b36c0-378a-11ea-b7f6-0242ac120004",
     "history": [
      {
       "current": "091b36c0-378a-11ea-b7f6-0242ac120004",
       "next": "091b37b0-378a-11ea-b7f6-0242ac120004",
       "previous": "091b344a-378a-11ea-b7f6-0242ac120004"
      },
      {
       "current": "091b36c0-378a-11ea-b7f6-0242ac120004",
       "next": "dfaf64ea-378a-11ea-b7f6-0242ac120004",
       "previous": "091b344a-378a-11ea-b7f6-0242ac120004"
      },
      {
       "current": "091b36c0-378a-11ea-b7f6-0242ac120004",
       "next": "27399416-378b-11ea-b7f6-0242ac120004",
       "previous": "091b344a-378a-11ea-b7f6-0242ac120004"
      },
      {
       "current": "091b36c0-378a-11ea-b7f6-0242ac120004",
       "next": "27399416-378b-11ea-b7f6-0242ac120004",
       "previous": "67944510-3786-11ea-b7f6-0242ac120004"
      },
      {
       "current": "091b36c0-378a-11ea-b7f6-0242ac120004",
       "next": "93e57d72-3791-11ea-8b4d-0242ac120004",
       "previous": "67944510-3786-11ea-b7f6-0242ac120004"
      },
      {
       "current": "091b36c0-378a-11ea-b7f6-0242ac120004",
       "next": "93e57d72-3791-11ea-8b4d-0242ac120004",
       "previous": "992f546a-3dc7-11ea-bfd5-0242ac120005"
      },
      {
       "current": "091b36c0-378a-11ea-b7f6-0242ac120004",
       "next": "93e57d72-3791-11ea-8b4d-0242ac120004",
       "previous": "e0d66b64-3dc7-11ea-bfd5-0242ac120005"
      },
      {
       "current": "091b36c0-378a-11ea-b7f6-0242ac120004",
       "next": "93e57d72-3791-11ea-8b4d-0242ac120004",
       "previous": "5c354758-3dc8-11ea-bfd5-0242ac120005"
      },
      {
       "current": "091b36c0-378a-11ea-b7f6-0242ac120004",
       "next": "93e57d72-3791-11ea-8b4d-0242ac120004",
       "previous": "6fc4e9e0-3dc8-11ea-bfd5-0242ac120005"
      },
      {
       "current": "091b36c0-378a-11ea-b7f6-0242ac120004",
       "next": "93e57d72-3791-11ea-8b4d-0242ac120004",
       "previous": "b74c3728-3dc8-11ea-bfd5-0242ac120005"
      },
      {
       "current": "091b36c0-378a-11ea-b7f6-0242ac120004",
       "next": "93e57d72-3791-11ea-8b4d-0242ac120004",
       "previous": "fef1591e-3dc8-11ea-bfd5-0242ac120005"
      },
      {
       "current": "091b36c0-378a-11ea-b7f6-0242ac120004",
       "next": "93e57d72-3791-11ea-8b4d-0242ac120004",
       "previous": "d5686a14-3dc9-11ea-bfd5-0242ac120005"
      },
      {
       "current": "091b36c0-378a-11ea-b7f6-0242ac120004",
       "next": "93e57d72-3791-11ea-8b4d-0242ac120004",
       "previous": "955c337e-3dce-11ea-bfd5-0242ac120005"
      },
      {
       "current": "091b36c0-378a-11ea-b7f6-0242ac120004",
       "next": "93e57d72-3791-11ea-8b4d-0242ac120004",
       "previous": "dd1ca0e0-3dce-11ea-bfd5-0242ac120005"
      },
      {
       "current": "091b36c0-378a-11ea-b7f6-0242ac120004",
       "next": "93e57d72-3791-11ea-8b4d-0242ac120004",
       "previous": "24664780-3dcf-11ea-bfd5-0242ac120005"
      },
      {
       "current": "091b36c0-378a-11ea-b7f6-0242ac120004",
       "next": "27399416-378b-11ea-b7f6-0242ac120004",
       "previous": "24664780-3dcf-11ea-bfd5-0242ac120005"
      },
      {
       "current": "091b36c0-378a-11ea-b7f6-0242ac120004",
       "next": "27399416-378b-11ea-b7f6-0242ac120004",
       "previous": "9c652632-40ab-11ea-91a9-0242ac120004"
      }
     ],
     "next": "27399416-378b-11ea-b7f6-0242ac120004",
     "previous": "5c4fc570-40b0-11ea-91a9-0242ac120004"
    }
   },
   "source": [
    "## RDS構築(DB)"
   ]
  },
  {
   "cell_type": "markdown",
   "metadata": {
    "lc_cell_meme": {
     "current": "27399416-378b-11ea-b7f6-0242ac120004",
     "history": [
      {
       "current": "27399416-378b-11ea-b7f6-0242ac120004",
       "next": "2739966e-378b-11ea-b7f6-0242ac120004",
       "previous": "091b36c0-378a-11ea-b7f6-0242ac120004"
      },
      {
       "current": "27399416-378b-11ea-b7f6-0242ac120004",
       "next": "2739975e-378b-11ea-b7f6-0242ac120004",
       "previous": "091b36c0-378a-11ea-b7f6-0242ac120004"
      },
      {
       "current": "27399416-378b-11ea-b7f6-0242ac120004",
       "next": "e68b5d74-378e-11ea-b7f6-0242ac120004",
       "previous": "091b36c0-378a-11ea-b7f6-0242ac120004"
      },
      {
       "current": "27399416-378b-11ea-b7f6-0242ac120004",
       "next": "e68b5d74-378e-11ea-b7f6-0242ac120004",
       "previous": "93e57d72-3791-11ea-8b4d-0242ac120004"
      }
     ],
     "next": "e68b5d74-378e-11ea-b7f6-0242ac120004",
     "previous": "091b36c0-378a-11ea-b7f6-0242ac120004"
    }
   },
   "source": [
    "プライベートなサブネットをサブネットグループとしてまとめる"
   ]
  },
  {
   "cell_type": "code",
   "execution_count": 49,
   "metadata": {
    "lc_cell_meme": {
     "current": "e68b5d74-378e-11ea-b7f6-0242ac120004",
     "execution_end_time": "2020-01-30T11:29:13.039848Z",
     "next": "2739975e-378b-11ea-b7f6-0242ac120004",
     "previous": "27399416-378b-11ea-b7f6-0242ac120004"
    },
    "lc_wrapper": {
     "log_history": [
      "/home/user2/notebooks/AWS/.log/20200115/20200115-120214-0714.log",
      "/home/user2/notebooks/AWS/.log/20200115/20200115-120845-0850.log",
      "/home/user2/notebooks/AWS/.log/20200115/20200115-121605-0011.log",
      "/home/user2/notebooks/AWS/.log/20200123/20200123-074308-0803.log",
      "/home/user2/notebooks/AWS/.log/20200127/20200127-020820-0896.log",
      "/home/user2/notebooks/200130/aws_notebook/.log/20200130/20200130-112913-0031.log"
     ]
    }
   },
   "outputs": [
    {
     "name": "stdout",
     "output_type": "stream",
     "text": [
      "mysqlsubnetgroup\n"
     ]
    }
   ],
   "source": [
    "SubnetGroupName = \"mysqlsubnetgroup\"\n",
    "print(SubnetGroupName)"
   ]
  },
  {
   "cell_type": "code",
   "execution_count": 57,
   "metadata": {
    "lc_cell_meme": {
     "current": "2739975e-378b-11ea-b7f6-0242ac120004",
     "execution_end_time": "2020-01-30T11:30:48.451752Z",
     "history": [
      {
       "current": "2739975e-378b-11ea-b7f6-0242ac120004",
       "next": "2739983a-378b-11ea-b7f6-0242ac120004",
       "previous": "2739966e-378b-11ea-b7f6-0242ac120004"
      },
      {
       "current": "2739975e-378b-11ea-b7f6-0242ac120004",
       "next": "2739983a-378b-11ea-b7f6-0242ac120004",
       "previous": "27399416-378b-11ea-b7f6-0242ac120004"
      },
      {
       "current": "2739975e-378b-11ea-b7f6-0242ac120004",
       "next": "2739983a-378b-11ea-b7f6-0242ac120004",
       "previous": "e68b5d74-378e-11ea-b7f6-0242ac120004"
      },
      {
       "current": "2739975e-378b-11ea-b7f6-0242ac120004",
       "next": "0475d330-3791-11ea-8b4d-0242ac120004",
       "previous": "e68b5d74-378e-11ea-b7f6-0242ac120004"
      }
     ],
     "next": "4c7f10d8-3791-11ea-8b4d-0242ac120004",
     "previous": "e68b5d74-378e-11ea-b7f6-0242ac120004"
    },
    "lc_wrapper": {
     "log_history": [
      "/home/user2/notebooks/AWS/.log/20200115/20200115-115857-0939.log",
      "/home/user2/notebooks/AWS/.log/20200115/20200115-120054-0887.log",
      "/home/user2/notebooks/AWS/.log/20200115/20200115-120131-0611.log",
      "/home/user2/notebooks/AWS/.log/20200115/20200115-120158-0708.log",
      "/home/user2/notebooks/AWS/.log/20200115/20200115-120216-0463.log",
      "/home/user2/notebooks/AWS/.log/20200115/20200115-120237-0270.log",
      "/home/user2/notebooks/AWS/.log/20200115/20200115-120305-0073.log",
      "/home/user2/notebooks/AWS/.log/20200115/20200115-120352-0528.log",
      "/home/user2/notebooks/AWS/.log/20200115/20200115-120407-0420.log",
      "/home/user2/notebooks/AWS/.log/20200115/20200115-120509-0470.log",
      "/home/user2/notebooks/AWS/.log/20200115/20200115-120804-0009.log",
      "/home/user2/notebooks/AWS/.log/20200115/20200115-120847-0342.log",
      "/home/user2/notebooks/AWS/.log/20200115/20200115-120908-0084.log",
      "/home/user2/notebooks/AWS/.log/20200115/20200115-120927-0130.log",
      "/home/user2/notebooks/AWS/.log/20200115/20200115-120944-0718.log",
      "/home/user2/notebooks/AWS/.log/20200115/20200115-121033-0303.log",
      "/home/user2/notebooks/AWS/.log/20200115/20200115-121110-0854.log",
      "/home/user2/notebooks/AWS/.log/20200115/20200115-121122-0696.log",
      "/home/user2/notebooks/AWS/.log/20200115/20200115-121410-0667.log",
      "/home/user2/notebooks/AWS/.log/20200115/20200115-121432-0709.log",
      "/home/user2/notebooks/AWS/.log/20200115/20200115-121555-0375.log",
      "/home/user2/notebooks/AWS/.log/20200123/20200123-074310-0288.log",
      "/home/user2/notebooks/AWS/.log/20200127/20200127-020822-0502.log",
      "/home/user2/notebooks/200130/aws_notebook/.log/20200130/20200130-112916-0053.log",
      "/home/user2/notebooks/200130/aws_notebook/.log/20200130/20200130-113009-0481.log",
      "/home/user2/notebooks/200130/aws_notebook/.log/20200130/20200130-113046-0339.log"
     ]
    },
    "scrolled": false
   },
   "outputs": [
    {
     "name": "stdout",
     "output_type": "stream",
     "text": [
      "{\r\n",
      "    \"DBSubnetGroup\": {\r\n",
      "        \"DBSubnetGroupName\": \"mysqlsubnetgroup\",\r\n",
      "        \"DBSubnetGroupDescription\": \"mysql_db_subnet_group\",\r\n",
      "        \"VpcId\": \"vpc-031af53d13bacea11\",\r\n",
      "        \"SubnetGroupStatus\": \"Complete\",\r\n",
      "        \"Subnets\": [\r\n",
      "            {\r\n",
      "                \"SubnetIdentifier\": \"subnet-0606ee1fa3fc64dff\",\r\n",
      "                \"SubnetAvailabilityZone\": {\r\n",
      "                    \"Name\": \"us-west-2b\"\r\n",
      "                },\r\n",
      "                \"SubnetStatus\": \"Active\"\r\n",
      "            },\r\n",
      "            {\r\n",
      "                \"SubnetIdentifier\": \"subnet-0880877de3ef6143a\",\r\n",
      "                \"SubnetAvailabilityZone\": {\r\n",
      "                    \"Name\": \"us-west-2c\"\r\n",
      "                },\r\n",
      "                \"SubnetStatus\": \"Active\"\r\n",
      "            }\r\n",
      "        ],\r\n",
      "        \"DBSubnetGroupArn\": \"arn:aws:rds:us-west-2:565991835156:subgrp:mysqlsubnetgroup\"\r\n",
      "    }\r\n",
      "}\r\n"
     ]
    }
   ],
   "source": [
    "!aws rds create-db-subnet-group \\\n",
    "        --db-subnet-group-name \"{SubnetGroupName}\" \\\n",
    "        --db-subnet-group-description \"mysql_db_subnet_group\" \\\n",
    "        --subnet-ids \"{privateSubnets['Subnets'][0]['SubnetId']}\" \"{privateSubnets['Subnets'][1]['SubnetId']}\""
   ]
  },
  {
   "cell_type": "markdown",
   "metadata": {
    "lc_cell_meme": {
     "current": "4c7f10d8-3791-11ea-8b4d-0242ac120004",
     "next": "0475d330-3791-11ea-8b4d-0242ac120004",
     "previous": "2739975e-378b-11ea-b7f6-0242ac120004"
    }
   },
   "source": [
    "RDSの名前などを定義し、RDSを作成"
   ]
  },
  {
   "cell_type": "code",
   "execution_count": 2,
   "metadata": {
    "lc_cell_meme": {
     "current": "0475d330-3791-11ea-8b4d-0242ac120004",
     "execution_end_time": "2020-02-14T09:03:20.477644Z",
     "history": [
      {
       "current": "0475d330-3791-11ea-8b4d-0242ac120004",
       "next": "2739983a-378b-11ea-b7f6-0242ac120004",
       "previous": "2739975e-378b-11ea-b7f6-0242ac120004"
      }
     ],
     "next": "2739983a-378b-11ea-b7f6-0242ac120004",
     "previous": "4c7f10d8-3791-11ea-8b4d-0242ac120004"
    },
    "lc_wrapper": {
     "log_history": [
      "/home/user2/notebooks/AWS/.log/20200115/20200115-121739-0920.log",
      "/home/user2/notebooks/AWS/.log/20200115/20200115-121748-0605.log",
      "/home/user2/notebooks/AWS/.log/20200123/20200123-074314-0156.log",
      "/home/user2/notebooks/AWS/.log/20200127/20200127-020826-0645.log",
      "/home/user2/notebooks/AWS/.log/20200127/20200127-064747-0089.log",
      "/home/user2/notebooks/200130/aws_notebook/.log/20200130/20200130-113003-0024.log",
      "/home/user2/notebooks/200130/aws_notebook/.log/20200214/20200214-090320-0471.log"
     ]
    }
   },
   "outputs": [],
   "source": [
    "db_name = \"RDS-topse\"\n",
    "db_user = \"root\"\n",
    "db_password = \"password\""
   ]
  },
  {
   "cell_type": "code",
   "execution_count": 58,
   "metadata": {
    "lc_cell_meme": {
     "current": "2739983a-378b-11ea-b7f6-0242ac120004",
     "execution_end_time": "2020-01-30T11:30:53.565098Z",
     "history": [
      {
       "current": "2739983a-378b-11ea-b7f6-0242ac120004",
       "next": "27399916-378b-11ea-b7f6-0242ac120004",
       "previous": "2739975e-378b-11ea-b7f6-0242ac120004"
      },
      {
       "current": "2739983a-378b-11ea-b7f6-0242ac120004",
       "next": "27399916-378b-11ea-b7f6-0242ac120004",
       "previous": "0475d330-3791-11ea-8b4d-0242ac120004"
      },
      {
       "current": "2739983a-378b-11ea-b7f6-0242ac120004",
       "next": "93e57fc0-3791-11ea-8b4d-0242ac120004",
       "previous": "0475d330-3791-11ea-8b4d-0242ac120004"
      },
      {
       "current": "2739983a-378b-11ea-b7f6-0242ac120004",
       "next": "685d561c-27d7-11ea-9cfd-0242ac120005",
       "previous": "0475d330-3791-11ea-8b4d-0242ac120004"
      },
      {
       "current": "2739983a-378b-11ea-b7f6-0242ac120004",
       "next": "64f1fcbe-40d0-11ea-ac6f-0242ac120004",
       "previous": "0475d330-3791-11ea-8b4d-0242ac120004"
      }
     ],
     "next": "f3a62d18-40d0-11ea-ac6f-0242ac120004",
     "previous": "0475d330-3791-11ea-8b4d-0242ac120004"
    },
    "lc_wrapper": {
     "log_history": [
      "/home/user2/notebooks/AWS/.log/20200115/20200115-121904-0220.log",
      "/home/user2/notebooks/AWS/.log/20200123/20200123-074316-0499.log",
      "/home/user2/notebooks/AWS/.log/20200127/20200127-020828-0232.log",
      "/home/user2/notebooks/200130/aws_notebook/.log/20200130/20200130-112918-0359.log",
      "/home/user2/notebooks/200130/aws_notebook/.log/20200130/20200130-112944-0161.log",
      "/home/user2/notebooks/200130/aws_notebook/.log/20200130/20200130-112952-0808.log",
      "/home/user2/notebooks/200130/aws_notebook/.log/20200130/20200130-113003-0629.log",
      "/home/user2/notebooks/200130/aws_notebook/.log/20200130/20200130-113051-0199.log"
     ]
    }
   },
   "outputs": [
    {
     "name": "stdout",
     "output_type": "stream",
     "text": [
      "{\r\n",
      "    \"DBInstance\": {\r\n",
      "        \"DBInstanceIdentifier\": \"rds-topse\",\r\n",
      "        \"DBInstanceClass\": \"db.t2.micro\",\r\n",
      "        \"Engine\": \"mysql\",\r\n",
      "        \"DBInstanceStatus\": \"creating\",\r\n",
      "        \"MasterUsername\": \"root\",\r\n",
      "        \"AllocatedStorage\": 5,\r\n",
      "        \"PreferredBackupWindow\": \"06:09-06:39\",\r\n",
      "        \"BackupRetentionPeriod\": 1,\r\n",
      "        \"DBSecurityGroups\": [],\r\n",
      "        \"VpcSecurityGroups\": [\r\n",
      "            {\r\n",
      "                \"VpcSecurityGroupId\": \"sg-074190909e2319be3\",\r\n",
      "                \"Status\": \"active\"\r\n",
      "            }\r\n",
      "        ],\r\n",
      "        \"DBParameterGroups\": [\r\n",
      "            {\r\n",
      "                \"DBParameterGroupName\": \"default.mysql5.7\",\r\n",
      "                \"ParameterApplyStatus\": \"in-sync\"\r\n",
      "            }\r\n",
      "        ],\r\n",
      "        \"DBSubnetGroup\": {\r\n",
      "            \"DBSubnetGroupName\": \"mysqlsubnetgroup\",\r\n",
      "            \"DBSubnetGroupDescription\": \"mysql_db_subnet_group\",\r\n",
      "            \"VpcId\": \"vpc-031af53d13bacea11\",\r\n",
      "            \"SubnetGroupStatus\": \"Complete\",\r\n",
      "            \"Subnets\": [\r\n",
      "                {\r\n",
      "                    \"SubnetIdentifier\": \"subnet-0606ee1fa3fc64dff\",\r\n",
      "                    \"SubnetAvailabilityZone\": {\r\n",
      "                        \"Name\": \"us-west-2b\"\r\n",
      "                    },\r\n",
      "                    \"SubnetStatus\": \"Active\"\r\n",
      "                },\r\n",
      "                {\r\n",
      "                    \"SubnetIdentifier\": \"subnet-0880877de3ef6143a\",\r\n",
      "                    \"SubnetAvailabilityZone\": {\r\n",
      "                        \"Name\": \"us-west-2c\"\r\n",
      "                    },\r\n",
      "                    \"SubnetStatus\": \"Active\"\r\n",
      "                }\r\n",
      "            ]\r\n",
      "        },\r\n",
      "        \"PreferredMaintenanceWindow\": \"thu:11:56-thu:12:26\",\r\n",
      "        \"PendingModifiedValues\": {\r\n",
      "            \"MasterUserPassword\": \"****\"\r\n",
      "        },\r\n",
      "        \"MultiAZ\": true,\r\n",
      "        \"EngineVersion\": \"5.7.22\",\r\n",
      "        \"AutoMinorVersionUpgrade\": true,\r\n",
      "        \"ReadReplicaDBInstanceIdentifiers\": [],\r\n",
      "        \"LicenseModel\": \"general-public-license\",\r\n",
      "        \"OptionGroupMemberships\": [\r\n",
      "            {\r\n",
      "                \"OptionGroupName\": \"default:mysql-5-7\",\r\n",
      "                \"Status\": \"in-sync\"\r\n",
      "            }\r\n",
      "        ],\r\n",
      "        \"PubliclyAccessible\": false,\r\n",
      "        \"StorageType\": \"gp2\",\r\n",
      "        \"DbInstancePort\": 0,\r\n",
      "        \"StorageEncrypted\": false,\r\n",
      "        \"DbiResourceId\": \"db-N6F4W3Q3SLVQFQXMPG76FBMYTE\",\r\n",
      "        \"CACertificateIdentifier\": \"rds-ca-2015\",\r\n",
      "        \"DomainMemberships\": [],\r\n",
      "        \"CopyTagsToSnapshot\": false,\r\n",
      "        \"MonitoringInterval\": 0,\r\n",
      "        \"DBInstanceArn\": \"arn:aws:rds:us-west-2:565991835156:db:rds-topse\",\r\n",
      "        \"IAMDatabaseAuthenticationEnabled\": false,\r\n",
      "        \"PerformanceInsightsEnabled\": false,\r\n",
      "        \"DeletionProtection\": false,\r\n",
      "        \"AssociatedRoles\": []\r\n",
      "    }\r\n",
      "}\r\n"
     ]
    }
   ],
   "source": [
    "!aws rds create-db-instance \\\n",
    "    --db-instance-identifier \"{db_name}\" \\\n",
    "    --allocated-storage 5 \\\n",
    "    --db-instance-class db.t2.micro \\\n",
    "    --engine mysql \\\n",
    "    --master-username \"{db_user}\" \\\n",
    "    --master-user-password \"{db_password}\" \\\n",
    "    --db-subnet-group-name  \"{SubnetGroupName}\" \\\n",
    "    --vpc-security-group-ids \"{ClusterSharedNodeSecurityGroup}\" \\\n",
    "    --multi-az\n"
   ]
  },
  {
   "cell_type": "markdown",
   "metadata": {
    "lc_cell_meme": {
     "current": "f3a62d18-40d0-11ea-ac6f-0242ac120004",
     "history": [
      {
       "current": "f3a62d18-40d0-11ea-ac6f-0242ac120004",
       "next": "f3a62f20-40d0-11ea-ac6f-0242ac120004",
       "previous": "2739983a-378b-11ea-b7f6-0242ac120004"
      }
     ],
     "next": "f381543e-4f08-11ea-af7f-0242ac120004",
     "previous": "2739983a-378b-11ea-b7f6-0242ac120004"
    }
   },
   "source": [
    "DBの作成が終わるのをまつ\n"
   ]
  },
  {
   "cell_type": "code",
   "execution_count": 3,
   "metadata": {
    "lc_cell_meme": {
     "current": "f381543e-4f08-11ea-af7f-0242ac120004",
     "execution_end_time": "2020-02-14T09:03:25.315379Z",
     "next": "f381595c-4f08-11ea-af7f-0242ac120004",
     "previous": "f3a62d18-40d0-11ea-ac6f-0242ac120004"
    },
    "lc_wrapper": {
     "log_history": [
      "/home/user2/notebooks/200130/aws_notebook/.log/20200214/20200214-090309-0820.log",
      "/home/user2/notebooks/200130/aws_notebook/.log/20200214/20200214-090323-0457.log"
     ]
    }
   },
   "outputs": [],
   "source": [
    "!aws rds wait db-instance-available --db-instance-identifier \"{db_name}\""
   ]
  },
  {
   "cell_type": "markdown",
   "metadata": {
    "lc_cell_meme": {
     "current": "f381595c-4f08-11ea-af7f-0242ac120004",
     "next": "f3a62f20-40d0-11ea-ac6f-0242ac120004",
     "previous": "f381543e-4f08-11ea-af7f-0242ac120004"
    }
   },
   "source": [
    "後で使うのでエンドポイントを取得しておく"
   ]
  },
  {
   "cell_type": "code",
   "execution_count": 14,
   "metadata": {
    "deletable": false,
    "editable": false,
    "lc_cell_meme": {
     "current": "f3a62f20-40d0-11ea-ac6f-0242ac120004",
     "execution_end_time": "2020-02-14T09:05:43.283489Z",
     "history": [
      {
       "current": "f3a62f20-40d0-11ea-ac6f-0242ac120004",
       "next": "64f1fcbe-40d0-11ea-ac6f-0242ac120004",
       "previous": "f3a62d18-40d0-11ea-ac6f-0242ac120004"
      },
      {
       "current": "f3a62f20-40d0-11ea-ac6f-0242ac120004",
       "next": "dd51477e-4354-11ea-82b4-0242ac120004",
       "previous": "f3a62d18-40d0-11ea-ac6f-0242ac120004"
      }
     ],
     "next": "dd51477e-4354-11ea-82b4-0242ac120004",
     "previous": "f381595c-4f08-11ea-af7f-0242ac120004"
    },
    "lc_wrapper": {
     "log_history": [
      "/home/user2/notebooks/AWS/.log/20200127/20200127-064708-0531.log",
      "/home/user2/notebooks/AWS/.log/20200127/20200127-064742-0200.log",
      "/home/user2/notebooks/AWS/.log/20200127/20200127-064753-0005.log",
      "/home/user2/notebooks/AWS/.log/20200127/20200127-064915-0072.log",
      "/home/user2/notebooks/AWS/.log/20200127/20200127-064918-0880.log",
      "/home/user2/notebooks/AWS/.log/20200127/20200127-065010-0420.log",
      "/home/user2/notebooks/AWS/.log/20200127/20200127-065035-0520.log",
      "/home/user2/notebooks/200130/aws_notebook/.log/20200130/20200130-113102-0249.log",
      "/home/user2/notebooks/200130/aws_notebook/.log/20200130/20200130-113109-0926.log",
      "/home/user2/notebooks/200130/aws_notebook/.log/20200130/20200130-113515-0678.log",
      "/home/user2/notebooks/200130/aws_notebook/.log/20200214/20200214-090542-0336.log"
     ]
    },
    "run_through_control": {
     "frozen": true,
     "read_only": false
    }
   },
   "outputs": [
    {
     "name": "stdout",
     "output_type": "stream",
     "text": [
      "rds-topse.ciph33ijhh38.us-west-2.rds.amazonaws.com\n"
     ]
    }
   ],
   "source": [
    "row = !aws rds describe-db-instances \\\n",
    "    --db-instance-identifier \"{db_name}\"\n",
    "import json\n",
    "\n",
    "while row[0].find('{') == -1:\n",
    "    del row[0]\n",
    "row[0] = \"{\"\n",
    "DBInstances =json.loads(''.join(row))\n",
    "\n",
    "db_address = DBInstances[\"DBInstances\"][0][\"Endpoint\"][\"Address\"]\n",
    "\n",
    "print(db_address)"
   ]
  },
  {
   "cell_type": "code",
   "execution_count": 15,
   "metadata": {
    "deletable": false,
    "editable": false,
    "lc_cell_meme": {
     "current": "dd51477e-4354-11ea-82b4-0242ac120004",
     "execution_end_time": "2020-02-14T09:05:44.114886Z",
     "history": [
      {
       "current": "dd51477e-4354-11ea-82b4-0242ac120004",
       "next": null,
       "previous": "f3a62f20-40d0-11ea-ac6f-0242ac120004"
      },
      {
       "current": "dd51477e-4354-11ea-82b4-0242ac120004",
       "next": "24bb0c4e-4355-11ea-82b4-0242ac120004",
       "previous": "f3a62f20-40d0-11ea-ac6f-0242ac120004"
      }
     ],
     "next": "efbc6aae-21a0-11ea-9f90-0242ac12000a",
     "previous": "f3a62f20-40d0-11ea-ac6f-0242ac120004"
    },
    "lc_wrapper": {
     "log_history": [
      "/home/user2/notebooks/200130/aws_notebook/.log/20200130/20200130-113535-0256.log",
      "/home/user2/notebooks/200130/aws_notebook/.log/20200130/20200130-113910-0934.log",
      "/home/user2/notebooks/200130/aws_notebook/.log/20200214/20200214-090544-0107.log"
     ]
    },
    "run_through_control": {
     "frozen": true,
     "read_only": false
    },
    "scrolled": true
   },
   "outputs": [
    {
     "name": "stdout",
     "output_type": "stream",
     "text": [
      "{'vender': 'aws', 'clusterName': 'aws-eks-200214', 'nodeGroupName': 'ng-200214', 'workerRolearn': 'eksctl-aws-eks-200214-nodegroup-n-NodeInstanceRole-L49KCDT5ANC5', 'NodeInstanceRole': 'eksctl-aws-eks-200214-nodegroup-n-NodeInstanceRole-L49KCDT5ANC5', 'FileSystemId': 'fs-83a42529', 'region': 'us-west-2', 'db_address': 'rds-topse.ciph33ijhh38.us-west-2.rds.amazonaws.com'}\n"
     ]
    }
   ],
   "source": [
    "res_info['db_address']=db_address\n",
    "print(res_info)"
   ]
  },
  {
   "cell_type": "markdown",
   "metadata": {
    "lc_cell_meme": {
     "current": "efbc6aae-21a0-11ea-9f90-0242ac12000a",
     "history": [
      {
       "current": "efbc6aae-21a0-11ea-9f90-0242ac12000a",
       "next": null,
       "previous": "62a069c2-21a0-11ea-9f90-0242ac12000a"
      },
      {
       "current": "efbc6aae-21a0-11ea-9f90-0242ac12000a",
       "next": "26317212-21a3-11ea-9f90-0242ac12000a",
       "previous": "62a069c2-21a0-11ea-9f90-0242ac12000a"
      },
      {
       "current": "efbc6aae-21a0-11ea-9f90-0242ac12000a",
       "next": "26317212-21a3-11ea-9f90-0242ac12000a",
       "previous": "b2ed0162-219e-11ea-9f90-0242ac12000a"
      },
      {
       "current": "efbc6aae-21a0-11ea-9f90-0242ac12000a",
       "next": "26317212-21a3-11ea-9f90-0242ac12000a",
       "previous": "7357dcd8-2190-11ea-9f90-0242ac12000a"
      },
      {
       "current": "efbc6aae-21a0-11ea-9f90-0242ac12000a",
       "next": "26317212-21a3-11ea-9f90-0242ac12000a",
       "previous": "7357d95e-2190-11ea-9f90-0242ac12000a"
      },
      {
       "current": "efbc6aae-21a0-11ea-9f90-0242ac12000a",
       "next": "26317212-21a3-11ea-9f90-0242ac12000a",
       "previous": "0088d20c-2c94-11ea-85b7-0242ac120004"
      },
      {
       "current": "efbc6aae-21a0-11ea-9f90-0242ac12000a",
       "next": "26317212-21a3-11ea-9f90-0242ac12000a",
       "previous": "8998b6de-40a8-11ea-91a9-0242ac120004"
      }
     ],
     "next": "26317212-21a3-11ea-9f90-0242ac12000a",
     "previous": "dd51477e-4354-11ea-82b4-0242ac120004"
    }
   },
   "source": [
    "## ALBの構築\n",
    "\n",
    "IngressからALBを作成するには、IAMロールやら、AWS ALB Ingress Controllerやらの設定が必要。\n",
    "\n",
    "\n",
    "https://docs.aws.amazon.com/ja_jp/eks/latest/userguide/alb-ingress.html"
   ]
  },
  {
   "cell_type": "markdown",
   "metadata": {
    "lc_cell_meme": {
     "current": "26317212-21a3-11ea-9f90-0242ac12000a",
     "history": [
      {
       "current": "26317212-21a3-11ea-9f90-0242ac12000a",
       "next": null,
       "previous": "efbc6aae-21a0-11ea-9f90-0242ac12000a"
      },
      {
       "current": "26317212-21a3-11ea-9f90-0242ac12000a",
       "next": "8f541fc2-27cc-11ea-874f-0242ac120004",
       "previous": "efbc6aae-21a0-11ea-9f90-0242ac12000a"
      },
      {
       "current": "26317212-21a3-11ea-9f90-0242ac12000a",
       "next": "9b72a722-2c92-11ea-85b7-0242ac120004",
       "previous": "efbc6aae-21a0-11ea-9f90-0242ac12000a"
      }
     ],
     "next": "2d3a9994-2c9d-11ea-9eae-0242ac120004",
     "previous": "efbc6aae-21a0-11ea-9f90-0242ac12000a"
    }
   },
   "source": [
    "ロードバランサーに使用する VPC のサブネットにタグを付け、そのサブネットを使用できることを ALB Ingress Controller に伝えます。詳細については、「サブネットのタグ付け要件」を参照してください。"
   ]
  },
  {
   "cell_type": "markdown",
   "metadata": {
    "lc_cell_meme": {
     "current": "2d3a9994-2c9d-11ea-9eae-0242ac120004",
     "history": [
      {
       "current": "2d3a9994-2c9d-11ea-9eae-0242ac120004",
       "next": "2d3a9cfa-2c9d-11ea-9eae-0242ac120004",
       "previous": "e52def34-2c9c-11ea-9eae-0242ac120004"
      }
     ],
     "next": "2d3a9cfa-2c9d-11ea-9eae-0242ac120004",
     "previous": "26317212-21a3-11ea-9f90-0242ac12000a"
    }
   },
   "source": [
    "PublicとPrivateを別々に取得"
   ]
  },
  {
   "cell_type": "code",
   "execution_count": 19,
   "metadata": {
    "deletable": false,
    "editable": false,
    "lc_cell_meme": {
     "current": "2d3a9cfa-2c9d-11ea-9eae-0242ac120004",
     "execution_end_time": "2020-02-14T09:54:46.861872Z",
     "history": [
      {
       "current": "2d3a9cfa-2c9d-11ea-9eae-0242ac120004",
       "next": "8f541fc2-27cc-11ea-874f-0242ac120004",
       "previous": "2d3a9994-2c9d-11ea-9eae-0242ac120004"
      }
     ],
     "next": "73c5f606-2c9d-11ea-9eae-0242ac120004",
     "previous": "2d3a9994-2c9d-11ea-9eae-0242ac120004"
    },
    "lc_wrapper": {
     "log_history": [
      "/home/user5/notebooks/seminar-lc4ri/AWS/.log/20200101/20200101-134749-0571.log",
      "/home/user5/notebooks/seminar-lc4ri/AWS/.log/20200101/20200101-134756-0981.log",
      "/home/user5/notebooks/seminar-lc4ri/AWS/.log/20200101/20200101-134827-0098.log",
      "/home/user5/notebooks/seminar-lc4ri/AWS/.log/20200108/20200108-100555-0018.log",
      "/home/user2/notebooks/AWS/.log/20200115/20200115-095634-0622.log",
      "/home/user2/notebooks/AWS/.log/20200115/20200115-095703-0148.log",
      "/home/user2/notebooks/AWS/.log/20200115/20200115-100332-0377.log",
      "/home/user2/notebooks/AWS/.log/20200115/20200115-120124-0800.log",
      "/home/user2/notebooks/AWS/.log/20200115/20200115-120832-0257.log",
      "/home/user2/notebooks/AWS/.log/20200123/20200123-074128-0641.log",
      "/home/user2/notebooks/AWS/.log/20200127/20200127-015257-0946.log",
      "/home/user2/notebooks/AWS/.log/20200127/20200127-015304-0889.log",
      "/home/user2/notebooks/AWS/.log/20200127/20200127-015322-0689.log",
      "/home/user2/notebooks/AWS/.log/20200127/20200127-015833-0883.log",
      "/home/user2/notebooks/AWS/.log/20200127/20200127-020040-0973.log",
      "/home/user2/notebooks/AWS/.log/20200127/20200127-020137-0673.log",
      "/home/user2/notebooks/200130/aws_notebook/.log/20200130/20200130-110611-0458.log",
      "/home/user2/notebooks/200130/aws_notebook/.log/20200214/20200214-095223-0768.log",
      "/home/user2/notebooks/200130/aws_notebook/.log/20200214/20200214-095445-0998.log"
     ]
    },
    "run_through_control": {
     "frozen": true
    }
   },
   "outputs": [
    {
     "name": "stdout",
     "output_type": "stream",
     "text": [
      "{'Subnets': [{'AssignIpv6AddressOnCreation': False,\n",
      "              'AvailabilityZone': 'us-west-2b',\n",
      "              'AvailabilityZoneId': 'usw2-az2',\n",
      "              'AvailableIpAddressCount': 8178,\n",
      "              'CidrBlock': '10.0.0.0/19',\n",
      "              'DefaultForAz': False,\n",
      "              'Ipv6CidrBlockAssociationSet': [],\n",
      "              'MapPublicIpOnLaunch': False,\n",
      "              'OwnerId': '565991835156',\n",
      "              'State': 'available',\n",
      "              'SubnetArn': 'arn:aws:ec2:us-west-2:565991835156:subnet/subnet-00edd2cff6e184d73',\n",
      "              'SubnetId': 'subnet-00edd2cff6e184d73',\n",
      "              'Tags': [{'Key': 'aws:cloudformation:logical-id',\n",
      "                        'Value': 'SubnetPublicUSWEST2B'},\n",
      "                       {'Key': 'kubernetes.io/role/elb', 'Value': '1'},\n",
      "                       {'Key': 'aws:cloudformation:stack-id',\n",
      "                        'Value': 'arn:aws:cloudformation:us-west-2:565991835156:stack/eksctl-aws-eks-200214-cluster/52b98e90-4f03-11ea-a7ce-0688c4290cb8'},\n",
      "                       {'Key': 'eksctl.cluster.k8s.io/v1alpha1/cluster-name',\n",
      "                        'Value': 'aws-eks-200214'},\n",
      "                       {'Key': 'kubernetes.io/cluster/aws-eks-200214',\n",
      "                        'Value': 'shared'},\n",
      "                       {'Key': 'aws:cloudformation:stack-name',\n",
      "                        'Value': 'eksctl-aws-eks-200214-cluster'},\n",
      "                       {'Key': 'alpha.eksctl.io/cluster-name',\n",
      "                        'Value': 'aws-eks-200214'},\n",
      "                       {'Key': 'Name',\n",
      "                        'Value': 'eksctl-aws-eks-200214-cluster/SubnetPublicUSWEST2B'}],\n",
      "              'VpcId': 'vpc-07b429d6780e6ec5f'},\n",
      "             {'AssignIpv6AddressOnCreation': False,\n",
      "              'AvailabilityZone': 'us-west-2c',\n",
      "              'AvailabilityZoneId': 'usw2-az3',\n",
      "              'AvailableIpAddressCount': 8178,\n",
      "              'CidrBlock': '10.0.32.0/19',\n",
      "              'DefaultForAz': False,\n",
      "              'Ipv6CidrBlockAssociationSet': [],\n",
      "              'MapPublicIpOnLaunch': False,\n",
      "              'OwnerId': '565991835156',\n",
      "              'State': 'available',\n",
      "              'SubnetArn': 'arn:aws:ec2:us-west-2:565991835156:subnet/subnet-0c62100d8eedb46a3',\n",
      "              'SubnetId': 'subnet-0c62100d8eedb46a3',\n",
      "              'Tags': [{'Key': 'Name',\n",
      "                        'Value': 'eksctl-aws-eks-200214-cluster/SubnetPublicUSWEST2C'},\n",
      "                       {'Key': 'kubernetes.io/cluster/aws-eks-200214',\n",
      "                        'Value': 'shared'},\n",
      "                       {'Key': 'alpha.eksctl.io/cluster-name',\n",
      "                        'Value': 'aws-eks-200214'},\n",
      "                       {'Key': 'aws:cloudformation:logical-id',\n",
      "                        'Value': 'SubnetPublicUSWEST2C'},\n",
      "                       {'Key': 'kubernetes.io/role/elb', 'Value': '1'},\n",
      "                       {'Key': 'eksctl.cluster.k8s.io/v1alpha1/cluster-name',\n",
      "                        'Value': 'aws-eks-200214'},\n",
      "                       {'Key': 'aws:cloudformation:stack-id',\n",
      "                        'Value': 'arn:aws:cloudformation:us-west-2:565991835156:stack/eksctl-aws-eks-200214-cluster/52b98e90-4f03-11ea-a7ce-0688c4290cb8'},\n",
      "                       {'Key': 'aws:cloudformation:stack-name',\n",
      "                        'Value': 'eksctl-aws-eks-200214-cluster'}],\n",
      "              'VpcId': 'vpc-07b429d6780e6ec5f'}]}\n"
     ]
    }
   ],
   "source": [
    "row = !aws ec2 describe-subnets --filters \"Name=tag:Name,Values=*{clusterName}*Public*\"\n",
    "\n",
    "import json\n",
    "import pprint\n",
    "\n",
    "while row[0].find('{') == -1:\n",
    "    del row[0]\n",
    "row[0] = \"{\"\n",
    "publicSubnets = json.loads(''.join(row))\n",
    "pprint.pprint(publicSubnets)\n"
   ]
  },
  {
   "cell_type": "code",
   "execution_count": 7,
   "metadata": {
    "lc_cell_meme": {
     "current": "73c5f606-2c9d-11ea-9eae-0242ac120004",
     "execution_end_time": "2020-01-30T11:06:14.057829Z",
     "history": [
      {
       "current": "73c5f606-2c9d-11ea-9eae-0242ac120004",
       "next": "8f541fc2-27cc-11ea-874f-0242ac120004",
       "previous": "2d3a9cfa-2c9d-11ea-9eae-0242ac120004"
      },
      {
       "current": "73c5f606-2c9d-11ea-9eae-0242ac120004",
       "next": "bb53a7f2-2c9d-11ea-9eae-0242ac120004",
       "previous": "2d3a9cfa-2c9d-11ea-9eae-0242ac120004"
      },
      {
       "current": "73c5f606-2c9d-11ea-9eae-0242ac120004",
       "next": "91f0fd6e-2c9e-11ea-9eae-0242ac120004",
       "previous": "2d3a9cfa-2c9d-11ea-9eae-0242ac120004"
      }
     ],
     "next": "fa79117c-31fe-11ea-9983-0242ac120004",
     "previous": "2d3a9cfa-2c9d-11ea-9eae-0242ac120004"
    },
    "lc_wrapper": {
     "log_history": [
      "/home/user5/notebooks/seminar-lc4ri/AWS/.log/20200101/20200101-134909-0345.log",
      "/home/user5/notebooks/seminar-lc4ri/AWS/.log/20200108/20200108-100700-0750.log",
      "/home/user5/notebooks/seminar-lc4ri/AWS/.log/20200108/20200108-100716-0022.log",
      "/home/user2/notebooks/AWS/.log/20200115/20200115-095708-0098.log",
      "/home/user2/notebooks/AWS/.log/20200115/20200115-100338-0975.log",
      "/home/user2/notebooks/AWS/.log/20200115/20200115-120109-0022.log",
      "/home/user2/notebooks/AWS/.log/20200115/20200115-120119-0381.log",
      "/home/user2/notebooks/AWS/.log/20200115/20200115-120127-0675.log",
      "/home/user2/notebooks/AWS/.log/20200115/20200115-120834-0947.log",
      "/home/user2/notebooks/AWS/.log/20200123/20200123-074131-0643.log",
      "/home/user2/notebooks/AWS/.log/20200127/20200127-015345-0871.log",
      "/home/user2/notebooks/AWS/.log/20200127/20200127-020409-0804.log",
      "/home/user2/notebooks/200130/aws_notebook/.log/20200130/20200130-110613-0205.log"
     ]
    }
   },
   "outputs": [
    {
     "name": "stdout",
     "output_type": "stream",
     "text": [
      "{'Subnets': [{'AssignIpv6AddressOnCreation': False,\n",
      "              'AvailabilityZone': 'us-west-2c',\n",
      "              'AvailabilityZoneId': 'usw2-az3',\n",
      "              'AvailableIpAddressCount': 8186,\n",
      "              'CidrBlock': '10.0.96.0/19',\n",
      "              'DefaultForAz': False,\n",
      "              'Ipv6CidrBlockAssociationSet': [],\n",
      "              'MapPublicIpOnLaunch': False,\n",
      "              'OwnerId': '565991835156',\n",
      "              'State': 'available',\n",
      "              'SubnetArn': 'arn:aws:ec2:us-west-2:565991835156:subnet/subnet-0880877de3ef6143a',\n",
      "              'SubnetId': 'subnet-0880877de3ef6143a',\n",
      "              'Tags': [{'Key': 'aws:cloudformation:stack-name',\n",
      "                        'Value': 'eksctl-aws-eks-200130-cluster'},\n",
      "                       {'Key': 'kubernetes.io/cluster/aws-eks-200130',\n",
      "                        'Value': 'shared'},\n",
      "                       {'Key': 'aws:cloudformation:logical-id',\n",
      "                        'Value': 'SubnetPrivateUSWEST2C'},\n",
      "                       {'Key': 'alpha.eksctl.io/cluster-name',\n",
      "                        'Value': 'aws-eks-200130'},\n",
      "                       {'Key': 'kubernetes.io/role/internal-elb', 'Value': '1'},\n",
      "                       {'Key': 'aws:cloudformation:stack-id',\n",
      "                        'Value': 'arn:aws:cloudformation:us-west-2:565991835156:stack/eksctl-aws-eks-200130-cluster/8a8d7a30-434a-11ea-bbd3-069045656416'},\n",
      "                       {'Key': 'Name',\n",
      "                        'Value': 'eksctl-aws-eks-200130-cluster/SubnetPrivateUSWEST2C'},\n",
      "                       {'Key': 'eksctl.cluster.k8s.io/v1alpha1/cluster-name',\n",
      "                        'Value': 'aws-eks-200130'}],\n",
      "              'VpcId': 'vpc-031af53d13bacea11'},\n",
      "             {'AssignIpv6AddressOnCreation': False,\n",
      "              'AvailabilityZone': 'us-west-2b',\n",
      "              'AvailabilityZoneId': 'usw2-az2',\n",
      "              'AvailableIpAddressCount': 8186,\n",
      "              'CidrBlock': '10.0.64.0/19',\n",
      "              'DefaultForAz': False,\n",
      "              'Ipv6CidrBlockAssociationSet': [],\n",
      "              'MapPublicIpOnLaunch': False,\n",
      "              'OwnerId': '565991835156',\n",
      "              'State': 'available',\n",
      "              'SubnetArn': 'arn:aws:ec2:us-west-2:565991835156:subnet/subnet-0606ee1fa3fc64dff',\n",
      "              'SubnetId': 'subnet-0606ee1fa3fc64dff',\n",
      "              'Tags': [{'Key': 'Name',\n",
      "                        'Value': 'eksctl-aws-eks-200130-cluster/SubnetPrivateUSWEST2B'},\n",
      "                       {'Key': 'aws:cloudformation:stack-id',\n",
      "                        'Value': 'arn:aws:cloudformation:us-west-2:565991835156:stack/eksctl-aws-eks-200130-cluster/8a8d7a30-434a-11ea-bbd3-069045656416'},\n",
      "                       {'Key': 'alpha.eksctl.io/cluster-name',\n",
      "                        'Value': 'aws-eks-200130'},\n",
      "                       {'Key': 'eksctl.cluster.k8s.io/v1alpha1/cluster-name',\n",
      "                        'Value': 'aws-eks-200130'},\n",
      "                       {'Key': 'aws:cloudformation:logical-id',\n",
      "                        'Value': 'SubnetPrivateUSWEST2B'},\n",
      "                       {'Key': 'kubernetes.io/role/internal-elb', 'Value': '1'},\n",
      "                       {'Key': 'aws:cloudformation:stack-name',\n",
      "                        'Value': 'eksctl-aws-eks-200130-cluster'},\n",
      "                       {'Key': 'kubernetes.io/cluster/aws-eks-200130',\n",
      "                        'Value': 'shared'}],\n",
      "              'VpcId': 'vpc-031af53d13bacea11'}]}\n"
     ]
    }
   ],
   "source": [
    "row = !aws ec2 describe-subnets --filters \"Name=tag:Name,Values=*{clusterName}*Private*\"\n",
    "\n",
    "import json\n",
    "\n",
    "while row[0].find('{') == -1:\n",
    "    del row[0]\n",
    "row[0] = \"{\"\n",
    "privateSubnets = json.loads(''.join(row))\n",
    "pprint.pprint(privateSubnets)"
   ]
  },
  {
   "cell_type": "markdown",
   "metadata": {
    "lc_cell_meme": {
     "current": "fa79117c-31fe-11ea-9983-0242ac120004",
     "next": "12e37dea-27cf-11ea-874f-0242ac120004",
     "previous": "73c5f606-2c9d-11ea-9eae-0242ac120004"
    }
   },
   "source": [
    "Kubernetes 用のタグはすでに付与されていることを確認した。"
   ]
  },
  {
   "cell_type": "markdown",
   "metadata": {
    "lc_cell_meme": {
     "current": "12e37dea-27cf-11ea-874f-0242ac120004",
     "history": [
      {
       "current": "12e37dea-27cf-11ea-874f-0242ac120004",
       "next": "12e37f02-27cf-11ea-874f-0242ac120004",
       "previous": "12e37be2-27cf-11ea-874f-0242ac120004"
      },
      {
       "current": "12e37dea-27cf-11ea-874f-0242ac120004",
       "next": "12e37f02-27cf-11ea-874f-0242ac120004",
       "previous": "cdcd7f18-2ca0-11ea-9eae-0242ac120004"
      },
      {
       "current": "12e37dea-27cf-11ea-874f-0242ac120004",
       "next": "12e37f02-27cf-11ea-874f-0242ac120004",
       "previous": "fa79117c-31fe-11ea-9983-0242ac120004"
      }
     ],
     "next": "ac749cea-4350-11ea-82b4-0242ac120004",
     "previous": "fa79117c-31fe-11ea-9983-0242ac120004"
    }
   },
   "source": [
    "ワーカーノードインスタンスプロファイルに対して、ALBIngressControllerIAMPolicy という IAM ポリシーを作成し、ALB Ingress Controller がユーザーに代わって AWS API を呼び出せるようにします。次の AWS CLI コマンドを使用して、AWS アカウントで IAM ポリシーを作成します。GitHub でポリシードキュメントを表示することもできます。\n",
    "\n",
    "GitHub からポリシードキュメントをダウンロードします。"
   ]
  },
  {
   "cell_type": "code",
   "execution_count": 9,
   "metadata": {
    "lc_cell_meme": {
     "current": "ac749cea-4350-11ea-82b4-0242ac120004",
     "execution_end_time": "2020-01-30T11:06:40.084638Z",
     "next": "12e37f02-27cf-11ea-874f-0242ac120004",
     "previous": "12e37dea-27cf-11ea-874f-0242ac120004"
    },
    "lc_wrapper": {
     "log_history": [
      "/home/user2/notebooks/200130/aws_notebook/.log/20200130/20200130-110639-0110.log"
     ]
    }
   },
   "outputs": [],
   "source": [
    "!mkdir temp"
   ]
  },
  {
   "cell_type": "code",
   "execution_count": 10,
   "metadata": {
    "lc_cell_meme": {
     "current": "12e37f02-27cf-11ea-874f-0242ac120004",
     "execution_end_time": "2020-01-30T11:06:42.498228Z",
     "history": [
      {
       "current": "12e37f02-27cf-11ea-874f-0242ac120004",
       "next": "12e37ff2-27cf-11ea-874f-0242ac120004",
       "previous": "12e37dea-27cf-11ea-874f-0242ac120004"
      }
     ],
     "next": "12e37ff2-27cf-11ea-874f-0242ac120004",
     "previous": "ac749cea-4350-11ea-82b4-0242ac120004"
    },
    "lc_wrapper": {
     "log_history": [
      "/home/user5/notebooks/seminar-lc4ri/AWS/.log/20191226/20191226-110020-0834.log",
      "/home/user5/notebooks/seminar-lc4ri/AWS/.log/20191226/20191226-110028-0121.log",
      "/home/user5/notebooks/seminar-lc4ri/AWS/.log/20200101/20200101-141326-0114.log",
      "/home/user5/notebooks/seminar-lc4ri/AWS/.log/20200108/20200108-100905-0869.log",
      "/home/user2/notebooks/AWS/.log/20200115/20200115-095719-0106.log",
      "/home/user2/notebooks/AWS/.log/20200123/20200123-074135-0139.log",
      "/home/user2/notebooks/AWS/.log/20200127/20200127-020416-0438.log",
      "/home/user2/notebooks/AWS/.log/20200127/20200127-023558-0609.log",
      "/home/user2/notebooks/200130/aws_notebook/.log/20200130/20200130-110624-0106.log",
      "/home/user2/notebooks/200130/aws_notebook/.log/20200130/20200130-110641-0299.log"
     ]
    }
   },
   "outputs": [
    {
     "name": "stdout",
     "output_type": "stream",
     "text": [
      "--2020-01-30 11:06:42--  https://raw.githubusercontent.com/kubernetes-sigs/aws-alb-ingress-controller/v1.1.4/docs/examples/iam-policy.json\n",
      "Resolving raw.githubusercontent.com (raw.githubusercontent.com)... 151.101.0.133, 151.101.64.133, 151.101.128.133, ...\n",
      "Connecting to raw.githubusercontent.com (raw.githubusercontent.com)|151.101.0.133|:443... connected.\n",
      "HTTP request sent, awaiting response... 200 OK\n",
      "Length: 3546 (3.5K) [text/plain]\n",
      "Saving to: ‘temp/iam-policy.json’\n",
      "\n",
      "temp/iam-policy.jso 100%[===================>]   3.46K  --.-KB/s    in 0s      \n",
      "\n",
      "2020-01-30 11:06:42 (24.9 MB/s) - ‘temp/iam-policy.json’ saved [3546/3546]\n",
      "\n"
     ]
    }
   ],
   "source": [
    "!wget -O temp/iam-policy.json https://raw.githubusercontent.com/kubernetes-sigs/aws-alb-ingress-controller/v1.1.4/docs/examples/iam-policy.json"
   ]
  },
  {
   "cell_type": "code",
   "execution_count": 11,
   "metadata": {
    "lc_cell_meme": {
     "current": "12e37ff2-27cf-11ea-874f-0242ac120004",
     "execution_end_time": "2020-01-30T11:06:45.363978Z",
     "next": "12e380d8-27cf-11ea-874f-0242ac120004",
     "previous": "12e37f02-27cf-11ea-874f-0242ac120004"
    },
    "lc_wrapper": {
     "log_history": [
      "/home/user5/notebooks/seminar-lc4ri/AWS/.log/20191226/20191226-110043-0070.log",
      "/home/user5/notebooks/seminar-lc4ri/AWS/.log/20200101/20200101-141328-0848.log",
      "/home/user5/notebooks/seminar-lc4ri/AWS/.log/20200108/20200108-100909-0068.log",
      "/home/user2/notebooks/AWS/.log/20200115/20200115-095721-0531.log",
      "/home/user2/notebooks/AWS/.log/20200123/20200123-074137-0112.log",
      "/home/user2/notebooks/AWS/.log/20200127/20200127-020418-0789.log",
      "/home/user2/notebooks/AWS/.log/20200127/20200127-023605-0786.log",
      "/home/user2/notebooks/200130/aws_notebook/.log/20200130/20200130-110644-0396.log"
     ]
    }
   },
   "outputs": [
    {
     "name": "stdout",
     "output_type": "stream",
     "text": [
      "{\r\n",
      "  \"Version\": \"2012-10-17\",\r\n",
      "  \"Statement\": [\r\n",
      "    {\r\n",
      "      \"Effect\": \"Allow\",\r\n",
      "      \"Action\": [\r\n",
      "        \"acm:DescribeCertificate\",\r\n",
      "        \"acm:ListCertificates\",\r\n",
      "        \"acm:GetCertificate\"\r\n",
      "      ],\r\n",
      "      \"Resource\": \"*\"\r\n",
      "    },\r\n",
      "    {\r\n",
      "      \"Effect\": \"Allow\",\r\n",
      "      \"Action\": [\r\n",
      "        \"ec2:AuthorizeSecurityGroupIngress\",\r\n",
      "        \"ec2:CreateSecurityGroup\",\r\n",
      "        \"ec2:CreateTags\",\r\n",
      "        \"ec2:DeleteTags\",\r\n",
      "        \"ec2:DeleteSecurityGroup\",\r\n",
      "        \"ec2:DescribeAccountAttributes\",\r\n",
      "        \"ec2:DescribeAddresses\",\r\n",
      "        \"ec2:DescribeInstances\",\r\n",
      "        \"ec2:DescribeInstanceStatus\",\r\n",
      "        \"ec2:DescribeInternetGateways\",\r\n",
      "        \"ec2:DescribeNetworkInterfaces\",\r\n",
      "        \"ec2:DescribeSecurityGroups\",\r\n",
      "        \"ec2:DescribeSubnets\",\r\n",
      "        \"ec2:DescribeTags\",\r\n",
      "        \"ec2:DescribeVpcs\",\r\n",
      "        \"ec2:ModifyInstanceAttribute\",\r\n",
      "        \"ec2:ModifyNetworkInterfaceAttribute\",\r\n",
      "        \"ec2:RevokeSecurityGroupIngress\"\r\n",
      "      ],\r\n",
      "      \"Resource\": \"*\"\r\n",
      "    },\r\n",
      "    {\r\n",
      "      \"Effect\": \"Allow\",\r\n",
      "      \"Action\": [\r\n",
      "        \"elasticloadbalancing:AddListenerCertificates\",\r\n",
      "        \"elasticloadbalancing:AddTags\",\r\n",
      "        \"elasticloadbalancing:CreateListener\",\r\n",
      "        \"elasticloadbalancing:CreateLoadBalancer\",\r\n",
      "        \"elasticloadbalancing:CreateRule\",\r\n",
      "        \"elasticloadbalancing:CreateTargetGroup\",\r\n",
      "        \"elasticloadbalancing:DeleteListener\",\r\n",
      "        \"elasticloadbalancing:DeleteLoadBalancer\",\r\n",
      "        \"elasticloadbalancing:DeleteRule\",\r\n",
      "        \"elasticloadbalancing:DeleteTargetGroup\",\r\n",
      "        \"elasticloadbalancing:DeregisterTargets\",\r\n",
      "        \"elasticloadbalancing:DescribeListenerCertificates\",\r\n",
      "        \"elasticloadbalancing:DescribeListeners\",\r\n",
      "        \"elasticloadbalancing:DescribeLoadBalancers\",\r\n",
      "        \"elasticloadbalancing:DescribeLoadBalancerAttributes\",\r\n",
      "        \"elasticloadbalancing:DescribeRules\",\r\n",
      "        \"elasticloadbalancing:DescribeSSLPolicies\",\r\n",
      "        \"elasticloadbalancing:DescribeTags\",\r\n",
      "        \"elasticloadbalancing:DescribeTargetGroups\",\r\n",
      "        \"elasticloadbalancing:DescribeTargetGroupAttributes\",\r\n",
      "        \"elasticloadbalancing:DescribeTargetHealth\",\r\n",
      "        \"elasticloadbalancing:ModifyListener\",\r\n",
      "        \"elasticloadbalancing:ModifyLoadBalancerAttributes\",\r\n",
      "        \"elasticloadbalancing:ModifyRule\",\r\n",
      "        \"elasticloadbalancing:ModifyTargetGroup\",\r\n",
      "        \"elasticloadbalancing:ModifyTargetGroupAttributes\",\r\n",
      "        \"elasticloadbalancing:RegisterTargets\",\r\n",
      "        \"elasticloadbalancing:RemoveListenerCertificates\",\r\n",
      "        \"elasticloadbalancing:RemoveTags\",\r\n",
      "        \"elasticloadbalancing:SetIpAddressType\",\r\n",
      "        \"elasticloadbalancing:SetSecurityGroups\",\r\n",
      "        \"elasticloadbalancing:SetSubnets\",\r\n",
      "        \"elasticloadbalancing:SetWebACL\"\r\n",
      "      ],\r\n",
      "      \"Resource\": \"*\"\r\n",
      "    },\r\n",
      "    {\r\n",
      "      \"Effect\": \"Allow\",\r\n",
      "      \"Action\": [\r\n",
      "        \"iam:CreateServiceLinkedRole\",\r\n",
      "        \"iam:GetServerCertificate\",\r\n",
      "        \"iam:ListServerCertificates\"\r\n",
      "      ],\r\n",
      "      \"Resource\": \"*\"\r\n",
      "    },\r\n",
      "    {\r\n",
      "      \"Effect\": \"Allow\",\r\n",
      "      \"Action\": [\r\n",
      "        \"cognito-idp:DescribeUserPoolClient\"\r\n",
      "      ],\r\n",
      "      \"Resource\": \"*\"\r\n",
      "    },\r\n",
      "    {\r\n",
      "      \"Effect\": \"Allow\",\r\n",
      "      \"Action\": [\r\n",
      "        \"waf-regional:GetWebACLForResource\",\r\n",
      "        \"waf-regional:GetWebACL\",\r\n",
      "        \"waf-regional:AssociateWebACL\",\r\n",
      "        \"waf-regional:DisassociateWebACL\"\r\n",
      "      ],\r\n",
      "      \"Resource\": \"*\"\r\n",
      "    },\r\n",
      "    {\r\n",
      "      \"Effect\": \"Allow\",\r\n",
      "      \"Action\": [\r\n",
      "        \"tag:GetResources\",\r\n",
      "        \"tag:TagResources\"\r\n",
      "      ],\r\n",
      "      \"Resource\": \"*\"\r\n",
      "    },\r\n",
      "    {\r\n",
      "      \"Effect\": \"Allow\",\r\n",
      "      \"Action\": [\r\n",
      "        \"waf:GetWebACL\"\r\n",
      "      ],\r\n",
      "      \"Resource\": \"*\"\r\n",
      "    }\r\n",
      "  ]\r\n",
      "}\r\n"
     ]
    }
   ],
   "source": [
    "!cat temp/iam-policy.json"
   ]
  },
  {
   "cell_type": "markdown",
   "metadata": {
    "lc_cell_meme": {
     "current": "12e380d8-27cf-11ea-874f-0242ac120004",
     "execution_end_time": "2019-12-26T11:00:56.535151Z",
     "history": [
      {
       "current": "12e380d8-27cf-11ea-874f-0242ac120004",
       "next": "12e3834e-27cf-11ea-874f-0242ac120004",
       "previous": "12e37ff2-27cf-11ea-874f-0242ac120004"
      },
      {
       "current": "12e380d8-27cf-11ea-874f-0242ac120004",
       "next": "12e387f4-27cf-11ea-874f-0242ac120004",
       "previous": "12e37ff2-27cf-11ea-874f-0242ac120004"
      },
      {
       "current": "12e380d8-27cf-11ea-874f-0242ac120004",
       "next": "7aed8a98-2ca2-11ea-9eae-0242ac120004",
       "previous": "12e37ff2-27cf-11ea-874f-0242ac120004"
      },
      {
       "current": "12e380d8-27cf-11ea-874f-0242ac120004",
       "next": "e42fb73c-40ad-11ea-91a9-0242ac120004",
       "previous": "12e37ff2-27cf-11ea-874f-0242ac120004"
      }
     ],
     "next": "7aed8a98-2ca2-11ea-9eae-0242ac120004",
     "previous": "12e37ff2-27cf-11ea-874f-0242ac120004"
    },
    "lc_wrapper": {
     "log_history": [
      "/home/user5/notebooks/seminar-lc4ri/AWS/.log/20191226/20191226-110056-0526.log"
     ]
    }
   },
   "source": [
    "ポリシーを作成します。"
   ]
  },
  {
   "cell_type": "code",
   "execution_count": 12,
   "metadata": {
    "lc_cell_meme": {
     "current": "7aed8a98-2ca2-11ea-9eae-0242ac120004",
     "execution_end_time": "2020-01-30T11:06:50.706825Z",
     "history": [
      {
       "current": "7aed8a98-2ca2-11ea-9eae-0242ac120004",
       "next": "5a874e38-27cf-11ea-874f-0242ac120004",
       "previous": "12e387f4-27cf-11ea-874f-0242ac120004"
      },
      {
       "current": "7aed8a98-2ca2-11ea-9eae-0242ac120004",
       "next": "c2724fc0-2ca2-11ea-9eae-0242ac120004",
       "previous": "12e387f4-27cf-11ea-874f-0242ac120004"
      },
      {
       "current": "7aed8a98-2ca2-11ea-9eae-0242ac120004",
       "next": "0a05e856-2ca3-11ea-9eae-0242ac120004",
       "previous": "12e380d8-27cf-11ea-874f-0242ac120004"
      },
      {
       "current": "7aed8a98-2ca2-11ea-9eae-0242ac120004",
       "next": "0a05e856-2ca3-11ea-9eae-0242ac120004",
       "previous": "e42fb73c-40ad-11ea-91a9-0242ac120004"
      }
     ],
     "next": "0a05e856-2ca3-11ea-9eae-0242ac120004",
     "previous": "12e380d8-27cf-11ea-874f-0242ac120004"
    },
    "lc_wrapper": {
     "log_history": [
      "/home/user5/notebooks/seminar-lc4ri/AWS/.log/20200101/20200101-142624-0704.log",
      "/home/user5/notebooks/seminar-lc4ri/AWS/.log/20200108/20200108-101019-0308.log",
      "/home/user2/notebooks/AWS/.log/20200115/20200115-095726-0570.log",
      "/home/user2/notebooks/AWS/.log/20200123/20200123-074138-0347.log",
      "/home/user2/notebooks/AWS/.log/20200127/20200127-020435-0113.log",
      "/home/user2/notebooks/AWS/.log/20200127/20200127-023626-0488.log",
      "/home/user2/notebooks/AWS/.log/20200127/20200127-023743-0985.log",
      "/home/user2/notebooks/200130/aws_notebook/.log/20200130/20200130-110649-0616.log"
     ]
    }
   },
   "outputs": [
    {
     "name": "stdout",
     "output_type": "stream",
     "text": [
      "{'Policy': {'Arn': 'arn:aws:iam::565991835156:policy/ALBIngressControllerIAMPolicy',\n",
      "            'AttachmentCount': 0,\n",
      "            'CreateDate': '2020-01-30T11:06:50Z',\n",
      "            'DefaultVersionId': 'v1',\n",
      "            'IsAttachable': True,\n",
      "            'Path': '/',\n",
      "            'PermissionsBoundaryUsageCount': 0,\n",
      "            'PolicyId': 'ANPAYHR56AYKFFF6DG3LH',\n",
      "            'PolicyName': 'ALBIngressControllerIAMPolicy',\n",
      "            'UpdateDate': '2020-01-30T11:06:50Z'}}\n"
     ]
    }
   ],
   "source": [
    "row = !aws iam create-policy \\\n",
    "--policy-name ALBIngressControllerIAMPolicy \\\n",
    "--policy-document file://temp/iam-policy.json\n",
    "\n",
    "import json\n",
    "\n",
    "while row[0].find('{') == -1:\n",
    "    del row[0]\n",
    "row[0] = \"{\"\n",
    "policy = json.loads(''.join(row))\n",
    "pprint.pprint(policy)"
   ]
  },
  {
   "cell_type": "code",
   "execution_count": 13,
   "metadata": {
    "lc_cell_meme": {
     "current": "0a05e856-2ca3-11ea-9eae-0242ac120004",
     "execution_end_time": "2020-01-30T11:06:51.662769Z",
     "history": [
      {
       "current": "0a05e856-2ca3-11ea-9eae-0242ac120004",
       "next": "a210ae3e-27cf-11ea-874f-0242ac120004",
       "previous": "0a05e608-2ca3-11ea-9eae-0242ac120004"
      }
     ],
     "next": "a210ae3e-27cf-11ea-874f-0242ac120004",
     "previous": "7aed8a98-2ca2-11ea-9eae-0242ac120004"
    },
    "lc_wrapper": {
     "log_history": [
      "/home/user5/notebooks/seminar-lc4ri/AWS/.log/20200101/20200101-142721-0301.log",
      "/home/user5/notebooks/seminar-lc4ri/AWS/.log/20200108/20200108-101040-0727.log",
      "/home/user2/notebooks/AWS/.log/20200115/20200115-095729-0187.log",
      "/home/user2/notebooks/AWS/.log/20200123/20200123-074140-0274.log",
      "/home/user2/notebooks/AWS/.log/20200127/20200127-020436-0750.log",
      "/home/user2/notebooks/200130/aws_notebook/.log/20200130/20200130-110651-0655.log"
     ]
    }
   },
   "outputs": [
    {
     "name": "stdout",
     "output_type": "stream",
     "text": [
      "arn:aws:iam::565991835156:policy/ALBIngressControllerIAMPolicy\n"
     ]
    }
   ],
   "source": [
    "ALBPolicyArn = policy['Policy']['Arn']\n",
    "print(ALBPolicyArn)"
   ]
  },
  {
   "cell_type": "markdown",
   "metadata": {
    "lc_cell_meme": {
     "current": "a210ae3e-27cf-11ea-874f-0242ac120004",
     "history": [
      {
       "current": "a210ae3e-27cf-11ea-874f-0242ac120004",
       "next": "a210b0f0-27cf-11ea-874f-0242ac120004",
       "previous": "5a87504a-27cf-11ea-874f-0242ac120004"
      }
     ],
     "next": "a210b230-27cf-11ea-874f-0242ac120004",
     "previous": "0a05e856-2ca3-11ea-9eae-0242ac120004"
    }
   },
   "source": [
    "ワーカーノード用の IAM ロール名を取得します。次のコマンドを使用して、aws-auth configmap を出力します。"
   ]
  },
  {
   "cell_type": "code",
   "execution_count": 72,
   "metadata": {
    "lc_cell_meme": {
     "current": "a210b230-27cf-11ea-874f-0242ac120004",
     "execution_end_time": "2020-01-30T11:46:07.552814Z",
     "history": [
      {
       "current": "a210b230-27cf-11ea-874f-0242ac120004",
       "next": "a210b32a-27cf-11ea-874f-0242ac120004",
       "previous": "a210b0f0-27cf-11ea-874f-0242ac120004"
      }
     ],
     "next": "a210b32a-27cf-11ea-874f-0242ac120004",
     "previous": "a210ae3e-27cf-11ea-874f-0242ac120004"
    },
    "lc_wrapper": {
     "log_history": [
      "/home/user5/notebooks/seminar-lc4ri/AWS/.log/20191226/20191226-110417-0126.log",
      "/home/user5/notebooks/seminar-lc4ri/AWS/.log/20200101/20200101-142804-0434.log",
      "/home/user5/notebooks/seminar-lc4ri/AWS/.log/20200108/20200108-101114-0672.log",
      "/home/user2/notebooks/AWS/.log/20200115/20200115-095733-0234.log",
      "/home/user2/notebooks/AWS/.log/20200115/20200115-100103-0961.log",
      "/home/user2/notebooks/AWS/.log/20200115/20200115-100208-0545.log",
      "/home/user2/notebooks/AWS/.log/20200115/20200115-100224-0169.log",
      "/home/user2/notebooks/AWS/.log/20200115/20200115-100247-0557.log",
      "/home/user2/notebooks/AWS/.log/20200115/20200115-100457-0693.log",
      "/home/user2/notebooks/AWS/.log/20200115/20200115-100508-0387.log",
      "/home/user2/notebooks/AWS/.log/20200115/20200115-100521-0850.log",
      "/home/user2/notebooks/AWS/.log/20200115/20200115-100546-0070.log",
      "/home/user2/notebooks/AWS/.log/20200115/20200115-100557-0356.log",
      "/home/user2/notebooks/AWS/.log/20200115/20200115-100634-0189.log",
      "/home/user2/notebooks/AWS/.log/20200115/20200115-100648-0321.log",
      "/home/user2/notebooks/AWS/.log/20200115/20200115-100657-0800.log",
      "/home/user2/notebooks/AWS/.log/20200115/20200115-100726-0363.log",
      "/home/user2/notebooks/AWS/.log/20200115/20200115-100958-0434.log",
      "/home/user2/notebooks/AWS/.log/20200115/20200115-101005-0348.log",
      "/home/user2/notebooks/AWS/.log/20200115/20200115-101026-0895.log",
      "/home/user2/notebooks/AWS/.log/20200115/20200115-101047-0674.log",
      "/home/user2/notebooks/AWS/.log/20200115/20200115-101113-0301.log",
      "/home/user2/notebooks/AWS/.log/20200115/20200115-101218-0377.log",
      "/home/user2/notebooks/AWS/.log/20200115/20200115-101310-0542.log",
      "/home/user2/notebooks/AWS/.log/20200115/20200115-101319-0134.log",
      "/home/user2/notebooks/AWS/.log/20200115/20200115-101341-0929.log",
      "/home/user2/notebooks/AWS/.log/20200115/20200115-101347-0722.log",
      "/home/user2/notebooks/AWS/.log/20200115/20200115-101423-0288.log",
      "/home/user2/notebooks/AWS/.log/20200123/20200123-074141-0705.log",
      "/home/user2/notebooks/AWS/.log/20200127/20200127-020438-0176.log",
      "/home/user2/notebooks/200130/aws_notebook/.log/20200130/20200130-110655-0745.log",
      "/home/user2/notebooks/200130/aws_notebook/.log/20200130/20200130-114606-0683.log"
     ]
    }
   },
   "outputs": [],
   "source": []
  },
  {
   "cell_type": "markdown",
   "metadata": {
    "lc_cell_meme": {
     "current": "a210b32a-27cf-11ea-874f-0242ac120004",
     "next": "a210b41a-27cf-11ea-874f-0242ac120004",
     "previous": "a210b230-27cf-11ea-874f-0242ac120004"
    }
   },
   "source": [
    "system:nodes グループが割り当てられている rolearn 値のロール名を取り出します。クラスターの各ノードグループに 1 つの値が必要です。"
   ]
  },
  {
   "cell_type": "code",
   "execution_count": 10,
   "metadata": {
    "lc_cell_meme": {
     "current": "a210b41a-27cf-11ea-874f-0242ac120004",
     "execution_end_time": "2020-02-14T09:05:16.851301Z",
     "history": [
      {
       "current": "a210b41a-27cf-11ea-874f-0242ac120004",
       "next": null,
       "previous": "a210b32a-27cf-11ea-874f-0242ac120004"
      }
     ],
     "next": "e99adfae-27cf-11ea-874f-0242ac120004",
     "previous": "a210b32a-27cf-11ea-874f-0242ac120004"
    },
    "lc_wrapper": {
     "log_history": [
      "/home/user5/notebooks/seminar-lc4ri/AWS/.log/20191226/20191226-110610-0574.log",
      "/home/user5/notebooks/seminar-lc4ri/AWS/.log/20200101/20200101-142843-0540.log",
      "/home/user5/notebooks/seminar-lc4ri/AWS/.log/20200108/20200108-101130-0947.log",
      "/home/user2/notebooks/AWS/.log/20200115/20200115-101450-0133.log",
      "/home/user2/notebooks/AWS/.log/20200123/20200123-074143-0199.log",
      "/home/user2/notebooks/AWS/.log/20200127/20200127-020440-0016.log",
      "/home/user2/notebooks/200130/aws_notebook/.log/20200130/20200130-110657-0577.log",
      "/home/user2/notebooks/200130/aws_notebook/.log/20200130/20200130-114547-0592.log",
      "/home/user2/notebooks/200130/aws_notebook/.log/20200130/20200130-114607-0590.log",
      "/home/user2/notebooks/200130/aws_notebook/.log/20200214/20200214-090455-0673.log",
      "/home/user2/notebooks/200130/aws_notebook/.log/20200214/20200214-090505-0306.log",
      "/home/user2/notebooks/200130/aws_notebook/.log/20200214/20200214-090516-0477.log"
     ]
    }
   },
   "outputs": [
    {
     "name": "stdout",
     "output_type": "stream",
     "text": [
      "'eksctl-aws-eks-200214-nodegroup-n-NodeInstanceRole-L49KCDT5ANC5'\n"
     ]
    }
   ],
   "source": [
    "row = !kubectl -n kube-system describe configmap aws-auth\n",
    "\n",
    "import pprint\n",
    "import re\n",
    "\n",
    "m = re.search(r'arn:aws:iam::([0-9]+):role/(.*)', row[12])\n",
    "\n",
    "pprint.pprint(m.group(2))\n",
    "\n",
    "workerRolearn = m.group(2)\n",
    "\n",
    "\n",
    "res_info['workerRolearn']=workerRolearn"
   ]
  },
  {
   "cell_type": "markdown",
   "metadata": {
    "lc_cell_meme": {
     "current": "e99adfae-27cf-11ea-874f-0242ac120004",
     "next": "e99ae22e-27cf-11ea-874f-0242ac120004",
     "previous": "a210b41a-27cf-11ea-874f-0242ac120004"
    }
   },
   "source": [
    "次のコマンドを使用して、前に識別した各ワーカーノードの IAM ロールに、新しい ALBIngressControllerIAMPolicy IAM ポリシーをアタッチします。"
   ]
  },
  {
   "cell_type": "code",
   "execution_count": 16,
   "metadata": {
    "lc_cell_meme": {
     "current": "e99ae22e-27cf-11ea-874f-0242ac120004",
     "execution_end_time": "2020-01-30T11:07:02.923311Z",
     "history": [
      {
       "current": "e99ae22e-27cf-11ea-874f-0242ac120004",
       "next": null,
       "previous": "e99adfae-27cf-11ea-874f-0242ac120004"
      },
      {
       "current": "e99ae22e-27cf-11ea-874f-0242ac120004",
       "next": "311b3040-27d0-11ea-874f-0242ac120004",
       "previous": "e99adfae-27cf-11ea-874f-0242ac120004"
      },
      {
       "current": "e99ae22e-27cf-11ea-874f-0242ac120004",
       "next": "c03229fa-27d0-11ea-874f-0242ac120004",
       "previous": "e99adfae-27cf-11ea-874f-0242ac120004"
      }
     ],
     "next": "080c40f8-27d1-11ea-874f-0242ac120004",
     "previous": "e99adfae-27cf-11ea-874f-0242ac120004"
    },
    "lc_wrapper": {
     "log_history": [
      "/home/user5/notebooks/seminar-lc4ri/AWS/.log/20191226/20191226-110807-0334.log",
      "/home/user5/notebooks/seminar-lc4ri/AWS/.log/20200101/20200101-142852-0569.log",
      "/home/user5/notebooks/seminar-lc4ri/AWS/.log/20200108/20200108-101139-0690.log",
      "/home/user2/notebooks/AWS/.log/20200115/20200115-101512-0314.log",
      "/home/user2/notebooks/AWS/.log/20200123/20200123-074144-0557.log",
      "/home/user2/notebooks/AWS/.log/20200127/20200127-020441-0294.log",
      "/home/user2/notebooks/200130/aws_notebook/.log/20200130/20200130-110700-0946.log"
     ]
    }
   },
   "outputs": [],
   "source": [
    "!aws iam attach-role-policy \\\n",
    "--policy-arn {ALBPolicyArn} \\\n",
    "--role-name {workerRolearn}"
   ]
  },
  {
   "cell_type": "markdown",
   "metadata": {
    "lc_cell_meme": {
     "current": "080c40f8-27d1-11ea-874f-0242ac120004",
     "history": [
      {
       "current": "080c40f8-27d1-11ea-874f-0242ac120004",
       "next": "080c422e-27d1-11ea-874f-0242ac120004",
       "previous": "080c3edc-27d1-11ea-874f-0242ac120004"
      },
      {
       "current": "080c40f8-27d1-11ea-874f-0242ac120004",
       "next": "995f1edc-2ca3-11ea-9eae-0242ac120004",
       "previous": "080c3edc-27d1-11ea-874f-0242ac120004"
      },
      {
       "current": "080c40f8-27d1-11ea-874f-0242ac120004",
       "next": "080c422e-27d1-11ea-874f-0242ac120004",
       "previous": "080c3edc-27d1-11ea-874f-0242ac120004"
      },
      {
       "current": "080c40f8-27d1-11ea-874f-0242ac120004",
       "next": "d12aaf1e-31ff-11ea-9983-0242ac120004",
       "previous": "080c3edc-27d1-11ea-874f-0242ac120004"
      },
      {
       "current": "080c40f8-27d1-11ea-874f-0242ac120004",
       "next": "18b22eb6-3200-11ea-9983-0242ac120004",
       "previous": "080c3edc-27d1-11ea-874f-0242ac120004"
      },
      {
       "current": "080c40f8-27d1-11ea-874f-0242ac120004",
       "next": "18b22eb6-3200-11ea-9983-0242ac120004",
       "previous": "3b808b42-4351-11ea-82b4-0242ac120004"
      }
     ],
     "next": "18b22eb6-3200-11ea-9983-0242ac120004",
     "previous": "e99ae22e-27cf-11ea-874f-0242ac120004"
    }
   },
   "source": [
    "VPC IDを記録しておく\n",
    "\n"
   ]
  },
  {
   "cell_type": "code",
   "execution_count": 21,
   "metadata": {
    "deletable": false,
    "editable": false,
    "lc_cell_meme": {
     "current": "18b22eb6-3200-11ea-9983-0242ac120004",
     "execution_end_time": "2020-02-14T09:55:06.785879Z",
     "history": [
      {
       "current": "18b22eb6-3200-11ea-9983-0242ac120004",
       "next": "d12aaf1e-31ff-11ea-9983-0242ac120004",
       "previous": "080c40f8-27d1-11ea-874f-0242ac120004"
      },
      {
       "current": "18b22eb6-3200-11ea-9983-0242ac120004",
       "next": "899011e0-3780-11ea-b7f6-0242ac120004",
       "previous": "080c40f8-27d1-11ea-874f-0242ac120004"
      }
     ],
     "next": "24bb0c4e-4355-11ea-82b4-0242ac120004",
     "previous": "080c40f8-27d1-11ea-874f-0242ac120004"
    },
    "lc_wrapper": {
     "log_history": [
      "/home/user5/notebooks/seminar-lc4ri/AWS/.log/20200108/20200108-101744-0924.log",
      "/home/user5/notebooks/seminar-lc4ri/AWS/.log/20200108/20200108-101750-0642.log",
      "/home/user5/notebooks/seminar-lc4ri/AWS/.log/20200108/20200108-101754-0481.log",
      "/home/user5/notebooks/seminar-lc4ri/AWS/.log/20200108/20200108-101818-0657.log",
      "/home/user5/notebooks/seminar-lc4ri/AWS/.log/20200108/20200108-101834-0249.log",
      "/home/user2/notebooks/AWS/.log/20200115/20200115-101725-0571.log",
      "/home/user2/notebooks/AWS/.log/20200123/20200123-074201-0220.log",
      "/home/user2/notebooks/AWS/.log/20200127/20200127-020455-0245.log",
      "/home/user2/notebooks/200130/aws_notebook/.log/20200130/20200130-111200-0098.log",
      "/home/user2/notebooks/200130/aws_notebook/.log/20200214/20200214-095158-0089.log",
      "/home/user2/notebooks/200130/aws_notebook/.log/20200214/20200214-095453-0496.log",
      "/home/user2/notebooks/200130/aws_notebook/.log/20200214/20200214-095506-0779.log"
     ]
    },
    "run_through_control": {
     "frozen": true
    }
   },
   "outputs": [],
   "source": [
    "vpcID = publicSubnets['Subnets'][0]['VpcId']\n",
    "\n",
    "\n",
    "\n",
    "res_info['vpcID']=vpcID"
   ]
  },
  {
   "cell_type": "markdown",
   "metadata": {
    "lc_cell_meme": {
     "current": "24bb0c4e-4355-11ea-82b4-0242ac120004",
     "history": [
      {
       "current": "24bb0c4e-4355-11ea-82b4-0242ac120004",
       "next": "24bb0e4c-4355-11ea-82b4-0242ac120004",
       "previous": "dd51477e-4354-11ea-82b4-0242ac120004"
      },
      {
       "current": "24bb0c4e-4355-11ea-82b4-0242ac120004",
       "next": "24bb0e4c-4355-11ea-82b4-0242ac120004",
       "previous": "a7acaf6e-4f0c-11ea-af7f-0242ac120004"
      },
      {
       "current": "24bb0c4e-4355-11ea-82b4-0242ac120004",
       "next": "24bb0e4c-4355-11ea-82b4-0242ac120004",
       "previous": "b5186582-27d2-11ea-874f-0242ac120004"
      }
     ],
     "next": "24bb0e4c-4355-11ea-82b4-0242ac120004",
     "previous": "18b22eb6-3200-11ea-9983-0242ac120004"
    }
   },
   "source": [
    "●●●リソース情報の保存●●●"
   ]
  },
  {
   "cell_type": "code",
   "execution_count": 22,
   "metadata": {
    "deletable": false,
    "editable": false,
    "lc_cell_meme": {
     "current": "24bb0e4c-4355-11ea-82b4-0242ac120004",
     "execution_end_time": "2020-02-14T09:55:29.103433Z",
     "history": [
      {
       "current": "24bb0e4c-4355-11ea-82b4-0242ac120004",
       "next": null,
       "previous": "24bb0c4e-4355-11ea-82b4-0242ac120004"
      }
     ],
     "next": null,
     "previous": "24bb0c4e-4355-11ea-82b4-0242ac120004"
    },
    "lc_wrapper": {
     "log_history": [
      "/home/user2/notebooks/200130/aws_notebook/.log/20200130/20200130-113858-0862.log",
      "/home/user2/notebooks/200130/aws_notebook/.log/20200130/20200130-114003-0847.log",
      "/home/user2/notebooks/200130/aws_notebook/.log/20200130/20200130-122405-0079.log",
      "/home/user2/notebooks/200130/aws_notebook/.log/20200214/20200214-090546-0329.log",
      "/home/user2/notebooks/200130/aws_notebook/.log/20200214/20200214-095529-0093.log"
     ]
    },
    "run_through_control": {
     "frozen": true
    }
   },
   "outputs": [],
   "source": [
    "f = open('res_info.json', 'w')\n",
    "json.dump(res_info, f)\n",
    "f.close()"
   ]
  }
 ],
 "metadata": {
  "kernelspec": {
   "display_name": "Python 3",
   "language": "python",
   "name": "python3"
  },
  "language_info": {
   "file_extension": ".py",
   "mimetype": "text/x-python",
   "name": "python",
   "nbconvert_exporter": "python",
   "pygments_lexer": "ipython3",
   "version": "3.7.3"
  },
  "lc_notebook_meme": {
   "current": "22998cf2-14c9-11ea-8ffe-0242ac110002",
   "lc_server_signature": {
    "current": {
     "notebook_dir": "/home/user2/notebooks",
     "notebook_path": "/200130/aws_notebook",
     "server_url": "https://operationhub.kgr-lab.com/user/user2/",
     "signature_id": "ae27fcb2-043f-11ea-b29c-0242ac120002"
    },
    "history": [
     {
      "notebook_dir": "/home/jovyan",
      "notebook_path": "/work/lc4ri",
      "server_url": "http://192.168.0.106:8888/",
      "signature_id": "c932e082-14c8-11ea-8ffe-0242ac110002"
     },
     {
      "notebook_dir": "/home/jovyan",
      "notebook_path": "/work/lc4ri",
      "server_url": "http://192.168.0.105:8888/",
      "signature_id": "257243ec-14fb-11ea-8d3b-0242ac110002"
     },
     {
      "notebook_dir": "/home/user5/notebooks",
      "notebook_path": "/seminar-lc4ri/AWS",
      "server_url": "https://operationhub.kgr-lab.com/user/user5/",
      "signature_id": "ae27fcb2-043f-11ea-b29c-0242ac120002"
     },
     {
      "notebook_dir": "/home/user2/notebooks",
      "notebook_path": "/AWS",
      "server_url": "https://operationhub.kgr-lab.com/user/user2/",
      "signature_id": "ae27fcb2-043f-11ea-b29c-0242ac120002"
     },
     {
      "notebook_dir": "/home/user5/notebooks",
      "notebook_path": "/seminar-lc4ri/AWS",
      "server_url": "https://operationhub.kgr-lab.com/user/user5/",
      "signature_id": "ae27fcb2-043f-11ea-b29c-0242ac120002"
     },
     {
      "notebook_dir": "/home/user2/notebooks",
      "notebook_path": "/AWS",
      "server_url": "https://operationhub.kgr-lab.com/user/user2/",
      "signature_id": "ae27fcb2-043f-11ea-b29c-0242ac120002"
     }
    ]
   }
  },
  "toc": {
   "base_numbering": 1,
   "nav_menu": {},
   "number_sections": true,
   "sideBar": true,
   "skip_h1_title": false,
   "title_cell": "Table of Contents",
   "title_sidebar": "Contents",
   "toc_cell": false,
   "toc_position": {
    "height": "calc(100% - 180px)",
    "left": "10px",
    "top": "150px",
    "width": "165px"
   },
   "toc_section_display": true,
   "toc_window_display": true
  }
 },
 "nbformat": 4,
 "nbformat_minor": 2
}
