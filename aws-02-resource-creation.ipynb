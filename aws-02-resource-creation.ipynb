{
 "cells": [
  {
   "cell_type": "markdown",
   "metadata": {
    "lc_cell_meme": {
     "current": "57c455ae-1c05-11ea-8ec1-0242ac120005",
     "history": [
      {
       "current": "57c455ae-1c05-11ea-8ec1-0242ac120005",
       "next": "aa9756d4-1c03-11ea-8ec1-0242ac120005",
       "previous": "aa974f36-1c03-11ea-8ec1-0242ac120005"
      },
      {
       "current": "57c455ae-1c05-11ea-8ec1-0242ac120005",
       "next": "aa9756d4-1c03-11ea-8ec1-0242ac120005",
       "previous": "32629650-1bff-11ea-8ec1-0242ac120005"
      },
      {
       "current": "57c455ae-1c05-11ea-8ec1-0242ac120005",
       "next": "ee2a8748-2c90-11ea-85b7-0242ac120004",
       "previous": "32629650-1bff-11ea-8ec1-0242ac120005"
      },
      {
       "current": "57c455ae-1c05-11ea-8ec1-0242ac120005",
       "next": "0088d20c-2c94-11ea-85b7-0242ac120004",
       "previous": "32629650-1bff-11ea-8ec1-0242ac120005"
      },
      {
       "current": "57c455ae-1c05-11ea-8ec1-0242ac120005",
       "next": "a02bb2ea-31fb-11ea-9983-0242ac120004",
       "previous": "32629650-1bff-11ea-8ec1-0242ac120005"
      },
      {
       "current": "57c455ae-1c05-11ea-8ec1-0242ac120005",
       "next": "982a7ec0-378a-11ea-b7f6-0242ac120004",
       "previous": null
      }
     ],
     "next": "982a814a-378a-11ea-b7f6-0242ac120004",
     "previous": null
    }
   },
   "source": [
    "# EKSクラスタを作成"
   ]
  },
  {
   "cell_type": "markdown",
   "metadata": {
    "lc_cell_meme": {
     "current": "982a814a-378a-11ea-b7f6-0242ac120004",
     "history": [
      {
       "current": "982a814a-378a-11ea-b7f6-0242ac120004",
       "next": "a02bb2ea-31fb-11ea-9983-0242ac120004",
       "previous": "982a8082-378a-11ea-b7f6-0242ac120004"
      },
      {
       "current": "982a814a-378a-11ea-b7f6-0242ac120004",
       "next": "a02bb2ea-31fb-11ea-9983-0242ac120004",
       "previous": "982a7fba-378a-11ea-b7f6-0242ac120004"
      }
     ],
     "next": "a02bb2ea-31fb-11ea-9983-0242ac120004",
     "previous": "57c455ae-1c05-11ea-8ec1-0242ac120005"
    }
   },
   "source": [
    "## 新規作成する場合"
   ]
  },
  {
   "cell_type": "code",
   "execution_count": 2,
   "metadata": {
    "deletable": false,
    "editable": false,
    "lc_cell_meme": {
     "current": "a02bb2ea-31fb-11ea-9983-0242ac120004",
     "execution_end_time": "2020-01-27T01:31:23.950879Z",
     "history": [
      {
       "current": "a02bb2ea-31fb-11ea-9983-0242ac120004",
       "next": "0088d20c-2c94-11ea-85b7-0242ac120004",
       "previous": "57c455ae-1c05-11ea-8ec1-0242ac120005"
      },
      {
       "current": "a02bb2ea-31fb-11ea-9983-0242ac120004",
       "next": "e7af7b4c-31fb-11ea-9983-0242ac120004",
       "previous": "57c455ae-1c05-11ea-8ec1-0242ac120005"
      }
     ],
     "next": "e7af7b4c-31fb-11ea-9983-0242ac120004",
     "previous": "982a814a-378a-11ea-b7f6-0242ac120004"
    },
    "lc_wrapper": {
     "log_history": [
      "/home/user5/notebooks/seminar-lc4ri/AWS/.log/20200108/20200108-094706-0916.log",
      "/home/user2/.log/20200115/20200115-093218-0885.log",
      "/home/user2/.log/20200115/20200115-093302-0465.log",
      "/home/user2/.log/20200115/20200115-093316-0447.log",
      "/home/user2/.log/20200115/20200115-093325-0451.log",
      "/home/user2/notebooks/AWS/.log/20200115/20200115-095657-0532.log",
      "/home/user2/notebooks/AWS/.log/20200115/20200115-120116-0041.log",
      "/home/user2/notebooks/AWS/.log/20200115/20200115-120828-0058.log",
      "/home/user2/notebooks/AWS/.log/20200123/20200123-072557-0663.log",
      "/home/user2/notebooks/AWS/.log/20200127/20200127-013123-0944.log"
     ]
    },
    "run_through_control": {
     "frozen": true,
     "read_only": false
    }
   },
   "outputs": [],
   "source": [
    "clusterName = 'aws-eks-200127'"
   ]
  },
  {
   "cell_type": "code",
   "execution_count": 3,
   "metadata": {
    "deletable": false,
    "editable": false,
    "lc_cell_meme": {
     "current": "e7af7b4c-31fb-11ea-9983-0242ac120004",
     "execution_end_time": "2020-01-27T01:31:28.309547Z",
     "next": "0088d20c-2c94-11ea-85b7-0242ac120004",
     "previous": "a02bb2ea-31fb-11ea-9983-0242ac120004"
    },
    "lc_wrapper": {
     "log_history": [
      "/home/user5/notebooks/seminar-lc4ri/AWS/.log/20200108/20200108-094745-0641.log",
      "/home/user2/.log/20200115/20200115-093219-0823.log",
      "/home/user2/.log/20200115/20200115-093303-0307.log",
      "/home/user2/.log/20200115/20200115-093325-0976.log",
      "/home/user2/notebooks/AWS/.log/20200115/20200115-095657-0906.log",
      "/home/user2/notebooks/AWS/.log/20200115/20200115-120829-0289.log",
      "/home/user2/notebooks/AWS/.log/20200123/20200123-072557-0690.log",
      "/home/user2/notebooks/AWS/.log/20200123/20200123-072604-0987.log",
      "/home/user2/notebooks/AWS/.log/20200127/20200127-013128-0303.log"
     ]
    },
    "run_through_control": {
     "frozen": true,
     "read_only": false
    }
   },
   "outputs": [],
   "source": [
    "nodeGroupName = 'ng-200127'"
   ]
  },
  {
   "cell_type": "code",
   "execution_count": 4,
   "metadata": {
    "deletable": false,
    "editable": false,
    "lc_cell_meme": {
     "current": "0088d20c-2c94-11ea-85b7-0242ac120004",
     "execution_end_time": "2020-01-27T01:48:00.766552Z",
     "history": [
      {
       "current": "0088d20c-2c94-11ea-85b7-0242ac120004",
       "next": "521295b4-1c12-11ea-bd1f-0242ac120005",
       "previous": "ee2a8748-2c90-11ea-85b7-0242ac120004"
      },
      {
       "current": "0088d20c-2c94-11ea-85b7-0242ac120004",
       "next": "521295b4-1c12-11ea-bd1f-0242ac120005",
       "previous": "57c455ae-1c05-11ea-8ec1-0242ac120005"
      },
      {
       "current": "0088d20c-2c94-11ea-85b7-0242ac120004",
       "next": "521295b4-1c12-11ea-bd1f-0242ac120005",
       "previous": "a02bb2ea-31fb-11ea-9983-0242ac120004"
      },
      {
       "current": "0088d20c-2c94-11ea-85b7-0242ac120004",
       "next": "521295b4-1c12-11ea-bd1f-0242ac120005",
       "previous": "e7af7b4c-31fb-11ea-9983-0242ac120004"
      },
      {
       "current": "0088d20c-2c94-11ea-85b7-0242ac120004",
       "next": "efbc6aae-21a0-11ea-9f90-0242ac12000a",
       "previous": "e7af7b4c-31fb-11ea-9983-0242ac120004"
      }
     ],
     "next": "8998b418-40a8-11ea-91a9-0242ac120004",
     "previous": "e7af7b4c-31fb-11ea-9983-0242ac120004"
    },
    "lc_wrapper": {
     "log_history": [
      "/home/user5/notebooks/seminar-lc4ri/AWS/.log/20200101/20200101-124020-0330.log",
      "/home/user5/notebooks/seminar-lc4ri/AWS/.log/20200101/20200101-124251-0390.log",
      "/home/user5/notebooks/seminar-lc4ri/AWS/.log/20200108/20200108-094802-0383.log",
      "/home/user2/.log/20200115/20200115-093220-0512.log",
      "/home/user2/.log/20200115/20200115-093303-0881.log",
      "/home/user2/notebooks/AWS/.log/20200123/20200123-072605-0984.log",
      "/home/user2/notebooks/AWS/.log/20200127/20200127-013229-0163.log"
     ]
    },
    "pinned_outputs": [
     {
      "execution_count": 17,
      "outputs": [
       {
        "name": "stdout",
        "output_type": "stream",
        "text": "\u001b[36m[ℹ]  eksctl version 0.11.1\n\u001b[0m\u001b[36m[ℹ]  using region us-west-2\n\u001b[0m\u001b[36m[ℹ]  setting availability zones to [us-west-2a us-west-2b us-west-2c]\n\u001b[0m\u001b[36m[ℹ]  subnets for us-west-2a - public:10.0.0.0/19 private:10.0.96.0/19\n\u001b[0m\u001b[36m[ℹ]  subnets for us-west-2b - public:10.0.32.0/19 private:10.0.128.0/19\n\u001b[0m\u001b[36m[ℹ]  subnets for us-west-2c - public:10.0.64.0/19 private:10.0.160.0/19\n\u001b[0m\u001b[36m[ℹ]  nodegroup \"ng-0101-2\" will use \"ami-05d586e6f773f6abf\" [AmazonLinux2/1.14]\n\u001b[0m\u001b[36m[ℹ]  using Kubernetes version 1.14\n\u001b[0m\u001b[36m[ℹ]  creating EKS cluster \"user5-eks-0101-2\" in \"us-west-2\" region with un-managed nodes\n\u001b[0m\u001b[36m[ℹ]  will create 2 separate CloudFormation stacks for cluster itself and the initial nodegroup\n\u001b[0m\u001b[36m[ℹ]  if you encounter any issues, check CloudFormation console or try 'eksctl utils describe-stacks --region=us-west-2 --cluster=user5-eks-0101-2'\n\u001b[0m\u001b[36m[ℹ]  CloudWatch logging will not be enabled for cluster \"user5-eks-0101-2\" in \"us-west-2\"\n\u001b[0m\u001b[36m[ℹ]  you can enable it with 'eksctl utils update-cluster-logging --region=us-west-2 --cluster=user5-eks-0101-2'\n\u001b[0m\u001b[36m[ℹ]  Kubernetes API endpoint access will use default of {publicAccess=true, privateAccess=false} for cluster \"user5-eks-0101-2\" in \"us-west-2\"\n\u001b[0m\u001b[36m[ℹ]  2 sequential tasks: { create cluster control plane \"user5-eks-0101-2\", create nodegroup \"ng-0101-2\" }\n\u001b[0m\u001b[36m[ℹ]  building cluster stack \"eksctl-user5-eks-0101-2-cluster\"\n\u001b[0m\u001b[36m[ℹ]  deploying stack \"eksctl-user5-eks-0101-2-cluster\"\n\u001b[0m\u001b[36m[ℹ]  building nodegroup stack \"eksctl-user5-eks-0101-2-nodegroup-ng-0101-2\"\n\u001b[0m\u001b[36m[ℹ]  --nodes-min=2 was set automatically for nodegroup ng-0101-2\n\u001b[0m\u001b[36m[ℹ]  --nodes-max=2 was set automatically for nodegroup ng-0101-2\n\u001b[0m\u001b[36m[ℹ]  deploying stack \"eksctl-user5-eks-0101-2-nodegroup-ng-0101-2\"\n\u001b[0m\u001b[36m[✔]  all EKS cluster resources for \"user5-eks-0101-2\" have been created\n\u001b[0m\u001b[36m[✔]  saved kubeconfig as \"/home/user5/.kube/config\"\n\u001b[0m\u001b[36m[ℹ]  adding identity \"arn:aws:iam::565991835156:role/eksctl-user5-eks-0101-2-nodegroup-NodeInstanceRole-EJQOMBFLTXZO\" to auth ConfigMap\n\u001b[0m\u001b[36m[ℹ]  nodegroup \"ng-0101-2\" has 0 node(s)\n\u001b[0m\u001b[36m[ℹ]  waiting for at least 2 node(s) to become ready in \"ng-0101-2\"\n\u001b[0m\u001b[36m[ℹ]  nodegroup \"ng-0101-2\" has 2 node(s)\n\u001b[0m\u001b[36m[ℹ]  node \"ip-10-0-47-146.us-west-2.compute.internal\" is ready\n\u001b[0m\u001b[36m[ℹ]  node \"ip-10-0-90-246.us-west-2.compute.internal\" is ready\n\u001b[0m\u001b[36m[ℹ]  kubectl command should work with \"/home/user5/.kube/config\", try 'kubectl get nodes'\n\u001b[0m\u001b[36m[✔]  EKS cluster \"user5-eks-0101-2\" in \"us-west-2\" region is ready\n\u001b[0m"
       }
      ]
     }
    ],
    "run_through_control": {
     "frozen": true,
     "read_only": false
    },
    "scrolled": false
   },
   "outputs": [
    {
     "name": "stdout",
     "output_type": "stream",
     "text": [
      "\u001b[36m[ℹ]  eksctl version 0.13.0\n",
      "\u001b[0m\u001b[36m[ℹ]  using region us-west-2\n",
      "\u001b[0m\u001b[36m[ℹ]  subnets for us-west-2b - public:10.0.0.0/19 private:10.0.64.0/19\n",
      "\u001b[0m\u001b[36m[ℹ]  subnets for us-west-2c - public:10.0.32.0/19 private:10.0.96.0/19\n",
      "\u001b[0m\u001b[36m[ℹ]  using Kubernetes version 1.14\n",
      "\u001b[0m\u001b[36m[ℹ]  creating EKS cluster \"aws-eks-200127\" in \"us-west-2\" region with managed nodes\n",
      "\u001b[0m\u001b[36m[ℹ]  will create 2 separate CloudFormation stacks for cluster itself and the initial managed nodegroup\n",
      "\u001b[0m\u001b[36m[ℹ]  if you encounter any issues, check CloudFormation console or try 'eksctl utils describe-stacks --region=us-west-2 --cluster=aws-eks-200127'\n",
      "\u001b[0m\u001b[36m[ℹ]  CloudWatch logging will not be enabled for cluster \"aws-eks-200127\" in \"us-west-2\"\n",
      "\u001b[0m\u001b[36m[ℹ]  you can enable it with 'eksctl utils update-cluster-logging --region=us-west-2 --cluster=aws-eks-200127'\n",
      "\u001b[0m\u001b[36m[ℹ]  Kubernetes API endpoint access will use default of {publicAccess=true, privateAccess=false} for cluster \"aws-eks-200127\" in \"us-west-2\"\n",
      "\u001b[0m\u001b[36m[ℹ]  2 sequential tasks: { create cluster control plane \"aws-eks-200127\", create managed nodegroup \"ng-200127\" }\n",
      "\u001b[0m\u001b[36m[ℹ]  building cluster stack \"eksctl-aws-eks-200127-cluster\"\n",
      "\u001b[0m\u001b[36m[ℹ]  deploying stack \"eksctl-aws-eks-200127-cluster\"\n",
      "\u001b[0m\u001b[36m[ℹ]  building managed nodegroup stack \"eksctl-aws-eks-200127-nodegroup-ng-200127\"\n",
      "\u001b[0m\u001b[36m[ℹ]  deploying stack \"eksctl-aws-eks-200127-nodegroup-ng-200127\"\n",
      "\u001b[0m\u001b[36m[✔]  all EKS cluster resources for \"aws-eks-200127\" have been created\n",
      "\u001b[0m\u001b[36m[✔]  saved kubeconfig as \"/home/user2/.kube/config\"\n",
      "\u001b[0m\u001b[36m[ℹ]  nodegroup \"ng-200127\" has 2 node(s)\n",
      "\u001b[0m\u001b[36m[ℹ]  node \"ip-10-0-49-36.us-west-2.compute.internal\" is ready\n",
      "\u001b[0m\u001b[36m[ℹ]  node \"ip-10-0-9-43.us-west-2.compute.internal\" is ready\n",
      "\u001b[0m\u001b[36m[ℹ]  waiting for at least 2 node(s) to become ready in \"ng-200127\"\n",
      "\u001b[0m\u001b[36m[ℹ]  nodegroup \"ng-200127\" has 2 node(s)\n",
      "\u001b[0m\u001b[36m[ℹ]  node \"ip-10-0-49-36.us-west-2.compute.internal\" is ready\n",
      "\u001b[0m\u001b[36m[ℹ]  node \"ip-10-0-9-43.us-west-2.compute.internal\" is ready\n",
      "\u001b[0m\u001b[36m[ℹ]  kubectl command should work with \"/home/user2/.kube/config\", try 'kubectl get nodes'\n",
      "\u001b[0m\u001b[36m[✔]  EKS cluster \"aws-eks-200127\" in \"us-west-2\" region is ready\n",
      "\u001b[0m"
     ]
    }
   ],
   "source": [
    "!eksctl create cluster \\\n",
    "    --vpc-cidr 10.0.0.0/16 \\\n",
    "    --vpc-nat-mode HighlyAvailable \\\n",
    "    --name {clusterName} \\\n",
    "    --version 1.14 \\\n",
    "    --nodegroup-name {nodeGroupName} \\\n",
    "    --node-type t3.small \\\n",
    "    --nodes 2 \\\n",
    "    --zones=us-west-2b,us-west-2c \\\n",
    "    --managed"
   ]
  },
  {
   "cell_type": "markdown",
   "metadata": {
    "lc_cell_meme": {
     "current": "8998b418-40a8-11ea-91a9-0242ac120004",
     "next": "8998b6de-40a8-11ea-91a9-0242ac120004",
     "previous": "0088d20c-2c94-11ea-85b7-0242ac120004"
    }
   },
   "source": [
    "クラスターができていることを確認する"
   ]
  },
  {
   "cell_type": "code",
   "execution_count": 11,
   "metadata": {
    "deletable": false,
    "editable": false,
    "lc_cell_meme": {
     "current": "8998b6de-40a8-11ea-91a9-0242ac120004",
     "execution_end_time": "2020-01-27T01:58:16.643915Z",
     "next": "efbc6aae-21a0-11ea-9f90-0242ac12000a",
     "previous": "8998b418-40a8-11ea-91a9-0242ac120004"
    },
    "lc_wrapper": {
     "log_history": [
      "/home/user2/notebooks/AWS/.log/20200127/20200127-015732-0785.log",
      "/home/user2/notebooks/AWS/.log/20200127/20200127-015815-0161.log"
     ]
    },
    "run_through_control": {
     "frozen": true,
     "read_only": false
    }
   },
   "outputs": [
    {
     "name": "stdout",
     "output_type": "stream",
     "text": [
      "NAME         TYPE        CLUSTER-IP   EXTERNAL-IP   PORT(S)   AGE\r\n",
      "kubernetes   ClusterIP   172.20.0.1   <none>        443/TCP   16m\r\n"
     ]
    }
   ],
   "source": [
    "!kubectl get svc"
   ]
  },
  {
   "cell_type": "markdown",
   "metadata": {
    "lc_cell_meme": {
     "current": "efbc6aae-21a0-11ea-9f90-0242ac12000a",
     "history": [
      {
       "current": "efbc6aae-21a0-11ea-9f90-0242ac12000a",
       "next": null,
       "previous": "62a069c2-21a0-11ea-9f90-0242ac12000a"
      },
      {
       "current": "efbc6aae-21a0-11ea-9f90-0242ac12000a",
       "next": "26317212-21a3-11ea-9f90-0242ac12000a",
       "previous": "62a069c2-21a0-11ea-9f90-0242ac12000a"
      },
      {
       "current": "efbc6aae-21a0-11ea-9f90-0242ac12000a",
       "next": "26317212-21a3-11ea-9f90-0242ac12000a",
       "previous": "b2ed0162-219e-11ea-9f90-0242ac12000a"
      },
      {
       "current": "efbc6aae-21a0-11ea-9f90-0242ac12000a",
       "next": "26317212-21a3-11ea-9f90-0242ac12000a",
       "previous": "7357dcd8-2190-11ea-9f90-0242ac12000a"
      },
      {
       "current": "efbc6aae-21a0-11ea-9f90-0242ac12000a",
       "next": "26317212-21a3-11ea-9f90-0242ac12000a",
       "previous": "7357d95e-2190-11ea-9f90-0242ac12000a"
      },
      {
       "current": "efbc6aae-21a0-11ea-9f90-0242ac12000a",
       "next": "26317212-21a3-11ea-9f90-0242ac12000a",
       "previous": "0088d20c-2c94-11ea-85b7-0242ac120004"
      }
     ],
     "next": "26317212-21a3-11ea-9f90-0242ac12000a",
     "previous": "8998b6de-40a8-11ea-91a9-0242ac120004"
    }
   },
   "source": [
    "# ALBの構築\n",
    "\n",
    "IngressからALBを作成するには、IAMロールやら、AWS ALB Ingress Controllerやらの設定が必要。\n",
    "\n",
    "\n",
    "https://docs.aws.amazon.com/ja_jp/eks/latest/userguide/alb-ingress.html"
   ]
  },
  {
   "cell_type": "markdown",
   "metadata": {
    "lc_cell_meme": {
     "current": "26317212-21a3-11ea-9f90-0242ac12000a",
     "history": [
      {
       "current": "26317212-21a3-11ea-9f90-0242ac12000a",
       "next": null,
       "previous": "efbc6aae-21a0-11ea-9f90-0242ac12000a"
      },
      {
       "current": "26317212-21a3-11ea-9f90-0242ac12000a",
       "next": "8f541fc2-27cc-11ea-874f-0242ac120004",
       "previous": "efbc6aae-21a0-11ea-9f90-0242ac12000a"
      },
      {
       "current": "26317212-21a3-11ea-9f90-0242ac12000a",
       "next": "9b72a722-2c92-11ea-85b7-0242ac120004",
       "previous": "efbc6aae-21a0-11ea-9f90-0242ac12000a"
      }
     ],
     "next": "2d3a9994-2c9d-11ea-9eae-0242ac120004",
     "previous": "efbc6aae-21a0-11ea-9f90-0242ac12000a"
    }
   },
   "source": [
    "ロードバランサーに使用する VPC のサブネットにタグを付け、そのサブネットを使用できることを ALB Ingress Controller に伝えます。詳細については、「サブネットのタグ付け要件」を参照してください。"
   ]
  },
  {
   "cell_type": "markdown",
   "metadata": {
    "lc_cell_meme": {
     "current": "2d3a9994-2c9d-11ea-9eae-0242ac120004",
     "history": [
      {
       "current": "2d3a9994-2c9d-11ea-9eae-0242ac120004",
       "next": "2d3a9cfa-2c9d-11ea-9eae-0242ac120004",
       "previous": "e52def34-2c9c-11ea-9eae-0242ac120004"
      }
     ],
     "next": "2d3a9cfa-2c9d-11ea-9eae-0242ac120004",
     "previous": "26317212-21a3-11ea-9f90-0242ac12000a"
    }
   },
   "source": [
    "PublicとPrivateを別々に取得"
   ]
  },
  {
   "cell_type": "code",
   "execution_count": 15,
   "metadata": {
    "deletable": false,
    "editable": false,
    "lc_cell_meme": {
     "current": "2d3a9cfa-2c9d-11ea-9eae-0242ac120004",
     "execution_end_time": "2020-01-27T02:01:38.475342Z",
     "history": [
      {
       "current": "2d3a9cfa-2c9d-11ea-9eae-0242ac120004",
       "next": "8f541fc2-27cc-11ea-874f-0242ac120004",
       "previous": "2d3a9994-2c9d-11ea-9eae-0242ac120004"
      }
     ],
     "next": "73c5f606-2c9d-11ea-9eae-0242ac120004",
     "previous": "2d3a9994-2c9d-11ea-9eae-0242ac120004"
    },
    "lc_wrapper": {
     "log_history": [
      "/home/user5/notebooks/seminar-lc4ri/AWS/.log/20200101/20200101-134749-0571.log",
      "/home/user5/notebooks/seminar-lc4ri/AWS/.log/20200101/20200101-134756-0981.log",
      "/home/user5/notebooks/seminar-lc4ri/AWS/.log/20200101/20200101-134827-0098.log",
      "/home/user5/notebooks/seminar-lc4ri/AWS/.log/20200108/20200108-100555-0018.log",
      "/home/user2/notebooks/AWS/.log/20200115/20200115-095634-0622.log",
      "/home/user2/notebooks/AWS/.log/20200115/20200115-095703-0148.log",
      "/home/user2/notebooks/AWS/.log/20200115/20200115-100332-0377.log",
      "/home/user2/notebooks/AWS/.log/20200115/20200115-120124-0800.log",
      "/home/user2/notebooks/AWS/.log/20200115/20200115-120832-0257.log",
      "/home/user2/notebooks/AWS/.log/20200123/20200123-074128-0641.log",
      "/home/user2/notebooks/AWS/.log/20200127/20200127-015257-0946.log",
      "/home/user2/notebooks/AWS/.log/20200127/20200127-015304-0889.log",
      "/home/user2/notebooks/AWS/.log/20200127/20200127-015322-0689.log",
      "/home/user2/notebooks/AWS/.log/20200127/20200127-015833-0883.log",
      "/home/user2/notebooks/AWS/.log/20200127/20200127-020040-0973.log",
      "/home/user2/notebooks/AWS/.log/20200127/20200127-020137-0673.log"
     ]
    },
    "run_through_control": {
     "frozen": true,
     "read_only": false
    }
   },
   "outputs": [
    {
     "name": "stdout",
     "output_type": "stream",
     "text": [
      "{'Subnets': [{'AssignIpv6AddressOnCreation': False,\n",
      "              'AvailabilityZone': 'us-west-2b',\n",
      "              'AvailabilityZoneId': 'usw2-az2',\n",
      "              'AvailableIpAddressCount': 8182,\n",
      "              'CidrBlock': '10.0.0.0/19',\n",
      "              'DefaultForAz': False,\n",
      "              'Ipv6CidrBlockAssociationSet': [],\n",
      "              'MapPublicIpOnLaunch': False,\n",
      "              'OwnerId': '565991835156',\n",
      "              'State': 'available',\n",
      "              'SubnetArn': 'arn:aws:ec2:us-west-2:565991835156:subnet/subnet-0f973f5322f5ac12a',\n",
      "              'SubnetId': 'subnet-0f973f5322f5ac12a',\n",
      "              'Tags': [{'Key': 'aws:cloudformation:stack-name',\n",
      "                        'Value': 'eksctl-aws-eks-200127-cluster'},\n",
      "                       {'Key': 'alpha.eksctl.io/cluster-name',\n",
      "                        'Value': 'aws-eks-200127'},\n",
      "                       {'Key': 'eksctl.cluster.k8s.io/v1alpha1/cluster-name',\n",
      "                        'Value': 'aws-eks-200127'},\n",
      "                       {'Key': 'Name',\n",
      "                        'Value': 'eksctl-aws-eks-200127-cluster/SubnetPublicUSWEST2B'},\n",
      "                       {'Key': 'aws:cloudformation:logical-id',\n",
      "                        'Value': 'SubnetPublicUSWEST2B'},\n",
      "                       {'Key': 'kubernetes.io/cluster/aws-eks-200127',\n",
      "                        'Value': 'shared'},\n",
      "                       {'Key': 'kubernetes.io/role/elb', 'Value': '1'},\n",
      "                       {'Key': 'aws:cloudformation:stack-id',\n",
      "                        'Value': 'arn:aws:cloudformation:us-west-2:565991835156:stack/eksctl-aws-eks-200127-cluster/e27c42b0-40a4-11ea-9eba-0a90939a96ce'}],\n",
      "              'VpcId': 'vpc-0416a0124d607a464'},\n",
      "             {'AssignIpv6AddressOnCreation': False,\n",
      "              'AvailabilityZone': 'us-west-2c',\n",
      "              'AvailabilityZoneId': 'usw2-az3',\n",
      "              'AvailableIpAddressCount': 8178,\n",
      "              'CidrBlock': '10.0.32.0/19',\n",
      "              'DefaultForAz': False,\n",
      "              'Ipv6CidrBlockAssociationSet': [],\n",
      "              'MapPublicIpOnLaunch': False,\n",
      "              'OwnerId': '565991835156',\n",
      "              'State': 'available',\n",
      "              'SubnetArn': 'arn:aws:ec2:us-west-2:565991835156:subnet/subnet-0ab2343c5a3f7aa00',\n",
      "              'SubnetId': 'subnet-0ab2343c5a3f7aa00',\n",
      "              'Tags': [{'Key': 'aws:cloudformation:logical-id',\n",
      "                        'Value': 'SubnetPublicUSWEST2C'},\n",
      "                       {'Key': 'kubernetes.io/role/elb', 'Value': '1'},\n",
      "                       {'Key': 'alpha.eksctl.io/cluster-name',\n",
      "                        'Value': 'aws-eks-200127'},\n",
      "                       {'Key': 'aws:cloudformation:stack-name',\n",
      "                        'Value': 'eksctl-aws-eks-200127-cluster'},\n",
      "                       {'Key': 'eksctl.cluster.k8s.io/v1alpha1/cluster-name',\n",
      "                        'Value': 'aws-eks-200127'},\n",
      "                       {'Key': 'aws:cloudformation:stack-id',\n",
      "                        'Value': 'arn:aws:cloudformation:us-west-2:565991835156:stack/eksctl-aws-eks-200127-cluster/e27c42b0-40a4-11ea-9eba-0a90939a96ce'},\n",
      "                       {'Key': 'kubernetes.io/cluster/aws-eks-200127',\n",
      "                        'Value': 'shared'},\n",
      "                       {'Key': 'Name',\n",
      "                        'Value': 'eksctl-aws-eks-200127-cluster/SubnetPublicUSWEST2C'}],\n",
      "              'VpcId': 'vpc-0416a0124d607a464'}]}\n"
     ]
    }
   ],
   "source": [
    "row = !aws ec2 describe-subnets --filters \"Name=tag:Name,Values=*{clusterName}*Public*\"\n",
    "\n",
    "import json\n",
    "import pprint\n",
    "\n",
    "while row[0].find('{') == -1:\n",
    "    del row[0]\n",
    "row[0] = \"{\"\n",
    "publicSubnets = json.loads(''.join(row))\n",
    "pprint.pprint(publicSubnets)"
   ]
  },
  {
   "cell_type": "code",
   "execution_count": 16,
   "metadata": {
    "deletable": false,
    "editable": false,
    "lc_cell_meme": {
     "current": "73c5f606-2c9d-11ea-9eae-0242ac120004",
     "execution_end_time": "2020-01-27T02:04:10.751545Z",
     "history": [
      {
       "current": "73c5f606-2c9d-11ea-9eae-0242ac120004",
       "next": "8f541fc2-27cc-11ea-874f-0242ac120004",
       "previous": "2d3a9cfa-2c9d-11ea-9eae-0242ac120004"
      },
      {
       "current": "73c5f606-2c9d-11ea-9eae-0242ac120004",
       "next": "bb53a7f2-2c9d-11ea-9eae-0242ac120004",
       "previous": "2d3a9cfa-2c9d-11ea-9eae-0242ac120004"
      },
      {
       "current": "73c5f606-2c9d-11ea-9eae-0242ac120004",
       "next": "91f0fd6e-2c9e-11ea-9eae-0242ac120004",
       "previous": "2d3a9cfa-2c9d-11ea-9eae-0242ac120004"
      }
     ],
     "next": "fa79117c-31fe-11ea-9983-0242ac120004",
     "previous": "2d3a9cfa-2c9d-11ea-9eae-0242ac120004"
    },
    "lc_wrapper": {
     "log_history": [
      "/home/user5/notebooks/seminar-lc4ri/AWS/.log/20200101/20200101-134909-0345.log",
      "/home/user5/notebooks/seminar-lc4ri/AWS/.log/20200108/20200108-100700-0750.log",
      "/home/user5/notebooks/seminar-lc4ri/AWS/.log/20200108/20200108-100716-0022.log",
      "/home/user2/notebooks/AWS/.log/20200115/20200115-095708-0098.log",
      "/home/user2/notebooks/AWS/.log/20200115/20200115-100338-0975.log",
      "/home/user2/notebooks/AWS/.log/20200115/20200115-120109-0022.log",
      "/home/user2/notebooks/AWS/.log/20200115/20200115-120119-0381.log",
      "/home/user2/notebooks/AWS/.log/20200115/20200115-120127-0675.log",
      "/home/user2/notebooks/AWS/.log/20200115/20200115-120834-0947.log",
      "/home/user2/notebooks/AWS/.log/20200123/20200123-074131-0643.log",
      "/home/user2/notebooks/AWS/.log/20200127/20200127-015345-0871.log",
      "/home/user2/notebooks/AWS/.log/20200127/20200127-020409-0804.log"
     ]
    },
    "run_through_control": {
     "frozen": true,
     "read_only": false
    }
   },
   "outputs": [
    {
     "name": "stdout",
     "output_type": "stream",
     "text": [
      "{'Subnets': [{'AssignIpv6AddressOnCreation': False,\n",
      "              'AvailabilityZone': 'us-west-2b',\n",
      "              'AvailabilityZoneId': 'usw2-az2',\n",
      "              'AvailableIpAddressCount': 8186,\n",
      "              'CidrBlock': '10.0.64.0/19',\n",
      "              'DefaultForAz': False,\n",
      "              'Ipv6CidrBlockAssociationSet': [],\n",
      "              'MapPublicIpOnLaunch': False,\n",
      "              'OwnerId': '565991835156',\n",
      "              'State': 'available',\n",
      "              'SubnetArn': 'arn:aws:ec2:us-west-2:565991835156:subnet/subnet-0914edd00a3a9a9e5',\n",
      "              'SubnetId': 'subnet-0914edd00a3a9a9e5',\n",
      "              'Tags': [{'Key': 'aws:cloudformation:stack-id',\n",
      "                        'Value': 'arn:aws:cloudformation:us-west-2:565991835156:stack/eksctl-aws-eks-200127-cluster/e27c42b0-40a4-11ea-9eba-0a90939a96ce'},\n",
      "                       {'Key': 'eksctl.cluster.k8s.io/v1alpha1/cluster-name',\n",
      "                        'Value': 'aws-eks-200127'},\n",
      "                       {'Key': 'kubernetes.io/cluster/aws-eks-200127',\n",
      "                        'Value': 'shared'},\n",
      "                       {'Key': 'Name',\n",
      "                        'Value': 'eksctl-aws-eks-200127-cluster/SubnetPrivateUSWEST2B'},\n",
      "                       {'Key': 'aws:cloudformation:logical-id',\n",
      "                        'Value': 'SubnetPrivateUSWEST2B'},\n",
      "                       {'Key': 'aws:cloudformation:stack-name',\n",
      "                        'Value': 'eksctl-aws-eks-200127-cluster'},\n",
      "                       {'Key': 'kubernetes.io/role/internal-elb', 'Value': '1'},\n",
      "                       {'Key': 'alpha.eksctl.io/cluster-name',\n",
      "                        'Value': 'aws-eks-200127'}],\n",
      "              'VpcId': 'vpc-0416a0124d607a464'},\n",
      "             {'AssignIpv6AddressOnCreation': False,\n",
      "              'AvailabilityZone': 'us-west-2c',\n",
      "              'AvailabilityZoneId': 'usw2-az3',\n",
      "              'AvailableIpAddressCount': 8186,\n",
      "              'CidrBlock': '10.0.96.0/19',\n",
      "              'DefaultForAz': False,\n",
      "              'Ipv6CidrBlockAssociationSet': [],\n",
      "              'MapPublicIpOnLaunch': False,\n",
      "              'OwnerId': '565991835156',\n",
      "              'State': 'available',\n",
      "              'SubnetArn': 'arn:aws:ec2:us-west-2:565991835156:subnet/subnet-07d10435b2f2773af',\n",
      "              'SubnetId': 'subnet-07d10435b2f2773af',\n",
      "              'Tags': [{'Key': 'aws:cloudformation:stack-id',\n",
      "                        'Value': 'arn:aws:cloudformation:us-west-2:565991835156:stack/eksctl-aws-eks-200127-cluster/e27c42b0-40a4-11ea-9eba-0a90939a96ce'},\n",
      "                       {'Key': 'kubernetes.io/cluster/aws-eks-200127',\n",
      "                        'Value': 'shared'},\n",
      "                       {'Key': 'kubernetes.io/role/internal-elb', 'Value': '1'},\n",
      "                       {'Key': 'eksctl.cluster.k8s.io/v1alpha1/cluster-name',\n",
      "                        'Value': 'aws-eks-200127'},\n",
      "                       {'Key': 'Name',\n",
      "                        'Value': 'eksctl-aws-eks-200127-cluster/SubnetPrivateUSWEST2C'},\n",
      "                       {'Key': 'aws:cloudformation:stack-name',\n",
      "                        'Value': 'eksctl-aws-eks-200127-cluster'},\n",
      "                       {'Key': 'aws:cloudformation:logical-id',\n",
      "                        'Value': 'SubnetPrivateUSWEST2C'},\n",
      "                       {'Key': 'alpha.eksctl.io/cluster-name',\n",
      "                        'Value': 'aws-eks-200127'}],\n",
      "              'VpcId': 'vpc-0416a0124d607a464'}]}\n"
     ]
    }
   ],
   "source": [
    "row = !aws ec2 describe-subnets --filters \"Name=tag:Name,Values=*{clusterName}*Private*\"\n",
    "\n",
    "import json\n",
    "\n",
    "while row[0].find('{') == -1:\n",
    "    del row[0]\n",
    "row[0] = \"{\"\n",
    "privateSubnets = json.loads(''.join(row))\n",
    "pprint.pprint(privateSubnets)"
   ]
  },
  {
   "cell_type": "markdown",
   "metadata": {
    "lc_cell_meme": {
     "current": "fa79117c-31fe-11ea-9983-0242ac120004",
     "next": "12e37dea-27cf-11ea-874f-0242ac120004",
     "previous": "73c5f606-2c9d-11ea-9eae-0242ac120004"
    }
   },
   "source": [
    "Kubernetes 用のタグはすでに付与されていることを確認した。"
   ]
  },
  {
   "cell_type": "markdown",
   "metadata": {
    "lc_cell_meme": {
     "current": "12e37dea-27cf-11ea-874f-0242ac120004",
     "history": [
      {
       "current": "12e37dea-27cf-11ea-874f-0242ac120004",
       "next": "12e37f02-27cf-11ea-874f-0242ac120004",
       "previous": "12e37be2-27cf-11ea-874f-0242ac120004"
      },
      {
       "current": "12e37dea-27cf-11ea-874f-0242ac120004",
       "next": "12e37f02-27cf-11ea-874f-0242ac120004",
       "previous": "cdcd7f18-2ca0-11ea-9eae-0242ac120004"
      }
     ],
     "next": "12e37f02-27cf-11ea-874f-0242ac120004",
     "previous": "fa79117c-31fe-11ea-9983-0242ac120004"
    }
   },
   "source": [
    "ワーカーノードインスタンスプロファイルに対して、ALBIngressControllerIAMPolicy という IAM ポリシーを作成し、ALB Ingress Controller がユーザーに代わって AWS API を呼び出せるようにします。次の AWS CLI コマンドを使用して、AWS アカウントで IAM ポリシーを作成します。GitHub でポリシードキュメントを表示することもできます。\n",
    "\n",
    "GitHub からポリシードキュメントをダウンロードします。"
   ]
  },
  {
   "cell_type": "code",
   "execution_count": 85,
   "metadata": {
    "lc_cell_meme": {
     "current": "12e37f02-27cf-11ea-874f-0242ac120004",
     "execution_end_time": "2020-01-27T02:35:59.777327Z",
     "next": "12e37ff2-27cf-11ea-874f-0242ac120004",
     "previous": "12e37dea-27cf-11ea-874f-0242ac120004"
    },
    "lc_wrapper": {
     "log_history": [
      "/home/user5/notebooks/seminar-lc4ri/AWS/.log/20191226/20191226-110020-0834.log",
      "/home/user5/notebooks/seminar-lc4ri/AWS/.log/20191226/20191226-110028-0121.log",
      "/home/user5/notebooks/seminar-lc4ri/AWS/.log/20200101/20200101-141326-0114.log",
      "/home/user5/notebooks/seminar-lc4ri/AWS/.log/20200108/20200108-100905-0869.log",
      "/home/user2/notebooks/AWS/.log/20200115/20200115-095719-0106.log",
      "/home/user2/notebooks/AWS/.log/20200123/20200123-074135-0139.log",
      "/home/user2/notebooks/AWS/.log/20200127/20200127-020416-0438.log",
      "/home/user2/notebooks/AWS/.log/20200127/20200127-023558-0609.log"
     ]
    }
   },
   "outputs": [
    {
     "name": "stdout",
     "output_type": "stream",
     "text": [
      "--2020-01-27 02:35:59--  https://raw.githubusercontent.com/kubernetes-sigs/aws-alb-ingress-controller/v1.1.4/docs/examples/iam-policy.json\n",
      "Resolving raw.githubusercontent.com (raw.githubusercontent.com)... 151.101.0.133, 151.101.64.133, 151.101.128.133, ...\n",
      "Connecting to raw.githubusercontent.com (raw.githubusercontent.com)|151.101.0.133|:443... connected.\n",
      "HTTP request sent, awaiting response... 200 OK\n",
      "Length: 3546 (3.5K) [text/plain]\n",
      "Saving to: ‘temp/iam-policy.json’\n",
      "\n",
      "iam-policy.json     100%[===================>]   3.46K  --.-KB/s    in 0s      \n",
      "\n",
      "2020-01-27 02:35:59 (63.7 MB/s) - ‘temp/iam-policy.json’ saved [3546/3546]\n",
      "\n"
     ]
    }
   ],
   "source": [
    "!wget -O temp/iam-policy.json https://raw.githubusercontent.com/kubernetes-sigs/aws-alb-ingress-controller/v1.1.4/docs/examples/iam-policy.json"
   ]
  },
  {
   "cell_type": "code",
   "execution_count": 86,
   "metadata": {
    "deletable": false,
    "editable": false,
    "lc_cell_meme": {
     "current": "12e37ff2-27cf-11ea-874f-0242ac120004",
     "execution_end_time": "2020-01-27T02:36:06.738399Z",
     "next": "12e380d8-27cf-11ea-874f-0242ac120004",
     "previous": "12e37f02-27cf-11ea-874f-0242ac120004"
    },
    "lc_wrapper": {
     "log_history": [
      "/home/user5/notebooks/seminar-lc4ri/AWS/.log/20191226/20191226-110043-0070.log",
      "/home/user5/notebooks/seminar-lc4ri/AWS/.log/20200101/20200101-141328-0848.log",
      "/home/user5/notebooks/seminar-lc4ri/AWS/.log/20200108/20200108-100909-0068.log",
      "/home/user2/notebooks/AWS/.log/20200115/20200115-095721-0531.log",
      "/home/user2/notebooks/AWS/.log/20200123/20200123-074137-0112.log",
      "/home/user2/notebooks/AWS/.log/20200127/20200127-020418-0789.log",
      "/home/user2/notebooks/AWS/.log/20200127/20200127-023605-0786.log"
     ]
    },
    "run_through_control": {
     "frozen": true,
     "read_only": false
    }
   },
   "outputs": [
    {
     "name": "stdout",
     "output_type": "stream",
     "text": [
      "{\r\n",
      "  \"Version\": \"2012-10-17\",\r\n",
      "  \"Statement\": [\r\n",
      "    {\r\n",
      "      \"Effect\": \"Allow\",\r\n",
      "      \"Action\": [\r\n",
      "        \"acm:DescribeCertificate\",\r\n",
      "        \"acm:ListCertificates\",\r\n",
      "        \"acm:GetCertificate\"\r\n",
      "      ],\r\n",
      "      \"Resource\": \"*\"\r\n",
      "    },\r\n",
      "    {\r\n",
      "      \"Effect\": \"Allow\",\r\n",
      "      \"Action\": [\r\n",
      "        \"ec2:AuthorizeSecurityGroupIngress\",\r\n",
      "        \"ec2:CreateSecurityGroup\",\r\n",
      "        \"ec2:CreateTags\",\r\n",
      "        \"ec2:DeleteTags\",\r\n",
      "        \"ec2:DeleteSecurityGroup\",\r\n",
      "        \"ec2:DescribeAccountAttributes\",\r\n",
      "        \"ec2:DescribeAddresses\",\r\n",
      "        \"ec2:DescribeInstances\",\r\n",
      "        \"ec2:DescribeInstanceStatus\",\r\n",
      "        \"ec2:DescribeInternetGateways\",\r\n",
      "        \"ec2:DescribeNetworkInterfaces\",\r\n",
      "        \"ec2:DescribeSecurityGroups\",\r\n",
      "        \"ec2:DescribeSubnets\",\r\n",
      "        \"ec2:DescribeTags\",\r\n",
      "        \"ec2:DescribeVpcs\",\r\n",
      "        \"ec2:ModifyInstanceAttribute\",\r\n",
      "        \"ec2:ModifyNetworkInterfaceAttribute\",\r\n",
      "        \"ec2:RevokeSecurityGroupIngress\"\r\n",
      "      ],\r\n",
      "      \"Resource\": \"*\"\r\n",
      "    },\r\n",
      "    {\r\n",
      "      \"Effect\": \"Allow\",\r\n",
      "      \"Action\": [\r\n",
      "        \"elasticloadbalancing:AddListenerCertificates\",\r\n",
      "        \"elasticloadbalancing:AddTags\",\r\n",
      "        \"elasticloadbalancing:CreateListener\",\r\n",
      "        \"elasticloadbalancing:CreateLoadBalancer\",\r\n",
      "        \"elasticloadbalancing:CreateRule\",\r\n",
      "        \"elasticloadbalancing:CreateTargetGroup\",\r\n",
      "        \"elasticloadbalancing:DeleteListener\",\r\n",
      "        \"elasticloadbalancing:DeleteLoadBalancer\",\r\n",
      "        \"elasticloadbalancing:DeleteRule\",\r\n",
      "        \"elasticloadbalancing:DeleteTargetGroup\",\r\n",
      "        \"elasticloadbalancing:DeregisterTargets\",\r\n",
      "        \"elasticloadbalancing:DescribeListenerCertificates\",\r\n",
      "        \"elasticloadbalancing:DescribeListeners\",\r\n",
      "        \"elasticloadbalancing:DescribeLoadBalancers\",\r\n",
      "        \"elasticloadbalancing:DescribeLoadBalancerAttributes\",\r\n",
      "        \"elasticloadbalancing:DescribeRules\",\r\n",
      "        \"elasticloadbalancing:DescribeSSLPolicies\",\r\n",
      "        \"elasticloadbalancing:DescribeTags\",\r\n",
      "        \"elasticloadbalancing:DescribeTargetGroups\",\r\n",
      "        \"elasticloadbalancing:DescribeTargetGroupAttributes\",\r\n",
      "        \"elasticloadbalancing:DescribeTargetHealth\",\r\n",
      "        \"elasticloadbalancing:ModifyListener\",\r\n",
      "        \"elasticloadbalancing:ModifyLoadBalancerAttributes\",\r\n",
      "        \"elasticloadbalancing:ModifyRule\",\r\n",
      "        \"elasticloadbalancing:ModifyTargetGroup\",\r\n",
      "        \"elasticloadbalancing:ModifyTargetGroupAttributes\",\r\n",
      "        \"elasticloadbalancing:RegisterTargets\",\r\n",
      "        \"elasticloadbalancing:RemoveListenerCertificates\",\r\n",
      "        \"elasticloadbalancing:RemoveTags\",\r\n",
      "        \"elasticloadbalancing:SetIpAddressType\",\r\n",
      "        \"elasticloadbalancing:SetSecurityGroups\",\r\n",
      "        \"elasticloadbalancing:SetSubnets\",\r\n",
      "        \"elasticloadbalancing:SetWebACL\"\r\n",
      "      ],\r\n",
      "      \"Resource\": \"*\"\r\n",
      "    },\r\n",
      "    {\r\n",
      "      \"Effect\": \"Allow\",\r\n",
      "      \"Action\": [\r\n",
      "        \"iam:CreateServiceLinkedRole\",\r\n",
      "        \"iam:GetServerCertificate\",\r\n",
      "        \"iam:ListServerCertificates\"\r\n",
      "      ],\r\n",
      "      \"Resource\": \"*\"\r\n",
      "    },\r\n",
      "    {\r\n",
      "      \"Effect\": \"Allow\",\r\n",
      "      \"Action\": [\r\n",
      "        \"cognito-idp:DescribeUserPoolClient\"\r\n",
      "      ],\r\n",
      "      \"Resource\": \"*\"\r\n",
      "    },\r\n",
      "    {\r\n",
      "      \"Effect\": \"Allow\",\r\n",
      "      \"Action\": [\r\n",
      "        \"waf-regional:GetWebACLForResource\",\r\n",
      "        \"waf-regional:GetWebACL\",\r\n",
      "        \"waf-regional:AssociateWebACL\",\r\n",
      "        \"waf-regional:DisassociateWebACL\"\r\n",
      "      ],\r\n",
      "      \"Resource\": \"*\"\r\n",
      "    },\r\n",
      "    {\r\n",
      "      \"Effect\": \"Allow\",\r\n",
      "      \"Action\": [\r\n",
      "        \"tag:GetResources\",\r\n",
      "        \"tag:TagResources\"\r\n",
      "      ],\r\n",
      "      \"Resource\": \"*\"\r\n",
      "    },\r\n",
      "    {\r\n",
      "      \"Effect\": \"Allow\",\r\n",
      "      \"Action\": [\r\n",
      "        \"waf:GetWebACL\"\r\n",
      "      ],\r\n",
      "      \"Resource\": \"*\"\r\n",
      "    }\r\n",
      "  ]\r\n",
      "}\r\n"
     ]
    }
   ],
   "source": [
    "!cat temp/iam-policy.json"
   ]
  },
  {
   "cell_type": "markdown",
   "metadata": {
    "lc_cell_meme": {
     "current": "12e380d8-27cf-11ea-874f-0242ac120004",
     "execution_end_time": "2019-12-26T11:00:56.535151Z",
     "history": [
      {
       "current": "12e380d8-27cf-11ea-874f-0242ac120004",
       "next": "12e3834e-27cf-11ea-874f-0242ac120004",
       "previous": "12e37ff2-27cf-11ea-874f-0242ac120004"
      },
      {
       "current": "12e380d8-27cf-11ea-874f-0242ac120004",
       "next": "12e387f4-27cf-11ea-874f-0242ac120004",
       "previous": "12e37ff2-27cf-11ea-874f-0242ac120004"
      },
      {
       "current": "12e380d8-27cf-11ea-874f-0242ac120004",
       "next": "7aed8a98-2ca2-11ea-9eae-0242ac120004",
       "previous": "12e37ff2-27cf-11ea-874f-0242ac120004"
      },
      {
       "current": "12e380d8-27cf-11ea-874f-0242ac120004",
       "next": "e42fb73c-40ad-11ea-91a9-0242ac120004",
       "previous": "12e37ff2-27cf-11ea-874f-0242ac120004"
      }
     ],
     "next": "7aed8a98-2ca2-11ea-9eae-0242ac120004",
     "previous": "12e37ff2-27cf-11ea-874f-0242ac120004"
    },
    "lc_wrapper": {
     "log_history": [
      "/home/user5/notebooks/seminar-lc4ri/AWS/.log/20191226/20191226-110056-0526.log"
     ]
    }
   },
   "source": [
    "ポリシーを作成します。"
   ]
  },
  {
   "cell_type": "code",
   "execution_count": 89,
   "metadata": {
    "deletable": false,
    "editable": false,
    "lc_cell_meme": {
     "current": "7aed8a98-2ca2-11ea-9eae-0242ac120004",
     "execution_end_time": "2020-01-27T02:37:44.931625Z",
     "history": [
      {
       "current": "7aed8a98-2ca2-11ea-9eae-0242ac120004",
       "next": "5a874e38-27cf-11ea-874f-0242ac120004",
       "previous": "12e387f4-27cf-11ea-874f-0242ac120004"
      },
      {
       "current": "7aed8a98-2ca2-11ea-9eae-0242ac120004",
       "next": "c2724fc0-2ca2-11ea-9eae-0242ac120004",
       "previous": "12e387f4-27cf-11ea-874f-0242ac120004"
      },
      {
       "current": "7aed8a98-2ca2-11ea-9eae-0242ac120004",
       "next": "0a05e856-2ca3-11ea-9eae-0242ac120004",
       "previous": "12e380d8-27cf-11ea-874f-0242ac120004"
      },
      {
       "current": "7aed8a98-2ca2-11ea-9eae-0242ac120004",
       "next": "0a05e856-2ca3-11ea-9eae-0242ac120004",
       "previous": "e42fb73c-40ad-11ea-91a9-0242ac120004"
      }
     ],
     "next": "0a05e856-2ca3-11ea-9eae-0242ac120004",
     "previous": "12e380d8-27cf-11ea-874f-0242ac120004"
    },
    "lc_wrapper": {
     "log_history": [
      "/home/user5/notebooks/seminar-lc4ri/AWS/.log/20200101/20200101-142624-0704.log",
      "/home/user5/notebooks/seminar-lc4ri/AWS/.log/20200108/20200108-101019-0308.log",
      "/home/user2/notebooks/AWS/.log/20200115/20200115-095726-0570.log",
      "/home/user2/notebooks/AWS/.log/20200123/20200123-074138-0347.log",
      "/home/user2/notebooks/AWS/.log/20200127/20200127-020435-0113.log",
      "/home/user2/notebooks/AWS/.log/20200127/20200127-023626-0488.log",
      "/home/user2/notebooks/AWS/.log/20200127/20200127-023743-0985.log"
     ]
    },
    "run_through_control": {
     "frozen": true,
     "read_only": false
    }
   },
   "outputs": [
    {
     "name": "stdout",
     "output_type": "stream",
     "text": [
      "{'Policy': {'Arn': 'arn:aws:iam::565991835156:policy/ALBIngressControllerIAMPolicy',\n",
      "            'AttachmentCount': 0,\n",
      "            'CreateDate': '2020-01-27T02:37:44Z',\n",
      "            'DefaultVersionId': 'v1',\n",
      "            'IsAttachable': True,\n",
      "            'Path': '/',\n",
      "            'PermissionsBoundaryUsageCount': 0,\n",
      "            'PolicyId': 'ANPAYHR56AYKJS4GSNBZ3',\n",
      "            'PolicyName': 'ALBIngressControllerIAMPolicy',\n",
      "            'UpdateDate': '2020-01-27T02:37:44Z'}}\n"
     ]
    }
   ],
   "source": [
    "row = !aws iam create-policy \\\n",
    "--policy-name ALBIngressControllerIAMPolicy \\\n",
    "--policy-document file://temp/iam-policy.json\n",
    "\n",
    "import json\n",
    "\n",
    "while row[0].find('{') == -1:\n",
    "    del row[0]\n",
    "row[0] = \"{\"\n",
    "policy = json.loads(''.join(row))\n",
    "pprint.pprint(policy)"
   ]
  },
  {
   "cell_type": "code",
   "execution_count": 20,
   "metadata": {
    "deletable": false,
    "editable": false,
    "lc_cell_meme": {
     "current": "0a05e856-2ca3-11ea-9eae-0242ac120004",
     "execution_end_time": "2020-01-27T02:04:36.758397Z",
     "history": [
      {
       "current": "0a05e856-2ca3-11ea-9eae-0242ac120004",
       "next": "a210ae3e-27cf-11ea-874f-0242ac120004",
       "previous": "0a05e608-2ca3-11ea-9eae-0242ac120004"
      }
     ],
     "next": "a210ae3e-27cf-11ea-874f-0242ac120004",
     "previous": "7aed8a98-2ca2-11ea-9eae-0242ac120004"
    },
    "lc_wrapper": {
     "log_history": [
      "/home/user5/notebooks/seminar-lc4ri/AWS/.log/20200101/20200101-142721-0301.log",
      "/home/user5/notebooks/seminar-lc4ri/AWS/.log/20200108/20200108-101040-0727.log",
      "/home/user2/notebooks/AWS/.log/20200115/20200115-095729-0187.log",
      "/home/user2/notebooks/AWS/.log/20200123/20200123-074140-0274.log",
      "/home/user2/notebooks/AWS/.log/20200127/20200127-020436-0750.log"
     ]
    },
    "run_through_control": {
     "frozen": true,
     "read_only": false
    }
   },
   "outputs": [
    {
     "name": "stdout",
     "output_type": "stream",
     "text": [
      "arn:aws:iam::565991835156:policy/ALBIngressControllerIAMPolicy\n"
     ]
    }
   ],
   "source": [
    "ALBPolicyArn = policy['Policy']['Arn']\n",
    "print(ALBPolicyArn)"
   ]
  },
  {
   "cell_type": "markdown",
   "metadata": {
    "lc_cell_meme": {
     "current": "a210ae3e-27cf-11ea-874f-0242ac120004",
     "history": [
      {
       "current": "a210ae3e-27cf-11ea-874f-0242ac120004",
       "next": "a210b0f0-27cf-11ea-874f-0242ac120004",
       "previous": "5a87504a-27cf-11ea-874f-0242ac120004"
      }
     ],
     "next": "a210b230-27cf-11ea-874f-0242ac120004",
     "previous": "0a05e856-2ca3-11ea-9eae-0242ac120004"
    }
   },
   "source": [
    "ワーカーノード用の IAM ロール名を取得します。次のコマンドを使用して、aws-auth configmap を出力します。"
   ]
  },
  {
   "cell_type": "code",
   "execution_count": 21,
   "metadata": {
    "deletable": false,
    "editable": false,
    "lc_cell_meme": {
     "current": "a210b230-27cf-11ea-874f-0242ac120004",
     "execution_end_time": "2020-01-27T02:04:38.939383Z",
     "history": [
      {
       "current": "a210b230-27cf-11ea-874f-0242ac120004",
       "next": "a210b32a-27cf-11ea-874f-0242ac120004",
       "previous": "a210b0f0-27cf-11ea-874f-0242ac120004"
      }
     ],
     "next": "a210b32a-27cf-11ea-874f-0242ac120004",
     "previous": "a210ae3e-27cf-11ea-874f-0242ac120004"
    },
    "lc_wrapper": {
     "log_history": [
      "/home/user5/notebooks/seminar-lc4ri/AWS/.log/20191226/20191226-110417-0126.log",
      "/home/user5/notebooks/seminar-lc4ri/AWS/.log/20200101/20200101-142804-0434.log",
      "/home/user5/notebooks/seminar-lc4ri/AWS/.log/20200108/20200108-101114-0672.log",
      "/home/user2/notebooks/AWS/.log/20200115/20200115-095733-0234.log",
      "/home/user2/notebooks/AWS/.log/20200115/20200115-100103-0961.log",
      "/home/user2/notebooks/AWS/.log/20200115/20200115-100208-0545.log",
      "/home/user2/notebooks/AWS/.log/20200115/20200115-100224-0169.log",
      "/home/user2/notebooks/AWS/.log/20200115/20200115-100247-0557.log",
      "/home/user2/notebooks/AWS/.log/20200115/20200115-100457-0693.log",
      "/home/user2/notebooks/AWS/.log/20200115/20200115-100508-0387.log",
      "/home/user2/notebooks/AWS/.log/20200115/20200115-100521-0850.log",
      "/home/user2/notebooks/AWS/.log/20200115/20200115-100546-0070.log",
      "/home/user2/notebooks/AWS/.log/20200115/20200115-100557-0356.log",
      "/home/user2/notebooks/AWS/.log/20200115/20200115-100634-0189.log",
      "/home/user2/notebooks/AWS/.log/20200115/20200115-100648-0321.log",
      "/home/user2/notebooks/AWS/.log/20200115/20200115-100657-0800.log",
      "/home/user2/notebooks/AWS/.log/20200115/20200115-100726-0363.log",
      "/home/user2/notebooks/AWS/.log/20200115/20200115-100958-0434.log",
      "/home/user2/notebooks/AWS/.log/20200115/20200115-101005-0348.log",
      "/home/user2/notebooks/AWS/.log/20200115/20200115-101026-0895.log",
      "/home/user2/notebooks/AWS/.log/20200115/20200115-101047-0674.log",
      "/home/user2/notebooks/AWS/.log/20200115/20200115-101113-0301.log",
      "/home/user2/notebooks/AWS/.log/20200115/20200115-101218-0377.log",
      "/home/user2/notebooks/AWS/.log/20200115/20200115-101310-0542.log",
      "/home/user2/notebooks/AWS/.log/20200115/20200115-101319-0134.log",
      "/home/user2/notebooks/AWS/.log/20200115/20200115-101341-0929.log",
      "/home/user2/notebooks/AWS/.log/20200115/20200115-101347-0722.log",
      "/home/user2/notebooks/AWS/.log/20200115/20200115-101423-0288.log",
      "/home/user2/notebooks/AWS/.log/20200123/20200123-074141-0705.log",
      "/home/user2/notebooks/AWS/.log/20200127/20200127-020438-0176.log"
     ]
    },
    "run_through_control": {
     "frozen": true,
     "read_only": false
    }
   },
   "outputs": [],
   "source": [
    "row = !kubectl -n kube-system describe configmap aws-auth"
   ]
  },
  {
   "cell_type": "markdown",
   "metadata": {
    "lc_cell_meme": {
     "current": "a210b32a-27cf-11ea-874f-0242ac120004",
     "next": "a210b41a-27cf-11ea-874f-0242ac120004",
     "previous": "a210b230-27cf-11ea-874f-0242ac120004"
    }
   },
   "source": [
    "system:nodes グループが割り当てられている rolearn 値のロール名を取り出します。クラスターの各ノードグループに 1 つの値が必要です。"
   ]
  },
  {
   "cell_type": "code",
   "execution_count": 22,
   "metadata": {
    "deletable": false,
    "editable": false,
    "lc_cell_meme": {
     "current": "a210b41a-27cf-11ea-874f-0242ac120004",
     "execution_end_time": "2020-01-27T02:04:40.025437Z",
     "history": [
      {
       "current": "a210b41a-27cf-11ea-874f-0242ac120004",
       "next": null,
       "previous": "a210b32a-27cf-11ea-874f-0242ac120004"
      }
     ],
     "next": "e99adfae-27cf-11ea-874f-0242ac120004",
     "previous": "a210b32a-27cf-11ea-874f-0242ac120004"
    },
    "lc_wrapper": {
     "log_history": [
      "/home/user5/notebooks/seminar-lc4ri/AWS/.log/20191226/20191226-110610-0574.log",
      "/home/user5/notebooks/seminar-lc4ri/AWS/.log/20200101/20200101-142843-0540.log",
      "/home/user5/notebooks/seminar-lc4ri/AWS/.log/20200108/20200108-101130-0947.log",
      "/home/user2/notebooks/AWS/.log/20200115/20200115-101450-0133.log",
      "/home/user2/notebooks/AWS/.log/20200123/20200123-074143-0199.log",
      "/home/user2/notebooks/AWS/.log/20200127/20200127-020440-0016.log"
     ]
    },
    "run_through_control": {
     "frozen": true,
     "read_only": false
    }
   },
   "outputs": [
    {
     "name": "stdout",
     "output_type": "stream",
     "text": [
      "'eksctl-aws-eks-200127-nodegroup-n-NodeInstanceRole-B5AZPMU1PGAA'\n"
     ]
    }
   ],
   "source": [
    "import re\n",
    "\n",
    "m = re.search(r'arn:aws:iam::([0-9]+):role/(.*)', row[12])\n",
    "\n",
    "pprint.pprint(m.group(2))\n",
    "\n",
    "workerRolearn = m.group(2)\n"
   ]
  },
  {
   "cell_type": "markdown",
   "metadata": {
    "lc_cell_meme": {
     "current": "e99adfae-27cf-11ea-874f-0242ac120004",
     "next": "e99ae22e-27cf-11ea-874f-0242ac120004",
     "previous": "a210b41a-27cf-11ea-874f-0242ac120004"
    }
   },
   "source": [
    "次のコマンドを使用して、前に識別した各ワーカーノードの IAM ロールに、新しい ALBIngressControllerIAMPolicy IAM ポリシーをアタッチします。"
   ]
  },
  {
   "cell_type": "code",
   "execution_count": 23,
   "metadata": {
    "deletable": false,
    "editable": false,
    "lc_cell_meme": {
     "current": "e99ae22e-27cf-11ea-874f-0242ac120004",
     "execution_end_time": "2020-01-27T02:04:43.149242Z",
     "history": [
      {
       "current": "e99ae22e-27cf-11ea-874f-0242ac120004",
       "next": null,
       "previous": "e99adfae-27cf-11ea-874f-0242ac120004"
      }
     ],
     "next": "311b3040-27d0-11ea-874f-0242ac120004",
     "previous": "e99adfae-27cf-11ea-874f-0242ac120004"
    },
    "lc_wrapper": {
     "log_history": [
      "/home/user5/notebooks/seminar-lc4ri/AWS/.log/20191226/20191226-110807-0334.log",
      "/home/user5/notebooks/seminar-lc4ri/AWS/.log/20200101/20200101-142852-0569.log",
      "/home/user5/notebooks/seminar-lc4ri/AWS/.log/20200108/20200108-101139-0690.log",
      "/home/user2/notebooks/AWS/.log/20200115/20200115-101512-0314.log",
      "/home/user2/notebooks/AWS/.log/20200123/20200123-074144-0557.log",
      "/home/user2/notebooks/AWS/.log/20200127/20200127-020441-0294.log"
     ]
    },
    "run_through_control": {
     "frozen": true,
     "read_only": false
    }
   },
   "outputs": [],
   "source": [
    "!aws iam attach-role-policy \\\n",
    "--policy-arn {ALBPolicyArn} \\\n",
    "--role-name {workerRolearn}"
   ]
  },
  {
   "cell_type": "markdown",
   "metadata": {
    "lc_cell_meme": {
     "current": "311b3040-27d0-11ea-874f-0242ac120004",
     "history": [
      {
       "current": "311b3040-27d0-11ea-874f-0242ac120004",
       "next": "311b325c-27d0-11ea-874f-0242ac120004",
       "previous": "e99ae22e-27cf-11ea-874f-0242ac120004"
      }
     ],
     "next": "311b337e-27d0-11ea-874f-0242ac120004",
     "previous": "e99ae22e-27cf-11ea-874f-0242ac120004"
    }
   },
   "source": [
    "次のコマンドを使用して、ALB Ingress Controller で使用するサービスアカウント、クラスターロール、およびクラスターロールバインディングを作成します。"
   ]
  },
  {
   "cell_type": "code",
   "execution_count": 24,
   "metadata": {
    "deletable": false,
    "editable": false,
    "lc_cell_meme": {
     "current": "311b337e-27d0-11ea-874f-0242ac120004",
     "execution_end_time": "2020-01-27T02:04:46.232051Z",
     "history": [
      {
       "current": "311b337e-27d0-11ea-874f-0242ac120004",
       "next": "311b3482-27d0-11ea-874f-0242ac120004",
       "previous": "311b325c-27d0-11ea-874f-0242ac120004"
      }
     ],
     "next": "311b3482-27d0-11ea-874f-0242ac120004",
     "previous": "311b3040-27d0-11ea-874f-0242ac120004"
    },
    "lc_wrapper": {
     "log_history": [
      "/home/user5/notebooks/seminar-lc4ri/AWS/.log/20191226/20191226-110931-0310.log",
      "/home/user5/notebooks/seminar-lc4ri/AWS/.log/20200101/20200101-142910-0010.log",
      "/home/user5/notebooks/seminar-lc4ri/AWS/.log/20200108/20200108-101156-0442.log",
      "/home/user2/notebooks/AWS/.log/20200115/20200115-101521-0838.log",
      "/home/user2/notebooks/AWS/.log/20200123/20200123-074148-0871.log",
      "/home/user2/notebooks/AWS/.log/20200127/20200127-020444-0417.log"
     ]
    },
    "run_through_control": {
     "frozen": true,
     "read_only": false
    }
   },
   "outputs": [
    {
     "name": "stdout",
     "output_type": "stream",
     "text": [
      "clusterrole.rbac.authorization.k8s.io/alb-ingress-controller created\n",
      "clusterrolebinding.rbac.authorization.k8s.io/alb-ingress-controller created\n",
      "serviceaccount/alb-ingress-controller created\n"
     ]
    }
   ],
   "source": [
    "!kubectl apply -f https://raw.githubusercontent.com/kubernetes-sigs/aws-alb-ingress-controller/v1.1.4/docs/examples/rbac-role.yaml"
   ]
  },
  {
   "cell_type": "markdown",
   "metadata": {
    "lc_cell_meme": {
     "current": "311b3482-27d0-11ea-874f-0242ac120004",
     "history": [
      {
       "current": "311b3482-27d0-11ea-874f-0242ac120004",
       "next": null,
       "previous": "311b337e-27d0-11ea-874f-0242ac120004"
      }
     ],
     "next": "78fe737c-27d0-11ea-874f-0242ac120004",
     "previous": "311b337e-27d0-11ea-874f-0242ac120004"
    }
   },
   "source": [
    "ALB Ingress Controller のマニフェストをダウンロード"
   ]
  },
  {
   "cell_type": "code",
   "execution_count": 132,
   "metadata": {
    "deletable": false,
    "editable": false,
    "lc_cell_meme": {
     "current": "78fe737c-27d0-11ea-874f-0242ac120004",
     "execution_end_time": "2020-01-27T02:50:00.766792Z",
     "history": [
      {
       "current": "78fe737c-27d0-11ea-874f-0242ac120004",
       "next": null,
       "previous": "311b3482-27d0-11ea-874f-0242ac120004"
      }
     ],
     "next": "c03229fa-27d0-11ea-874f-0242ac120004",
     "previous": "311b3482-27d0-11ea-874f-0242ac120004"
    },
    "lc_wrapper": {
     "log_history": [
      "/home/user5/notebooks/seminar-lc4ri/AWS/.log/20191226/20191226-111327-0387.log",
      "/home/user5/notebooks/seminar-lc4ri/AWS/.log/20191226/20191226-111332-0714.log",
      "/home/user5/notebooks/seminar-lc4ri/AWS/.log/20200101/20200101-142928-0030.log",
      "/home/user5/notebooks/seminar-lc4ri/AWS/.log/20200108/20200108-101344-0223.log",
      "/home/user2/notebooks/AWS/.log/20200115/20200115-101530-0490.log",
      "/home/user2/notebooks/AWS/.log/20200123/20200123-074151-0218.log",
      "/home/user2/notebooks/AWS/.log/20200127/20200127-020447-0402.log",
      "/home/user2/notebooks/AWS/.log/20200127/20200127-022834-0982.log",
      "/home/user2/notebooks/AWS/.log/20200127/20200127-022844-0618.log",
      "/home/user2/notebooks/AWS/.log/20200127/20200127-023906-0140.log",
      "/home/user2/notebooks/AWS/.log/20200127/20200127-024959-0604.log"
     ]
    },
    "run_through_control": {
     "frozen": true,
     "read_only": false
    }
   },
   "outputs": [
    {
     "name": "stdout",
     "output_type": "stream",
     "text": [
      "--2020-01-27 02:50:00--  https://raw.githubusercontent.com/kubernetes-sigs/aws-alb-ingress-controller/v1.1.4/docs/examples/alb-ingress-controller.yaml\n",
      "Resolving raw.githubusercontent.com (raw.githubusercontent.com)... 151.101.0.133, 151.101.64.133, 151.101.128.133, ...\n",
      "Connecting to raw.githubusercontent.com (raw.githubusercontent.com)|151.101.0.133|:443... connected.\n",
      "HTTP request sent, awaiting response... 200 OK\n",
      "Length: 3129 (3.1K) [text/plain]\n",
      "Saving to: ‘temp/alb-ingress-controller.yaml’\n",
      "\n",
      "temp/alb-ingress-co 100%[===================>]   3.06K  --.-KB/s    in 0s      \n",
      "\n",
      "2020-01-27 02:50:00 (42.6 MB/s) - ‘temp/alb-ingress-controller.yaml’ saved [3129/3129]\n",
      "\n"
     ]
    }
   ],
   "source": [
    "!wget -O temp/alb-ingress-controller.yaml https://raw.githubusercontent.com/kubernetes-sigs/aws-alb-ingress-controller/v1.1.4/docs/examples/alb-ingress-controller.yaml"
   ]
  },
  {
   "cell_type": "markdown",
   "metadata": {
    "lc_cell_meme": {
     "current": "c03229fa-27d0-11ea-874f-0242ac120004",
     "next": "080c3edc-27d1-11ea-874f-0242ac120004",
     "previous": "78fe737c-27d0-11ea-874f-0242ac120004"
    }
   },
   "source": [
    "マニフェスト内容を確認"
   ]
  },
  {
   "cell_type": "code",
   "execution_count": 94,
   "metadata": {
    "deletable": false,
    "editable": false,
    "lc_cell_meme": {
     "current": "080c3edc-27d1-11ea-874f-0242ac120004",
     "execution_end_time": "2020-01-27T02:39:14.103309Z",
     "next": "080c40f8-27d1-11ea-874f-0242ac120004",
     "previous": "c03229fa-27d0-11ea-874f-0242ac120004"
    },
    "lc_wrapper": {
     "log_history": [
      "/home/user5/notebooks/seminar-lc4ri/AWS/.log/20191226/20191226-111404-0199.log",
      "/home/user5/notebooks/seminar-lc4ri/AWS/.log/20200101/20200101-142935-0998.log",
      "/home/user5/notebooks/seminar-lc4ri/AWS/.log/20200108/20200108-101349-0376.log",
      "/home/user2/notebooks/AWS/.log/20200115/20200115-101535-0914.log",
      "/home/user2/notebooks/AWS/.log/20200123/20200123-074154-0459.log",
      "/home/user2/notebooks/AWS/.log/20200127/20200127-020450-0635.log",
      "/home/user2/notebooks/AWS/.log/20200127/20200127-022857-0662.log",
      "/home/user2/notebooks/AWS/.log/20200127/20200127-023913-0152.log"
     ]
    },
    "run_through_control": {
     "frozen": true,
     "read_only": false
    }
   },
   "outputs": [
    {
     "name": "stdout",
     "output_type": "stream",
     "text": [
      "# Application Load Balancer (ALB) Ingress Controller Deployment Manifest.\r\n",
      "# This manifest details sensible defaults for deploying an ALB Ingress Controller.\r\n",
      "# GitHub: https://github.com/kubernetes-sigs/aws-alb-ingress-controller\r\n",
      "apiVersion: apps/v1\r\n",
      "kind: Deployment\r\n",
      "metadata:\r\n",
      "  labels:\r\n",
      "    app.kubernetes.io/name: alb-ingress-controller\r\n",
      "  name: alb-ingress-controller\r\n",
      "  # Namespace the ALB Ingress Controller should run in. Does not impact which\r\n",
      "  # namespaces it's able to resolve ingress resource for. For limiting ingress\r\n",
      "  # namespace scope, see --watch-namespace.\r\n",
      "  namespace: kube-system\r\n",
      "spec:\r\n",
      "  selector:\r\n",
      "    matchLabels:\r\n",
      "      app.kubernetes.io/name: alb-ingress-controller\r\n",
      "  template:\r\n",
      "    metadata:\r\n",
      "      labels:\r\n",
      "        app.kubernetes.io/name: alb-ingress-controller\r\n",
      "    spec:\r\n",
      "      containers:\r\n",
      "        - name: alb-ingress-controller\r\n",
      "          args:\r\n",
      "            # Limit the namespace where this ALB Ingress Controller deployment will\r\n",
      "            # resolve ingress resources. If left commented, all namespaces are used.\r\n",
      "            # - --watch-namespace=your-k8s-namespace\r\n",
      "\r\n",
      "            # Setting the ingress-class flag below ensures that only ingress resources with the\r\n",
      "            # annotation kubernetes.io/ingress.class: \"alb\" are respected by the controller. You may\r\n",
      "            # choose any class you'd like for this controller to respect.\r\n",
      "            - --ingress-class=alb\r\n",
      "            - --cluster-name=aws-eks-200127\r\n",
      "            - --aws-vpc-id=vpc-0416a0124d607a464\r\n",
      "            - --aws-region=us-west-2\r\n",
      "            - --cluster-name=aws-eks-200127\r\n",
      "            - --aws-vpc-id=vpc-0416a0124d607a464\r\n",
      "            - --aws-region=us-west-2\r\n",
      "\r\n",
      "            # REQUIRED\r\n",
      "            # Name of your cluster. Used when naming resources created\r\n",
      "            # by the ALB Ingress Controller, providing distinction between\r\n",
      "            # clusters.\r\n",
      "            # - --cluster-name=devCluster\r\n",
      "\r\n",
      "            # AWS VPC ID this ingress controller will use to create AWS resources.\r\n",
      "            # If unspecified, it will be discovered from ec2metadata.\r\n",
      "            # - --aws-vpc-id=vpc-xxxxxx\r\n",
      "\r\n",
      "            # AWS region this ingress controller will operate in.\r\n",
      "            # If unspecified, it will be discovered from ec2metadata.\r\n",
      "            # List of regions: http://docs.aws.amazon.com/general/latest/gr/rande.html#vpc_region\r\n",
      "            # - --aws-region=us-west-1\r\n",
      "\r\n",
      "            # Enables logging on all outbound requests sent to the AWS API.\r\n",
      "            # If logging is desired, set to true.\r\n",
      "            # - --aws-api-debug\r\n",
      "            # Maximum number of times to retry the aws calls.\r\n",
      "            # defaults to 10.\r\n",
      "            # - --aws-max-retries=10\r\n",
      "          # env:\r\n",
      "            # AWS key id for authenticating with the AWS API.\r\n",
      "            # This is only here for examples. It's recommended you instead use\r\n",
      "            # a project like kube2iam for granting access.\r\n",
      "            #- name: AWS_ACCESS_KEY_ID\r\n",
      "            #  value: KEYVALUE\r\n",
      "\r\n",
      "            # AWS key secret for authenticating with the AWS API.\r\n",
      "            # This is only here for examples. It's recommended you instead use\r\n",
      "            # a project like kube2iam for granting access.\r\n",
      "            #- name: AWS_SECRET_ACCESS_KEY\r\n",
      "            #  value: SECRETVALUE\r\n",
      "          # Repository location of the ALB Ingress Controller.\r\n",
      "          image: docker.io/amazon/aws-alb-ingress-controller:v1.1.4\r\n",
      "      serviceAccountName: alb-ingress-controller\r\n"
     ]
    }
   ],
   "source": [
    "!cat temp/alb-ingress-controller.yaml"
   ]
  },
  {
   "cell_type": "markdown",
   "metadata": {
    "lc_cell_meme": {
     "current": "080c40f8-27d1-11ea-874f-0242ac120004",
     "history": [
      {
       "current": "080c40f8-27d1-11ea-874f-0242ac120004",
       "next": "080c422e-27d1-11ea-874f-0242ac120004",
       "previous": "080c3edc-27d1-11ea-874f-0242ac120004"
      },
      {
       "current": "080c40f8-27d1-11ea-874f-0242ac120004",
       "next": "995f1edc-2ca3-11ea-9eae-0242ac120004",
       "previous": "080c3edc-27d1-11ea-874f-0242ac120004"
      },
      {
       "current": "080c40f8-27d1-11ea-874f-0242ac120004",
       "next": "080c422e-27d1-11ea-874f-0242ac120004",
       "previous": "080c3edc-27d1-11ea-874f-0242ac120004"
      },
      {
       "current": "080c40f8-27d1-11ea-874f-0242ac120004",
       "next": "d12aaf1e-31ff-11ea-9983-0242ac120004",
       "previous": "080c3edc-27d1-11ea-874f-0242ac120004"
      }
     ],
     "next": "18b22eb6-3200-11ea-9983-0242ac120004",
     "previous": "080c3edc-27d1-11ea-874f-0242ac120004"
    }
   },
   "source": [
    "-ingress-class=alb 行の後に、クラスター名、VPC ID、および AWS リージョン名を追加し、ファイルを保存して閉じます。\n",
    "\n"
   ]
  },
  {
   "cell_type": "code",
   "execution_count": 27,
   "metadata": {
    "deletable": false,
    "editable": false,
    "lc_cell_meme": {
     "current": "18b22eb6-3200-11ea-9983-0242ac120004",
     "execution_end_time": "2020-01-27T02:04:55.251569Z",
     "history": [
      {
       "current": "18b22eb6-3200-11ea-9983-0242ac120004",
       "next": "d12aaf1e-31ff-11ea-9983-0242ac120004",
       "previous": "080c40f8-27d1-11ea-874f-0242ac120004"
      }
     ],
     "next": "899011e0-3780-11ea-b7f6-0242ac120004",
     "previous": "080c40f8-27d1-11ea-874f-0242ac120004"
    },
    "lc_wrapper": {
     "log_history": [
      "/home/user5/notebooks/seminar-lc4ri/AWS/.log/20200108/20200108-101744-0924.log",
      "/home/user5/notebooks/seminar-lc4ri/AWS/.log/20200108/20200108-101750-0642.log",
      "/home/user5/notebooks/seminar-lc4ri/AWS/.log/20200108/20200108-101754-0481.log",
      "/home/user5/notebooks/seminar-lc4ri/AWS/.log/20200108/20200108-101818-0657.log",
      "/home/user5/notebooks/seminar-lc4ri/AWS/.log/20200108/20200108-101834-0249.log",
      "/home/user2/notebooks/AWS/.log/20200115/20200115-101725-0571.log",
      "/home/user2/notebooks/AWS/.log/20200123/20200123-074201-0220.log",
      "/home/user2/notebooks/AWS/.log/20200127/20200127-020455-0245.log"
     ]
    },
    "run_through_control": {
     "frozen": true,
     "read_only": false
    }
   },
   "outputs": [],
   "source": [
    "vpcID = publicSubnets['Subnets'][0]['VpcId']"
   ]
  },
  {
   "cell_type": "code",
   "execution_count": 95,
   "metadata": {
    "deletable": false,
    "editable": false,
    "lc_cell_meme": {
     "current": "899011e0-3780-11ea-b7f6-0242ac120004",
     "execution_end_time": "2020-01-27T02:39:16.345537Z",
     "history": [
      {
       "current": "899011e0-3780-11ea-b7f6-0242ac120004",
       "next": "080c422e-27d1-11ea-874f-0242ac120004",
       "previous": "d12aaf1e-31ff-11ea-9983-0242ac120004"
      }
     ],
     "next": "080c422e-27d1-11ea-874f-0242ac120004",
     "previous": "18b22eb6-3200-11ea-9983-0242ac120004"
    },
    "lc_wrapper": {
     "log_history": [
      "/home/user2/notebooks/AWS/.log/20200115/20200115-102003-0642.log",
      "/home/user2/notebooks/AWS/.log/20200115/20200115-102243-0218.log",
      "/home/user2/notebooks/AWS/.log/20200115/20200115-102251-0754.log",
      "/home/user2/notebooks/AWS/.log/20200115/20200115-102306-0912.log",
      "/home/user2/notebooks/AWS/.log/20200115/20200115-102329-0486.log",
      "/home/user2/notebooks/AWS/.log/20200115/20200115-102448-0717.log",
      "/home/user2/notebooks/AWS/.log/20200115/20200115-102450-0974.log",
      "/home/user2/notebooks/AWS/.log/20200115/20200115-102510-0407.log",
      "/home/user2/notebooks/AWS/.log/20200115/20200115-102546-0045.log",
      "/home/user2/notebooks/AWS/.log/20200115/20200115-102644-0942.log",
      "/home/user2/notebooks/AWS/.log/20200115/20200115-102754-0567.log",
      "/home/user2/notebooks/AWS/.log/20200115/20200115-102830-0606.log",
      "/home/user2/notebooks/AWS/.log/20200115/20200115-102904-0989.log",
      "/home/user2/notebooks/AWS/.log/20200115/20200115-102930-0096.log",
      "/home/user2/notebooks/AWS/.log/20200115/20200115-102936-0998.log",
      "/home/user2/notebooks/AWS/.log/20200115/20200115-103007-0241.log",
      "/home/user2/notebooks/AWS/.log/20200115/20200115-103039-0998.log",
      "/home/user2/notebooks/AWS/.log/20200115/20200115-103050-0595.log",
      "/home/user2/notebooks/AWS/.log/20200115/20200115-103058-0726.log",
      "/home/user2/notebooks/AWS/.log/20200115/20200115-103131-0140.log",
      "/home/user2/notebooks/AWS/.log/20200115/20200115-103203-0407.log",
      "/home/user2/notebooks/AWS/.log/20200115/20200115-103338-0213.log",
      "/home/user2/notebooks/AWS/.log/20200115/20200115-103347-0224.log",
      "/home/user2/notebooks/AWS/.log/20200115/20200115-103403-0395.log",
      "/home/user2/notebooks/AWS/.log/20200115/20200115-103447-0478.log",
      "/home/user2/notebooks/AWS/.log/20200115/20200115-103603-0933.log",
      "/home/user2/notebooks/AWS/.log/20200115/20200115-103637-0169.log",
      "/home/user2/notebooks/AWS/.log/20200115/20200115-103653-0841.log",
      "/home/user2/notebooks/AWS/.log/20200115/20200115-103754-0152.log",
      "/home/user2/notebooks/AWS/.log/20200115/20200115-103817-0619.log",
      "/home/user2/notebooks/AWS/.log/20200115/20200115-103829-0019.log",
      "/home/user2/notebooks/AWS/.log/20200115/20200115-103912-0180.log",
      "/home/user2/notebooks/AWS/.log/20200115/20200115-103951-0614.log",
      "/home/user2/notebooks/AWS/.log/20200115/20200115-104148-0344.log",
      "/home/user2/notebooks/AWS/.log/20200115/20200115-104159-0264.log",
      "/home/user2/notebooks/AWS/.log/20200115/20200115-104207-0344.log",
      "/home/user2/notebooks/AWS/.log/20200115/20200115-104218-0928.log",
      "/home/user2/notebooks/AWS/.log/20200115/20200115-104228-0955.log",
      "/home/user2/notebooks/AWS/.log/20200115/20200115-104344-0355.log",
      "/home/user2/notebooks/AWS/.log/20200115/20200115-104350-0944.log",
      "/home/user2/notebooks/AWS/.log/20200115/20200115-104407-0776.log",
      "/home/user2/notebooks/AWS/.log/20200115/20200115-104503-0099.log",
      "/home/user2/notebooks/AWS/.log/20200123/20200123-074205-0744.log",
      "/home/user2/notebooks/AWS/.log/20200127/20200127-020457-0374.log",
      "/home/user2/notebooks/AWS/.log/20200127/20200127-023835-0595.log",
      "/home/user2/notebooks/AWS/.log/20200127/20200127-023841-0383.log",
      "/home/user2/notebooks/AWS/.log/20200127/20200127-023916-0336.log"
     ]
    },
    "run_through_control": {
     "frozen": true,
     "read_only": false
    }
   },
   "outputs": [],
   "source": [
    "import re\n",
    "\n",
    "before_str='- --ingress-class=alb'\n",
    "after_str='''\n",
    "            - --ingress-class=alb\n",
    "            - --cluster-name={clusterName}\n",
    "            - --aws-vpc-id={vpcID}\n",
    "            - --aws-region=us-west-2\n",
    "'''.format(clusterName=clusterName,vpcID=vpcID).strip()\n",
    "\n",
    "f = open('temp/alb-ingress-controller.yaml','r')\n",
    "body = f.read()\n",
    "new_body = re.sub(before_str, after_str, body, flags=re.DOTALL)\n",
    "f.close()\n",
    "\n",
    "f = open('temp/alb-ingress-controller.yaml','w')\n",
    "f.write(new_body)\n",
    "f.close()"
   ]
  },
  {
   "cell_type": "code",
   "execution_count": 96,
   "metadata": {
    "deletable": false,
    "editable": false,
    "lc_cell_meme": {
     "current": "080c422e-27d1-11ea-874f-0242ac120004",
     "execution_end_time": "2020-01-27T02:39:20.222669Z",
     "history": [
      {
       "current": "080c422e-27d1-11ea-874f-0242ac120004",
       "next": null,
       "previous": "080c40f8-27d1-11ea-874f-0242ac120004"
      },
      {
       "current": "080c422e-27d1-11ea-874f-0242ac120004",
       "next": "96c066bc-27d1-11ea-874f-0242ac120004",
       "previous": "080c40f8-27d1-11ea-874f-0242ac120004"
      },
      {
       "current": "080c422e-27d1-11ea-874f-0242ac120004",
       "next": "6d5808e2-27d2-11ea-874f-0242ac120004",
       "previous": "080c40f8-27d1-11ea-874f-0242ac120004"
      },
      {
       "current": "080c422e-27d1-11ea-874f-0242ac120004",
       "next": "b5186582-27d2-11ea-874f-0242ac120004",
       "previous": "080c40f8-27d1-11ea-874f-0242ac120004"
      },
      {
       "current": "080c422e-27d1-11ea-874f-0242ac120004",
       "next": "b5186582-27d2-11ea-874f-0242ac120004",
       "previous": "995f1edc-2ca3-11ea-9eae-0242ac120004"
      },
      {
       "current": "080c422e-27d1-11ea-874f-0242ac120004",
       "next": "b5186582-27d2-11ea-874f-0242ac120004",
       "previous": "080c40f8-27d1-11ea-874f-0242ac120004"
      },
      {
       "current": "080c422e-27d1-11ea-874f-0242ac120004",
       "next": "b5186582-27d2-11ea-874f-0242ac120004",
       "previous": "d12aaf1e-31ff-11ea-9983-0242ac120004"
      }
     ],
     "next": "b5186582-27d2-11ea-874f-0242ac120004",
     "previous": "899011e0-3780-11ea-b7f6-0242ac120004"
    },
    "lc_wrapper": {
     "log_history": [
      "/home/user5/notebooks/seminar-lc4ri/AWS/.log/20191226/20191226-111812-0381.log",
      "/home/user5/notebooks/seminar-lc4ri/AWS/.log/20200101/20200101-143038-0875.log",
      "/home/user5/notebooks/seminar-lc4ri/AWS/.log/20200101/20200101-143452-0973.log",
      "/home/user5/notebooks/seminar-lc4ri/AWS/.log/20200108/20200108-102227-0844.log",
      "/home/user2/notebooks/AWS/.log/20200115/20200115-103451-0201.log",
      "/home/user2/notebooks/AWS/.log/20200115/20200115-103501-0020.log",
      "/home/user2/notebooks/AWS/.log/20200115/20200115-104421-0907.log",
      "/home/user2/notebooks/AWS/.log/20200115/20200115-104504-0381.log",
      "/home/user2/notebooks/AWS/.log/20200123/20200123-074212-0235.log",
      "/home/user2/notebooks/AWS/.log/20200127/20200127-020458-0782.log",
      "/home/user2/notebooks/AWS/.log/20200127/20200127-023850-0563.log",
      "/home/user2/notebooks/AWS/.log/20200127/20200127-023919-0272.log"
     ]
    },
    "pinned_outputs": [],
    "run_through_control": {
     "frozen": true,
     "read_only": false
    },
    "scrolled": true
   },
   "outputs": [
    {
     "name": "stdout",
     "output_type": "stream",
     "text": [
      "# Application Load Balancer (ALB) Ingress Controller Deployment Manifest.\r\n",
      "# This manifest details sensible defaults for deploying an ALB Ingress Controller.\r\n",
      "# GitHub: https://github.com/kubernetes-sigs/aws-alb-ingress-controller\r\n",
      "apiVersion: apps/v1\r\n",
      "kind: Deployment\r\n",
      "metadata:\r\n",
      "  labels:\r\n",
      "    app.kubernetes.io/name: alb-ingress-controller\r\n",
      "  name: alb-ingress-controller\r\n",
      "  # Namespace the ALB Ingress Controller should run in. Does not impact which\r\n",
      "  # namespaces it's able to resolve ingress resource for. For limiting ingress\r\n",
      "  # namespace scope, see --watch-namespace.\r\n",
      "  namespace: kube-system\r\n",
      "spec:\r\n",
      "  selector:\r\n",
      "    matchLabels:\r\n",
      "      app.kubernetes.io/name: alb-ingress-controller\r\n",
      "  template:\r\n",
      "    metadata:\r\n",
      "      labels:\r\n",
      "        app.kubernetes.io/name: alb-ingress-controller\r\n",
      "    spec:\r\n",
      "      containers:\r\n",
      "        - name: alb-ingress-controller\r\n",
      "          args:\r\n",
      "            # Limit the namespace where this ALB Ingress Controller deployment will\r\n",
      "            # resolve ingress resources. If left commented, all namespaces are used.\r\n",
      "            # - --watch-namespace=your-k8s-namespace\r\n",
      "\r\n",
      "            # Setting the ingress-class flag below ensures that only ingress resources with the\r\n",
      "            # annotation kubernetes.io/ingress.class: \"alb\" are respected by the controller. You may\r\n",
      "            # choose any class you'd like for this controller to respect.\r\n",
      "            - --ingress-class=alb\r\n",
      "            - --cluster-name=aws-eks-200127\r\n",
      "            - --aws-vpc-id=vpc-0416a0124d607a464\r\n",
      "            - --aws-region=us-west-2\r\n",
      "            - --cluster-name=aws-eks-200127\r\n",
      "            - --aws-vpc-id=vpc-0416a0124d607a464\r\n",
      "            - --aws-region=us-west-2\r\n",
      "            - --cluster-name=aws-eks-200127\r\n",
      "            - --aws-vpc-id=vpc-0416a0124d607a464\r\n",
      "            - --aws-region=us-west-2\r\n",
      "\r\n",
      "            # REQUIRED\r\n",
      "            # Name of your cluster. Used when naming resources created\r\n",
      "            # by the ALB Ingress Controller, providing distinction between\r\n",
      "            # clusters.\r\n",
      "            # - --cluster-name=devCluster\r\n",
      "\r\n",
      "            # AWS VPC ID this ingress controller will use to create AWS resources.\r\n",
      "            # If unspecified, it will be discovered from ec2metadata.\r\n",
      "            # - --aws-vpc-id=vpc-xxxxxx\r\n",
      "\r\n",
      "            # AWS region this ingress controller will operate in.\r\n",
      "            # If unspecified, it will be discovered from ec2metadata.\r\n",
      "            # List of regions: http://docs.aws.amazon.com/general/latest/gr/rande.html#vpc_region\r\n",
      "            # - --aws-region=us-west-1\r\n",
      "\r\n",
      "            # Enables logging on all outbound requests sent to the AWS API.\r\n",
      "            # If logging is desired, set to true.\r\n",
      "            # - --aws-api-debug\r\n",
      "            # Maximum number of times to retry the aws calls.\r\n",
      "            # defaults to 10.\r\n",
      "            # - --aws-max-retries=10\r\n",
      "          # env:\r\n",
      "            # AWS key id for authenticating with the AWS API.\r\n",
      "            # This is only here for examples. It's recommended you instead use\r\n",
      "            # a project like kube2iam for granting access.\r\n",
      "            #- name: AWS_ACCESS_KEY_ID\r\n",
      "            #  value: KEYVALUE\r\n",
      "\r\n",
      "            # AWS key secret for authenticating with the AWS API.\r\n",
      "            # This is only here for examples. It's recommended you instead use\r\n",
      "            # a project like kube2iam for granting access.\r\n",
      "            #- name: AWS_SECRET_ACCESS_KEY\r\n",
      "            #  value: SECRETVALUE\r\n",
      "          # Repository location of the ALB Ingress Controller.\r\n",
      "          image: docker.io/amazon/aws-alb-ingress-controller:v1.1.4\r\n",
      "      serviceAccountName: alb-ingress-controller\r\n"
     ]
    }
   ],
   "source": [
    "!cat temp/alb-ingress-controller.yaml"
   ]
  },
  {
   "cell_type": "code",
   "execution_count": 97,
   "metadata": {
    "deletable": false,
    "editable": false,
    "lc_cell_meme": {
     "current": "b5186582-27d2-11ea-874f-0242ac120004",
     "execution_end_time": "2020-01-27T02:39:27.088701Z",
     "history": [
      {
       "current": "b5186582-27d2-11ea-874f-0242ac120004",
       "next": "b5186672-27d2-11ea-874f-0242ac120004",
       "previous": "b5186456-27d2-11ea-874f-0242ac120004"
      },
      {
       "current": "b5186582-27d2-11ea-874f-0242ac120004",
       "next": "a988bc24-27d4-11ea-874f-0242ac120004",
       "previous": "080c422e-27d1-11ea-874f-0242ac120004"
      }
     ],
     "next": "1fa11378-3786-11ea-b7f6-0242ac120004",
     "previous": "080c422e-27d1-11ea-874f-0242ac120004"
    },
    "lc_wrapper": {
     "log_history": [
      "/home/user5/notebooks/seminar-lc4ri/AWS/.log/20191226/20191226-112701-0944.log",
      "/home/user5/notebooks/seminar-lc4ri/AWS/.log/20200101/20200101-143500-0371.log",
      "/home/user5/notebooks/seminar-lc4ri/AWS/.log/20200108/20200108-102234-0343.log",
      "/home/user2/notebooks/AWS/.log/20200115/20200115-104510-0657.log",
      "/home/user2/notebooks/AWS/.log/20200123/20200123-074218-0910.log",
      "/home/user2/notebooks/AWS/.log/20200127/20200127-020500-0903.log",
      "/home/user2/notebooks/AWS/.log/20200127/20200127-023925-0334.log"
     ]
    },
    "run_through_control": {
     "frozen": true,
     "read_only": false
    }
   },
   "outputs": [
    {
     "name": "stdout",
     "output_type": "stream",
     "text": [
      "deployment.apps/alb-ingress-controller configured\r\n"
     ]
    }
   ],
   "source": [
    "!kubectl apply -f temp/alb-ingress-controller.yaml"
   ]
  },
  {
   "cell_type": "markdown",
   "metadata": {
    "lc_cell_meme": {
     "current": "1fa11378-3786-11ea-b7f6-0242ac120004",
     "history": [
      {
       "current": "1fa11378-3786-11ea-b7f6-0242ac120004",
       "next": "a988bc24-27d4-11ea-874f-0242ac120004",
       "previous": "b5186582-27d2-11ea-874f-0242ac120004"
      }
     ],
     "next": "f5ad855c-3130-11ea-aa2a-0242ac120004",
     "previous": "b5186582-27d2-11ea-874f-0242ac120004"
    }
   },
   "source": [
    "# EFSの構築"
   ]
  },
  {
   "cell_type": "markdown",
   "metadata": {
    "lc_cell_meme": {
     "current": "f5ad855c-3130-11ea-aa2a-0242ac120004",
     "history": [
      {
       "current": "f5ad855c-3130-11ea-aa2a-0242ac120004",
       "next": "f5ad896c-3130-11ea-aa2a-0242ac120004",
       "previous": "b7f14b5a-2180-11ea-852f-0242ac120005"
      }
     ],
     "next": "f5ad896c-3130-11ea-aa2a-0242ac120004",
     "previous": "1fa11378-3786-11ea-b7f6-0242ac120004"
    }
   },
   "source": [
    "■IAMロールの一覧取得\n",
    "\n",
    "■NodeInstanceRoleのロール名をコピー（eksctl-aws-eks-0108-nodegroup-ng-NodeInstanceRole-XGXVUO8O861C）"
   ]
  },
  {
   "cell_type": "code",
   "execution_count": 31,
   "metadata": {
    "deletable": false,
    "editable": false,
    "lc_cell_meme": {
     "current": "f5ad896c-3130-11ea-aa2a-0242ac120004",
     "execution_end_time": "2020-01-27T02:05:20.193884Z",
     "history": [
      {
       "current": "f5ad896c-3130-11ea-aa2a-0242ac120004",
       "next": "553914f0-2182-11ea-852f-0242ac120005",
       "previous": "f5ad855c-3130-11ea-aa2a-0242ac120004"
      },
      {
       "current": "f5ad896c-3130-11ea-aa2a-0242ac120004",
       "next": "31fa8b48-3133-11ea-aa2a-0242ac120004",
       "previous": "f5ad855c-3130-11ea-aa2a-0242ac120004"
      },
      {
       "current": "f5ad896c-3130-11ea-aa2a-0242ac120004",
       "next": "67943b7e-3786-11ea-b7f6-0242ac120004",
       "previous": "f5ad855c-3130-11ea-aa2a-0242ac120004"
      }
     ],
     "next": "cd3a9440-3787-11ea-b7f6-0242ac120004",
     "previous": "f5ad855c-3130-11ea-aa2a-0242ac120004"
    },
    "lc_wrapper": {
     "log_history": [
      "/home/user6/notebooks/.log/20200107/20200107-093449-0605.log",
      "/home/user6/notebooks/.log/20200107/20200107-093715-0401.log",
      "/home/user6/notebooks/.log/20200107/20200107-094407-0625.log",
      "/home/user6/notebooks/.log/20200108/20200108-111409-0819.log",
      "/home/user2/notebooks/AWS/.log/20200115/20200115-110017-0359.log",
      "/home/user2/notebooks/AWS/.log/20200115/20200115-110429-0774.log",
      "/home/user2/notebooks/AWS/.log/20200115/20200115-110449-0832.log",
      "/home/user2/notebooks/AWS/.log/20200115/20200115-110550-0414.log",
      "/home/user2/notebooks/AWS/.log/20200115/20200115-110605-0155.log",
      "/home/user2/notebooks/AWS/.log/20200115/20200115-110618-0417.log",
      "/home/user2/notebooks/AWS/.log/20200115/20200115-110630-0255.log",
      "/home/user2/notebooks/AWS/.log/20200115/20200115-110641-0953.log",
      "/home/user2/notebooks/AWS/.log/20200115/20200115-110648-0774.log",
      "/home/user2/notebooks/AWS/.log/20200115/20200115-110742-0670.log",
      "/home/user2/notebooks/AWS/.log/20200115/20200115-110800-0870.log",
      "/home/user2/notebooks/AWS/.log/20200115/20200115-110807-0213.log",
      "/home/user2/notebooks/AWS/.log/20200115/20200115-110812-0537.log",
      "/home/user2/notebooks/AWS/.log/20200115/20200115-110821-0575.log",
      "/home/user2/notebooks/AWS/.log/20200115/20200115-110825-0321.log",
      "/home/user2/notebooks/AWS/.log/20200115/20200115-110830-0542.log",
      "/home/user2/notebooks/AWS/.log/20200115/20200115-110843-0548.log",
      "/home/user2/notebooks/AWS/.log/20200115/20200115-110847-0856.log",
      "/home/user2/notebooks/AWS/.log/20200115/20200115-110906-0434.log",
      "/home/user2/notebooks/AWS/.log/20200115/20200115-110932-0637.log",
      "/home/user2/notebooks/AWS/.log/20200115/20200115-110941-0354.log",
      "/home/user2/notebooks/AWS/.log/20200115/20200115-111025-0295.log",
      "/home/user2/notebooks/AWS/.log/20200123/20200123-074223-0619.log",
      "/home/user2/notebooks/AWS/.log/20200127/20200127-020519-0278.log"
     ]
    },
    "pinned_outputs": [
     {
      "execution_count": 3,
      "outputs": [
       {
        "name": "stdout",
        "output_type": "stream",
        "text": "{\r\n    \"Roles\": [\r\n        {\r\n            \"Path\": \"/aws-service-role/eks-nodegroup.amazonaws.com/\",\r\n            \"RoleName\": \"AWSServiceRoleForAmazonEKSNodegroup\",\r\n            \"RoleId\": \"AROAYHR56AYKAPYKGC4GW\",\r\n            \"Arn\": \"arn:aws:iam::565991835156:role/aws-service-role/eks-nodegroup.amazonaws.com/AWSServiceRoleForAmazonEKSNodegroup\",\r\n            \"CreateDate\": \"2019-12-11T10:36:56Z\",\r\n            \"AssumeRolePolicyDocument\": {\r\n                \"Version\": \"2012-10-17\",\r\n                \"Statement\": [\r\n                    {\r\n                        \"Effect\": \"Allow\",\r\n                        \"Principal\": {\r\n                            \"Service\": \"eks-nodegroup.amazonaws.com\"\r\n                        },\r\n                        \"Action\": \"sts:AssumeRole\"\r\n                    }\r\n                ]\r\n            },\r\n            \"Description\": \"This policy allows Amazon EKS to create and manage Nodegroups\"\r\n        },\r\n        {\r\n            \"Path\": \"/aws-service-role/elasticfilesystem.amazonaws.com/\",\r\n            \"RoleName\": \"AWSServiceRoleForAmazonElasticFileSystem\",\r\n            \"RoleId\": \"AROAYHR56AYKOYDRGHYX2\",\r\n            \"Arn\": \"arn:aws:iam::565991835156:role/aws-service-role/elasticfilesystem.amazonaws.com/AWSServiceRoleForAmazonElasticFileSystem\",\r\n            \"CreateDate\": \"2019-12-26T10:39:04Z\",\r\n            \"AssumeRolePolicyDocument\": {\r\n                \"Version\": \"2012-10-17\",\r\n                \"Statement\": [\r\n                    {\r\n                        \"Effect\": \"Allow\",\r\n                        \"Principal\": {\r\n                            \"Service\": \"elasticfilesystem.amazonaws.com\"\r\n                        },\r\n                        \"Action\": \"sts:AssumeRole\"\r\n                    }\r\n                ]\r\n            }\r\n        },\r\n        {\r\n            \"Path\": \"/aws-service-role/autoscaling.amazonaws.com/\",\r\n            \"RoleName\": \"AWSServiceRoleForAutoScaling\",\r\n            \"RoleId\": \"AROAYHR56AYKMOPU5KLFZ\",\r\n            \"Arn\": \"arn:aws:iam::565991835156:role/aws-service-role/autoscaling.amazonaws.com/AWSServiceRoleForAutoScaling\",\r\n            \"CreateDate\": \"2019-12-11T04:55:49Z\",\r\n            \"AssumeRolePolicyDocument\": {\r\n                \"Version\": \"2012-10-17\",\r\n                \"Statement\": [\r\n                    {\r\n                        \"Effect\": \"Allow\",\r\n                        \"Principal\": {\r\n                            \"Service\": \"autoscaling.amazonaws.com\"\r\n                        },\r\n                        \"Action\": \"sts:AssumeRole\"\r\n                    }\r\n                ]\r\n            },\r\n            \"Description\": \"Default Service-Linked Role enables access to AWS Services and Resources used or managed by Auto Scaling\"\r\n        },\r\n        {\r\n            \"Path\": \"/aws-service-role/spot.amazonaws.com/\",\r\n            \"RoleName\": \"AWSServiceRoleForEC2Spot\",\r\n            \"RoleId\": \"AROAYHR56AYKJSMXXV2AR\",\r\n            \"Arn\": \"arn:aws:iam::565991835156:role/aws-service-role/spot.amazonaws.com/AWSServiceRoleForEC2Spot\",\r\n            \"CreateDate\": \"2019-12-11T11:44:23Z\",\r\n            \"AssumeRolePolicyDocument\": {\r\n                \"Version\": \"2012-10-17\",\r\n                \"Statement\": [\r\n                    {\r\n                        \"Effect\": \"Allow\",\r\n                        \"Principal\": {\r\n                            \"Service\": \"spot.amazonaws.com\"\r\n                        },\r\n                        \"Action\": \"sts:AssumeRole\"\r\n                    }\r\n                ]\r\n            },\r\n            \"Description\": \"Default EC2 Spot Service Linked Role\"\r\n        },\r\n        {\r\n            \"Path\": \"/aws-service-role/elasticloadbalancing.amazonaws.com/\",\r\n            \"RoleName\": \"AWSServiceRoleForElasticLoadBalancing\",\r\n            \"RoleId\": \"AROAYHR56AYKBQOQHCPPC\",\r\n            \"Arn\": \"arn:aws:iam::565991835156:role/aws-service-role/elasticloadbalancing.amazonaws.com/AWSServiceRoleForElasticLoadBalancing\",\r\n            \"CreateDate\": \"2019-12-18T08:33:36Z\",\r\n            \"AssumeRolePolicyDocument\": {\r\n                \"Version\": \"2012-10-17\",\r\n                \"Statement\": [\r\n                    {\r\n                        \"Effect\": \"Allow\",\r\n                        \"Principal\": {\r\n                            \"Service\": \"elasticloadbalancing.amazonaws.com\"\r\n                        },\r\n                        \"Action\": \"sts:AssumeRole\"\r\n                    }\r\n                ]\r\n            },\r\n            \"Description\": \"Allows ELB to call AWS services on your behalf.\"\r\n        },\r\n        {\r\n            \"Path\": \"/aws-service-role/rds.amazonaws.com/\",\r\n            \"RoleName\": \"AWSServiceRoleForRDS\",\r\n            \"RoleId\": \"AROAYHR56AYKNOZ2I4SOT\",\r\n            \"Arn\": \"arn:aws:iam::565991835156:role/aws-service-role/rds.amazonaws.com/AWSServiceRoleForRDS\",\r\n            \"CreateDate\": \"2019-12-26T01:51:34Z\",\r\n            \"AssumeRolePolicyDocument\": {\r\n                \"Version\": \"2012-10-17\",\r\n                \"Statement\": [\r\n                    {\r\n                        \"Effect\": \"Allow\",\r\n                        \"Principal\": {\r\n                            \"Service\": \"rds.amazonaws.com\"\r\n                        },\r\n                        \"Action\": \"sts:AssumeRole\"\r\n                    }\r\n                ]\r\n            },\r\n            \"Description\": \"Allows Amazon RDS to manage AWS resources on your behalf\"\r\n        },\r\n        {\r\n            \"Path\": \"/aws-service-role/support.amazonaws.com/\",\r\n            \"RoleName\": \"AWSServiceRoleForSupport\",\r\n            \"RoleId\": \"AROAYHR56AYKNH6HXHFAL\",\r\n            \"Arn\": \"arn:aws:iam::565991835156:role/aws-service-role/support.amazonaws.com/AWSServiceRoleForSupport\",\r\n            \"CreateDate\": \"2019-12-04T06:19:48Z\",\r\n            \"AssumeRolePolicyDocument\": {\r\n                \"Version\": \"2012-10-17\",\r\n                \"Statement\": [\r\n                    {\r\n                        \"Effect\": \"Allow\",\r\n                        \"Principal\": {\r\n                            \"Service\": \"support.amazonaws.com\"\r\n                        },\r\n                        \"Action\": \"sts:AssumeRole\"\r\n                    }\r\n                ]\r\n            },\r\n            \"Description\": \"Enables resource access for AWS to provide billing, administrative and support services\"\r\n        },\r\n        {\r\n            \"Path\": \"/aws-service-role/trustedadvisor.amazonaws.com/\",\r\n            \"RoleName\": \"AWSServiceRoleForTrustedAdvisor\",\r\n            \"RoleId\": \"AROAYHR56AYKBQTPSCQ6V\",\r\n            \"Arn\": \"arn:aws:iam::565991835156:role/aws-service-role/trustedadvisor.amazonaws.com/AWSServiceRoleForTrustedAdvisor\",\r\n            \"CreateDate\": \"2019-12-04T06:19:48Z\",\r\n            \"AssumeRolePolicyDocument\": {\r\n                \"Version\": \"2012-10-17\",\r\n                \"Statement\": [\r\n                    {\r\n                        \"Effect\": \"Allow\",\r\n                        \"Principal\": {\r\n                            \"Service\": \"trustedadvisor.amazonaws.com\"\r\n                        },\r\n                        \"Action\": \"sts:AssumeRole\"\r\n                    }\r\n                ]\r\n            },\r\n            \"Description\": \"Access for the AWS Trusted Advisor Service to help reduce cost, increase performance, and improve security of your AWS environment.\"\r\n        },\r\n        {\r\n            \"Path\": \"/\",\r\n            \"RoleName\": \"eksctl-eks-okamura-cluster-FargatePodExecutionRole-1MZBJV4RAJ9CD\",\r\n            \"RoleId\": \"AROAYHR56AYKHVH4XHTI5\",\r\n            \"Arn\": \"arn:aws:iam::565991835156:role/eksctl-eks-okamura-cluster-FargatePodExecutionRole-1MZBJV4RAJ9CD\",\r\n            \"CreateDate\": \"2020-01-07T09:30:39Z\",\r\n            \"AssumeRolePolicyDocument\": {\r\n                \"Version\": \"2012-10-17\",\r\n                \"Statement\": [\r\n                    {\r\n                        \"Effect\": \"Allow\",\r\n                        \"Principal\": {\r\n                            \"Service\": [\r\n                                \"eks-fargate-pods.amazonaws.com\",\r\n                                \"eks.amazonaws.com\"\r\n                            ]\r\n                        },\r\n                        \"Action\": \"sts:AssumeRole\"\r\n                    }\r\n                ]\r\n            },\r\n            \"Description\": \"\"\r\n        },\r\n        {\r\n            \"Path\": \"/\",\r\n            \"RoleName\": \"eksctl-eks-okamura-cluster-ServiceRole-1BVNUJH7YJA1\",\r\n            \"RoleId\": \"AROAYHR56AYKIJQPQUTIL\",\r\n            \"Arn\": \"arn:aws:iam::565991835156:role/eksctl-eks-okamura-cluster-ServiceRole-1BVNUJH7YJA1\",\r\n            \"CreateDate\": \"2020-01-07T09:30:39Z\",\r\n            \"AssumeRolePolicyDocument\": {\r\n                \"Version\": \"2012-10-17\",\r\n                \"Statement\": [\r\n                    {\r\n                        \"Effect\": \"Allow\",\r\n                        \"Principal\": {\r\n                            \"Service\": [\r\n                                \"eks-fargate-pods.amazonaws.com\",\r\n                                \"eks.amazonaws.com\"\r\n                            ]\r\n                        },\r\n                        \"Action\": \"sts:AssumeRole\"\r\n                    }\r\n                ]\r\n            },\r\n            \"Description\": \"\"\r\n        },\r\n        {\r\n            \"Path\": \"/\",\r\n            \"RoleName\": \"eksctl-eks-okamura-nodegroup-oka-NodeInstanceRole-16FTR7XHV6VUQ\",\r\n            \"RoleId\": \"AROAYHR56AYKFLUGQLLLE\",\r\n            \"Arn\": \"arn:aws:iam::565991835156:role/eksctl-eks-okamura-nodegroup-oka-NodeInstanceRole-16FTR7XHV6VUQ\",\r\n            \"CreateDate\": \"2020-01-07T09:41:22Z\",\r\n            \"AssumeRolePolicyDocument\": {\r\n                \"Version\": \"2012-10-17\",\r\n                \"Statement\": [\r\n                    {\r\n                        \"Effect\": \"Allow\",\r\n                        \"Principal\": {\r\n                            \"Service\": \"ec2.amazonaws.com\"\r\n                        },\r\n                        \"Action\": \"sts:AssumeRole\"\r\n                    }\r\n                ]\r\n            },\r\n            \"Description\": \"\"\r\n        },\r\n        {\r\n            \"Path\": \"/\",\r\n            \"RoleName\": \"rds-monitoring-role\",\r\n            \"RoleId\": \"AROAYHR56AYKOFJ6RJNHV\",\r\n            \"Arn\": \"arn:aws:iam::565991835156:role/rds-monitoring-role\",\r\n            \"CreateDate\": \"2019-12-26T04:53:28Z\",\r\n            \"AssumeRolePolicyDocument\": {\r\n                \"Version\": \"2012-10-17\",\r\n                \"Statement\": [\r\n                    {\r\n                        \"Sid\": \"\",\r\n                        \"Effect\": \"Allow\",\r\n                        \"Principal\": {\r\n                            \"Service\": \"monitoring.rds.amazonaws.com\"\r\n                        },\r\n                        \"Action\": \"sts:AssumeRole\"\r\n                    }\r\n                ]\r\n            }\r\n        }\r\n    ]\r\n}\r\n"
       }
      ]
     }
    ],
    "run_through_control": {
     "frozen": true,
     "read_only": false
    },
    "scrolled": true
   },
   "outputs": [
    {
     "name": "stdout",
     "output_type": "stream",
     "text": [
      "eksctl-aws-eks-200127-nodegroup-n-NodeInstanceRole-B5AZPMU1PGAA\n"
     ]
    }
   ],
   "source": [
    "row = !aws iam list-roles | grep '{clusterName}-nodegroup-n-NodeInstanceRole-'\n",
    "\n",
    "\n",
    "import re\n",
    "\n",
    "m = re.search(r'\"RoleName\": \"(.*)\",', row[0])\n",
    "NodeInstanceRole = m.group(1)\n",
    "print(NodeInstanceRole)"
   ]
  },
  {
   "cell_type": "markdown",
   "metadata": {
    "lc_cell_meme": {
     "current": "cd3a9440-3787-11ea-b7f6-0242ac120004",
     "next": "67943b7e-3786-11ea-b7f6-0242ac120004",
     "previous": "f5ad896c-3130-11ea-aa2a-0242ac120004"
    }
   },
   "source": [
    "■ロールにEFSのポリシーをアタッチ"
   ]
  },
  {
   "cell_type": "code",
   "execution_count": 32,
   "metadata": {
    "deletable": false,
    "editable": false,
    "lc_cell_meme": {
     "current": "67943b7e-3786-11ea-b7f6-0242ac120004",
     "execution_end_time": "2020-01-27T02:05:22.189758Z",
     "history": [
      {
       "current": "67943b7e-3786-11ea-b7f6-0242ac120004",
       "next": "67943fd4-3786-11ea-b7f6-0242ac120004",
       "previous": "f5ad896c-3130-11ea-aa2a-0242ac120004"
      },
      {
       "current": "67943b7e-3786-11ea-b7f6-0242ac120004",
       "next": "67943fd4-3786-11ea-b7f6-0242ac120004",
       "previous": "cd3a9440-3787-11ea-b7f6-0242ac120004"
      }
     ],
     "next": "553917ca-2182-11ea-852f-0242ac120005",
     "previous": "cd3a9440-3787-11ea-b7f6-0242ac120004"
    },
    "lc_wrapper": {
     "log_history": [
      "/home/user2/notebooks/AWS/.log/20200115/20200115-111109-0470.log",
      "/home/user2/notebooks/AWS/.log/20200115/20200115-111129-0682.log",
      "/home/user2/notebooks/AWS/.log/20200123/20200123-074227-0944.log",
      "/home/user2/notebooks/AWS/.log/20200127/20200127-020520-0318.log"
     ]
    },
    "run_through_control": {
     "frozen": true,
     "read_only": false
    }
   },
   "outputs": [],
   "source": [
    "!aws iam attach-role-policy --role-name \\\n",
    "{NodeInstanceRole} \\\n",
    "--policy-arn arn:aws:iam::aws:policy/AmazonElasticFileSystemFullAccess"
   ]
  },
  {
   "cell_type": "markdown",
   "metadata": {
    "lc_cell_meme": {
     "current": "553917ca-2182-11ea-852f-0242ac120005",
     "history": [
      {
       "current": "553917ca-2182-11ea-852f-0242ac120005",
       "next": "553918f6-2182-11ea-852f-0242ac120005",
       "previous": "b7f14cd6-2180-11ea-852f-0242ac120005"
      }
     ],
     "next": "553918f6-2182-11ea-852f-0242ac120005",
     "previous": "67943b7e-3786-11ea-b7f6-0242ac120004"
    }
   },
   "source": [
    "■!awsを入れて、再実行→成功 (プレビュー版ではなく、正式版になっている)"
   ]
  },
  {
   "cell_type": "code",
   "execution_count": 33,
   "metadata": {
    "deletable": false,
    "editable": false,
    "lc_cell_meme": {
     "current": "553918f6-2182-11ea-852f-0242ac120005",
     "execution_end_time": "2020-01-27T02:05:23.847068Z",
     "next": "553919e6-2182-11ea-852f-0242ac120005",
     "previous": "553917ca-2182-11ea-852f-0242ac120005"
    },
    "lc_wrapper": {
     "log_history": [
      "/home/user6/notebooks/users/user6/.log/20191218/20191218-102949-0402.log",
      "/home/user6/notebooks/.log/20191226/20191226-102816-0529.log",
      "/home/user6/notebooks/.log/20200107/20200107-095653-0174.log",
      "/home/user6/notebooks/.log/20200107/20200107-095937-0484.log",
      "/home/user6/notebooks/.log/20200108/20200108-111605-0594.log",
      "/home/user2/notebooks/AWS/.log/20200115/20200115-111233-0321.log",
      "/home/user2/notebooks/AWS/.log/20200123/20200123-074231-0388.log",
      "/home/user2/notebooks/AWS/.log/20200127/20200127-020522-0197.log"
     ]
    },
    "pinned_outputs": [
     {
      "execution_count": 3,
      "outputs": [
       {
        "name": "stdout",
        "output_type": "stream",
        "text": "{\r\n    \"OwnerId\": \"565991835156\",\r\n    \"CreationToken\": \"EFS-sample\",\r\n    \"FileSystemId\": \"fs-279c528d\",\r\n    \"CreationTime\": 1576664990.0,\r\n    \"LifeCycleState\": \"creating\",\r\n    \"NumberOfMountTargets\": 0,\r\n    \"SizeInBytes\": {\r\n        \"Value\": 0\r\n    },\r\n    \"PerformanceMode\": \"generalPurpose\",\r\n    \"Encrypted\": false\r\n}\r\n"
       }
      ]
     }
    ],
    "run_through_control": {
     "frozen": true,
     "read_only": false
    }
   },
   "outputs": [
    {
     "name": "stdout",
     "output_type": "stream",
     "text": [
      "{\r\n",
      "    \"OwnerId\": \"565991835156\",\r\n",
      "    \"CreationToken\": \"EFS-topse\",\r\n",
      "    \"FileSystemId\": \"fs-92bb0f38\",\r\n",
      "    \"CreationTime\": 1580090723.0,\r\n",
      "    \"LifeCycleState\": \"creating\",\r\n",
      "    \"NumberOfMountTargets\": 0,\r\n",
      "    \"SizeInBytes\": {\r\n",
      "        \"Value\": 0,\r\n",
      "        \"ValueInIA\": 0,\r\n",
      "        \"ValueInStandard\": 0\r\n",
      "    },\r\n",
      "    \"PerformanceMode\": \"generalPurpose\",\r\n",
      "    \"Encrypted\": false,\r\n",
      "    \"ThroughputMode\": \"bursting\",\r\n",
      "    \"Tags\": []\r\n",
      "}\r\n"
     ]
    }
   ],
   "source": [
    "!aws efs create-file-system \\\n",
    "--creation-token \"EFS-topse\" \\\n",
    "--performance-mode \"generalPurpose\""
   ]
  },
  {
   "cell_type": "markdown",
   "metadata": {
    "lc_cell_meme": {
     "current": "553919e6-2182-11ea-852f-0242ac120005",
     "next": "55391ad6-2182-11ea-852f-0242ac120005",
     "previous": "553918f6-2182-11ea-852f-0242ac120005"
    }
   },
   "source": [
    "■EFSの作成確認とFileSystemIdの取り出し"
   ]
  },
  {
   "cell_type": "code",
   "execution_count": 34,
   "metadata": {
    "deletable": false,
    "editable": false,
    "lc_cell_meme": {
     "current": "55391ad6-2182-11ea-852f-0242ac120005",
     "execution_end_time": "2020-01-27T02:05:24.649740Z",
     "history": [
      {
       "current": "55391ad6-2182-11ea-852f-0242ac120005",
       "next": "55391bb2-2182-11ea-852f-0242ac120005",
       "previous": "553919e6-2182-11ea-852f-0242ac120005"
      },
      {
       "current": "55391ad6-2182-11ea-852f-0242ac120005",
       "next": "67943fd4-3786-11ea-b7f6-0242ac120004",
       "previous": "553919e6-2182-11ea-852f-0242ac120005"
      }
     ],
     "next": "55391bb2-2182-11ea-852f-0242ac120005",
     "previous": "553919e6-2182-11ea-852f-0242ac120005"
    },
    "lc_wrapper": {
     "log_history": [
      "/home/user6/notebooks/users/user6/.log/20191218/20191218-102845-0164.log",
      "/home/user6/notebooks/users/user6/.log/20191218/20191218-103131-0640.log",
      "/home/user6/notebooks/.log/20191226/20191226-102835-0831.log",
      "/home/user6/notebooks/.log/20200107/20200107-095945-0115.log",
      "/home/user6/notebooks/.log/20200108/20200108-111613-0388.log",
      "/home/user2/notebooks/AWS/.log/20200115/20200115-111256-0812.log",
      "/home/user2/notebooks/AWS/.log/20200115/20200115-111413-0399.log",
      "/home/user2/notebooks/AWS/.log/20200115/20200115-111442-0924.log",
      "/home/user2/notebooks/AWS/.log/20200115/20200115-111449-0230.log",
      "/home/user2/notebooks/AWS/.log/20200123/20200123-074237-0215.log",
      "/home/user2/notebooks/AWS/.log/20200127/20200127-020523-0854.log"
     ]
    },
    "run_through_control": {
     "frozen": true,
     "read_only": false
    },
    "scrolled": true
   },
   "outputs": [
    {
     "name": "stdout",
     "output_type": "stream",
     "text": [
      "['            \"FileSystemId\": \"fs-92bb0f38\",']\n",
      "fs-92bb0f38\n"
     ]
    }
   ],
   "source": [
    "row = !aws efs describe-file-systems --creation-token \"EFS-topse\" | grep FileSystemId\n",
    "print(row)\n",
    "\n",
    "import re\n",
    "m = re.search(r'\"FileSystemId\": \"(.*)\",', row[0])\n",
    "FileSystemId = m.group(1)\n",
    "print(FileSystemId)"
   ]
  },
  {
   "cell_type": "markdown",
   "metadata": {
    "lc_cell_meme": {
     "current": "55391bb2-2182-11ea-852f-0242ac120005",
     "next": "55391c98-2182-11ea-852f-0242ac120005",
     "previous": "55391ad6-2182-11ea-852f-0242ac120005"
    }
   },
   "source": [
    "■Nameタグ付け"
   ]
  },
  {
   "cell_type": "code",
   "execution_count": 35,
   "metadata": {
    "deletable": false,
    "editable": false,
    "lc_cell_meme": {
     "current": "55391c98-2182-11ea-852f-0242ac120005",
     "execution_end_time": "2020-01-27T02:05:28.069064Z",
     "next": "55391d7e-2182-11ea-852f-0242ac120005",
     "previous": "55391bb2-2182-11ea-852f-0242ac120005"
    },
    "lc_wrapper": {
     "log_history": [
      "/home/user6/notebooks/users/user6/.log/20191218/20191218-103311-0914.log",
      "/home/user6/notebooks/.log/20191226/20191226-102900-0665.log",
      "/home/user6/notebooks/.log/20200107/20200107-100036-0780.log",
      "/home/user6/notebooks/.log/20200108/20200108-111916-0185.log",
      "/home/user2/notebooks/AWS/.log/20200115/20200115-111619-0756.log",
      "/home/user2/notebooks/AWS/.log/20200123/20200123-074238-0975.log",
      "/home/user2/notebooks/AWS/.log/20200127/20200127-020526-0400.log"
     ]
    },
    "run_through_control": {
     "frozen": true,
     "read_only": false
    }
   },
   "outputs": [],
   "source": [
    "!aws efs create-tags --file-system-id {FileSystemId} --tags \"Key=Name,Value={clusterName}\""
   ]
  },
  {
   "cell_type": "markdown",
   "metadata": {
    "lc_cell_meme": {
     "current": "55391d7e-2182-11ea-852f-0242ac120005",
     "next": "55391e5a-2182-11ea-852f-0242ac120005",
     "previous": "55391c98-2182-11ea-852f-0242ac120005"
    }
   },
   "source": [
    "■Nameタグ付け確認"
   ]
  },
  {
   "cell_type": "code",
   "execution_count": 36,
   "metadata": {
    "deletable": false,
    "editable": false,
    "lc_cell_meme": {
     "current": "55391e5a-2182-11ea-852f-0242ac120005",
     "execution_end_time": "2020-01-27T02:05:29.657763Z",
     "history": [
      {
       "current": "55391e5a-2182-11ea-852f-0242ac120005",
       "next": "55391f40-2182-11ea-852f-0242ac120005",
       "previous": "55391d7e-2182-11ea-852f-0242ac120005"
      },
      {
       "current": "55391e5a-2182-11ea-852f-0242ac120005",
       "next": "ded9bfa4-3134-11ea-aa2a-0242ac120004",
       "previous": "55391d7e-2182-11ea-852f-0242ac120005"
      },
      {
       "current": "55391e5a-2182-11ea-852f-0242ac120005",
       "next": "67943fd4-3786-11ea-b7f6-0242ac120004",
       "previous": "55391d7e-2182-11ea-852f-0242ac120005"
      },
      {
       "current": "55391e5a-2182-11ea-852f-0242ac120005",
       "next": "ded9bfa4-3134-11ea-aa2a-0242ac120004",
       "previous": "55391d7e-2182-11ea-852f-0242ac120005"
      },
      {
       "current": "55391e5a-2182-11ea-852f-0242ac120005",
       "next": "3269837a-3789-11ea-b7f6-0242ac120004",
       "previous": "55391d7e-2182-11ea-852f-0242ac120005"
      }
     ],
     "next": "ded9bfa4-3134-11ea-aa2a-0242ac120004",
     "previous": "55391d7e-2182-11ea-852f-0242ac120005"
    },
    "lc_wrapper": {
     "log_history": [
      "/home/user6/notebooks/users/user6/.log/20191218/20191218-103403-0257.log",
      "/home/user6/notebooks/.log/20191226/20191226-102907-0126.log",
      "/home/user6/notebooks/.log/20200107/20200107-100046-0378.log",
      "/home/user6/notebooks/.log/20200108/20200108-111945-0866.log",
      "/home/user2/notebooks/AWS/.log/20200115/20200115-111627-0200.log",
      "/home/user2/notebooks/AWS/.log/20200123/20200123-074240-0713.log",
      "/home/user2/notebooks/AWS/.log/20200127/20200127-020528-0077.log"
     ]
    },
    "run_through_control": {
     "frozen": true,
     "read_only": false
    },
    "scrolled": true
   },
   "outputs": [
    {
     "name": "stdout",
     "output_type": "stream",
     "text": [
      "{\r\n",
      "    \"Tags\": [\r\n",
      "        {\r\n",
      "            \"Key\": \"Name\",\r\n",
      "            \"Value\": \"aws-eks-200127\"\r\n",
      "        }\r\n",
      "    ]\r\n",
      "}\r\n"
     ]
    }
   ],
   "source": [
    "!aws efs describe-tags --file-system-id {FileSystemId}"
   ]
  },
  {
   "cell_type": "markdown",
   "metadata": {
    "lc_cell_meme": {
     "current": "ded9bfa4-3134-11ea-aa2a-0242ac120004",
     "history": [
      {
       "current": "ded9bfa4-3134-11ea-aa2a-0242ac120004",
       "next": "ded9c288-3134-11ea-aa2a-0242ac120004",
       "previous": "55391e5a-2182-11ea-852f-0242ac120005"
      }
     ],
     "next": "3269837a-3789-11ea-b7f6-0242ac120004",
     "previous": "55391e5a-2182-11ea-852f-0242ac120005"
    }
   },
   "source": [
    "■eksのセキュリティグループとサブネットIDの確認"
   ]
  },
  {
   "cell_type": "markdown",
   "metadata": {
    "lc_cell_meme": {
     "current": "3269837a-3789-11ea-b7f6-0242ac120004",
     "history": [
      {
       "current": "3269837a-3789-11ea-b7f6-0242ac120004",
       "next": "cceef504-2183-11ea-852f-0242ac120005",
       "previous": "55391e5a-2182-11ea-852f-0242ac120005"
      },
      {
       "current": "3269837a-3789-11ea-b7f6-0242ac120004",
       "next": "7a128942-3789-11ea-b7f6-0242ac120004",
       "previous": "55391e5a-2182-11ea-852f-0242ac120005"
      }
     ],
     "next": "7a128942-3789-11ea-b7f6-0242ac120004",
     "previous": "ded9bfa4-3134-11ea-aa2a-0242ac120004"
    }
   },
   "source": [
    "クラスターセキュリティーグループのIDの取得"
   ]
  },
  {
   "cell_type": "code",
   "execution_count": 37,
   "metadata": {
    "deletable": false,
    "editable": false,
    "lc_cell_meme": {
     "current": "7a128942-3789-11ea-b7f6-0242ac120004",
     "execution_end_time": "2020-01-27T02:05:30.393834Z",
     "next": "cceef504-2183-11ea-852f-0242ac120005",
     "previous": "3269837a-3789-11ea-b7f6-0242ac120004"
    },
    "lc_wrapper": {
     "log_history": [
      "/home/user2/notebooks/AWS/.log/20200115/20200115-112159-0719.log",
      "/home/user2/notebooks/AWS/.log/20200115/20200115-112215-0695.log",
      "/home/user2/notebooks/AWS/.log/20200115/20200115-112256-0586.log",
      "/home/user2/notebooks/AWS/.log/20200115/20200115-112302-0530.log",
      "/home/user2/notebooks/AWS/.log/20200115/20200115-112332-0797.log",
      "/home/user2/notebooks/AWS/.log/20200115/20200115-112418-0159.log",
      "/home/user2/notebooks/AWS/.log/20200123/20200123-074244-0775.log",
      "/home/user2/notebooks/AWS/.log/20200127/20200127-020529-0665.log"
     ]
    },
    "run_through_control": {
     "frozen": true,
     "read_only": false
    }
   },
   "outputs": [
    {
     "name": "stdout",
     "output_type": "stream",
     "text": [
      "'sg-0c89e8bbad963aa10'\n"
     ]
    }
   ],
   "source": [
    "row = !aws eks describe-cluster --name {clusterName}\n",
    "\n",
    "import json\n",
    "\n",
    "while row[0].find('{') == -1:\n",
    "    del row[0]\n",
    "row[0] = \"{\"\n",
    "\n",
    "clusterSecurityGroupId =json.loads(''.join(row))['cluster']['resourcesVpcConfig']['clusterSecurityGroupId']\n",
    "pprint.pprint(clusterSecurityGroupId)\n"
   ]
  },
  {
   "cell_type": "markdown",
   "metadata": {
    "lc_cell_meme": {
     "current": "cceef504-2183-11ea-852f-0242ac120005",
     "history": [
      {
       "current": "cceef504-2183-11ea-852f-0242ac120005",
       "next": "cceef676-2183-11ea-852f-0242ac120005",
       "previous": "cceef22a-2183-11ea-852f-0242ac120005"
      },
      {
       "current": "cceef504-2183-11ea-852f-0242ac120005",
       "next": "cceef676-2183-11ea-852f-0242ac120005",
       "previous": "269493b4-3135-11ea-aa2a-0242ac120004"
      },
      {
       "current": "cceef504-2183-11ea-852f-0242ac120005",
       "next": "cceef676-2183-11ea-852f-0242ac120005",
       "previous": "ded9c288-3134-11ea-aa2a-0242ac120004"
      },
      {
       "current": "cceef504-2183-11ea-852f-0242ac120005",
       "next": "cceef676-2183-11ea-852f-0242ac120005",
       "previous": "3269837a-3789-11ea-b7f6-0242ac120004"
      }
     ],
     "next": "cceef676-2183-11ea-852f-0242ac120005",
     "previous": "7a128942-3789-11ea-b7f6-0242ac120004"
    }
   },
   "source": [
    "■マウントターゲット作成\n",
    "\n",
    "プライベートのサブネットを指定する"
   ]
  },
  {
   "cell_type": "code",
   "execution_count": 38,
   "metadata": {
    "deletable": false,
    "editable": false,
    "lc_cell_meme": {
     "current": "cceef676-2183-11ea-852f-0242ac120005",
     "execution_end_time": "2020-01-27T02:05:34.031895Z",
     "history": [
      {
       "current": "cceef676-2183-11ea-852f-0242ac120005",
       "next": "cceef7a2-2183-11ea-852f-0242ac120005",
       "previous": "cceef504-2183-11ea-852f-0242ac120005"
      }
     ],
     "next": "96d58d3c-320b-11ea-a2e8-0242ac120007",
     "previous": "cceef504-2183-11ea-852f-0242ac120005"
    },
    "lc_wrapper": {
     "log_history": [
      "/home/user6/notebooks/users/user6/.log/20191218/20191218-104201-0909.log",
      "/home/user6/notebooks/.log/20191226/20191226-103903-0090.log",
      "/home/user6/notebooks/.log/20200107/20200107-101307-0610.log",
      "/home/user6/notebooks/.log/20200108/20200108-113840-0228.log",
      "/home/user2/notebooks/AWS/.log/20200115/20200115-112434-0425.log",
      "/home/user2/notebooks/AWS/.log/20200123/20200123-074247-0116.log",
      "/home/user2/notebooks/AWS/.log/20200127/20200127-020531-0966.log"
     ]
    },
    "pinned_outputs": [],
    "run_through_control": {
     "frozen": true,
     "read_only": false
    }
   },
   "outputs": [
    {
     "name": "stdout",
     "output_type": "stream",
     "text": [
      "{\r\n",
      "    \"OwnerId\": \"565991835156\",\r\n",
      "    \"MountTargetId\": \"fsmt-12c485ba\",\r\n",
      "    \"FileSystemId\": \"fs-92bb0f38\",\r\n",
      "    \"SubnetId\": \"subnet-0914edd00a3a9a9e5\",\r\n",
      "    \"LifeCycleState\": \"creating\",\r\n",
      "    \"IpAddress\": \"10.0.65.148\",\r\n",
      "    \"NetworkInterfaceId\": \"eni-01dbe9ea57686e088\"\r\n",
      "}\r\n"
     ]
    }
   ],
   "source": [
    "!aws efs create-mount-target \\\n",
    "--file-system-id {FileSystemId} \\\n",
    "--subnet-id {privateSubnets['Subnets'][0]['SubnetId']} \\\n",
    "--security-group {clusterSecurityGroupId}"
   ]
  },
  {
   "cell_type": "code",
   "execution_count": 39,
   "metadata": {
    "deletable": false,
    "editable": false,
    "lc_cell_meme": {
     "current": "96d58d3c-320b-11ea-a2e8-0242ac120007",
     "execution_end_time": "2020-01-27T02:05:40.089905Z",
     "history": [
      {
       "current": "96d58d3c-320b-11ea-a2e8-0242ac120007",
       "next": "cceef7a2-2183-11ea-852f-0242ac120005",
       "previous": "cceef676-2183-11ea-852f-0242ac120005"
      },
      {
       "current": "96d58d3c-320b-11ea-a2e8-0242ac120007",
       "next": "67943fd4-3786-11ea-b7f6-0242ac120004",
       "previous": "cceef676-2183-11ea-852f-0242ac120005"
      }
     ],
     "next": "cceef7a2-2183-11ea-852f-0242ac120005",
     "previous": "cceef676-2183-11ea-852f-0242ac120005"
    },
    "lc_wrapper": {
     "log_history": [
      "/home/user6/notebooks/.log/20200108/20200108-113903-0877.log",
      "/home/user2/notebooks/AWS/.log/20200115/20200115-112446-0797.log",
      "/home/user2/notebooks/AWS/.log/20200123/20200123-074249-0918.log",
      "/home/user2/notebooks/AWS/.log/20200127/20200127-020537-0935.log"
     ]
    },
    "run_through_control": {
     "frozen": true,
     "read_only": false
    }
   },
   "outputs": [
    {
     "name": "stdout",
     "output_type": "stream",
     "text": [
      "{\r\n",
      "    \"OwnerId\": \"565991835156\",\r\n",
      "    \"MountTargetId\": \"fsmt-13c485bb\",\r\n",
      "    \"FileSystemId\": \"fs-92bb0f38\",\r\n",
      "    \"SubnetId\": \"subnet-07d10435b2f2773af\",\r\n",
      "    \"LifeCycleState\": \"creating\",\r\n",
      "    \"IpAddress\": \"10.0.114.195\",\r\n",
      "    \"NetworkInterfaceId\": \"eni-039a5cc2931f9ed4b\"\r\n",
      "}\r\n"
     ]
    }
   ],
   "source": [
    "!aws efs create-mount-target \\\n",
    "--file-system-id {FileSystemId} \\\n",
    "--subnet-id {privateSubnets['Subnets'][1]['SubnetId']} \\\n",
    "--security-group {clusterSecurityGroupId}"
   ]
  },
  {
   "cell_type": "markdown",
   "metadata": {
    "lc_cell_meme": {
     "current": "cceef7a2-2183-11ea-852f-0242ac120005",
     "history": [
      {
       "current": "cceef7a2-2183-11ea-852f-0242ac120005",
       "next": "cceef8c4-2183-11ea-852f-0242ac120005",
       "previous": "cceef676-2183-11ea-852f-0242ac120005"
      }
     ],
     "next": "cceef8c4-2183-11ea-852f-0242ac120005",
     "previous": "96d58d3c-320b-11ea-a2e8-0242ac120007"
    }
   },
   "source": [
    "■マウントターゲット作成確認"
   ]
  },
  {
   "cell_type": "code",
   "execution_count": 40,
   "metadata": {
    "deletable": false,
    "editable": false,
    "lc_cell_meme": {
     "current": "cceef8c4-2183-11ea-852f-0242ac120005",
     "execution_end_time": "2020-01-27T02:05:46.695071Z",
     "history": [
      {
       "current": "cceef8c4-2183-11ea-852f-0242ac120005",
       "next": "cceef9f0-2183-11ea-852f-0242ac120005",
       "previous": "cceef7a2-2183-11ea-852f-0242ac120005"
      },
      {
       "current": "cceef8c4-2183-11ea-852f-0242ac120005",
       "next": "334b308e-2188-11ea-852f-0242ac120005",
       "previous": "cceef7a2-2183-11ea-852f-0242ac120005"
      },
      {
       "current": "cceef8c4-2183-11ea-852f-0242ac120005",
       "next": "d3cf5f04-3136-11ea-aa2a-0242ac120004",
       "previous": "cceef7a2-2183-11ea-852f-0242ac120005"
      }
     ],
     "next": "67943fd4-3786-11ea-b7f6-0242ac120004",
     "previous": "cceef7a2-2183-11ea-852f-0242ac120005"
    },
    "lc_wrapper": {
     "log_history": [
      "/home/user6/notebooks/users/user6/.log/20191218/20191218-104340-0836.log",
      "/home/user6/notebooks/.log/20191226/20191226-104002-0392.log",
      "/home/user6/notebooks/.log/20200107/20200107-101336-0865.log",
      "/home/user6/notebooks/.log/20200108/20200108-113923-0829.log",
      "/home/user6/notebooks/.log/20200108/20200108-113941-0087.log",
      "/home/user6/notebooks/.log/20200108/20200108-114002-0126.log",
      "/home/user6/notebooks/.log/20200108/20200108-114011-0228.log",
      "/home/user2/notebooks/AWS/.log/20200115/20200115-112519-0944.log",
      "/home/user2/notebooks/AWS/.log/20200123/20200123-074253-0548.log",
      "/home/user2/notebooks/AWS/.log/20200127/20200127-020545-0070.log"
     ]
    },
    "pinned_outputs": [],
    "run_through_control": {
     "frozen": true,
     "read_only": false
    },
    "scrolled": false
   },
   "outputs": [
    {
     "name": "stdout",
     "output_type": "stream",
     "text": [
      "{\r\n",
      "    \"MountTargets\": [\r\n",
      "        {\r\n",
      "            \"OwnerId\": \"565991835156\",\r\n",
      "            \"MountTargetId\": \"fsmt-12c485ba\",\r\n",
      "            \"FileSystemId\": \"fs-92bb0f38\",\r\n",
      "            \"SubnetId\": \"subnet-0914edd00a3a9a9e5\",\r\n",
      "            \"LifeCycleState\": \"creating\",\r\n",
      "            \"IpAddress\": \"10.0.65.148\",\r\n",
      "            \"NetworkInterfaceId\": \"eni-01dbe9ea57686e088\"\r\n",
      "        },\r\n",
      "        {\r\n",
      "            \"OwnerId\": \"565991835156\",\r\n",
      "            \"MountTargetId\": \"fsmt-13c485bb\",\r\n",
      "            \"FileSystemId\": \"fs-92bb0f38\",\r\n",
      "            \"SubnetId\": \"subnet-07d10435b2f2773af\",\r\n",
      "            \"LifeCycleState\": \"creating\",\r\n",
      "            \"IpAddress\": \"10.0.114.195\",\r\n",
      "            \"NetworkInterfaceId\": \"eni-039a5cc2931f9ed4b\"\r\n",
      "        }\r\n",
      "    ]\r\n",
      "}\r\n"
     ]
    }
   ],
   "source": [
    "!aws efs describe-mount-targets \\\n",
    "--file-system-id {FileSystemId}"
   ]
  },
  {
   "cell_type": "markdown",
   "metadata": {
    "lc_cell_meme": {
     "current": "67943fd4-3786-11ea-b7f6-0242ac120004",
     "execution_end_time": "2020-01-15T11:47:20.816489Z",
     "history": [
      {
       "current": "67943fd4-3786-11ea-b7f6-0242ac120004",
       "next": "679441b4-3786-11ea-b7f6-0242ac120004",
       "previous": "67943b7e-3786-11ea-b7f6-0242ac120004"
      },
      {
       "current": "67943fd4-3786-11ea-b7f6-0242ac120004",
       "next": "679441b4-3786-11ea-b7f6-0242ac120004",
       "previous": "55391ad6-2182-11ea-852f-0242ac120005"
      },
      {
       "current": "67943fd4-3786-11ea-b7f6-0242ac120004",
       "next": "679441b4-3786-11ea-b7f6-0242ac120004",
       "previous": "55391e5a-2182-11ea-852f-0242ac120005"
      },
      {
       "current": "67943fd4-3786-11ea-b7f6-0242ac120004",
       "next": "679441b4-3786-11ea-b7f6-0242ac120004",
       "previous": "ded9c288-3134-11ea-aa2a-0242ac120004"
      },
      {
       "current": "67943fd4-3786-11ea-b7f6-0242ac120004",
       "next": "679441b4-3786-11ea-b7f6-0242ac120004",
       "previous": "96d58d3c-320b-11ea-a2e8-0242ac120007"
      }
     ],
     "next": "679441b4-3786-11ea-b7f6-0242ac120004",
     "previous": "cceef8c4-2183-11ea-852f-0242ac120005"
    },
    "lc_wrapper": {
     "log_history": [
      "/home/user2/notebooks/AWS/.log/20200115/20200115-114037-0684.log",
      "/home/user2/notebooks/AWS/.log/20200115/20200115-114718-0925.log"
     ]
    }
   },
   "source": [
    "セキュリティグループの取り出し"
   ]
  },
  {
   "cell_type": "code",
   "execution_count": 41,
   "metadata": {
    "deletable": false,
    "editable": false,
    "lc_cell_meme": {
     "current": "679441b4-3786-11ea-b7f6-0242ac120004",
     "execution_end_time": "2020-01-27T02:05:48.576267Z",
     "next": "6794429a-3786-11ea-b7f6-0242ac120004",
     "previous": "67943fd4-3786-11ea-b7f6-0242ac120004"
    },
    "lc_wrapper": {
     "log_history": [
      "/home/user2/notebooks/AWS/.log/20200115/20200115-113939-0493.log",
      "/home/user2/notebooks/AWS/.log/20200115/20200115-114015-0352.log",
      "/home/user2/notebooks/AWS/.log/20200115/20200115-114422-0443.log",
      "/home/user2/notebooks/AWS/.log/20200115/20200115-114434-0458.log",
      "/home/user2/notebooks/AWS/.log/20200115/20200115-114442-0655.log",
      "/home/user2/notebooks/AWS/.log/20200115/20200115-114535-0035.log",
      "/home/user2/notebooks/AWS/.log/20200115/20200115-114638-0361.log",
      "/home/user2/notebooks/AWS/.log/20200115/20200115-114655-0851.log",
      "/home/user2/notebooks/AWS/.log/20200115/20200115-114702-0229.log",
      "/home/user2/notebooks/AWS/.log/20200115/20200115-114821-0591.log",
      "/home/user2/notebooks/AWS/.log/20200115/20200115-114833-0406.log",
      "/home/user2/notebooks/AWS/.log/20200115/20200115-114906-0152.log",
      "/home/user2/notebooks/AWS/.log/20200115/20200115-114938-0741.log",
      "/home/user2/notebooks/AWS/.log/20200115/20200115-114955-0119.log",
      "/home/user2/notebooks/AWS/.log/20200115/20200115-115005-0086.log",
      "/home/user2/notebooks/AWS/.log/20200115/20200115-115036-0999.log",
      "/home/user2/notebooks/AWS/.log/20200115/20200115-115047-0162.log",
      "/home/user2/notebooks/AWS/.log/20200115/20200115-115110-0259.log",
      "/home/user2/notebooks/AWS/.log/20200115/20200115-121637-0843.log",
      "/home/user2/notebooks/AWS/.log/20200123/20200123-074257-0560.log",
      "/home/user2/notebooks/AWS/.log/20200127/20200127-020547-0680.log"
     ]
    },
    "run_through_control": {
     "frozen": true,
     "read_only": false
    }
   },
   "outputs": [
    {
     "name": "stdout",
     "output_type": "stream",
     "text": [
      "sg-0f4acf78034eab547\n",
      "sg-0d128064e566b1e11\n"
     ]
    }
   ],
   "source": [
    "row = !aws ec2 describe-security-groups\n",
    "import json\n",
    "\n",
    "while row[0].find('{') == -1:\n",
    "    del row[0]\n",
    "row[0] = \"{\"\n",
    "SecurityGrrowoups =json.loads(''.join(row))\n",
    "\n",
    "ControlPlaneSecurityGroup = \"\"\n",
    "ClusterSharedNodeSecurityGroup = \"\"\n",
    "\n",
    "for sg in SecurityGrrowoups['SecurityGroups']:\n",
    "    \n",
    "    if  \"ControlPlaneSecurityGroup\" in sg[\"GroupName\"]:\n",
    "        ControlPlaneSecurityGroup = sg[\"GroupId\"]\n",
    "    \n",
    "    if \"ClusterSharedNodeSecurityGroup\" in sg[\"GroupName\"]:\n",
    "        ClusterSharedNodeSecurityGroup = sg[\"GroupId\"]\n",
    "\n",
    "print(ControlPlaneSecurityGroup)\n",
    "print(ClusterSharedNodeSecurityGroup)"
   ]
  },
  {
   "cell_type": "markdown",
   "metadata": {
    "lc_cell_meme": {
     "current": "6794429a-3786-11ea-b7f6-0242ac120004",
     "history": [
      {
       "current": "6794429a-3786-11ea-b7f6-0242ac120004",
       "next": "6794436c-3786-11ea-b7f6-0242ac120004",
       "previous": "679441b4-3786-11ea-b7f6-0242ac120004"
      }
     ],
     "next": "67944448-3786-11ea-b7f6-0242ac120004",
     "previous": "679441b4-3786-11ea-b7f6-0242ac120004"
    }
   },
   "source": [
    "セキュリティグループ間のNFSインバウンドルールの追加"
   ]
  },
  {
   "cell_type": "code",
   "execution_count": 42,
   "metadata": {
    "deletable": false,
    "editable": false,
    "lc_cell_meme": {
     "current": "67944448-3786-11ea-b7f6-0242ac120004",
     "execution_end_time": "2020-01-27T02:05:52.987682Z",
     "history": [
      {
       "current": "67944448-3786-11ea-b7f6-0242ac120004",
       "next": "67944510-3786-11ea-b7f6-0242ac120004",
       "previous": "6794436c-3786-11ea-b7f6-0242ac120004"
      }
     ],
     "next": "67944510-3786-11ea-b7f6-0242ac120004",
     "previous": "6794429a-3786-11ea-b7f6-0242ac120004"
    },
    "lc_wrapper": {
     "log_history": [
      "/home/user6/.log/20200115/20200115-120911-0486.log",
      "/home/user2/notebooks/AWS/.log/20200123/20200123-074259-0750.log",
      "/home/user2/notebooks/AWS/.log/20200127/20200127-020551-0175.log"
     ]
    },
    "run_through_control": {
     "frozen": true,
     "read_only": false
    }
   },
   "outputs": [],
   "source": [
    "!aws ec2 authorize-security-group-ingress --group-id {ControlPlaneSecurityGroup} \\\n",
    "--protocol tcp --port 2049 --source-group {ClusterSharedNodeSecurityGroup}"
   ]
  },
  {
   "cell_type": "code",
   "execution_count": 43,
   "metadata": {
    "deletable": false,
    "editable": false,
    "lc_cell_meme": {
     "current": "67944510-3786-11ea-b7f6-0242ac120004",
     "execution_end_time": "2020-01-27T02:05:54.743961Z",
     "history": [
      {
       "current": "67944510-3786-11ea-b7f6-0242ac120004",
       "next": "679445d8-3786-11ea-b7f6-0242ac120004",
       "previous": "67944448-3786-11ea-b7f6-0242ac120004"
      },
      {
       "current": "67944510-3786-11ea-b7f6-0242ac120004",
       "next": "091b344a-378a-11ea-b7f6-0242ac120004",
       "previous": "67944448-3786-11ea-b7f6-0242ac120004"
      },
      {
       "current": "67944510-3786-11ea-b7f6-0242ac120004",
       "next": "091b36c0-378a-11ea-b7f6-0242ac120004",
       "previous": "67944448-3786-11ea-b7f6-0242ac120004"
      }
     ],
     "next": "992f51fe-3dc7-11ea-bfd5-0242ac120005",
     "previous": "67944448-3786-11ea-b7f6-0242ac120004"
    },
    "lc_wrapper": {
     "log_history": [
      "/home/user6/.log/20200115/20200115-121032-0356.log",
      "/home/user2/notebooks/AWS/.log/20200123/20200123-074302-0121.log",
      "/home/user2/notebooks/AWS/.log/20200127/20200127-020552-0995.log"
     ]
    },
    "run_through_control": {
     "frozen": true,
     "read_only": false
    }
   },
   "outputs": [],
   "source": [
    "!aws ec2 authorize-security-group-ingress --group-id {ClusterSharedNodeSecurityGroup} \\\n",
    "--protocol tcp --port 2049 --source-group {ControlPlaneSecurityGroup}"
   ]
  },
  {
   "cell_type": "markdown",
   "metadata": {
    "lc_cell_meme": {
     "current": "992f51fe-3dc7-11ea-bfd5-0242ac120005",
     "history": [
      {
       "current": "992f51fe-3dc7-11ea-bfd5-0242ac120005",
       "next": "992f546a-3dc7-11ea-bfd5-0242ac120005",
       "previous": "67944510-3786-11ea-b7f6-0242ac120004"
      }
     ],
     "next": "e0d66790-3dc7-11ea-bfd5-0242ac120005",
     "previous": "67944510-3786-11ea-b7f6-0242ac120004"
    }
   },
   "source": [
    "efs-provisioner を使用して、Kubernetes の永続ボリュームとして EFS ストレージをマウントすることにより、Amazon EFS を Amazon EKS ポッドで使用できるようにする。\n",
    "https://aws.amazon.com/jp/premiumsupport/knowledge-center/eks-pods-efs/"
   ]
  },
  {
   "cell_type": "markdown",
   "metadata": {
    "lc_cell_meme": {
     "current": "e0d66790-3dc7-11ea-bfd5-0242ac120005",
     "execution_end_time": "2020-01-23T10:03:46.562028Z",
     "next": "992f546a-3dc7-11ea-bfd5-0242ac120005",
     "previous": "992f51fe-3dc7-11ea-bfd5-0242ac120005"
    },
    "lc_wrapper": {
     "log_history": [
      "/home/user5/notebooks/seminar-lc4ri/AWS/.log/20200123/20200123-100346-0554.log"
     ]
    }
   },
   "source": [
    "1.    StorageClass および ConfigMap マニフェストファイルをダウンロードするには、次のコマンドを実行します。"
   ]
  },
  {
   "cell_type": "code",
   "execution_count": 257,
   "metadata": {
    "deletable": false,
    "editable": false,
    "lc_cell_meme": {
     "current": "992f546a-3dc7-11ea-bfd5-0242ac120005",
     "execution_end_time": "2020-01-27T03:21:14.887787Z",
     "history": [
      {
       "current": "992f546a-3dc7-11ea-bfd5-0242ac120005",
       "next": "091b36c0-378a-11ea-b7f6-0242ac120004",
       "previous": "992f51fe-3dc7-11ea-bfd5-0242ac120005"
      }
     ],
     "next": "e0d669ac-3dc7-11ea-bfd5-0242ac120005",
     "previous": "e0d66790-3dc7-11ea-bfd5-0242ac120005"
    },
    "lc_wrapper": {
     "log_history": [
      "/home/user5/notebooks/seminar-lc4ri/AWS/.log/20200123/20200123-100321-0876.log",
      "/home/user2/notebooks/AWS/.log/20200127/20200127-020606-0148.log",
      "/home/user2/notebooks/AWS/.log/20200127/20200127-023954-0129.log",
      "/home/user2/notebooks/AWS/.log/20200127/20200127-024018-0209.log",
      "/home/user2/notebooks/AWS/.log/20200127/20200127-024027-0072.log",
      "/home/user2/notebooks/AWS/.log/20200127/20200127-024530-0993.log",
      "/home/user2/notebooks/AWS/.log/20200127/20200127-024600-0339.log",
      "/home/user2/notebooks/AWS/.log/20200127/20200127-024632-0871.log",
      "/home/user2/notebooks/AWS/.log/20200127/20200127-024657-0173.log",
      "/home/user2/notebooks/AWS/.log/20200127/20200127-024750-0293.log",
      "/home/user2/notebooks/AWS/.log/20200127/20200127-024819-0720.log",
      "/home/user2/notebooks/AWS/.log/20200127/20200127-024913-0771.log",
      "/home/user2/notebooks/AWS/.log/20200127/20200127-024929-0920.log",
      "/home/user2/notebooks/AWS/.log/20200127/20200127-025259-0480.log",
      "/home/user2/notebooks/AWS/.log/20200127/20200127-030435-0299.log",
      "/home/user2/notebooks/AWS/.log/20200127/20200127-030614-0929.log",
      "/home/user2/notebooks/AWS/.log/20200127/20200127-030725-0378.log",
      "/home/user2/notebooks/AWS/.log/20200127/20200127-030958-0601.log",
      "/home/user2/notebooks/AWS/.log/20200127/20200127-031042-0645.log",
      "/home/user2/notebooks/AWS/.log/20200127/20200127-031107-0865.log",
      "/home/user2/notebooks/AWS/.log/20200127/20200127-031155-0161.log",
      "/home/user2/notebooks/AWS/.log/20200127/20200127-031227-0482.log",
      "/home/user2/notebooks/AWS/.log/20200127/20200127-031239-0333.log",
      "/home/user2/notebooks/AWS/.log/20200127/20200127-031329-0850.log",
      "/home/user2/notebooks/AWS/.log/20200127/20200127-031431-0086.log",
      "/home/user2/notebooks/AWS/.log/20200127/20200127-031952-0416.log",
      "/home/user2/notebooks/AWS/.log/20200127/20200127-032014-0748.log",
      "/home/user2/notebooks/AWS/.log/20200127/20200127-032112-0861.log"
     ]
    },
    "run_through_control": {
     "frozen": true,
     "read_only": false
    }
   },
   "outputs": [
    {
     "name": "stdout",
     "output_type": "stream",
     "text": [
      "--2020-01-27 03:21:13--  https://raw.githubusercontent.com/kubernetes-incubator/external-storage/master/aws/efs/deploy/class.yaml\n",
      "Resolving raw.githubusercontent.com (raw.githubusercontent.com)... 151.101.0.133, 151.101.64.133, 151.101.128.133, ...\n",
      "Connecting to raw.githubusercontent.com (raw.githubusercontent.com)|151.101.0.133|:443... connected.\n",
      "HTTP request sent, awaiting response... 200 OK\n",
      "Length: 108 [text/plain]\n",
      "Saving to: ‘temp/class.yaml’\n",
      "\n",
      "temp/class.yaml     100%[===================>]     108  --.-KB/s    in 0s      \n",
      "\n",
      "2020-01-27 03:21:13 (12.7 MB/s) - ‘temp/class.yaml’ saved [108/108]\n",
      "\n",
      "--2020-01-27 03:21:14--  https://raw.githubusercontent.com/kubernetes-incubator/external-storage/master/aws/efs/deploy/configmap.yaml\n",
      "Resolving raw.githubusercontent.com (raw.githubusercontent.com)... 151.101.0.133, 151.101.64.133, 151.101.128.133, ...\n",
      "Connecting to raw.githubusercontent.com (raw.githubusercontent.com)|151.101.0.133|:443... connected.\n",
      "HTTP request sent, awaiting response... 200 OK\n",
      "Length: 180 [text/plain]\n",
      "Saving to: ‘temp/configmap.yaml’\n",
      "\n",
      "temp/configmap.yaml 100%[===================>]     180  --.-KB/s    in 0s      \n",
      "\n",
      "2020-01-27 03:21:14 (21.2 MB/s) - ‘temp/configmap.yaml’ saved [180/180]\n",
      "\n"
     ]
    }
   ],
   "source": [
    "!wget -O temp/class.yaml https://raw.githubusercontent.com/kubernetes-incubator/external-storage/master/aws/efs/deploy/class.yaml\n",
    "!wget -O temp/configmap.yaml https://raw.githubusercontent.com/kubernetes-incubator/external-storage/master/aws/efs/deploy/configmap.yaml"
   ]
  },
  {
   "cell_type": "code",
   "execution_count": 242,
   "metadata": {
    "lc_cell_meme": {
     "current": "e0d669ac-3dc7-11ea-bfd5-0242ac120005",
     "execution_end_time": "2020-01-27T03:14:34.076654Z",
     "next": "e0d66a92-3dc7-11ea-bfd5-0242ac120005",
     "previous": "992f546a-3dc7-11ea-bfd5-0242ac120005"
    },
    "lc_wrapper": {
     "log_history": [
      "/home/user5/notebooks/seminar-lc4ri/AWS/.log/20200123/20200123-100413-0298.log",
      "/home/user2/notebooks/AWS/.log/20200127/20200127-020611-0500.log",
      "/home/user2/notebooks/AWS/.log/20200127/20200127-024038-0967.log",
      "/home/user2/notebooks/AWS/.log/20200127/20200127-024044-0611.log",
      "/home/user2/notebooks/AWS/.log/20200127/20200127-024534-0369.log",
      "/home/user2/notebooks/AWS/.log/20200127/20200127-025302-0673.log",
      "/home/user2/notebooks/AWS/.log/20200127/20200127-031157-0198.log",
      "/home/user2/notebooks/AWS/.log/20200127/20200127-031241-0380.log",
      "/home/user2/notebooks/AWS/.log/20200127/20200127-031331-0880.log",
      "/home/user2/notebooks/AWS/.log/20200127/20200127-031433-0121.log"
     ]
    }
   },
   "outputs": [
    {
     "name": "stdout",
     "output_type": "stream",
     "text": [
      "kind: StorageClass\r\n",
      "apiVersion: storage.k8s.io/v1\r\n",
      "metadata:\r\n",
      "  name: aws-efs\r\n",
      "provisioner: example.com/aws-efs\r\n"
     ]
    }
   ],
   "source": [
    "!cat temp/class.yaml"
   ]
  },
  {
   "cell_type": "code",
   "execution_count": 243,
   "metadata": {
    "lc_cell_meme": {
     "current": "e0d66a92-3dc7-11ea-bfd5-0242ac120005",
     "execution_end_time": "2020-01-27T03:14:35.045104Z",
     "next": "e0d66b64-3dc7-11ea-bfd5-0242ac120005",
     "previous": "e0d669ac-3dc7-11ea-bfd5-0242ac120005"
    },
    "lc_wrapper": {
     "log_history": [
      "/home/user5/notebooks/seminar-lc4ri/AWS/.log/20200123/20200123-100430-0092.log",
      "/home/user2/notebooks/AWS/.log/20200127/20200127-020613-0229.log",
      "/home/user2/notebooks/AWS/.log/20200127/20200127-024050-0817.log",
      "/home/user2/notebooks/AWS/.log/20200127/20200127-024535-0337.log",
      "/home/user2/notebooks/AWS/.log/20200127/20200127-024752-0505.log",
      "/home/user2/notebooks/AWS/.log/20200127/20200127-024821-0986.log",
      "/home/user2/notebooks/AWS/.log/20200127/20200127-025022-0384.log",
      "/home/user2/notebooks/AWS/.log/20200127/20200127-025304-0159.log",
      "/home/user2/notebooks/AWS/.log/20200127/20200127-030611-0498.log",
      "/home/user2/notebooks/AWS/.log/20200127/20200127-030727-0408.log",
      "/home/user2/notebooks/AWS/.log/20200127/20200127-031133-0369.log",
      "/home/user2/notebooks/AWS/.log/20200127/20200127-031158-0241.log",
      "/home/user2/notebooks/AWS/.log/20200127/20200127-031242-0347.log",
      "/home/user2/notebooks/AWS/.log/20200127/20200127-031332-0839.log",
      "/home/user2/notebooks/AWS/.log/20200127/20200127-031434-0085.log"
     ]
    }
   },
   "outputs": [
    {
     "name": "stdout",
     "output_type": "stream",
     "text": [
      "apiVersion: v1\r\n",
      "kind: ConfigMap\r\n",
      "metadata:\r\n",
      "  name: efs-provisioner\r\n",
      "data:\r\n",
      "  file.system.id: fs-47a2c22e\r\n",
      "  aws.region: us-west-2\r\n",
      "  provisioner.name: example.com/aws-efs\r\n",
      "  dns.name: \"\"\r\n"
     ]
    }
   ],
   "source": [
    "!cat temp/configmap.yaml"
   ]
  },
  {
   "cell_type": "markdown",
   "metadata": {
    "lc_cell_meme": {
     "current": "e0d66b64-3dc7-11ea-bfd5-0242ac120005",
     "history": [
      {
       "current": "e0d66b64-3dc7-11ea-bfd5-0242ac120005",
       "next": "091b36c0-378a-11ea-b7f6-0242ac120004",
       "previous": "e0d66a92-3dc7-11ea-bfd5-0242ac120005"
      },
      {
       "current": "e0d66b64-3dc7-11ea-bfd5-0242ac120005",
       "next": "5c35449c-3dc8-11ea-bfd5-0242ac120005",
       "previous": "e0d66a92-3dc7-11ea-bfd5-0242ac120005"
      },
      {
       "current": "e0d66b64-3dc7-11ea-bfd5-0242ac120005",
       "next": "af269528-40ae-11ea-91a9-0242ac120004",
       "previous": "e0d66a92-3dc7-11ea-bfd5-0242ac120005"
      },
      {
       "current": "e0d66b64-3dc7-11ea-bfd5-0242ac120005",
       "next": "f6af1118-40ae-11ea-91a9-0242ac120004",
       "previous": "e0d66a92-3dc7-11ea-bfd5-0242ac120005"
      }
     ],
     "next": "5c4fc570-40b0-11ea-91a9-0242ac120004",
     "previous": "e0d66a92-3dc7-11ea-bfd5-0242ac120005"
    }
   },
   "source": [
    "２．configmap.yaml ファイルで、file.system.id および aws.region を EFS に適した値に変更します。 \n"
   ]
  },
  {
   "cell_type": "code",
   "execution_count": 244,
   "metadata": {
    "lc_cell_meme": {
     "current": "5c4fc570-40b0-11ea-91a9-0242ac120004",
     "execution_end_time": "2020-01-27T03:14:35.059291Z",
     "next": "f6af1118-40ae-11ea-91a9-0242ac120004",
     "previous": "e0d66b64-3dc7-11ea-bfd5-0242ac120005"
    },
    "lc_wrapper": {
     "log_history": [
      "/home/user2/notebooks/AWS/.log/20200127/20200127-025250-0981.log",
      "/home/user2/notebooks/AWS/.log/20200127/20200127-025308-0792.log",
      "/home/user2/notebooks/AWS/.log/20200127/20200127-025526-0551.log",
      "/home/user2/notebooks/AWS/.log/20200127/20200127-031335-0442.log",
      "/home/user2/notebooks/AWS/.log/20200127/20200127-031342-0460.log",
      "/home/user2/notebooks/AWS/.log/20200127/20200127-031358-0107.log",
      "/home/user2/notebooks/AWS/.log/20200127/20200127-031435-0053.log"
     ]
    }
   },
   "outputs": [],
   "source": [
    "region=\"us-west-2\""
   ]
  },
  {
   "cell_type": "code",
   "execution_count": 258,
   "metadata": {
    "deletable": false,
    "editable": false,
    "lc_cell_meme": {
     "current": "f6af1118-40ae-11ea-91a9-0242ac120004",
     "execution_end_time": "2020-01-27T03:21:30.692050Z",
     "history": [
      {
       "current": "f6af1118-40ae-11ea-91a9-0242ac120004",
       "next": "5c35449c-3dc8-11ea-bfd5-0242ac120005",
       "previous": "e0d66b64-3dc7-11ea-bfd5-0242ac120005"
      }
     ],
     "next": "5c35449c-3dc8-11ea-bfd5-0242ac120005",
     "previous": "5c4fc570-40b0-11ea-91a9-0242ac120004"
    },
    "lc_wrapper": {
     "log_history": [
      "/home/user2/notebooks/AWS/.log/20200127/20200127-024434-0299.log",
      "/home/user2/notebooks/AWS/.log/20200127/20200127-024540-0449.log",
      "/home/user2/notebooks/AWS/.log/20200127/20200127-024604-0386.log",
      "/home/user2/notebooks/AWS/.log/20200127/20200127-024635-0497.log",
      "/home/user2/notebooks/AWS/.log/20200127/20200127-024734-0165.log",
      "/home/user2/notebooks/AWS/.log/20200127/20200127-024757-0216.log",
      "/home/user2/notebooks/AWS/.log/20200127/20200127-025025-0724.log",
      "/home/user2/notebooks/AWS/.log/20200127/20200127-025114-0090.log",
      "/home/user2/notebooks/AWS/.log/20200127/20200127-025135-0305.log",
      "/home/user2/notebooks/AWS/.log/20200127/20200127-025148-0007.log",
      "/home/user2/notebooks/AWS/.log/20200127/20200127-025205-0116.log",
      "/home/user2/notebooks/AWS/.log/20200127/20200127-025251-0837.log",
      "/home/user2/notebooks/AWS/.log/20200127/20200127-025309-0439.log",
      "/home/user2/notebooks/AWS/.log/20200127/20200127-025409-0107.log",
      "/home/user2/notebooks/AWS/.log/20200127/20200127-025454-0466.log",
      "/home/user2/notebooks/AWS/.log/20200127/20200127-025510-0681.log",
      "/home/user2/notebooks/AWS/.log/20200127/20200127-025528-0889.log",
      "/home/user2/notebooks/AWS/.log/20200127/20200127-025547-0602.log",
      "/home/user2/notebooks/AWS/.log/20200127/20200127-025617-0614.log",
      "/home/user2/notebooks/AWS/.log/20200127/20200127-030354-0081.log",
      "/home/user2/notebooks/AWS/.log/20200127/20200127-030455-0580.log",
      "/home/user2/notebooks/AWS/.log/20200127/20200127-030621-0389.log",
      "/home/user2/notebooks/AWS/.log/20200127/20200127-030632-0299.log",
      "/home/user2/notebooks/AWS/.log/20200127/20200127-030646-0578.log",
      "/home/user2/notebooks/AWS/.log/20200127/20200127-030656-0434.log",
      "/home/user2/notebooks/AWS/.log/20200127/20200127-030709-0789.log",
      "/home/user2/notebooks/AWS/.log/20200127/20200127-030731-0444.log",
      "/home/user2/notebooks/AWS/.log/20200127/20200127-030755-0436.log",
      "/home/user2/notebooks/AWS/.log/20200127/20200127-030823-0884.log",
      "/home/user2/notebooks/AWS/.log/20200127/20200127-030832-0402.log",
      "/home/user2/notebooks/AWS/.log/20200127/20200127-030854-0161.log",
      "/home/user2/notebooks/AWS/.log/20200127/20200127-030906-0993.log",
      "/home/user2/notebooks/AWS/.log/20200127/20200127-030918-0169.log",
      "/home/user2/notebooks/AWS/.log/20200127/20200127-030928-0147.log",
      "/home/user2/notebooks/AWS/.log/20200127/20200127-030931-0857.log",
      "/home/user2/notebooks/AWS/.log/20200127/20200127-030940-0017.log",
      "/home/user2/notebooks/AWS/.log/20200127/20200127-031002-0436.log",
      "/home/user2/notebooks/AWS/.log/20200127/20200127-031050-0513.log",
      "/home/user2/notebooks/AWS/.log/20200127/20200127-031137-0927.log",
      "/home/user2/notebooks/AWS/.log/20200127/20200127-031200-0373.log",
      "/home/user2/notebooks/AWS/.log/20200127/20200127-031218-0255.log",
      "/home/user2/notebooks/AWS/.log/20200127/20200127-031230-0831.log",
      "/home/user2/notebooks/AWS/.log/20200127/20200127-031320-0419.log",
      "/home/user2/notebooks/AWS/.log/20200127/20200127-031335-0801.log",
      "/home/user2/notebooks/AWS/.log/20200127/20200127-031342-0791.log",
      "/home/user2/notebooks/AWS/.log/20200127/20200127-031348-0969.log",
      "/home/user2/notebooks/AWS/.log/20200127/20200127-031358-0522.log",
      "/home/user2/notebooks/AWS/.log/20200127/20200127-031435-0066.log",
      "/home/user2/notebooks/AWS/.log/20200127/20200127-031958-0963.log",
      "/home/user2/notebooks/AWS/.log/20200127/20200127-032032-0575.log",
      "/home/user2/notebooks/AWS/.log/20200127/20200127-032056-0636.log",
      "/home/user2/notebooks/AWS/.log/20200127/20200127-032130-0682.log"
     ]
    },
    "run_through_control": {
     "frozen": true,
     "read_only": false
    }
   },
   "outputs": [],
   "source": [
    "import re\n",
    "\n",
    "before_str=r'''file.system.id: \\S*\n",
    "  aws.region: \\S*'''\n",
    "after_str='''file.system.id: {FileSystemId}\n",
    "  aws.region: {region}   \n",
    "'''.format(FileSystemId=FileSystemId,region=region).strip()\n",
    "\n",
    "f = open('temp/configmap.yaml','r')\n",
    "body = f.read()\n",
    "new_body = re.sub(before_str, after_str, body, flags=re.DOTALL)\n",
    "f.close()\n",
    "\n",
    "f = open('temp/configmap.yaml','w')\n",
    "f.write(new_body)\n",
    "f.close()"
   ]
  },
  {
   "cell_type": "code",
   "execution_count": 259,
   "metadata": {
    "deletable": false,
    "editable": false,
    "lc_cell_meme": {
     "current": "5c35449c-3dc8-11ea-bfd5-0242ac120005",
     "execution_end_time": "2020-01-27T03:21:32.383016Z",
     "history": [
      {
       "current": "5c35449c-3dc8-11ea-bfd5-0242ac120005",
       "next": "5c354758-3dc8-11ea-bfd5-0242ac120005",
       "previous": "e0d66b64-3dc7-11ea-bfd5-0242ac120005"
      },
      {
       "current": "5c35449c-3dc8-11ea-bfd5-0242ac120005",
       "next": "5c354758-3dc8-11ea-bfd5-0242ac120005",
       "previous": "af269528-40ae-11ea-91a9-0242ac120004"
      }
     ],
     "next": "5c354758-3dc8-11ea-bfd5-0242ac120005",
     "previous": "f6af1118-40ae-11ea-91a9-0242ac120004"
    },
    "lc_wrapper": {
     "log_history": [
      "/home/user5/notebooks/seminar-lc4ri/AWS/.log/20200123/20200123-100836-0233.log",
      "/home/user2/notebooks/AWS/.log/20200127/20200127-020626-0709.log",
      "/home/user2/notebooks/AWS/.log/20200127/20200127-024437-0596.log",
      "/home/user2/notebooks/AWS/.log/20200127/20200127-024442-0017.log",
      "/home/user2/notebooks/AWS/.log/20200127/20200127-024543-0079.log",
      "/home/user2/notebooks/AWS/.log/20200127/20200127-024605-0528.log",
      "/home/user2/notebooks/AWS/.log/20200127/20200127-024639-0840.log",
      "/home/user2/notebooks/AWS/.log/20200127/20200127-024735-0361.log",
      "/home/user2/notebooks/AWS/.log/20200127/20200127-024758-0601.log",
      "/home/user2/notebooks/AWS/.log/20200127/20200127-025026-0560.log",
      "/home/user2/notebooks/AWS/.log/20200127/20200127-025116-0210.log",
      "/home/user2/notebooks/AWS/.log/20200127/20200127-025137-0415.log",
      "/home/user2/notebooks/AWS/.log/20200127/20200127-025156-0210.log",
      "/home/user2/notebooks/AWS/.log/20200127/20200127-025207-0768.log",
      "/home/user2/notebooks/AWS/.log/20200127/20200127-025254-0835.log",
      "/home/user2/notebooks/AWS/.log/20200127/20200127-025310-0948.log",
      "/home/user2/notebooks/AWS/.log/20200127/20200127-025411-0457.log",
      "/home/user2/notebooks/AWS/.log/20200127/20200127-025456-0234.log",
      "/home/user2/notebooks/AWS/.log/20200127/20200127-025513-0537.log",
      "/home/user2/notebooks/AWS/.log/20200127/20200127-025529-0188.log",
      "/home/user2/notebooks/AWS/.log/20200127/20200127-025549-0786.log",
      "/home/user2/notebooks/AWS/.log/20200127/20200127-025618-0952.log",
      "/home/user2/notebooks/AWS/.log/20200127/20200127-030354-0730.log",
      "/home/user2/notebooks/AWS/.log/20200127/20200127-030456-0055.log",
      "/home/user2/notebooks/AWS/.log/20200127/20200127-030622-0643.log",
      "/home/user2/notebooks/AWS/.log/20200127/20200127-030633-0036.log",
      "/home/user2/notebooks/AWS/.log/20200127/20200127-030647-0074.log",
      "/home/user2/notebooks/AWS/.log/20200127/20200127-030715-0844.log",
      "/home/user2/notebooks/AWS/.log/20200127/20200127-030731-0809.log",
      "/home/user2/notebooks/AWS/.log/20200127/20200127-030758-0336.log",
      "/home/user2/notebooks/AWS/.log/20200127/20200127-030835-0610.log",
      "/home/user2/notebooks/AWS/.log/20200127/20200127-030854-0490.log",
      "/home/user2/notebooks/AWS/.log/20200127/20200127-030909-0401.log",
      "/home/user2/notebooks/AWS/.log/20200127/20200127-030918-0553.log",
      "/home/user2/notebooks/AWS/.log/20200127/20200127-030932-0313.log",
      "/home/user2/notebooks/AWS/.log/20200127/20200127-030940-0346.log",
      "/home/user2/notebooks/AWS/.log/20200127/20200127-031003-0065.log",
      "/home/user2/notebooks/AWS/.log/20200127/20200127-031054-0535.log",
      "/home/user2/notebooks/AWS/.log/20200127/20200127-031138-0273.log",
      "/home/user2/notebooks/AWS/.log/20200127/20200127-031201-0722.log",
      "/home/user2/notebooks/AWS/.log/20200127/20200127-031218-0606.log",
      "/home/user2/notebooks/AWS/.log/20200127/20200127-031231-0112.log",
      "/home/user2/notebooks/AWS/.log/20200127/20200127-031322-0449.log",
      "/home/user2/notebooks/AWS/.log/20200127/20200127-031336-0697.log",
      "/home/user2/notebooks/AWS/.log/20200127/20200127-031343-0152.log",
      "/home/user2/notebooks/AWS/.log/20200127/20200127-031352-0441.log",
      "/home/user2/notebooks/AWS/.log/20200127/20200127-031358-0906.log",
      "/home/user2/notebooks/AWS/.log/20200127/20200127-031435-0082.log",
      "/home/user2/notebooks/AWS/.log/20200127/20200127-031959-0344.log",
      "/home/user2/notebooks/AWS/.log/20200127/20200127-032032-0810.log",
      "/home/user2/notebooks/AWS/.log/20200127/20200127-032059-0720.log",
      "/home/user2/notebooks/AWS/.log/20200127/20200127-032131-0426.log"
     ]
    },
    "run_through_control": {
     "frozen": true,
     "read_only": false
    }
   },
   "outputs": [
    {
     "name": "stdout",
     "output_type": "stream",
     "text": [
      "apiVersion: v1\r\n",
      "kind: ConfigMap\r\n",
      "metadata:\r\n",
      "  name: efs-provisioner\r\n",
      "data:\r\n",
      "  file.system.id: fs-92bb0f38\r\n",
      "  aws.region: us-west-2\r\n",
      "  provisioner.name: example.com/aws-efs\r\n",
      "  dns.name: \"\"\r\n"
     ]
    }
   ],
   "source": [
    "!cat temp/configmap.yaml"
   ]
  },
  {
   "cell_type": "markdown",
   "metadata": {
    "lc_cell_meme": {
     "current": "5c354758-3dc8-11ea-bfd5-0242ac120005",
     "history": [
      {
       "current": "5c354758-3dc8-11ea-bfd5-0242ac120005",
       "next": "091b36c0-378a-11ea-b7f6-0242ac120004",
       "previous": "5c35449c-3dc8-11ea-bfd5-0242ac120005"
      }
     ],
     "next": "6fc4e9e0-3dc8-11ea-bfd5-0242ac120005",
     "previous": "5c35449c-3dc8-11ea-bfd5-0242ac120005"
    }
   },
   "source": [
    "3.    StorageClass および ConfigMap をクラスターに適用するには、次のコマンドを実行します。"
   ]
  },
  {
   "cell_type": "code",
   "execution_count": 260,
   "metadata": {
    "deletable": false,
    "editable": false,
    "lc_cell_meme": {
     "current": "6fc4e9e0-3dc8-11ea-bfd5-0242ac120005",
     "execution_end_time": "2020-01-27T03:21:39.590634Z",
     "history": [
      {
       "current": "6fc4e9e0-3dc8-11ea-bfd5-0242ac120005",
       "next": "091b36c0-378a-11ea-b7f6-0242ac120004",
       "previous": "5c354758-3dc8-11ea-bfd5-0242ac120005"
      }
     ],
     "next": "b74c3458-3dc8-11ea-bfd5-0242ac120005",
     "previous": "5c354758-3dc8-11ea-bfd5-0242ac120005"
    },
    "lc_wrapper": {
     "log_history": [
      "/home/user5/notebooks/seminar-lc4ri/AWS/.log/20200123/20200123-100931-0980.log",
      "/home/user2/notebooks/AWS/.log/20200127/20200127-020630-0415.log",
      "/home/user2/notebooks/AWS/.log/20200127/20200127-024458-0007.log",
      "/home/user2/notebooks/AWS/.log/20200127/20200127-031509-0718.log",
      "/home/user2/notebooks/AWS/.log/20200127/20200127-031921-0194.log",
      "/home/user2/notebooks/AWS/.log/20200127/20200127-032136-0315.log"
     ]
    },
    "run_through_control": {
     "frozen": true,
     "read_only": false
    }
   },
   "outputs": [
    {
     "name": "stdout",
     "output_type": "stream",
     "text": [
      "storageclass.storage.k8s.io/aws-efs unchanged\n",
      "configmap/efs-provisioner configured\n"
     ]
    }
   ],
   "source": [
    "!kubectl apply -f temp/class.yaml\n",
    "!kubectl apply -f temp/configmap.yaml"
   ]
  },
  {
   "cell_type": "markdown",
   "metadata": {
    "lc_cell_meme": {
     "current": "b74c3458-3dc8-11ea-bfd5-0242ac120005",
     "next": "b74c3624-3dc8-11ea-bfd5-0242ac120005",
     "previous": "6fc4e9e0-3dc8-11ea-bfd5-0242ac120005"
    }
   },
   "source": [
    "4.    Deployment および ClusterRole マニフェストファイルをダウンロードするには、次のコマンドを実行します。"
   ]
  },
  {
   "cell_type": "code",
   "execution_count": 261,
   "metadata": {
    "deletable": false,
    "editable": false,
    "lc_cell_meme": {
     "current": "b74c3624-3dc8-11ea-bfd5-0242ac120005",
     "execution_end_time": "2020-01-27T03:22:05.893789Z",
     "history": [
      {
       "current": "b74c3624-3dc8-11ea-bfd5-0242ac120005",
       "next": "b74c3728-3dc8-11ea-bfd5-0242ac120005",
       "previous": "b74c3458-3dc8-11ea-bfd5-0242ac120005"
      }
     ],
     "next": "fef15586-3dc8-11ea-bfd5-0242ac120005",
     "previous": "b74c3458-3dc8-11ea-bfd5-0242ac120005"
    },
    "lc_wrapper": {
     "log_history": [
      "/home/user5/notebooks/seminar-lc4ri/AWS/.log/20200123/20200123-101015-0943.log",
      "/home/user2/notebooks/AWS/.log/20200127/20200127-020638-0302.log",
      "/home/user2/notebooks/AWS/.log/20200127/20200127-032203-0586.log"
     ]
    },
    "run_through_control": {
     "frozen": true,
     "read_only": false
    }
   },
   "outputs": [
    {
     "name": "stdout",
     "output_type": "stream",
     "text": [
      "--2020-01-27 03:22:04--  https://raw.githubusercontent.com/kubernetes-incubator/external-storage/master/aws/efs/deploy/deployment.yaml\n",
      "Resolving raw.githubusercontent.com (raw.githubusercontent.com)... 151.101.0.133, 151.101.64.133, 151.101.128.133, ...\n",
      "Connecting to raw.githubusercontent.com (raw.githubusercontent.com)|151.101.0.133|:443... connected.\n",
      "HTTP request sent, awaiting response... 200 OK\n",
      "Length: 1452 (1.4K) [text/plain]\n",
      "Saving to: ‘temp/deployment.yaml’\n",
      "\n",
      "temp/deployment.yam 100%[===================>]   1.42K  --.-KB/s    in 0s      \n",
      "\n",
      "2020-01-27 03:22:04 (172 MB/s) - ‘temp/deployment.yaml’ saved [1452/1452]\n",
      "\n",
      "--2020-01-27 03:22:05--  https://raw.githubusercontent.com/kubernetes-incubator/external-storage/master/aws/efs/deploy/rbac.yaml\n",
      "Resolving raw.githubusercontent.com (raw.githubusercontent.com)... 151.101.0.133, 151.101.64.133, 151.101.128.133, ...\n",
      "Connecting to raw.githubusercontent.com (raw.githubusercontent.com)|151.101.0.133|:443... connected.\n",
      "HTTP request sent, awaiting response... 200 OK\n",
      "Length: 1449 (1.4K) [text/plain]\n",
      "Saving to: ‘temp/rbac.yaml’\n",
      "\n",
      "temp/rbac.yaml      100%[===================>]   1.42K  --.-KB/s    in 0s      \n",
      "\n",
      "2020-01-27 03:22:05 (175 MB/s) - ‘temp/rbac.yaml’ saved [1449/1449]\n",
      "\n"
     ]
    }
   ],
   "source": [
    "!wget -O temp/deployment.yaml https://raw.githubusercontent.com/kubernetes-incubator/external-storage/master/aws/efs/deploy/deployment.yaml\n",
    "!wget -O temp/rbac.yaml https://raw.githubusercontent.com/kubernetes-incubator/external-storage/master/aws/efs/deploy/rbac.yaml"
   ]
  },
  {
   "cell_type": "code",
   "execution_count": 265,
   "metadata": {
    "lc_cell_meme": {
     "current": "fef15586-3dc8-11ea-bfd5-0242ac120005",
     "execution_end_time": "2020-01-27T03:22:38.577551Z",
     "history": [
      {
       "current": "fef15586-3dc8-11ea-bfd5-0242ac120005",
       "next": "fef1581a-3dc8-11ea-bfd5-0242ac120005",
       "previous": "b74c3728-3dc8-11ea-bfd5-0242ac120005"
      }
     ],
     "next": "b74c3728-3dc8-11ea-bfd5-0242ac120005",
     "previous": "b74c3624-3dc8-11ea-bfd5-0242ac120005"
    },
    "lc_wrapper": {
     "log_history": [
      "/home/user5/notebooks/seminar-lc4ri/AWS/.log/20200123/20200123-101150-0282.log",
      "/home/user2/notebooks/AWS/.log/20200127/20200127-020645-0061.log",
      "/home/user2/notebooks/AWS/.log/20200127/20200127-032219-0353.log",
      "/home/user2/notebooks/AWS/.log/20200127/20200127-032237-0622.log"
     ]
    },
    "scrolled": true
   },
   "outputs": [
    {
     "name": "stdout",
     "output_type": "stream",
     "text": [
      "kind: ClusterRole\r\n",
      "apiVersion: rbac.authorization.k8s.io/v1\r\n",
      "metadata:\r\n",
      "  name: efs-provisioner-runner\r\n",
      "rules:\r\n",
      "  - apiGroups: [\"\"]\r\n",
      "    resources: [\"persistentvolumes\"]\r\n",
      "    verbs: [\"get\", \"list\", \"watch\", \"create\", \"delete\"]\r\n",
      "  - apiGroups: [\"\"]\r\n",
      "    resources: [\"persistentvolumeclaims\"]\r\n",
      "    verbs: [\"get\", \"list\", \"watch\", \"update\"]\r\n",
      "  - apiGroups: [\"storage.k8s.io\"]\r\n",
      "    resources: [\"storageclasses\"]\r\n",
      "    verbs: [\"get\", \"list\", \"watch\"]\r\n",
      "  - apiGroups: [\"\"]\r\n",
      "    resources: [\"events\"]\r\n",
      "    verbs: [\"create\", \"update\", \"patch\"]\r\n",
      "---\r\n",
      "kind: ClusterRoleBinding\r\n",
      "apiVersion: rbac.authorization.k8s.io/v1\r\n",
      "metadata:\r\n",
      "  name: run-efs-provisioner\r\n",
      "subjects:\r\n",
      "  - kind: ServiceAccount\r\n",
      "    name: efs-provisioner\r\n",
      "     # replace with namespace where provisioner is deployed\r\n",
      "    namespace: default\r\n",
      "roleRef:\r\n",
      "  kind: ClusterRole\r\n",
      "  name: efs-provisioner-runner\r\n",
      "  apiGroup: rbac.authorization.k8s.io\r\n",
      "---\r\n",
      "kind: Role\r\n",
      "apiVersion: rbac.authorization.k8s.io/v1\r\n",
      "metadata:\r\n",
      "  name: leader-locking-efs-provisioner\r\n",
      "rules:\r\n",
      "  - apiGroups: [\"\"]\r\n",
      "    resources: [\"endpoints\"]\r\n",
      "    verbs: [\"get\", \"list\", \"watch\", \"create\", \"update\", \"patch\"]\r\n",
      "---\r\n",
      "kind: RoleBinding\r\n",
      "apiVersion: rbac.authorization.k8s.io/v1\r\n",
      "metadata:\r\n",
      "  name: leader-locking-efs-provisioner\r\n",
      "subjects:\r\n",
      "  - kind: ServiceAccount\r\n",
      "    name: efs-provisioner\r\n",
      "    # replace with namespace where provisioner is deployed\r\n",
      "    namespace: default\r\n",
      "roleRef:\r\n",
      "  kind: Role\r\n",
      "  name: leader-locking-efs-provisioner\r\n",
      "  apiGroup: rbac.authorization.k8s.io\r\n"
     ]
    }
   ],
   "source": [
    "!cat temp/rbac.yaml"
   ]
  },
  {
   "cell_type": "code",
   "execution_count": 263,
   "metadata": {
    "lc_cell_meme": {
     "current": "b74c3728-3dc8-11ea-bfd5-0242ac120005",
     "execution_end_time": "2020-01-27T03:22:16.021883Z",
     "history": [
      {
       "current": "b74c3728-3dc8-11ea-bfd5-0242ac120005",
       "next": "091b36c0-378a-11ea-b7f6-0242ac120004",
       "previous": "b74c3624-3dc8-11ea-bfd5-0242ac120005"
      },
      {
       "current": "b74c3728-3dc8-11ea-bfd5-0242ac120005",
       "next": "fef15586-3dc8-11ea-bfd5-0242ac120005",
       "previous": "b74c3624-3dc8-11ea-bfd5-0242ac120005"
      }
     ],
     "next": "fef1581a-3dc8-11ea-bfd5-0242ac120005",
     "previous": "fef15586-3dc8-11ea-bfd5-0242ac120005"
    },
    "lc_wrapper": {
     "log_history": [
      "/home/user5/notebooks/seminar-lc4ri/AWS/.log/20200123/20200123-101121-0920.log",
      "/home/user5/notebooks/seminar-lc4ri/AWS/.log/20200123/20200123-101143-0267.log",
      "/home/user2/notebooks/AWS/.log/20200127/20200127-020642-0118.log",
      "/home/user2/notebooks/AWS/.log/20200127/20200127-032210-0986.log",
      "/home/user2/notebooks/AWS/.log/20200127/20200127-032215-0072.log"
     ]
    },
    "scrolled": true
   },
   "outputs": [
    {
     "name": "stdout",
     "output_type": "stream",
     "text": [
      "apiVersion: v1\r\n",
      "kind: ServiceAccount\r\n",
      "metadata:\r\n",
      "  name: efs-provisioner\r\n",
      "---\r\n",
      "kind: Deployment\r\n",
      "apiVersion: apps/v1\r\n",
      "metadata:\r\n",
      "  name: efs-provisioner\r\n",
      "spec:\r\n",
      "  replicas: 1\r\n",
      "  selector:\r\n",
      "    matchLabels:\r\n",
      "      app: efs-provisioner\r\n",
      "  strategy:\r\n",
      "    type: Recreate \r\n",
      "  template:\r\n",
      "    metadata:\r\n",
      "      labels:\r\n",
      "        app: efs-provisioner\r\n",
      "    spec:\r\n",
      "      serviceAccount: efs-provisioner\r\n",
      "      containers:\r\n",
      "        - name: efs-provisioner\r\n",
      "          image: quay.io/external_storage/efs-provisioner:latest\r\n",
      "          env:\r\n",
      "            - name: FILE_SYSTEM_ID\r\n",
      "              valueFrom:\r\n",
      "                configMapKeyRef:\r\n",
      "                  name: efs-provisioner\r\n",
      "                  key: file.system.id\r\n",
      "            - name: AWS_REGION\r\n",
      "              valueFrom:\r\n",
      "                configMapKeyRef:\r\n",
      "                  name: efs-provisioner\r\n",
      "                  key: aws.region\r\n",
      "            - name: DNS_NAME\r\n",
      "              valueFrom:\r\n",
      "                configMapKeyRef:\r\n",
      "                  name: efs-provisioner\r\n",
      "                  key: dns.name\r\n",
      "                  optional: true\r\n",
      "            - name: PROVISIONER_NAME\r\n",
      "              valueFrom:\r\n",
      "                configMapKeyRef:\r\n",
      "                  name: efs-provisioner\r\n",
      "                  key: provisioner.name\r\n",
      "          volumeMounts:\r\n",
      "            - name: pv-volume\r\n",
      "              mountPath: /persistentvolumes\r\n",
      "      volumes:\r\n",
      "        - name: pv-volume\r\n",
      "          nfs:\r\n",
      "            server: fs-47a2c22e.efs.us-west-2.amazonaws.com\r\n",
      "            path: /persistentvolumes\r\n"
     ]
    }
   ],
   "source": [
    "!cat temp/deployment.yaml"
   ]
  },
  {
   "cell_type": "markdown",
   "metadata": {
    "lc_cell_meme": {
     "current": "fef1581a-3dc8-11ea-bfd5-0242ac120005",
     "history": [
      {
       "current": "fef1581a-3dc8-11ea-bfd5-0242ac120005",
       "next": "fef1591e-3dc8-11ea-bfd5-0242ac120005",
       "previous": "fef15586-3dc8-11ea-bfd5-0242ac120005"
      }
     ],
     "next": "d4b876b6-40b4-11ea-91a9-0242ac120004",
     "previous": "b74c3728-3dc8-11ea-bfd5-0242ac120005"
    }
   },
   "source": [
    "5.    deployment.yaml ファイルで、ボリューム設定を / の path に変更します。serverのドメインも変更します。"
   ]
  },
  {
   "cell_type": "code",
   "execution_count": 267,
   "metadata": {
    "deletable": false,
    "editable": false,
    "lc_cell_meme": {
     "current": "d4b876b6-40b4-11ea-91a9-0242ac120004",
     "execution_end_time": "2020-01-27T03:28:06.385498Z",
     "next": "fef1591e-3dc8-11ea-bfd5-0242ac120005",
     "previous": "fef1581a-3dc8-11ea-bfd5-0242ac120005"
    },
    "lc_wrapper": {
     "log_history": [
      "/home/user2/notebooks/AWS/.log/20200127/20200127-032535-0089.log",
      "/home/user2/notebooks/AWS/.log/20200127/20200127-032806-0375.log"
     ]
    },
    "run_through_control": {
     "frozen": true,
     "read_only": false
    }
   },
   "outputs": [],
   "source": [
    "import re\n",
    "\n",
    "before_str=r'''server: \\S*\n",
    "            path: \\S*'''\n",
    "\n",
    "after_str='''server: {FileSystemId}.efs.{region}.amazonaws.com\n",
    "            path: /\n",
    "'''.format(FileSystemId=FileSystemId,region=region).strip()\n",
    "\n",
    "f = open('temp/deployment.yaml','r')\n",
    "body = f.read()\n",
    "new_body = re.sub(before_str, after_str, body, flags=re.DOTALL)\n",
    "f.close()\n",
    "\n",
    "f = open('temp/deployment.yaml','w')\n",
    "f.write(new_body)\n",
    "f.close()"
   ]
  },
  {
   "cell_type": "code",
   "execution_count": 269,
   "metadata": {
    "deletable": false,
    "editable": false,
    "lc_cell_meme": {
     "current": "fef1591e-3dc8-11ea-bfd5-0242ac120005",
     "execution_end_time": "2020-01-27T03:28:14.784619Z",
     "history": [
      {
       "current": "fef1591e-3dc8-11ea-bfd5-0242ac120005",
       "next": "091b36c0-378a-11ea-b7f6-0242ac120004",
       "previous": "fef1581a-3dc8-11ea-bfd5-0242ac120005"
      },
      {
       "current": "fef1591e-3dc8-11ea-bfd5-0242ac120005",
       "next": "d5686780-3dc9-11ea-bfd5-0242ac120005",
       "previous": "fef1581a-3dc8-11ea-bfd5-0242ac120005"
      }
     ],
     "next": "d5686780-3dc9-11ea-bfd5-0242ac120005",
     "previous": "d4b876b6-40b4-11ea-91a9-0242ac120004"
    },
    "lc_wrapper": {
     "log_history": [
      "/home/user5/notebooks/seminar-lc4ri/AWS/.log/20200123/20200123-101716-0023.log",
      "/home/user2/notebooks/AWS/.log/20200127/20200127-020649-0466.log",
      "/home/user2/notebooks/AWS/.log/20200127/20200127-032808-0738.log",
      "/home/user2/notebooks/AWS/.log/20200127/20200127-032813-0834.log"
     ]
    },
    "run_through_control": {
     "frozen": true,
     "read_only": false
    }
   },
   "outputs": [
    {
     "name": "stdout",
     "output_type": "stream",
     "text": [
      "apiVersion: v1\r\n",
      "kind: ServiceAccount\r\n",
      "metadata:\r\n",
      "  name: efs-provisioner\r\n",
      "---\r\n",
      "kind: Deployment\r\n",
      "apiVersion: apps/v1\r\n",
      "metadata:\r\n",
      "  name: efs-provisioner\r\n",
      "spec:\r\n",
      "  replicas: 1\r\n",
      "  selector:\r\n",
      "    matchLabels:\r\n",
      "      app: efs-provisioner\r\n",
      "  strategy:\r\n",
      "    type: Recreate \r\n",
      "  template:\r\n",
      "    metadata:\r\n",
      "      labels:\r\n",
      "        app: efs-provisioner\r\n",
      "    spec:\r\n",
      "      serviceAccount: efs-provisioner\r\n",
      "      containers:\r\n",
      "        - name: efs-provisioner\r\n",
      "          image: quay.io/external_storage/efs-provisioner:latest\r\n",
      "          env:\r\n",
      "            - name: FILE_SYSTEM_ID\r\n",
      "              valueFrom:\r\n",
      "                configMapKeyRef:\r\n",
      "                  name: efs-provisioner\r\n",
      "                  key: file.system.id\r\n",
      "            - name: AWS_REGION\r\n",
      "              valueFrom:\r\n",
      "                configMapKeyRef:\r\n",
      "                  name: efs-provisioner\r\n",
      "                  key: aws.region\r\n",
      "            - name: DNS_NAME\r\n",
      "              valueFrom:\r\n",
      "                configMapKeyRef:\r\n",
      "                  name: efs-provisioner\r\n",
      "                  key: dns.name\r\n",
      "                  optional: true\r\n",
      "            - name: PROVISIONER_NAME\r\n",
      "              valueFrom:\r\n",
      "                configMapKeyRef:\r\n",
      "                  name: efs-provisioner\r\n",
      "                  key: provisioner.name\r\n",
      "          volumeMounts:\r\n",
      "            - name: pv-volume\r\n",
      "              mountPath: /persistentvolumes\r\n",
      "      volumes:\r\n",
      "        - name: pv-volume\r\n",
      "          nfs:\r\n",
      "            server: fs-92bb0f38.efs.us-west-2.amazonaws.com\r\n",
      "            path: /\r\n"
     ]
    }
   ],
   "source": [
    "!cat temp/deployment.yaml"
   ]
  },
  {
   "cell_type": "markdown",
   "metadata": {
    "lc_cell_meme": {
     "current": "d5686780-3dc9-11ea-bfd5-0242ac120005",
     "next": "d5686a14-3dc9-11ea-bfd5-0242ac120005",
     "previous": "fef1591e-3dc8-11ea-bfd5-0242ac120005"
    }
   },
   "source": [
    "6.    RBAC リソースと Deployment マニフェストを適用するには、次のコマンドを実行します。"
   ]
  },
  {
   "cell_type": "code",
   "execution_count": 270,
   "metadata": {
    "deletable": false,
    "editable": false,
    "lc_cell_meme": {
     "current": "d5686a14-3dc9-11ea-bfd5-0242ac120005",
     "execution_end_time": "2020-01-27T03:28:28.533348Z",
     "history": [
      {
       "current": "d5686a14-3dc9-11ea-bfd5-0242ac120005",
       "next": "091b36c0-378a-11ea-b7f6-0242ac120004",
       "previous": "d5686780-3dc9-11ea-bfd5-0242ac120005"
      }
     ],
     "next": "955c337e-3dce-11ea-bfd5-0242ac120005",
     "previous": "d5686780-3dc9-11ea-bfd5-0242ac120005"
    },
    "lc_wrapper": {
     "log_history": [
      "/home/user5/notebooks/seminar-lc4ri/AWS/.log/20200123/20200123-101921-0285.log",
      "/home/user2/notebooks/AWS/.log/20200127/20200127-020713-0676.log",
      "/home/user2/notebooks/AWS/.log/20200127/20200127-032825-0197.log"
     ]
    },
    "run_through_control": {
     "frozen": true,
     "read_only": false
    }
   },
   "outputs": [
    {
     "name": "stdout",
     "output_type": "stream",
     "text": [
      "clusterrole.rbac.authorization.k8s.io/efs-provisioner-runner unchanged\n",
      "clusterrolebinding.rbac.authorization.k8s.io/run-efs-provisioner unchanged\n",
      "role.rbac.authorization.k8s.io/leader-locking-efs-provisioner unchanged\n",
      "rolebinding.rbac.authorization.k8s.io/leader-locking-efs-provisioner unchanged\n",
      "serviceaccount/efs-provisioner unchanged\n",
      "deployment.apps/efs-provisioner configured\n"
     ]
    }
   ],
   "source": [
    "!kubectl apply -f temp/rbac.yaml\n",
    "!kubectl apply -f temp/deployment.yaml"
   ]
  },
  {
   "cell_type": "markdown",
   "metadata": {
    "lc_cell_meme": {
     "current": "955c337e-3dce-11ea-bfd5-0242ac120005",
     "history": [
      {
       "current": "955c337e-3dce-11ea-bfd5-0242ac120005",
       "next": "091b36c0-378a-11ea-b7f6-0242ac120004",
       "previous": "d5686a14-3dc9-11ea-bfd5-0242ac120005"
      }
     ],
     "next": "dd1ca0e0-3dce-11ea-bfd5-0242ac120005",
     "previous": "d5686a14-3dc9-11ea-bfd5-0242ac120005"
    }
   },
   "source": [
    "7.永続ボリュームクレームをダウンロードするには、次のコマンドを実行します。"
   ]
  },
  {
   "cell_type": "code",
   "execution_count": 272,
   "metadata": {
    "deletable": false,
    "editable": false,
    "lc_cell_meme": {
     "current": "dd1ca0e0-3dce-11ea-bfd5-0242ac120005",
     "execution_end_time": "2020-01-27T03:28:45.334774Z",
     "history": [
      {
       "current": "dd1ca0e0-3dce-11ea-bfd5-0242ac120005",
       "next": "091b36c0-378a-11ea-b7f6-0242ac120004",
       "previous": "955c337e-3dce-11ea-bfd5-0242ac120005"
      }
     ],
     "next": "246645aa-3dcf-11ea-bfd5-0242ac120005",
     "previous": "955c337e-3dce-11ea-bfd5-0242ac120005"
    },
    "lc_wrapper": {
     "log_history": [
      "/home/user5/notebooks/seminar-lc4ri/AWS/.log/20200123/20200123-105349-0842.log",
      "/home/user2/notebooks/AWS/.log/20200127/20200127-020718-0599.log",
      "/home/user2/notebooks/AWS/.log/20200127/20200127-032835-0658.log",
      "/home/user2/notebooks/AWS/.log/20200127/20200127-032844-0171.log"
     ]
    },
    "run_through_control": {
     "frozen": true,
     "read_only": false
    }
   },
   "outputs": [
    {
     "name": "stdout",
     "output_type": "stream",
     "text": [
      "--2020-01-27 03:28:45--  https://raw.githubusercontent.com/kubernetes-incubator/external-storage/master/aws/efs/deploy/claim.yaml\n",
      "Resolving raw.githubusercontent.com (raw.githubusercontent.com)... 151.101.0.133, 151.101.64.133, 151.101.128.133, ...\n",
      "Connecting to raw.githubusercontent.com (raw.githubusercontent.com)|151.101.0.133|:443... connected.\n",
      "HTTP request sent, awaiting response... 200 OK\n",
      "Length: 222 [text/plain]\n",
      "Saving to: ‘temp/claim.yaml’\n",
      "\n",
      "temp/claim.yaml     100%[===================>]     222  --.-KB/s    in 0s      \n",
      "\n",
      "2020-01-27 03:28:45 (27.7 MB/s) - ‘temp/claim.yaml’ saved [222/222]\n",
      "\n"
     ]
    }
   ],
   "source": [
    "!wget -O temp/claim.yaml https://raw.githubusercontent.com/kubernetes-incubator/external-storage/master/aws/efs/deploy/claim.yaml"
   ]
  },
  {
   "cell_type": "code",
   "execution_count": 274,
   "metadata": {
    "deletable": false,
    "editable": false,
    "lc_cell_meme": {
     "current": "246645aa-3dcf-11ea-bfd5-0242ac120005",
     "execution_end_time": "2020-01-27T03:28:54.007316Z",
     "next": "24664780-3dcf-11ea-bfd5-0242ac120005",
     "previous": "dd1ca0e0-3dce-11ea-bfd5-0242ac120005"
    },
    "lc_wrapper": {
     "log_history": [
      "/home/user5/notebooks/seminar-lc4ri/AWS/.log/20200123/20200123-105549-0072.log",
      "/home/user2/notebooks/AWS/.log/20200127/20200127-020720-0655.log",
      "/home/user2/notebooks/AWS/.log/20200127/20200127-032847-0527.log",
      "/home/user2/notebooks/AWS/.log/20200127/20200127-032853-0049.log"
     ]
    },
    "run_through_control": {
     "frozen": true,
     "read_only": false
    }
   },
   "outputs": [
    {
     "name": "stdout",
     "output_type": "stream",
     "text": [
      "kind: PersistentVolumeClaim\r\n",
      "apiVersion: v1\r\n",
      "metadata:\r\n",
      "  name: efs\r\n",
      "  annotations:\r\n",
      "    volume.beta.kubernetes.io/storage-class: \"aws-efs\"\r\n",
      "spec:\r\n",
      "  accessModes:\r\n",
      "    - ReadWriteMany\r\n",
      "  resources:\r\n",
      "    requests:\r\n",
      "      storage: 1Mi\r\n"
     ]
    }
   ],
   "source": [
    "cat temp/claim.yaml"
   ]
  },
  {
   "cell_type": "code",
   "execution_count": 275,
   "metadata": {
    "deletable": false,
    "editable": false,
    "lc_cell_meme": {
     "current": "24664780-3dcf-11ea-bfd5-0242ac120005",
     "execution_end_time": "2020-01-27T03:29:02.112125Z",
     "history": [
      {
       "current": "24664780-3dcf-11ea-bfd5-0242ac120005",
       "next": "091b36c0-378a-11ea-b7f6-0242ac120004",
       "previous": "246645aa-3dcf-11ea-bfd5-0242ac120005"
      }
     ],
     "next": "9c65239e-40ab-11ea-91a9-0242ac120004",
     "previous": "246645aa-3dcf-11ea-bfd5-0242ac120005"
    },
    "lc_wrapper": {
     "log_history": [
      "/home/user5/notebooks/seminar-lc4ri/AWS/.log/20200123/20200123-105619-0744.log",
      "/home/user2/notebooks/AWS/.log/20200127/20200127-020722-0911.log",
      "/home/user2/notebooks/AWS/.log/20200127/20200127-032900-0513.log"
     ]
    },
    "run_through_control": {
     "frozen": true,
     "read_only": false
    },
    "scrolled": true
   },
   "outputs": [
    {
     "name": "stdout",
     "output_type": "stream",
     "text": [
      "persistentvolumeclaim/efs unchanged\r\n"
     ]
    }
   ],
   "source": [
    "!kubectl apply -f temp/claim.yaml"
   ]
  },
  {
   "cell_type": "markdown",
   "metadata": {
    "lc_cell_meme": {
     "current": "9c65239e-40ab-11ea-91a9-0242ac120004",
     "next": "9c652632-40ab-11ea-91a9-0242ac120004",
     "previous": "24664780-3dcf-11ea-bfd5-0242ac120005"
    }
   },
   "source": [
    "出来ていることを確認する"
   ]
  },
  {
   "cell_type": "code",
   "execution_count": 276,
   "metadata": {
    "deletable": false,
    "editable": false,
    "lc_cell_meme": {
     "current": "9c652632-40ab-11ea-91a9-0242ac120004",
     "execution_end_time": "2020-01-27T03:29:04.423844Z",
     "next": "091b36c0-378a-11ea-b7f6-0242ac120004",
     "previous": "9c65239e-40ab-11ea-91a9-0242ac120004"
    },
    "lc_wrapper": {
     "log_history": [
      "/home/user2/notebooks/AWS/.log/20200127/20200127-021853-0726.log",
      "/home/user2/notebooks/AWS/.log/20200127/20200127-032903-0145.log"
     ]
    },
    "run_through_control": {
     "frozen": true,
     "read_only": false
    }
   },
   "outputs": [
    {
     "name": "stdout",
     "output_type": "stream",
     "text": [
      "NAME                               READY   STATUS    RESTARTS   AGE\r\n",
      "efs-provisioner-5d54bbbd75-vbbm2   1/1     Running   0          32s\r\n"
     ]
    }
   ],
   "source": [
    "!kubectl get pod"
   ]
  },
  {
   "cell_type": "markdown",
   "metadata": {
    "lc_cell_meme": {
     "current": "091b36c0-378a-11ea-b7f6-0242ac120004",
     "history": [
      {
       "current": "091b36c0-378a-11ea-b7f6-0242ac120004",
       "next": "091b37b0-378a-11ea-b7f6-0242ac120004",
       "previous": "091b344a-378a-11ea-b7f6-0242ac120004"
      },
      {
       "current": "091b36c0-378a-11ea-b7f6-0242ac120004",
       "next": "dfaf64ea-378a-11ea-b7f6-0242ac120004",
       "previous": "091b344a-378a-11ea-b7f6-0242ac120004"
      },
      {
       "current": "091b36c0-378a-11ea-b7f6-0242ac120004",
       "next": "27399416-378b-11ea-b7f6-0242ac120004",
       "previous": "091b344a-378a-11ea-b7f6-0242ac120004"
      },
      {
       "current": "091b36c0-378a-11ea-b7f6-0242ac120004",
       "next": "27399416-378b-11ea-b7f6-0242ac120004",
       "previous": "67944510-3786-11ea-b7f6-0242ac120004"
      },
      {
       "current": "091b36c0-378a-11ea-b7f6-0242ac120004",
       "next": "93e57d72-3791-11ea-8b4d-0242ac120004",
       "previous": "67944510-3786-11ea-b7f6-0242ac120004"
      },
      {
       "current": "091b36c0-378a-11ea-b7f6-0242ac120004",
       "next": "93e57d72-3791-11ea-8b4d-0242ac120004",
       "previous": "992f546a-3dc7-11ea-bfd5-0242ac120005"
      },
      {
       "current": "091b36c0-378a-11ea-b7f6-0242ac120004",
       "next": "93e57d72-3791-11ea-8b4d-0242ac120004",
       "previous": "e0d66b64-3dc7-11ea-bfd5-0242ac120005"
      },
      {
       "current": "091b36c0-378a-11ea-b7f6-0242ac120004",
       "next": "93e57d72-3791-11ea-8b4d-0242ac120004",
       "previous": "5c354758-3dc8-11ea-bfd5-0242ac120005"
      },
      {
       "current": "091b36c0-378a-11ea-b7f6-0242ac120004",
       "next": "93e57d72-3791-11ea-8b4d-0242ac120004",
       "previous": "6fc4e9e0-3dc8-11ea-bfd5-0242ac120005"
      },
      {
       "current": "091b36c0-378a-11ea-b7f6-0242ac120004",
       "next": "93e57d72-3791-11ea-8b4d-0242ac120004",
       "previous": "b74c3728-3dc8-11ea-bfd5-0242ac120005"
      },
      {
       "current": "091b36c0-378a-11ea-b7f6-0242ac120004",
       "next": "93e57d72-3791-11ea-8b4d-0242ac120004",
       "previous": "fef1591e-3dc8-11ea-bfd5-0242ac120005"
      },
      {
       "current": "091b36c0-378a-11ea-b7f6-0242ac120004",
       "next": "93e57d72-3791-11ea-8b4d-0242ac120004",
       "previous": "d5686a14-3dc9-11ea-bfd5-0242ac120005"
      },
      {
       "current": "091b36c0-378a-11ea-b7f6-0242ac120004",
       "next": "93e57d72-3791-11ea-8b4d-0242ac120004",
       "previous": "955c337e-3dce-11ea-bfd5-0242ac120005"
      },
      {
       "current": "091b36c0-378a-11ea-b7f6-0242ac120004",
       "next": "93e57d72-3791-11ea-8b4d-0242ac120004",
       "previous": "dd1ca0e0-3dce-11ea-bfd5-0242ac120005"
      },
      {
       "current": "091b36c0-378a-11ea-b7f6-0242ac120004",
       "next": "93e57d72-3791-11ea-8b4d-0242ac120004",
       "previous": "24664780-3dcf-11ea-bfd5-0242ac120005"
      },
      {
       "current": "091b36c0-378a-11ea-b7f6-0242ac120004",
       "next": "27399416-378b-11ea-b7f6-0242ac120004",
       "previous": "24664780-3dcf-11ea-bfd5-0242ac120005"
      }
     ],
     "next": "27399416-378b-11ea-b7f6-0242ac120004",
     "previous": "9c652632-40ab-11ea-91a9-0242ac120004"
    }
   },
   "source": [
    "# RDS構築"
   ]
  },
  {
   "cell_type": "markdown",
   "metadata": {
    "lc_cell_meme": {
     "current": "27399416-378b-11ea-b7f6-0242ac120004",
     "history": [
      {
       "current": "27399416-378b-11ea-b7f6-0242ac120004",
       "next": "2739966e-378b-11ea-b7f6-0242ac120004",
       "previous": "091b36c0-378a-11ea-b7f6-0242ac120004"
      },
      {
       "current": "27399416-378b-11ea-b7f6-0242ac120004",
       "next": "2739975e-378b-11ea-b7f6-0242ac120004",
       "previous": "091b36c0-378a-11ea-b7f6-0242ac120004"
      },
      {
       "current": "27399416-378b-11ea-b7f6-0242ac120004",
       "next": "e68b5d74-378e-11ea-b7f6-0242ac120004",
       "previous": "091b36c0-378a-11ea-b7f6-0242ac120004"
      },
      {
       "current": "27399416-378b-11ea-b7f6-0242ac120004",
       "next": "e68b5d74-378e-11ea-b7f6-0242ac120004",
       "previous": "93e57d72-3791-11ea-8b4d-0242ac120004"
      }
     ],
     "next": "e68b5d74-378e-11ea-b7f6-0242ac120004",
     "previous": "091b36c0-378a-11ea-b7f6-0242ac120004"
    }
   },
   "source": [
    "プライベートなサブネットをサブネットグループとしてまとめる"
   ]
  },
  {
   "cell_type": "code",
   "execution_count": 57,
   "metadata": {
    "lc_cell_meme": {
     "current": "e68b5d74-378e-11ea-b7f6-0242ac120004",
     "execution_end_time": "2020-01-27T02:08:20.903552Z",
     "next": "2739975e-378b-11ea-b7f6-0242ac120004",
     "previous": "27399416-378b-11ea-b7f6-0242ac120004"
    },
    "lc_wrapper": {
     "log_history": [
      "/home/user2/notebooks/AWS/.log/20200115/20200115-120214-0714.log",
      "/home/user2/notebooks/AWS/.log/20200115/20200115-120845-0850.log",
      "/home/user2/notebooks/AWS/.log/20200115/20200115-121605-0011.log",
      "/home/user2/notebooks/AWS/.log/20200123/20200123-074308-0803.log",
      "/home/user2/notebooks/AWS/.log/20200127/20200127-020820-0896.log"
     ]
    }
   },
   "outputs": [
    {
     "name": "stdout",
     "output_type": "stream",
     "text": [
      "mysqlsubnetgroup\n"
     ]
    }
   ],
   "source": [
    "SubnetGroupName = \"mysqlsubnetgroup\"\n",
    "print(SubnetGroupName)"
   ]
  },
  {
   "cell_type": "code",
   "execution_count": 58,
   "metadata": {
    "lc_cell_meme": {
     "current": "2739975e-378b-11ea-b7f6-0242ac120004",
     "execution_end_time": "2020-01-27T02:08:24.541452Z",
     "history": [
      {
       "current": "2739975e-378b-11ea-b7f6-0242ac120004",
       "next": "2739983a-378b-11ea-b7f6-0242ac120004",
       "previous": "2739966e-378b-11ea-b7f6-0242ac120004"
      },
      {
       "current": "2739975e-378b-11ea-b7f6-0242ac120004",
       "next": "2739983a-378b-11ea-b7f6-0242ac120004",
       "previous": "27399416-378b-11ea-b7f6-0242ac120004"
      },
      {
       "current": "2739975e-378b-11ea-b7f6-0242ac120004",
       "next": "2739983a-378b-11ea-b7f6-0242ac120004",
       "previous": "e68b5d74-378e-11ea-b7f6-0242ac120004"
      },
      {
       "current": "2739975e-378b-11ea-b7f6-0242ac120004",
       "next": "0475d330-3791-11ea-8b4d-0242ac120004",
       "previous": "e68b5d74-378e-11ea-b7f6-0242ac120004"
      }
     ],
     "next": "4c7f10d8-3791-11ea-8b4d-0242ac120004",
     "previous": "e68b5d74-378e-11ea-b7f6-0242ac120004"
    },
    "lc_wrapper": {
     "log_history": [
      "/home/user2/notebooks/AWS/.log/20200115/20200115-115857-0939.log",
      "/home/user2/notebooks/AWS/.log/20200115/20200115-120054-0887.log",
      "/home/user2/notebooks/AWS/.log/20200115/20200115-120131-0611.log",
      "/home/user2/notebooks/AWS/.log/20200115/20200115-120158-0708.log",
      "/home/user2/notebooks/AWS/.log/20200115/20200115-120216-0463.log",
      "/home/user2/notebooks/AWS/.log/20200115/20200115-120237-0270.log",
      "/home/user2/notebooks/AWS/.log/20200115/20200115-120305-0073.log",
      "/home/user2/notebooks/AWS/.log/20200115/20200115-120352-0528.log",
      "/home/user2/notebooks/AWS/.log/20200115/20200115-120407-0420.log",
      "/home/user2/notebooks/AWS/.log/20200115/20200115-120509-0470.log",
      "/home/user2/notebooks/AWS/.log/20200115/20200115-120804-0009.log",
      "/home/user2/notebooks/AWS/.log/20200115/20200115-120847-0342.log",
      "/home/user2/notebooks/AWS/.log/20200115/20200115-120908-0084.log",
      "/home/user2/notebooks/AWS/.log/20200115/20200115-120927-0130.log",
      "/home/user2/notebooks/AWS/.log/20200115/20200115-120944-0718.log",
      "/home/user2/notebooks/AWS/.log/20200115/20200115-121033-0303.log",
      "/home/user2/notebooks/AWS/.log/20200115/20200115-121110-0854.log",
      "/home/user2/notebooks/AWS/.log/20200115/20200115-121122-0696.log",
      "/home/user2/notebooks/AWS/.log/20200115/20200115-121410-0667.log",
      "/home/user2/notebooks/AWS/.log/20200115/20200115-121432-0709.log",
      "/home/user2/notebooks/AWS/.log/20200115/20200115-121555-0375.log",
      "/home/user2/notebooks/AWS/.log/20200123/20200123-074310-0288.log",
      "/home/user2/notebooks/AWS/.log/20200127/20200127-020822-0502.log"
     ]
    },
    "scrolled": false
   },
   "outputs": [
    {
     "name": "stdout",
     "output_type": "stream",
     "text": [
      "{\r\n",
      "    \"DBSubnetGroup\": {\r\n",
      "        \"DBSubnetGroupName\": \"mysqlsubnetgroup\",\r\n",
      "        \"DBSubnetGroupDescription\": \"mysql_db_subnet_group\",\r\n",
      "        \"VpcId\": \"vpc-0416a0124d607a464\",\r\n",
      "        \"SubnetGroupStatus\": \"Complete\",\r\n",
      "        \"Subnets\": [\r\n",
      "            {\r\n",
      "                \"SubnetIdentifier\": \"subnet-07d10435b2f2773af\",\r\n",
      "                \"SubnetAvailabilityZone\": {\r\n",
      "                    \"Name\": \"us-west-2c\"\r\n",
      "                },\r\n",
      "                \"SubnetStatus\": \"Active\"\r\n",
      "            },\r\n",
      "            {\r\n",
      "                \"SubnetIdentifier\": \"subnet-0914edd00a3a9a9e5\",\r\n",
      "                \"SubnetAvailabilityZone\": {\r\n",
      "                    \"Name\": \"us-west-2b\"\r\n",
      "                },\r\n",
      "                \"SubnetStatus\": \"Active\"\r\n",
      "            }\r\n",
      "        ],\r\n",
      "        \"DBSubnetGroupArn\": \"arn:aws:rds:us-west-2:565991835156:subgrp:mysqlsubnetgroup\"\r\n",
      "    }\r\n",
      "}\r\n"
     ]
    }
   ],
   "source": [
    "!aws rds create-db-subnet-group \\\n",
    "        --db-subnet-group-name \"{SubnetGroupName}\" \\\n",
    "        --db-subnet-group-description \"mysql_db_subnet_group\" \\\n",
    "        --subnet-ids \"{privateSubnets['Subnets'][0]['SubnetId']}\" \"{privateSubnets['Subnets'][1]['SubnetId']}\""
   ]
  },
  {
   "cell_type": "markdown",
   "metadata": {
    "lc_cell_meme": {
     "current": "4c7f10d8-3791-11ea-8b4d-0242ac120004",
     "next": "0475d330-3791-11ea-8b4d-0242ac120004",
     "previous": "2739975e-378b-11ea-b7f6-0242ac120004"
    }
   },
   "source": [
    "RDSの名前などを定義し、RDSを作成"
   ]
  },
  {
   "cell_type": "code",
   "execution_count": 5,
   "metadata": {
    "deletable": false,
    "editable": false,
    "lc_cell_meme": {
     "current": "0475d330-3791-11ea-8b4d-0242ac120004",
     "execution_end_time": "2020-01-27T06:47:47.096143Z",
     "history": [
      {
       "current": "0475d330-3791-11ea-8b4d-0242ac120004",
       "next": "2739983a-378b-11ea-b7f6-0242ac120004",
       "previous": "2739975e-378b-11ea-b7f6-0242ac120004"
      }
     ],
     "next": "2739983a-378b-11ea-b7f6-0242ac120004",
     "previous": "4c7f10d8-3791-11ea-8b4d-0242ac120004"
    },
    "lc_wrapper": {
     "log_history": [
      "/home/user2/notebooks/AWS/.log/20200115/20200115-121739-0920.log",
      "/home/user2/notebooks/AWS/.log/20200115/20200115-121748-0605.log",
      "/home/user2/notebooks/AWS/.log/20200123/20200123-074314-0156.log",
      "/home/user2/notebooks/AWS/.log/20200127/20200127-020826-0645.log",
      "/home/user2/notebooks/AWS/.log/20200127/20200127-064747-0089.log"
     ]
    },
    "run_through_control": {
     "frozen": true
    }
   },
   "outputs": [],
   "source": [
    "db_name = \"RDS-topse\"\n",
    "db_user = \"root\"\n",
    "db_password = \"password\""
   ]
  },
  {
   "cell_type": "code",
   "execution_count": 60,
   "metadata": {
    "lc_cell_meme": {
     "current": "2739983a-378b-11ea-b7f6-0242ac120004",
     "execution_end_time": "2020-01-27T02:08:30.609719Z",
     "history": [
      {
       "current": "2739983a-378b-11ea-b7f6-0242ac120004",
       "next": "27399916-378b-11ea-b7f6-0242ac120004",
       "previous": "2739975e-378b-11ea-b7f6-0242ac120004"
      },
      {
       "current": "2739983a-378b-11ea-b7f6-0242ac120004",
       "next": "27399916-378b-11ea-b7f6-0242ac120004",
       "previous": "0475d330-3791-11ea-8b4d-0242ac120004"
      },
      {
       "current": "2739983a-378b-11ea-b7f6-0242ac120004",
       "next": "93e57fc0-3791-11ea-8b4d-0242ac120004",
       "previous": "0475d330-3791-11ea-8b4d-0242ac120004"
      },
      {
       "current": "2739983a-378b-11ea-b7f6-0242ac120004",
       "next": "685d561c-27d7-11ea-9cfd-0242ac120005",
       "previous": "0475d330-3791-11ea-8b4d-0242ac120004"
      },
      {
       "current": "2739983a-378b-11ea-b7f6-0242ac120004",
       "next": "64f1fcbe-40d0-11ea-ac6f-0242ac120004",
       "previous": "0475d330-3791-11ea-8b4d-0242ac120004"
      }
     ],
     "next": "f3a62d18-40d0-11ea-ac6f-0242ac120004",
     "previous": "0475d330-3791-11ea-8b4d-0242ac120004"
    },
    "lc_wrapper": {
     "log_history": [
      "/home/user2/notebooks/AWS/.log/20200115/20200115-121904-0220.log",
      "/home/user2/notebooks/AWS/.log/20200123/20200123-074316-0499.log",
      "/home/user2/notebooks/AWS/.log/20200127/20200127-020828-0232.log"
     ]
    }
   },
   "outputs": [
    {
     "name": "stdout",
     "output_type": "stream",
     "text": [
      "{\r\n",
      "    \"DBInstance\": {\r\n",
      "        \"DBInstanceIdentifier\": \"rds-topse\",\r\n",
      "        \"DBInstanceClass\": \"db.t2.micro\",\r\n",
      "        \"Engine\": \"mysql\",\r\n",
      "        \"DBInstanceStatus\": \"creating\",\r\n",
      "        \"MasterUsername\": \"root\",\r\n",
      "        \"AllocatedStorage\": 5,\r\n",
      "        \"PreferredBackupWindow\": \"11:04-11:34\",\r\n",
      "        \"BackupRetentionPeriod\": 1,\r\n",
      "        \"DBSecurityGroups\": [],\r\n",
      "        \"VpcSecurityGroups\": [\r\n",
      "            {\r\n",
      "                \"VpcSecurityGroupId\": \"sg-0d128064e566b1e11\",\r\n",
      "                \"Status\": \"active\"\r\n",
      "            }\r\n",
      "        ],\r\n",
      "        \"DBParameterGroups\": [\r\n",
      "            {\r\n",
      "                \"DBParameterGroupName\": \"default.mysql5.7\",\r\n",
      "                \"ParameterApplyStatus\": \"in-sync\"\r\n",
      "            }\r\n",
      "        ],\r\n",
      "        \"DBSubnetGroup\": {\r\n",
      "            \"DBSubnetGroupName\": \"mysqlsubnetgroup\",\r\n",
      "            \"DBSubnetGroupDescription\": \"mysql_db_subnet_group\",\r\n",
      "            \"VpcId\": \"vpc-0416a0124d607a464\",\r\n",
      "            \"SubnetGroupStatus\": \"Complete\",\r\n",
      "            \"Subnets\": [\r\n",
      "                {\r\n",
      "                    \"SubnetIdentifier\": \"subnet-07d10435b2f2773af\",\r\n",
      "                    \"SubnetAvailabilityZone\": {\r\n",
      "                        \"Name\": \"us-west-2c\"\r\n",
      "                    },\r\n",
      "                    \"SubnetStatus\": \"Active\"\r\n",
      "                },\r\n",
      "                {\r\n",
      "                    \"SubnetIdentifier\": \"subnet-0914edd00a3a9a9e5\",\r\n",
      "                    \"SubnetAvailabilityZone\": {\r\n",
      "                        \"Name\": \"us-west-2b\"\r\n",
      "                    },\r\n",
      "                    \"SubnetStatus\": \"Active\"\r\n",
      "                }\r\n",
      "            ]\r\n",
      "        },\r\n",
      "        \"PreferredMaintenanceWindow\": \"mon:08:00-mon:08:30\",\r\n",
      "        \"PendingModifiedValues\": {\r\n",
      "            \"MasterUserPassword\": \"****\"\r\n",
      "        },\r\n",
      "        \"MultiAZ\": true,\r\n",
      "        \"EngineVersion\": \"5.7.22\",\r\n",
      "        \"AutoMinorVersionUpgrade\": true,\r\n",
      "        \"ReadReplicaDBInstanceIdentifiers\": [],\r\n",
      "        \"LicenseModel\": \"general-public-license\",\r\n",
      "        \"OptionGroupMemberships\": [\r\n",
      "            {\r\n",
      "                \"OptionGroupName\": \"default:mysql-5-7\",\r\n",
      "                \"Status\": \"in-sync\"\r\n",
      "            }\r\n",
      "        ],\r\n",
      "        \"PubliclyAccessible\": false,\r\n",
      "        \"StorageType\": \"gp2\",\r\n",
      "        \"DbInstancePort\": 0,\r\n",
      "        \"StorageEncrypted\": false,\r\n",
      "        \"DbiResourceId\": \"db-IJQOSBG4OKVOXTAQK4I3M46XY4\",\r\n",
      "        \"CACertificateIdentifier\": \"rds-ca-2015\",\r\n",
      "        \"DomainMemberships\": [],\r\n",
      "        \"CopyTagsToSnapshot\": false,\r\n",
      "        \"MonitoringInterval\": 0,\r\n",
      "        \"DBInstanceArn\": \"arn:aws:rds:us-west-2:565991835156:db:rds-topse\",\r\n",
      "        \"IAMDatabaseAuthenticationEnabled\": false,\r\n",
      "        \"PerformanceInsightsEnabled\": false,\r\n",
      "        \"DeletionProtection\": false,\r\n",
      "        \"AssociatedRoles\": []\r\n",
      "    }\r\n",
      "}\r\n"
     ]
    }
   ],
   "source": [
    "!aws rds create-db-instance \\\n",
    "    --db-instance-identifier \"{db_name}\" \\\n",
    "    --allocated-storage 5 \\\n",
    "    --db-instance-class db.t2.micro \\\n",
    "    --engine mysql \\\n",
    "    --master-username \"{db_user}\" \\\n",
    "    --master-user-password \"{db_password}\" \\\n",
    "    --db-subnet-group-name  \"{SubnetGroupName}\" \\\n",
    "    --vpc-security-group-ids \"{ClusterSharedNodeSecurityGroup}\" \\\n",
    "    --multi-az\n"
   ]
  },
  {
   "cell_type": "markdown",
   "metadata": {
    "lc_cell_meme": {
     "current": "f3a62d18-40d0-11ea-ac6f-0242ac120004",
     "next": "f3a62f20-40d0-11ea-ac6f-0242ac120004",
     "previous": "2739983a-378b-11ea-b7f6-0242ac120004"
    }
   },
   "source": [
    "後で使うのでエンドポイントを取得しておく\n"
   ]
  },
  {
   "cell_type": "code",
   "execution_count": 10,
   "metadata": {
    "deletable": false,
    "editable": false,
    "lc_cell_meme": {
     "current": "f3a62f20-40d0-11ea-ac6f-0242ac120004",
     "execution_end_time": "2020-01-27T06:50:36.259627Z",
     "next": "64f1fcbe-40d0-11ea-ac6f-0242ac120004",
     "previous": "f3a62d18-40d0-11ea-ac6f-0242ac120004"
    },
    "lc_wrapper": {
     "log_history": [
      "/home/user2/notebooks/AWS/.log/20200127/20200127-064708-0531.log",
      "/home/user2/notebooks/AWS/.log/20200127/20200127-064742-0200.log",
      "/home/user2/notebooks/AWS/.log/20200127/20200127-064753-0005.log",
      "/home/user2/notebooks/AWS/.log/20200127/20200127-064915-0072.log",
      "/home/user2/notebooks/AWS/.log/20200127/20200127-064918-0880.log",
      "/home/user2/notebooks/AWS/.log/20200127/20200127-065010-0420.log",
      "/home/user2/notebooks/AWS/.log/20200127/20200127-065035-0520.log"
     ]
    },
    "run_through_control": {
     "frozen": true
    }
   },
   "outputs": [
    {
     "name": "stdout",
     "output_type": "stream",
     "text": [
      "rds-topse.ciph33ijhh38.us-west-2.rds.amazonaws.com\n"
     ]
    }
   ],
   "source": [
    "row = !aws rds describe-db-instances \\\n",
    "    --db-instance-identifier \"{db_name}\"\n",
    "import json\n",
    "\n",
    "while row[0].find('{') == -1:\n",
    "    del row[0]\n",
    "row[0] = \"{\"\n",
    "DBInstances =json.loads(''.join(row))\n",
    "\n",
    "db_address = DBInstances[\"DBInstances\"][0][\"Endpoint\"][\"Address\"]\n",
    "\n",
    "print(db_address)"
   ]
  },
  {
   "cell_type": "markdown",
   "metadata": {
    "lc_cell_meme": {
     "current": "64f1fcbe-40d0-11ea-ac6f-0242ac120004",
     "history": [
      {
       "current": "64f1fcbe-40d0-11ea-ac6f-0242ac120004",
       "next": "64f1ff34-40d0-11ea-ac6f-0242ac120004",
       "previous": "2739983a-378b-11ea-b7f6-0242ac120004"
      }
     ],
     "next": "64f1ff34-40d0-11ea-ac6f-0242ac120004",
     "previous": "f3a62f20-40d0-11ea-ac6f-0242ac120004"
    }
   },
   "source": [
    "## データテーブル作成（必要性は要確認）"
   ]
  },
  {
   "cell_type": "code",
   "execution_count": null,
   "metadata": {
    "lc_cell_meme": {
     "current": "64f1ff34-40d0-11ea-ac6f-0242ac120004",
     "next": "685d561c-27d7-11ea-9cfd-0242ac120005",
     "previous": "64f1fcbe-40d0-11ea-ac6f-0242ac120004"
    }
   },
   "outputs": [],
   "source": []
  },
  {
   "cell_type": "markdown",
   "metadata": {
    "lc_cell_meme": {
     "current": "685d561c-27d7-11ea-9cfd-0242ac120005",
     "history": [
      {
       "current": "685d561c-27d7-11ea-9cfd-0242ac120005",
       "next": "d1d4bece-27d1-11ea-9cfd-0242ac120005",
       "previous": "8a4eea02-27d1-11ea-9cfd-0242ac120005"
      },
      {
       "current": "685d561c-27d7-11ea-9cfd-0242ac120005",
       "next": "d1d4bece-27d1-11ea-9cfd-0242ac120005",
       "previous": "93e57fc0-3791-11ea-8b4d-0242ac120004"
      },
      {
       "current": "685d561c-27d7-11ea-9cfd-0242ac120005",
       "next": "d1d4bece-27d1-11ea-9cfd-0242ac120005",
       "previous": "2739983a-378b-11ea-b7f6-0242ac120004"
      }
     ],
     "next": "d1d4bece-27d1-11ea-9cfd-0242ac120005",
     "previous": "64f1ff34-40d0-11ea-ac6f-0242ac120004"
    }
   },
   "source": [
    "適当なポッドを立ち上げる"
   ]
  },
  {
   "cell_type": "code",
   "execution_count": 1,
   "metadata": {
    "lc_cell_meme": {
     "current": "d1d4bece-27d1-11ea-9cfd-0242ac120005",
     "execution_end_time": "2020-01-27T06:43:03.488583Z",
     "history": [
      {
       "current": "d1d4bece-27d1-11ea-9cfd-0242ac120005",
       "next": "19f406f6-27d2-11ea-9cfd-0242ac120005",
       "previous": "8a4eea02-27d1-11ea-9cfd-0242ac120005"
      }
     ],
     "next": "19f406f6-27d2-11ea-9cfd-0242ac120005",
     "previous": "685d561c-27d7-11ea-9cfd-0242ac120005"
    },
    "lc_wrapper": {
     "log_history": [
      "/home/user2/notebooks/.log/20191226/20191226-112112-0329.log",
      "/home/user2/notebooks/.log/20191226/20191226-112515-0117.log",
      "/home/user2/notebooks/.log/20191226/20191226-112733-0187.log",
      "/home/user2/notebooks/.log/20191226/20191226-113444-0977.log",
      "/home/user2/notebooks/.log/20191226/20191226-113617-0646.log",
      "/home/user2/notebooks/.log/20191226/20191226-114039-0437.log",
      "/home/user2/notebooks/.log/20191226/20191226-114326-0964.log",
      "/home/user2/notebooks/.log/20191226/20191226-114405-0329.log",
      "/home/user2/notebooks/.log/20191226/20191226-114618-0128.log",
      "/home/user2/notebooks/.log/20191226/20191226-114630-0321.log",
      "/home/user2/notebooks/.log/20191226/20191226-115201-0471.log",
      "/home/user2/notebooks/.log/20200108/20200108-113747-0759.log",
      "/home/user2/notebooks/AWS/.log/20200127/20200127-064301-0403.log"
     ]
    },
    "scrolled": true
   },
   "outputs": [
    {
     "name": "stdout",
     "output_type": "stream",
     "text": [
      "error: the path \"nginx-deployment.yaml\" does not exist\r\n"
     ]
    },
    {
     "ename": "RuntimeError",
     "evalue": "Unexpected exit code: 1",
     "output_type": "error",
     "traceback": [
      "\u001b[0;31m---------------------------------------------------------------------------\u001b[0m",
      "\u001b[0;31mRuntimeError\u001b[0m                              Traceback (most recent call last)",
      "\u001b[0;32m<ipython-input-1-1fc1a29f968e>\u001b[0m in \u001b[0;36m<module>\u001b[0;34m\u001b[0m\n\u001b[0;32m----> 1\u001b[0;31m \u001b[0mget_ipython\u001b[0m\u001b[0;34m(\u001b[0m\u001b[0;34m)\u001b[0m\u001b[0;34m.\u001b[0m\u001b[0msystem\u001b[0m\u001b[0;34m(\u001b[0m\u001b[0;34m'kubectl apply -f nginx-deployment.yaml'\u001b[0m\u001b[0;34m)\u001b[0m\u001b[0;34m\u001b[0m\u001b[0;34m\u001b[0m\u001b[0m\n\u001b[0m",
      "\u001b[0;32m/opt/conda/etc/ipython/startup/10-custom-get_ipython_system.py\u001b[0m in \u001b[0;36m<lambda>\u001b[0;34m(x)\u001b[0m\n\u001b[1;32m      5\u001b[0m \u001b[0;34m\u001b[0m\u001b[0m\n\u001b[1;32m      6\u001b[0m \u001b[0msave_get_ipython_system\u001b[0m \u001b[0;34m=\u001b[0m \u001b[0mget_ipython\u001b[0m\u001b[0;34m(\u001b[0m\u001b[0;34m)\u001b[0m\u001b[0;34m.\u001b[0m\u001b[0msystem\u001b[0m\u001b[0;34m\u001b[0m\u001b[0;34m\u001b[0m\u001b[0m\n\u001b[0;32m----> 7\u001b[0;31m \u001b[0mget_ipython\u001b[0m\u001b[0;34m(\u001b[0m\u001b[0;34m)\u001b[0m\u001b[0;34m.\u001b[0m\u001b[0msystem\u001b[0m \u001b[0;34m=\u001b[0m \u001b[0;32mlambda\u001b[0m \u001b[0mx\u001b[0m\u001b[0;34m:\u001b[0m \u001b[0mget_ipython_system\u001b[0m\u001b[0;34m(\u001b[0m\u001b[0mx\u001b[0m\u001b[0;34m)\u001b[0m\u001b[0;34m\u001b[0m\u001b[0;34m\u001b[0m\u001b[0m\n\u001b[0m\u001b[1;32m      8\u001b[0m \u001b[0;34m\u001b[0m\u001b[0m\n\u001b[1;32m      9\u001b[0m \u001b[0;31m# interactiveshell.py's system_piped() function comment saids:\u001b[0m\u001b[0;34m\u001b[0m\u001b[0;34m\u001b[0m\u001b[0;34m\u001b[0m\u001b[0m\n",
      "\u001b[0;32m/opt/conda/etc/ipython/startup/10-custom-get_ipython_system.py\u001b[0m in \u001b[0;36mget_ipython_system\u001b[0;34m(_cmd)\u001b[0m\n\u001b[1;32m     13\u001b[0m     \u001b[0msave_get_ipython_system\u001b[0m\u001b[0;34m(\u001b[0m\u001b[0m_cmd\u001b[0m\u001b[0;34m)\u001b[0m\u001b[0;34m\u001b[0m\u001b[0;34m\u001b[0m\u001b[0m\n\u001b[1;32m     14\u001b[0m     \u001b[0;32mif\u001b[0m \u001b[0mget_ipython\u001b[0m\u001b[0;34m(\u001b[0m\u001b[0;34m)\u001b[0m\u001b[0;34m.\u001b[0m\u001b[0muser_ns\u001b[0m\u001b[0;34m[\u001b[0m\u001b[0;34m'_exit_code'\u001b[0m\u001b[0;34m]\u001b[0m \u001b[0;34m!=\u001b[0m \u001b[0;36m0\u001b[0m\u001b[0;34m:\u001b[0m\u001b[0;34m\u001b[0m\u001b[0;34m\u001b[0m\u001b[0m\n\u001b[0;32m---> 15\u001b[0;31m         \u001b[0;32mraise\u001b[0m \u001b[0mRuntimeError\u001b[0m\u001b[0;34m(\u001b[0m\u001b[0;34m'Unexpected exit code: %d'\u001b[0m \u001b[0;34m%\u001b[0m \u001b[0mget_ipython\u001b[0m\u001b[0;34m(\u001b[0m\u001b[0;34m)\u001b[0m\u001b[0;34m.\u001b[0m\u001b[0muser_ns\u001b[0m\u001b[0;34m[\u001b[0m\u001b[0;34m'_exit_code'\u001b[0m\u001b[0;34m]\u001b[0m\u001b[0;34m)\u001b[0m\u001b[0;34m\u001b[0m\u001b[0;34m\u001b[0m\u001b[0m\n\u001b[0m",
      "\u001b[0;31mRuntimeError\u001b[0m: Unexpected exit code: 1"
     ]
    }
   ],
   "source": [
    "!kubectl apply -f nginx-deployment.yaml"
   ]
  },
  {
   "cell_type": "code",
   "execution_count": 29,
   "metadata": {
    "lc_cell_meme": {
     "current": "19f406f6-27d2-11ea-9cfd-0242ac120005",
     "execution_end_time": "2020-01-08T11:37:58.602371Z",
     "next": "19f40926-27d2-11ea-9cfd-0242ac120005",
     "previous": "d1d4bece-27d1-11ea-9cfd-0242ac120005"
    },
    "lc_wrapper": {
     "log_history": [
      "/home/user2/notebooks/.log/20191226/20191226-112252-0059.log",
      "/home/user2/notebooks/.log/20191226/20191226-112520-0732.log",
      "/home/user2/notebooks/.log/20191226/20191226-112540-0629.log",
      "/home/user2/notebooks/.log/20191226/20191226-114632-0822.log",
      "/home/user2/notebooks/.log/20191226/20191226-115205-0391.log",
      "/home/user2/notebooks/.log/20200108/20200108-111219-0352.log",
      "/home/user2/notebooks/.log/20200108/20200108-112846-0561.log",
      "/home/user2/notebooks/.log/20200108/20200108-113756-0774.log"
     ]
    },
    "scrolled": true
   },
   "outputs": [
    {
     "name": "stdout",
     "output_type": "stream",
     "text": [
      "NAME                         READY   STATUS    RESTARTS   AGE\r\n",
      "nginx-6ccb948d4-96cc9        1/1     Running   0          9s\r\n",
      "wordpress-685cb5c9b6-mqw5b   1/1     Running   0          36m\r\n"
     ]
    }
   ],
   "source": [
    "!kubectl get pod"
   ]
  },
  {
   "cell_type": "markdown",
   "metadata": {
    "lc_cell_meme": {
     "current": "19f40926-27d2-11ea-9cfd-0242ac120005",
     "history": [
      {
       "current": "19f40926-27d2-11ea-9cfd-0242ac120005",
       "next": null,
       "previous": "19f406f6-27d2-11ea-9cfd-0242ac120005"
      },
      {
       "current": "19f40926-27d2-11ea-9cfd-0242ac120005",
       "next": "685d5964-27d7-11ea-9cfd-0242ac120005",
       "previous": "19f406f6-27d2-11ea-9cfd-0242ac120005"
      },
      {
       "current": "19f40926-27d2-11ea-9cfd-0242ac120005",
       "next": "93e580b0-3791-11ea-8b4d-0242ac120004",
       "previous": "19f406f6-27d2-11ea-9cfd-0242ac120005"
      }
     ],
     "next": "685d5964-27d7-11ea-9cfd-0242ac120005",
     "previous": "19f406f6-27d2-11ea-9cfd-0242ac120005"
    }
   },
   "source": [
    "ターミナルを開き、以下のようにログインしてDBを作成する\n",
    "\n",
    "```\n",
    "kubectl exec -it nginx-6ccb948d4-96cc9  /bin/bash\n",
    "\n",
    "apt update\n",
    "apt install -y mariadb-client\n",
    "mariadb -u root --password=\"password\" -h user2-db.ciph33ijhh38.us-west-2.rds.amazonaws.com\n",
    "CREATE DATABASE wordpress;\n",
    "exit\n",
    "exit\n",
    "```\n",
    "\n"
   ]
  },
  {
   "cell_type": "markdown",
   "metadata": {
    "lc_cell_meme": {
     "current": "685d5964-27d7-11ea-9cfd-0242ac120005",
     "history": [
      {
       "current": "685d5964-27d7-11ea-9cfd-0242ac120005",
       "next": null,
       "previous": "19f40926-27d2-11ea-9cfd-0242ac120005"
      }
     ],
     "next": "64f20024-40d0-11ea-ac6f-0242ac120004",
     "previous": "19f40926-27d2-11ea-9cfd-0242ac120005"
    }
   },
   "source": [
    "いらないポッドを削除する"
   ]
  },
  {
   "cell_type": "code",
   "execution_count": null,
   "metadata": {
    "lc_cell_meme": {
     "current": "64f20024-40d0-11ea-ac6f-0242ac120004",
     "next": "64f20100-40d0-11ea-ac6f-0242ac120004",
     "previous": "685d5964-27d7-11ea-9cfd-0242ac120005"
    }
   },
   "outputs": [],
   "source": [
    "!kubectl delete  -f nginx-deployment.yaml"
   ]
  },
  {
   "cell_type": "markdown",
   "metadata": {
    "lc_cell_meme": {
     "current": "64f20100-40d0-11ea-ac6f-0242ac120004",
     "next": "64f201c8-40d0-11ea-ac6f-0242ac120004",
     "previous": "64f20024-40d0-11ea-ac6f-0242ac120004"
    }
   },
   "source": [
    "# Kubectl デプロイ定義ファイルの編集(いらんかも)"
   ]
  },
  {
   "cell_type": "markdown",
   "metadata": {
    "lc_cell_meme": {
     "current": "64f201c8-40d0-11ea-ac6f-0242ac120004",
     "next": "64f20290-40d0-11ea-ac6f-0242ac120004",
     "previous": "64f20100-40d0-11ea-ac6f-0242ac120004"
    }
   },
   "source": [
    "まずは確認"
   ]
  },
  {
   "cell_type": "code",
   "execution_count": 2,
   "metadata": {
    "deletable": false,
    "editable": false,
    "lc_cell_meme": {
     "current": "64f20290-40d0-11ea-ac6f-0242ac120004",
     "execution_end_time": "2020-01-27T06:43:43.953425Z",
     "next": "64f20362-40d0-11ea-ac6f-0242ac120004",
     "previous": "64f201c8-40d0-11ea-ac6f-0242ac120004"
    },
    "lc_wrapper": {
     "log_history": [
      "/home/user2/notebooks/AWS/.log/20200127/20200127-064342-0998.log"
     ]
    },
    "run_through_control": {
     "frozen": true
    }
   },
   "outputs": [
    {
     "name": "stdout",
     "output_type": "stream",
     "text": [
      "apiVersion: apps/v1\r\n",
      "\r\n",
      "kind: Deployment\r\n",
      "metadata:\r\n",
      "  name: wordpress\r\n",
      "  labels:\r\n",
      "    app: wordpress\r\n",
      "spec:\r\n",
      "  replicas: 2\r\n",
      "  selector:\r\n",
      "    matchLabels:\r\n",
      "      app: wordpress\r\n",
      "  template:\r\n",
      "    metadata:\r\n",
      "      labels:\r\n",
      "        app: wordpress\r\n",
      "    spec:\r\n",
      "      containers:\r\n",
      "        - image: wordpress:4.8-apache\r\n",
      "          name: wordpress\r\n",
      "          volumeMounts:\r\n",
      "            - name: efs-pvc\r\n",
      "              mountPath: \"/var/www/html/wp-content/uploads\"\r\n",
      "          env:\r\n",
      "          - name: WORDPRESS_DB_HOST\r\n",
      "            value: rds-topse.ciph33ijhh38.us-west-2.rds.amazonaws.com:3306\r\n",
      "          - name: WORDPRESS_DB_PASSWORD\r\n",
      "            value: password\r\n",
      "\r\n",
      "          ports:\r\n",
      "            - containerPort: 80\r\n",
      "              name: wordpress\r\n",
      "          lifecycle:\r\n",
      "            postStart:\r\n",
      "              exec:\r\n",
      "                command: [\"/bin/sh\", \"-c\", \"chown -R www-data:www-data /var/www/html/wp-content/uploads\"]\r\n",
      "      volumes:\r\n",
      "        - name: efs-pvc\r\n",
      "          persistentVolumeClaim:\r\n",
      "            claimName: efs\r\n"
     ]
    }
   ],
   "source": [
    "!cat yaml/wordpress-deploy.yaml"
   ]
  },
  {
   "cell_type": "markdown",
   "metadata": {
    "lc_cell_meme": {
     "current": "64f20362-40d0-11ea-ac6f-0242ac120004",
     "history": [
      {
       "current": "64f20362-40d0-11ea-ac6f-0242ac120004",
       "next": null,
       "previous": "64f20290-40d0-11ea-ac6f-0242ac120004"
      }
     ],
     "next": "ac4aae44-40d0-11ea-ac6f-0242ac120004",
     "previous": "64f20290-40d0-11ea-ac6f-0242ac120004"
    }
   },
   "source": [
    "RDSのアドレスを変更する"
   ]
  },
  {
   "cell_type": "code",
   "execution_count": 12,
   "metadata": {
    "deletable": false,
    "editable": false,
    "lc_cell_meme": {
     "current": "ac4aae44-40d0-11ea-ac6f-0242ac120004",
     "execution_end_time": "2020-01-27T06:52:01.506458Z",
     "history": [
      {
       "current": "ac4aae44-40d0-11ea-ac6f-0242ac120004",
       "next": null,
       "previous": "64f20362-40d0-11ea-ac6f-0242ac120004"
      }
     ],
     "next": "82dcc730-40d1-11ea-ac6f-0242ac120004",
     "previous": "64f20362-40d0-11ea-ac6f-0242ac120004"
    },
    "lc_wrapper": {
     "log_history": [
      "/home/user2/notebooks/AWS/.log/20200127/20200127-065154-0818.log",
      "/home/user2/notebooks/AWS/.log/20200127/20200127-065201-0496.log"
     ]
    },
    "run_through_control": {
     "frozen": true
    }
   },
   "outputs": [],
   "source": [
    "import re\n",
    "\n",
    "before_str=r'''- name: WORDPRESS_DB_HOST\n",
    "            value: \\S*'''\n",
    "\n",
    "after_str='''- name: WORDPRESS_DB_HOST\n",
    "            value: {db_address}\n",
    "'''.format(db_address=db_address).strip()\n",
    "\n",
    "f = open('yaml/wordpress-deploy.yaml','r')\n",
    "body = f.read()\n",
    "new_body = re.sub(before_str, after_str, body, flags=re.DOTALL)\n",
    "f.close()\n",
    "\n",
    "f = open('yaml/wordpress-deploy.yaml','w')\n",
    "f.write(new_body)\n",
    "f.close()"
   ]
  },
  {
   "cell_type": "code",
   "execution_count": 13,
   "metadata": {
    "deletable": false,
    "editable": false,
    "lc_cell_meme": {
     "current": "82dcc730-40d1-11ea-ac6f-0242ac120004",
     "execution_end_time": "2020-01-27T06:52:08.480109Z",
     "history": [
      {
       "current": "82dcc730-40d1-11ea-ac6f-0242ac120004",
       "next": null,
       "previous": "ac4aae44-40d0-11ea-ac6f-0242ac120004"
      }
     ],
     "next": "94ff4960-40d1-11ea-ac6f-0242ac120004",
     "previous": "ac4aae44-40d0-11ea-ac6f-0242ac120004"
    },
    "lc_wrapper": {
     "log_history": [
      "/home/user2/notebooks/AWS/.log/20200127/20200127-065207-0525.log"
     ]
    },
    "run_through_control": {
     "frozen": true
    }
   },
   "outputs": [
    {
     "name": "stdout",
     "output_type": "stream",
     "text": [
      "apiVersion: apps/v1\r\n",
      "\r\n",
      "kind: Deployment\r\n",
      "metadata:\r\n",
      "  name: wordpress\r\n",
      "  labels:\r\n",
      "    app: wordpress\r\n",
      "spec:\r\n",
      "  replicas: 2\r\n",
      "  selector:\r\n",
      "    matchLabels:\r\n",
      "      app: wordpress\r\n",
      "  template:\r\n",
      "    metadata:\r\n",
      "      labels:\r\n",
      "        app: wordpress\r\n",
      "    spec:\r\n",
      "      containers:\r\n",
      "        - image: wordpress:4.8-apache\r\n",
      "          name: wordpress\r\n",
      "          volumeMounts:\r\n",
      "            - name: efs-pvc\r\n",
      "              mountPath: \"/var/www/html/wp-content/uploads\"\r\n",
      "          env:\r\n",
      "          - name: WORDPRESS_DB_HOST\r\n",
      "            value: rds-topse.ciph33ijhh38.us-west-2.rds.amazonaws.com\r\n",
      "          - name: WORDPRESS_DB_PASSWORD\r\n",
      "            value: password\r\n",
      "\r\n",
      "          ports:\r\n",
      "            - containerPort: 80\r\n",
      "              name: wordpress\r\n",
      "          lifecycle:\r\n",
      "            postStart:\r\n",
      "              exec:\r\n",
      "                command: [\"/bin/sh\", \"-c\", \"chown -R www-data:www-data /var/www/html/wp-content/uploads\"]\r\n",
      "      volumes:\r\n",
      "        - name: efs-pvc\r\n",
      "          persistentVolumeClaim:\r\n",
      "            claimName: efs\r\n"
     ]
    }
   ],
   "source": [
    "!cat yaml/wordpress-deploy.yaml"
   ]
  },
  {
   "cell_type": "code",
   "execution_count": null,
   "metadata": {
    "lc_cell_meme": {
     "current": "94ff4960-40d1-11ea-ac6f-0242ac120004",
     "next": null,
     "previous": "82dcc730-40d1-11ea-ac6f-0242ac120004"
    }
   },
   "outputs": [],
   "source": []
  }
 ],
 "metadata": {
  "kernelspec": {
   "display_name": "Python 3",
   "language": "python",
   "name": "python3"
  },
  "language_info": {
   "file_extension": ".py",
   "mimetype": "text/x-python",
   "name": "python",
   "nbconvert_exporter": "python",
   "pygments_lexer": "ipython3",
   "version": "3.7.3"
  },
  "lc_notebook_meme": {
   "current": "22998cf2-14c9-11ea-8ffe-0242ac110002",
   "lc_server_signature": {
    "current": {
     "notebook_dir": "/home/user2/notebooks",
     "notebook_path": "/AWS",
     "server_url": "https://operationhub.kgr-lab.com/user/user2/",
     "signature_id": "ae27fcb2-043f-11ea-b29c-0242ac120002"
    },
    "history": [
     {
      "notebook_dir": "/home/jovyan",
      "notebook_path": "/work/lc4ri",
      "server_url": "http://192.168.0.106:8888/",
      "signature_id": "c932e082-14c8-11ea-8ffe-0242ac110002"
     },
     {
      "notebook_dir": "/home/jovyan",
      "notebook_path": "/work/lc4ri",
      "server_url": "http://192.168.0.105:8888/",
      "signature_id": "257243ec-14fb-11ea-8d3b-0242ac110002"
     },
     {
      "notebook_dir": "/home/user5/notebooks",
      "notebook_path": "/seminar-lc4ri/AWS",
      "server_url": "https://operationhub.kgr-lab.com/user/user5/",
      "signature_id": "ae27fcb2-043f-11ea-b29c-0242ac120002"
     },
     {
      "notebook_dir": "/home/user2/notebooks",
      "notebook_path": "/AWS",
      "server_url": "https://operationhub.kgr-lab.com/user/user2/",
      "signature_id": "ae27fcb2-043f-11ea-b29c-0242ac120002"
     },
     {
      "notebook_dir": "/home/user5/notebooks",
      "notebook_path": "/seminar-lc4ri/AWS",
      "server_url": "https://operationhub.kgr-lab.com/user/user5/",
      "signature_id": "ae27fcb2-043f-11ea-b29c-0242ac120002"
     }
    ]
   }
  },
  "toc": {
   "base_numbering": 1,
   "nav_menu": {},
   "number_sections": true,
   "sideBar": true,
   "skip_h1_title": false,
   "title_cell": "Table of Contents",
   "title_sidebar": "Contents",
   "toc_cell": false,
   "toc_position": {
    "height": "calc(100% - 180px)",
    "left": "10px",
    "top": "150px",
    "width": "165px"
   },
   "toc_section_display": true,
   "toc_window_display": true
  }
 },
 "nbformat": 4,
 "nbformat_minor": 2
}
